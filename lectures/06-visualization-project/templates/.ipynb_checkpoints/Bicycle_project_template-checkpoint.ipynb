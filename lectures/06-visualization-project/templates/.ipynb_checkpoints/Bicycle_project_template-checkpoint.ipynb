{
 "cells": [
  {
   "cell_type": "code",
   "execution_count": 54,
   "id": "6591ad15",
   "metadata": {},
   "outputs": [],
   "source": [
    "import pandas as pd\n",
    "import pylab as pl\n",
    "from IPython import embed\n",
    "from ipywidgets import HTML\n",
    "from ipywidgets.embed import embed_minimal_html\n",
    "from ipyleaflet import Map, Marker, basemaps, basemap_to_tiles, Circle, Polyline, Heatmap\n",
    "\n",
    "trips = pd.read_csv(\"../data/bysykkel/trips-2021.9.1-2021.9.30.csv\")\n",
    "station_data = trips.groupby(['start_station_id', 'start_station_longitude', \n",
    "                    'start_station_latitude', 'start_station_name']).count()\n",
    "station_data = station_data.reset_index()\n",
    "station_data = station_data.drop(columns=station_data.columns[-7:])\n",
    "station_data = station_data.rename(columns={'started_at':'started_trips'})\n",
    "station_data = station_data.set_index('start_station_id')\n",
    "station_data['ended_trips'] = trips['end_station_id'].value_counts()\n"
   ]
  },
  {
   "cell_type": "code",
   "execution_count": 101,
   "id": "c408fbd3",
   "metadata": {},
   "outputs": [
    {
     "data": {
      "application/vnd.jupyter.widget-view+json": {
       "model_id": "b56ff1d9da154113a1176df1d7a2017f",
       "version_major": 2,
       "version_minor": 0
      },
      "text/plain": [
       "Map(center=[59.9127, 10.7461], controls=(ZoomControl(options=['position', 'zoom_in_text', 'zoom_in_title', 'zo…"
      ]
     },
     "metadata": {},
     "output_type": "display_data"
    }
   ],
   "source": [
    "\n",
    "oslo_center = 59.9127, 10.7461    #NB ipyleaflet uses Lat-Long (i.e. y,x, when specifying coordinates)\n",
    "oslo_map = Map(basemap=basemap_to_tiles(basemaps.OpenStreetMap.Mapnik),center=oslo_center, zoom=13)\n",
    "\n",
    "\n",
    "def add_markers(row):\n",
    "    # in this function the variable row represents one row (station_data.iloc) in a loop\n",
    "    center = row['start_station_latitude'], row['start_station_longitude'] \n",
    "    marker = Marker(location=center, title=row['start_station_name'])\n",
    "    oslo_map.add_layer(marker)\n",
    "    \n",
    "\n",
    "\n",
    "def add_lines(row):\n",
    "    start = row['start_station_latitude'], row['start_station_longitude']\n",
    "    #end = # decide on an endpoint of a line\n",
    "    l = Polyline(locations=[start,end], color=\"green\", fill=False)\n",
    "    oslo_map.add_layer(l)\n",
    "    circle.popup = HTML(f\"{row['end_station_name']} <br> Trips ended: {end_stations[row['end_station_id']]}\")\n",
    "\n",
    "\n",
    "def add_one_line():\n",
    "    station0 = station_data[station_data[\"start_station_name\"] == \"Storo Storsenter\"]\n",
    "    station1 = station_data[station_data[\"start_station_name\"] == \"BI Nydalen\"]\n",
    "    start = float(station0[\"start_station_latitude\"]), float(station0[\"start_station_longitude\"])\n",
    "    end = float(station1[\"start_station_latitude\"]), float(station1[\"start_station_longitude\"])\n",
    "    l = Polyline(locations=[start,end], color=\"green\", fill=False)\n",
    "    oslo_map.add_layer(l)\n",
    "    \n",
    "\n",
    "def add_heatmap_two_stations():\n",
    "    name = \"BI Nydalen\"\n",
    "    location = station_data[station_data[\"start_station_name\"] == name]\n",
    "    l0,l1 = float(location[\"start_station_latitude\"]), float(location[\"start_station_longitude\"])\n",
    "    intensity = (trips[trips[\"start_station_name\"] == name].count())[0]\n",
    "    \n",
    "    max_intensity = 1592\n",
    "    scale = 40     # seems to be the \"maximal\" intensity on the image\n",
    "    \n",
    "    gradient = {0.4: \"blue\", 0.6: \"cyan\", 0.7: \"lime\", 0.8: \"yellow\", 1.0: \"red\"}\n",
    "    \n",
    "    locations = [l0,l1,intensity]\n",
    "    \n",
    "    name2 = \"Storo Storsenter\"\n",
    "    location2 = station_data[station_data[\"start_station_name\"] == name2]\n",
    "    l02,l12 = float(location2[\"start_station_latitude\"]), float(location2[\"start_station_longitude\"])\n",
    "    intensity2 = (trips[trips[\"start_station_name\"] == name2].count())[0]\n",
    "    locations2 = [l02,l12,intensity2]\n",
    "    \n",
    "    heat = Heatmap(locations=[[l0,l1,intensity/max_intensity*scale],[l02, l12, intensity2/max_intensity*scale]], radius=20, blur=10,gradient=gradient)\n",
    "    oslo_map.add_layer(heat)\n",
    "\n",
    "    \n",
    "#station_data.apply(add_markers, axis=1) #Adds markers to all bike stations\n",
    "add_one_line()\n",
    "add_heatmap_two_stations()\n",
    "oslo_map\n"
   ]
  },
  {
   "cell_type": "code",
   "execution_count": null,
   "id": "13740ff7",
   "metadata": {},
   "outputs": [],
   "source": []
  }
 ],
 "metadata": {
  "kernelspec": {
   "display_name": "Python 3 (ipykernel)",
   "language": "python",
   "name": "python3"
  },
  "language_info": {
   "codemirror_mode": {
    "name": "ipython",
    "version": 3
   },
   "file_extension": ".py",
   "mimetype": "text/x-python",
   "name": "python",
   "nbconvert_exporter": "python",
   "pygments_lexer": "ipython3",
   "version": "3.9.12"
  }
 },
 "nbformat": 4,
 "nbformat_minor": 5
}
