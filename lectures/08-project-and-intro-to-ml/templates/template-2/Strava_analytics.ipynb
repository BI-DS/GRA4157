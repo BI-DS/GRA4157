{
 "cells": [
  {
   "cell_type": "code",
   "execution_count": 1,
   "id": "2aab9340",
   "metadata": {},
   "outputs": [],
   "source": [
    "from bs4 import BeautifulSoup\n",
    "from datetime import datetime\n",
    "import pandas as pd\n",
    "import pylab as pl\n",
    "from IPython import embed\n",
    "from ipywidgets import HTML\n",
    "from ipywidgets.embed import embed_minimal_html\n",
    "from ipyleaflet import Map, Marker, basemaps, basemap_to_tiles, Circle, Polyline, Heatmap\n",
    "\n",
    "src = open(\"Evening_Ride.gpx\")\n",
    "document = BeautifulSoup(src, 'xml')\n",
    "measurements = document.find(\"trk\")"
   ]
  },
  {
   "cell_type": "code",
   "execution_count": 2,
   "id": "e92aafd1",
   "metadata": {},
   "outputs": [],
   "source": [
    "points = measurements.find_all('trkpt')"
   ]
  },
  {
   "cell_type": "code",
   "execution_count": 3,
   "id": "014471bb",
   "metadata": {},
   "outputs": [],
   "source": [
    "lat, lon, ele, t = [],[],[],[]\n",
    "for point in points:\n",
    "    la = point.attrs[\"lat\"]\n",
    "    lo = point.attrs[\"lon\"]\n",
    "    time = point.find(\"time\").get_text()\n",
    "    datetime.strptime(time, \"%Y-%m-%dT%H:%M:%SZ\")\n",
    "    elevation = point.find(\"ele\").get_text()\n",
    "    lat.append(la)\n",
    "    lon.append(lo)\n",
    "    t.append(time)\n",
    "    ele.append(elevation)"
   ]
  },
  {
   "cell_type": "code",
   "execution_count": 4,
   "id": "626decbd",
   "metadata": {},
   "outputs": [],
   "source": [
    "oslo_center = 59.9127, 10.7461    #NB ipyleaflet uses Lat-Long (i.e. y,x, when specifying coordinates)\n",
    "oslo_map = Map(basemap=basemap_to_tiles(basemaps.OpenStreetMap.Mapnik),center=oslo_center, zoom=13)"
   ]
  },
  {
   "cell_type": "code",
   "execution_count": 5,
   "id": "f39e08aa",
   "metadata": {},
   "outputs": [],
   "source": [
    "def add_lines():\n",
    "    l = Polyline(locations=list(zip(lat,lon)), color=\"green\", fill=False)\n",
    "    oslo_map.add_layer(l)"
   ]
  },
  {
   "cell_type": "code",
   "execution_count": 6,
   "id": "0cb8fc8c",
   "metadata": {
    "scrolled": true
   },
   "outputs": [
    {
     "data": {
      "application/vnd.jupyter.widget-view+json": {
       "model_id": "d03a4b389a0a49dfb3b068fbc62cf75f",
       "version_major": 2,
       "version_minor": 0
      },
      "text/plain": [
       "Map(center=[59.9127, 10.7461], controls=(ZoomControl(options=['position', 'zoom_in_text', 'zoom_in_title', 'zo…"
      ]
     },
     "execution_count": 6,
     "metadata": {},
     "output_type": "execute_result"
    }
   ],
   "source": [
    "add_lines()\n",
    "oslo_map"
   ]
  },
  {
   "cell_type": "code",
   "execution_count": null,
   "id": "7e5447db",
   "metadata": {},
   "outputs": [],
   "source": []
  }
 ],
 "metadata": {
  "kernelspec": {
   "display_name": "Python 3 (ipykernel)",
   "language": "python",
   "name": "python3"
  },
  "language_info": {
   "codemirror_mode": {
    "name": "ipython",
    "version": 3
   },
   "file_extension": ".py",
   "mimetype": "text/x-python",
   "name": "python",
   "nbconvert_exporter": "python",
   "pygments_lexer": "ipython3",
   "version": "3.10.8"
  }
 },
 "nbformat": 4,
 "nbformat_minor": 5
}
