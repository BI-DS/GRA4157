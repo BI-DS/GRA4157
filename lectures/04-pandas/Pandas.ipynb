{
 "cells": [
  {
   "cell_type": "markdown",
   "metadata": {
    "slideshow": {
     "slide_type": "slide"
    }
   },
   "source": [
    "# Pandas - Data Analysis with Python\n",
    "\n",
    "\n",
    "Pandas is a high-performance, easy-to-use data structures and data analysis tools.\n",
    "\n",
    "<img src=\"images/pandas.jpg\" style=\"width: 500px;\"/>"
   ]
  },
  {
   "cell_type": "markdown",
   "metadata": {
    "slideshow": {
     "slide_type": "subslide"
    }
   },
   "source": [
    "## What is it good for?\n",
    "\n",
    "Working with (large) data sets and created automated data processes.\n",
    "\n",
    "Pandas is extensively used to prepare data in data science (machine learning, data analytics, ...)\n",
    "\n",
    "**Examples**: \n",
    "* **Import and export** data into standard formats (CSV, Excel, Latex, ..).\n",
    "* Combine with Numpy for **advanced computations** or Matplotlib for **visualisations**.\n",
    "* Calculate **statistics** and answer questions about the data, like\n",
    "  * What's the average, median, max, or min of each column?\n",
    "  * Does column A correlate with column B?\n",
    "  * What does the distribution of data in column C look like?\n",
    "* **Clean** up data (e.g. fill out missing information and fix inconsistent formatting) and **merge** multiple data sets into one common dataset.\n",
    "\n"
   ]
  },
  {
   "cell_type": "markdown",
   "metadata": {
    "slideshow": {
     "slide_type": "slide"
    }
   },
   "source": [
    "## Some interesting data sources\n",
    "\n",
    "### (Norsk) Statistisk sentralbyrå\n",
    "https://www.ssb.no\n",
    "\n",
    "Employment rates, immigration rates housing market, ...\n",
    "\n",
    "<img src=\"images/ssb.png\" style=\"width: 400px;\"/>"
   ]
  },
  {
   "cell_type": "markdown",
   "metadata": {
    "slideshow": {
     "slide_type": "subslide"
    }
   },
   "source": [
    "### Finn API \n",
    "https://www.finn.no/api\n",
    "\n",
    "Note: Unfortunately currently only open for business\n",
    "\n",
    "\n",
    "\n",
    "### Oslo Bysykkel API\n",
    "\n",
    "https://oslobysykkel.no/en/open-data\n",
    "\n",
    "Live usage data and statistics.\n",
    "\n",
    "**!! This lecture will use this data.**"
   ]
  },
  {
   "cell_type": "markdown",
   "metadata": {
    "slideshow": {
     "slide_type": "subslide"
    }
   },
   "source": [
    "### Ruter API \n",
    "https://developer.entur.org\n",
    "\n",
    "Travel planning and live departure information. For example live departure information \n",
    "\n",
    "\n",
    "<img src=\"images/raspberry_pi_project.jpg\" style=\"width: 300px;\"/>\n",
    "\n",
    "(Credits: Malte Pliszewski)"
   ]
  },
  {
   "cell_type": "markdown",
   "metadata": {
    "slideshow": {
     "slide_type": "subslide"
    }
   },
   "source": [
    "### YR data\n",
    "http://om.yr.no/verdata/free-weather-data/\n",
    "\n",
    "### Financial and economic data\n",
    "https://www.quandl.com/\n",
    "\n",
    "### And lots lots more:\n",
    "\n",
    "* Almost every \"smart\" device, internet of things, ..."
   ]
  },
  {
   "cell_type": "markdown",
   "metadata": {
    "slideshow": {
     "slide_type": "subslide"
    }
   },
   "source": [
    "## More information\n",
    "\n",
    "* Official Pandas documentation: http://pandas.pydata.org/pandas-docs/stable/tutorials.html \n",
    "* Pandas cookbook: http://pandas.pydata.org/pandas-docs/stable/cookbook.html\n",
    "* Wes McKinney, Python for Data Analysis \n",
    "![Python for Data Analysis](images/python_for_data_analysis.gif \"Python for Data Analysis\")"
   ]
  },
  {
   "cell_type": "markdown",
   "metadata": {
    "slideshow": {
     "slide_type": "subslide"
    }
   },
   "source": [
    "## Installation\n",
    "\n",
    "* If you have Anaconda: Already installed\n",
    "* If you have Miniconda: \n",
    "      conda install pandas\n",
    "* If you have your another Python distribution: \n",
    "      python3 -m pip install pandas"
   ]
  },
  {
   "cell_type": "markdown",
   "metadata": {
    "slideshow": {
     "slide_type": "slide"
    }
   },
   "source": [
    "## Quick guide through Pandas\n"
   ]
  },
  {
   "cell_type": "code",
   "execution_count": 1,
   "metadata": {
    "slideshow": {
     "slide_type": "-"
    }
   },
   "outputs": [],
   "source": [
    "%matplotlib inline"
   ]
  },
  {
   "cell_type": "markdown",
   "metadata": {},
   "source": [
    "First import pandas (and numpy) as usual."
   ]
  },
  {
   "cell_type": "code",
   "execution_count": 2,
   "metadata": {
    "slideshow": {
     "slide_type": "subslide"
    }
   },
   "outputs": [],
   "source": [
    "import pandas as pd\n",
    "import numpy as np\n",
    "import matplotlib.pyplot as plt"
   ]
  },
  {
   "cell_type": "markdown",
   "metadata": {
    "slideshow": {
     "slide_type": "subslide"
    }
   },
   "source": [
    "## The basic data structures of Pandas\n",
    "\n",
    "<center>\n",
    "<img src=\"https://storage.googleapis.com/lds-media/images/series-and-dataframe.width-1200.png\n",
    "\" style=\"width: 500px;\"/>\n",
    "\n",
    "    Figure: Fundamental data types in Pandas.\n",
    "    (Image source: https://www.learndatasci.com)\n",
    "</center>"
   ]
  },
  {
   "cell_type": "markdown",
   "metadata": {
    "slideshow": {
     "slide_type": "subslide"
    }
   },
   "source": [
    "### Series \n",
    "\n",
    "Series in Pands are 1-dimensional, axis-labeled array capable of holding any data type.\n",
    "\n",
    "The simplest way to create a Series is from a list:"
   ]
  },
  {
   "cell_type": "code",
   "execution_count": 3,
   "metadata": {},
   "outputs": [
    {
     "data": {
      "text/plain": [
       "0    1.0\n",
       "1    3.0\n",
       "2    5.0\n",
       "3    NaN\n",
       "4    6.0\n",
       "5    8.0\n",
       "dtype: float64"
      ]
     },
     "execution_count": 3,
     "metadata": {},
     "output_type": "execute_result"
    }
   ],
   "source": [
    "s1 = pd.Series([1, 3, 5, np.nan, 6, 8])\n",
    "s1"
   ]
  },
  {
   "cell_type": "markdown",
   "metadata": {},
   "source": [
    "* Pandas relies on numpy to store the underlying data. Note the dtype property that we already know from numpy. \n",
    "* If no dtype is specified, it chooses a stuitable dtype for your data. "
   ]
  },
  {
   "cell_type": "markdown",
   "metadata": {
    "slideshow": {
     "slide_type": "subslide"
    }
   },
   "source": [
    "## Specifying the axis label\n",
    "\n",
    "By default, the data is labeld by integers. This can be changed with:"
   ]
  },
  {
   "cell_type": "code",
   "execution_count": 4,
   "metadata": {},
   "outputs": [
    {
     "data": {
      "text/plain": [
       "a    1.0\n",
       "b    3.0\n",
       "c    5.0\n",
       "d    NaN\n",
       "e    6.0\n",
       "f    8.0\n",
       "dtype: float64"
      ]
     },
     "execution_count": 4,
     "metadata": {},
     "output_type": "execute_result"
    }
   ],
   "source": [
    "s2 = pd.Series([1, 3, 5, np.nan, 6, 8], index=[\"a\", \"b\", \"c\", \"d\", \"e\", \"f\"])\n",
    "s2"
   ]
  },
  {
   "cell_type": "markdown",
   "metadata": {
    "slideshow": {
     "slide_type": "subslide"
    }
   },
   "source": [
    "# Time-series data\n",
    "\n",
    "A common use-case is to have data labeled with time stamps (for instance price, currency and weather data).\n",
    "\n"
   ]
  },
  {
   "cell_type": "code",
   "execution_count": 5,
   "metadata": {},
   "outputs": [
    {
     "data": {
      "text/plain": [
       "DatetimeIndex(['2018-10-23', '2019-01-04', '2019-03-18', '2019-05-30',\n",
       "               '2019-08-11', '2019-10-23'],\n",
       "              dtype='datetime64[ns]', freq=None)"
      ]
     },
     "execution_count": 5,
     "metadata": {},
     "output_type": "execute_result"
    }
   ],
   "source": [
    "dates = pd.date_range(start='20181023', end='20191023', periods=6)\n",
    "dates"
   ]
  },
  {
   "cell_type": "code",
   "execution_count": 6,
   "metadata": {},
   "outputs": [
    {
     "data": {
      "text/plain": [
       "2018-10-23    1.0\n",
       "2019-01-04    3.0\n",
       "2019-03-18    5.0\n",
       "2019-05-30    NaN\n",
       "2019-08-11    6.0\n",
       "2019-10-23    8.0\n",
       "dtype: float64"
      ]
     },
     "execution_count": 6,
     "metadata": {},
     "output_type": "execute_result"
    }
   ],
   "source": [
    "s3 = pd.Series([1, 3, 5, np.nan, 6, 8], index=dates)\n",
    "s3"
   ]
  },
  {
   "cell_type": "code",
   "execution_count": 7,
   "metadata": {},
   "outputs": [
    {
     "data": {
      "text/plain": [
       "<AxesSubplot:>"
      ]
     },
     "execution_count": 7,
     "metadata": {},
     "output_type": "execute_result"
    },
    {
     "data": {
      "image/png": "[encoded data removed]",
      "text/plain": [
       "<Figure size 432x288 with 1 Axes>"
      ]
     },
     "metadata": {
      "needs_background": "light"
     },
     "output_type": "display_data"
    }
   ],
   "source": [
    "s3.plot()"
   ]
  },
  {
   "cell_type": "markdown",
   "metadata": {
    "slideshow": {
     "slide_type": "subslide"
    }
   },
   "source": [
    "# DataFrame\n",
    "\n",
    "DataFrame's are 2-dimensional labeled data structure with columns of potentially different types.\n",
    "\n",
    "The most basic method to create a DataFrame is from a dictionary:"
   ]
  },
  {
   "cell_type": "code",
   "execution_count": 8,
   "metadata": {},
   "outputs": [
    {
     "data": {
      "text/html": [
       "<div>\n",
       "<style scoped>\n",
       "    .dataframe tbody tr th:only-of-type {\n",
       "        vertical-align: middle;\n",
       "    }\n",
       "\n",
       "    .dataframe tbody tr th {\n",
       "        vertical-align: top;\n",
       "    }\n",
       "\n",
       "    .dataframe thead th {\n",
       "        text-align: right;\n",
       "    }\n",
       "</style>\n",
       "<table border=\"1\" class=\"dataframe\">\n",
       "  <thead>\n",
       "    <tr style=\"text-align: right;\">\n",
       "      <th></th>\n",
       "      <th>apples</th>\n",
       "      <th>pears</th>\n",
       "    </tr>\n",
       "  </thead>\n",
       "  <tbody>\n",
       "    <tr>\n",
       "      <th>0</th>\n",
       "      <td>3</td>\n",
       "      <td>6</td>\n",
       "    </tr>\n",
       "    <tr>\n",
       "      <th>1</th>\n",
       "      <td>0</td>\n",
       "      <td>1</td>\n",
       "    </tr>\n",
       "    <tr>\n",
       "      <th>2</th>\n",
       "      <td>0</td>\n",
       "      <td>3</td>\n",
       "    </tr>\n",
       "    <tr>\n",
       "      <th>3</th>\n",
       "      <td>1</td>\n",
       "      <td>5</td>\n",
       "    </tr>\n",
       "  </tbody>\n",
       "</table>\n",
       "</div>"
      ],
      "text/plain": [
       "   apples  pears\n",
       "0       3      6\n",
       "1       0      1\n",
       "2       0      3\n",
       "3       1      5"
      ]
     },
     "execution_count": 8,
     "metadata": {},
     "output_type": "execute_result"
    }
   ],
   "source": [
    "data = {\n",
    "    'apples': [3, 0, 0, 1],\n",
    "    'pears':  [6, 1, 3, 5]\n",
    "}\n",
    "\n",
    "purchases = pd.DataFrame(data)\n",
    "purchases"
   ]
  },
  {
   "cell_type": "markdown",
   "metadata": {},
   "source": [
    "**How did this work:** Each (key, value) pair in the dictionary is interpreted as a column in the data table. The key is used as column label.\n",
    "\n",
    "As with Series, we can provide an index to label the y-axis:"
   ]
  },
  {
   "cell_type": "code",
   "execution_count": 9,
   "metadata": {},
   "outputs": [
    {
     "data": {
      "text/html": [
       "<div>\n",
       "<style scoped>\n",
       "    .dataframe tbody tr th:only-of-type {\n",
       "        vertical-align: middle;\n",
       "    }\n",
       "\n",
       "    .dataframe tbody tr th {\n",
       "        vertical-align: top;\n",
       "    }\n",
       "\n",
       "    .dataframe thead th {\n",
       "        text-align: right;\n",
       "    }\n",
       "</style>\n",
       "<table border=\"1\" class=\"dataframe\">\n",
       "  <thead>\n",
       "    <tr style=\"text-align: right;\">\n",
       "      <th></th>\n",
       "      <th>apples</th>\n",
       "      <th>pears</th>\n",
       "    </tr>\n",
       "  </thead>\n",
       "  <tbody>\n",
       "    <tr>\n",
       "      <th>Marie</th>\n",
       "      <td>3</td>\n",
       "      <td>6</td>\n",
       "    </tr>\n",
       "    <tr>\n",
       "      <th>Jørgen</th>\n",
       "      <td>0</td>\n",
       "      <td>1</td>\n",
       "    </tr>\n",
       "    <tr>\n",
       "      <th>Hilde</th>\n",
       "      <td>0</td>\n",
       "      <td>3</td>\n",
       "    </tr>\n",
       "    <tr>\n",
       "      <th>Hans</th>\n",
       "      <td>1</td>\n",
       "      <td>2</td>\n",
       "    </tr>\n",
       "  </tbody>\n",
       "</table>\n",
       "</div>"
      ],
      "text/plain": [
       "        apples  pears\n",
       "Marie        3      6\n",
       "Jørgen       0      1\n",
       "Hilde        0      3\n",
       "Hans         1      2"
      ]
     },
     "execution_count": 9,
     "metadata": {},
     "output_type": "execute_result"
    }
   ],
   "source": [
    "data = {\n",
    "    'apples': [3, 0, 0, 1],\n",
    "    'pears':  [6, 1, 3, 2]\n",
    "}\n",
    "customers = [\"Marie\", \"Jørgen\", \"Hilde\", \"Hans\"]\n",
    "\n",
    "purchases = pd.DataFrame(data, index=customers)\n",
    "purchases"
   ]
  },
  {
   "cell_type": "markdown",
   "metadata": {
    "slideshow": {
     "slide_type": "subslide"
    }
   },
   "source": [
    "## Extracting columns from a DataTable\n",
    "\n",
    "When **loc**ating (i.e. extracting) a column of a DataFrame, one obtains a `Series`"
   ]
  },
  {
   "cell_type": "code",
   "execution_count": 10,
   "metadata": {},
   "outputs": [
    {
     "data": {
      "text/plain": [
       "apples    1\n",
       "pears     2\n",
       "Name: Hans, dtype: int64"
      ]
     },
     "execution_count": 10,
     "metadata": {},
     "output_type": "execute_result"
    }
   ],
   "source": [
    "purchases.loc[\"Hans\"]"
   ]
  },
  {
   "cell_type": "code",
   "execution_count": 11,
   "metadata": {},
   "outputs": [
    {
     "data": {
      "text/plain": [
       "pandas.core.series.Series"
      ]
     },
     "execution_count": 11,
     "metadata": {},
     "output_type": "execute_result"
    }
   ],
   "source": [
    "type(purchases.loc[\"Hans\"])"
   ]
  },
  {
   "cell_type": "markdown",
   "metadata": {
    "slideshow": {
     "slide_type": "-"
    }
   },
   "source": [
    "## Combining two Series to a DataFrame "
   ]
  },
  {
   "cell_type": "code",
   "execution_count": 12,
   "metadata": {
    "scrolled": true,
    "slideshow": {
     "slide_type": "-"
    }
   },
   "outputs": [
    {
     "data": {
      "text/html": [
       "<div>\n",
       "<style scoped>\n",
       "    .dataframe tbody tr th:only-of-type {\n",
       "        vertical-align: middle;\n",
       "    }\n",
       "\n",
       "    .dataframe tbody tr th {\n",
       "        vertical-align: top;\n",
       "    }\n",
       "\n",
       "    .dataframe thead th {\n",
       "        text-align: right;\n",
       "    }\n",
       "</style>\n",
       "<table border=\"1\" class=\"dataframe\">\n",
       "  <thead>\n",
       "    <tr style=\"text-align: right;\">\n",
       "      <th></th>\n",
       "      <th>0</th>\n",
       "      <th>1</th>\n",
       "      <th>2</th>\n",
       "    </tr>\n",
       "  </thead>\n",
       "  <tbody>\n",
       "    <tr>\n",
       "      <th>A</th>\n",
       "      <td>1</td>\n",
       "      <td>3</td>\n",
       "      <td>1</td>\n",
       "    </tr>\n",
       "    <tr>\n",
       "      <th>B</th>\n",
       "      <td>2</td>\n",
       "      <td>4</td>\n",
       "      <td>2</td>\n",
       "    </tr>\n",
       "  </tbody>\n",
       "</table>\n",
       "</div>"
      ],
      "text/plain": [
       "   0  1  2\n",
       "A  1  3  1\n",
       "B  2  4  2"
      ]
     },
     "execution_count": 12,
     "metadata": {},
     "output_type": "execute_result"
    }
   ],
   "source": [
    "s1 = pd.Series([1, 2], index=['A', 'B'])\n",
    "s2 = pd.Series([3, 4], index=['A', 'B'])\n",
    "pd.concat([s1, s2, s1], axis=1, sort=False)"
   ]
  },
  {
   "cell_type": "markdown",
   "metadata": {
    "slideshow": {
     "slide_type": "subslide"
    }
   },
   "source": [
    "## Loading data from file\n",
    "\n",
    "For pratical applications, we will read the data from a file rather from a dictionary. \n",
    "\n",
    "Pandas offers various drivers to load data in different formats:"
   ]
  },
  {
   "cell_type": "code",
   "execution_count": 13,
   "metadata": {},
   "outputs": [],
   "source": [
    "pd.read_*?"
   ]
  },
  {
   "cell_type": "markdown",
   "metadata": {},
   "source": [
    "We will see this in a real application in a moment."
   ]
  },
  {
   "cell_type": "markdown",
   "metadata": {
    "slideshow": {
     "slide_type": "slide"
    }
   },
   "source": [
    "# Data analysis on the Oslo Byskkel data \n",
    "\n",
    "\n",
    "\n",
    "<img src=\"https://cdn.sanity.io/images/23ukf9xm/production/4acf4a351c2174972b61465210f56878c41bad65-5698x3799.jpg?w=1200&h=600&fit=max\" style=\"width: 500px;\"/>\n",
    "\n"
   ]
  },
  {
   "cell_type": "markdown",
   "metadata": {},
   "source": [
    "**Goal**: Perfrom data analysis of the bike usage, such as:\n",
    "* Identify peak and low points of bike station usage (over a year, week or day)?\n",
    "* Which are the most and least used bike stations?\n",
    "* Which are the most and least used bike routes?\n",
    "* Visualize the bike usage in Oslo."
   ]
  },
  {
   "cell_type": "markdown",
   "metadata": {
    "slideshow": {
     "slide_type": "subslide"
    }
   },
   "source": [
    "## Step 1: Data aquisition and inspection\n",
    "\n",
    "The monthly usage data can be downloaded here: https://oslobysykkel.no/en/open-data"
   ]
  },
  {
   "cell_type": "markdown",
   "metadata": {},
   "source": [
    "I downloaded the data from August to September 2016:"
   ]
  },
  {
   "cell_type": "code",
   "execution_count": 14,
   "metadata": {},
   "outputs": [
    {
     "name": "stdout",
     "output_type": "stream",
     "text": [
      "-rw-rw-r-- 1 vegard vegard 14M sep.  20 12:49 data/bysykkel/trips-2016.10.1-2016.10.31.csv\r\n",
      "-rw-rw-r-- 1 vegard vegard 21M sep.  20 12:49 data/bysykkel/trips-2016.8.1-2016.8.31.csv\r\n",
      "-rw-rw-r-- 1 vegard vegard 22M sep.  20 12:49 data/bysykkel/trips-2016.9.1-2016.9.30.csv\r\n",
      "-rw-rw-r-- 1 vegard vegard 38M sep.  20 12:49 data/bysykkel/trips-2021.10.1-2021.10.31.csv\r\n",
      "-rw-rw-r-- 1 vegard vegard 37M sep.  20 12:49 data/bysykkel/trips-2021.9.1-2021.9.30.csv\r\n"
     ]
    }
   ],
   "source": [
    "!ls -hl data/bysykkel/*.csv"
   ]
  },
  {
   "cell_type": "markdown",
   "metadata": {},
   "source": [
    "Let's inspect the content of one of these files:"
   ]
  },
  {
   "cell_type": "code",
   "execution_count": 15,
   "metadata": {},
   "outputs": [
    {
     "name": "stdout",
     "output_type": "stream",
     "text": [
      "  242759  1213795 14565493 data/bysykkel/trips-2016.10.1-2016.10.31.csv\r\n"
     ]
    }
   ],
   "source": [
    "!wc data/bysykkel/trips-2016.10.1-2016.10.31.csv"
   ]
  },
  {
   "cell_type": "markdown",
   "metadata": {
    "slideshow": {
     "slide_type": "subslide"
    }
   },
   "source": [
    "## Loading the data into a DataFrame\n",
    "\n",
    "Since this is a comma seperated file, we can use Panda's `read_csv` function:"
   ]
  },
  {
   "cell_type": "code",
   "execution_count": 16,
   "metadata": {},
   "outputs": [],
   "source": [
    "import pandas as pd\n",
    "trips = pd.read_csv('data/bysykkel/trips-2016.10.1-2016.10.31.csv', \n",
    "                    sep=',')"
   ]
  },
  {
   "cell_type": "markdown",
   "metadata": {},
   "source": [
    "The result is stored in  a `DataFrame` object. The first row of the csv was used as column labels."
   ]
  },
  {
   "cell_type": "code",
   "execution_count": 17,
   "metadata": {},
   "outputs": [
    {
     "data": {
      "text/html": [
       "<div>\n",
       "<style scoped>\n",
       "    .dataframe tbody tr th:only-of-type {\n",
       "        vertical-align: middle;\n",
       "    }\n",
       "\n",
       "    .dataframe tbody tr th {\n",
       "        vertical-align: top;\n",
       "    }\n",
       "\n",
       "    .dataframe thead th {\n",
       "        text-align: right;\n",
       "    }\n",
       "</style>\n",
       "<table border=\"1\" class=\"dataframe\">\n",
       "  <thead>\n",
       "    <tr style=\"text-align: right;\">\n",
       "      <th></th>\n",
       "      <th>Start station</th>\n",
       "      <th>Start time</th>\n",
       "      <th>End station</th>\n",
       "      <th>End time</th>\n",
       "    </tr>\n",
       "  </thead>\n",
       "  <tbody>\n",
       "    <tr>\n",
       "      <th>0</th>\n",
       "      <td>283</td>\n",
       "      <td>2016-10-01 06:00:08 +0200</td>\n",
       "      <td>238.0</td>\n",
       "      <td>2016-10-01 06:09:47 +0200</td>\n",
       "    </tr>\n",
       "    <tr>\n",
       "      <th>1</th>\n",
       "      <td>169</td>\n",
       "      <td>2016-10-01 06:00:41 +0200</td>\n",
       "      <td>175.0</td>\n",
       "      <td>2016-10-01 06:11:07 +0200</td>\n",
       "    </tr>\n",
       "    <tr>\n",
       "      <th>2</th>\n",
       "      <td>211</td>\n",
       "      <td>2016-10-01 06:01:02 +0200</td>\n",
       "      <td>162.0</td>\n",
       "      <td>2016-10-01 06:15:52 +0200</td>\n",
       "    </tr>\n",
       "    <tr>\n",
       "      <th>3</th>\n",
       "      <td>200</td>\n",
       "      <td>2016-10-01 06:01:20 +0200</td>\n",
       "      <td>163.0</td>\n",
       "      <td>2016-10-01 06:15:04 +0200</td>\n",
       "    </tr>\n",
       "    <tr>\n",
       "      <th>4</th>\n",
       "      <td>157</td>\n",
       "      <td>2016-10-01 06:02:16 +0200</td>\n",
       "      <td>163.0</td>\n",
       "      <td>2016-10-01 06:04:29 +0200</td>\n",
       "    </tr>\n",
       "  </tbody>\n",
       "</table>\n",
       "</div>"
      ],
      "text/plain": [
       "   Start station                 Start time  End station  \\\n",
       "0            283  2016-10-01 06:00:08 +0200        238.0   \n",
       "1            169  2016-10-01 06:00:41 +0200        175.0   \n",
       "2            211  2016-10-01 06:01:02 +0200        162.0   \n",
       "3            200  2016-10-01 06:01:20 +0200        163.0   \n",
       "4            157  2016-10-01 06:02:16 +0200        163.0   \n",
       "\n",
       "                    End time  \n",
       "0  2016-10-01 06:09:47 +0200  \n",
       "1  2016-10-01 06:11:07 +0200  \n",
       "2  2016-10-01 06:15:52 +0200  \n",
       "3  2016-10-01 06:15:04 +0200  \n",
       "4  2016-10-01 06:04:29 +0200  "
      ]
     },
     "execution_count": 17,
     "metadata": {},
     "output_type": "execute_result"
    }
   ],
   "source": [
    "trips.head()"
   ]
  },
  {
   "cell_type": "markdown",
   "metadata": {},
   "source": [
    "We can use the `head` and `tail` functions to only show the (by default 5) top rows in the data table."
   ]
  },
  {
   "cell_type": "code",
   "execution_count": 18,
   "metadata": {},
   "outputs": [
    {
     "data": {
      "text/html": [
       "<div>\n",
       "<style scoped>\n",
       "    .dataframe tbody tr th:only-of-type {\n",
       "        vertical-align: middle;\n",
       "    }\n",
       "\n",
       "    .dataframe tbody tr th {\n",
       "        vertical-align: top;\n",
       "    }\n",
       "\n",
       "    .dataframe thead th {\n",
       "        text-align: right;\n",
       "    }\n",
       "</style>\n",
       "<table border=\"1\" class=\"dataframe\">\n",
       "  <thead>\n",
       "    <tr style=\"text-align: right;\">\n",
       "      <th></th>\n",
       "      <th>Start station</th>\n",
       "      <th>Start time</th>\n",
       "      <th>End station</th>\n",
       "      <th>End time</th>\n",
       "    </tr>\n",
       "  </thead>\n",
       "  <tbody>\n",
       "    <tr>\n",
       "      <th>0</th>\n",
       "      <td>283</td>\n",
       "      <td>2016-10-01 06:00:08 +0200</td>\n",
       "      <td>238.0</td>\n",
       "      <td>2016-10-01 06:09:47 +0200</td>\n",
       "    </tr>\n",
       "    <tr>\n",
       "      <th>1</th>\n",
       "      <td>169</td>\n",
       "      <td>2016-10-01 06:00:41 +0200</td>\n",
       "      <td>175.0</td>\n",
       "      <td>2016-10-01 06:11:07 +0200</td>\n",
       "    </tr>\n",
       "    <tr>\n",
       "      <th>2</th>\n",
       "      <td>211</td>\n",
       "      <td>2016-10-01 06:01:02 +0200</td>\n",
       "      <td>162.0</td>\n",
       "      <td>2016-10-01 06:15:52 +0200</td>\n",
       "    </tr>\n",
       "    <tr>\n",
       "      <th>3</th>\n",
       "      <td>200</td>\n",
       "      <td>2016-10-01 06:01:20 +0200</td>\n",
       "      <td>163.0</td>\n",
       "      <td>2016-10-01 06:15:04 +0200</td>\n",
       "    </tr>\n",
       "    <tr>\n",
       "      <th>4</th>\n",
       "      <td>157</td>\n",
       "      <td>2016-10-01 06:02:16 +0200</td>\n",
       "      <td>163.0</td>\n",
       "      <td>2016-10-01 06:04:29 +0200</td>\n",
       "    </tr>\n",
       "  </tbody>\n",
       "</table>\n",
       "</div>"
      ],
      "text/plain": [
       "   Start station                 Start time  End station  \\\n",
       "0            283  2016-10-01 06:00:08 +0200        238.0   \n",
       "1            169  2016-10-01 06:00:41 +0200        175.0   \n",
       "2            211  2016-10-01 06:01:02 +0200        162.0   \n",
       "3            200  2016-10-01 06:01:20 +0200        163.0   \n",
       "4            157  2016-10-01 06:02:16 +0200        163.0   \n",
       "\n",
       "                    End time  \n",
       "0  2016-10-01 06:09:47 +0200  \n",
       "1  2016-10-01 06:11:07 +0200  \n",
       "2  2016-10-01 06:15:52 +0200  \n",
       "3  2016-10-01 06:15:04 +0200  \n",
       "4  2016-10-01 06:04:29 +0200  "
      ]
     },
     "execution_count": 18,
     "metadata": {},
     "output_type": "execute_result"
    }
   ],
   "source": [
    "trips.head(5)"
   ]
  },
  {
   "cell_type": "markdown",
   "metadata": {
    "slideshow": {
     "slide_type": "subslide"
    }
   },
   "source": [
    "## Fixing columns types\n",
    "\n",
    "Pandas tries to **automatically detect the type** of a column:"
   ]
  },
  {
   "cell_type": "code",
   "execution_count": 19,
   "metadata": {},
   "outputs": [
    {
     "data": {
      "text/plain": [
       "Start station      int64\n",
       "Start time        object\n",
       "End station      float64\n",
       "End time          object\n",
       "dtype: object"
      ]
     },
     "execution_count": 19,
     "metadata": {},
     "output_type": "execute_result"
    }
   ],
   "source": [
    "trips.dtypes"
   ]
  },
  {
   "cell_type": "markdown",
   "metadata": {},
   "source": [
    "We can see that this **automatic detection failed** for:\n",
    "\n",
    "* `Start time`:  should be a date\n",
    "* `End time`:  should be a date\n",
    "* `End station`:  should be a integer"
   ]
  },
  {
   "cell_type": "markdown",
   "metadata": {
    "slideshow": {
     "slide_type": "subslide"
    }
   },
   "source": [
    "## Fixing  start and end times"
   ]
  },
  {
   "cell_type": "markdown",
   "metadata": {},
   "source": [
    "In order to be able to sort or filter by date, we need to tell Pandas that this column should be parsed as dates. We can do this directly when loading in the data: "
   ]
  },
  {
   "cell_type": "code",
   "execution_count": 20,
   "metadata": {},
   "outputs": [],
   "source": [
    "trips = pd.read_csv(\n",
    "    \"data/bysykkel/trips-2016.10.1-2016.10.31.csv\",\n",
    "    sep=\",\",\n",
    "    parse_dates=[\"Start time\", \"End time\"],\n",
    "    date_parser=lambda col: pd.to_datetime(col, utc=True),\n",
    ")"
   ]
  },
  {
   "cell_type": "markdown",
   "metadata": {},
   "source": [
    "**Note!**  The lambda function is necessary to read dates with mixed time-zones!"
   ]
  },
  {
   "cell_type": "code",
   "execution_count": 21,
   "metadata": {},
   "outputs": [
    {
     "data": {
      "text/plain": [
       "Start station                  int64\n",
       "Start time       datetime64[ns, UTC]\n",
       "End station                  float64\n",
       "End time         datetime64[ns, UTC]\n",
       "dtype: object"
      ]
     },
     "execution_count": 21,
     "metadata": {},
     "output_type": "execute_result"
    }
   ],
   "source": [
    "trips.dtypes"
   ]
  },
  {
   "cell_type": "code",
   "execution_count": 22,
   "metadata": {},
   "outputs": [
    {
     "data": {
      "text/html": [
       "<div>\n",
       "<style scoped>\n",
       "    .dataframe tbody tr th:only-of-type {\n",
       "        vertical-align: middle;\n",
       "    }\n",
       "\n",
       "    .dataframe tbody tr th {\n",
       "        vertical-align: top;\n",
       "    }\n",
       "\n",
       "    .dataframe thead th {\n",
       "        text-align: right;\n",
       "    }\n",
       "</style>\n",
       "<table border=\"1\" class=\"dataframe\">\n",
       "  <thead>\n",
       "    <tr style=\"text-align: right;\">\n",
       "      <th></th>\n",
       "      <th>Start station</th>\n",
       "      <th>Start time</th>\n",
       "      <th>End station</th>\n",
       "      <th>End time</th>\n",
       "    </tr>\n",
       "  </thead>\n",
       "  <tbody>\n",
       "    <tr>\n",
       "      <th>0</th>\n",
       "      <td>283</td>\n",
       "      <td>2016-10-01 04:00:08+00:00</td>\n",
       "      <td>238.0</td>\n",
       "      <td>2016-10-01 04:09:47+00:00</td>\n",
       "    </tr>\n",
       "    <tr>\n",
       "      <th>1</th>\n",
       "      <td>169</td>\n",
       "      <td>2016-10-01 04:00:41+00:00</td>\n",
       "      <td>175.0</td>\n",
       "      <td>2016-10-01 04:11:07+00:00</td>\n",
       "    </tr>\n",
       "    <tr>\n",
       "      <th>2</th>\n",
       "      <td>211</td>\n",
       "      <td>2016-10-01 04:01:02+00:00</td>\n",
       "      <td>162.0</td>\n",
       "      <td>2016-10-01 04:15:52+00:00</td>\n",
       "    </tr>\n",
       "    <tr>\n",
       "      <th>3</th>\n",
       "      <td>200</td>\n",
       "      <td>2016-10-01 04:01:20+00:00</td>\n",
       "      <td>163.0</td>\n",
       "      <td>2016-10-01 04:15:04+00:00</td>\n",
       "    </tr>\n",
       "    <tr>\n",
       "      <th>4</th>\n",
       "      <td>157</td>\n",
       "      <td>2016-10-01 04:02:16+00:00</td>\n",
       "      <td>163.0</td>\n",
       "      <td>2016-10-01 04:04:29+00:00</td>\n",
       "    </tr>\n",
       "  </tbody>\n",
       "</table>\n",
       "</div>"
      ],
      "text/plain": [
       "   Start station                Start time  End station  \\\n",
       "0            283 2016-10-01 04:00:08+00:00        238.0   \n",
       "1            169 2016-10-01 04:00:41+00:00        175.0   \n",
       "2            211 2016-10-01 04:01:02+00:00        162.0   \n",
       "3            200 2016-10-01 04:01:20+00:00        163.0   \n",
       "4            157 2016-10-01 04:02:16+00:00        163.0   \n",
       "\n",
       "                   End time  \n",
       "0 2016-10-01 04:09:47+00:00  \n",
       "1 2016-10-01 04:11:07+00:00  \n",
       "2 2016-10-01 04:15:52+00:00  \n",
       "3 2016-10-01 04:15:04+00:00  \n",
       "4 2016-10-01 04:04:29+00:00  "
      ]
     },
     "execution_count": 22,
     "metadata": {},
     "output_type": "execute_result"
    }
   ],
   "source": [
    "trips.head()"
   ]
  },
  {
   "cell_type": "markdown",
   "metadata": {},
   "source": [
    "### Fixing end station"
   ]
  },
  {
   "cell_type": "markdown",
   "metadata": {},
   "source": [
    "We expected `End station` to be of type `np.int64`. We can enforce this with:"
   ]
  },
  {
   "cell_type": "code",
   "execution_count": 23,
   "metadata": {},
   "outputs": [
    {
     "ename": "ValueError",
     "evalue": "Integer column has NA values in column 2",
     "output_type": "error",
     "traceback": [
      "\u001b[0;31m---------------------------------------------------------------------------\u001b[0m",
      "\u001b[0;31mValueError\u001b[0m                                Traceback (most recent call last)",
      "Input \u001b[0;32mIn [23]\u001b[0m, in \u001b[0;36m<cell line: 2>\u001b[0;34m()\u001b[0m\n\u001b[1;32m      1\u001b[0m \u001b[38;5;28;01mimport\u001b[39;00m \u001b[38;5;21;01mnumpy\u001b[39;00m \u001b[38;5;28;01mas\u001b[39;00m \u001b[38;5;21;01mnp\u001b[39;00m\n\u001b[0;32m----> 2\u001b[0m trips \u001b[38;5;241m=\u001b[39m \u001b[43mpd\u001b[49m\u001b[38;5;241;43m.\u001b[39;49m\u001b[43mread_csv\u001b[49m\u001b[43m(\u001b[49m\n\u001b[1;32m      3\u001b[0m \u001b[43m    \u001b[49m\u001b[38;5;124;43m\"\u001b[39;49m\u001b[38;5;124;43mdata/bysykkel/trips-2016.10.1-2016.10.31.csv\u001b[39;49m\u001b[38;5;124;43m\"\u001b[39;49m\u001b[43m,\u001b[49m\n\u001b[1;32m      4\u001b[0m \u001b[43m    \u001b[49m\u001b[43msep\u001b[49m\u001b[38;5;241;43m=\u001b[39;49m\u001b[38;5;124;43m\"\u001b[39;49m\u001b[38;5;124;43m,\u001b[39;49m\u001b[38;5;124;43m\"\u001b[39;49m\u001b[43m,\u001b[49m\n\u001b[1;32m      5\u001b[0m \u001b[43m    \u001b[49m\u001b[43mparse_dates\u001b[49m\u001b[38;5;241;43m=\u001b[39;49m\u001b[43m[\u001b[49m\u001b[38;5;124;43m\"\u001b[39;49m\u001b[38;5;124;43mStart time\u001b[39;49m\u001b[38;5;124;43m\"\u001b[39;49m\u001b[43m,\u001b[49m\u001b[43m \u001b[49m\u001b[38;5;124;43m\"\u001b[39;49m\u001b[38;5;124;43mEnd time\u001b[39;49m\u001b[38;5;124;43m\"\u001b[39;49m\u001b[43m]\u001b[49m\u001b[43m,\u001b[49m\n\u001b[1;32m      6\u001b[0m \u001b[43m    \u001b[49m\u001b[43mdate_parser\u001b[49m\u001b[38;5;241;43m=\u001b[39;49m\u001b[38;5;28;43;01mlambda\u001b[39;49;00m\u001b[43m \u001b[49m\u001b[43mcol\u001b[49m\u001b[43m:\u001b[49m\u001b[43m \u001b[49m\u001b[43mpd\u001b[49m\u001b[38;5;241;43m.\u001b[39;49m\u001b[43mto_datetime\u001b[49m\u001b[43m(\u001b[49m\u001b[43mcol\u001b[49m\u001b[43m,\u001b[49m\u001b[43m \u001b[49m\u001b[43mutc\u001b[49m\u001b[38;5;241;43m=\u001b[39;49m\u001b[38;5;28;43;01mTrue\u001b[39;49;00m\u001b[43m)\u001b[49m\u001b[43m,\u001b[49m\n\u001b[1;32m      7\u001b[0m \u001b[43m    \u001b[49m\u001b[43mdtype\u001b[49m\u001b[38;5;241;43m=\u001b[39;49m\u001b[43m{\u001b[49m\u001b[38;5;124;43m\"\u001b[39;49m\u001b[38;5;124;43mEnd station\u001b[39;49m\u001b[38;5;124;43m\"\u001b[39;49m\u001b[43m:\u001b[49m\u001b[43m \u001b[49m\u001b[43mnp\u001b[49m\u001b[38;5;241;43m.\u001b[39;49m\u001b[43mint64\u001b[49m\u001b[43m}\u001b[49m\u001b[43m,\u001b[49m\n\u001b[1;32m      8\u001b[0m \u001b[43m)\u001b[49m\n",
      "File \u001b[0;32m~/.local/lib/python3.9/site-packages/pandas/util/_decorators.py:311\u001b[0m, in \u001b[0;36mdeprecate_nonkeyword_arguments.<locals>.decorate.<locals>.wrapper\u001b[0;34m(*args, **kwargs)\u001b[0m\n\u001b[1;32m    305\u001b[0m \u001b[38;5;28;01mif\u001b[39;00m \u001b[38;5;28mlen\u001b[39m(args) \u001b[38;5;241m>\u001b[39m num_allow_args:\n\u001b[1;32m    306\u001b[0m     warnings\u001b[38;5;241m.\u001b[39mwarn(\n\u001b[1;32m    307\u001b[0m         msg\u001b[38;5;241m.\u001b[39mformat(arguments\u001b[38;5;241m=\u001b[39marguments),\n\u001b[1;32m    308\u001b[0m         \u001b[38;5;167;01mFutureWarning\u001b[39;00m,\n\u001b[1;32m    309\u001b[0m         stacklevel\u001b[38;5;241m=\u001b[39mstacklevel,\n\u001b[1;32m    310\u001b[0m     )\n\u001b[0;32m--> 311\u001b[0m \u001b[38;5;28;01mreturn\u001b[39;00m \u001b[43mfunc\u001b[49m\u001b[43m(\u001b[49m\u001b[38;5;241;43m*\u001b[39;49m\u001b[43margs\u001b[49m\u001b[43m,\u001b[49m\u001b[43m \u001b[49m\u001b[38;5;241;43m*\u001b[39;49m\u001b[38;5;241;43m*\u001b[39;49m\u001b[43mkwargs\u001b[49m\u001b[43m)\u001b[49m\n",
      "File \u001b[0;32m~/.local/lib/python3.9/site-packages/pandas/io/parsers/readers.py:586\u001b[0m, in \u001b[0;36mread_csv\u001b[0;34m(filepath_or_buffer, sep, delimiter, header, names, index_col, usecols, squeeze, prefix, mangle_dupe_cols, dtype, engine, converters, true_values, false_values, skipinitialspace, skiprows, skipfooter, nrows, na_values, keep_default_na, na_filter, verbose, skip_blank_lines, parse_dates, infer_datetime_format, keep_date_col, date_parser, dayfirst, cache_dates, iterator, chunksize, compression, thousands, decimal, lineterminator, quotechar, quoting, doublequote, escapechar, comment, encoding, encoding_errors, dialect, error_bad_lines, warn_bad_lines, on_bad_lines, delim_whitespace, low_memory, memory_map, float_precision, storage_options)\u001b[0m\n\u001b[1;32m    571\u001b[0m kwds_defaults \u001b[38;5;241m=\u001b[39m _refine_defaults_read(\n\u001b[1;32m    572\u001b[0m     dialect,\n\u001b[1;32m    573\u001b[0m     delimiter,\n\u001b[0;32m   (...)\u001b[0m\n\u001b[1;32m    582\u001b[0m     defaults\u001b[38;5;241m=\u001b[39m{\u001b[38;5;124m\"\u001b[39m\u001b[38;5;124mdelimiter\u001b[39m\u001b[38;5;124m\"\u001b[39m: \u001b[38;5;124m\"\u001b[39m\u001b[38;5;124m,\u001b[39m\u001b[38;5;124m\"\u001b[39m},\n\u001b[1;32m    583\u001b[0m )\n\u001b[1;32m    584\u001b[0m kwds\u001b[38;5;241m.\u001b[39mupdate(kwds_defaults)\n\u001b[0;32m--> 586\u001b[0m \u001b[38;5;28;01mreturn\u001b[39;00m \u001b[43m_read\u001b[49m\u001b[43m(\u001b[49m\u001b[43mfilepath_or_buffer\u001b[49m\u001b[43m,\u001b[49m\u001b[43m \u001b[49m\u001b[43mkwds\u001b[49m\u001b[43m)\u001b[49m\n",
      "File \u001b[0;32m~/.local/lib/python3.9/site-packages/pandas/io/parsers/readers.py:488\u001b[0m, in \u001b[0;36m_read\u001b[0;34m(filepath_or_buffer, kwds)\u001b[0m\n\u001b[1;32m    485\u001b[0m     \u001b[38;5;28;01mreturn\u001b[39;00m parser\n\u001b[1;32m    487\u001b[0m \u001b[38;5;28;01mwith\u001b[39;00m parser:\n\u001b[0;32m--> 488\u001b[0m     \u001b[38;5;28;01mreturn\u001b[39;00m \u001b[43mparser\u001b[49m\u001b[38;5;241;43m.\u001b[39;49m\u001b[43mread\u001b[49m\u001b[43m(\u001b[49m\u001b[43mnrows\u001b[49m\u001b[43m)\u001b[49m\n",
      "File \u001b[0;32m~/.local/lib/python3.9/site-packages/pandas/io/parsers/readers.py:1047\u001b[0m, in \u001b[0;36mTextFileReader.read\u001b[0;34m(self, nrows)\u001b[0m\n\u001b[1;32m   1045\u001b[0m \u001b[38;5;28;01mdef\u001b[39;00m \u001b[38;5;21mread\u001b[39m(\u001b[38;5;28mself\u001b[39m, nrows\u001b[38;5;241m=\u001b[39m\u001b[38;5;28;01mNone\u001b[39;00m):\n\u001b[1;32m   1046\u001b[0m     nrows \u001b[38;5;241m=\u001b[39m validate_integer(\u001b[38;5;124m\"\u001b[39m\u001b[38;5;124mnrows\u001b[39m\u001b[38;5;124m\"\u001b[39m, nrows)\n\u001b[0;32m-> 1047\u001b[0m     index, columns, col_dict \u001b[38;5;241m=\u001b[39m \u001b[38;5;28;43mself\u001b[39;49m\u001b[38;5;241;43m.\u001b[39;49m\u001b[43m_engine\u001b[49m\u001b[38;5;241;43m.\u001b[39;49m\u001b[43mread\u001b[49m\u001b[43m(\u001b[49m\u001b[43mnrows\u001b[49m\u001b[43m)\u001b[49m\n\u001b[1;32m   1049\u001b[0m     \u001b[38;5;28;01mif\u001b[39;00m index \u001b[38;5;129;01mis\u001b[39;00m \u001b[38;5;28;01mNone\u001b[39;00m:\n\u001b[1;32m   1050\u001b[0m         \u001b[38;5;28;01mif\u001b[39;00m col_dict:\n\u001b[1;32m   1051\u001b[0m             \u001b[38;5;66;03m# Any column is actually fine:\u001b[39;00m\n",
      "File \u001b[0;32m~/.local/lib/python3.9/site-packages/pandas/io/parsers/c_parser_wrapper.py:223\u001b[0m, in \u001b[0;36mCParserWrapper.read\u001b[0;34m(self, nrows)\u001b[0m\n\u001b[1;32m    221\u001b[0m \u001b[38;5;28;01mtry\u001b[39;00m:\n\u001b[1;32m    222\u001b[0m     \u001b[38;5;28;01mif\u001b[39;00m \u001b[38;5;28mself\u001b[39m\u001b[38;5;241m.\u001b[39mlow_memory:\n\u001b[0;32m--> 223\u001b[0m         chunks \u001b[38;5;241m=\u001b[39m \u001b[38;5;28;43mself\u001b[39;49m\u001b[38;5;241;43m.\u001b[39;49m\u001b[43m_reader\u001b[49m\u001b[38;5;241;43m.\u001b[39;49m\u001b[43mread_low_memory\u001b[49m\u001b[43m(\u001b[49m\u001b[43mnrows\u001b[49m\u001b[43m)\u001b[49m\n\u001b[1;32m    224\u001b[0m         \u001b[38;5;66;03m# destructive to chunks\u001b[39;00m\n\u001b[1;32m    225\u001b[0m         data \u001b[38;5;241m=\u001b[39m _concatenate_chunks(chunks)\n",
      "File \u001b[0;32m~/.local/lib/python3.9/site-packages/pandas/_libs/parsers.pyx:801\u001b[0m, in \u001b[0;36mpandas._libs.parsers.TextReader.read_low_memory\u001b[0;34m()\u001b[0m\n",
      "File \u001b[0;32m~/.local/lib/python3.9/site-packages/pandas/_libs/parsers.pyx:880\u001b[0m, in \u001b[0;36mpandas._libs.parsers.TextReader._read_rows\u001b[0;34m()\u001b[0m\n",
      "File \u001b[0;32m~/.local/lib/python3.9/site-packages/pandas/_libs/parsers.pyx:1026\u001b[0m, in \u001b[0;36mpandas._libs.parsers.TextReader._convert_column_data\u001b[0;34m()\u001b[0m\n",
      "File \u001b[0;32m~/.local/lib/python3.9/site-packages/pandas/_libs/parsers.pyx:1058\u001b[0m, in \u001b[0;36mpandas._libs.parsers.TextReader._convert_tokens\u001b[0;34m()\u001b[0m\n",
      "File \u001b[0;32m~/.local/lib/python3.9/site-packages/pandas/_libs/parsers.pyx:1158\u001b[0m, in \u001b[0;36mpandas._libs.parsers.TextReader._convert_with_dtype\u001b[0;34m()\u001b[0m\n",
      "\u001b[0;31mValueError\u001b[0m: Integer column has NA values in column 2"
     ]
    }
   ],
   "source": [
    "import numpy as np\n",
    "trips = pd.read_csv(\n",
    "    \"data/bysykkel/trips-2016.10.1-2016.10.31.csv\",\n",
    "    sep=\",\",\n",
    "    parse_dates=[\"Start time\", \"End time\"],\n",
    "    date_parser=lambda col: pd.to_datetime(col, utc=True),\n",
    "    dtype={\"End station\": np.int64},\n",
    ")"
   ]
  },
  {
   "cell_type": "markdown",
   "metadata": {},
   "source": [
    "**Conclusion**: \n",
    "`End station` contains `Not a Number` values or`NaN` values, which can be represented in the `float` datatype, but not in the `int` datatype"
   ]
  },
  {
   "cell_type": "code",
   "execution_count": null,
   "metadata": {},
   "outputs": [],
   "source": [
    "trips.sort_values(\"End station\").tail(100)"
   ]
  },
  {
   "cell_type": "markdown",
   "metadata": {},
   "source": [
    "But we *can* do this if we discard the rows with missing data. Pandas has various utilities for dealing with missing data"
   ]
  },
  {
   "cell_type": "code",
   "execution_count": null,
   "metadata": {},
   "outputs": [],
   "source": [
    "trips = trips_oct = trips.dropna(subset=[\"End station\"]).astype({\"End station\": int})\n",
    "trips.tail(5)"
   ]
  },
  {
   "cell_type": "markdown",
   "metadata": {},
   "source": [
    "# Selecting data from dataframes"
   ]
  },
  {
   "cell_type": "markdown",
   "metadata": {
    "slideshow": {
     "slide_type": "subslide"
    }
   },
   "source": [
    "## Selecting columns\n"
   ]
  },
  {
   "cell_type": "markdown",
   "metadata": {},
   "source": [
    "There are three main ways to select columns from a DataTable:\n",
    "\n",
    "* indexing notation [].\n",
    "* The .loc accessor\n",
    "* The .iloc accessor"
   ]
  },
  {
   "cell_type": "markdown",
   "metadata": {
    "slideshow": {
     "slide_type": "subslide"
    }
   },
   "source": [
    "## Selecting columns with the index notation"
   ]
  },
  {
   "cell_type": "markdown",
   "metadata": {},
   "source": [
    "Use the index notation if you know the name of the column(s) that you want to extract.\n",
    "\n",
    "If you use a single column, the result is a Series:"
   ]
  },
  {
   "cell_type": "code",
   "execution_count": null,
   "metadata": {},
   "outputs": [],
   "source": [
    "trips[\"Start time\"].head()"
   ]
  },
  {
   "cell_type": "markdown",
   "metadata": {
    "slideshow": {
     "slide_type": "subslide"
    }
   },
   "source": [
    "## Selecting multiple columns\n",
    "\n",
    "Multiple columns are selected by indexing with a list of column titles. The result is a DataFrame:"
   ]
  },
  {
   "cell_type": "code",
   "execution_count": null,
   "metadata": {},
   "outputs": [],
   "source": [
    "trips[[\"Start time\", \"End time\"]].head()"
   ]
  },
  {
   "cell_type": "markdown",
   "metadata": {
    "slideshow": {
     "slide_type": "subslide"
    }
   },
   "source": [
    "### Selecting rows and columns \n",
    "\n",
    "`loc`  a more explicit alternative for selecting rows and/or columns"
   ]
  },
  {
   "cell_type": "markdown",
   "metadata": {},
   "source": [
    "**Syntax**: `DataFrame.loc[ROWS, COLUMNS]`"
   ]
  },
  {
   "cell_type": "code",
   "execution_count": null,
   "metadata": {},
   "outputs": [],
   "source": [
    "trips.loc[[1,5], [\"Start time\", \"End time\"]]"
   ]
  },
  {
   "cell_type": "markdown",
   "metadata": {},
   "source": [
    "Use the : notation to select ranges of columns/rows."
   ]
  },
  {
   "cell_type": "markdown",
   "metadata": {
    "slideshow": {
     "slide_type": "subslide"
    }
   },
   "source": [
    "### Selecting rows and columns based on indices\n",
    "\n",
    "`iloc` is the same is `loc` but expectes the index positions instead of column names (i.e. always uses intergers)"
   ]
  },
  {
   "cell_type": "markdown",
   "metadata": {},
   "source": [
    "**Syntax**: `DataFrame.iloc[ROWS, COLUMNS]`"
   ]
  },
  {
   "cell_type": "code",
   "execution_count": null,
   "metadata": {},
   "outputs": [],
   "source": [
    "trips.iloc[:5, 0:2]"
   ]
  },
  {
   "cell_type": "markdown",
   "metadata": {},
   "source": [
    "## Selecting based on values in columns\n",
    "\n",
    "Comparisons on a series produce a new series of booleans.\n",
    "This can be used to construct a \"mask\" of values that can be passed\n",
    "to loc or index-access:"
   ]
  },
  {
   "cell_type": "code",
   "execution_count": null,
   "metadata": {},
   "outputs": [],
   "source": [
    "trips[\"Start station\"] == 283"
   ]
  },
  {
   "cell_type": "code",
   "execution_count": null,
   "metadata": {},
   "outputs": [],
   "source": [
    "(trips[\"Start station\"] == 283).sum()"
   ]
  },
  {
   "cell_type": "code",
   "execution_count": null,
   "metadata": {},
   "outputs": [],
   "source": [
    "trips[trips[\"Start station\"] == 283]"
   ]
  },
  {
   "cell_type": "markdown",
   "metadata": {},
   "source": [
    "We can even do complex arithmetic on columns"
   ]
  },
  {
   "cell_type": "code",
   "execution_count": null,
   "metadata": {},
   "outputs": [],
   "source": [
    "durations = trips[\"End time\"] - trips[\"Start time\"]\n",
    "durations"
   ]
  },
  {
   "cell_type": "code",
   "execution_count": null,
   "metadata": {},
   "outputs": [],
   "source": [
    "durations.quantile(0.9)"
   ]
  },
  {
   "cell_type": "markdown",
   "metadata": {},
   "source": [
    "Anything that results in a boolean Series with the same index as a dataframe or series\n",
    "can be used to select a subset of data.\n",
    "\n",
    "This example says: give us the top 10% (above 90th percential) of trips by duration"
   ]
  },
  {
   "cell_type": "code",
   "execution_count": null,
   "metadata": {},
   "outputs": [],
   "source": [
    "trips[durations >= durations.quantile(0.9)]"
   ]
  },
  {
   "cell_type": "markdown",
   "metadata": {},
   "source": [
    "Or specify a value. Pandas has lots of *very* useful convenience functions\n",
    "for comparing dates. You can often specify a string which pandas will interpret"
   ]
  },
  {
   "cell_type": "code",
   "execution_count": null,
   "metadata": {},
   "outputs": [],
   "source": [
    "trips[durations >= \"1 day\"]"
   ]
  },
  {
   "cell_type": "markdown",
   "metadata": {},
   "source": [
    "# Exercise\n",
    "1) Use pandas to read the file GRA4157/lectures/04-pandas/data/pressure.csv into a DataFrame. Pressure.csv consists of three columns, one index column, one time column and one pressure column obtained from sensor data.\n",
    "\n",
    "2) Plot pressure versus time. \n",
    "\n",
    "3) Determine the relative amount (e.g. in %) of time the pressure is above 1.  \n",
    "\n",
    "4) Determine the total amount of time (in seconds) the pressure is above 1. \n",
    "\n",
    "5) You may note that the signal is periodic. Determine the amplitude (peak-to-peak) of the signal and the time between each cycle for a few of the cycles. Hint: Some smoothing may be needed. "
   ]
  },
  {
   "cell_type": "markdown",
   "metadata": {},
   "source": [
    "## Special handling of strings and datetime\n",
    "\n",
    "Series with datetime data or strings have special accessor methods for working with that kind of data\n",
    "by accessing a `.dt` or `.str` attribute, giving access to "
   ]
  },
  {
   "cell_type": "code",
   "execution_count": null,
   "metadata": {},
   "outputs": [],
   "source": [
    "trips[\"Start time\"].dt.weekday"
   ]
  },
  {
   "cell_type": "markdown",
   "metadata": {},
   "source": [
    "Boolean series can be combined using Python's bitwise or (`|`) and bitwise and (`&`) operators.\n",
    "So we can find late-night trips, i.e. those that start between 22:00 and 04:00"
   ]
  },
  {
   "cell_type": "code",
   "execution_count": null,
   "metadata": {},
   "outputs": [],
   "source": [
    "trips[(trips[\"Start time\"].dt.hour >= 22) | (trips[\"Start time\"].dt.hour <= 3)]"
   ]
  },
  {
   "cell_type": "markdown",
   "metadata": {},
   "source": [
    "## GroupBy\n",
    "\n",
    "grouping is like creating a dictionary of dataframes for subsets of your data.\n",
    "You can group by any kind of value.\n",
    "The result is like a dictionary of data frames,\n",
    "where each one contains a subset of data matching some criterion."
   ]
  },
  {
   "cell_type": "markdown",
   "metadata": {},
   "source": [
    "You can pass groupby one or more column names to group by unique values on that column"
   ]
  },
  {
   "cell_type": "code",
   "execution_count": null,
   "metadata": {},
   "outputs": [],
   "source": [
    "trips.groupby(\"Start station\").count()"
   ]
  },
  {
   "cell_type": "markdown",
   "metadata": {},
   "source": [
    "groupby can be expensive, so it delays actual operations as late as possible"
   ]
  },
  {
   "cell_type": "code",
   "execution_count": null,
   "metadata": {},
   "outputs": [],
   "source": [
    "trips.groupby(\"Start station\")[\"End station\"]"
   ]
  },
  {
   "cell_type": "markdown",
   "metadata": {},
   "source": [
    "Metrics such as `count`, `unique`, `value_counts` etc. result in actual evaluation"
   ]
  },
  {
   "cell_type": "code",
   "execution_count": null,
   "metadata": {},
   "outputs": [],
   "source": [
    "trips.groupby(\"Start station\")[\"End station\"].count()"
   ]
  },
  {
   "cell_type": "markdown",
   "metadata": {},
   "source": [
    "`.value_counts()` creates a Series, so we have a two-level index:"
   ]
  },
  {
   "cell_type": "code",
   "execution_count": null,
   "metadata": {},
   "outputs": [],
   "source": [
    "trips.groupby(\"Start station\")[\"End station\"].value_counts()"
   ]
  },
  {
   "cell_type": "code",
   "execution_count": null,
   "metadata": {},
   "outputs": [],
   "source": [
    "trips.groupby(\"Start station\")[\"End station\"].value_counts()[157]"
   ]
  },
  {
   "cell_type": "markdown",
   "metadata": {},
   "source": [
    "We can use groupby to count the number of tripts that start on each weekday:"
   ]
  },
  {
   "cell_type": "code",
   "execution_count": null,
   "metadata": {},
   "outputs": [],
   "source": [
    "trips.groupby(trips[\"Start time\"].dt.weekday).count()"
   ]
  },
  {
   "cell_type": "code",
   "execution_count": null,
   "metadata": {},
   "outputs": [],
   "source": [
    "trips.groupby(trips[\"Start time\"].dt.weekday)[\"Start station\"].count()"
   ]
  },
  {
   "cell_type": "code",
   "execution_count": null,
   "metadata": {},
   "outputs": [],
   "source": [
    "by_day = trips.groupby(trips[\"Start time\"].dt.weekday)\n",
    "grouped = trips.groupby([trips[\"Start time\"].dt.weekday, trips[\"Start time\"].dt.day == trips[\"End time\"].dt.day])\n",
    "print((grouped.count() / by_day.count())[\"Start station\"].to_string(float_format=\"{:,.2%}\".format))"
   ]
  },
  {
   "cell_type": "code",
   "execution_count": null,
   "metadata": {},
   "outputs": [],
   "source": [
    "by_day = trips.groupby(trips[\"Start time\"].dt.weekday)\n",
    "by_day.count()"
   ]
  },
  {
   "cell_type": "code",
   "execution_count": null,
   "metadata": {},
   "outputs": [],
   "source": [
    "grouped = trips.groupby([trips[\"Start time\"].dt.weekday, trips[\"Start time\"].dt.day == trips[\"End time\"].dt.day])\n",
    "grouped.count()"
   ]
  },
  {
   "cell_type": "code",
   "execution_count": null,
   "metadata": {},
   "outputs": [],
   "source": [
    "s = (grouped.count() / by_day.count())[\"Start station\"]\n",
    "s"
   ]
  },
  {
   "cell_type": "code",
   "execution_count": null,
   "metadata": {},
   "outputs": [],
   "source": [
    "print(s.to_string(float_format=\"{:,.2%}\".format))"
   ]
  },
  {
   "cell_type": "markdown",
   "metadata": {
    "slideshow": {
     "slide_type": "subslide"
    }
   },
   "source": [
    "## Visualisation"
   ]
  },
  {
   "cell_type": "markdown",
   "metadata": {},
   "source": [
    "We can use the `plot` class method to plot our data table:"
   ]
  },
  {
   "cell_type": "code",
   "execution_count": null,
   "metadata": {},
   "outputs": [],
   "source": [
    "trips['Start time'].plot();\n"
   ]
  },
  {
   "cell_type": "markdown",
   "metadata": {},
   "source": [
    "By default, the DataFrame index is used to label the x-axis."
   ]
  },
  {
   "cell_type": "markdown",
   "metadata": {
    "slideshow": {
     "slide_type": "subslide"
    }
   },
   "source": [
    "## Plotting multiple columns "
   ]
  },
  {
   "cell_type": "markdown",
   "metadata": {},
   "source": [
    "Passing multiple columns results in multiple plot lines"
   ]
  },
  {
   "cell_type": "code",
   "execution_count": null,
   "metadata": {},
   "outputs": [],
   "source": [
    "trips[['Start time', 'End time']].head(100).plot();"
   ]
  },
  {
   "cell_type": "markdown",
   "metadata": {},
   "source": [
    "In order to get a more meaningful x-axis, we can select a column to be used as the x-axis:"
   ]
  },
  {
   "cell_type": "code",
   "execution_count": null,
   "metadata": {},
   "outputs": [],
   "source": [
    "trips.head(5000).plot.scatter(\n",
    "    x=\"Start station\", y=[\"End station\"], c=\"Start time\", cmap=\"viridis\"\n",
    ");"
   ]
  },
  {
   "cell_type": "markdown",
   "metadata": {
    "slideshow": {
     "slide_type": "subslide"
    }
   },
   "source": [
    "## Bar plots"
   ]
  },
  {
   "cell_type": "markdown",
   "metadata": {},
   "source": [
    "The documentation of plot reveils many more plotting options:"
   ]
  },
  {
   "cell_type": "code",
   "execution_count": null,
   "metadata": {},
   "outputs": [],
   "source": [
    "trips.plot?"
   ]
  },
  {
   "cell_type": "markdown",
   "metadata": {},
   "source": [
    "For example, let's create a bar plot:"
   ]
  },
  {
   "cell_type": "code",
   "execution_count": null,
   "metadata": {},
   "outputs": [],
   "source": [
    "trips.head(10).plot(x='Start time', y=['Start station', 'End station'], kind='bar');"
   ]
  },
  {
   "cell_type": "markdown",
   "metadata": {},
   "source": [
    "## Histograms"
   ]
  },
  {
   "cell_type": "code",
   "execution_count": null,
   "metadata": {},
   "outputs": [],
   "source": [
    "trips['Start station'].plot(kind='hist');"
   ]
  },
  {
   "cell_type": "code",
   "execution_count": null,
   "metadata": {},
   "outputs": [],
   "source": [
    "trips['Start time'].dt.hour.plot(kind='hist', bins=range(25));"
   ]
  },
  {
   "cell_type": "code",
   "execution_count": null,
   "metadata": {},
   "outputs": [],
   "source": [
    "trips['Start time'].dt.weekday.plot.hist(bins=range(8));"
   ]
  },
  {
   "cell_type": "markdown",
   "metadata": {},
   "source": [
    "'unstack' takes a two-level index and promotes one level to column names"
   ]
  },
  {
   "cell_type": "code",
   "execution_count": null,
   "metadata": {},
   "outputs": [],
   "source": [
    "grouped.count()[\"Start station\"].unstack(1)"
   ]
  },
  {
   "cell_type": "code",
   "execution_count": null,
   "metadata": {},
   "outputs": [],
   "source": [
    "import calendar\n",
    "import matplotlib.pyplot as plt"
   ]
  },
  {
   "cell_type": "code",
   "execution_count": null,
   "metadata": {},
   "outputs": [],
   "source": [
    "grouped.count()[\"Start station\"].unstack(1).plot(kind=\"bar\", stacked=True)\n",
    "plt.xlabel(\"Weekday\");\n",
    "plt.xticks(range(7), calendar.day_name);"
   ]
  },
  {
   "cell_type": "code",
   "execution_count": null,
   "metadata": {},
   "outputs": [],
   "source": [
    "(grouped.count() / by_day.count())[\"Start station\"].unstack(1)[False].plot.bar()\n",
    "plt.xlabel(\"Weekday\");\n",
    "plt.xticks(range(7), calendar.day_name);"
   ]
  },
  {
   "cell_type": "markdown",
   "metadata": {
    "slideshow": {
     "slide_type": "subslide"
    }
   },
   "source": [
    "## Saving data "
   ]
  },
  {
   "cell_type": "markdown",
   "metadata": {},
   "source": [
    "DataFrames can be saved to various formats. \n",
    "\n",
    "For exporting to a spreadsheet compatible format (e.g. Excel), you can export as CSV file: "
   ]
  },
  {
   "cell_type": "code",
   "execution_count": null,
   "metadata": {},
   "outputs": [],
   "source": [
    "data = trips[['Start station', 'End station']].head(10)\n",
    "\n",
    "with open(\"start_stop_stations.csv\", \"w\") as file:\n",
    "    csv =  data.to_csv()\n",
    "    print(csv)\n",
    "    file.write(csv)"
   ]
  },
  {
   "cell_type": "markdown",
   "metadata": {},
   "source": [
    "## Usefull trick for your master thesis"
   ]
  },
  {
   "cell_type": "markdown",
   "metadata": {},
   "source": [
    "**Goal**: If you do data analyis as part of your research, it is usefull to generate any figures/tables directly from your analytics scripts. \n",
    "\n",
    "**Solution**: Pandas can automatically generate Latex tables: "
   ]
  },
  {
   "cell_type": "code",
   "execution_count": null,
   "metadata": {},
   "outputs": [],
   "source": [
    "with open('table.tex', 'w') as file:\n",
    "    latex = data.to_latex()\n",
    "    print(latex)\n",
    "    file.write(latex)\n"
   ]
  },
  {
   "cell_type": "markdown",
   "metadata": {
    "slideshow": {
     "slide_type": "subslide"
    }
   },
   "source": [
    "## Simple data analytics: What are the most used bike stations?"
   ]
  },
  {
   "cell_type": "markdown",
   "metadata": {},
   "source": [
    "**Approach**: For each bike station usage, the station's `id` occurs in a new row in the `Start station` column. \n",
    "In order to find how often a bike station is used, we count how often the station id occurs in the `Start station` column. By sorting these counds from high to low, we get the most used bike stations. \n",
    "\n",
    "The function `value_counts` does exactly what we need:"
   ]
  },
  {
   "cell_type": "code",
   "execution_count": null,
   "metadata": {},
   "outputs": [],
   "source": [
    "trips['Start station'].value_counts()[10:]   "
   ]
  },
  {
   "cell_type": "markdown",
   "metadata": {},
   "source": [
    "Let's plot the result in the bar chart:"
   ]
  },
  {
   "cell_type": "code",
   "execution_count": null,
   "metadata": {},
   "outputs": [],
   "source": [
    "trips['Start station'].value_counts()[:50].plot(kind='bar');\n",
    "plt.grid(False);"
   ]
  },
  {
   "cell_type": "markdown",
   "metadata": {
    "slideshow": {
     "slide_type": "subslide"
    }
   },
   "source": [
    "## Concatenating DataFrames 1/2"
   ]
  },
  {
   "cell_type": "markdown",
   "metadata": {},
   "source": [
    "The data so far only contained the statistics for October 2016:"
   ]
  },
  {
   "cell_type": "code",
   "execution_count": null,
   "metadata": {},
   "outputs": [],
   "source": [
    "trips_oct[\"Start time\"].min(), trips_oct[\"Start time\"].max()"
   ]
  },
  {
   "cell_type": "markdown",
   "metadata": {},
   "source": [
    "Let us load the data for September 2016:"
   ]
  },
  {
   "cell_type": "code",
   "execution_count": null,
   "metadata": {},
   "outputs": [],
   "source": [
    "trips_sep = pd.read_csv(\n",
    "    \"data/bysykkel/trips-2016.9.1-2016.9.30.csv\",\n",
    "    sep=\",\",\n",
    "    parse_dates=[\"Start time\", \"End time\"],\n",
    "    date_parser=lambda col: pd.to_datetime(col, utc=True),\n",
    ")\n",
    "# perform transform to ensure we have integer stations\n",
    "trips_sep = trips_sep.dropna().astype({\"End station\": int})"
   ]
  },
  {
   "cell_type": "markdown",
   "metadata": {
    "slideshow": {
     "slide_type": "subslide"
    }
   },
   "source": [
    "## Concatenating DataFrames 2/2"
   ]
  },
  {
   "cell_type": "markdown",
   "metadata": {},
   "source": [
    "To concatenate the two, we use the `concat` function:"
   ]
  },
  {
   "cell_type": "code",
   "execution_count": null,
   "metadata": {},
   "outputs": [],
   "source": [
    "trips = pd.concat([trips_sep, trips_oct]).reset_index()\n",
    "trips"
   ]
  },
  {
   "cell_type": "markdown",
   "metadata": {},
   "source": [
    "Let's check that we indeed have the full range:"
   ]
  },
  {
   "cell_type": "code",
   "execution_count": 24,
   "metadata": {},
   "outputs": [
    {
     "data": {
      "text/plain": [
       "(Timestamp('2016-10-01 04:00:08+0000', tz='UTC'),\n",
       " Timestamp('2016-10-31 22:59:10+0000', tz='UTC'))"
      ]
     },
     "execution_count": 24,
     "metadata": {},
     "output_type": "execute_result"
    }
   ],
   "source": [
    "trips[\"Start time\"].min(), trips[\"Start time\"].max()"
   ]
  },
  {
   "cell_type": "code",
   "execution_count": 25,
   "metadata": {},
   "outputs": [
    {
     "ename": "NameError",
     "evalue": "name 'trips_sep' is not defined",
     "output_type": "error",
     "traceback": [
      "\u001b[0;31m---------------------------------------------------------------------------\u001b[0m",
      "\u001b[0;31mNameError\u001b[0m                                 Traceback (most recent call last)",
      "Input \u001b[0;32mIn [25]\u001b[0m, in \u001b[0;36m<cell line: 1>\u001b[0;34m()\u001b[0m\n\u001b[0;32m----> 1\u001b[0m \u001b[38;5;28mlen\u001b[39m(\u001b[43mtrips_sep\u001b[49m), \u001b[38;5;28mlen\u001b[39m(trips_oct), \u001b[38;5;28mlen\u001b[39m(trips)\n",
      "\u001b[0;31mNameError\u001b[0m: name 'trips_sep' is not defined"
     ]
    }
   ],
   "source": [
    "len(trips_sep), len(trips_oct), len(trips)"
   ]
  },
  {
   "cell_type": "markdown",
   "metadata": {
    "slideshow": {
     "slide_type": "subslide"
    }
   },
   "source": [
    "# Linking multiple tables"
   ]
  },
  {
   "cell_type": "markdown",
   "metadata": {},
   "source": [
    "**Problem**: At the moment, the bike stations are anonymous ids. It would be usefull to have additional meta-data (location name, GPS coordinates, ...) attached. \n",
    "\n",
    "Luckily we have a file that contains this information:"
   ]
  },
  {
   "cell_type": "code",
   "execution_count": 26,
   "metadata": {},
   "outputs": [
    {
     "data": {
      "text/plain": [
       "[{'id': 157,\n",
       "  'in_service': True,\n",
       "  'title': 'Nylandsveien',\n",
       "  'subtitle': 'mellom Norbygata og Urtegata',\n",
       "  'number_of_locks': 30,\n",
       "  'center': {'latitude': 59.91562, 'longitude': 10.762248},\n",
       "  'bounds': [{'latitude': 59.915418602160436, 'longitude': 10.762068629264832},\n",
       "   {'latitude': 59.91565254992276, 'longitude': 10.762672126293182},\n",
       "   {'latitude': 59.915807169665264, 'longitude': 10.762433409690855},\n",
       "   {'latitude': 59.91557994562126, 'longitude': 10.761821866035461},\n",
       "   {'latitude': 59.915418602160436, 'longitude': 10.762068629264832}]},\n",
       " {'id': 158,\n",
       "  'in_service': True,\n",
       "  'title': 'Bentsebrugata',\n",
       "  'subtitle': 'rett over busstoppet',\n",
       "  'number_of_locks': 24,\n",
       "  'center': {'latitude': 59.939228, 'longitude': 10.75917},\n",
       "  'bounds': [{'latitude': 59.93914016847159, 'longitude': 10.758990666291977},\n",
       "   {'latitude': 59.93914016847159, 'longitude': 10.759349333708023},\n",
       "   {'latitude': 59.939319831528415, 'longitude': 10.759349333708023},\n",
       "   {'latitude': 59.939319831528415, 'longitude': 10.758990666291977},\n",
       "   {'latitude': 59.93914016847159, 'longitude': 10.758990666291977}]}]"
      ]
     },
     "execution_count": 26,
     "metadata": {},
     "output_type": "execute_result"
    }
   ],
   "source": [
    "import json\n",
    "with open(\"data/bysykkel/stations.json\") as f:\n",
    "    station_info = json.load(f)\n",
    "station_info[\"stations\"][:2]"
   ]
  },
  {
   "cell_type": "markdown",
   "metadata": {
    "slideshow": {
     "slide_type": "subslide"
    }
   },
   "source": [
    "## Reading the station information 1/3"
   ]
  },
  {
   "cell_type": "markdown",
   "metadata": {},
   "source": [
    "The obvious thing would be to use `pd.read_json`:"
   ]
  },
  {
   "cell_type": "code",
   "execution_count": 27,
   "metadata": {},
   "outputs": [
    {
     "ename": "ValueError",
     "evalue": "Expected object or value",
     "output_type": "error",
     "traceback": [
      "\u001b[0;31m---------------------------------------------------------------------------\u001b[0m",
      "\u001b[0;31mValueError\u001b[0m                                Traceback (most recent call last)",
      "Input \u001b[0;32mIn [27]\u001b[0m, in \u001b[0;36m<cell line: 1>\u001b[0;34m()\u001b[0m\n\u001b[0;32m----> 1\u001b[0m bike_stations \u001b[38;5;241m=\u001b[39m \u001b[43mpd\u001b[49m\u001b[38;5;241;43m.\u001b[39;49m\u001b[43mread_json\u001b[49m\u001b[43m(\u001b[49m\u001b[38;5;124;43m'\u001b[39;49m\u001b[38;5;124;43mdata/bysykkel/stations\u001b[39;49m\u001b[38;5;124;43m'\u001b[39;49m\u001b[43m)\u001b[49m\n",
      "File \u001b[0;32m~/.local/lib/python3.9/site-packages/pandas/util/_decorators.py:207\u001b[0m, in \u001b[0;36mdeprecate_kwarg.<locals>._deprecate_kwarg.<locals>.wrapper\u001b[0;34m(*args, **kwargs)\u001b[0m\n\u001b[1;32m    205\u001b[0m     \u001b[38;5;28;01melse\u001b[39;00m:\n\u001b[1;32m    206\u001b[0m         kwargs[new_arg_name] \u001b[38;5;241m=\u001b[39m new_arg_value\n\u001b[0;32m--> 207\u001b[0m \u001b[38;5;28;01mreturn\u001b[39;00m \u001b[43mfunc\u001b[49m\u001b[43m(\u001b[49m\u001b[38;5;241;43m*\u001b[39;49m\u001b[43margs\u001b[49m\u001b[43m,\u001b[49m\u001b[43m \u001b[49m\u001b[38;5;241;43m*\u001b[39;49m\u001b[38;5;241;43m*\u001b[39;49m\u001b[43mkwargs\u001b[49m\u001b[43m)\u001b[49m\n",
      "File \u001b[0;32m~/.local/lib/python3.9/site-packages/pandas/util/_decorators.py:311\u001b[0m, in \u001b[0;36mdeprecate_nonkeyword_arguments.<locals>.decorate.<locals>.wrapper\u001b[0;34m(*args, **kwargs)\u001b[0m\n\u001b[1;32m    305\u001b[0m \u001b[38;5;28;01mif\u001b[39;00m \u001b[38;5;28mlen\u001b[39m(args) \u001b[38;5;241m>\u001b[39m num_allow_args:\n\u001b[1;32m    306\u001b[0m     warnings\u001b[38;5;241m.\u001b[39mwarn(\n\u001b[1;32m    307\u001b[0m         msg\u001b[38;5;241m.\u001b[39mformat(arguments\u001b[38;5;241m=\u001b[39marguments),\n\u001b[1;32m    308\u001b[0m         \u001b[38;5;167;01mFutureWarning\u001b[39;00m,\n\u001b[1;32m    309\u001b[0m         stacklevel\u001b[38;5;241m=\u001b[39mstacklevel,\n\u001b[1;32m    310\u001b[0m     )\n\u001b[0;32m--> 311\u001b[0m \u001b[38;5;28;01mreturn\u001b[39;00m \u001b[43mfunc\u001b[49m\u001b[43m(\u001b[49m\u001b[38;5;241;43m*\u001b[39;49m\u001b[43margs\u001b[49m\u001b[43m,\u001b[49m\u001b[43m \u001b[49m\u001b[38;5;241;43m*\u001b[39;49m\u001b[38;5;241;43m*\u001b[39;49m\u001b[43mkwargs\u001b[49m\u001b[43m)\u001b[49m\n",
      "File \u001b[0;32m~/.local/lib/python3.9/site-packages/pandas/io/json/_json.py:614\u001b[0m, in \u001b[0;36mread_json\u001b[0;34m(path_or_buf, orient, typ, dtype, convert_axes, convert_dates, keep_default_dates, numpy, precise_float, date_unit, encoding, encoding_errors, lines, chunksize, compression, nrows, storage_options)\u001b[0m\n\u001b[1;32m    611\u001b[0m     \u001b[38;5;28;01mreturn\u001b[39;00m json_reader\n\u001b[1;32m    613\u001b[0m \u001b[38;5;28;01mwith\u001b[39;00m json_reader:\n\u001b[0;32m--> 614\u001b[0m     \u001b[38;5;28;01mreturn\u001b[39;00m \u001b[43mjson_reader\u001b[49m\u001b[38;5;241;43m.\u001b[39;49m\u001b[43mread\u001b[49m\u001b[43m(\u001b[49m\u001b[43m)\u001b[49m\n",
      "File \u001b[0;32m~/.local/lib/python3.9/site-packages/pandas/io/json/_json.py:748\u001b[0m, in \u001b[0;36mJsonReader.read\u001b[0;34m(self)\u001b[0m\n\u001b[1;32m    746\u001b[0m         obj \u001b[38;5;241m=\u001b[39m \u001b[38;5;28mself\u001b[39m\u001b[38;5;241m.\u001b[39m_get_object_parser(\u001b[38;5;28mself\u001b[39m\u001b[38;5;241m.\u001b[39m_combine_lines(data_lines))\n\u001b[1;32m    747\u001b[0m \u001b[38;5;28;01melse\u001b[39;00m:\n\u001b[0;32m--> 748\u001b[0m     obj \u001b[38;5;241m=\u001b[39m \u001b[38;5;28;43mself\u001b[39;49m\u001b[38;5;241;43m.\u001b[39;49m\u001b[43m_get_object_parser\u001b[49m\u001b[43m(\u001b[49m\u001b[38;5;28;43mself\u001b[39;49m\u001b[38;5;241;43m.\u001b[39;49m\u001b[43mdata\u001b[49m\u001b[43m)\u001b[49m\n\u001b[1;32m    749\u001b[0m \u001b[38;5;28mself\u001b[39m\u001b[38;5;241m.\u001b[39mclose()\n\u001b[1;32m    750\u001b[0m \u001b[38;5;28;01mreturn\u001b[39;00m obj\n",
      "File \u001b[0;32m~/.local/lib/python3.9/site-packages/pandas/io/json/_json.py:770\u001b[0m, in \u001b[0;36mJsonReader._get_object_parser\u001b[0;34m(self, json)\u001b[0m\n\u001b[1;32m    768\u001b[0m obj \u001b[38;5;241m=\u001b[39m \u001b[38;5;28;01mNone\u001b[39;00m\n\u001b[1;32m    769\u001b[0m \u001b[38;5;28;01mif\u001b[39;00m typ \u001b[38;5;241m==\u001b[39m \u001b[38;5;124m\"\u001b[39m\u001b[38;5;124mframe\u001b[39m\u001b[38;5;124m\"\u001b[39m:\n\u001b[0;32m--> 770\u001b[0m     obj \u001b[38;5;241m=\u001b[39m \u001b[43mFrameParser\u001b[49m\u001b[43m(\u001b[49m\u001b[43mjson\u001b[49m\u001b[43m,\u001b[49m\u001b[43m \u001b[49m\u001b[38;5;241;43m*\u001b[39;49m\u001b[38;5;241;43m*\u001b[39;49m\u001b[43mkwargs\u001b[49m\u001b[43m)\u001b[49m\u001b[38;5;241;43m.\u001b[39;49m\u001b[43mparse\u001b[49m\u001b[43m(\u001b[49m\u001b[43m)\u001b[49m\n\u001b[1;32m    772\u001b[0m \u001b[38;5;28;01mif\u001b[39;00m typ \u001b[38;5;241m==\u001b[39m \u001b[38;5;124m\"\u001b[39m\u001b[38;5;124mseries\u001b[39m\u001b[38;5;124m\"\u001b[39m \u001b[38;5;129;01mor\u001b[39;00m obj \u001b[38;5;129;01mis\u001b[39;00m \u001b[38;5;28;01mNone\u001b[39;00m:\n\u001b[1;32m    773\u001b[0m     \u001b[38;5;28;01mif\u001b[39;00m \u001b[38;5;129;01mnot\u001b[39;00m \u001b[38;5;28misinstance\u001b[39m(dtype, \u001b[38;5;28mbool\u001b[39m):\n",
      "File \u001b[0;32m~/.local/lib/python3.9/site-packages/pandas/io/json/_json.py:885\u001b[0m, in \u001b[0;36mParser.parse\u001b[0;34m(self)\u001b[0m\n\u001b[1;32m    882\u001b[0m     \u001b[38;5;28mself\u001b[39m\u001b[38;5;241m.\u001b[39m_parse_numpy()\n\u001b[1;32m    884\u001b[0m \u001b[38;5;28;01melse\u001b[39;00m:\n\u001b[0;32m--> 885\u001b[0m     \u001b[38;5;28;43mself\u001b[39;49m\u001b[38;5;241;43m.\u001b[39;49m\u001b[43m_parse_no_numpy\u001b[49m\u001b[43m(\u001b[49m\u001b[43m)\u001b[49m\n\u001b[1;32m    887\u001b[0m \u001b[38;5;28;01mif\u001b[39;00m \u001b[38;5;28mself\u001b[39m\u001b[38;5;241m.\u001b[39mobj \u001b[38;5;129;01mis\u001b[39;00m \u001b[38;5;28;01mNone\u001b[39;00m:\n\u001b[1;32m    888\u001b[0m     \u001b[38;5;28;01mreturn\u001b[39;00m \u001b[38;5;28;01mNone\u001b[39;00m\n",
      "File \u001b[0;32m~/.local/lib/python3.9/site-packages/pandas/io/json/_json.py:1140\u001b[0m, in \u001b[0;36mFrameParser._parse_no_numpy\u001b[0;34m(self)\u001b[0m\n\u001b[1;32m   1136\u001b[0m orient \u001b[38;5;241m=\u001b[39m \u001b[38;5;28mself\u001b[39m\u001b[38;5;241m.\u001b[39morient\n\u001b[1;32m   1138\u001b[0m \u001b[38;5;28;01mif\u001b[39;00m orient \u001b[38;5;241m==\u001b[39m \u001b[38;5;124m\"\u001b[39m\u001b[38;5;124mcolumns\u001b[39m\u001b[38;5;124m\"\u001b[39m:\n\u001b[1;32m   1139\u001b[0m     \u001b[38;5;28mself\u001b[39m\u001b[38;5;241m.\u001b[39mobj \u001b[38;5;241m=\u001b[39m DataFrame(\n\u001b[0;32m-> 1140\u001b[0m         \u001b[43mloads\u001b[49m\u001b[43m(\u001b[49m\u001b[43mjson\u001b[49m\u001b[43m,\u001b[49m\u001b[43m \u001b[49m\u001b[43mprecise_float\u001b[49m\u001b[38;5;241;43m=\u001b[39;49m\u001b[38;5;28;43mself\u001b[39;49m\u001b[38;5;241;43m.\u001b[39;49m\u001b[43mprecise_float\u001b[49m\u001b[43m)\u001b[49m, dtype\u001b[38;5;241m=\u001b[39m\u001b[38;5;28;01mNone\u001b[39;00m\n\u001b[1;32m   1141\u001b[0m     )\n\u001b[1;32m   1142\u001b[0m \u001b[38;5;28;01melif\u001b[39;00m orient \u001b[38;5;241m==\u001b[39m \u001b[38;5;124m\"\u001b[39m\u001b[38;5;124msplit\u001b[39m\u001b[38;5;124m\"\u001b[39m:\n\u001b[1;32m   1143\u001b[0m     decoded \u001b[38;5;241m=\u001b[39m {\n\u001b[1;32m   1144\u001b[0m         \u001b[38;5;28mstr\u001b[39m(k): v\n\u001b[1;32m   1145\u001b[0m         \u001b[38;5;28;01mfor\u001b[39;00m k, v \u001b[38;5;129;01min\u001b[39;00m loads(json, precise_float\u001b[38;5;241m=\u001b[39m\u001b[38;5;28mself\u001b[39m\u001b[38;5;241m.\u001b[39mprecise_float)\u001b[38;5;241m.\u001b[39mitems()\n\u001b[1;32m   1146\u001b[0m     }\n",
      "\u001b[0;31mValueError\u001b[0m: Expected object or value"
     ]
    }
   ],
   "source": [
    "bike_stations = pd.read_json('data/bysykkel/stations')"
   ]
  },
  {
   "cell_type": "markdown",
   "metadata": {},
   "source": [
    "Does not work because `read_json` expects the json to have a specific structure."
   ]
  },
  {
   "cell_type": "markdown",
   "metadata": {
    "slideshow": {
     "slide_type": "subslide"
    }
   },
   "source": [
    "## Reading the station information 2/3"
   ]
  },
  {
   "cell_type": "markdown",
   "metadata": {},
   "source": [
    "Instead we load the data with the `json` module:"
   ]
  },
  {
   "cell_type": "code",
   "execution_count": 28,
   "metadata": {},
   "outputs": [
    {
     "name": "stdout",
     "output_type": "stream",
     "text": [
      "dict_keys(['stations'])\n"
     ]
    }
   ],
   "source": [
    "import json\n",
    "with open('data/bysykkel/stations.json', 'r') as f:\n",
    "    stations_json = json.load(f)\n",
    "print(stations_json.keys())\n"
   ]
  },
  {
   "cell_type": "markdown",
   "metadata": {},
   "source": [
    "We are interested in the node `stations`, so let's extract this:"
   ]
  },
  {
   "cell_type": "code",
   "execution_count": 29,
   "metadata": {},
   "outputs": [
    {
     "name": "stdout",
     "output_type": "stream",
     "text": [
      "130\n"
     ]
    },
    {
     "data": {
      "text/plain": [
       "[{'id': 157,\n",
       "  'in_service': True,\n",
       "  'title': 'Nylandsveien',\n",
       "  'subtitle': 'mellom Norbygata og Urtegata',\n",
       "  'number_of_locks': 30,\n",
       "  'center': {'latitude': 59.91562, 'longitude': 10.762248},\n",
       "  'bounds': [{'latitude': 59.915418602160436, 'longitude': 10.762068629264832},\n",
       "   {'latitude': 59.91565254992276, 'longitude': 10.762672126293182},\n",
       "   {'latitude': 59.915807169665264, 'longitude': 10.762433409690855},\n",
       "   {'latitude': 59.91557994562126, 'longitude': 10.761821866035461},\n",
       "   {'latitude': 59.915418602160436, 'longitude': 10.762068629264832}]},\n",
       " {'id': 158,\n",
       "  'in_service': True,\n",
       "  'title': 'Bentsebrugata',\n",
       "  'subtitle': 'rett over busstoppet',\n",
       "  'number_of_locks': 24,\n",
       "  'center': {'latitude': 59.939228, 'longitude': 10.75917},\n",
       "  'bounds': [{'latitude': 59.93914016847159, 'longitude': 10.758990666291977},\n",
       "   {'latitude': 59.93914016847159, 'longitude': 10.759349333708023},\n",
       "   {'latitude': 59.939319831528415, 'longitude': 10.759349333708023},\n",
       "   {'latitude': 59.939319831528415, 'longitude': 10.758990666291977},\n",
       "   {'latitude': 59.93914016847159, 'longitude': 10.758990666291977}]}]"
      ]
     },
     "execution_count": 29,
     "metadata": {},
     "output_type": "execute_result"
    }
   ],
   "source": [
    "station_json = stations_json['stations']\n",
    "print(len(station_json))\n",
    "station_json[:2]"
   ]
  },
  {
   "cell_type": "markdown",
   "metadata": {},
   "source": [
    "### Reading in station infromation 3/3"
   ]
  },
  {
   "cell_type": "markdown",
   "metadata": {},
   "source": [
    "We can now use the `pandas.json_normalize` function to read in the entire dataset:"
   ]
  },
  {
   "cell_type": "code",
   "execution_count": 30,
   "metadata": {},
   "outputs": [
    {
     "data": {
      "text/html": [
       "<div>\n",
       "<style scoped>\n",
       "    .dataframe tbody tr th:only-of-type {\n",
       "        vertical-align: middle;\n",
       "    }\n",
       "\n",
       "    .dataframe tbody tr th {\n",
       "        vertical-align: top;\n",
       "    }\n",
       "\n",
       "    .dataframe thead th {\n",
       "        text-align: right;\n",
       "    }\n",
       "</style>\n",
       "<table border=\"1\" class=\"dataframe\">\n",
       "  <thead>\n",
       "    <tr style=\"text-align: right;\">\n",
       "      <th></th>\n",
       "      <th>id</th>\n",
       "      <th>in_service</th>\n",
       "      <th>title</th>\n",
       "      <th>subtitle</th>\n",
       "      <th>number_of_locks</th>\n",
       "      <th>bounds</th>\n",
       "      <th>center.latitude</th>\n",
       "      <th>center.longitude</th>\n",
       "    </tr>\n",
       "  </thead>\n",
       "  <tbody>\n",
       "    <tr>\n",
       "      <th>0</th>\n",
       "      <td>157</td>\n",
       "      <td>True</td>\n",
       "      <td>Nylandsveien</td>\n",
       "      <td>mellom Norbygata og Urtegata</td>\n",
       "      <td>30</td>\n",
       "      <td>[{'latitude': 59.915418602160436, 'longitude':...</td>\n",
       "      <td>59.915620</td>\n",
       "      <td>10.762248</td>\n",
       "    </tr>\n",
       "    <tr>\n",
       "      <th>1</th>\n",
       "      <td>158</td>\n",
       "      <td>True</td>\n",
       "      <td>Bentsebrugata</td>\n",
       "      <td>rett over busstoppet</td>\n",
       "      <td>24</td>\n",
       "      <td>[{'latitude': 59.93914016847159, 'longitude': ...</td>\n",
       "      <td>59.939228</td>\n",
       "      <td>10.759170</td>\n",
       "    </tr>\n",
       "    <tr>\n",
       "      <th>2</th>\n",
       "      <td>159</td>\n",
       "      <td>True</td>\n",
       "      <td>Hans Nielsen Hauges plass</td>\n",
       "      <td>Mellom Åsengata og Nordkappgata</td>\n",
       "      <td>21</td>\n",
       "      <td>[{'latitude': 59.93915186056247, 'longitude': ...</td>\n",
       "      <td>59.939238</td>\n",
       "      <td>10.774279</td>\n",
       "    </tr>\n",
       "    <tr>\n",
       "      <th>3</th>\n",
       "      <td>160</td>\n",
       "      <td>True</td>\n",
       "      <td>Sjøsiden vest</td>\n",
       "      <td>nærmest fontenen</td>\n",
       "      <td>25</td>\n",
       "      <td>[{'latitude': 59.9101839259445, 'longitude': 1...</td>\n",
       "      <td>59.910215</td>\n",
       "      <td>10.751687</td>\n",
       "    </tr>\n",
       "    <tr>\n",
       "      <th>4</th>\n",
       "      <td>161</td>\n",
       "      <td>True</td>\n",
       "      <td>St. Hanshaugen park vest</td>\n",
       "      <td>ved busstoppet Colletts gate</td>\n",
       "      <td>20</td>\n",
       "      <td>[{'latitude': 59.926781168471585, 'longitude':...</td>\n",
       "      <td>59.926872</td>\n",
       "      <td>10.738456</td>\n",
       "    </tr>\n",
       "    <tr>\n",
       "      <th>...</th>\n",
       "      <td>...</td>\n",
       "      <td>...</td>\n",
       "      <td>...</td>\n",
       "      <td>...</td>\n",
       "      <td>...</td>\n",
       "      <td>...</td>\n",
       "      <td>...</td>\n",
       "      <td>...</td>\n",
       "    </tr>\n",
       "    <tr>\n",
       "      <th>125</th>\n",
       "      <td>305</td>\n",
       "      <td>True</td>\n",
       "      <td>Georg Morgenstiernes hus</td>\n",
       "      <td>ved Moltke Moes vei</td>\n",
       "      <td>45</td>\n",
       "      <td>[{'latitude': 59.938893893998106, 'longitude':...</td>\n",
       "      <td>59.938998</td>\n",
       "      <td>10.723075</td>\n",
       "    </tr>\n",
       "    <tr>\n",
       "      <th>126</th>\n",
       "      <td>306</td>\n",
       "      <td>True</td>\n",
       "      <td>Møllergata</td>\n",
       "      <td>rett over Youngstorget</td>\n",
       "      <td>30</td>\n",
       "      <td>[{'latitude': 59.91530028312405, 'longitude': ...</td>\n",
       "      <td>59.915290</td>\n",
       "      <td>10.748453</td>\n",
       "    </tr>\n",
       "    <tr>\n",
       "      <th>127</th>\n",
       "      <td>307</td>\n",
       "      <td>True</td>\n",
       "      <td>Bak Niels Treschows hus sør</td>\n",
       "      <td>nærmest trikkestoppet</td>\n",
       "      <td>42</td>\n",
       "      <td>[{'latitude': 59.94238164705898, 'longitude': ...</td>\n",
       "      <td>59.942525</td>\n",
       "      <td>10.723352</td>\n",
       "    </tr>\n",
       "    <tr>\n",
       "      <th>128</th>\n",
       "      <td>308</td>\n",
       "      <td>True</td>\n",
       "      <td>Blindern studentparkering</td>\n",
       "      <td>rett ved Blindern Studenterhjem</td>\n",
       "      <td>42</td>\n",
       "      <td>[{'latitude': 59.9409978752237, 'longitude': 1...</td>\n",
       "      <td>59.940930</td>\n",
       "      <td>10.720666</td>\n",
       "    </tr>\n",
       "    <tr>\n",
       "      <th>129</th>\n",
       "      <td>309</td>\n",
       "      <td>True</td>\n",
       "      <td>Bak Niels Treschows hus nord</td>\n",
       "      <td>nærmest parkeringsplassen</td>\n",
       "      <td>42</td>\n",
       "      <td>[{'latitude': 59.94258316241174, 'longitude': ...</td>\n",
       "      <td>59.942725</td>\n",
       "      <td>10.722889</td>\n",
       "    </tr>\n",
       "  </tbody>\n",
       "</table>\n",
       "<p>130 rows × 8 columns</p>\n",
       "</div>"
      ],
      "text/plain": [
       "      id  in_service                         title  \\\n",
       "0    157        True                  Nylandsveien   \n",
       "1    158        True                 Bentsebrugata   \n",
       "2    159        True     Hans Nielsen Hauges plass   \n",
       "3    160        True                 Sjøsiden vest   \n",
       "4    161        True      St. Hanshaugen park vest   \n",
       "..   ...         ...                           ...   \n",
       "125  305        True      Georg Morgenstiernes hus   \n",
       "126  306        True                    Møllergata   \n",
       "127  307        True   Bak Niels Treschows hus sør   \n",
       "128  308        True     Blindern studentparkering   \n",
       "129  309        True  Bak Niels Treschows hus nord   \n",
       "\n",
       "                            subtitle  number_of_locks  \\\n",
       "0       mellom Norbygata og Urtegata               30   \n",
       "1               rett over busstoppet               24   \n",
       "2    Mellom Åsengata og Nordkappgata               21   \n",
       "3                   nærmest fontenen               25   \n",
       "4       ved busstoppet Colletts gate               20   \n",
       "..                               ...              ...   \n",
       "125              ved Moltke Moes vei               45   \n",
       "126           rett over Youngstorget               30   \n",
       "127            nærmest trikkestoppet               42   \n",
       "128  rett ved Blindern Studenterhjem               42   \n",
       "129        nærmest parkeringsplassen               42   \n",
       "\n",
       "                                                bounds  center.latitude  \\\n",
       "0    [{'latitude': 59.915418602160436, 'longitude':...        59.915620   \n",
       "1    [{'latitude': 59.93914016847159, 'longitude': ...        59.939228   \n",
       "2    [{'latitude': 59.93915186056247, 'longitude': ...        59.939238   \n",
       "3    [{'latitude': 59.9101839259445, 'longitude': 1...        59.910215   \n",
       "4    [{'latitude': 59.926781168471585, 'longitude':...        59.926872   \n",
       "..                                                 ...              ...   \n",
       "125  [{'latitude': 59.938893893998106, 'longitude':...        59.938998   \n",
       "126  [{'latitude': 59.91530028312405, 'longitude': ...        59.915290   \n",
       "127  [{'latitude': 59.94238164705898, 'longitude': ...        59.942525   \n",
       "128  [{'latitude': 59.9409978752237, 'longitude': 1...        59.940930   \n",
       "129  [{'latitude': 59.94258316241174, 'longitude': ...        59.942725   \n",
       "\n",
       "     center.longitude  \n",
       "0           10.762248  \n",
       "1           10.759170  \n",
       "2           10.774279  \n",
       "3           10.751687  \n",
       "4           10.738456  \n",
       "..                ...  \n",
       "125         10.723075  \n",
       "126         10.748453  \n",
       "127         10.723352  \n",
       "128         10.720666  \n",
       "129         10.722889  \n",
       "\n",
       "[130 rows x 8 columns]"
      ]
     },
     "execution_count": 30,
     "metadata": {},
     "output_type": "execute_result"
    }
   ],
   "source": [
    "stations = pd.json_normalize(station_json)\n",
    "stations"
   ]
  },
  {
   "cell_type": "markdown",
   "metadata": {},
   "source": [
    "## Setting the index\n",
    "\n",
    "Before extracting data from the `DataFrame`, it is good practice to assign a column with unique values as the index of the dataframe (if possible). For the stations DataFrame, the `id` column is a natural choice:"
   ]
  },
  {
   "cell_type": "code",
   "execution_count": 31,
   "metadata": {},
   "outputs": [
    {
     "data": {
      "text/html": [
       "<div>\n",
       "<style scoped>\n",
       "    .dataframe tbody tr th:only-of-type {\n",
       "        vertical-align: middle;\n",
       "    }\n",
       "\n",
       "    .dataframe tbody tr th {\n",
       "        vertical-align: top;\n",
       "    }\n",
       "\n",
       "    .dataframe thead th {\n",
       "        text-align: right;\n",
       "    }\n",
       "</style>\n",
       "<table border=\"1\" class=\"dataframe\">\n",
       "  <thead>\n",
       "    <tr style=\"text-align: right;\">\n",
       "      <th></th>\n",
       "      <th>in_service</th>\n",
       "      <th>title</th>\n",
       "      <th>subtitle</th>\n",
       "      <th>number_of_locks</th>\n",
       "      <th>bounds</th>\n",
       "      <th>center.latitude</th>\n",
       "      <th>center.longitude</th>\n",
       "    </tr>\n",
       "    <tr>\n",
       "      <th>id</th>\n",
       "      <th></th>\n",
       "      <th></th>\n",
       "      <th></th>\n",
       "      <th></th>\n",
       "      <th></th>\n",
       "      <th></th>\n",
       "      <th></th>\n",
       "    </tr>\n",
       "  </thead>\n",
       "  <tbody>\n",
       "    <tr>\n",
       "      <th>157</th>\n",
       "      <td>True</td>\n",
       "      <td>Nylandsveien</td>\n",
       "      <td>mellom Norbygata og Urtegata</td>\n",
       "      <td>30</td>\n",
       "      <td>[{'latitude': 59.915418602160436, 'longitude':...</td>\n",
       "      <td>59.915620</td>\n",
       "      <td>10.762248</td>\n",
       "    </tr>\n",
       "    <tr>\n",
       "      <th>158</th>\n",
       "      <td>True</td>\n",
       "      <td>Bentsebrugata</td>\n",
       "      <td>rett over busstoppet</td>\n",
       "      <td>24</td>\n",
       "      <td>[{'latitude': 59.93914016847159, 'longitude': ...</td>\n",
       "      <td>59.939228</td>\n",
       "      <td>10.759170</td>\n",
       "    </tr>\n",
       "    <tr>\n",
       "      <th>159</th>\n",
       "      <td>True</td>\n",
       "      <td>Hans Nielsen Hauges plass</td>\n",
       "      <td>Mellom Åsengata og Nordkappgata</td>\n",
       "      <td>21</td>\n",
       "      <td>[{'latitude': 59.93915186056247, 'longitude': ...</td>\n",
       "      <td>59.939238</td>\n",
       "      <td>10.774279</td>\n",
       "    </tr>\n",
       "    <tr>\n",
       "      <th>160</th>\n",
       "      <td>True</td>\n",
       "      <td>Sjøsiden vest</td>\n",
       "      <td>nærmest fontenen</td>\n",
       "      <td>25</td>\n",
       "      <td>[{'latitude': 59.9101839259445, 'longitude': 1...</td>\n",
       "      <td>59.910215</td>\n",
       "      <td>10.751687</td>\n",
       "    </tr>\n",
       "    <tr>\n",
       "      <th>161</th>\n",
       "      <td>True</td>\n",
       "      <td>St. Hanshaugen park vest</td>\n",
       "      <td>ved busstoppet Colletts gate</td>\n",
       "      <td>20</td>\n",
       "      <td>[{'latitude': 59.926781168471585, 'longitude':...</td>\n",
       "      <td>59.926872</td>\n",
       "      <td>10.738456</td>\n",
       "    </tr>\n",
       "    <tr>\n",
       "      <th>...</th>\n",
       "      <td>...</td>\n",
       "      <td>...</td>\n",
       "      <td>...</td>\n",
       "      <td>...</td>\n",
       "      <td>...</td>\n",
       "      <td>...</td>\n",
       "      <td>...</td>\n",
       "    </tr>\n",
       "    <tr>\n",
       "      <th>305</th>\n",
       "      <td>True</td>\n",
       "      <td>Georg Morgenstiernes hus</td>\n",
       "      <td>ved Moltke Moes vei</td>\n",
       "      <td>45</td>\n",
       "      <td>[{'latitude': 59.938893893998106, 'longitude':...</td>\n",
       "      <td>59.938998</td>\n",
       "      <td>10.723075</td>\n",
       "    </tr>\n",
       "    <tr>\n",
       "      <th>306</th>\n",
       "      <td>True</td>\n",
       "      <td>Møllergata</td>\n",
       "      <td>rett over Youngstorget</td>\n",
       "      <td>30</td>\n",
       "      <td>[{'latitude': 59.91530028312405, 'longitude': ...</td>\n",
       "      <td>59.915290</td>\n",
       "      <td>10.748453</td>\n",
       "    </tr>\n",
       "    <tr>\n",
       "      <th>307</th>\n",
       "      <td>True</td>\n",
       "      <td>Bak Niels Treschows hus sør</td>\n",
       "      <td>nærmest trikkestoppet</td>\n",
       "      <td>42</td>\n",
       "      <td>[{'latitude': 59.94238164705898, 'longitude': ...</td>\n",
       "      <td>59.942525</td>\n",
       "      <td>10.723352</td>\n",
       "    </tr>\n",
       "    <tr>\n",
       "      <th>308</th>\n",
       "      <td>True</td>\n",
       "      <td>Blindern studentparkering</td>\n",
       "      <td>rett ved Blindern Studenterhjem</td>\n",
       "      <td>42</td>\n",
       "      <td>[{'latitude': 59.9409978752237, 'longitude': 1...</td>\n",
       "      <td>59.940930</td>\n",
       "      <td>10.720666</td>\n",
       "    </tr>\n",
       "    <tr>\n",
       "      <th>309</th>\n",
       "      <td>True</td>\n",
       "      <td>Bak Niels Treschows hus nord</td>\n",
       "      <td>nærmest parkeringsplassen</td>\n",
       "      <td>42</td>\n",
       "      <td>[{'latitude': 59.94258316241174, 'longitude': ...</td>\n",
       "      <td>59.942725</td>\n",
       "      <td>10.722889</td>\n",
       "    </tr>\n",
       "  </tbody>\n",
       "</table>\n",
       "<p>130 rows × 7 columns</p>\n",
       "</div>"
      ],
      "text/plain": [
       "     in_service                         title  \\\n",
       "id                                              \n",
       "157        True                  Nylandsveien   \n",
       "158        True                 Bentsebrugata   \n",
       "159        True     Hans Nielsen Hauges plass   \n",
       "160        True                 Sjøsiden vest   \n",
       "161        True      St. Hanshaugen park vest   \n",
       "..          ...                           ...   \n",
       "305        True      Georg Morgenstiernes hus   \n",
       "306        True                    Møllergata   \n",
       "307        True   Bak Niels Treschows hus sør   \n",
       "308        True     Blindern studentparkering   \n",
       "309        True  Bak Niels Treschows hus nord   \n",
       "\n",
       "                            subtitle  number_of_locks  \\\n",
       "id                                                      \n",
       "157     mellom Norbygata og Urtegata               30   \n",
       "158             rett over busstoppet               24   \n",
       "159  Mellom Åsengata og Nordkappgata               21   \n",
       "160                 nærmest fontenen               25   \n",
       "161     ved busstoppet Colletts gate               20   \n",
       "..                               ...              ...   \n",
       "305              ved Moltke Moes vei               45   \n",
       "306           rett over Youngstorget               30   \n",
       "307            nærmest trikkestoppet               42   \n",
       "308  rett ved Blindern Studenterhjem               42   \n",
       "309        nærmest parkeringsplassen               42   \n",
       "\n",
       "                                                bounds  center.latitude  \\\n",
       "id                                                                        \n",
       "157  [{'latitude': 59.915418602160436, 'longitude':...        59.915620   \n",
       "158  [{'latitude': 59.93914016847159, 'longitude': ...        59.939228   \n",
       "159  [{'latitude': 59.93915186056247, 'longitude': ...        59.939238   \n",
       "160  [{'latitude': 59.9101839259445, 'longitude': 1...        59.910215   \n",
       "161  [{'latitude': 59.926781168471585, 'longitude':...        59.926872   \n",
       "..                                                 ...              ...   \n",
       "305  [{'latitude': 59.938893893998106, 'longitude':...        59.938998   \n",
       "306  [{'latitude': 59.91530028312405, 'longitude': ...        59.915290   \n",
       "307  [{'latitude': 59.94238164705898, 'longitude': ...        59.942525   \n",
       "308  [{'latitude': 59.9409978752237, 'longitude': 1...        59.940930   \n",
       "309  [{'latitude': 59.94258316241174, 'longitude': ...        59.942725   \n",
       "\n",
       "     center.longitude  \n",
       "id                     \n",
       "157         10.762248  \n",
       "158         10.759170  \n",
       "159         10.774279  \n",
       "160         10.751687  \n",
       "161         10.738456  \n",
       "..                ...  \n",
       "305         10.723075  \n",
       "306         10.748453  \n",
       "307         10.723352  \n",
       "308         10.720666  \n",
       "309         10.722889  \n",
       "\n",
       "[130 rows x 7 columns]"
      ]
     },
     "execution_count": 31,
     "metadata": {},
     "output_type": "execute_result"
    }
   ],
   "source": [
    "stations = stations.set_index('id')\n",
    "stations"
   ]
  },
  {
   "cell_type": "markdown",
   "metadata": {},
   "source": [
    "The index will be used, e.g. for row labels when plotting:"
   ]
  },
  {
   "cell_type": "code",
   "execution_count": 32,
   "metadata": {},
   "outputs": [
    {
     "data": {
      "image/png": "[encoded data removed]",
      "text/plain": [
       "<Figure size 432x288 with 1 Axes>"
      ]
     },
     "metadata": {
      "needs_background": "light"
     },
     "output_type": "display_data"
    }
   ],
   "source": [
    "stations.head(10)[\"number_of_locks\"].plot(kind=\"bar\");"
   ]
  },
  {
   "cell_type": "markdown",
   "metadata": {},
   "source": [
    "### Removing columns from DataFrames"
   ]
  },
  {
   "cell_type": "markdown",
   "metadata": {},
   "source": [
    "Some of the columns are not useful. We can remove columns from a DataFrame with:\n",
    "```python\n",
    "Dataframe.drop([Column Name or list], axis=1)\n",
    "```\n",
    "Lets reduce our stations to the usefull columns:"
   ]
  },
  {
   "cell_type": "code",
   "execution_count": 33,
   "metadata": {},
   "outputs": [
    {
     "data": {
      "text/html": [
       "<div>\n",
       "<style scoped>\n",
       "    .dataframe tbody tr th:only-of-type {\n",
       "        vertical-align: middle;\n",
       "    }\n",
       "\n",
       "    .dataframe tbody tr th {\n",
       "        vertical-align: top;\n",
       "    }\n",
       "\n",
       "    .dataframe thead th {\n",
       "        text-align: right;\n",
       "    }\n",
       "</style>\n",
       "<table border=\"1\" class=\"dataframe\">\n",
       "  <thead>\n",
       "    <tr style=\"text-align: right;\">\n",
       "      <th></th>\n",
       "      <th>in_service</th>\n",
       "      <th>title</th>\n",
       "      <th>number_of_locks</th>\n",
       "      <th>center.latitude</th>\n",
       "      <th>center.longitude</th>\n",
       "    </tr>\n",
       "    <tr>\n",
       "      <th>id</th>\n",
       "      <th></th>\n",
       "      <th></th>\n",
       "      <th></th>\n",
       "      <th></th>\n",
       "      <th></th>\n",
       "    </tr>\n",
       "  </thead>\n",
       "  <tbody>\n",
       "    <tr>\n",
       "      <th>157</th>\n",
       "      <td>True</td>\n",
       "      <td>Nylandsveien</td>\n",
       "      <td>30</td>\n",
       "      <td>59.915620</td>\n",
       "      <td>10.762248</td>\n",
       "    </tr>\n",
       "    <tr>\n",
       "      <th>158</th>\n",
       "      <td>True</td>\n",
       "      <td>Bentsebrugata</td>\n",
       "      <td>24</td>\n",
       "      <td>59.939228</td>\n",
       "      <td>10.759170</td>\n",
       "    </tr>\n",
       "    <tr>\n",
       "      <th>159</th>\n",
       "      <td>True</td>\n",
       "      <td>Hans Nielsen Hauges plass</td>\n",
       "      <td>21</td>\n",
       "      <td>59.939238</td>\n",
       "      <td>10.774279</td>\n",
       "    </tr>\n",
       "    <tr>\n",
       "      <th>160</th>\n",
       "      <td>True</td>\n",
       "      <td>Sjøsiden vest</td>\n",
       "      <td>25</td>\n",
       "      <td>59.910215</td>\n",
       "      <td>10.751687</td>\n",
       "    </tr>\n",
       "    <tr>\n",
       "      <th>161</th>\n",
       "      <td>True</td>\n",
       "      <td>St. Hanshaugen park vest</td>\n",
       "      <td>20</td>\n",
       "      <td>59.926872</td>\n",
       "      <td>10.738456</td>\n",
       "    </tr>\n",
       "  </tbody>\n",
       "</table>\n",
       "</div>"
      ],
      "text/plain": [
       "     in_service                      title  number_of_locks  center.latitude  \\\n",
       "id                                                                             \n",
       "157        True               Nylandsveien               30        59.915620   \n",
       "158        True              Bentsebrugata               24        59.939228   \n",
       "159        True  Hans Nielsen Hauges plass               21        59.939238   \n",
       "160        True              Sjøsiden vest               25        59.910215   \n",
       "161        True   St. Hanshaugen park vest               20        59.926872   \n",
       "\n",
       "     center.longitude  \n",
       "id                     \n",
       "157         10.762248  \n",
       "158         10.759170  \n",
       "159         10.774279  \n",
       "160         10.751687  \n",
       "161         10.738456  "
      ]
     },
     "execution_count": 33,
     "metadata": {},
     "output_type": "execute_result"
    }
   ],
   "source": [
    "stations = stations.drop([\"bounds\", \"subtitle\"], axis=1)   # axis=0 drops rows\n",
    "stations.head()"
   ]
  },
  {
   "cell_type": "markdown",
   "metadata": {},
   "source": [
    "**Alternative**: Use `.loc` to select a subset of a DataFrame\n",
    "```python\n",
    "DataFrame.loc[startrow:endrow,startcolumn:endcolumn]\n",
    "```"
   ]
  },
  {
   "cell_type": "markdown",
   "metadata": {
    "slideshow": {
     "slide_type": "subslide"
    }
   },
   "source": [
    "## Adding computed columns"
   ]
  },
  {
   "cell_type": "markdown",
   "metadata": {},
   "source": [
    "Sometimes it is usefull to add a new column based on calculations. \n",
    "\n",
    "**Syntax**:\n",
    "```python\n",
    "Dataframe.apply(function, axis=1)  # Results in a Series\n",
    "``` \n",
    "\n",
    "**Example**: Add a column with the distance from the station to Oslo center. \n",
    "\n",
    "First we compute a Series with the distance values:"
   ]
  },
  {
   "cell_type": "code",
   "execution_count": 34,
   "metadata": {},
   "outputs": [
    {
     "data": {
      "text/plain": [
       "id\n",
       "157    0.956887\n",
       "158    3.038354\n",
       "159    3.342640\n",
       "160    0.416360\n",
       "161    1.632424\n",
       "         ...   \n",
       "305    3.193283\n",
       "306    0.316456\n",
       "307    3.550350\n",
       "308    3.444120\n",
       "309    3.580368\n",
       "Length: 130, dtype: float64"
      ]
     },
     "execution_count": 34,
     "metadata": {},
     "output_type": "execute_result"
    }
   ],
   "source": [
    "from numpy import cos, arcsin, sqrt, pi\n",
    "\n",
    "oslo_center = 59.9127, 10.7461 # oslo center latitude, longitude\n",
    "\n",
    "def distance_to_oslo_center(row):\n",
    "    \"\"\" Computes the distance of a lat/lon\"\"\"\n",
    "\n",
    "    lat_station = row[\"center.latitude\"]\n",
    "    lon_station = row[\"center.longitude\"]\n",
    "\n",
    "    lat_sentrum, lon_sentrum = oslo_center\n",
    "\n",
    "    degrees = pi / 180  # convert degrees to radians\n",
    "    a = (\n",
    "        0.5\n",
    "        - (cos((lat_sentrum - lat_station) * degrees) / 2)\n",
    "        + (\n",
    "            cos(lat_sentrum * degrees)\n",
    "            * cos(lat_station * degrees)\n",
    "            * (1 - cos((lon_station - lon_sentrum) * degrees))\n",
    "            / 2\n",
    "        )\n",
    "    )\n",
    "    return 12742 * arcsin(sqrt(a))  # 2 * R * asin...\n",
    "\n",
    "\n",
    "distance = stations.apply(distance_to_oslo_center, axis=1)\n",
    "distance"
   ]
  },
  {
   "cell_type": "markdown",
   "metadata": {},
   "source": [
    "Then we add that serie to the DataFrame:"
   ]
  },
  {
   "cell_type": "code",
   "execution_count": 35,
   "metadata": {},
   "outputs": [
    {
     "data": {
      "text/html": [
       "<div>\n",
       "<style scoped>\n",
       "    .dataframe tbody tr th:only-of-type {\n",
       "        vertical-align: middle;\n",
       "    }\n",
       "\n",
       "    .dataframe tbody tr th {\n",
       "        vertical-align: top;\n",
       "    }\n",
       "\n",
       "    .dataframe thead th {\n",
       "        text-align: right;\n",
       "    }\n",
       "</style>\n",
       "<table border=\"1\" class=\"dataframe\">\n",
       "  <thead>\n",
       "    <tr style=\"text-align: right;\">\n",
       "      <th></th>\n",
       "      <th>in_service</th>\n",
       "      <th>title</th>\n",
       "      <th>number_of_locks</th>\n",
       "      <th>center.latitude</th>\n",
       "      <th>center.longitude</th>\n",
       "      <th>distance_to_oslo_center</th>\n",
       "    </tr>\n",
       "    <tr>\n",
       "      <th>id</th>\n",
       "      <th></th>\n",
       "      <th></th>\n",
       "      <th></th>\n",
       "      <th></th>\n",
       "      <th></th>\n",
       "      <th></th>\n",
       "    </tr>\n",
       "  </thead>\n",
       "  <tbody>\n",
       "    <tr>\n",
       "      <th>157</th>\n",
       "      <td>True</td>\n",
       "      <td>Nylandsveien</td>\n",
       "      <td>30</td>\n",
       "      <td>59.915620</td>\n",
       "      <td>10.762248</td>\n",
       "      <td>0.956887</td>\n",
       "    </tr>\n",
       "    <tr>\n",
       "      <th>158</th>\n",
       "      <td>True</td>\n",
       "      <td>Bentsebrugata</td>\n",
       "      <td>24</td>\n",
       "      <td>59.939228</td>\n",
       "      <td>10.759170</td>\n",
       "      <td>3.038354</td>\n",
       "    </tr>\n",
       "    <tr>\n",
       "      <th>159</th>\n",
       "      <td>True</td>\n",
       "      <td>Hans Nielsen Hauges plass</td>\n",
       "      <td>21</td>\n",
       "      <td>59.939238</td>\n",
       "      <td>10.774279</td>\n",
       "      <td>3.342640</td>\n",
       "    </tr>\n",
       "    <tr>\n",
       "      <th>160</th>\n",
       "      <td>True</td>\n",
       "      <td>Sjøsiden vest</td>\n",
       "      <td>25</td>\n",
       "      <td>59.910215</td>\n",
       "      <td>10.751687</td>\n",
       "      <td>0.416360</td>\n",
       "    </tr>\n",
       "    <tr>\n",
       "      <th>161</th>\n",
       "      <td>True</td>\n",
       "      <td>St. Hanshaugen park vest</td>\n",
       "      <td>20</td>\n",
       "      <td>59.926872</td>\n",
       "      <td>10.738456</td>\n",
       "      <td>1.632424</td>\n",
       "    </tr>\n",
       "    <tr>\n",
       "      <th>...</th>\n",
       "      <td>...</td>\n",
       "      <td>...</td>\n",
       "      <td>...</td>\n",
       "      <td>...</td>\n",
       "      <td>...</td>\n",
       "      <td>...</td>\n",
       "    </tr>\n",
       "    <tr>\n",
       "      <th>305</th>\n",
       "      <td>True</td>\n",
       "      <td>Georg Morgenstiernes hus</td>\n",
       "      <td>45</td>\n",
       "      <td>59.938998</td>\n",
       "      <td>10.723075</td>\n",
       "      <td>3.193283</td>\n",
       "    </tr>\n",
       "    <tr>\n",
       "      <th>306</th>\n",
       "      <td>True</td>\n",
       "      <td>Møllergata</td>\n",
       "      <td>30</td>\n",
       "      <td>59.915290</td>\n",
       "      <td>10.748453</td>\n",
       "      <td>0.316456</td>\n",
       "    </tr>\n",
       "    <tr>\n",
       "      <th>307</th>\n",
       "      <td>True</td>\n",
       "      <td>Bak Niels Treschows hus sør</td>\n",
       "      <td>42</td>\n",
       "      <td>59.942525</td>\n",
       "      <td>10.723352</td>\n",
       "      <td>3.550350</td>\n",
       "    </tr>\n",
       "    <tr>\n",
       "      <th>308</th>\n",
       "      <td>True</td>\n",
       "      <td>Blindern studentparkering</td>\n",
       "      <td>42</td>\n",
       "      <td>59.940930</td>\n",
       "      <td>10.720666</td>\n",
       "      <td>3.444120</td>\n",
       "    </tr>\n",
       "    <tr>\n",
       "      <th>309</th>\n",
       "      <td>True</td>\n",
       "      <td>Bak Niels Treschows hus nord</td>\n",
       "      <td>42</td>\n",
       "      <td>59.942725</td>\n",
       "      <td>10.722889</td>\n",
       "      <td>3.580368</td>\n",
       "    </tr>\n",
       "  </tbody>\n",
       "</table>\n",
       "<p>130 rows × 6 columns</p>\n",
       "</div>"
      ],
      "text/plain": [
       "     in_service                         title  number_of_locks  \\\n",
       "id                                                               \n",
       "157        True                  Nylandsveien               30   \n",
       "158        True                 Bentsebrugata               24   \n",
       "159        True     Hans Nielsen Hauges plass               21   \n",
       "160        True                 Sjøsiden vest               25   \n",
       "161        True      St. Hanshaugen park vest               20   \n",
       "..          ...                           ...              ...   \n",
       "305        True      Georg Morgenstiernes hus               45   \n",
       "306        True                    Møllergata               30   \n",
       "307        True   Bak Niels Treschows hus sør               42   \n",
       "308        True     Blindern studentparkering               42   \n",
       "309        True  Bak Niels Treschows hus nord               42   \n",
       "\n",
       "     center.latitude  center.longitude  distance_to_oslo_center  \n",
       "id                                                               \n",
       "157        59.915620         10.762248                 0.956887  \n",
       "158        59.939228         10.759170                 3.038354  \n",
       "159        59.939238         10.774279                 3.342640  \n",
       "160        59.910215         10.751687                 0.416360  \n",
       "161        59.926872         10.738456                 1.632424  \n",
       "..               ...               ...                      ...  \n",
       "305        59.938998         10.723075                 3.193283  \n",
       "306        59.915290         10.748453                 0.316456  \n",
       "307        59.942525         10.723352                 3.550350  \n",
       "308        59.940930         10.720666                 3.444120  \n",
       "309        59.942725         10.722889                 3.580368  \n",
       "\n",
       "[130 rows x 6 columns]"
      ]
     },
     "execution_count": 35,
     "metadata": {},
     "output_type": "execute_result"
    }
   ],
   "source": [
    "stations[\"distance_to_oslo_center\"] = distance\n",
    "stations "
   ]
  },
  {
   "cell_type": "markdown",
   "metadata": {},
   "source": [
    "### Min, max mean of Series data:"
   ]
  },
  {
   "cell_type": "markdown",
   "metadata": {},
   "source": [
    "We can use mathematical functions such as `min`, `max` or `mean` to get statistical information about a column:"
   ]
  },
  {
   "cell_type": "markdown",
   "metadata": {},
   "source": [
    "Minimum number of locks:"
   ]
  },
  {
   "cell_type": "code",
   "execution_count": 36,
   "metadata": {},
   "outputs": [
    {
     "data": {
      "text/plain": [
       "6"
      ]
     },
     "execution_count": 36,
     "metadata": {},
     "output_type": "execute_result"
    }
   ],
   "source": [
    "stations[\"number_of_locks\"].min()"
   ]
  },
  {
   "cell_type": "markdown",
   "metadata": {},
   "source": [
    "Maximum number of locks:"
   ]
  },
  {
   "cell_type": "code",
   "execution_count": 37,
   "metadata": {},
   "outputs": [
    {
     "data": {
      "text/plain": [
       "48"
      ]
     },
     "execution_count": 37,
     "metadata": {},
     "output_type": "execute_result"
    }
   ],
   "source": [
    "stations[\"number_of_locks\"].max()"
   ]
  },
  {
   "cell_type": "markdown",
   "metadata": {},
   "source": [
    "Average number of locks:"
   ]
  },
  {
   "cell_type": "code",
   "execution_count": 38,
   "metadata": {},
   "outputs": [
    {
     "data": {
      "text/plain": [
       "22.29230769230769"
      ]
     },
     "execution_count": 38,
     "metadata": {},
     "output_type": "execute_result"
    }
   ],
   "source": [
    "stations[\"number_of_locks\"].mean()"
   ]
  },
  {
   "cell_type": "markdown",
   "metadata": {},
   "source": [
    "## Plotting maps\n",
    "\n",
    "It would be nice to plot the stations on a map."
   ]
  },
  {
   "cell_type": "code",
   "execution_count": 39,
   "metadata": {},
   "outputs": [
    {
     "data": {
      "application/vnd.jupyter.widget-view+json": {
       "model_id": "44741bd302e04a8ea5f4ab5d8b2308bb",
       "version_major": 2,
       "version_minor": 0
      },
      "text/plain": [
       "Map(center=[59.9127, 10.7461], controls=(ZoomControl(options=['position', 'zoom_in_text', 'zoom_in_title', 'zo…"
      ]
     },
     "metadata": {},
     "output_type": "display_data"
    }
   ],
   "source": [
    "from ipywidgets import HTML\n",
    "from ipyleaflet import Map, Marker, basemaps, basemap_to_tiles\n",
    "\n",
    "oslo_map = Map(\n",
    "    center=oslo_center,\n",
    "    zoom=13,\n",
    ")\n",
    "\n",
    "\n",
    "def add_marker(row):\n",
    "    center = row[\"center.latitude\"], row[\"center.longitude\"]\n",
    "    m = Marker(\n",
    "        location=center,\n",
    "        title=f\"{row.name} {row['title']}\",\n",
    "    )\n",
    "\n",
    "    oslo_map.add_layer(m)\n",
    "    m.popup = HTML(f\"{m.title}<br/>{row.distance_to_oslo_center:.2f} km to center\")\n",
    "\n",
    "\n",
    "stations.apply(add_marker, axis=1)\n",
    "oslo_map"
   ]
  },
  {
   "cell_type": "markdown",
   "metadata": {},
   "source": [
    "# Merging Panda objects\n",
    "\n",
    "So far our bike statistics stores the bike stations as integers:\n"
   ]
  },
  {
   "cell_type": "code",
   "execution_count": null,
   "metadata": {},
   "outputs": [],
   "source": [
    "trips.head()"
   ]
  },
  {
   "cell_type": "markdown",
   "metadata": {},
   "source": [
    "Wouldn't it be nice to add the station information? \n",
    "\n",
    "We achieve this by merging the information in the `stations` DataFrame into the `trips_sep_oct` DataFrame. The syntax for merging two tables with the most important arguments is:\n",
    "\n",
    "```python\n",
    "pd.merge(left, right, how='inner', left_on=None, right_on=None)\n",
    "```         \n",
    "The arguments mean the following:\n",
    "* `left`: A DataFrame object\n",
    "* `right`: Another DataFrame object\n",
    "* `left_on`: Columns from the left DataFrame to use as keys. Can either be column names or arrays with length equal to the length of the DataFrame\n",
    "* `right_on`: Columns from the right DataFrame to use as keys. Can either be column names or arrays with length equal to the length of the DataFrame\n",
    "* `how`: One of 'left', 'right', 'outer', 'inner'. Defaults to inner. See below for more detailed description of each method:\n"
   ]
  },
  {
   "cell_type": "markdown",
   "metadata": {},
   "source": [
    "###  A simple demo on merging"
   ]
  },
  {
   "cell_type": "code",
   "execution_count": null,
   "metadata": {},
   "outputs": [],
   "source": [
    "purchases = pd.DataFrame({\"product\": [\"apples\", \"pears\"], \"purchases\": [1, 3]})\n",
    "purchases"
   ]
  },
  {
   "cell_type": "code",
   "execution_count": null,
   "metadata": {},
   "outputs": [],
   "source": [
    "prices = pd.DataFrame({\"product\": [\"apples\", \"pears\"], \"price\": [5.5, 1.2]})\n",
    "prices"
   ]
  },
  {
   "cell_type": "code",
   "execution_count": null,
   "metadata": {},
   "outputs": [],
   "source": [
    "pd.merge(purchases, prices, how=\"right\", left_on=\"product\", right_on=\"product\")"
   ]
  },
  {
   "cell_type": "markdown",
   "metadata": {},
   "source": [
    "### Back to the Oslo Bysykkel example"
   ]
  },
  {
   "cell_type": "markdown",
   "metadata": {},
   "source": [
    "Let's try it out. First, lets check the names of our columns again:"
   ]
  },
  {
   "cell_type": "code",
   "execution_count": null,
   "metadata": {},
   "outputs": [],
   "source": [
    "print(trips.dtypes)"
   ]
  },
  {
   "cell_type": "code",
   "execution_count": null,
   "metadata": {},
   "outputs": [],
   "source": [
    "print(stations.dtypes)"
   ]
  },
  {
   "cell_type": "markdown",
   "metadata": {},
   "source": [
    "We want to merge in the columns `trips[\"Start station\"]` with the index for `stations`. The merge call is therefore:"
   ]
  },
  {
   "cell_type": "code",
   "execution_count": null,
   "metadata": {},
   "outputs": [],
   "source": [
    "merged_bike_stats = pd.merge(\n",
    "    trips, stations, how=\"left\", left_on=\"Start station\", right_index=True\n",
    ")\n",
    "merged_bike_stats"
   ]
  },
  {
   "cell_type": "markdown",
   "metadata": {},
   "source": [
    "Let's check that we still have all the data rows:"
   ]
  },
  {
   "cell_type": "code",
   "execution_count": null,
   "metadata": {},
   "outputs": [],
   "source": [
    "print(len(merged_bike_stats))\n",
    "print(len(trips))"
   ]
  },
  {
   "cell_type": "markdown",
   "metadata": {},
   "source": [
    "Wohooo!\n",
    "\n",
    "Let us do the same for `End station`. To avoid overlapping column names, we use the `suffixes`:"
   ]
  },
  {
   "cell_type": "code",
   "execution_count": null,
   "metadata": {},
   "outputs": [],
   "source": [
    "merged_bike_stats2 = pd.merge(\n",
    "    merged_bike_stats,\n",
    "    stations,\n",
    "    how=\"left\",\n",
    "    left_on=\"End station\",\n",
    "    right_index=True,\n",
    "    suffixes=(\"_start\", \"_end\"),\n",
    ")\n",
    "merged_bike_stats2"
   ]
  },
  {
   "cell_type": "markdown",
   "metadata": {
    "slideshow": {
     "slide_type": "subslide"
    }
   },
   "source": [
    "## What are the busiest stations?"
   ]
  },
  {
   "cell_type": "markdown",
   "metadata": {},
   "source": [
    "Let's first find the busiest station:"
   ]
  },
  {
   "cell_type": "code",
   "execution_count": null,
   "metadata": {},
   "outputs": [],
   "source": [
    "busy_station = merged_bike_stats2['Start station'].value_counts()[:5]\n",
    "busy_station.plot.bar()"
   ]
  },
  {
   "cell_type": "code",
   "execution_count": null,
   "metadata": {
    "scrolled": true
   },
   "outputs": [],
   "source": [
    "stations.loc[busy_station.index]"
   ]
  },
  {
   "cell_type": "markdown",
   "metadata": {
    "slideshow": {
     "slide_type": "subslide"
    }
   },
   "source": [
    "### What is the usage pattern of the busiest station?"
   ]
  },
  {
   "cell_type": "markdown",
   "metadata": {},
   "source": [
    "Filter out all trips starting from the bussiest station"
   ]
  },
  {
   "cell_type": "code",
   "execution_count": null,
   "metadata": {},
   "outputs": [],
   "source": [
    "ak_plass_stats = merged_bike_stats[\n",
    "    merged_bike_stats[\"Start station\"] == busy_station.index[0]\n",
    "]\n",
    "ak_plass_stats.head()"
   ]
  },
  {
   "cell_type": "markdown",
   "metadata": {},
   "source": [
    "Plot the results:"
   ]
  },
  {
   "cell_type": "code",
   "execution_count": null,
   "metadata": {},
   "outputs": [],
   "source": [
    "resampled_trips = pd.DataFrame({\"Counter\": 1}, index=ak_plass_stats[\"Start time\"])\n",
    "resampled_trips.head()"
   ]
  },
  {
   "cell_type": "code",
   "execution_count": null,
   "metadata": {},
   "outputs": [],
   "source": [
    "# resample every 30 minutes and sum results\n",
    "resampled_trips = resampled_trips.resample(\"30T\").sum()\n",
    "resampled_trips.head()"
   ]
  },
  {
   "cell_type": "code",
   "execution_count": null,
   "metadata": {},
   "outputs": [],
   "source": [
    "resampled_trips.loc[\"2016-09-02 00:00:00\":\"2016-09-05 04:00:00\"].plot(y=[\"Counter\"])"
   ]
  },
  {
   "cell_type": "code",
   "execution_count": null,
   "metadata": {},
   "outputs": [],
   "source": [
    "pd.to_datetime(\"2016-09-03\").day_name()"
   ]
  },
  {
   "cell_type": "code",
   "execution_count": null,
   "metadata": {},
   "outputs": [],
   "source": []
  },
  {
   "cell_type": "code",
   "execution_count": null,
   "metadata": {},
   "outputs": [],
   "source": []
  },
  {
   "cell_type": "code",
   "execution_count": null,
   "metadata": {},
   "outputs": [],
   "source": []
  },
  {
   "cell_type": "code",
   "execution_count": null,
   "metadata": {},
   "outputs": [],
   "source": []
  }
 ],
 "metadata": {
  "celltoolbar": "Slideshow",
  "kernelspec": {
   "display_name": "Python 3 (ipykernel)",
   "language": "python",
   "name": "python3"
  },
  "language_info": {
   "codemirror_mode": {
    "name": "ipython",
    "version": 3
   },
   "file_extension": ".py",
   "mimetype": "text/x-python",
   "name": "python",
   "nbconvert_exporter": "python",
   "pygments_lexer": "ipython3",
   "version": "3.9.7"
  },
  "widgets": {
   "application/vnd.jupyter.widget-state+json": {
    "state": {
     "0032795e118d44a4b416c8cd62869647": {
      "model_module": "@jupyter-widgets/base",
      "model_module_version": "1.2.0",
      "model_name": "LayoutModel",
      "state": {}
     },
     "004474dd672c422f9ccbddd2e27abd98": {
      "model_module": "jupyter-leaflet",
      "model_module_version": "^0.13.2",
      "model_name": "LeafletMarkerModel",
      "state": {
       "_model_module_version": "^0.13.2",
       "_view_module_version": "^0.13.2",
       "location": [
        59.929829,
        10.713032
       ],
       "options": [
        "alt",
        "draggable",
        "keyboard",
        "rise_offset",
        "rise_on_hover",
        "rotation_angle",
        "rotation_origin",
        "title",
        "z_index_offset"
       ],
       "popup": "IPY_MODEL_fec1e9fe0b5743c6b4fd15e8f4ddb015",
       "title": "284 Majorstuen skole"
      }
     },
     "006409523f044c7eafd9d418c544a643": {
      "model_module": "@jupyter-widgets/controls",
      "model_module_version": "1.5.0",
      "model_name": "HTMLModel",
      "state": {
       "layout": "IPY_MODEL_232195f80f5045e498aa8c542cae64ba",
       "style": "IPY_MODEL_f7a8027b6096492183b3753877623528",
       "value": "224 Kirkeveien<br/>2.65 km to center"
      }
     },
     "00da317fa59544cf9618f4fb1bd3ddd6": {
      "model_module": "jupyter-leaflet",
      "model_module_version": "^0.13.2",
      "model_name": "LeafletMarkerModel",
      "state": {
       "_model_module_version": "^0.13.2",
       "_view_module_version": "^0.13.2",
       "location": [
        59.913409,
        10.75737
       ],
       "options": [
        "alt",
        "draggable",
        "keyboard",
        "rise_offset",
        "rise_on_hover",
        "rotation_angle",
        "rotation_origin",
        "title",
        "z_index_offset"
       ],
       "popup": "IPY_MODEL_ff688613cf9c4c858cc7dcb6c03d411a",
       "title": "163 Vaterlandsparken"
      }
     },
     "014ef8935714413ebcd93db7aa0b7d22": {
      "model_module": "jupyter-leaflet",
      "model_module_version": "^0.13.2",
      "model_name": "LeafletMapStyleModel",
      "state": {
       "_model_module_version": "^0.13.2",
       "cursor": "move"
      }
     },
     "02e00860ef93437eb14af0ea416d797e": {
      "model_module": "jupyter-leaflet",
      "model_module_version": "^0.13.2",
      "model_name": "LeafletMapModel",
      "state": {
       "_model_module_version": "^0.13.2",
       "_view_module_version": "^0.13.2",
       "center": [
        59.91502061827056,
        10.746173858642578
       ],
       "controls": [
        "IPY_MODEL_05b403c35bf241a7bb20f4d77d0276eb",
        "IPY_MODEL_e37933dc6bd741bcad4431d1c58f4c60"
       ],
       "default_style": "IPY_MODEL_511cd20635044eb0bb759eb7f96c7de7",
       "dragging_style": "IPY_MODEL_23bda02426274454af474b21a4babcad",
       "east": -180,
       "fullscreen": false,
       "interpolation": "bilinear",
       "layers": [
        "IPY_MODEL_9b837a38b0564f8f98fe4fe0a29c27e6",
        "IPY_MODEL_0d12cfb0063849a18324b59a3bef2b86",
        "IPY_MODEL_a457bcd680d541c9bd3a856693f2cee1",
        "IPY_MODEL_45be36d6a6be4654bdfb937397ea6938",
        "IPY_MODEL_f0dd9b00b96c4442a451c61193b20818",
        "IPY_MODEL_047ea32ceba64ec7a5880cc90bfa4d29",
        "IPY_MODEL_0540d897ac114a5fa1a28cfa21e1dfce",
        "IPY_MODEL_5baf506869a24cd9aff62bbe3422e12d",
        "IPY_MODEL_914aab781156465ea9bf91e67a2cb958",
        "IPY_MODEL_3e4af607248340da9bd3d060f02b2454",
        "IPY_MODEL_8e27a2563cf5437aa5b6c61f08a7e306"
       ],
       "layout": "IPY_MODEL_e4bc6a3c8079407196897c25057da2f9",
       "modisdate": "yesterday",
       "north": -90,
       "options": [
        "bounce_at_zoom_limits",
        "box_zoom",
        "center",
        "close_popup_on_click",
        "double_click_zoom",
        "dragging",
        "fullscreen",
        "inertia",
        "inertia_deceleration",
        "inertia_max_speed",
        "interpolation",
        "keyboard",
        "keyboard_pan_offset",
        "keyboard_zoom_offset",
        "max_zoom",
        "min_zoom",
        "scroll_wheel_zoom",
        "tap",
        "tap_tolerance",
        "touch_zoom",
        "world_copy_jump",
        "zoom",
        "zoom_animation_threshold",
        "zoom_delta",
        "zoom_snap",
        "zoom_start"
       ],
       "south": 90,
       "style": "IPY_MODEL_511cd20635044eb0bb759eb7f96c7de7",
       "west": 180,
       "window_url": "http://localhost:8888/lab",
       "zoom": 13
      }
     },
     "044fe9a508b047b9b3697c812e6d7f0c": {
      "model_module": "jupyter-leaflet",
      "model_module_version": "^0.13.2",
      "model_name": "LeafletMarkerModel",
      "state": {
       "_model_module_version": "^0.13.2",
       "_view_module_version": "^0.13.2",
       "location": [
        59.919016,
        10.692333
       ],
       "options": [
        "alt",
        "draggable",
        "keyboard",
        "rise_offset",
        "rise_on_hover",
        "rotation_angle",
        "rotation_origin",
        "title",
        "z_index_offset"
       ],
       "popup": "IPY_MODEL_ad98fcdef151412d9f2e6398159d637c",
       "title": "241 Bygdøy allé"
      }
     },
     "047ea32ceba64ec7a5880cc90bfa4d29": {
      "model_module": "jupyter-leaflet",
      "model_module_version": "^0.13.2",
      "model_name": "LeafletMarkerModel",
      "state": {
       "_model_module_version": "^0.13.2",
       "_view_module_version": "^0.13.2",
       "location": [
        59.926872,
        10.738456
       ],
       "options": [
        "alt",
        "draggable",
        "keyboard",
        "rise_offset",
        "rise_on_hover",
        "rotation_angle",
        "rotation_origin",
        "title",
        "z_index_offset"
       ],
       "popup": "IPY_MODEL_504e6255f1b345dfa258aa88fadd6158",
       "title": "161 St. Hanshaugen park vest"
      }
     },
     "05042c872f95481c89045ee4d92e803d": {
      "model_module": "@jupyter-widgets/controls",
      "model_module_version": "1.5.0",
      "model_name": "DescriptionStyleModel",
      "state": {
       "description_width": ""
      }
     },
     "0536f37996b14078acde6804034bf343": {
      "model_module": "jupyter-leaflet",
      "model_module_version": "^0.13.2",
      "model_name": "LeafletMarkerModel",
      "state": {
       "_model_module_version": "^0.13.2",
       "_view_module_version": "^0.13.2",
       "location": [
        59.929562,
        10.732858
       ],
       "options": [
        "alt",
        "draggable",
        "keyboard",
        "rise_offset",
        "rise_on_hover",
        "rotation_angle",
        "rotation_origin",
        "title",
        "z_index_offset"
       ],
       "popup": "IPY_MODEL_4762ebd713934cf5904bd4b5d3b4eb1c",
       "title": "176 Stensgata"
      }
     },
     "0540d897ac114a5fa1a28cfa21e1dfce": {
      "model_module": "jupyter-leaflet",
      "model_module_version": "^0.13.2",
      "model_name": "LeafletMarkerModel",
      "state": {
       "_model_module_version": "^0.13.2",
       "_view_module_version": "^0.13.2",
       "location": [
        59.934934,
        10.749475
       ],
       "options": [
        "alt",
        "draggable",
        "keyboard",
        "rise_offset",
        "rise_on_hover",
        "rotation_angle",
        "rotation_origin",
        "title",
        "z_index_offset"
       ],
       "popup": "IPY_MODEL_20a2297b226c40278cdebd39c0e3fd61",
       "title": "162 Arkitekt Rivertz Plass"
      }
     },
     "0544b5d35db74197abfec62077c0875d": {
      "model_module": "@jupyter-widgets/controls",
      "model_module_version": "1.5.0",
      "model_name": "DescriptionStyleModel",
      "state": {
       "description_width": ""
      }
     },
     "05b403c35bf241a7bb20f4d77d0276eb": {
      "model_module": "jupyter-leaflet",
      "model_module_version": "^0.13.2",
      "model_name": "LeafletZoomControlModel",
      "state": {
       "_model_module_version": "^0.13.2",
       "_view_module_version": "^0.13.2",
       "options": [
        "position",
        "zoom_in_text",
        "zoom_in_title",
        "zoom_out_text",
        "zoom_out_title"
       ]
      }
     },
     "06b4a4fdd5f14526acad6b3cce8b18b3": {
      "model_module": "@jupyter-widgets/controls",
      "model_module_version": "1.5.0",
      "model_name": "HTMLModel",
      "state": {
       "layout": "IPY_MODEL_425ff8aad6254467b0cb7143f2af4bc8",
       "style": "IPY_MODEL_cdbea798e3fb4f08bab14778d5aa0a9c",
       "value": "269 Ullevålsalléen<br/>2.94 km to center"
      }
     },
     "0790b5fa17f943cb8db49c16594c83e7": {
      "model_module": "@jupyter-widgets/base",
      "model_module_version": "1.2.0",
      "model_name": "LayoutModel",
      "state": {}
     },
     "0800e012fb5448c6ac596aefb8b5b13d": {
      "model_module": "jupyter-leaflet",
      "model_module_version": "^0.13.2",
      "model_name": "LeafletMarkerModel",
      "state": {
       "_model_module_version": "^0.13.2",
       "_view_module_version": "^0.13.2",
       "location": [
        59.932449,
        10.721813
       ],
       "options": [
        "alt",
        "draggable",
        "keyboard",
        "rise_offset",
        "rise_on_hover",
        "rotation_angle",
        "rotation_origin",
        "title",
        "z_index_offset"
       ],
       "popup": "IPY_MODEL_76a3d18ee80d4cb48989903e78fa528c",
       "title": "283 Marienlyst"
      }
     },
     "0900a2979a244daa8388ff969b466cdf": {
      "model_module": "@jupyter-widgets/controls",
      "model_module_version": "1.5.0",
      "model_name": "HTMLModel",
      "state": {
       "layout": "IPY_MODEL_acfd9566b6604650aa966dcea1f8f65c",
       "style": "IPY_MODEL_0980ce3e656c474eb91162194848267b",
       "value": "196 Ringnes Park<br/>1.90 km to center"
      }
     },
     "090f1fbbb5234c88a6fa4c6785f7ef1c": {
      "model_module": "@jupyter-widgets/base",
      "model_module_version": "1.2.0",
      "model_name": "LayoutModel",
      "state": {}
     },
     "09550f1ecbaa49bda5d46a07d63c1737": {
      "model_module": "@jupyter-widgets/controls",
      "model_module_version": "1.5.0",
      "model_name": "DescriptionStyleModel",
      "state": {
       "description_width": ""
      }
     },
     "096bb6eae8134519be6742a56d585bc9": {
      "model_module": "jupyter-leaflet",
      "model_module_version": "^0.13.2",
      "model_name": "LeafletMarkerModel",
      "state": {
       "_model_module_version": "^0.13.2",
       "_view_module_version": "^0.13.2",
       "location": [
        59.921791,
        10.730448
       ],
       "options": [
        "alt",
        "draggable",
        "keyboard",
        "rise_offset",
        "rise_on_hover",
        "rotation_angle",
        "rotation_origin",
        "title",
        "z_index_offset"
       ],
       "popup": "IPY_MODEL_5e50ca7704444464bf50575c08bb9b61",
       "title": "190 Parkveien"
      }
     },
     "097d9e06c48c4e89b2ede7f863421936": {
      "model_module": "@jupyter-widgets/base",
      "model_module_version": "1.2.0",
      "model_name": "LayoutModel",
      "state": {}
     },
     "0980ce3e656c474eb91162194848267b": {
      "model_module": "@jupyter-widgets/controls",
      "model_module_version": "1.5.0",
      "model_name": "DescriptionStyleModel",
      "state": {
       "description_width": ""
      }
     },
     "098e2523e94a41f7b7cae5a970bd72e4": {
      "model_module": "@jupyter-widgets/controls",
      "model_module_version": "1.5.0",
      "model_name": "DescriptionStyleModel",
      "state": {
       "description_width": ""
      }
     },
     "09aa6430c4b74d0ca7c01c5cd404216a": {
      "model_module": "@jupyter-widgets/controls",
      "model_module_version": "1.5.0",
      "model_name": "HTMLModel",
      "state": {
       "layout": "IPY_MODEL_ac9f6a5b711e45ae88bbfb71251a39eb",
       "style": "IPY_MODEL_a826fe014e5549d1830401844b98bb6c",
       "value": "195 Saga Kino<br/>0.75 km to center"
      }
     },
     "0ad3c0a2be0c4c6bbade119d2c22d19b": {
      "model_module": "@jupyter-widgets/controls",
      "model_module_version": "1.5.0",
      "model_name": "HTMLModel",
      "state": {
       "layout": "IPY_MODEL_9f7dbe29bcc64ef59194e631c564e708",
       "style": "IPY_MODEL_d9e8da6daf16412987447a715126629c",
       "value": "167 Pilestredet Park Studenthus<br/>1.0951326984192815km to center"
      }
     },
     "0c382e86ecdb4c9382df5ba2e13c19d4": {
      "model_module": "@jupyter-widgets/controls",
      "model_module_version": "1.5.0",
      "model_name": "DescriptionStyleModel",
      "state": {
       "description_width": ""
      }
     },
     "0d12cfb0063849a18324b59a3bef2b86": {
      "model_module": "jupyter-leaflet",
      "model_module_version": "^0.13.2",
      "model_name": "LeafletMarkerModel",
      "state": {
       "_model_module_version": "^0.13.2",
       "_view_module_version": "^0.13.2",
       "location": [
        59.91562,
        10.762248
       ],
       "options": [
        "alt",
        "draggable",
        "keyboard",
        "rise_offset",
        "rise_on_hover",
        "rotation_angle",
        "rotation_origin",
        "title",
        "z_index_offset"
       ],
       "popup": "IPY_MODEL_fc1a57de004b41388ed7c9f12376b192",
       "title": "157 Nylandsveien"
      }
     },
     "0d6ca3a1a4604a469b1abb49d4e04c47": {
      "model_module": "@jupyter-widgets/base",
      "model_module_version": "1.2.0",
      "model_name": "LayoutModel",
      "state": {}
     },
     "0e467b627d684f88ac8a0e15cd46a5ec": {
      "model_module": "@jupyter-widgets/controls",
      "model_module_version": "1.5.0",
      "model_name": "HTMLModel",
      "state": {
       "layout": "IPY_MODEL_eef28d7755914ace8b88ef725701a3c7",
       "style": "IPY_MODEL_f3344d76a48d4214acb9a3f192a1e557",
       "value": "164 Vår Frelsers gravlund sør<br/>0.77 km to center"
      }
     },
     "0e4f860c81034340a5c28ea17a533ee4": {
      "model_module": "@jupyter-widgets/controls",
      "model_module_version": "1.5.0",
      "model_name": "HTMLModel",
      "state": {
       "layout": "IPY_MODEL_3ab7ea98875349e9993368b6786c34f0",
       "style": "IPY_MODEL_bd6da5be5b24463581974ef373a48ffd",
       "value": "182 Sagene bussholdeplass<br/>2.80 km to center"
      }
     },
     "0e6ac1828904444c913fc9373ea26087": {
      "model_module": "@jupyter-widgets/controls",
      "model_module_version": "1.5.0",
      "model_name": "HTMLModel",
      "state": {
       "layout": "IPY_MODEL_559abee8033b4d20943097ae45f13a4d",
       "style": "IPY_MODEL_d3490bc3c2df4e56a471036776ae3dd3",
       "value": "161 St. Hanshaugen park vest<br/>1.63 km to center"
      }
     },
     "0edccfdc92c74d65b227758980909717": {
      "model_module": "@jupyter-widgets/controls",
      "model_module_version": "1.5.0",
      "model_name": "HTMLModel",
      "state": {
       "layout": "IPY_MODEL_15e8db7931db4dbd985fdb8c762e5fd3",
       "style": "IPY_MODEL_396d1975e54b4785ad8e4fe6272d1f20",
       "value": "259 Suhms gate<br/>2.17 km to center"
      }
     },
     "0fa8c889ae0c4484be90feb4407c1aca": {
      "model_module": "jupyter-leaflet",
      "model_module_version": "^0.13.2",
      "model_name": "LeafletMarkerModel",
      "state": {
       "_model_module_version": "^0.13.2",
       "_view_module_version": "^0.13.2",
       "location": [
        59.932304,
        10.741499
       ],
       "options": [
        "alt",
        "draggable",
        "keyboard",
        "rise_offset",
        "rise_on_hover",
        "rotation_angle",
        "rotation_origin",
        "title",
        "z_index_offset"
       ],
       "popup": "IPY_MODEL_28899f0877644f08babdfe56f3d85d46",
       "title": "221 Tannlegehøyskolen"
      }
     },
     "0fcdd806b8e04748ba8e610f0fb4f5f5": {
      "model_module": "jupyter-leaflet",
      "model_module_version": "^0.13.2",
      "model_name": "LeafletMarkerModel",
      "state": {
       "_model_module_version": "^0.13.2",
       "_view_module_version": "^0.13.2",
       "location": [
        59.913409,
        10.75737
       ],
       "options": [
        "alt",
        "draggable",
        "keyboard",
        "rise_offset",
        "rise_on_hover",
        "rotation_angle",
        "rotation_origin",
        "title",
        "z_index_offset"
       ],
       "popup": "IPY_MODEL_2f53ec144a104ed4a7d03cfc49ab7a53",
       "title": "163 Vaterlandsparken"
      }
     },
     "1018e1362398410e8a377b1c39ab781e": {
      "model_module": "@jupyter-widgets/controls",
      "model_module_version": "1.5.0",
      "model_name": "DescriptionStyleModel",
      "state": {
       "description_width": ""
      }
     },
     "101d6c65657649bf881538b669457cb4": {
      "model_module": "@jupyter-widgets/controls",
      "model_module_version": "1.5.0",
      "model_name": "HTMLModel",
      "state": {
       "layout": "IPY_MODEL_c0a2c739164e46ca97a02415b28eeb60",
       "style": "IPY_MODEL_3a73a51f7f8642829b9120ac53c7b9c8",
       "value": "301 Professor Aschehougs plass<br/>0.36 km to center"
      }
     },
     "107152ecf2e645d7a30fe4be96303f76": {
      "model_module": "@jupyter-widgets/base",
      "model_module_version": "1.2.0",
      "model_name": "LayoutModel",
      "state": {}
     },
     "108197be439c420097df34f117e6831a": {
      "model_module": "@jupyter-widgets/controls",
      "model_module_version": "1.5.0",
      "model_name": "HTMLModel",
      "state": {
       "layout": "IPY_MODEL_d3a081f73f4e42f2b1c87856a57e5625",
       "style": "IPY_MODEL_2f044e96ce61445d9bb7a405d360824a",
       "value": "266 Botanisk Hage sør<br/>1.34 km to center"
      }
     },
     "1158c54c690c4ce8ace73315cf0b7624": {
      "model_module": "jupyter-leaflet",
      "model_module_version": "^0.13.2",
      "model_name": "LeafletMarkerModel",
      "state": {
       "_model_module_version": "^0.13.2",
       "_view_module_version": "^0.13.2",
       "location": [
        59.911151,
        10.729977
       ],
       "options": [
        "alt",
        "draggable",
        "keyboard",
        "rise_offset",
        "rise_on_hover",
        "rotation_angle",
        "rotation_origin",
        "title",
        "z_index_offset"
       ],
       "popup": "IPY_MODEL_422c71adc80a47a9b13bd8858d742f71",
       "title": "253 Aker Brygge"
      }
     },
     "11bb44bac2ce46dd989f9127b90e3ac0": {
      "model_module": "@jupyter-widgets/base",
      "model_module_version": "1.2.0",
      "model_name": "LayoutModel",
      "state": {}
     },
     "11e4383916dd4c24a70528164caf4e15": {
      "model_module": "@jupyter-widgets/controls",
      "model_module_version": "1.5.0",
      "model_name": "HTMLModel",
      "state": {
       "layout": "IPY_MODEL_644b195ccb3d4f3da3b311545fbb702d",
       "style": "IPY_MODEL_0544b5d35db74197abfec62077c0875d",
       "value": "211 Oslo City<br/>0.28 km to center"
      }
     },
     "1265bd596f4b4af2ae4db3c3428e7837": {
      "model_module": "@jupyter-widgets/base",
      "model_module_version": "1.2.0",
      "model_name": "LayoutModel",
      "state": {}
     },
     "1270d3b0d05a44f1b55597ddf069bfd9": {
      "model_module": "@jupyter-widgets/controls",
      "model_module_version": "1.5.0",
      "model_name": "DescriptionStyleModel",
      "state": {
       "description_width": ""
      }
     },
     "1297b2ab9ac14aee9093567629c55a2c": {
      "model_module": "@jupyter-widgets/controls",
      "model_module_version": "1.5.0",
      "model_name": "HTMLModel",
      "state": {
       "layout": "IPY_MODEL_9d2768b675544c03800922130e1159fe",
       "style": "IPY_MODEL_58700261bc004a4eb0823f5975ac6aff",
       "value": "163 Vaterlandsparken<br/>0.6331569331916928km to center"
      }
     },
     "1297e804f5cd4278a3d89cb898bb175c": {
      "model_module": "@jupyter-widgets/base",
      "model_module_version": "1.2.0",
      "model_name": "LayoutModel",
      "state": {}
     },
     "12b6e36c629040dba6c8c2a04dcaf821": {
      "model_module": "@jupyter-widgets/controls",
      "model_module_version": "1.5.0",
      "model_name": "HTMLModel",
      "state": {
       "layout": "IPY_MODEL_7d1b381ed45642b69a17d5c49a7cfeaf",
       "style": "IPY_MODEL_a39d1cae13af4a7d9362077e550f25e4",
       "value": "218 Briskeby<br/>1.78 km to center"
      }
     },
     "12b8961d8df84e208d92f471891af7eb": {
      "model_module": "jupyter-leaflet",
      "model_module_version": "^0.13.2",
      "model_name": "LeafletMarkerModel",
      "state": {
       "_model_module_version": "^0.13.2",
       "_view_module_version": "^0.13.2",
       "location": [
        59.913193,
        10.75003
       ],
       "options": [
        "alt",
        "draggable",
        "keyboard",
        "rise_offset",
        "rise_on_hover",
        "rotation_angle",
        "rotation_origin",
        "title",
        "z_index_offset"
       ],
       "popup": "IPY_MODEL_3ecab1bc06d143d0900019938c345167",
       "title": "288 Skippergata"
      }
     },
     "12c7d3b105404525b2b4832c17113893": {
      "model_module": "@jupyter-widgets/controls",
      "model_module_version": "1.5.0",
      "model_name": "DescriptionStyleModel",
      "state": {
       "description_width": ""
      }
     },
     "13180cb66e1e4d9e9eb636693161c67b": {
      "model_module": "@jupyter-widgets/base",
      "model_module_version": "1.2.0",
      "model_name": "LayoutModel",
      "state": {}
     },
     "13614a46f6d8477d8f431397283463cc": {
      "model_module": "@jupyter-widgets/controls",
      "model_module_version": "1.5.0",
      "model_name": "DescriptionStyleModel",
      "state": {
       "description_width": ""
      }
     },
     "150f7b9cb8e249ce870e1ae102503bcb": {
      "model_module": "jupyter-leaflet",
      "model_module_version": "^0.13.2",
      "model_name": "LeafletMarkerModel",
      "state": {
       "_model_module_version": "^0.13.2",
       "_view_module_version": "^0.13.2",
       "location": [
        59.910215,
        10.751687
       ],
       "options": [
        "alt",
        "draggable",
        "keyboard",
        "rise_offset",
        "rise_on_hover",
        "rotation_angle",
        "rotation_origin",
        "title",
        "z_index_offset"
       ],
       "popup": "IPY_MODEL_738b3b185c954cedb1cad281d6ba51a4",
       "title": "160 Sjøsiden vest"
      }
     },
     "15479990220144dd91a8f6eb29fcd2d0": {
      "model_module": "@jupyter-widgets/controls",
      "model_module_version": "1.5.0",
      "model_name": "HTMLModel",
      "state": {
       "layout": "IPY_MODEL_52b1b06f816148e88344c535b141d72c",
       "style": "IPY_MODEL_db26bbfdc6f34d52a2e77d512d5ad6b6",
       "value": "278 Vippetangen vest<br/>1.02 km to center"
      }
     },
     "156265fa026241fe99d092e38d1f4680": {
      "model_module": "jupyter-leaflet",
      "model_module_version": "^0.13.2",
      "model_name": "LeafletMarkerModel",
      "state": {
       "_model_module_version": "^0.13.2",
       "_view_module_version": "^0.13.2",
       "location": [
        59.946699,
        10.773978
       ],
       "options": [
        "alt",
        "draggable",
        "keyboard",
        "rise_offset",
        "rise_on_hover",
        "rotation_angle",
        "rotation_origin",
        "title",
        "z_index_offset"
       ],
       "popup": "IPY_MODEL_7f768fc9a71741a88cb709c0b996d9c8",
       "title": "183 Storo Storsenter"
      }
     },
     "15753ac8d42540eb8f8b44331ff0a002": {
      "model_module": "jupyter-leaflet",
      "model_module_version": "^0.13.2",
      "model_name": "LeafletMarkerModel",
      "state": {
       "_model_module_version": "^0.13.2",
       "_view_module_version": "^0.13.2",
       "location": [
        59.91562,
        10.762248
       ],
       "options": [
        "alt",
        "draggable",
        "keyboard",
        "rise_offset",
        "rise_on_hover",
        "rotation_angle",
        "rotation_origin",
        "title",
        "z_index_offset"
       ],
       "popup": "IPY_MODEL_3c98ed1136c14460a630b1af23e78cd1",
       "title": "157 Nylandsveien"
      }
     },
     "15e8db7931db4dbd985fdb8c762e5fd3": {
      "model_module": "@jupyter-widgets/base",
      "model_module_version": "1.2.0",
      "model_name": "LayoutModel",
      "state": {}
     },
     "16062ce83ad446f29be6995a01a3db55": {
      "model_module": "@jupyter-widgets/base",
      "model_module_version": "1.2.0",
      "model_name": "LayoutModel",
      "state": {}
     },
     "1669840468d8422591a37d796fb3d4ae": {
      "model_module": "@jupyter-widgets/controls",
      "model_module_version": "1.5.0",
      "model_name": "DescriptionStyleModel",
      "state": {
       "description_width": ""
      }
     },
     "16dfaf1040d44aa282003074659e1972": {
      "model_module": "@jupyter-widgets/base",
      "model_module_version": "1.2.0",
      "model_name": "LayoutModel",
      "state": {}
     },
     "176dda999708441d804be449a0efeb19": {
      "model_module": "@jupyter-widgets/base",
      "model_module_version": "1.2.0",
      "model_name": "LayoutModel",
      "state": {}
     },
     "1794fcdd464f4381b679f17b6ad2da0b": {
      "model_module": "@jupyter-widgets/controls",
      "model_module_version": "1.5.0",
      "model_name": "HTMLModel",
      "state": {
       "layout": "IPY_MODEL_107152ecf2e645d7a30fe4be96303f76",
       "style": "IPY_MODEL_ba8584a2f4ee4032a21ef516e27f8150",
       "value": "217 Adamstuen<br/>2.32 km to center"
      }
     },
     "1836019c6df14c51a32289b92ae80bb6": {
      "model_module": "@jupyter-widgets/base",
      "model_module_version": "1.2.0",
      "model_name": "LayoutModel",
      "state": {}
     },
     "189db47344a140fd83c3638fe58275a1": {
      "model_module": "@jupyter-widgets/base",
      "model_module_version": "1.2.0",
      "model_name": "LayoutModel",
      "state": {}
     },
     "18b0959a74fa48b89077adb9c442706f": {
      "model_module": "@jupyter-widgets/base",
      "model_module_version": "1.2.0",
      "model_name": "LayoutModel",
      "state": {}
     },
     "18bc062bda4c4e03836593fcaaa0e56a": {
      "model_module": "@jupyter-widgets/controls",
      "model_module_version": "1.5.0",
      "model_name": "HTMLModel",
      "state": {
       "layout": "IPY_MODEL_1836019c6df14c51a32289b92ae80bb6",
       "style": "IPY_MODEL_09550f1ecbaa49bda5d46a07d63c1737",
       "value": "306 Møllergata<br/>0.32 km to center"
      }
     },
     "18d24a7149be4141b5a8333e19695a7c": {
      "model_module": "@jupyter-widgets/controls",
      "model_module_version": "1.5.0",
      "model_name": "HTMLModel",
      "state": {
       "layout": "IPY_MODEL_c8bc6085d91e4e8f9d4858edac8488b1",
       "style": "IPY_MODEL_7bc8953f06c34901900728b04278d475",
       "value": "251 Hallénparken<br/>2.28 km to center"
      }
     },
     "18e6bef15331490a86b1301442e8ef07": {
      "model_module": "@jupyter-widgets/controls",
      "model_module_version": "1.5.0",
      "model_name": "HTMLModel",
      "state": {
       "layout": "IPY_MODEL_ccaffcf1e0214f1fb5dc8fae8423cec7",
       "style": "IPY_MODEL_ce8c62b17e0c45a78efc3aff3299d274",
       "value": "157 Nylandsveien<br/>0.96 km to center"
      }
     },
     "19a5900074544d5ea064aaf324f00205": {
      "model_module": "@jupyter-widgets/controls",
      "model_module_version": "1.5.0",
      "model_name": "DescriptionStyleModel",
      "state": {
       "description_width": ""
      }
     },
     "19cd1661be704bb78df7042890bb072e": {
      "model_module": "@jupyter-widgets/controls",
      "model_module_version": "1.5.0",
      "model_name": "DescriptionStyleModel",
      "state": {
       "description_width": ""
      }
     },
     "19e39ca617694a73974cabab79ef4410": {
      "model_module": "@jupyter-widgets/controls",
      "model_module_version": "1.5.0",
      "model_name": "HTMLModel",
      "state": {
       "layout": "IPY_MODEL_5657fd5fb14f439cb0cbf0c6cb584197",
       "style": "IPY_MODEL_50e37c3d10c14588bc5e52156d2529fb",
       "value": "203 Uranienborgparken<br/>1.78 km to center"
      }
     },
     "1a62e5f204894d6f8773ba62064d0b9e": {
      "model_module": "@jupyter-widgets/base",
      "model_module_version": "1.2.0",
      "model_name": "LayoutModel",
      "state": {}
     },
     "1aa403ba12c249e59a6ca0d63c3c4a31": {
      "model_module": "@jupyter-widgets/base",
      "model_module_version": "1.2.0",
      "model_name": "LayoutModel",
      "state": {}
     },
     "1be8c2c6fc6b45fa893aec973c16f736": {
      "model_module": "@jupyter-widgets/base",
      "model_module_version": "1.2.0",
      "model_name": "LayoutModel",
      "state": {}
     },
     "1c1ac3379687484db045a699415a414c": {
      "model_module": "@jupyter-widgets/base",
      "model_module_version": "1.2.0",
      "model_name": "LayoutModel",
      "state": {}
     },
     "1d146631a5874175a7022abe66123fa7": {
      "model_module": "@jupyter-widgets/controls",
      "model_module_version": "1.5.0",
      "model_name": "DescriptionStyleModel",
      "state": {
       "description_width": ""
      }
     },
     "1d751f929b9c430b83e5da2f8ef430da": {
      "model_module": "@jupyter-widgets/controls",
      "model_module_version": "1.5.0",
      "model_name": "HTMLModel",
      "state": {
       "layout": "IPY_MODEL_ea98902613d54d12acf4c068adcb8176",
       "style": "IPY_MODEL_636be1ce77a94f0a8597f6da5ee4230a",
       "value": "178 Colosseum Kino<br/>2.72 km to center"
      }
     },
     "1d85cc2e81704f4d81e981302191d5e1": {
      "model_module": "@jupyter-widgets/controls",
      "model_module_version": "1.5.0",
      "model_name": "DescriptionStyleModel",
      "state": {
       "description_width": ""
      }
     },
     "1dc87fed02b84cbdbafa9b7d888128d1": {
      "model_module": "@jupyter-widgets/base",
      "model_module_version": "1.2.0",
      "model_name": "LayoutModel",
      "state": {}
     },
     "1dcc4eaa100d46a2a31f855cef2a640e": {
      "model_module": "@jupyter-widgets/controls",
      "model_module_version": "1.5.0",
      "model_name": "HTMLModel",
      "state": {
       "layout": "IPY_MODEL_6941930b12f645e5baae379536d50ef7",
       "style": "IPY_MODEL_5c107f83fbf748778beae3a71e6c179e",
       "value": "252 Skøyen<br/>3.99 km to center"
      }
     },
     "1dee681b8a954cf5814f5d49c47d77d8": {
      "model_module": "@jupyter-widgets/controls",
      "model_module_version": "1.5.0",
      "model_name": "HTMLModel",
      "state": {
       "layout": "IPY_MODEL_82a507f49333423f83e3a56630869909",
       "style": "IPY_MODEL_cd1e5c7257a1452aa7f641e6f2990069",
       "value": "212 Hasle Torg<br/>2.85 km to center"
      }
     },
     "1e36a086bfc04875baa6e60f21739dfd": {
      "model_module": "@jupyter-widgets/base",
      "model_module_version": "1.2.0",
      "model_name": "LayoutModel",
      "state": {}
     },
     "1e91e88eba5f40e2b4cf42e60632c4fe": {
      "model_module": "jupyter-leaflet",
      "model_module_version": "^0.13.2",
      "model_name": "LeafletMapStyleModel",
      "state": {
       "_model_module_version": "^0.13.2"
      }
     },
     "1e9b561dcc8642aea5b9b3649a2cb847": {
      "model_module": "@jupyter-widgets/controls",
      "model_module_version": "1.5.0",
      "model_name": "HTMLModel",
      "state": {
       "layout": "IPY_MODEL_5aabc69f926042868b6ef2f48dd98230",
       "style": "IPY_MODEL_33201480014f48d0a21d9d213c3d5031",
       "value": "227 St. Hanshaugen park sør<br/>1.39 km to center"
      }
     },
     "1fd28f9f95414d7792cf6e6e13c58250": {
      "model_module": "jupyter-leaflet",
      "model_module_version": "^0.13.2",
      "model_name": "LeafletMarkerModel",
      "state": {
       "_model_module_version": "^0.13.2",
       "_view_module_version": "^0.13.2",
       "location": [
        59.910215,
        10.751687
       ],
       "options": [
        "alt",
        "draggable",
        "keyboard",
        "rise_offset",
        "rise_on_hover",
        "rotation_angle",
        "rotation_origin",
        "title",
        "z_index_offset"
       ],
       "popup": "IPY_MODEL_64809956ddb54f3c918454185b121c05",
       "title": "160 Sjøsiden vest"
      }
     },
     "1fdd6b98c0994789a6b7d2567669d634": {
      "model_module": "@jupyter-widgets/controls",
      "model_module_version": "1.5.0",
      "model_name": "HTMLModel",
      "state": {
       "layout": "IPY_MODEL_1c1ac3379687484db045a699415a414c",
       "style": "IPY_MODEL_b3e8e04a8f814c599f2da5d81da542e8",
       "value": "184 Det Teologiske fakultet<br/>2.75 km to center"
      }
     },
     "1fe701d4e1b043f49b1581c558d27afe": {
      "model_module": "@jupyter-widgets/controls",
      "model_module_version": "1.5.0",
      "model_name": "DescriptionStyleModel",
      "state": {
       "description_width": ""
      }
     },
     "2081f11bed83423cbb573698df81c71c": {
      "model_module": "jupyter-leaflet",
      "model_module_version": "^0.13.2",
      "model_name": "LeafletMarkerModel",
      "state": {
       "_model_module_version": "^0.13.2",
       "_view_module_version": "^0.13.2",
       "location": [
        59.92548,
        10.731318
       ],
       "options": [
        "alt",
        "draggable",
        "keyboard",
        "rise_offset",
        "rise_on_hover",
        "rotation_angle",
        "rotation_origin",
        "title",
        "z_index_offset"
       ],
       "popup": "IPY_MODEL_f83de052e0d04e41b8fe0d2b272d22ca",
       "title": "267 Bislett Stadion"
      }
     },
     "20a2297b226c40278cdebd39c0e3fd61": {
      "model_module": "@jupyter-widgets/controls",
      "model_module_version": "1.5.0",
      "model_name": "HTMLModel",
      "state": {
       "layout": "IPY_MODEL_fbeec2e9fc5041508f5496a39f49dc28",
       "style": "IPY_MODEL_e784d45c6e82430fba8551042edb52fd",
       "value": "162 Arkitekt Rivertz Plass<br/>2.4794512399395114km to center"
      }
     },
     "20be1ec6c26e40d5ab5b8818b9e38e83": {
      "model_module": "@jupyter-widgets/base",
      "model_module_version": "1.2.0",
      "model_name": "LayoutModel",
      "state": {}
     },
     "224c253e896e4c3cada58208eba5baa5": {
      "model_module": "@jupyter-widgets/base",
      "model_module_version": "1.2.0",
      "model_name": "LayoutModel",
      "state": {}
     },
     "230a4ffbf9b84b0ca64fb284269d8e5a": {
      "model_module": "jupyter-leaflet",
      "model_module_version": "^0.13.2",
      "model_name": "LeafletMarkerModel",
      "state": {
       "_model_module_version": "^0.13.2",
       "_view_module_version": "^0.13.2",
       "location": [
        59.920565,
        10.734274
       ],
       "options": [
        "alt",
        "draggable",
        "keyboard",
        "rise_offset",
        "rise_on_hover",
        "rotation_angle",
        "rotation_origin",
        "title",
        "z_index_offset"
       ],
       "popup": "IPY_MODEL_e8adf13f94bd4971bd4a7ade6d018e31",
       "title": "167 Pilestredet Park Studenthus"
      }
     },
     "232195f80f5045e498aa8c542cae64ba": {
      "model_module": "@jupyter-widgets/base",
      "model_module_version": "1.2.0",
      "model_name": "LayoutModel",
      "state": {}
     },
     "2323c28b5e0d46649427d6b218a42644": {
      "model_module": "@jupyter-widgets/base",
      "model_module_version": "1.2.0",
      "model_name": "LayoutModel",
      "state": {}
     },
     "234f634068174bada98e907fa7022598": {
      "model_module": "@jupyter-widgets/base",
      "model_module_version": "1.2.0",
      "model_name": "LayoutModel",
      "state": {}
     },
     "23bda02426274454af474b21a4babcad": {
      "model_module": "jupyter-leaflet",
      "model_module_version": "^0.13.2",
      "model_name": "LeafletMapStyleModel",
      "state": {
       "_model_module_version": "^0.13.2",
       "cursor": "move"
      }
     },
     "245d9d05d235483e98704d36ca1b9715": {
      "model_module": "@jupyter-widgets/base",
      "model_module_version": "1.2.0",
      "model_name": "LayoutModel",
      "state": {}
     },
     "24dcbab2c5bc45428f0ac5c8b8f20286": {
      "model_module": "@jupyter-widgets/controls",
      "model_module_version": "1.5.0",
      "model_name": "HTMLModel",
      "state": {
       "layout": "IPY_MODEL_16062ce83ad446f29be6995a01a3db55",
       "style": "IPY_MODEL_b6c4291ef0494e46af1c7d6e17f9518e",
       "value": "234 Spikersuppa Vest<br/>0.57 km to center"
      }
     },
     "252e9144278640a992b25ece0c3ddc44": {
      "model_module": "@jupyter-widgets/controls",
      "model_module_version": "1.5.0",
      "model_name": "HTMLModel",
      "state": {
       "layout": "IPY_MODEL_f3446ecbdd744feca5db9ba9d8c5f0e1",
       "style": "IPY_MODEL_7a03150f313941e3a47df1ba29329a96",
       "value": "297 Bjørvika<br/>0.69 km to center"
      }
     },
     "2561d8d19e01457794b37964af945c1a": {
      "model_module": "jupyter-leaflet",
      "model_module_version": "^0.13.2",
      "model_name": "LeafletMarkerModel",
      "state": {
       "_model_module_version": "^0.13.2",
       "_view_module_version": "^0.13.2",
       "location": [
        59.91562,
        10.762248
       ],
       "options": [
        "alt",
        "draggable",
        "keyboard",
        "rise_offset",
        "rise_on_hover",
        "rotation_angle",
        "rotation_origin",
        "title",
        "z_index_offset"
       ],
       "popup": "IPY_MODEL_c0049585c74d4e28a4ce8332bad571eb",
       "title": "157 Nylandsveien"
      }
     },
     "25825e34ecf8436284d954cc0603b94a": {
      "model_module": "jupyter-leaflet",
      "model_module_version": "^0.13.2",
      "model_name": "LeafletMarkerModel",
      "state": {
       "_model_module_version": "^0.13.2",
       "_view_module_version": "^0.13.2",
       "location": [
        59.927255,
        10.773072
       ],
       "options": [
        "alt",
        "draggable",
        "keyboard",
        "rise_offset",
        "rise_on_hover",
        "rotation_angle",
        "rotation_origin",
        "title",
        "z_index_offset"
       ],
       "popup": "IPY_MODEL_eb8273e436d8461294f603966767d61e",
       "title": "255 Chr. Michelsens Gate"
      }
     },
     "267f9c11a3a445689752e9fff07c0f1b": {
      "model_module": "@jupyter-widgets/controls",
      "model_module_version": "1.5.0",
      "model_name": "HTMLModel",
      "state": {
       "layout": "IPY_MODEL_189db47344a140fd83c3638fe58275a1",
       "style": "IPY_MODEL_c437f014097941919a471fcfda448dd1",
       "value": "159 Hans Nielsen Hauges plass<br/>3.34km to center"
      }
     },
     "2699c5d5d0f34a7ab7ad721c5f7d7511": {
      "model_module": "@jupyter-widgets/base",
      "model_module_version": "1.2.0",
      "model_name": "LayoutModel",
      "state": {}
     },
     "271acf053e744b26a76af6b97f262d9c": {
      "model_module": "@jupyter-widgets/controls",
      "model_module_version": "1.5.0",
      "model_name": "HTMLModel",
      "state": {
       "layout": "IPY_MODEL_f3314d37b61142aa9521f3a65006ce58",
       "style": "IPY_MODEL_8fc56a8958d74d71a229fe043103f1dc",
       "value": "229 Schous plass<br/>1.18 km to center"
      }
     },
     "275c97abd02448fb9a979e02a804aae7": {
      "model_module": "@jupyter-widgets/controls",
      "model_module_version": "1.5.0",
      "model_name": "DescriptionStyleModel",
      "state": {
       "description_width": ""
      }
     },
     "2783b9509db245aebc94cff1e8373fb8": {
      "model_module": "jupyter-leaflet",
      "model_module_version": "^0.13.2",
      "model_name": "LeafletMarkerModel",
      "state": {
       "_model_module_version": "^0.13.2",
       "_view_module_version": "^0.13.2",
       "location": [
        59.910864,
        10.736461
       ],
       "options": [
        "alt",
        "draggable",
        "keyboard",
        "rise_offset",
        "rise_on_hover",
        "rotation_angle",
        "rotation_origin",
        "title",
        "z_index_offset"
       ],
       "popup": "IPY_MODEL_d9142ab3a8d543de835601c7fc200ff1",
       "title": "302 Rådhusgata"
      }
     },
     "27bedba8c64340c2b77b43e9413b7f7e": {
      "model_module": "jupyter-leaflet",
      "model_module_version": "^0.13.2",
      "model_name": "LeafletMarkerModel",
      "state": {
       "_model_module_version": "^0.13.2",
       "_view_module_version": "^0.13.2",
       "location": [
        59.939238,
        10.774279
       ],
       "options": [
        "alt",
        "draggable",
        "keyboard",
        "rise_offset",
        "rise_on_hover",
        "rotation_angle",
        "rotation_origin",
        "title",
        "z_index_offset"
       ],
       "popup": "IPY_MODEL_267f9c11a3a445689752e9fff07c0f1b",
       "title": "159 Hans Nielsen Hauges plass"
      }
     },
     "28341a36c7a2437fad5db45eda42c5d3": {
      "model_module": "@jupyter-widgets/controls",
      "model_module_version": "1.5.0",
      "model_name": "DescriptionStyleModel",
      "state": {
       "description_width": ""
      }
     },
     "28899f0877644f08babdfe56f3d85d46": {
      "model_module": "@jupyter-widgets/controls",
      "model_module_version": "1.5.0",
      "model_name": "HTMLModel",
      "state": {
       "layout": "IPY_MODEL_b04180313bc94c178447f1fc6831f847",
       "style": "IPY_MODEL_29771998e9ef44b2bbd0c70d1f2061af",
       "value": "221 Tannlegehøyskolen<br/>2.19 km to center"
      }
     },
     "28c585ee77174564aff446d79a12b32e": {
      "model_module": "@jupyter-widgets/controls",
      "model_module_version": "1.5.0",
      "model_name": "DescriptionStyleModel",
      "state": {
       "description_width": ""
      }
     },
     "28e443e1d0144536a610e16d70a2fd58": {
      "model_module": "@jupyter-widgets/base",
      "model_module_version": "1.2.0",
      "model_name": "LayoutModel",
      "state": {}
     },
     "295e7f1cef0a4e7a950be3945b77635d": {
      "model_module": "@jupyter-widgets/base",
      "model_module_version": "1.2.0",
      "model_name": "LayoutModel",
      "state": {}
     },
     "29771998e9ef44b2bbd0c70d1f2061af": {
      "model_module": "@jupyter-widgets/controls",
      "model_module_version": "1.5.0",
      "model_name": "DescriptionStyleModel",
      "state": {
       "description_width": ""
      }
     },
     "2a8d89230e5f4b65a0294db0a086688a": {
      "model_module": "@jupyter-widgets/controls",
      "model_module_version": "1.5.0",
      "model_name": "HTMLModel",
      "state": {
       "layout": "IPY_MODEL_45a6ff280ad242eaa01d3e61eac6e05d",
       "style": "IPY_MODEL_448333cbfe4644aaab2126ed2a4f8f95",
       "value": "279 Bankplassen<br/>0.54 km to center"
      }
     },
     "2a9eb7cc725543a4b6a35d5c35b26589": {
      "model_module": "jupyter-leaflet",
      "model_module_version": "^0.13.2",
      "model_name": "LeafletMarkerModel",
      "state": {
       "_model_module_version": "^0.13.2",
       "_view_module_version": "^0.13.2",
       "location": [
        59.905004,
        10.75362
       ],
       "options": [
        "alt",
        "draggable",
        "keyboard",
        "rise_offset",
        "rise_on_hover",
        "rotation_angle",
        "rotation_origin",
        "title",
        "z_index_offset"
       ],
       "popup": "IPY_MODEL_daf30a2b5d5f4993a0bc21154326d29a",
       "title": "274 Sukkerbiten"
      }
     },
     "2aaeea90f585469a975e6530b8bb748f": {
      "model_module": "@jupyter-widgets/controls",
      "model_module_version": "1.5.0",
      "model_name": "DescriptionStyleModel",
      "state": {
       "description_width": ""
      }
     },
     "2b47d1563e4b4e2685b9c4242e706901": {
      "model_module": "@jupyter-widgets/controls",
      "model_module_version": "1.5.0",
      "model_name": "HTMLModel",
      "state": {
       "layout": "IPY_MODEL_6985fa2faa58422bbbd102236cf748b3",
       "style": "IPY_MODEL_71d900c8bb9a47c5a90d2ff021ccd47f",
       "value": "290 Skillebekk<br/>2.01 km to center"
      }
     },
     "2b84e21da74345e8abae0a8713f58a0f": {
      "model_module": "@jupyter-widgets/controls",
      "model_module_version": "1.5.0",
      "model_name": "DescriptionStyleModel",
      "state": {
       "description_width": ""
      }
     },
     "2c49686b80414c3e821fa1b1fff31f80": {
      "model_module": "jupyter-leaflet",
      "model_module_version": "^0.13.2",
      "model_name": "LeafletTileLayerModel",
      "state": {
       "_model_module_version": "^0.13.2",
       "_view_module_version": "^0.13.2",
       "base": true,
       "max_native_zoom": 18,
       "max_zoom": 19,
       "min_native_zoom": 0,
       "min_zoom": 1,
       "options": [
        "attribution",
        "detect_retina",
        "max_native_zoom",
        "max_zoom",
        "min_native_zoom",
        "min_zoom",
        "no_wrap",
        "tile_size",
        "tms"
       ]
      }
     },
     "2c51e8b2b5dc49ba9d0aa533bc9da15e": {
      "model_module": "@jupyter-widgets/base",
      "model_module_version": "1.2.0",
      "model_name": "LayoutModel",
      "state": {}
     },
     "2da90101eae146c5862fb6e186f43d18": {
      "model_module": "@jupyter-widgets/controls",
      "model_module_version": "1.5.0",
      "model_name": "DescriptionStyleModel",
      "state": {
       "description_width": ""
      }
     },
     "2e606ce233e34184bbe38a5a201e2cd3": {
      "model_module": "jupyter-leaflet",
      "model_module_version": "^0.13.2",
      "model_name": "LeafletMarkerModel",
      "state": {
       "_model_module_version": "^0.13.2",
       "_view_module_version": "^0.13.2",
       "location": [
        59.913549,
        10.726398
       ],
       "options": [
        "alt",
        "draggable",
        "keyboard",
        "rise_offset",
        "rise_on_hover",
        "rotation_angle",
        "rotation_origin",
        "title",
        "z_index_offset"
       ],
       "popup": "IPY_MODEL_e0f236b7bdcf4cefb0c333705de1f728",
       "title": "275 Ruseløkkgården"
      }
     },
     "2efb91dcaa394c9caab694152fa25398": {
      "model_module": "jupyter-leaflet",
      "model_module_version": "^0.13.2",
      "model_name": "LeafletMarkerModel",
      "state": {
       "_model_module_version": "^0.13.2",
       "_view_module_version": "^0.13.2",
       "location": [
        59.910215,
        10.751687
       ],
       "options": [
        "alt",
        "draggable",
        "keyboard",
        "rise_offset",
        "rise_on_hover",
        "rotation_angle",
        "rotation_origin",
        "title",
        "z_index_offset"
       ],
       "popup": "IPY_MODEL_bed67eedce064e6fb464fed7b233fe86",
       "title": "160 Sjøsiden vest"
      }
     },
     "2f044e96ce61445d9bb7a405d360824a": {
      "model_module": "@jupyter-widgets/controls",
      "model_module_version": "1.5.0",
      "model_name": "DescriptionStyleModel",
      "state": {
       "description_width": ""
      }
     },
     "2f38e0c25b6f405ba6acabac85226a42": {
      "model_module": "jupyter-leaflet",
      "model_module_version": "^0.13.2",
      "model_name": "LeafletMarkerModel",
      "state": {
       "_model_module_version": "^0.13.2",
       "_view_module_version": "^0.13.2",
       "location": [
        59.924729,
        10.724579
       ],
       "options": [
        "alt",
        "draggable",
        "keyboard",
        "rise_offset",
        "rise_on_hover",
        "rotation_angle",
        "rotation_origin",
        "title",
        "z_index_offset"
       ],
       "popup": "IPY_MODEL_72fac03d4fb44552b91998f173a40f05",
       "title": "169 Bogstadveien"
      }
     },
     "2f41190589f143efa5eeb0bae19f3019": {
      "model_module": "@jupyter-widgets/controls",
      "model_module_version": "1.5.0",
      "model_name": "DescriptionStyleModel",
      "state": {
       "description_width": ""
      }
     },
     "2f53ec144a104ed4a7d03cfc49ab7a53": {
      "model_module": "@jupyter-widgets/controls",
      "model_module_version": "1.5.0",
      "model_name": "HTMLModel",
      "state": {
       "layout": "IPY_MODEL_d729b53cded847838450515e13cdaccd",
       "style": "IPY_MODEL_1d146631a5874175a7022abe66123fa7",
       "value": "163 Vaterlandsparken<br/>0.63km to center"
      }
     },
     "2f571da2948e4d67ad496c16324ff461": {
      "model_module": "@jupyter-widgets/base",
      "model_module_version": "1.2.0",
      "model_name": "LayoutModel",
      "state": {}
     },
     "2fa7fe0e8a6d46d79590d9a836e9d98e": {
      "model_module": "@jupyter-widgets/controls",
      "model_module_version": "1.5.0",
      "model_name": "HTMLModel",
      "state": {
       "layout": "IPY_MODEL_605001997f1b47ceb4ddf67c1eb6aae6",
       "style": "IPY_MODEL_1d85cc2e81704f4d81e981302191d5e1",
       "value": "197 Uelands gate<br/>1.88 km to center"
      }
     },
     "2fedae656fc34ad89fda11913a126bcf": {
      "model_module": "jupyter-leaflet",
      "model_module_version": "^0.13.2",
      "model_name": "LeafletZoomControlModel",
      "state": {
       "_model_module_version": "^0.13.2",
       "_view_module_version": "^0.13.2",
       "options": [
        "position",
        "zoom_in_text",
        "zoom_in_title",
        "zoom_out_text",
        "zoom_out_title"
       ]
      }
     },
     "304d09fd9ce74378b82335be4582c578": {
      "model_module": "@jupyter-widgets/controls",
      "model_module_version": "1.5.0",
      "model_name": "HTMLModel",
      "state": {
       "layout": "IPY_MODEL_b225b0ab4e19479892a9a55cfcd484e3",
       "style": "IPY_MODEL_afea74218197402a844c1d31d175a106",
       "value": "280 Studentparlamentet<br/>1.15 km to center"
      }
     },
     "306b1db0040d4185aabf0be756818cba": {
      "model_module": "@jupyter-widgets/controls",
      "model_module_version": "1.5.0",
      "model_name": "HTMLModel",
      "state": {
       "layout": "IPY_MODEL_beeb985693ec425892b4382f3ec97969",
       "style": "IPY_MODEL_e5567bc75f49463185d805ff14132354",
       "value": "198 Hallings gate<br/>1.19 km to center"
      }
     },
     "30de7b2a97274ed58f19cbeb8b87e6e3": {
      "model_module": "@jupyter-widgets/controls",
      "model_module_version": "1.5.0",
      "model_name": "DescriptionStyleModel",
      "state": {
       "description_width": ""
      }
     },
     "317ac57f703545978dc4bbe2dd2c9c30": {
      "model_module": "jupyter-leaflet",
      "model_module_version": "^0.13.2",
      "model_name": "LeafletAttributionControlModel",
      "state": {
       "_model_module_version": "^0.13.2",
       "_view_module_version": "^0.13.2",
       "options": [
        "position",
        "prefix"
       ],
       "position": "bottomright",
       "prefix": "ipyleaflet"
      }
     },
     "31e6ac8a3d594495a95cdc2d8865ef13": {
      "model_module": "@jupyter-widgets/controls",
      "model_module_version": "1.5.0",
      "model_name": "HTMLModel",
      "state": {
       "layout": "IPY_MODEL_1265bd596f4b4af2ae4db3c3428e7837",
       "style": "IPY_MODEL_9fe736adffbd482e9f298c7332c7569a",
       "value": "158 Bentsebrugata<br/>3.04 km to center"
      }
     },
     "31e957753e9f48299d8b458454fbbac8": {
      "model_module": "jupyter-leaflet",
      "model_module_version": "^0.13.2",
      "model_name": "LeafletMarkerModel",
      "state": {
       "_model_module_version": "^0.13.2",
       "_view_module_version": "^0.13.2",
       "location": [
        59.910137,
        10.738477
       ],
       "options": [
        "alt",
        "draggable",
        "keyboard",
        "rise_offset",
        "rise_on_hover",
        "rotation_angle",
        "rotation_origin",
        "title",
        "z_index_offset"
       ],
       "popup": "IPY_MODEL_f61b088e50ea400e9f75f051b4d2f8cb",
       "title": "220 Kontraskjæret"
      }
     },
     "33201480014f48d0a21d9d213c3d5031": {
      "model_module": "@jupyter-widgets/controls",
      "model_module_version": "1.5.0",
      "model_name": "DescriptionStyleModel",
      "state": {
       "description_width": ""
      }
     },
     "334c853b15914d12be080b12e8ddbcc5": {
      "model_module": "jupyter-leaflet",
      "model_module_version": "^0.13.2",
      "model_name": "LeafletMarkerModel",
      "state": {
       "_model_module_version": "^0.13.2",
       "_view_module_version": "^0.13.2",
       "location": [
        59.903178,
        10.767346
       ],
       "options": [
        "alt",
        "draggable",
        "keyboard",
        "rise_offset",
        "rise_on_hover",
        "rotation_angle",
        "rotation_origin",
        "title",
        "z_index_offset"
       ],
       "popup": "IPY_MODEL_40f793a9588b45f0a0e345af059ff2fe",
       "title": "194 Oslo Hospital"
      }
     },
     "33d95bcec3b94bcd8f84407960106141": {
      "model_module": "jupyter-leaflet",
      "model_module_version": "^0.13.2",
      "model_name": "LeafletMarkerModel",
      "state": {
       "_model_module_version": "^0.13.2",
       "_view_module_version": "^0.13.2",
       "location": [
        59.924852,
        10.739946
       ],
       "options": [
        "alt",
        "draggable",
        "keyboard",
        "rise_offset",
        "rise_on_hover",
        "rotation_angle",
        "rotation_origin",
        "title",
        "z_index_offset"
       ],
       "popup": "IPY_MODEL_1e9b561dcc8642aea5b9b3649a2cb847",
       "title": "227 St. Hanshaugen park sør"
      }
     },
     "3479df69d2a74c4aa412ebf351ec43e0": {
      "model_module": "jupyter-leaflet",
      "model_module_version": "^0.13.2",
      "model_name": "LeafletMarkerModel",
      "state": {
       "_model_module_version": "^0.13.2",
       "_view_module_version": "^0.13.2",
       "location": [
        59.914036,
        10.732872
       ],
       "options": [
        "alt",
        "draggable",
        "keyboard",
        "rise_offset",
        "rise_on_hover",
        "rotation_angle",
        "rotation_origin",
        "title",
        "z_index_offset"
       ],
       "popup": "IPY_MODEL_09aa6430c4b74d0ca7c01c5cd404216a",
       "title": "195 Saga Kino"
      }
     },
     "349fc577f6a74a45822cafe95994394a": {
      "model_module": "@jupyter-widgets/controls",
      "model_module_version": "1.5.0",
      "model_name": "HTMLModel",
      "state": {
       "layout": "IPY_MODEL_1a62e5f204894d6f8773ba62064d0b9e",
       "style": "IPY_MODEL_f845fe5f75214799b54a3559a7bb4f64",
       "value": "242 Sommerfrydhagen<br/>1.68 km to center"
      }
     },
     "34aae5f02f4c408cac4a6896fa86d37c": {
      "model_module": "@jupyter-widgets/controls",
      "model_module_version": "1.5.0",
      "model_name": "DescriptionStyleModel",
      "state": {
       "description_width": ""
      }
     },
     "34e384e6ba9d493dac34ff52c490d59e": {
      "model_module": "@jupyter-widgets/controls",
      "model_module_version": "1.5.0",
      "model_name": "DescriptionStyleModel",
      "state": {
       "description_width": ""
      }
     },
     "34eb461227af43dcbd6d6f801143fc9f": {
      "model_module": "jupyter-leaflet",
      "model_module_version": "^0.13.2",
      "model_name": "LeafletMapStyleModel",
      "state": {
       "_model_module_version": "^0.13.2"
      }
     },
     "35293065ee7b4994834edf5f11482dc2": {
      "model_module": "@jupyter-widgets/base",
      "model_module_version": "1.2.0",
      "model_name": "LayoutModel",
      "state": {}
     },
     "359f2150e88e4a8a96152998c38b0491": {
      "model_module": "@jupyter-widgets/controls",
      "model_module_version": "1.5.0",
      "model_name": "HTMLModel",
      "state": {
       "layout": "IPY_MODEL_5bf587102d81404786939944bdf63899",
       "style": "IPY_MODEL_6c5f0c7d8a1f4b918fe1ffab81252bce",
       "value": "159 Hans Nielsen Hauges plass<br/>3.3426397299194335km to center"
      }
     },
     "36cd7a8908f24f5bbd617d1150e210d5": {
      "model_module": "@jupyter-widgets/controls",
      "model_module_version": "1.5.0",
      "model_name": "HTMLModel",
      "state": {
       "layout": "IPY_MODEL_1aa403ba12c249e59a6ca0d63c3c4a31",
       "style": "IPY_MODEL_6956712ac86b4160a973a78111d4460f",
       "value": "204 Paléhaven<br/>0.35 km to center"
      }
     },
     "392f63b5498646a8a8932b693faeadf6": {
      "model_module": "@jupyter-widgets/controls",
      "model_module_version": "1.5.0",
      "model_name": "HTMLModel",
      "state": {
       "layout": "IPY_MODEL_f1c5f465770c4976ade6dafce31cf40a",
       "style": "IPY_MODEL_7a989a7e65604300985fd1a36083fc78",
       "value": "309 Bak Niels Treschows hus nord<br/>3.58 km to center"
      }
     },
     "396d1975e54b4785ad8e4fe6272d1f20": {
      "model_module": "@jupyter-widgets/controls",
      "model_module_version": "1.5.0",
      "model_name": "DescriptionStyleModel",
      "state": {
       "description_width": ""
      }
     },
     "3992c2d06a264c39a7c6812bf565d6dc": {
      "model_module": "@jupyter-widgets/controls",
      "model_module_version": "1.5.0",
      "model_name": "HTMLModel",
      "state": {
       "layout": "IPY_MODEL_097d9e06c48c4e89b2ede7f863421936",
       "style": "IPY_MODEL_73d3edd908c446e083ff8bb7ddcc3ec1",
       "value": "175 Grønlands torg<br/>0.90 km to center"
      }
     },
     "39a75c832bd14a28b97b0c79d35786db": {
      "model_module": "jupyter-leaflet",
      "model_module_version": "^0.13.2",
      "model_name": "LeafletMarkerModel",
      "state": {
       "_model_module_version": "^0.13.2",
       "_view_module_version": "^0.13.2",
       "location": [
        59.91499,
        10.773942
       ],
       "options": [
        "alt",
        "draggable",
        "keyboard",
        "rise_offset",
        "rise_on_hover",
        "rotation_angle",
        "rotation_origin",
        "title",
        "z_index_offset"
       ],
       "popup": "IPY_MODEL_6b157779f5c24ac0ad5296d873181f6f",
       "title": "200 Tøyen skole"
      }
     },
     "3a73a51f7f8642829b9120ac53c7b9c8": {
      "model_module": "@jupyter-widgets/controls",
      "model_module_version": "1.5.0",
      "model_name": "DescriptionStyleModel",
      "state": {
       "description_width": ""
      }
     },
     "3a75e0891d5649378529e1fdab5074f9": {
      "model_module": "jupyter-leaflet",
      "model_module_version": "^0.13.2",
      "model_name": "LeafletMapModel",
      "state": {
       "_model_module_version": "^0.13.2",
       "_view_module_version": "^0.13.2",
       "bottom": 2440312,
       "center": [
        59.912697157616044,
        10.746173858642578
       ],
       "controls": [
        "IPY_MODEL_2fedae656fc34ad89fda11913a126bcf",
        "IPY_MODEL_7d4418680f7c4fa8a2ed284270b16119"
       ],
       "default_style": "IPY_MODEL_1e91e88eba5f40e2b4cf42e60632c4fe",
       "dragging_style": "IPY_MODEL_d3d923a5170b48a1997dddeec20f2e1c",
       "east": 10.782737731933596,
       "fullscreen": false,
       "interpolation": "bilinear",
       "layers": [
        "IPY_MODEL_517adfac9c544ca69d42439521c20236",
        "IPY_MODEL_15753ac8d42540eb8f8b44331ff0a002",
        "IPY_MODEL_8efc88c970dc4190a1840f69123a73bd",
        "IPY_MODEL_c8257d612a45482db5723739f80ed7d8",
        "IPY_MODEL_1fd28f9f95414d7792cf6e6e13c58250",
        "IPY_MODEL_f0f9fa8853d54b7d81bc2a2423f9e0f6",
        "IPY_MODEL_63aafaee6f494c7198e78bcb74774849",
        "IPY_MODEL_00da317fa59544cf9618f4fb1bd3ddd6",
        "IPY_MODEL_5150cbfff7b74cf88fe8ada276fc1d90",
        "IPY_MODEL_230a4ffbf9b84b0ca64fb284269d8e5a",
        "IPY_MODEL_c1fd52eee8ac4af9b7399758ddd545d7",
        "IPY_MODEL_a8cbf054dcf24d04954ba0690b6731fa",
        "IPY_MODEL_9a30e90079a64883b2e8de418303cdcf",
        "IPY_MODEL_9813f3503352453cbc309d38923035e1",
        "IPY_MODEL_b135cce0a9c44af9bd302d36b214047e",
        "IPY_MODEL_5f3cd0eb0ab14cefbcd04485e88121e2",
        "IPY_MODEL_0536f37996b14078acde6804034bf343",
        "IPY_MODEL_5aa2d347a1954c9583c5e307cd4dfe41",
        "IPY_MODEL_5a2c89b868894e409dd59788a0eff0a2",
        "IPY_MODEL_9ce03ab7e68341f2a4df761f03735909",
        "IPY_MODEL_432cb3e7ea8e42f795add878ce7fbca7",
        "IPY_MODEL_707528f8af7943b8b41d3fdef4247c02",
        "IPY_MODEL_156265fa026241fe99d092e38d1f4680",
        "IPY_MODEL_9124459be4614310803c278f793d8610",
        "IPY_MODEL_ace8073bb6304249aace63d6ebeceee8",
        "IPY_MODEL_ddd201ab7aa4457ca6fbee25b7e2731e",
        "IPY_MODEL_af140e884bdf41cea00c1de26a467506",
        "IPY_MODEL_c6d18bb5b2874f77bb2ca96e8d65220e",
        "IPY_MODEL_096bb6eae8134519be6742a56d585bc9",
        "IPY_MODEL_d58a667d5ef448ab9551168a7ab5ae66",
        "IPY_MODEL_e34a11e3ffb447bebb210178f15815fa",
        "IPY_MODEL_334c853b15914d12be080b12e8ddbcc5",
        "IPY_MODEL_3479df69d2a74c4aa412ebf351ec43e0",
        "IPY_MODEL_a1176712f97445feae5fff7626b0c60f",
        "IPY_MODEL_b4e0910411ba4d1fae20bd5d54e68868",
        "IPY_MODEL_4253b802ffe1495f8f78ee39e18fc4b3",
        "IPY_MODEL_d9a0f99041b74f54b824dd3e51a8be4d",
        "IPY_MODEL_39a75c832bd14a28b97b0c79d35786db",
        "IPY_MODEL_f4466c55918345c18aee3c440ae10ef6",
        "IPY_MODEL_ac74f7e38b754363a0fcdc282e67e5a4",
        "IPY_MODEL_d20b4de6a6e94b04bfc6f0c6d5dae5bb",
        "IPY_MODEL_b5198e57a53b443486eb5b9572fd6ac9",
        "IPY_MODEL_5ca3add3e7e942d2a06c46db7cd4b265",
        "IPY_MODEL_418ceec2e948432c842b7e926a0bb5b1",
        "IPY_MODEL_5aed118a9272420aa64fed4ace8786c9",
        "IPY_MODEL_f8c2eda1768d4e309035fb161da252c8",
        "IPY_MODEL_e7971193c23343aaa98335de3e1b5ec6",
        "IPY_MODEL_eaca33fba03a4db5a2ac8e4798ce5935",
        "IPY_MODEL_c250ae9a030b40c3beb91f243de96550",
        "IPY_MODEL_79d185c1dfa64f13b84266dbbde37cee",
        "IPY_MODEL_5b038a9bdfff4098bf78bb1316008aea",
        "IPY_MODEL_9d91eca9475a4ba3aa239737ef3fb3e5",
        "IPY_MODEL_db0cd7b9c34845d09f69badd3f153e94",
        "IPY_MODEL_d01c303b29804cd88aaa9d7d26b9af41",
        "IPY_MODEL_3a76104df9634335b1b5a441a29250c6",
        "IPY_MODEL_31e957753e9f48299d8b458454fbbac8",
        "IPY_MODEL_0fa8c889ae0c4484be90feb4407c1aca",
        "IPY_MODEL_a42df06af6e54479845f31353b26d7e5",
        "IPY_MODEL_d1f094a63d9e42748ad62029e240c67f",
        "IPY_MODEL_5a63f6b88be849dc86a5d7f7d04585e6",
        "IPY_MODEL_33d95bcec3b94bcd8f84407960106141",
        "IPY_MODEL_5c20daf65f05482eab687f3d82660f4b",
        "IPY_MODEL_6a2291f865b945ad93e6975391d3dbe6",
        "IPY_MODEL_b679737bd31c4da397f18ed118fba7e5",
        "IPY_MODEL_54a00c7205234fd38f1b0cab7c35b318",
        "IPY_MODEL_4d2d9b19b4a24a8dade2eb99552d531d",
        "IPY_MODEL_940cc985fc984cb98553846c3d015ab3",
        "IPY_MODEL_921900ff4d4f4e1f969d76dd55547357",
        "IPY_MODEL_ebb4ab061ed54f7c8d4f4897b1e34fd9",
        "IPY_MODEL_ba8f3800332b4e83999eaff2ad81cd97",
        "IPY_MODEL_a54b650abde346e6bb4de97a9d4c858e",
        "IPY_MODEL_4fd567f26e594bdf93a42d283c5720e3",
        "IPY_MODEL_6cb609950c9d49e3900cad3ccff52ac2",
        "IPY_MODEL_99c7a99e3b5c46f79ff69a42d421086b",
        "IPY_MODEL_044fe9a508b047b9b3697c812e6d7f0c",
        "IPY_MODEL_da0598998b214a55b8b4a857e8452cf3",
        "IPY_MODEL_57b4505a80044e10904c9cc7492579d3",
        "IPY_MODEL_66d1e3fe7eca4cc0a866bbd7e5aa1d50",
        "IPY_MODEL_a72030f38c2d4bcb86cba734fdf0670d",
        "IPY_MODEL_41bb7216965c46f6b3684ba780a51b05",
        "IPY_MODEL_d1156a8c697d436697f6a6f433814ef1",
        "IPY_MODEL_965e20114d6e421da3303cb2c2fcdc8b",
        "IPY_MODEL_3cc25a48fe8c42149b376524aa3f03bc",
        "IPY_MODEL_8083a102b9074636870ebba30af590b1",
        "IPY_MODEL_1158c54c690c4ce8ace73315cf0b7624",
        "IPY_MODEL_7b8185127b534984bffdb7b11c274a8d",
        "IPY_MODEL_25825e34ecf8436284d954cc0603b94a",
        "IPY_MODEL_41563b7baba9406ab178b3a76daa6158",
        "IPY_MODEL_638db6acac3749aea0ece671e38f4429",
        "IPY_MODEL_cfb7fda442354fd58bfee745fe85409e",
        "IPY_MODEL_8ec3132d83e64c51856b2deb5bdde0d9",
        "IPY_MODEL_4fe4028124b546378be8a38817334c89",
        "IPY_MODEL_6cb11a91503a4b67bd1bc4e5066d2a81",
        "IPY_MODEL_e4c3d7196f884edead860bc4f251d85f",
        "IPY_MODEL_40f752b592944b1988af433f84fec9bf",
        "IPY_MODEL_621d8ca5859141f98b9caf2996342c9f",
        "IPY_MODEL_2081f11bed83423cbb573698df81c71c",
        "IPY_MODEL_ac7de151680c449cbd0a1338a4c2ab16",
        "IPY_MODEL_4df5a04e19ec47219fd9e5128b332994",
        "IPY_MODEL_902ad8dfd87b487fb892801bda7b6af4",
        "IPY_MODEL_a5b9d398d9f34c0ba2ee2982aa2f7d4e",
        "IPY_MODEL_a26ff321d2294a5388f61eb48ddf2e1f",
        "IPY_MODEL_2a9eb7cc725543a4b6a35d5c35b26589",
        "IPY_MODEL_2e606ce233e34184bbe38a5a201e2cd3",
        "IPY_MODEL_3c35583a7713473198a7f43d8a441c6a",
        "IPY_MODEL_bb94c61c004646bc84ec4fdef5dc6f43",
        "IPY_MODEL_df6b5b28ef834c3699c05d5ce1df6c2c",
        "IPY_MODEL_5504a2e98703490bb6cc206d47c4e25c",
        "IPY_MODEL_fec40ed6d92a4552abd197103f3908d4",
        "IPY_MODEL_0800e012fb5448c6ac596aefb8b5b13d",
        "IPY_MODEL_004474dd672c422f9ccbddd2e27abd98",
        "IPY_MODEL_744c1840d4e34f11881acfe27c0583fa",
        "IPY_MODEL_e2d8763afbc9410399b04f992d947468",
        "IPY_MODEL_12b8961d8df84e208d92f471891af7eb",
        "IPY_MODEL_edf2c0ec312b4d9db27e2fd05e2d13aa",
        "IPY_MODEL_cafbe2bcc3ec4ce399514c4890e10582",
        "IPY_MODEL_c49b250a227149d39ba3529cd9db5c1d",
        "IPY_MODEL_7bf6b04f070e4c5ea435a82d2b492ce9",
        "IPY_MODEL_cdc5022f6d1d44b5921e13b2868d2570",
        "IPY_MODEL_b5588010d9724a5796edf3540b4b23e0",
        "IPY_MODEL_e9a202a21e5040ce8c2a9c53720cbd4e",
        "IPY_MODEL_7e929c5a9cdb4d1d8295c4c67a743ce4",
        "IPY_MODEL_52c16e4d7b0243078803432b73b909df",
        "IPY_MODEL_f7d2c70c44bb4750b163f86b799742af",
        "IPY_MODEL_2783b9509db245aebc94cff1e8373fb8",
        "IPY_MODEL_f0f491b114ba499ebd12a4421a74df6c",
        "IPY_MODEL_a610b45f642e476cb99a99b557cfdba7",
        "IPY_MODEL_f688bef966604e5a93435cf9006379f0",
        "IPY_MODEL_7022ca0355264a0a8a2f3b0b399de58b",
        "IPY_MODEL_c694bad22c6742b286bdb3847d58e449",
        "IPY_MODEL_d9fb440d9c7145ee928fba2cbb63c459"
       ],
       "layout": "IPY_MODEL_2c51e8b2b5dc49ba9d0aa533bc9da15e",
       "left": 4443856,
       "modisdate": "yesterday",
       "north": 59.91699973425937,
       "options": [
        "bounce_at_zoom_limits",
        "box_zoom",
        "center",
        "close_popup_on_click",
        "double_click_zoom",
        "dragging",
        "fullscreen",
        "inertia",
        "inertia_deceleration",
        "inertia_max_speed",
        "interpolation",
        "keyboard",
        "keyboard_pan_offset",
        "keyboard_zoom_offset",
        "max_zoom",
        "min_zoom",
        "scroll_wheel_zoom",
        "tap",
        "tap_tolerance",
        "touch_zoom",
        "world_copy_jump",
        "zoom",
        "zoom_animation_threshold",
        "zoom_delta",
        "zoom_snap",
        "zoom_start"
       ],
       "right": 4445560,
       "south": 59.90839402324194,
       "style": "IPY_MODEL_1e91e88eba5f40e2b4cf42e60632c4fe",
       "top": 2439912,
       "west": 10.709609985351562,
       "window_url": "http://localhost:8888/lab",
       "zoom": 15
      }
     },
     "3a76104df9634335b1b5a441a29250c6": {
      "model_module": "jupyter-leaflet",
      "model_module_version": "^0.13.2",
      "model_name": "LeafletMarkerModel",
      "state": {
       "_model_module_version": "^0.13.2",
       "_view_module_version": "^0.13.2",
       "location": [
        59.917212,
        10.708373
       ],
       "options": [
        "alt",
        "draggable",
        "keyboard",
        "rise_offset",
        "rise_on_hover",
        "rotation_angle",
        "rotation_origin",
        "title",
        "z_index_offset"
       ],
       "popup": "IPY_MODEL_f7443b87e024461fb953eb05ce6ebe24",
       "title": "219 Gimle Kino"
      }
     },
     "3a8fe65a038349edb80baec64436ca1a": {
      "model_module": "@jupyter-widgets/controls",
      "model_module_version": "1.5.0",
      "model_name": "DescriptionStyleModel",
      "state": {
       "description_width": ""
      }
     },
     "3a94ee550295499f9b9d67d42f046042": {
      "model_module": "@jupyter-widgets/controls",
      "model_module_version": "1.5.0",
      "model_name": "HTMLModel",
      "state": {
       "layout": "IPY_MODEL_11bb44bac2ce46dd989f9127b90e3ac0",
       "style": "IPY_MODEL_e8a9009b06c14641b38e5c3bbea95535",
       "value": "254 Frogner Stadion<br/>2.57 km to center"
      }
     },
     "3ab1f83727424aab89667d5f3420d480": {
      "model_module": "@jupyter-widgets/controls",
      "model_module_version": "1.5.0",
      "model_name": "DescriptionStyleModel",
      "state": {
       "description_width": ""
      }
     },
     "3ab7ea98875349e9993368b6786c34f0": {
      "model_module": "@jupyter-widgets/base",
      "model_module_version": "1.2.0",
      "model_name": "LayoutModel",
      "state": {}
     },
     "3bb5ca89712047bcb637fe4ee3120a78": {
      "model_module": "@jupyter-widgets/controls",
      "model_module_version": "1.5.0",
      "model_name": "DescriptionStyleModel",
      "state": {
       "description_width": ""
      }
     },
     "3c341968314a4f9fb48d7a9ef07f9e5f": {
      "model_module": "@jupyter-widgets/controls",
      "model_module_version": "1.5.0",
      "model_name": "HTMLModel",
      "state": {
       "layout": "IPY_MODEL_ca36dc23380646d797c91c6263b700b2",
       "style": "IPY_MODEL_7f89c580bef948a99cd192607e51dfdf",
       "value": "185 HiOA<br/>0.99 km to center"
      }
     },
     "3c35583a7713473198a7f43d8a441c6a": {
      "model_module": "jupyter-leaflet",
      "model_module_version": "^0.13.2",
      "model_name": "LeafletMarkerModel",
      "state": {
       "_model_module_version": "^0.13.2",
       "_view_module_version": "^0.13.2",
       "location": [
        59.912071,
        10.766201
       ],
       "options": [
        "alt",
        "draggable",
        "keyboard",
        "rise_offset",
        "rise_on_hover",
        "rotation_angle",
        "rotation_origin",
        "title",
        "z_index_offset"
       ],
       "popup": "IPY_MODEL_93cdef73f2bb4949b83bd5f87cde6a91",
       "title": "277 Helga Helgesens plass"
      }
     },
     "3c4a31a1aeaf4041ba3b6714fa5fb4f7": {
      "model_module": "@jupyter-widgets/controls",
      "model_module_version": "1.5.0",
      "model_name": "DescriptionStyleModel",
      "state": {
       "description_width": ""
      }
     },
     "3c98ed1136c14460a630b1af23e78cd1": {
      "model_module": "@jupyter-widgets/controls",
      "model_module_version": "1.5.0",
      "model_name": "HTMLModel",
      "state": {
       "layout": "IPY_MODEL_6f31371ecbfc44909a25f0207f243b35",
       "style": "IPY_MODEL_dfeb7f5e42fa47f48dc3dc6a96443370",
       "value": "157 Nylandsveien<br/>0.96 km to center"
      }
     },
     "3ca5410e4d664d18bf3d3150feb4c72b": {
      "model_module": "@jupyter-widgets/controls",
      "model_module_version": "1.5.0",
      "model_name": "DescriptionStyleModel",
      "state": {
       "description_width": ""
      }
     },
     "3cc25a48fe8c42149b376524aa3f03bc": {
      "model_module": "jupyter-leaflet",
      "model_module_version": "^0.13.2",
      "model_name": "LeafletMarkerModel",
      "state": {
       "_model_module_version": "^0.13.2",
       "_view_module_version": "^0.13.2",
       "location": [
        59.931524,
        10.762185
       ],
       "options": [
        "alt",
        "draggable",
        "keyboard",
        "rise_offset",
        "rise_on_hover",
        "rotation_angle",
        "rotation_origin",
        "title",
        "z_index_offset"
       ],
       "popup": "IPY_MODEL_18d24a7149be4141b5a8333e19695a7c",
       "title": "251 Hallénparken"
      }
     },
     "3d2f91ec1f1e4b848aac6a9704ab988c": {
      "model_module": "@jupyter-widgets/controls",
      "model_module_version": "1.5.0",
      "model_name": "DescriptionStyleModel",
      "state": {
       "description_width": ""
      }
     },
     "3dd1035c426a4bbeb75251c73dd4bd44": {
      "model_module": "@jupyter-widgets/controls",
      "model_module_version": "1.5.0",
      "model_name": "DescriptionStyleModel",
      "state": {
       "description_width": ""
      }
     },
     "3e2bd15783fc4c019798432c5a363306": {
      "model_module": "@jupyter-widgets/controls",
      "model_module_version": "1.5.0",
      "model_name": "DescriptionStyleModel",
      "state": {
       "description_width": ""
      }
     },
     "3e4af607248340da9bd3d060f02b2454": {
      "model_module": "jupyter-leaflet",
      "model_module_version": "^0.13.2",
      "model_name": "LeafletMarkerModel",
      "state": {
       "_model_module_version": "^0.13.2",
       "_view_module_version": "^0.13.2",
       "location": [
        59.920565,
        10.734274
       ],
       "options": [
        "alt",
        "draggable",
        "keyboard",
        "rise_offset",
        "rise_on_hover",
        "rotation_angle",
        "rotation_origin",
        "title",
        "z_index_offset"
       ],
       "popup": "IPY_MODEL_0ad3c0a2be0c4c6bbade119d2c22d19b",
       "title": "167 Pilestredet Park Studenthus"
      }
     },
     "3e8264ebf74548c5b5fc212b70e7e40b": {
      "model_module": "@jupyter-widgets/controls",
      "model_module_version": "1.5.0",
      "model_name": "DescriptionStyleModel",
      "state": {
       "description_width": ""
      }
     },
     "3ecab1bc06d143d0900019938c345167": {
      "model_module": "@jupyter-widgets/controls",
      "model_module_version": "1.5.0",
      "model_name": "HTMLModel",
      "state": {
       "layout": "IPY_MODEL_9116de77de6740cc9bdf0b179b2c538a",
       "style": "IPY_MODEL_60aebcd36d384fa6a875d8c5c7b9c04e",
       "value": "288 Skippergata<br/>0.23 km to center"
      }
     },
     "3f9cd5a1a7fb4316bf5ee903bcf916d5": {
      "model_module": "@jupyter-widgets/controls",
      "model_module_version": "1.5.0",
      "model_name": "HTMLModel",
      "state": {
       "layout": "IPY_MODEL_ef3da2a2679342c19d9c0c7144e31c72",
       "style": "IPY_MODEL_1270d3b0d05a44f1b55597ddf069bfd9",
       "value": "307 Bak Niels Treschows hus sør<br/>3.55 km to center"
      }
     },
     "40e1a5e702964170b036271970e40c4c": {
      "model_module": "@jupyter-widgets/controls",
      "model_module_version": "1.5.0",
      "model_name": "HTMLModel",
      "state": {
       "layout": "IPY_MODEL_35293065ee7b4994834edf5f11482dc2",
       "style": "IPY_MODEL_b1f26c0bf1f84d73b07b2be09e0dce55",
       "value": "299 Valkyrieplassen<br/>2.32 km to center"
      }
     },
     "40e430d29fca4a7798304f2ee53b49fd": {
      "model_module": "@jupyter-widgets/base",
      "model_module_version": "1.2.0",
      "model_name": "LayoutModel",
      "state": {}
     },
     "40f752b592944b1988af433f84fec9bf": {
      "model_module": "jupyter-leaflet",
      "model_module_version": "^0.13.2",
      "model_name": "LeafletMarkerModel",
      "state": {
       "_model_module_version": "^0.13.2",
       "_view_module_version": "^0.13.2",
       "location": [
        59.926946,
        10.77704
       ],
       "options": [
        "alt",
        "draggable",
        "keyboard",
        "rise_offset",
        "rise_on_hover",
        "rotation_angle",
        "rotation_origin",
        "title",
        "z_index_offset"
       ],
       "popup": "IPY_MODEL_84fad0b0836e4b38bc5fdfcf84c15a6d",
       "title": "265 Carl Berners plass nord"
      }
     },
     "40f793a9588b45f0a0e345af059ff2fe": {
      "model_module": "@jupyter-widgets/controls",
      "model_module_version": "1.5.0",
      "model_name": "HTMLModel",
      "state": {
       "layout": "IPY_MODEL_e4f40735ed3f4f228b3c658ffdf50342",
       "style": "IPY_MODEL_19cd1661be704bb78df7042890bb072e",
       "value": "194 Oslo Hospital<br/>1.59 km to center"
      }
     },
     "41563b7baba9406ab178b3a76daa6158": {
      "model_module": "jupyter-leaflet",
      "model_module_version": "^0.13.2",
      "model_name": "LeafletMarkerModel",
      "state": {
       "_model_module_version": "^0.13.2",
       "_view_module_version": "^0.13.2",
       "location": [
        59.898121,
        10.675141
       ],
       "options": [
        "alt",
        "draggable",
        "keyboard",
        "rise_offset",
        "rise_on_hover",
        "rotation_angle",
        "rotation_origin",
        "title",
        "z_index_offset"
       ],
       "popup": "IPY_MODEL_6dfd9eec90314eb09c0fd7e89e38f56a",
       "title": "256 Huk"
      }
     },
     "418ceec2e948432c842b7e926a0bb5b1": {
      "model_module": "jupyter-leaflet",
      "model_module_version": "^0.13.2",
      "model_name": "LeafletMarkerModel",
      "state": {
       "_model_module_version": "^0.13.2",
       "_view_module_version": "^0.13.2",
       "location": [
        59.923729,
        10.740477
       ],
       "options": [
        "alt",
        "draggable",
        "keyboard",
        "rise_offset",
        "rise_on_hover",
        "rotation_angle",
        "rotation_origin",
        "title",
        "z_index_offset"
       ],
       "popup": "IPY_MODEL_f5d2408fba2848c792be5156524dd1ea",
       "title": "206 St. Hanshaugen"
      }
     },
     "419480c7f6d645429764b68fda6fda1d": {
      "model_module": "@jupyter-widgets/controls",
      "model_module_version": "1.5.0",
      "model_name": "DescriptionStyleModel",
      "state": {
       "description_width": ""
      }
     },
     "41bb7216965c46f6b3684ba780a51b05": {
      "model_module": "jupyter-leaflet",
      "model_module_version": "^0.13.2",
      "model_name": "LeafletMarkerModel",
      "state": {
       "_model_module_version": "^0.13.2",
       "_view_module_version": "^0.13.2",
       "location": [
        59.910091,
        10.752138
       ],
       "options": [
        "alt",
        "draggable",
        "keyboard",
        "rise_offset",
        "rise_on_hover",
        "rotation_angle",
        "rotation_origin",
        "title",
        "z_index_offset"
       ],
       "popup": "IPY_MODEL_52b20da52f30498ea32bd539ee49d806",
       "title": "247 Sjøsiden øst"
      }
     },
     "4215405dc19f4d6c8c8298c8f712cc77": {
      "model_module": "@jupyter-widgets/base",
      "model_module_version": "1.2.0",
      "model_name": "LayoutModel",
      "state": {}
     },
     "422c71adc80a47a9b13bd8858d742f71": {
      "model_module": "@jupyter-widgets/controls",
      "model_module_version": "1.5.0",
      "model_name": "HTMLModel",
      "state": {
       "layout": "IPY_MODEL_b6c0120c8c444e288e4739e6359d2cf7",
       "style": "IPY_MODEL_34aae5f02f4c408cac4a6896fa86d37c",
       "value": "253 Aker Brygge<br/>0.92 km to center"
      }
     },
     "4253b802ffe1495f8f78ee39e18fc4b3": {
      "model_module": "jupyter-leaflet",
      "model_module_version": "^0.13.2",
      "model_name": "LeafletMarkerModel",
      "state": {
       "_model_module_version": "^0.13.2",
       "_view_module_version": "^0.13.2",
       "location": [
        59.922704,
        10.738584
       ],
       "options": [
        "alt",
        "draggable",
        "keyboard",
        "rise_offset",
        "rise_on_hover",
        "rotation_angle",
        "rotation_origin",
        "title",
        "z_index_offset"
       ],
       "popup": "IPY_MODEL_306b1db0040d4185aabf0be756818cba",
       "title": "198 Hallings gate"
      }
     },
     "425ff8aad6254467b0cb7143f2af4bc8": {
      "model_module": "@jupyter-widgets/base",
      "model_module_version": "1.2.0",
      "model_name": "LayoutModel",
      "state": {}
     },
     "428a863dd74e4cdcbb547a7010bfc9bd": {
      "model_module": "@jupyter-widgets/controls",
      "model_module_version": "1.5.0",
      "model_name": "DescriptionStyleModel",
      "state": {
       "description_width": ""
      }
     },
     "42d411203f214e2fb5891bf573065d31": {
      "model_module": "@jupyter-widgets/base",
      "model_module_version": "1.2.0",
      "model_name": "LayoutModel",
      "state": {}
     },
     "432cb3e7ea8e42f795add878ce7fbca7": {
      "model_module": "jupyter-leaflet",
      "model_module_version": "^0.13.2",
      "model_name": "LeafletMarkerModel",
      "state": {
       "_model_module_version": "^0.13.2",
       "_view_module_version": "^0.13.2",
       "location": [
        59.913015,
        10.746714
       ],
       "options": [
        "alt",
        "draggable",
        "keyboard",
        "rise_offset",
        "rise_on_hover",
        "rotation_angle",
        "rotation_origin",
        "title",
        "z_index_offset"
       ],
       "popup": "IPY_MODEL_b458138859c54b698d0a4a5f61c7113c",
       "title": "181 Kirkeristen"
      }
     },
     "437165ec729440748ffae8b7508b3f66": {
      "model_module": "jupyter-leaflet",
      "model_module_version": "^0.13.2",
      "model_name": "LeafletMarkerModel",
      "state": {
       "_model_module_version": "^0.13.2",
       "_view_module_version": "^0.13.2",
       "location": [
        59.934934,
        10.749475
       ],
       "options": [
        "alt",
        "draggable",
        "keyboard",
        "rise_offset",
        "rise_on_hover",
        "rotation_angle",
        "rotation_origin",
        "title",
        "z_index_offset"
       ],
       "popup": "IPY_MODEL_f3ed0a8be319476a8914e5b2fd8ae031",
       "title": "162 Arkitekt Rivertz Plass"
      }
     },
     "43f413ca2f914d83b8f972cb6d56a198": {
      "model_module": "@jupyter-widgets/base",
      "model_module_version": "1.2.0",
      "model_name": "LayoutModel",
      "state": {}
     },
     "448333cbfe4644aaab2126ed2a4f8f95": {
      "model_module": "@jupyter-widgets/controls",
      "model_module_version": "1.5.0",
      "model_name": "DescriptionStyleModel",
      "state": {
       "description_width": ""
      }
     },
     "44c94e51aa444e6292f82ebc4ad9272e": {
      "model_module": "@jupyter-widgets/controls",
      "model_module_version": "1.5.0",
      "model_name": "DescriptionStyleModel",
      "state": {
       "description_width": ""
      }
     },
     "45a6ff280ad242eaa01d3e61eac6e05d": {
      "model_module": "@jupyter-widgets/base",
      "model_module_version": "1.2.0",
      "model_name": "LayoutModel",
      "state": {}
     },
     "45be36d6a6be4654bdfb937397ea6938": {
      "model_module": "jupyter-leaflet",
      "model_module_version": "^0.13.2",
      "model_name": "LeafletMarkerModel",
      "state": {
       "_model_module_version": "^0.13.2",
       "_view_module_version": "^0.13.2",
       "location": [
        59.939238,
        10.774279
       ],
       "options": [
        "alt",
        "draggable",
        "keyboard",
        "rise_offset",
        "rise_on_hover",
        "rotation_angle",
        "rotation_origin",
        "title",
        "z_index_offset"
       ],
       "popup": "IPY_MODEL_359f2150e88e4a8a96152998c38b0491",
       "title": "159 Hans Nielsen Hauges plass"
      }
     },
     "46cc7b516aa944b2aa64ce1f5a8636de": {
      "model_module": "@jupyter-widgets/base",
      "model_module_version": "1.2.0",
      "model_name": "LayoutModel",
      "state": {}
     },
     "473852e9a7d948a0a332293922ae968a": {
      "model_module": "@jupyter-widgets/controls",
      "model_module_version": "1.5.0",
      "model_name": "HTMLModel",
      "state": {
       "layout": "IPY_MODEL_0d6ca3a1a4604a469b1abb49d4e04c47",
       "style": "IPY_MODEL_84455ba142b04762a88724ad304c250d",
       "value": "163 Vaterlandsparken<br/>0.63 km to center"
      }
     },
     "4762ebd713934cf5904bd4b5d3b4eb1c": {
      "model_module": "@jupyter-widgets/controls",
      "model_module_version": "1.5.0",
      "model_name": "HTMLModel",
      "state": {
       "layout": "IPY_MODEL_a613d0f8c12344ca8ab9ee6651332606",
       "style": "IPY_MODEL_d5107222ae3b4fa7bd0823b27b575eca",
       "value": "176 Stensgata<br/>2.01 km to center"
      }
     },
     "479d2e6dfc804eda9c9f75c580349d36": {
      "model_module": "@jupyter-widgets/controls",
      "model_module_version": "1.5.0",
      "model_name": "DescriptionStyleModel",
      "state": {
       "description_width": ""
      }
     },
     "4820b6b1941d46cead1d44b6c85b0b68": {
      "model_module": "@jupyter-widgets/base",
      "model_module_version": "1.2.0",
      "model_name": "LayoutModel",
      "state": {}
     },
     "48ab57c3d3d54a099ca50317b7e1e0d2": {
      "model_module": "@jupyter-widgets/base",
      "model_module_version": "1.2.0",
      "model_name": "LayoutModel",
      "state": {}
     },
     "48b1296256124a15bfa52e86ab94b49a": {
      "model_module": "@jupyter-widgets/controls",
      "model_module_version": "1.5.0",
      "model_name": "HTMLModel",
      "state": {
       "layout": "IPY_MODEL_e87d014b7bf849a28eb8d34194d0586e",
       "style": "IPY_MODEL_3e2bd15783fc4c019798432c5a363306",
       "value": "172 Dælenenggata<br/>2.15 km to center"
      }
     },
     "4911cbe47352488b814e27e0820638df": {
      "model_module": "@jupyter-widgets/controls",
      "model_module_version": "1.5.0",
      "model_name": "DescriptionStyleModel",
      "state": {
       "description_width": ""
      }
     },
     "496114cbbb334f23ad303e3f74ea859a": {
      "model_module": "@jupyter-widgets/controls",
      "model_module_version": "1.5.0",
      "model_name": "DescriptionStyleModel",
      "state": {
       "description_width": ""
      }
     },
     "4967aaee85e440a092742ffba2eaaab9": {
      "model_module": "jupyter-leaflet",
      "model_module_version": "^0.13.2",
      "model_name": "LeafletMarkerModel",
      "state": {
       "_model_module_version": "^0.13.2",
       "_view_module_version": "^0.13.2",
       "location": [
        59.926872,
        10.738456
       ],
       "options": [
        "alt",
        "draggable",
        "keyboard",
        "rise_offset",
        "rise_on_hover",
        "rotation_angle",
        "rotation_origin",
        "title",
        "z_index_offset"
       ],
       "popup": "IPY_MODEL_0e6ac1828904444c913fc9373ea26087",
       "title": "161 St. Hanshaugen park vest"
      }
     },
     "49ae1c8cf25245c3aecc3f31b1dc0252": {
      "model_module": "@jupyter-widgets/controls",
      "model_module_version": "1.5.0",
      "model_name": "DescriptionStyleModel",
      "state": {
       "description_width": ""
      }
     },
     "49d43e758d154607a507bf8a4a4658b2": {
      "model_module": "@jupyter-widgets/controls",
      "model_module_version": "1.5.0",
      "model_name": "HTMLModel",
      "state": {
       "layout": "IPY_MODEL_f65f325cce4249c0ac656c1b35dd484a",
       "style": "IPY_MODEL_6d56cad208cf47a88f2aa5d71463ae7c",
       "value": "232 Fram-gården<br/>1.77 km to center"
      }
     },
     "4a6d9543abe347d6968ae26b013b50ae": {
      "model_module": "@jupyter-widgets/base",
      "model_module_version": "1.2.0",
      "model_name": "LayoutModel",
      "state": {}
     },
     "4a6db994428045af90a3262ca2f28c54": {
      "model_module": "@jupyter-widgets/controls",
      "model_module_version": "1.5.0",
      "model_name": "DescriptionStyleModel",
      "state": {
       "description_width": ""
      }
     },
     "4ab6610a48f64b729ace80dd1ad3d2ba": {
      "model_module": "@jupyter-widgets/controls",
      "model_module_version": "1.5.0",
      "model_name": "DescriptionStyleModel",
      "state": {
       "description_width": ""
      }
     },
     "4beffbc5fe3a4bdab84b07c8ee568db2": {
      "model_module": "@jupyter-widgets/base",
      "model_module_version": "1.2.0",
      "model_name": "LayoutModel",
      "state": {}
     },
     "4cd8180240ff47749c4a6dba00e58153": {
      "model_module": "jupyter-leaflet",
      "model_module_version": "^0.13.2",
      "model_name": "LeafletMapStyleModel",
      "state": {
       "_model_module_version": "^0.13.2",
       "cursor": "move"
      }
     },
     "4d2d9b19b4a24a8dade2eb99552d531d": {
      "model_module": "jupyter-leaflet",
      "model_module_version": "^0.13.2",
      "model_name": "LeafletMarkerModel",
      "state": {
       "_model_module_version": "^0.13.2",
       "_view_module_version": "^0.13.2",
       "location": [
        59.915389,
        10.714718
       ],
       "options": [
        "alt",
        "draggable",
        "keyboard",
        "rise_offset",
        "rise_on_hover",
        "rotation_angle",
        "rotation_origin",
        "title",
        "z_index_offset"
       ],
       "popup": "IPY_MODEL_49d43e758d154607a507bf8a4a4658b2",
       "title": "232 Fram-gården"
      }
     },
     "4df5a04e19ec47219fd9e5128b332994": {
      "model_module": "jupyter-leaflet",
      "model_module_version": "^0.13.2",
      "model_name": "LeafletMarkerModel",
      "state": {
       "_model_module_version": "^0.13.2",
       "_view_module_version": "^0.13.2",
       "location": [
        59.937928,
        10.73048
       ],
       "options": [
        "alt",
        "draggable",
        "keyboard",
        "rise_offset",
        "rise_on_hover",
        "rotation_angle",
        "rotation_origin",
        "title",
        "z_index_offset"
       ],
       "popup": "IPY_MODEL_06b4a4fdd5f14526acad6b3cce8b18b3",
       "title": "269 Ullevålsalléen"
      }
     },
     "4e02485e9e9f47fe91814222613bb21b": {
      "model_module": "@jupyter-widgets/base",
      "model_module_version": "1.2.0",
      "model_name": "LayoutModel",
      "state": {}
     },
     "4ed536ca93a34f8993dd20f875c08c01": {
      "model_module": "@jupyter-widgets/controls",
      "model_module_version": "1.5.0",
      "model_name": "DescriptionStyleModel",
      "state": {
       "description_width": ""
      }
     },
     "4f6096ba3ccc4fa897d857f1e6d4f2ad": {
      "model_module": "@jupyter-widgets/controls",
      "model_module_version": "1.5.0",
      "model_name": "HTMLModel",
      "state": {
       "layout": "IPY_MODEL_48ab57c3d3d54a099ca50317b7e1e0d2",
       "style": "IPY_MODEL_28c585ee77174564aff446d79a12b32e",
       "value": "170 Majorstuen T-bane<br/>2.65 km to center"
      }
     },
     "4f84eda517214438b6b59858ca9ceb03": {
      "model_module": "@jupyter-widgets/controls",
      "model_module_version": "1.5.0",
      "model_name": "HTMLModel",
      "state": {
       "layout": "IPY_MODEL_5e413da212634c79abd8b3feaff42f92",
       "style": "IPY_MODEL_597f9cc1b54246178a401061d90ceabd",
       "value": "201 Munkegata trikkestopp<br/>1.31 km to center"
      }
     },
     "4fd567f26e594bdf93a42d283c5720e3": {
      "model_module": "jupyter-leaflet",
      "model_module_version": "^0.13.2",
      "model_name": "LeafletMarkerModel",
      "state": {
       "_model_module_version": "^0.13.2",
       "_view_module_version": "^0.13.2",
       "location": [
        59.91564,
        10.740921
       ],
       "options": [
        "alt",
        "draggable",
        "keyboard",
        "rise_offset",
        "rise_on_hover",
        "rotation_angle",
        "rotation_origin",
        "title",
        "z_index_offset"
       ],
       "popup": "IPY_MODEL_801ef884189f4eeea83691ba48143e66",
       "title": "238 Tinghuset"
      }
     },
     "4fe4028124b546378be8a38817334c89": {
      "model_module": "jupyter-leaflet",
      "model_module_version": "^0.13.2",
      "model_name": "LeafletMarkerModel",
      "state": {
       "_model_module_version": "^0.13.2",
       "_view_module_version": "^0.13.2",
       "location": [
        59.9142,
        10.715627
       ],
       "options": [
        "alt",
        "draggable",
        "keyboard",
        "rise_offset",
        "rise_on_hover",
        "rotation_angle",
        "rotation_origin",
        "title",
        "z_index_offset"
       ],
       "popup": "IPY_MODEL_d434ea9c6ae645c4a2e8f6758270c6fd",
       "title": "261 Hydroparken"
      }
     },
     "502f6ab5c763421eabde842e42b0d821": {
      "model_module": "@jupyter-widgets/controls",
      "model_module_version": "1.5.0",
      "model_name": "DescriptionStyleModel",
      "state": {
       "description_width": ""
      }
     },
     "503dfadfc3664f159d5c3c8e64436403": {
      "model_module": "@jupyter-widgets/base",
      "model_module_version": "1.2.0",
      "model_name": "LayoutModel",
      "state": {}
     },
     "504e6255f1b345dfa258aa88fadd6158": {
      "model_module": "@jupyter-widgets/controls",
      "model_module_version": "1.5.0",
      "model_name": "HTMLModel",
      "state": {
       "layout": "IPY_MODEL_5adf193758654e66a8b24a2d9f41a1ed",
       "style": "IPY_MODEL_e90ac68e18fe4020adfa2f34dd86690e",
       "value": "161 St. Hanshaugen park vest<br/>1.6324239631036228km to center"
      }
     },
     "50e37c3d10c14588bc5e52156d2529fb": {
      "model_module": "@jupyter-widgets/controls",
      "model_module_version": "1.5.0",
      "model_name": "DescriptionStyleModel",
      "state": {
       "description_width": ""
      }
     },
     "511cd20635044eb0bb759eb7f96c7de7": {
      "model_module": "jupyter-leaflet",
      "model_module_version": "^0.13.2",
      "model_name": "LeafletMapStyleModel",
      "state": {
       "_model_module_version": "^0.13.2"
      }
     },
     "5150cbfff7b74cf88fe8ada276fc1d90": {
      "model_module": "jupyter-leaflet",
      "model_module_version": "^0.13.2",
      "model_name": "LeafletMarkerModel",
      "state": {
       "_model_module_version": "^0.13.2",
       "_view_module_version": "^0.13.2",
       "location": [
        59.91953,
        10.743836
       ],
       "options": [
        "alt",
        "draggable",
        "keyboard",
        "rise_offset",
        "rise_on_hover",
        "rotation_angle",
        "rotation_origin",
        "title",
        "z_index_offset"
       ],
       "popup": "IPY_MODEL_ccd1a943850540dda3e45b48e59e50fd",
       "title": "164 Vår Frelsers gravlund sør"
      }
     },
     "517561537a84432f896eae6600842048": {
      "model_module": "jupyter-leaflet",
      "model_module_version": "^0.13.2",
      "model_name": "LeafletMarkerModel",
      "state": {
       "_model_module_version": "^0.13.2",
       "_view_module_version": "^0.13.2",
       "location": [
        59.939238,
        10.774279
       ],
       "options": [
        "alt",
        "draggable",
        "keyboard",
        "rise_offset",
        "rise_on_hover",
        "rotation_angle",
        "rotation_origin",
        "title",
        "z_index_offset"
       ],
       "popup": "IPY_MODEL_ae213a8317d34b7bbada675a25e0896e",
       "title": "159 Hans Nielsen Hauges plass"
      }
     },
     "517adfac9c544ca69d42439521c20236": {
      "model_module": "jupyter-leaflet",
      "model_module_version": "^0.13.2",
      "model_name": "LeafletTileLayerModel",
      "state": {
       "_model_module_version": "^0.13.2",
       "_view_module_version": "^0.13.2",
       "base": true,
       "max_native_zoom": 18,
       "max_zoom": 19,
       "min_native_zoom": 0,
       "min_zoom": 1,
       "options": [
        "attribution",
        "detect_retina",
        "max_native_zoom",
        "max_zoom",
        "min_native_zoom",
        "min_zoom",
        "no_wrap",
        "tile_size",
        "tms"
       ]
      }
     },
     "52b1b06f816148e88344c535b141d72c": {
      "model_module": "@jupyter-widgets/base",
      "model_module_version": "1.2.0",
      "model_name": "LayoutModel",
      "state": {}
     },
     "52b20da52f30498ea32bd539ee49d806": {
      "model_module": "@jupyter-widgets/controls",
      "model_module_version": "1.5.0",
      "model_name": "HTMLModel",
      "state": {
       "layout": "IPY_MODEL_1be8c2c6fc6b45fa893aec973c16f736",
       "style": "IPY_MODEL_3dd1035c426a4bbeb75251c73dd4bd44",
       "value": "247 Sjøsiden øst<br/>0.44 km to center"
      }
     },
     "52c16e4d7b0243078803432b73b909df": {
      "model_module": "jupyter-leaflet",
      "model_module_version": "^0.13.2",
      "model_name": "LeafletMarkerModel",
      "state": {
       "_model_module_version": "^0.13.2",
       "_view_module_version": "^0.13.2",
       "location": [
        59.928202,
        10.718301
       ],
       "options": [
        "alt",
        "draggable",
        "keyboard",
        "rise_offset",
        "rise_on_hover",
        "rotation_angle",
        "rotation_origin",
        "title",
        "z_index_offset"
       ],
       "popup": "IPY_MODEL_40e1a5e702964170b036271970e40c4c",
       "title": "299 Valkyrieplassen"
      }
     },
     "52e723d77df649dabd6c37da2ad6384e": {
      "model_module": "@jupyter-widgets/base",
      "model_module_version": "1.2.0",
      "model_name": "LayoutModel",
      "state": {}
     },
     "5470d0cff3ae4cd4aa4a70f300a0d806": {
      "model_module": "@jupyter-widgets/controls",
      "model_module_version": "1.5.0",
      "model_name": "HTMLModel",
      "state": {
       "layout": "IPY_MODEL_d7b83d8fc94b4e0d88aecaaa7a8b4fe6",
       "style": "IPY_MODEL_c40f32faa4df4f66b7442e0727dbb577",
       "value": "189 Majorstuen<br/>2.44 km to center"
      }
     },
     "548a08db7d6a4d539f5473cc52a7c571": {
      "model_module": "@jupyter-widgets/base",
      "model_module_version": "1.2.0",
      "model_name": "LayoutModel",
      "state": {}
     },
     "54a00c7205234fd38f1b0cab7c35b318": {
      "model_module": "jupyter-leaflet",
      "model_module_version": "^0.13.2",
      "model_name": "LeafletMarkerModel",
      "state": {
       "_model_module_version": "^0.13.2",
       "_view_module_version": "^0.13.2",
       "location": [
        59.949246,
        10.768577
       ],
       "options": [
        "alt",
        "draggable",
        "keyboard",
        "rise_offset",
        "rise_on_hover",
        "rotation_angle",
        "rotation_origin",
        "title",
        "z_index_offset"
       ],
       "popup": "IPY_MODEL_84463714e6484ed5b0ef4296f8ac34bf",
       "title": "231 BI Nydalen"
      }
     },
     "54bfc9111f014cadbd3d07658cc5a89b": {
      "model_module": "@jupyter-widgets/controls",
      "model_module_version": "1.5.0",
      "model_name": "HTMLModel",
      "state": {
       "layout": "IPY_MODEL_503dfadfc3664f159d5c3c8e64436403",
       "style": "IPY_MODEL_d1ccf5d09737423584f5e175ff8d4e44",
       "value": "228 AHO<br/>1.42 km to center"
      }
     },
     "5504a2e98703490bb6cc206d47c4e25c": {
      "model_module": "jupyter-leaflet",
      "model_module_version": "^0.13.2",
      "model_name": "LeafletMarkerModel",
      "state": {
       "_model_module_version": "^0.13.2",
       "_view_module_version": "^0.13.2",
       "location": [
        59.920848,
        10.733323
       ],
       "options": [
        "alt",
        "draggable",
        "keyboard",
        "rise_offset",
        "rise_on_hover",
        "rotation_angle",
        "rotation_origin",
        "title",
        "z_index_offset"
       ],
       "popup": "IPY_MODEL_304d09fd9ce74378b82335be4582c578",
       "title": "280 Studentparlamentet"
      }
     },
     "559abee8033b4d20943097ae45f13a4d": {
      "model_module": "@jupyter-widgets/base",
      "model_module_version": "1.2.0",
      "model_name": "LayoutModel",
      "state": {}
     },
     "5653b0ace0ce4f42911fc805587c4573": {
      "model_module": "@jupyter-widgets/controls",
      "model_module_version": "1.5.0",
      "model_name": "DescriptionStyleModel",
      "state": {
       "description_width": ""
      }
     },
     "5657fd5fb14f439cb0cbf0c6cb584197": {
      "model_module": "@jupyter-widgets/base",
      "model_module_version": "1.2.0",
      "model_name": "LayoutModel",
      "state": {}
     },
     "57b4505a80044e10904c9cc7492579d3": {
      "model_module": "jupyter-leaflet",
      "model_module_version": "^0.13.2",
      "model_name": "LeafletMarkerModel",
      "state": {
       "_model_module_version": "^0.13.2",
       "_view_module_version": "^0.13.2",
       "location": [
        59.915471,
        10.751096
       ],
       "options": [
        "alt",
        "draggable",
        "keyboard",
        "rise_offset",
        "rise_on_hover",
        "rotation_angle",
        "rotation_origin",
        "title",
        "z_index_offset"
       ],
       "popup": "IPY_MODEL_caf0386ee7674db2a247bedac8bc82bb",
       "title": "243 Sentrum Scene"
      }
     },
     "5857ae1964d14500abfa32f5f5bc44b0": {
      "model_module": "@jupyter-widgets/controls",
      "model_module_version": "1.5.0",
      "model_name": "DescriptionStyleModel",
      "state": {
       "description_width": ""
      }
     },
     "585be11d71214aa38853f03b844beb5e": {
      "model_module": "@jupyter-widgets/base",
      "model_module_version": "1.2.0",
      "model_name": "LayoutModel",
      "state": {}
     },
     "58700261bc004a4eb0823f5975ac6aff": {
      "model_module": "@jupyter-widgets/controls",
      "model_module_version": "1.5.0",
      "model_name": "DescriptionStyleModel",
      "state": {
       "description_width": ""
      }
     },
     "58985243c0a744cb8675288107cf03c4": {
      "model_module": "@jupyter-widgets/base",
      "model_module_version": "1.2.0",
      "model_name": "LayoutModel",
      "state": {}
     },
     "58e7e416d78a48c8aa54522e6ad303b1": {
      "model_module": "@jupyter-widgets/controls",
      "model_module_version": "1.5.0",
      "model_name": "HTMLModel",
      "state": {
       "layout": "IPY_MODEL_4beffbc5fe3a4bdab84b07c8ee568db2",
       "style": "IPY_MODEL_1018e1362398410e8a377b1c39ab781e",
       "value": "162 Arkitekt Rivertz Plass<br/>2.48 km to center"
      }
     },
     "5938bcfd6036487683f8bc9d77d7259a": {
      "model_module": "@jupyter-widgets/controls",
      "model_module_version": "1.5.0",
      "model_name": "DescriptionStyleModel",
      "state": {
       "description_width": ""
      }
     },
     "594101945ab449dcaa7f7747e604b424": {
      "model_module": "jupyter-leaflet",
      "model_module_version": "^0.13.2",
      "model_name": "LeafletMapStyleModel",
      "state": {
       "_model_module_version": "^0.13.2"
      }
     },
     "597f9cc1b54246178a401061d90ceabd": {
      "model_module": "@jupyter-widgets/controls",
      "model_module_version": "1.5.0",
      "model_name": "DescriptionStyleModel",
      "state": {
       "description_width": ""
      }
     },
     "59d4515bf42d48a0bd07b54bb62d2e03": {
      "model_module": "@jupyter-widgets/controls",
      "model_module_version": "1.5.0",
      "model_name": "DescriptionStyleModel",
      "state": {
       "description_width": ""
      }
     },
     "59d7bc7327c44cc09f4f28ec0ba287c1": {
      "model_module": "@jupyter-widgets/controls",
      "model_module_version": "1.5.0",
      "model_name": "HTMLModel",
      "state": {
       "layout": "IPY_MODEL_640bb6e1972b4a47aa1d64382b4bca71",
       "style": "IPY_MODEL_67fd14a58d864594994ec5280d0cdf84",
       "value": "Try clicking the marker!"
      }
     },
     "5a2c89b868894e409dd59788a0eff0a2": {
      "model_module": "jupyter-leaflet",
      "model_module_version": "^0.13.2",
      "model_name": "LeafletMarkerModel",
      "state": {
       "_model_module_version": "^0.13.2",
       "_view_module_version": "^0.13.2",
       "location": [
        59.929838,
        10.711223
       ],
       "options": [
        "alt",
        "draggable",
        "keyboard",
        "rise_offset",
        "rise_on_hover",
        "rotation_angle",
        "rotation_origin",
        "title",
        "z_index_offset"
       ],
       "popup": "IPY_MODEL_1d751f929b9c430b83e5da2f8ef430da",
       "title": "178 Colosseum Kino"
      }
     },
     "5a63f6b88be849dc86a5d7f7d04585e6": {
      "model_module": "jupyter-leaflet",
      "model_module_version": "^0.13.2",
      "model_name": "LeafletMarkerModel",
      "state": {
       "_model_module_version": "^0.13.2",
       "_view_module_version": "^0.13.2",
       "location": [
        59.920944,
        10.750362
       ],
       "options": [
        "alt",
        "draggable",
        "keyboard",
        "rise_offset",
        "rise_on_hover",
        "rotation_angle",
        "rotation_origin",
        "title",
        "z_index_offset"
       ],
       "popup": "IPY_MODEL_da9f60735fb54e20bf8217e6ed4f0085",
       "title": "226 Fredensborg"
      }
     },
     "5aa2d347a1954c9583c5e307cd4dfe41": {
      "model_module": "jupyter-leaflet",
      "model_module_version": "^0.13.2",
      "model_name": "LeafletMarkerModel",
      "state": {
       "_model_module_version": "^0.13.2",
       "_view_module_version": "^0.13.2",
       "location": [
        59.91565,
        10.777671
       ],
       "options": [
        "alt",
        "draggable",
        "keyboard",
        "rise_offset",
        "rise_on_hover",
        "rotation_angle",
        "rotation_origin",
        "title",
        "z_index_offset"
       ],
       "popup": "IPY_MODEL_fffc9603d1a54aa19c307203eaa2449d",
       "title": "177 Tøyenparken"
      }
     },
     "5aabc69f926042868b6ef2f48dd98230": {
      "model_module": "@jupyter-widgets/base",
      "model_module_version": "1.2.0",
      "model_name": "LayoutModel",
      "state": {}
     },
     "5adf193758654e66a8b24a2d9f41a1ed": {
      "model_module": "@jupyter-widgets/base",
      "model_module_version": "1.2.0",
      "model_name": "LayoutModel",
      "state": {}
     },
     "5aed118a9272420aa64fed4ace8786c9": {
      "model_module": "jupyter-leaflet",
      "model_module_version": "^0.13.2",
      "model_name": "LeafletMarkerModel",
      "state": {
       "_model_module_version": "^0.13.2",
       "_view_module_version": "^0.13.2",
       "location": [
        59.91645,
        10.74915
       ],
       "options": [
        "alt",
        "draggable",
        "keyboard",
        "rise_offset",
        "rise_on_hover",
        "rotation_angle",
        "rotation_origin",
        "title",
        "z_index_offset"
       ],
       "popup": "IPY_MODEL_d51722755a814b6882ed15e7c1837b0a",
       "title": "208 Hammersborg Torg"
      }
     },
     "5b038a9bdfff4098bf78bb1316008aea": {
      "model_module": "jupyter-leaflet",
      "model_module_version": "^0.13.2",
      "model_name": "LeafletMarkerModel",
      "state": {
       "_model_module_version": "^0.13.2",
       "_view_module_version": "^0.13.2",
       "location": [
        59.920206,
        10.760548
       ],
       "options": [
        "alt",
        "draggable",
        "keyboard",
        "rise_offset",
        "rise_on_hover",
        "rotation_angle",
        "rotation_origin",
        "title",
        "z_index_offset"
       ],
       "popup": "IPY_MODEL_c19439efbc324af4836857ced7b3b6ba",
       "title": "214 Schous plass"
      }
     },
     "5b218724b98a497daa69158f2f8da439": {
      "model_module": "jupyter-leaflet",
      "model_module_version": "^0.13.2",
      "model_name": "LeafletMapStyleModel",
      "state": {
       "_model_module_version": "^0.13.2"
      }
     },
     "5ba45fe8a92d42ed81c1694c9fd4269f": {
      "model_module": "@jupyter-widgets/controls",
      "model_module_version": "1.5.0",
      "model_name": "DescriptionStyleModel",
      "state": {
       "description_width": ""
      }
     },
     "5baf506869a24cd9aff62bbe3422e12d": {
      "model_module": "jupyter-leaflet",
      "model_module_version": "^0.13.2",
      "model_name": "LeafletMarkerModel",
      "state": {
       "_model_module_version": "^0.13.2",
       "_view_module_version": "^0.13.2",
       "location": [
        59.913409,
        10.75737
       ],
       "options": [
        "alt",
        "draggable",
        "keyboard",
        "rise_offset",
        "rise_on_hover",
        "rotation_angle",
        "rotation_origin",
        "title",
        "z_index_offset"
       ],
       "popup": "IPY_MODEL_1297b2ab9ac14aee9093567629c55a2c",
       "title": "163 Vaterlandsparken"
      }
     },
     "5bf587102d81404786939944bdf63899": {
      "model_module": "@jupyter-widgets/base",
      "model_module_version": "1.2.0",
      "model_name": "LayoutModel",
      "state": {}
     },
     "5c107f83fbf748778beae3a71e6c179e": {
      "model_module": "@jupyter-widgets/controls",
      "model_module_version": "1.5.0",
      "model_name": "DescriptionStyleModel",
      "state": {
       "description_width": ""
      }
     },
     "5c20daf65f05482eab687f3d82660f4b": {
      "model_module": "jupyter-leaflet",
      "model_module_version": "^0.13.2",
      "model_name": "LeafletMarkerModel",
      "state": {
       "_model_module_version": "^0.13.2",
       "_view_module_version": "^0.13.2",
       "location": [
        59.925276,
        10.750405
       ],
       "options": [
        "alt",
        "draggable",
        "keyboard",
        "rise_offset",
        "rise_on_hover",
        "rotation_angle",
        "rotation_origin",
        "title",
        "z_index_offset"
       ],
       "popup": "IPY_MODEL_54bfc9111f014cadbd3d07658cc5a89b",
       "title": "228 AHO"
      }
     },
     "5c47af0d33be46da805026bcd76eba00": {
      "model_module": "@jupyter-widgets/controls",
      "model_module_version": "1.5.0",
      "model_name": "HTMLModel",
      "state": {
       "layout": "IPY_MODEL_eb57f09e48b843dab5b5a06008c03add",
       "style": "IPY_MODEL_f6c2736f5dbc4be89ea1b3da276b230b",
       "value": "233 Alexander Kiellands Plass<br/>1.73 km to center"
      }
     },
     "5c7bddc9769e42919426189d33045292": {
      "model_module": "@jupyter-widgets/controls",
      "model_module_version": "1.5.0",
      "model_name": "DescriptionStyleModel",
      "state": {
       "description_width": ""
      }
     },
     "5ca3add3e7e942d2a06c46db7cd4b265": {
      "model_module": "jupyter-leaflet",
      "model_module_version": "^0.13.2",
      "model_name": "LeafletMarkerModel",
      "state": {
       "_model_module_version": "^0.13.2",
       "_view_module_version": "^0.13.2",
       "location": [
        59.907681,
        10.686827
       ],
       "options": [
        "alt",
        "draggable",
        "keyboard",
        "rise_offset",
        "rise_on_hover",
        "rotation_angle",
        "rotation_origin",
        "title",
        "z_index_offset"
       ],
       "popup": "IPY_MODEL_a7a905d823864e9ea884a5909d0a89ab",
       "title": "205 Norsk Folkemuseum"
      }
     },
     "5cc7123bac91453c8e729aae62d7178a": {
      "model_module": "@jupyter-widgets/base",
      "model_module_version": "1.2.0",
      "model_name": "LayoutModel",
      "state": {}
     },
     "5d604da98b1e498fad7f5bab0744a9a3": {
      "model_module": "@jupyter-widgets/controls",
      "model_module_version": "1.5.0",
      "model_name": "HTMLModel",
      "state": {
       "layout": "IPY_MODEL_6c223921af624fa4a0653fdc7cd4d9e3",
       "style": "IPY_MODEL_a4a74eda539e44aaa4bd87b202b0afc2",
       "value": "158 Bentsebrugata<br/>3.04 km to center"
      }
     },
     "5e413da212634c79abd8b3feaff42f92": {
      "model_module": "@jupyter-widgets/base",
      "model_module_version": "1.2.0",
      "model_name": "LayoutModel",
      "state": {}
     },
     "5e50ca7704444464bf50575c08bb9b61": {
      "model_module": "@jupyter-widgets/controls",
      "model_module_version": "1.5.0",
      "model_name": "HTMLModel",
      "state": {
       "layout": "IPY_MODEL_f70892f42c53451395a705440745cf59",
       "style": "IPY_MODEL_5c7bddc9769e42919426189d33045292",
       "value": "190 Parkveien<br/>1.34 km to center"
      }
     },
     "5e529168c1ae464a9eefaac05c2c090b": {
      "model_module": "@jupyter-widgets/base",
      "model_module_version": "1.2.0",
      "model_name": "LayoutModel",
      "state": {}
     },
     "5ecb8cdc954141fbaa120e6ffca8dd32": {
      "model_module": "@jupyter-widgets/controls",
      "model_module_version": "1.5.0",
      "model_name": "HTMLModel",
      "state": {
       "layout": "IPY_MODEL_224c253e896e4c3cada58208eba5baa5",
       "style": "IPY_MODEL_64b3db7aba214b11a8ddd6581a5bb680",
       "value": "193 Oslo Handelsgymnasium<br/>1.46 km to center"
      }
     },
     "5f3cd0eb0ab14cefbcd04485e88121e2": {
      "model_module": "jupyter-leaflet",
      "model_module_version": "^0.13.2",
      "model_name": "LeafletMarkerModel",
      "state": {
       "_model_module_version": "^0.13.2",
       "_view_module_version": "^0.13.2",
       "location": [
        59.912504,
        10.762236
       ],
       "options": [
        "alt",
        "draggable",
        "keyboard",
        "rise_offset",
        "rise_on_hover",
        "rotation_angle",
        "rotation_origin",
        "title",
        "z_index_offset"
       ],
       "popup": "IPY_MODEL_3992c2d06a264c39a7c6812bf565d6dc",
       "title": "175 Grønlands torg"
      }
     },
     "5f62a9067f084a279e6b78f56aac3911": {
      "model_module": "@jupyter-widgets/base",
      "model_module_version": "1.2.0",
      "model_name": "LayoutModel",
      "state": {}
     },
     "605001997f1b47ceb4ddf67c1eb6aae6": {
      "model_module": "@jupyter-widgets/base",
      "model_module_version": "1.2.0",
      "model_name": "LayoutModel",
      "state": {}
     },
     "6077165d943f43c69903ce717b8e1443": {
      "model_module": "@jupyter-widgets/base",
      "model_module_version": "1.2.0",
      "model_name": "LayoutModel",
      "state": {}
     },
     "60aebcd36d384fa6a875d8c5c7b9c04e": {
      "model_module": "@jupyter-widgets/controls",
      "model_module_version": "1.5.0",
      "model_name": "DescriptionStyleModel",
      "state": {
       "description_width": ""
      }
     },
     "60ff9df8751842f3b72123448cc2fabd": {
      "model_module": "@jupyter-widgets/controls",
      "model_module_version": "1.5.0",
      "model_name": "DescriptionStyleModel",
      "state": {
       "description_width": ""
      }
     },
     "621d8ca5859141f98b9caf2996342c9f": {
      "model_module": "jupyter-leaflet",
      "model_module_version": "^0.13.2",
      "model_name": "LeafletMarkerModel",
      "state": {
       "_model_module_version": "^0.13.2",
       "_view_module_version": "^0.13.2",
       "location": [
        59.915399,
        10.769469
       ],
       "options": [
        "alt",
        "draggable",
        "keyboard",
        "rise_offset",
        "rise_on_hover",
        "rotation_angle",
        "rotation_origin",
        "title",
        "z_index_offset"
       ],
       "popup": "IPY_MODEL_108197be439c420097df34f117e6831a",
       "title": "266 Botanisk Hage sør"
      }
     },
     "622f818ae9ac4d058c7e0d46e260522e": {
      "model_module": "@jupyter-widgets/controls",
      "model_module_version": "1.5.0",
      "model_name": "HTMLModel",
      "state": {
       "layout": "IPY_MODEL_dbc7c044afe3438b8a84c8737d0eb0ff",
       "style": "IPY_MODEL_f885e84379df490687b3e33891287fd6",
       "value": "158 Bentsebrugata<br/>3.038353923373869km to center"
      }
     },
     "624291e4d3304a64929c70e8c23c9445": {
      "model_module": "@jupyter-widgets/base",
      "model_module_version": "1.2.0",
      "model_name": "LayoutModel",
      "state": {}
     },
     "6254e66541cd4348a29cf55e5a161b71": {
      "model_module": "@jupyter-widgets/base",
      "model_module_version": "1.2.0",
      "model_name": "LayoutModel",
      "state": {}
     },
     "62ca8e08d6cb4d938b0ec689cdb3441c": {
      "model_module": "@jupyter-widgets/base",
      "model_module_version": "1.2.0",
      "model_name": "LayoutModel",
      "state": {}
     },
     "636be1ce77a94f0a8597f6da5ee4230a": {
      "model_module": "@jupyter-widgets/controls",
      "model_module_version": "1.5.0",
      "model_name": "DescriptionStyleModel",
      "state": {
       "description_width": ""
      }
     },
     "638db6acac3749aea0ece671e38f4429": {
      "model_module": "jupyter-leaflet",
      "model_module_version": "^0.13.2",
      "model_name": "LeafletMarkerModel",
      "state": {
       "_model_module_version": "^0.13.2",
       "_view_module_version": "^0.13.2",
       "location": [
        59.923033,
        10.771682
       ],
       "options": [
        "alt",
        "draggable",
        "keyboard",
        "rise_offset",
        "rise_on_hover",
        "rotation_angle",
        "rotation_origin",
        "title",
        "z_index_offset"
       ],
       "popup": "IPY_MODEL_6f90d23fe2d343f28863f9d926340d8e",
       "title": "257 Trondheimsveien"
      }
     },
     "63aafaee6f494c7198e78bcb74774849": {
      "model_module": "jupyter-leaflet",
      "model_module_version": "^0.13.2",
      "model_name": "LeafletMarkerModel",
      "state": {
       "_model_module_version": "^0.13.2",
       "_view_module_version": "^0.13.2",
       "location": [
        59.934934,
        10.749475
       ],
       "options": [
        "alt",
        "draggable",
        "keyboard",
        "rise_offset",
        "rise_on_hover",
        "rotation_angle",
        "rotation_origin",
        "title",
        "z_index_offset"
       ],
       "popup": "IPY_MODEL_58e7e416d78a48c8aa54522e6ad303b1",
       "title": "162 Arkitekt Rivertz Plass"
      }
     },
     "640677c85a7349c090a1fcfffdb0ff6a": {
      "model_module": "jupyter-leaflet",
      "model_module_version": "^0.13.2",
      "model_name": "LeafletMapModel",
      "state": {
       "_model_module_version": "^0.13.2",
       "_view_module_version": "^0.13.2",
       "center": [
        52.20424032262008,
        360.12084960937506
       ],
       "close_popup_on_click": false,
       "controls": [
        "IPY_MODEL_cac7ba60882645c5813014da9ade4359",
        "IPY_MODEL_81ba25e530884bd2bfaafe4ff552df7f"
       ],
       "default_style": "IPY_MODEL_79827be017bb4772ba0183372071903b",
       "dragging_style": "IPY_MODEL_014ef8935714413ebcd93db7aa0b7d22",
       "east": -180,
       "fullscreen": false,
       "interpolation": "bilinear",
       "layers": [
        "IPY_MODEL_9a0fff79c3984039863c8414df36092f",
        "IPY_MODEL_c87e32bf2962435da881e26fe1a05057",
        "IPY_MODEL_e7f8cf7b426f4d25b059bd5c65161c29"
       ],
       "layout": "IPY_MODEL_52e723d77df649dabd6c37da2ad6384e",
       "modisdate": "yesterday",
       "north": -90,
       "options": [
        "bounce_at_zoom_limits",
        "box_zoom",
        "center",
        "close_popup_on_click",
        "double_click_zoom",
        "dragging",
        "fullscreen",
        "inertia",
        "inertia_deceleration",
        "inertia_max_speed",
        "interpolation",
        "keyboard",
        "keyboard_pan_offset",
        "keyboard_zoom_offset",
        "max_zoom",
        "min_zoom",
        "scroll_wheel_zoom",
        "tap",
        "tap_tolerance",
        "touch_zoom",
        "world_copy_jump",
        "zoom",
        "zoom_animation_threshold",
        "zoom_delta",
        "zoom_snap",
        "zoom_start"
       ],
       "south": 90,
       "style": "IPY_MODEL_79827be017bb4772ba0183372071903b",
       "west": 180,
       "window_url": "http://localhost:8888/lab",
       "zoom": 9
      }
     },
     "640bb6e1972b4a47aa1d64382b4bca71": {
      "model_module": "@jupyter-widgets/base",
      "model_module_version": "1.2.0",
      "model_name": "LayoutModel",
      "state": {}
     },
     "644b195ccb3d4f3da3b311545fbb702d": {
      "model_module": "@jupyter-widgets/base",
      "model_module_version": "1.2.0",
      "model_name": "LayoutModel",
      "state": {}
     },
     "645351fa05384efab5a409935d140091": {
      "model_module": "@jupyter-widgets/controls",
      "model_module_version": "1.5.0",
      "model_name": "HTMLModel",
      "state": {
       "layout": "IPY_MODEL_58985243c0a744cb8675288107cf03c4",
       "style": "IPY_MODEL_d92c7afeb00c489ca8bf49a45917693a",
       "value": "169 Bogstadveien<br/>1.80km to center"
      }
     },
     "64809956ddb54f3c918454185b121c05": {
      "model_module": "@jupyter-widgets/controls",
      "model_module_version": "1.5.0",
      "model_name": "HTMLModel",
      "state": {
       "layout": "IPY_MODEL_f64d60cc81e94b2f98e1f3612f086a3d",
       "style": "IPY_MODEL_3ab1f83727424aab89667d5f3420d480",
       "value": "160 Sjøsiden vest<br/>0.42 km to center"
      }
     },
     "64b3db7aba214b11a8ddd6581a5bb680": {
      "model_module": "@jupyter-widgets/controls",
      "model_module_version": "1.5.0",
      "model_name": "DescriptionStyleModel",
      "state": {
       "description_width": ""
      }
     },
     "66d1e3fe7eca4cc0a866bbd7e5aa1d50": {
      "model_module": "jupyter-leaflet",
      "model_module_version": "^0.13.2",
      "model_name": "LeafletMarkerModel",
      "state": {
       "_model_module_version": "^0.13.2",
       "_view_module_version": "^0.13.2",
       "location": [
        59.904441,
        10.786188
       ],
       "options": [
        "alt",
        "draggable",
        "keyboard",
        "rise_offset",
        "rise_on_hover",
        "rotation_angle",
        "rotation_origin",
        "title",
        "z_index_offset"
       ],
       "popup": "IPY_MODEL_79e2a6a6e3bf4ca389adf301c9888d3f",
       "title": "245 Kværnerbyen"
      }
     },
     "66ede63927c344f08a33039ab934308a": {
      "model_module": "jupyter-leaflet",
      "model_module_version": "^0.13.2",
      "model_name": "LeafletMapStyleModel",
      "state": {
       "_model_module_version": "^0.13.2"
      }
     },
     "67e197d736754672864a8d4f19a6b908": {
      "model_module": "@jupyter-widgets/controls",
      "model_module_version": "1.5.0",
      "model_name": "HTMLModel",
      "state": {
       "layout": "IPY_MODEL_1e36a086bfc04875baa6e60f21739dfd",
       "style": "IPY_MODEL_e2fdd2750d6e43f18c256320e42c18f7",
       "value": "239 Hasle<br/>2.91 km to center"
      }
     },
     "67fd14a58d864594994ec5280d0cdf84": {
      "model_module": "@jupyter-widgets/controls",
      "model_module_version": "1.5.0",
      "model_name": "DescriptionStyleModel",
      "state": {
       "description_width": ""
      }
     },
     "6941930b12f645e5baae379536d50ef7": {
      "model_module": "@jupyter-widgets/base",
      "model_module_version": "1.2.0",
      "model_name": "LayoutModel",
      "state": {}
     },
     "6956712ac86b4160a973a78111d4460f": {
      "model_module": "@jupyter-widgets/controls",
      "model_module_version": "1.5.0",
      "model_name": "DescriptionStyleModel",
      "state": {
       "description_width": ""
      }
     },
     "697acaab61dc4082b029ccedf951a01a": {
      "model_module": "@jupyter-widgets/controls",
      "model_module_version": "1.5.0",
      "model_name": "DescriptionStyleModel",
      "state": {
       "description_width": ""
      }
     },
     "6985fa2faa58422bbbd102236cf748b3": {
      "model_module": "@jupyter-widgets/base",
      "model_module_version": "1.2.0",
      "model_name": "LayoutModel",
      "state": {}
     },
     "6a2291f865b945ad93e6975391d3dbe6": {
      "model_module": "jupyter-leaflet",
      "model_module_version": "^0.13.2",
      "model_name": "LeafletMarkerModel",
      "state": {
       "_model_module_version": "^0.13.2",
       "_view_module_version": "^0.13.2",
       "location": [
        59.920383,
        10.76082
       ],
       "options": [
        "alt",
        "draggable",
        "keyboard",
        "rise_offset",
        "rise_on_hover",
        "rotation_angle",
        "rotation_origin",
        "title",
        "z_index_offset"
       ],
       "popup": "IPY_MODEL_271acf053e744b26a76af6b97f262d9c",
       "title": "229 Schous plass"
      }
     },
     "6aa5ef65977c4c089647c1329f20f8f0": {
      "model_module": "@jupyter-widgets/controls",
      "model_module_version": "1.5.0",
      "model_name": "DescriptionStyleModel",
      "state": {
       "description_width": ""
      }
     },
     "6b157779f5c24ac0ad5296d873181f6f": {
      "model_module": "@jupyter-widgets/controls",
      "model_module_version": "1.5.0",
      "model_name": "HTMLModel",
      "state": {
       "layout": "IPY_MODEL_e0ff6fba9d6a4d13a2c21a08685625c4",
       "style": "IPY_MODEL_7312e8eeba6d451a8c61b2084e46d9bb",
       "value": "200 Tøyen skole<br/>1.57 km to center"
      }
     },
     "6b2ec87bb58f4299a42e523bc72f4d4c": {
      "model_module": "@jupyter-widgets/controls",
      "model_module_version": "1.5.0",
      "model_name": "HTMLModel",
      "state": {
       "layout": "IPY_MODEL_5cc7123bac91453c8e729aae62d7178a",
       "style": "IPY_MODEL_d4102944a93d455b89c5ac27d80bd1c1",
       "value": "161 St. Hanshaugen park vest<br/>1.63km to center"
      }
     },
     "6b70822247c64743b144bf0b02ceeb39": {
      "model_module": "@jupyter-widgets/controls",
      "model_module_version": "1.5.0",
      "model_name": "HTMLModel",
      "state": {
       "layout": "IPY_MODEL_ea553afa34974402a29a80f19385376e",
       "style": "IPY_MODEL_c3b3aab2a1344a7eafadfd6ef1803d1d",
       "value": "161 St. Hanshaugen park vest<br/>1.63 km to center"
      }
     },
     "6b8a1eb9e45641dbb2616b8d911b542b": {
      "model_module": "jupyter-leaflet",
      "model_module_version": "^0.13.2",
      "model_name": "LeafletMarkerModel",
      "state": {
       "_model_module_version": "^0.13.2",
       "_view_module_version": "^0.13.2",
       "location": [
        59.939228,
        10.75917
       ],
       "options": [
        "alt",
        "draggable",
        "keyboard",
        "rise_offset",
        "rise_on_hover",
        "rotation_angle",
        "rotation_origin",
        "title",
        "z_index_offset"
       ],
       "popup": "IPY_MODEL_31e6ac8a3d594495a95cdc2d8865ef13",
       "title": "158 Bentsebrugata"
      }
     },
     "6be0e011182d4eeaafb5185f4005bf3d": {
      "model_module": "@jupyter-widgets/controls",
      "model_module_version": "1.5.0",
      "model_name": "DescriptionStyleModel",
      "state": {
       "description_width": ""
      }
     },
     "6c223921af624fa4a0653fdc7cd4d9e3": {
      "model_module": "@jupyter-widgets/base",
      "model_module_version": "1.2.0",
      "model_name": "LayoutModel",
      "state": {}
     },
     "6c5f0c7d8a1f4b918fe1ffab81252bce": {
      "model_module": "@jupyter-widgets/controls",
      "model_module_version": "1.5.0",
      "model_name": "DescriptionStyleModel",
      "state": {
       "description_width": ""
      }
     },
     "6cb11a91503a4b67bd1bc4e5066d2a81": {
      "model_module": "jupyter-leaflet",
      "model_module_version": "^0.13.2",
      "model_name": "LeafletMarkerModel",
      "state": {
       "_model_module_version": "^0.13.2",
       "_view_module_version": "^0.13.2",
       "location": [
        59.923159,
        10.766055
       ],
       "options": [
        "alt",
        "draggable",
        "keyboard",
        "rise_offset",
        "rise_on_hover",
        "rotation_angle",
        "rotation_origin",
        "title",
        "z_index_offset"
       ],
       "popup": "IPY_MODEL_7424171f361142f7bf9405c6693042e3",
       "title": "262 Sofienbergparken nord"
      }
     },
     "6cb609950c9d49e3900cad3ccff52ac2": {
      "model_module": "jupyter-leaflet",
      "model_module_version": "^0.13.2",
      "model_name": "LeafletMarkerModel",
      "state": {
       "_model_module_version": "^0.13.2",
       "_view_module_version": "^0.13.2",
       "location": [
        59.924337,
        10.792792
       ],
       "options": [
        "alt",
        "draggable",
        "keyboard",
        "rise_offset",
        "rise_on_hover",
        "rotation_angle",
        "rotation_origin",
        "title",
        "z_index_offset"
       ],
       "popup": "IPY_MODEL_67e197d736754672864a8d4f19a6b908",
       "title": "239 Hasle"
      }
     },
     "6d56cad208cf47a88f2aa5d71463ae7c": {
      "model_module": "@jupyter-widgets/controls",
      "model_module_version": "1.5.0",
      "model_name": "DescriptionStyleModel",
      "state": {
       "description_width": ""
      }
     },
     "6d6f011b4de74a72a480ab8f3122af4c": {
      "model_module": "@jupyter-widgets/base",
      "model_module_version": "1.2.0",
      "model_name": "LayoutModel",
      "state": {}
     },
     "6dfd9eec90314eb09c0fd7e89e38f56a": {
      "model_module": "@jupyter-widgets/controls",
      "model_module_version": "1.5.0",
      "model_name": "HTMLModel",
      "state": {
       "layout": "IPY_MODEL_fb85c949a9de408aa903d259f7a61606",
       "style": "IPY_MODEL_df0d5a3030f146cd96ecef31be2e15e3",
       "value": "256 Huk<br/>4.28 km to center"
      }
     },
     "6e06ac601f354fefa4014773f8da6c72": {
      "model_module": "@jupyter-widgets/base",
      "model_module_version": "1.2.0",
      "model_name": "LayoutModel",
      "state": {}
     },
     "6e2c1b6c7459409c95276648c71b1d18": {
      "model_module": "@jupyter-widgets/base",
      "model_module_version": "1.2.0",
      "model_name": "LayoutModel",
      "state": {}
     },
     "6e432e29f2694a81a2af2e41f97d5f8c": {
      "model_module": "@jupyter-widgets/base",
      "model_module_version": "1.2.0",
      "model_name": "LayoutModel",
      "state": {}
     },
     "6f31371ecbfc44909a25f0207f243b35": {
      "model_module": "@jupyter-widgets/base",
      "model_module_version": "1.2.0",
      "model_name": "LayoutModel",
      "state": {}
     },
     "6f8f35aa67b9410996d3c854e2cf489f": {
      "model_module": "jupyter-leaflet",
      "model_module_version": "^0.13.2",
      "model_name": "LeafletMarkerModel",
      "state": {
       "_model_module_version": "^0.13.2",
       "_view_module_version": "^0.13.2",
       "location": [
        59.934934,
        10.749475
       ],
       "options": [
        "alt",
        "draggable",
        "keyboard",
        "rise_offset",
        "rise_on_hover",
        "rotation_angle",
        "rotation_origin",
        "title",
        "z_index_offset"
       ],
       "popup": "IPY_MODEL_c08c415f95b344d398566b22eef1fd1e",
       "title": "162 Arkitekt Rivertz Plass"
      }
     },
     "6f90d23fe2d343f28863f9d926340d8e": {
      "model_module": "@jupyter-widgets/controls",
      "model_module_version": "1.5.0",
      "model_name": "HTMLModel",
      "state": {
       "layout": "IPY_MODEL_d35c5996ce31455ca15d7b3f065a0631",
       "style": "IPY_MODEL_2f41190589f143efa5eeb0bae19f3019",
       "value": "257 Trondheimsveien<br/>1.83 km to center"
      }
     },
     "7022ca0355264a0a8a2f3b0b399de58b": {
      "model_module": "jupyter-leaflet",
      "model_module_version": "^0.13.2",
      "model_name": "LeafletMarkerModel",
      "state": {
       "_model_module_version": "^0.13.2",
       "_view_module_version": "^0.13.2",
       "location": [
        59.942525,
        10.723352
       ],
       "options": [
        "alt",
        "draggable",
        "keyboard",
        "rise_offset",
        "rise_on_hover",
        "rotation_angle",
        "rotation_origin",
        "title",
        "z_index_offset"
       ],
       "popup": "IPY_MODEL_3f9cd5a1a7fb4316bf5ee903bcf916d5",
       "title": "307 Bak Niels Treschows hus sør"
      }
     },
     "707528f8af7943b8b41d3fdef4247c02": {
      "model_module": "jupyter-leaflet",
      "model_module_version": "^0.13.2",
      "model_name": "LeafletMarkerModel",
      "state": {
       "_model_module_version": "^0.13.2",
       "_view_module_version": "^0.13.2",
       "location": [
        59.937737,
        10.751701
       ],
       "options": [
        "alt",
        "draggable",
        "keyboard",
        "rise_offset",
        "rise_on_hover",
        "rotation_angle",
        "rotation_origin",
        "title",
        "z_index_offset"
       ],
       "popup": "IPY_MODEL_0e4f860c81034340a5c28ea17a533ee4",
       "title": "182 Sagene bussholdeplass"
      }
     },
     "70a09a83d6aa44a7a40be8e64e8aeeeb": {
      "model_module": "@jupyter-widgets/base",
      "model_module_version": "1.2.0",
      "model_name": "LayoutModel",
      "state": {}
     },
     "71d69e5373654842b239b9c6f70b4e21": {
      "model_module": "@jupyter-widgets/base",
      "model_module_version": "1.2.0",
      "model_name": "LayoutModel",
      "state": {}
     },
     "71d900c8bb9a47c5a90d2ff021ccd47f": {
      "model_module": "@jupyter-widgets/controls",
      "model_module_version": "1.5.0",
      "model_name": "DescriptionStyleModel",
      "state": {
       "description_width": ""
      }
     },
     "71f1aa358b234a189d10405fec796b21": {
      "model_module": "@jupyter-widgets/controls",
      "model_module_version": "1.5.0",
      "model_name": "HTMLModel",
      "state": {
       "layout": "IPY_MODEL_9edefe2353094e07a529b579ce7a171b",
       "style": "IPY_MODEL_2b84e21da74345e8abae0a8713f58a0f",
       "value": "169 Bogstadveien<br/>1.80 km to center"
      }
     },
     "72a15da081044190b964625f7aa76c9c": {
      "model_module": "jupyter-leaflet",
      "model_module_version": "^0.13.2",
      "model_name": "LeafletMarkerModel",
      "state": {
       "_model_module_version": "^0.13.2",
       "_view_module_version": "^0.13.2",
       "location": [
        59.91953,
        10.743836
       ],
       "options": [
        "alt",
        "draggable",
        "keyboard",
        "rise_offset",
        "rise_on_hover",
        "rotation_angle",
        "rotation_origin",
        "title",
        "z_index_offset"
       ],
       "popup": "IPY_MODEL_b64a49ff612140f9959abf35cb0b01b3",
       "title": "164 Vår Frelsers gravlund sør"
      }
     },
     "72fac03d4fb44552b91998f173a40f05": {
      "model_module": "@jupyter-widgets/controls",
      "model_module_version": "1.5.0",
      "model_name": "HTMLModel",
      "state": {
       "layout": "IPY_MODEL_e8c1997b67fa40fcb00800b8e0347071",
       "style": "IPY_MODEL_c8f1e01a7f8b4239b4fade8571f23eb3",
       "value": "169 Bogstadveien<br/>1.80 km to center"
      }
     },
     "73002cb0633e477d8874210e1afb3e10": {
      "model_module": "@jupyter-widgets/controls",
      "model_module_version": "1.5.0",
      "model_name": "DescriptionStyleModel",
      "state": {
       "description_width": ""
      }
     },
     "7312e8eeba6d451a8c61b2084e46d9bb": {
      "model_module": "@jupyter-widgets/controls",
      "model_module_version": "1.5.0",
      "model_name": "DescriptionStyleModel",
      "state": {
       "description_width": ""
      }
     },
     "738b3b185c954cedb1cad281d6ba51a4": {
      "model_module": "@jupyter-widgets/controls",
      "model_module_version": "1.5.0",
      "model_name": "HTMLModel",
      "state": {
       "layout": "IPY_MODEL_d50a6fde502143e6a96fca10a17ccb75",
       "style": "IPY_MODEL_4a6db994428045af90a3262ca2f28c54",
       "value": "160 Sjøsiden vest<br/>0.42km to center"
      }
     },
     "73d3edd908c446e083ff8bb7ddcc3ec1": {
      "model_module": "@jupyter-widgets/controls",
      "model_module_version": "1.5.0",
      "model_name": "DescriptionStyleModel",
      "state": {
       "description_width": ""
      }
     },
     "7424171f361142f7bf9405c6693042e3": {
      "model_module": "@jupyter-widgets/controls",
      "model_module_version": "1.5.0",
      "model_name": "HTMLModel",
      "state": {
       "layout": "IPY_MODEL_8fd2ec6fd01f44e7952e2d637d3c1578",
       "style": "IPY_MODEL_ec5653207e3b40b2bbc6f6b5ff3dfacd",
       "value": "262 Sofienbergparken nord<br/>1.61 km to center"
      }
     },
     "744c1840d4e34f11881acfe27c0583fa": {
      "model_module": "jupyter-leaflet",
      "model_module_version": "^0.13.2",
      "model_name": "LeafletMarkerModel",
      "state": {
       "_model_module_version": "^0.13.2",
       "_view_module_version": "^0.13.2",
       "location": [
        59.907081,
        10.779213
       ],
       "options": [
        "alt",
        "draggable",
        "keyboard",
        "rise_offset",
        "rise_on_hover",
        "rotation_angle",
        "rotation_origin",
        "title",
        "z_index_offset"
       ],
       "popup": "IPY_MODEL_8ba399721992472fb74d0ba35c25756a",
       "title": "285 Galgeberg"
      }
     },
     "74fec653a36c4a82a7cdef6b1fd55b1d": {
      "model_module": "@jupyter-widgets/base",
      "model_module_version": "1.2.0",
      "model_name": "LayoutModel",
      "state": {}
     },
     "75d22e46cfe04b3b897452528ee1cc93": {
      "model_module": "@jupyter-widgets/controls",
      "model_module_version": "1.5.0",
      "model_name": "HTMLModel",
      "state": {
       "layout": "IPY_MODEL_c005ecad597e4e208c6b53d460a5ee97",
       "style": "IPY_MODEL_3a8fe65a038349edb80baec64436ca1a",
       "value": "174 Frogner Tennisklubb<br/>2.52 km to center"
      }
     },
     "76a3d18ee80d4cb48989903e78fa528c": {
      "model_module": "@jupyter-widgets/controls",
      "model_module_version": "1.5.0",
      "model_name": "HTMLModel",
      "state": {
       "layout": "IPY_MODEL_a06db8ac818b4db88e4a4d148bad49a1",
       "style": "IPY_MODEL_28341a36c7a2437fad5db45eda42c5d3",
       "value": "283 Marienlyst<br/>2.58 km to center"
      }
     },
     "76b3fe3862c4446a83aea019b2cefba5": {
      "model_module": "@jupyter-widgets/controls",
      "model_module_version": "1.5.0",
      "model_name": "DescriptionStyleModel",
      "state": {
       "description_width": ""
      }
     },
     "76fcff97ad9341d8847e90a1a8aa4c06": {
      "model_module": "@jupyter-widgets/controls",
      "model_module_version": "1.5.0",
      "model_name": "HTMLModel",
      "state": {
       "layout": "IPY_MODEL_2f571da2948e4d67ad496c16324ff461",
       "style": "IPY_MODEL_59d4515bf42d48a0bd07b54bb62d2e03",
       "value": "191 Jakob kirke<br/>0.76 km to center"
      }
     },
     "778c6ea8b3784d4e8a3d05459b4f71a6": {
      "model_module": "@jupyter-widgets/controls",
      "model_module_version": "1.5.0",
      "model_name": "HTMLModel",
      "state": {
       "layout": "IPY_MODEL_bcacac811301480995d7b6e4a2815530",
       "style": "IPY_MODEL_f2f04e9b0802496687111ef86fac7929",
       "value": "260 Frognerstranda<br/>2.30 km to center"
      }
     },
     "788e777d1be5448c86948c0adfca8275": {
      "model_module": "@jupyter-widgets/base",
      "model_module_version": "1.2.0",
      "model_name": "LayoutModel",
      "state": {}
     },
     "797b5de1ab264ff7b1804d8d372f75ee": {
      "model_module": "@jupyter-widgets/controls",
      "model_module_version": "1.5.0",
      "model_name": "DescriptionStyleModel",
      "state": {
       "description_width": ""
      }
     },
     "79827be017bb4772ba0183372071903b": {
      "model_module": "jupyter-leaflet",
      "model_module_version": "^0.13.2",
      "model_name": "LeafletMapStyleModel",
      "state": {
       "_model_module_version": "^0.13.2"
      }
     },
     "79d185c1dfa64f13b84266dbbde37cee": {
      "model_module": "jupyter-leaflet",
      "model_module_version": "^0.13.2",
      "model_name": "LeafletMarkerModel",
      "state": {
       "_model_module_version": "^0.13.2",
       "_view_module_version": "^0.13.2",
       "location": [
        59.935065,
        10.769251
       ],
       "options": [
        "alt",
        "draggable",
        "keyboard",
        "rise_offset",
        "rise_on_hover",
        "rotation_angle",
        "rotation_origin",
        "title",
        "z_index_offset"
       ],
       "popup": "IPY_MODEL_e5a5ae5a09bf42fdb368bd311270fc9d",
       "title": "213 Torshovparken vest"
      }
     },
     "79e2a6a6e3bf4ca389adf301c9888d3f": {
      "model_module": "@jupyter-widgets/controls",
      "model_module_version": "1.5.0",
      "model_name": "HTMLModel",
      "state": {
       "layout": "IPY_MODEL_0032795e118d44a4b416c8cd62869647",
       "style": "IPY_MODEL_3ca5410e4d664d18bf3d3150feb4c72b",
       "value": "245 Kværnerbyen<br/>2.42 km to center"
      }
     },
     "7a03150f313941e3a47df1ba29329a96": {
      "model_module": "@jupyter-widgets/controls",
      "model_module_version": "1.5.0",
      "model_name": "DescriptionStyleModel",
      "state": {
       "description_width": ""
      }
     },
     "7a989a7e65604300985fd1a36083fc78": {
      "model_module": "@jupyter-widgets/controls",
      "model_module_version": "1.5.0",
      "model_name": "DescriptionStyleModel",
      "state": {
       "description_width": ""
      }
     },
     "7b724740303d4156945318a1af6f0b2c": {
      "model_module": "@jupyter-widgets/base",
      "model_module_version": "1.2.0",
      "model_name": "LayoutModel",
      "state": {}
     },
     "7b8185127b534984bffdb7b11c274a8d": {
      "model_module": "jupyter-leaflet",
      "model_module_version": "^0.13.2",
      "model_name": "LeafletMarkerModel",
      "state": {
       "_model_module_version": "^0.13.2",
       "_view_module_version": "^0.13.2",
       "location": [
        59.927382,
        10.710373
       ],
       "options": [
        "alt",
        "draggable",
        "keyboard",
        "rise_offset",
        "rise_on_hover",
        "rotation_angle",
        "rotation_origin",
        "title",
        "z_index_offset"
       ],
       "popup": "IPY_MODEL_3a94ee550295499f9b9d67d42f046042",
       "title": "254 Frogner Stadion"
      }
     },
     "7bc8953f06c34901900728b04278d475": {
      "model_module": "@jupyter-widgets/controls",
      "model_module_version": "1.5.0",
      "model_name": "DescriptionStyleModel",
      "state": {
       "description_width": ""
      }
     },
     "7bf6b04f070e4c5ea435a82d2b492ce9": {
      "model_module": "jupyter-leaflet",
      "model_module_version": "^0.13.2",
      "model_name": "LeafletMarkerModel",
      "state": {
       "_model_module_version": "^0.13.2",
       "_view_module_version": "^0.13.2",
       "location": [
        59.920352,
        10.683687
       ],
       "options": [
        "alt",
        "draggable",
        "keyboard",
        "rise_offset",
        "rise_on_hover",
        "rotation_angle",
        "rotation_origin",
        "title",
        "z_index_offset"
       ],
       "popup": "IPY_MODEL_f15d527d894041618cc1967770c98f06",
       "title": "293 Karenlyst allé"
      }
     },
     "7cd893a4089c43b0a0ea9cd0598698fd": {
      "model_module": "@jupyter-widgets/controls",
      "model_module_version": "1.5.0",
      "model_name": "HTMLModel",
      "state": {
       "layout": "IPY_MODEL_5e529168c1ae464a9eefaac05c2c090b",
       "style": "IPY_MODEL_e90ee7054a1d470db875819b29179d6c",
       "value": "237 Lilleborgbanen<br/>2.66 km to center"
      }
     },
     "7d1b381ed45642b69a17d5c49a7cfeaf": {
      "model_module": "@jupyter-widgets/base",
      "model_module_version": "1.2.0",
      "model_name": "LayoutModel",
      "state": {}
     },
     "7d4418680f7c4fa8a2ed284270b16119": {
      "model_module": "jupyter-leaflet",
      "model_module_version": "^0.13.2",
      "model_name": "LeafletAttributionControlModel",
      "state": {
       "_model_module_version": "^0.13.2",
       "_view_module_version": "^0.13.2",
       "options": [
        "position",
        "prefix"
       ],
       "position": "bottomright",
       "prefix": "ipyleaflet"
      }
     },
     "7e929c5a9cdb4d1d8295c4c67a743ce4": {
      "model_module": "jupyter-leaflet",
      "model_module_version": "^0.13.2",
      "model_name": "LeafletMarkerModel",
      "state": {
       "_model_module_version": "^0.13.2",
       "_view_module_version": "^0.13.2",
       "location": [
        59.926631,
        10.716158
       ],
       "options": [
        "alt",
        "draggable",
        "keyboard",
        "rise_offset",
        "rise_on_hover",
        "rotation_angle",
        "rotation_origin",
        "title",
        "z_index_offset"
       ],
       "popup": "IPY_MODEL_ab61d3b03ffc421f9e0075d687f937c3",
       "title": "298 Majorstuveien"
      }
     },
     "7f768fc9a71741a88cb709c0b996d9c8": {
      "model_module": "@jupyter-widgets/controls",
      "model_module_version": "1.5.0",
      "model_name": "HTMLModel",
      "state": {
       "layout": "IPY_MODEL_f28f1714671d439cb677ebe2da4833a2",
       "style": "IPY_MODEL_addd8689ce7e4983b53c223104f3fea8",
       "value": "183 Storo Storsenter<br/>4.09 km to center"
      }
     },
     "7f89c580bef948a99cd192607e51dfdf": {
      "model_module": "@jupyter-widgets/controls",
      "model_module_version": "1.5.0",
      "model_name": "DescriptionStyleModel",
      "state": {
       "description_width": ""
      }
     },
     "801ef884189f4eeea83691ba48143e66": {
      "model_module": "@jupyter-widgets/controls",
      "model_module_version": "1.5.0",
      "model_name": "HTMLModel",
      "state": {
       "layout": "IPY_MODEL_6e432e29f2694a81a2af2e41f97d5f8c",
       "style": "IPY_MODEL_a5080f04ee934f9f89989147b995a652",
       "value": "238 Tinghuset<br/>0.44 km to center"
      }
     },
     "8083a102b9074636870ebba30af590b1": {
      "model_module": "jupyter-leaflet",
      "model_module_version": "^0.13.2",
      "model_name": "LeafletMarkerModel",
      "state": {
       "_model_module_version": "^0.13.2",
       "_view_module_version": "^0.13.2",
       "location": [
        59.921637,
        10.676712
       ],
       "options": [
        "alt",
        "draggable",
        "keyboard",
        "rise_offset",
        "rise_on_hover",
        "rotation_angle",
        "rotation_origin",
        "title",
        "z_index_offset"
       ],
       "popup": "IPY_MODEL_1dcc4eaa100d46a2a31f855cef2a640e",
       "title": "252 Skøyen"
      }
     },
     "80b881761d954f18b076b3596b7501bb": {
      "model_module": "@jupyter-widgets/controls",
      "model_module_version": "1.5.0",
      "model_name": "HTMLModel",
      "state": {
       "layout": "IPY_MODEL_bb11dde853884f708324763c12807ebf",
       "style": "IPY_MODEL_34e384e6ba9d493dac34ff52c490d59e",
       "value": "291 St. Hanshaugen park nord<br/>1.91 km to center"
      }
     },
     "81ba25e530884bd2bfaafe4ff552df7f": {
      "model_module": "jupyter-leaflet",
      "model_module_version": "^0.13.2",
      "model_name": "LeafletAttributionControlModel",
      "state": {
       "_model_module_version": "^0.13.2",
       "_view_module_version": "^0.13.2",
       "options": [
        "position",
        "prefix"
       ],
       "position": "bottomright",
       "prefix": "ipyleaflet"
      }
     },
     "825b790a4b6a46718da6d52787656528": {
      "model_module": "jupyter-leaflet",
      "model_module_version": "^0.13.2",
      "model_name": "LeafletMarkerModel",
      "state": {
       "_model_module_version": "^0.13.2",
       "_view_module_version": "^0.13.2",
       "location": [
        59.91562,
        10.762248
       ],
       "options": [
        "alt",
        "draggable",
        "keyboard",
        "rise_offset",
        "rise_on_hover",
        "rotation_angle",
        "rotation_origin",
        "title",
        "z_index_offset"
       ],
       "popup": "IPY_MODEL_18e6bef15331490a86b1301442e8ef07",
       "title": "157 Nylandsveien"
      }
     },
     "82a507f49333423f83e3a56630869909": {
      "model_module": "@jupyter-widgets/base",
      "model_module_version": "1.2.0",
      "model_name": "LayoutModel",
      "state": {}
     },
     "831d66a5dde648c3a91d7d6696cca947": {
      "model_module": "@jupyter-widgets/controls",
      "model_module_version": "1.5.0",
      "model_name": "HTMLModel",
      "state": {
       "layout": "IPY_MODEL_2323c28b5e0d46649427d6b218a42644",
       "style": "IPY_MODEL_999ab27da6874cfc8a8b79591ed3e434",
       "value": "179 Carl Berners plass\n sør<br/>2.16 km to center"
      }
     },
     "83ca458fdeb74bbc9267666dc308f813": {
      "model_module": "@jupyter-widgets/controls",
      "model_module_version": "1.5.0",
      "model_name": "DescriptionStyleModel",
      "state": {
       "description_width": ""
      }
     },
     "84455ba142b04762a88724ad304c250d": {
      "model_module": "@jupyter-widgets/controls",
      "model_module_version": "1.5.0",
      "model_name": "DescriptionStyleModel",
      "state": {
       "description_width": ""
      }
     },
     "84463714e6484ed5b0ef4296f8ac34bf": {
      "model_module": "@jupyter-widgets/controls",
      "model_module_version": "1.5.0",
      "model_name": "HTMLModel",
      "state": {
       "layout": "IPY_MODEL_4e02485e9e9f47fe91814222613bb21b",
       "style": "IPY_MODEL_502f6ab5c763421eabde842e42b0d821",
       "value": "231 BI Nydalen<br/>4.25 km to center"
      }
     },
     "84fad0b0836e4b38bc5fdfcf84c15a6d": {
      "model_module": "@jupyter-widgets/controls",
      "model_module_version": "1.5.0",
      "model_name": "HTMLModel",
      "state": {
       "layout": "IPY_MODEL_6254e66541cd4348a29cf55e5a161b71",
       "style": "IPY_MODEL_f150a714987b41d7a6e7f1c6d697e809",
       "value": "265 Carl Berners plass nord<br/>2.34 km to center"
      }
     },
     "86d1eadfbd094899a8fa038afaa90ba3": {
      "model_module": "@jupyter-widgets/controls",
      "model_module_version": "1.5.0",
      "model_name": "DescriptionStyleModel",
      "state": {
       "description_width": ""
      }
     },
     "87d64fc39f494fe7a85464bd2ef0f3ed": {
      "model_module": "jupyter-leaflet",
      "model_module_version": "^0.13.2",
      "model_name": "LeafletMarkerModel",
      "state": {
       "_model_module_version": "^0.13.2",
       "_view_module_version": "^0.13.2",
       "location": [
        59.920565,
        10.734274
       ],
       "options": [
        "alt",
        "draggable",
        "keyboard",
        "rise_offset",
        "rise_on_hover",
        "rotation_angle",
        "rotation_origin",
        "title",
        "z_index_offset"
       ],
       "popup": "IPY_MODEL_931ce1ef8c5f41a5ab862c1f9db00134",
       "title": "167 Pilestredet Park Studenthus"
      }
     },
     "88ab8770df7942bea4adece72cb8eaa6": {
      "model_module": "@jupyter-widgets/base",
      "model_module_version": "1.2.0",
      "model_name": "LayoutModel",
      "state": {}
     },
     "8ba0160fe666490699d8eb3031f7756f": {
      "model_module": "@jupyter-widgets/base",
      "model_module_version": "1.2.0",
      "model_name": "LayoutModel",
      "state": {}
     },
     "8ba399721992472fb74d0ba35c25756a": {
      "model_module": "@jupyter-widgets/controls",
      "model_module_version": "1.5.0",
      "model_name": "HTMLModel",
      "state": {
       "layout": "IPY_MODEL_5f62a9067f084a279e6b78f56aac3911",
       "style": "IPY_MODEL_ac4391119eb74ac8a97b4044dd26fa51",
       "value": "285 Galgeberg<br/>1.95 km to center"
      }
     },
     "8e27a2563cf5437aa5b6c61f08a7e306": {
      "model_module": "jupyter-leaflet",
      "model_module_version": "^0.13.2",
      "model_name": "LeafletMarkerModel",
      "state": {
       "_model_module_version": "^0.13.2",
       "_view_module_version": "^0.13.2",
       "location": [
        59.924729,
        10.724579
       ],
       "options": [
        "alt",
        "draggable",
        "keyboard",
        "rise_offset",
        "rise_on_hover",
        "rotation_angle",
        "rotation_origin",
        "title",
        "z_index_offset"
       ],
       "popup": "IPY_MODEL_c2c48b21485f4e63b3d035c9d9981069",
       "title": "169 Bogstadveien"
      }
     },
     "8e84342697234b8098bce57d5af3b2fc": {
      "model_module": "@jupyter-widgets/controls",
      "model_module_version": "1.5.0",
      "model_name": "DescriptionStyleModel",
      "state": {
       "description_width": ""
      }
     },
     "8ec3132d83e64c51856b2deb5bdde0d9": {
      "model_module": "jupyter-leaflet",
      "model_module_version": "^0.13.2",
      "model_name": "LeafletMarkerModel",
      "state": {
       "_model_module_version": "^0.13.2",
       "_view_module_version": "^0.13.2",
       "location": [
        59.91033,
        10.705145
       ],
       "options": [
        "alt",
        "draggable",
        "keyboard",
        "rise_offset",
        "rise_on_hover",
        "rotation_angle",
        "rotation_origin",
        "title",
        "z_index_offset"
       ],
       "popup": "IPY_MODEL_778c6ea8b3784d4e8a3d05459b4f71a6",
       "title": "260 Frognerstranda"
      }
     },
     "8efc88c970dc4190a1840f69123a73bd": {
      "model_module": "jupyter-leaflet",
      "model_module_version": "^0.13.2",
      "model_name": "LeafletMarkerModel",
      "state": {
       "_model_module_version": "^0.13.2",
       "_view_module_version": "^0.13.2",
       "location": [
        59.939228,
        10.75917
       ],
       "options": [
        "alt",
        "draggable",
        "keyboard",
        "rise_offset",
        "rise_on_hover",
        "rotation_angle",
        "rotation_origin",
        "title",
        "z_index_offset"
       ],
       "popup": "IPY_MODEL_5d604da98b1e498fad7f5bab0744a9a3",
       "title": "158 Bentsebrugata"
      }
     },
     "8fc56a8958d74d71a229fe043103f1dc": {
      "model_module": "@jupyter-widgets/controls",
      "model_module_version": "1.5.0",
      "model_name": "DescriptionStyleModel",
      "state": {
       "description_width": ""
      }
     },
     "8fd2ec6fd01f44e7952e2d637d3c1578": {
      "model_module": "@jupyter-widgets/base",
      "model_module_version": "1.2.0",
      "model_name": "LayoutModel",
      "state": {}
     },
     "902ad8dfd87b487fb892801bda7b6af4": {
      "model_module": "jupyter-leaflet",
      "model_module_version": "^0.13.2",
      "model_name": "LeafletMarkerModel",
      "state": {
       "_model_module_version": "^0.13.2",
       "_view_module_version": "^0.13.2",
       "location": [
        59.928732,
        10.767522
       ],
       "options": [
        "alt",
        "draggable",
        "keyboard",
        "rise_offset",
        "rise_on_hover",
        "rotation_angle",
        "rotation_origin",
        "title",
        "z_index_offset"
       ],
       "popup": "IPY_MODEL_f88788a02b3b49dc933fb3cfaa5a5690",
       "title": "271 Fagerheimgata"
      }
     },
     "9116de77de6740cc9bdf0b179b2c538a": {
      "model_module": "@jupyter-widgets/base",
      "model_module_version": "1.2.0",
      "model_name": "LayoutModel",
      "state": {}
     },
     "9124459be4614310803c278f793d8610": {
      "model_module": "jupyter-leaflet",
      "model_module_version": "^0.13.2",
      "model_name": "LeafletMarkerModel",
      "state": {
       "_model_module_version": "^0.13.2",
       "_view_module_version": "^0.13.2",
       "location": [
        59.93536,
        10.726488
       ],
       "options": [
        "alt",
        "draggable",
        "keyboard",
        "rise_offset",
        "rise_on_hover",
        "rotation_angle",
        "rotation_origin",
        "title",
        "z_index_offset"
       ],
       "popup": "IPY_MODEL_1fdd6b98c0994789a6b7d2567669d634",
       "title": "184 Det Teologiske fakultet"
      }
     },
     "914aab781156465ea9bf91e67a2cb958": {
      "model_module": "jupyter-leaflet",
      "model_module_version": "^0.13.2",
      "model_name": "LeafletMarkerModel",
      "state": {
       "_model_module_version": "^0.13.2",
       "_view_module_version": "^0.13.2",
       "location": [
        59.91953,
        10.743836
       ],
       "options": [
        "alt",
        "draggable",
        "keyboard",
        "rise_offset",
        "rise_on_hover",
        "rotation_angle",
        "rotation_origin",
        "title",
        "z_index_offset"
       ],
       "popup": "IPY_MODEL_951dcbdac4bd4973a5bd41b2252d67e6",
       "title": "164 Vår Frelsers gravlund sør"
      }
     },
     "921900ff4d4f4e1f969d76dd55547357": {
      "model_module": "jupyter-leaflet",
      "model_module_version": "^0.13.2",
      "model_name": "LeafletMarkerModel",
      "state": {
       "_model_module_version": "^0.13.2",
       "_view_module_version": "^0.13.2",
       "location": [
        59.913731,
        10.736032
       ],
       "options": [
        "alt",
        "draggable",
        "keyboard",
        "rise_offset",
        "rise_on_hover",
        "rotation_angle",
        "rotation_origin",
        "title",
        "z_index_offset"
       ],
       "popup": "IPY_MODEL_24dcbab2c5bc45428f0ac5c8b8f20286",
       "title": "234 Spikersuppa Vest"
      }
     },
     "926cfecf2ae6498e81f9ebc52f20f6fc": {
      "model_module": "@jupyter-widgets/controls",
      "model_module_version": "1.5.0",
      "model_name": "DescriptionStyleModel",
      "state": {
       "description_width": ""
      }
     },
     "931ce1ef8c5f41a5ab862c1f9db00134": {
      "model_module": "@jupyter-widgets/controls",
      "model_module_version": "1.5.0",
      "model_name": "HTMLModel",
      "state": {
       "layout": "IPY_MODEL_4a6d9543abe347d6968ae26b013b50ae",
       "style": "IPY_MODEL_d8bb8dc56d7e48a2b011acf4f5c90a35",
       "value": "167 Pilestredet Park Studenthus<br/>1.10 km to center"
      }
     },
     "933d72674e5847529dac54d3d1f3726f": {
      "model_module": "@jupyter-widgets/controls",
      "model_module_version": "1.5.0",
      "model_name": "DescriptionStyleModel",
      "state": {
       "description_width": ""
      }
     },
     "93cdef73f2bb4949b83bd5f87cde6a91": {
      "model_module": "@jupyter-widgets/controls",
      "model_module_version": "1.5.0",
      "model_name": "HTMLModel",
      "state": {
       "layout": "IPY_MODEL_245d9d05d235483e98704d36ca1b9715",
       "style": "IPY_MODEL_5ba45fe8a92d42ed81c1694c9fd4269f",
       "value": "277 Helga Helgesens plass<br/>1.12 km to center"
      }
     },
     "940cc985fc984cb98553846c3d015ab3": {
      "model_module": "jupyter-leaflet",
      "model_module_version": "^0.13.2",
      "model_name": "LeafletMarkerModel",
      "state": {
       "_model_module_version": "^0.13.2",
       "_view_module_version": "^0.13.2",
       "location": [
        59.92805,
        10.751203
       ],
       "options": [
        "alt",
        "draggable",
        "keyboard",
        "rise_offset",
        "rise_on_hover",
        "rotation_angle",
        "rotation_origin",
        "title",
        "z_index_offset"
       ],
       "popup": "IPY_MODEL_5c47af0d33be46da805026bcd76eba00",
       "title": "233 Alexander Kiellands Plass"
      }
     },
     "951dcbdac4bd4973a5bd41b2252d67e6": {
      "model_module": "@jupyter-widgets/controls",
      "model_module_version": "1.5.0",
      "model_name": "HTMLModel",
      "state": {
       "layout": "IPY_MODEL_788e777d1be5448c86948c0adfca8275",
       "style": "IPY_MODEL_f51b105cc4e647eb9e6b9229dc893a48",
       "value": "164 Vår Frelsers gravlund sør<br/>0.7698739450989045km to center"
      }
     },
     "965e20114d6e421da3303cb2c2fcdc8b": {
      "model_module": "jupyter-leaflet",
      "model_module_version": "^0.13.2",
      "model_name": "LeafletMarkerModel",
      "state": {
       "_model_module_version": "^0.13.2",
       "_view_module_version": "^0.13.2",
       "location": [
        59.904068,
        10.741193
       ],
       "options": [
        "alt",
        "draggable",
        "keyboard",
        "rise_offset",
        "rise_on_hover",
        "rotation_angle",
        "rotation_origin",
        "title",
        "z_index_offset"
       ],
       "popup": "IPY_MODEL_b6aa078c72e34ffe926a69b6e34b895c",
       "title": "249 Vippetangen øst"
      }
     },
     "9800888ef24a4f96a8dedfd7a3186d9b": {
      "model_module": "@jupyter-widgets/base",
      "model_module_version": "1.2.0",
      "model_name": "LayoutModel",
      "state": {}
     },
     "9813f3503352453cbc309d38923035e1": {
      "model_module": "jupyter-leaflet",
      "model_module_version": "^0.13.2",
      "model_name": "LeafletMarkerModel",
      "state": {
       "_model_module_version": "^0.13.2",
       "_view_module_version": "^0.13.2",
       "location": [
        59.916847,
        10.758148
       ],
       "options": [
        "alt",
        "draggable",
        "keyboard",
        "rise_offset",
        "rise_on_hover",
        "rotation_angle",
        "rotation_origin",
        "title",
        "z_index_offset"
       ],
       "popup": "IPY_MODEL_d8b11d4b69b44da29499282fae10ce84",
       "title": "173 Legevakten"
      }
     },
     "9908b9e252014061a43c4d9e25a2df94": {
      "model_module": "@jupyter-widgets/base",
      "model_module_version": "1.2.0",
      "model_name": "LayoutModel",
      "state": {}
     },
     "9930159aa481489cb68b1d5e379230e3": {
      "model_module": "jupyter-leaflet",
      "model_module_version": "^0.13.2",
      "model_name": "LeafletZoomControlModel",
      "state": {
       "_model_module_version": "^0.13.2",
       "_view_module_version": "^0.13.2",
       "options": [
        "position",
        "zoom_in_text",
        "zoom_in_title",
        "zoom_out_text",
        "zoom_out_title"
       ]
      }
     },
     "999ab27da6874cfc8a8b79591ed3e434": {
      "model_module": "@jupyter-widgets/controls",
      "model_module_version": "1.5.0",
      "model_name": "DescriptionStyleModel",
      "state": {
       "description_width": ""
      }
     },
     "99c7a99e3b5c46f79ff69a42d421086b": {
      "model_module": "jupyter-leaflet",
      "model_module_version": "^0.13.2",
      "model_name": "LeafletMarkerModel",
      "state": {
       "_model_module_version": "^0.13.2",
       "_view_module_version": "^0.13.2",
       "location": [
        59.919343,
        10.696888
       ],
       "options": [
        "alt",
        "draggable",
        "keyboard",
        "rise_offset",
        "rise_on_hover",
        "rotation_angle",
        "rotation_origin",
        "title",
        "z_index_offset"
       ],
       "popup": "IPY_MODEL_c20a819451d448ad92a1dd6ad324a812",
       "title": "240 Olav Kyrres plass"
      }
     },
     "99d581000909481f9b504c89a56351fa": {
      "model_module": "@jupyter-widgets/controls",
      "model_module_version": "1.5.0",
      "model_name": "HTMLModel",
      "state": {
       "layout": "IPY_MODEL_42d411203f214e2fb5891bf573065d31",
       "style": "IPY_MODEL_3c4a31a1aeaf4041ba3b6714fa5fb4f7",
       "value": "268 Stensparken<br/>1.82 km to center"
      }
     },
     "9a0fff79c3984039863c8414df36092f": {
      "model_module": "jupyter-leaflet",
      "model_module_version": "^0.13.2",
      "model_name": "LeafletTileLayerModel",
      "state": {
       "_model_module_version": "^0.13.2",
       "_view_module_version": "^0.13.2",
       "base": true,
       "max_native_zoom": 18,
       "max_zoom": 19,
       "min_native_zoom": 0,
       "min_zoom": 1,
       "options": [
        "attribution",
        "detect_retina",
        "max_native_zoom",
        "max_zoom",
        "min_native_zoom",
        "min_zoom",
        "no_wrap",
        "tile_size",
        "tms"
       ]
      }
     },
     "9a2fd5b337b5448283690d350d17b68d": {
      "model_module": "@jupyter-widgets/controls",
      "model_module_version": "1.5.0",
      "model_name": "HTMLModel",
      "state": {
       "layout": "IPY_MODEL_6e2c1b6c7459409c95276648c71b1d18",
       "style": "IPY_MODEL_ffbcaa2fc3e44c83b6c2e3c117311187",
       "value": "235 Vulkan<br/>1.12 km to center"
      }
     },
     "9a30e90079a64883b2e8de418303cdcf": {
      "model_module": "jupyter-leaflet",
      "model_module_version": "^0.13.2",
      "model_name": "LeafletMarkerModel",
      "state": {
       "_model_module_version": "^0.13.2",
       "_view_module_version": "^0.13.2",
       "location": [
        59.928912,
        10.767179
       ],
       "options": [
        "alt",
        "draggable",
        "keyboard",
        "rise_offset",
        "rise_on_hover",
        "rotation_angle",
        "rotation_origin",
        "title",
        "z_index_offset"
       ],
       "popup": "IPY_MODEL_48b1296256124a15bfa52e86ab94b49a",
       "title": "172 Dælenenggata"
      }
     },
     "9a3625607364446c92ebdac9ce95789e": {
      "model_module": "@jupyter-widgets/controls",
      "model_module_version": "1.5.0",
      "model_name": "DescriptionStyleModel",
      "state": {
       "description_width": ""
      }
     },
     "9a4954a1bacf439ca880128db902fb2e": {
      "model_module": "@jupyter-widgets/controls",
      "model_module_version": "1.5.0",
      "model_name": "DescriptionStyleModel",
      "state": {
       "description_width": ""
      }
     },
     "9a716997d0144627b05a3333a14ccd92": {
      "model_module": "jupyter-leaflet",
      "model_module_version": "^0.13.2",
      "model_name": "LeafletMarkerModel",
      "state": {
       "_model_module_version": "^0.13.2",
       "_view_module_version": "^0.13.2",
       "location": [
        59.913409,
        10.75737
       ],
       "options": [
        "alt",
        "draggable",
        "keyboard",
        "rise_offset",
        "rise_on_hover",
        "rotation_angle",
        "rotation_origin",
        "title",
        "z_index_offset"
       ],
       "popup": "IPY_MODEL_473852e9a7d948a0a332293922ae968a",
       "title": "163 Vaterlandsparken"
      }
     },
     "9b837a38b0564f8f98fe4fe0a29c27e6": {
      "model_module": "jupyter-leaflet",
      "model_module_version": "^0.13.2",
      "model_name": "LeafletTileLayerModel",
      "state": {
       "_model_module_version": "^0.13.2",
       "_view_module_version": "^0.13.2",
       "base": true,
       "max_native_zoom": 18,
       "max_zoom": 19,
       "min_native_zoom": 0,
       "min_zoom": 1,
       "options": [
        "attribution",
        "detect_retina",
        "max_native_zoom",
        "max_zoom",
        "min_native_zoom",
        "min_zoom",
        "no_wrap",
        "tile_size",
        "tms"
       ]
      }
     },
     "9c32c6e847454e4aa6f187c845498289": {
      "model_module": "@jupyter-widgets/controls",
      "model_module_version": "1.5.0",
      "model_name": "HTMLModel",
      "state": {
       "layout": "IPY_MODEL_090f1fbbb5234c88a6fa4c6785f7ef1c",
       "style": "IPY_MODEL_af245a4c79f14d2f8f0e239c522832af",
       "value": "222 Olaf Ryes plass<br/>1.27 km to center"
      }
     },
     "9ce03ab7e68341f2a4df761f03735909": {
      "model_module": "jupyter-leaflet",
      "model_module_version": "^0.13.2",
      "model_name": "LeafletMarkerModel",
      "state": {
       "_model_module_version": "^0.13.2",
       "_view_module_version": "^0.13.2",
       "location": [
        59.925065,
        10.775981
       ],
       "options": [
        "alt",
        "draggable",
        "keyboard",
        "rise_offset",
        "rise_on_hover",
        "rotation_angle",
        "rotation_origin",
        "title",
        "z_index_offset"
       ],
       "popup": "IPY_MODEL_831d66a5dde648c3a91d7d6696cca947",
       "title": "179 Carl Berners plass\n sør"
      }
     },
     "9d2768b675544c03800922130e1159fe": {
      "model_module": "@jupyter-widgets/base",
      "model_module_version": "1.2.0",
      "model_name": "LayoutModel",
      "state": {}
     },
     "9d91eca9475a4ba3aa239737ef3fb3e5": {
      "model_module": "jupyter-leaflet",
      "model_module_version": "^0.13.2",
      "model_name": "LeafletMarkerModel",
      "state": {
       "_model_module_version": "^0.13.2",
       "_view_module_version": "^0.13.2",
       "location": [
        59.94036,
        10.766125
       ],
       "options": [
        "alt",
        "draggable",
        "keyboard",
        "rise_offset",
        "rise_on_hover",
        "rotation_angle",
        "rotation_origin",
        "title",
        "z_index_offset"
       ],
       "popup": "IPY_MODEL_a4750bfc6cba46418b5d1a5c3332586a",
       "title": "215 Bjølsendumpa"
      }
     },
     "9e564d51e84244138a2c91a547b1a6f1": {
      "model_module": "@jupyter-widgets/controls",
      "model_module_version": "1.5.0",
      "model_name": "DescriptionStyleModel",
      "state": {
       "description_width": ""
      }
     },
     "9edefe2353094e07a529b579ce7a171b": {
      "model_module": "@jupyter-widgets/base",
      "model_module_version": "1.2.0",
      "model_name": "LayoutModel",
      "state": {}
     },
     "9f7dbe29bcc64ef59194e631c564e708": {
      "model_module": "@jupyter-widgets/base",
      "model_module_version": "1.2.0",
      "model_name": "LayoutModel",
      "state": {}
     },
     "9fa9290629e84265b65bd19ce11c7933": {
      "model_module": "@jupyter-widgets/controls",
      "model_module_version": "1.5.0",
      "model_name": "HTMLModel",
      "state": {
       "layout": "IPY_MODEL_dab1c2b15c9c4c8d89f838fcc4e60aca",
       "style": "IPY_MODEL_275c97abd02448fb9a979e02a804aae7",
       "value": "304 Fysikkbygningen<br/>3.17 km to center"
      }
     },
     "9fe736adffbd482e9f298c7332c7569a": {
      "model_module": "@jupyter-widgets/controls",
      "model_module_version": "1.5.0",
      "model_name": "DescriptionStyleModel",
      "state": {
       "description_width": ""
      }
     },
     "9ff4c2be930d428d9cf5abbf7fb400a9": {
      "model_module": "@jupyter-widgets/controls",
      "model_module_version": "1.5.0",
      "model_name": "HTMLModel",
      "state": {
       "layout": "IPY_MODEL_caf7e7fc188c4add920e5205836ed38c",
       "style": "IPY_MODEL_4911cbe47352488b814e27e0820638df",
       "value": "188 Lodalen busstopp<br/>2.05 km to center"
      }
     },
     "a03963eebccb487e8c4e3c447af96c86": {
      "model_module": "@jupyter-widgets/base",
      "model_module_version": "1.2.0",
      "model_name": "LayoutModel",
      "state": {}
     },
     "a06db8ac818b4db88e4a4d148bad49a1": {
      "model_module": "@jupyter-widgets/base",
      "model_module_version": "1.2.0",
      "model_name": "LayoutModel",
      "state": {}
     },
     "a1176712f97445feae5fff7626b0c60f": {
      "model_module": "jupyter-leaflet",
      "model_module_version": "^0.13.2",
      "model_name": "LeafletMarkerModel",
      "state": {
       "_model_module_version": "^0.13.2",
       "_view_module_version": "^0.13.2",
       "location": [
        59.92841,
        10.759368
       ],
       "options": [
        "alt",
        "draggable",
        "keyboard",
        "rise_offset",
        "rise_on_hover",
        "rotation_angle",
        "rotation_origin",
        "title",
        "z_index_offset"
       ],
       "popup": "IPY_MODEL_0900a2979a244daa8388ff969b466cdf",
       "title": "196 Ringnes Park"
      }
     },
     "a1747c2585c04a9db3f64508b406538f": {
      "model_module": "@jupyter-widgets/controls",
      "model_module_version": "1.5.0",
      "model_name": "HTMLModel",
      "state": {
       "layout": "IPY_MODEL_16dfaf1040d44aa282003074659e1972",
       "style": "IPY_MODEL_bbb6aee88ee4401cafb1726c72949298",
       "value": "305 Georg Morgenstiernes hus<br/>3.19 km to center"
      }
     },
     "a1fac6cca2ff4efda41172794f74d13d": {
      "model_module": "@jupyter-widgets/base",
      "model_module_version": "1.2.0",
      "model_name": "LayoutModel",
      "state": {}
     },
     "a22a66371c9d49a1adb9eeccab9b9ae7": {
      "model_module": "@jupyter-widgets/base",
      "model_module_version": "1.2.0",
      "model_name": "LayoutModel",
      "state": {}
     },
     "a24ad930a57c401e8346a45553bbc0c5": {
      "model_module": "@jupyter-widgets/controls",
      "model_module_version": "1.5.0",
      "model_name": "DescriptionStyleModel",
      "state": {
       "description_width": ""
      }
     },
     "a26ff321d2294a5388f61eb48ddf2e1f": {
      "model_module": "jupyter-leaflet",
      "model_module_version": "^0.13.2",
      "model_name": "LeafletMarkerModel",
      "state": {
       "_model_module_version": "^0.13.2",
       "_view_module_version": "^0.13.2",
       "location": [
        59.930729,
        10.735773
       ],
       "options": [
        "alt",
        "draggable",
        "keyboard",
        "rise_offset",
        "rise_on_hover",
        "rotation_angle",
        "rotation_origin",
        "title",
        "z_index_offset"
       ],
       "popup": "IPY_MODEL_cbef1bb0bf1442d59874f54c89e2416a",
       "title": "273 Sofies gate"
      }
     },
     "a30a7647e2744e18a44a373479150c05": {
      "model_module": "@jupyter-widgets/base",
      "model_module_version": "1.2.0",
      "model_name": "LayoutModel",
      "state": {}
     },
     "a35776a85f3448d9b6bf9d9dde0eb2a3": {
      "model_module": "jupyter-leaflet",
      "model_module_version": "^0.13.2",
      "model_name": "LeafletMarkerModel",
      "state": {
       "_model_module_version": "^0.13.2",
       "_view_module_version": "^0.13.2",
       "location": [
        59.939228,
        10.75917
       ],
       "options": [
        "alt",
        "draggable",
        "keyboard",
        "rise_offset",
        "rise_on_hover",
        "rotation_angle",
        "rotation_origin",
        "title",
        "z_index_offset"
       ],
       "popup": "IPY_MODEL_aade60f99efd4a05ba28641f92eacf24",
       "title": "158 Bentsebrugata"
      }
     },
     "a39d1cae13af4a7d9362077e550f25e4": {
      "model_module": "@jupyter-widgets/controls",
      "model_module_version": "1.5.0",
      "model_name": "DescriptionStyleModel",
      "state": {
       "description_width": ""
      }
     },
     "a42df06af6e54479845f31353b26d7e5": {
      "model_module": "jupyter-leaflet",
      "model_module_version": "^0.13.2",
      "model_name": "LeafletMarkerModel",
      "state": {
       "_model_module_version": "^0.13.2",
       "_view_module_version": "^0.13.2",
       "location": [
        59.922414,
        10.758127
       ],
       "options": [
        "alt",
        "draggable",
        "keyboard",
        "rise_offset",
        "rise_on_hover",
        "rotation_angle",
        "rotation_origin",
        "title",
        "z_index_offset"
       ],
       "popup": "IPY_MODEL_9c32c6e847454e4aa6f187c845498289",
       "title": "222 Olaf Ryes plass"
      }
     },
     "a457bcd680d541c9bd3a856693f2cee1": {
      "model_module": "jupyter-leaflet",
      "model_module_version": "^0.13.2",
      "model_name": "LeafletMarkerModel",
      "state": {
       "_model_module_version": "^0.13.2",
       "_view_module_version": "^0.13.2",
       "location": [
        59.939228,
        10.75917
       ],
       "options": [
        "alt",
        "draggable",
        "keyboard",
        "rise_offset",
        "rise_on_hover",
        "rotation_angle",
        "rotation_origin",
        "title",
        "z_index_offset"
       ],
       "popup": "IPY_MODEL_622f818ae9ac4d058c7e0d46e260522e",
       "title": "158 Bentsebrugata"
      }
     },
     "a473c6c70c91403b89a618ae2d072b56": {
      "model_module": "@jupyter-widgets/controls",
      "model_module_version": "1.5.0",
      "model_name": "HTMLModel",
      "state": {
       "layout": "IPY_MODEL_0790b5fa17f943cb8db49c16594c83e7",
       "style": "IPY_MODEL_e27a5947d2f9413795bfa531e82f5cd1",
       "value": "295 Hausmanns gate<br/>0.75 km to center"
      }
     },
     "a4750bfc6cba46418b5d1a5c3332586a": {
      "model_module": "@jupyter-widgets/controls",
      "model_module_version": "1.5.0",
      "model_name": "HTMLModel",
      "state": {
       "layout": "IPY_MODEL_f3b88276c8eb488ebdcad9e5ecf8d921",
       "style": "IPY_MODEL_419480c7f6d645429764b68fda6fda1d",
       "value": "215 Bjølsendumpa<br/>3.27 km to center"
      }
     },
     "a4a74eda539e44aaa4bd87b202b0afc2": {
      "model_module": "@jupyter-widgets/controls",
      "model_module_version": "1.5.0",
      "model_name": "DescriptionStyleModel",
      "state": {
       "description_width": ""
      }
     },
     "a5080f04ee934f9f89989147b995a652": {
      "model_module": "@jupyter-widgets/controls",
      "model_module_version": "1.5.0",
      "model_name": "DescriptionStyleModel",
      "state": {
       "description_width": ""
      }
     },
     "a54b650abde346e6bb4de97a9d4c858e": {
      "model_module": "jupyter-leaflet",
      "model_module_version": "^0.13.2",
      "model_name": "LeafletMarkerModel",
      "state": {
       "_model_module_version": "^0.13.2",
       "_view_module_version": "^0.13.2",
       "location": [
        59.93362,
        10.769118
       ],
       "options": [
        "alt",
        "draggable",
        "keyboard",
        "rise_offset",
        "rise_on_hover",
        "rotation_angle",
        "rotation_origin",
        "title",
        "z_index_offset"
       ],
       "popup": "IPY_MODEL_7cd893a4089c43b0a0ea9cd0598698fd",
       "title": "237 Lilleborgbanen"
      }
     },
     "a5b9d398d9f34c0ba2ee2982aa2f7d4e": {
      "model_module": "jupyter-leaflet",
      "model_module_version": "^0.13.2",
      "model_name": "LeafletMarkerModel",
      "state": {
       "_model_module_version": "^0.13.2",
       "_view_module_version": "^0.13.2",
       "location": [
        59.9119,
        10.749858
       ],
       "options": [
        "alt",
        "draggable",
        "keyboard",
        "rise_offset",
        "rise_on_hover",
        "rotation_angle",
        "rotation_origin",
        "title",
        "z_index_offset"
       ],
       "popup": "IPY_MODEL_ccdd0b04d1dc48fe83d17c1cb9137c96",
       "title": "272 Jernbanetorget"
      }
     },
     "a610b45f642e476cb99a99b557cfdba7": {
      "model_module": "jupyter-leaflet",
      "model_module_version": "^0.13.2",
      "model_name": "LeafletMarkerModel",
      "state": {
       "_model_module_version": "^0.13.2",
       "_view_module_version": "^0.13.2",
       "location": [
        59.938998,
        10.723075
       ],
       "options": [
        "alt",
        "draggable",
        "keyboard",
        "rise_offset",
        "rise_on_hover",
        "rotation_angle",
        "rotation_origin",
        "title",
        "z_index_offset"
       ],
       "popup": "IPY_MODEL_a1747c2585c04a9db3f64508b406538f",
       "title": "305 Georg Morgenstiernes hus"
      }
     },
     "a613d0f8c12344ca8ab9ee6651332606": {
      "model_module": "@jupyter-widgets/base",
      "model_module_version": "1.2.0",
      "model_name": "LayoutModel",
      "state": {}
     },
     "a6856cea0c9e4036a3c0c801a1d21ee9": {
      "model_module": "@jupyter-widgets/controls",
      "model_module_version": "1.5.0",
      "model_name": "HTMLModel",
      "state": {
       "layout": "IPY_MODEL_b98218b010454357b70aa7483ad31444",
       "style": "IPY_MODEL_44c94e51aa444e6292f82ebc4ad9272e",
       "value": "202 Ruseløkka<br/>1.14 km to center"
      }
     },
     "a72030f38c2d4bcb86cba734fdf0670d": {
      "model_module": "jupyter-leaflet",
      "model_module_version": "^0.13.2",
      "model_name": "LeafletMarkerModel",
      "state": {
       "_model_module_version": "^0.13.2",
       "_view_module_version": "^0.13.2",
       "location": [
        59.922327,
        10.761866
       ],
       "options": [
        "alt",
        "draggable",
        "keyboard",
        "rise_offset",
        "rise_on_hover",
        "rotation_angle",
        "rotation_origin",
        "title",
        "z_index_offset"
       ],
       "popup": "IPY_MODEL_dbca5bbfd4eb45339da081e3ca5fb577",
       "title": "246 Sofienbergparken sør"
      }
     },
     "a7a905d823864e9ea884a5909d0a89ab": {
      "model_module": "@jupyter-widgets/controls",
      "model_module_version": "1.5.0",
      "model_name": "HTMLModel",
      "state": {
       "layout": "IPY_MODEL_a03963eebccb487e8c4e3c447af96c86",
       "style": "IPY_MODEL_cf1830020e4a4ed09980ba86f91ca298",
       "value": "205 Norsk Folkemuseum<br/>3.35 km to center"
      }
     },
     "a7e0b63086f94c82be18d7cbf42d242d": {
      "model_module": "@jupyter-widgets/base",
      "model_module_version": "1.2.0",
      "model_name": "LayoutModel",
      "state": {}
     },
     "a7eab0c880384d03bf5b1472cab41e36": {
      "model_module": "jupyter-leaflet",
      "model_module_version": "^0.13.2",
      "model_name": "LeafletMapModel",
      "state": {
       "_model_module_version": "^0.13.2",
       "_view_module_version": "^0.13.2",
       "center": [
        59.91502061827056,
        10.746173858642578
       ],
       "controls": [
        "IPY_MODEL_dfe0f84199494b66ac47caaff2aeae52",
        "IPY_MODEL_317ac57f703545978dc4bbe2dd2c9c30"
       ],
       "default_style": "IPY_MODEL_66ede63927c344f08a33039ab934308a",
       "dragging_style": "IPY_MODEL_ef08cb7a74c4488aba43ed9da7c8d155",
       "east": -180,
       "fullscreen": false,
       "interpolation": "bilinear",
       "layers": [
        "IPY_MODEL_2c49686b80414c3e821fa1b1fff31f80",
        "IPY_MODEL_825b790a4b6a46718da6d52787656528",
        "IPY_MODEL_6b8a1eb9e45641dbb2616b8d911b542b",
        "IPY_MODEL_517561537a84432f896eae6600842048",
        "IPY_MODEL_2efb91dcaa394c9caab694152fa25398",
        "IPY_MODEL_4967aaee85e440a092742ffba2eaaab9",
        "IPY_MODEL_6f8f35aa67b9410996d3c854e2cf489f",
        "IPY_MODEL_9a716997d0144627b05a3333a14ccd92",
        "IPY_MODEL_c2d3278c9f5c430da7a3509a592d1f6c",
        "IPY_MODEL_87d64fc39f494fe7a85464bd2ef0f3ed",
        "IPY_MODEL_2f38e0c25b6f405ba6acabac85226a42"
       ],
       "layout": "IPY_MODEL_e319b415ad16462eaee4c544dbb70a08",
       "modisdate": "yesterday",
       "north": -90,
       "options": [
        "bounce_at_zoom_limits",
        "box_zoom",
        "center",
        "close_popup_on_click",
        "double_click_zoom",
        "dragging",
        "fullscreen",
        "inertia",
        "inertia_deceleration",
        "inertia_max_speed",
        "interpolation",
        "keyboard",
        "keyboard_pan_offset",
        "keyboard_zoom_offset",
        "max_zoom",
        "min_zoom",
        "scroll_wheel_zoom",
        "tap",
        "tap_tolerance",
        "touch_zoom",
        "world_copy_jump",
        "zoom",
        "zoom_animation_threshold",
        "zoom_delta",
        "zoom_snap",
        "zoom_start"
       ],
       "south": 90,
       "style": "IPY_MODEL_66ede63927c344f08a33039ab934308a",
       "west": 180,
       "window_url": "http://localhost:8888/lab",
       "zoom": 13
      }
     },
     "a826fe014e5549d1830401844b98bb6c": {
      "model_module": "@jupyter-widgets/controls",
      "model_module_version": "1.5.0",
      "model_name": "DescriptionStyleModel",
      "state": {
       "description_width": ""
      }
     },
     "a8cbf054dcf24d04954ba0690b6731fa": {
      "model_module": "jupyter-leaflet",
      "model_module_version": "^0.13.2",
      "model_name": "LeafletMarkerModel",
      "state": {
       "_model_module_version": "^0.13.2",
       "_view_module_version": "^0.13.2",
       "location": [
        59.930603,
        10.714784
       ],
       "options": [
        "alt",
        "draggable",
        "keyboard",
        "rise_offset",
        "rise_on_hover",
        "rotation_angle",
        "rotation_origin",
        "title",
        "z_index_offset"
       ],
       "popup": "IPY_MODEL_4f6096ba3ccc4fa897d857f1e6d4f2ad",
       "title": "170 Majorstuen T-bane"
      }
     },
     "a95f6d437f91411e8267087a54b36c9e": {
      "model_module": "@jupyter-widgets/base",
      "model_module_version": "1.2.0",
      "model_name": "LayoutModel",
      "state": {}
     },
     "aa77c99a4dce4eaa92aa6e66328a43e4": {
      "model_module": "@jupyter-widgets/controls",
      "model_module_version": "1.5.0",
      "model_name": "HTMLModel",
      "state": {
       "description": "Some HTML",
       "layout": "IPY_MODEL_40e430d29fca4a7798304f2ee53b49fd",
       "placeholder": "Some HTML",
       "style": "IPY_MODEL_2da90101eae146c5862fb6e186f43d18",
       "value": "Hello <b>World</b>"
      }
     },
     "aab8305952a04cd7aa0d61ad19c03f06": {
      "model_module": "@jupyter-widgets/controls",
      "model_module_version": "1.5.0",
      "model_name": "DescriptionStyleModel",
      "state": {
       "description_width": ""
      }
     },
     "aade60f99efd4a05ba28641f92eacf24": {
      "model_module": "@jupyter-widgets/controls",
      "model_module_version": "1.5.0",
      "model_name": "HTMLModel",
      "state": {
       "layout": "IPY_MODEL_6d6f011b4de74a72a480ab8f3122af4c",
       "style": "IPY_MODEL_fd0990ea221d403690e982dc568eb378",
       "value": "158 Bentsebrugata<br/>3.04km to center"
      }
     },
     "ab61d3b03ffc421f9e0075d687f937c3": {
      "model_module": "@jupyter-widgets/controls",
      "model_module_version": "1.5.0",
      "model_name": "HTMLModel",
      "state": {
       "layout": "IPY_MODEL_a22a66371c9d49a1adb9eeccab9b9ae7",
       "style": "IPY_MODEL_cb4700f809904756934ce44be6c8c647",
       "value": "298 Majorstuveien<br/>2.28 km to center"
      }
     },
     "abf6d89ec5c5467cb0fe4cb11a9315e0": {
      "model_module": "@jupyter-widgets/controls",
      "model_module_version": "1.5.0",
      "model_name": "HTMLModel",
      "state": {
       "layout": "IPY_MODEL_18b0959a74fa48b89077adb9c442706f",
       "style": "IPY_MODEL_1669840468d8422591a37d796fb3d4ae",
       "value": "160 Sjøsiden vest<br/>0.41636048214787863km to center"
      }
     },
     "ac4391119eb74ac8a97b4044dd26fa51": {
      "model_module": "@jupyter-widgets/controls",
      "model_module_version": "1.5.0",
      "model_name": "DescriptionStyleModel",
      "state": {
       "description_width": ""
      }
     },
     "ac74f7e38b754363a0fcdc282e67e5a4": {
      "model_module": "jupyter-leaflet",
      "model_module_version": "^0.13.2",
      "model_name": "LeafletMarkerModel",
      "state": {
       "_model_module_version": "^0.13.2",
       "_view_module_version": "^0.13.2",
       "location": [
        59.912647,
        10.725592
       ],
       "options": [
        "alt",
        "draggable",
        "keyboard",
        "rise_offset",
        "rise_on_hover",
        "rotation_angle",
        "rotation_origin",
        "title",
        "z_index_offset"
       ],
       "popup": "IPY_MODEL_a6856cea0c9e4036a3c0c801a1d21ee9",
       "title": "202 Ruseløkka"
      }
     },
     "ac7de151680c449cbd0a1338a4c2ab16": {
      "model_module": "jupyter-leaflet",
      "model_module_version": "^0.13.2",
      "model_name": "LeafletMarkerModel",
      "state": {
       "_model_module_version": "^0.13.2",
       "_view_module_version": "^0.13.2",
       "location": [
        59.927141,
        10.730917
       ],
       "options": [
        "alt",
        "draggable",
        "keyboard",
        "rise_offset",
        "rise_on_hover",
        "rotation_angle",
        "rotation_origin",
        "title",
        "z_index_offset"
       ],
       "popup": "IPY_MODEL_99d581000909481f9b504c89a56351fa",
       "title": "268 Stensparken"
      }
     },
     "ac9f6a5b711e45ae88bbfb71251a39eb": {
      "model_module": "@jupyter-widgets/base",
      "model_module_version": "1.2.0",
      "model_name": "LayoutModel",
      "state": {}
     },
     "ace8073bb6304249aace63d6ebeceee8": {
      "model_module": "jupyter-leaflet",
      "model_module_version": "^0.13.2",
      "model_name": "LeafletMarkerModel",
      "state": {
       "_model_module_version": "^0.13.2",
       "_view_module_version": "^0.13.2",
       "location": [
        59.919827,
        10.73555
       ],
       "options": [
        "alt",
        "draggable",
        "keyboard",
        "rise_offset",
        "rise_on_hover",
        "rotation_angle",
        "rotation_origin",
        "title",
        "z_index_offset"
       ],
       "popup": "IPY_MODEL_3c341968314a4f9fb48d7a9ef07f9e5f",
       "title": "185 HiOA"
      }
     },
     "acfd9566b6604650aa966dcea1f8f65c": {
      "model_module": "@jupyter-widgets/base",
      "model_module_version": "1.2.0",
      "model_name": "LayoutModel",
      "state": {}
     },
     "ad98fcdef151412d9f2e6398159d637c": {
      "model_module": "@jupyter-widgets/controls",
      "model_module_version": "1.5.0",
      "model_name": "HTMLModel",
      "state": {
       "layout": "IPY_MODEL_c6d5b64090bb47409cc2548ce72ae220",
       "style": "IPY_MODEL_5653b0ace0ce4f42911fc805587c4573",
       "value": "241 Bygdøy allé<br/>3.08 km to center"
      }
     },
     "addd8689ce7e4983b53c223104f3fea8": {
      "model_module": "@jupyter-widgets/controls",
      "model_module_version": "1.5.0",
      "model_name": "DescriptionStyleModel",
      "state": {
       "description_width": ""
      }
     },
     "ae213a8317d34b7bbada675a25e0896e": {
      "model_module": "@jupyter-widgets/controls",
      "model_module_version": "1.5.0",
      "model_name": "HTMLModel",
      "state": {
       "layout": "IPY_MODEL_a1fac6cca2ff4efda41172794f74d13d",
       "style": "IPY_MODEL_6aa5ef65977c4c089647c1329f20f8f0",
       "value": "159 Hans Nielsen Hauges plass<br/>3.34 km to center"
      }
     },
     "aea4b4da653744e5b65db2e44a3ed975": {
      "model_module": "@jupyter-widgets/controls",
      "model_module_version": "1.5.0",
      "model_name": "DescriptionStyleModel",
      "state": {
       "description_width": ""
      }
     },
     "af140e884bdf41cea00c1de26a467506": {
      "model_module": "jupyter-leaflet",
      "model_module_version": "^0.13.2",
      "model_name": "LeafletMarkerModel",
      "state": {
       "_model_module_version": "^0.13.2",
       "_view_module_version": "^0.13.2",
       "location": [
        59.903467,
        10.777866
       ],
       "options": [
        "alt",
        "draggable",
        "keyboard",
        "rise_offset",
        "rise_on_hover",
        "rotation_angle",
        "rotation_origin",
        "title",
        "z_index_offset"
       ],
       "popup": "IPY_MODEL_9ff4c2be930d428d9cf5abbf7fb400a9",
       "title": "188 Lodalen busstopp"
      }
     },
     "af245a4c79f14d2f8f0e239c522832af": {
      "model_module": "@jupyter-widgets/controls",
      "model_module_version": "1.5.0",
      "model_name": "DescriptionStyleModel",
      "state": {
       "description_width": ""
      }
     },
     "afea74218197402a844c1d31d175a106": {
      "model_module": "@jupyter-widgets/controls",
      "model_module_version": "1.5.0",
      "model_name": "DescriptionStyleModel",
      "state": {
       "description_width": ""
      }
     },
     "aff46982bb7b4a40ab6dd731747780f6": {
      "model_module": "jupyter-leaflet",
      "model_module_version": "^0.13.2",
      "model_name": "LeafletAttributionControlModel",
      "state": {
       "_model_module_version": "^0.13.2",
       "_view_module_version": "^0.13.2",
       "options": [
        "position",
        "prefix"
       ],
       "position": "bottomright",
       "prefix": "ipyleaflet"
      }
     },
     "b04180313bc94c178447f1fc6831f847": {
      "model_module": "@jupyter-widgets/base",
      "model_module_version": "1.2.0",
      "model_name": "LayoutModel",
      "state": {}
     },
     "b135cce0a9c44af9bd302d36b214047e": {
      "model_module": "jupyter-leaflet",
      "model_module_version": "^0.13.2",
      "model_name": "LeafletMarkerModel",
      "state": {
       "_model_module_version": "^0.13.2",
       "_view_module_version": "^0.13.2",
       "location": [
        59.926205,
        10.709786
       ],
       "options": [
        "alt",
        "draggable",
        "keyboard",
        "rise_offset",
        "rise_on_hover",
        "rotation_angle",
        "rotation_origin",
        "title",
        "z_index_offset"
       ],
       "popup": "IPY_MODEL_75d22e46cfe04b3b897452528ee1cc93",
       "title": "174 Frogner Tennisklubb"
      }
     },
     "b1f26c0bf1f84d73b07b2be09e0dce55": {
      "model_module": "@jupyter-widgets/controls",
      "model_module_version": "1.5.0",
      "model_name": "DescriptionStyleModel",
      "state": {
       "description_width": ""
      }
     },
     "b225b0ab4e19479892a9a55cfcd484e3": {
      "model_module": "@jupyter-widgets/base",
      "model_module_version": "1.2.0",
      "model_name": "LayoutModel",
      "state": {}
     },
     "b308021cb72c447cbd305b603c6e5673": {
      "model_module": "jupyter-leaflet",
      "model_module_version": "^0.13.2",
      "model_name": "LeafletMapStyleModel",
      "state": {
       "_model_module_version": "^0.13.2"
      }
     },
     "b3da321f085b472da83f08597e2da86b": {
      "model_module": "@jupyter-widgets/controls",
      "model_module_version": "1.5.0",
      "model_name": "DescriptionStyleModel",
      "state": {
       "description_width": ""
      }
     },
     "b3e8e04a8f814c599f2da5d81da542e8": {
      "model_module": "@jupyter-widgets/controls",
      "model_module_version": "1.5.0",
      "model_name": "DescriptionStyleModel",
      "state": {
       "description_width": ""
      }
     },
     "b458138859c54b698d0a4a5f61c7113c": {
      "model_module": "@jupyter-widgets/controls",
      "model_module_version": "1.5.0",
      "model_name": "HTMLModel",
      "state": {
       "layout": "IPY_MODEL_f0700bdca2224a7fbe74eba728563150",
       "style": "IPY_MODEL_9a4954a1bacf439ca880128db902fb2e",
       "value": "181 Kirkeristen<br/>0.05 km to center"
      }
     },
     "b4793727c3284cbcae079bedfce3d649": {
      "model_module": "jupyter-leaflet",
      "model_module_version": "^0.13.2",
      "model_name": "LeafletMarkerModel",
      "state": {
       "_model_module_version": "^0.13.2",
       "_view_module_version": "^0.13.2",
       "location": [
        59.926872,
        10.738456
       ],
       "options": [
        "alt",
        "draggable",
        "keyboard",
        "rise_offset",
        "rise_on_hover",
        "rotation_angle",
        "rotation_origin",
        "title",
        "z_index_offset"
       ],
       "popup": "IPY_MODEL_6b2ec87bb58f4299a42e523bc72f4d4c",
       "title": "161 St. Hanshaugen park vest"
      }
     },
     "b4e0910411ba4d1fae20bd5d54e68868": {
      "model_module": "jupyter-leaflet",
      "model_module_version": "^0.13.2",
      "model_name": "LeafletMarkerModel",
      "state": {
       "_model_module_version": "^0.13.2",
       "_view_module_version": "^0.13.2",
       "location": [
        59.929529,
        10.748988
       ],
       "options": [
        "alt",
        "draggable",
        "keyboard",
        "rise_offset",
        "rise_on_hover",
        "rotation_angle",
        "rotation_origin",
        "title",
        "z_index_offset"
       ],
       "popup": "IPY_MODEL_2fa7fe0e8a6d46d79590d9a836e9d98e",
       "title": "197 Uelands gate"
      }
     },
     "b5198e57a53b443486eb5b9572fd6ac9": {
      "model_module": "jupyter-leaflet",
      "model_module_version": "^0.13.2",
      "model_name": "LeafletMarkerModel",
      "state": {
       "_model_module_version": "^0.13.2",
       "_view_module_version": "^0.13.2",
       "location": [
        59.910287,
        10.750012
       ],
       "options": [
        "alt",
        "draggable",
        "keyboard",
        "rise_offset",
        "rise_on_hover",
        "rotation_angle",
        "rotation_origin",
        "title",
        "z_index_offset"
       ],
       "popup": "IPY_MODEL_36cd7a8908f24f5bbd617d1150e210d5",
       "title": "204 Paléhaven"
      }
     },
     "b5588010d9724a5796edf3540b4b23e0": {
      "model_module": "jupyter-leaflet",
      "model_module_version": "^0.13.2",
      "model_name": "LeafletMarkerModel",
      "state": {
       "_model_module_version": "^0.13.2",
       "_view_module_version": "^0.13.2",
       "location": [
        59.915412,
        10.758343
       ],
       "options": [
        "alt",
        "draggable",
        "keyboard",
        "rise_offset",
        "rise_on_hover",
        "rotation_angle",
        "rotation_origin",
        "title",
        "z_index_offset"
       ],
       "popup": "IPY_MODEL_a473c6c70c91403b89a618ae2d072b56",
       "title": "295 Hausmanns gate"
      }
     },
     "b57f6d8630d6486fb6b89b1b48289c42": {
      "model_module": "@jupyter-widgets/base",
      "model_module_version": "1.2.0",
      "model_name": "LayoutModel",
      "state": {}
     },
     "b64a49ff612140f9959abf35cb0b01b3": {
      "model_module": "@jupyter-widgets/controls",
      "model_module_version": "1.5.0",
      "model_name": "HTMLModel",
      "state": {
       "layout": "IPY_MODEL_9800888ef24a4f96a8dedfd7a3186d9b",
       "style": "IPY_MODEL_e1b73ceb1cb34f528603942bf466f35a",
       "value": "164 Vår Frelsers gravlund sør<br/>0.77km to center"
      }
     },
     "b679737bd31c4da397f18ed118fba7e5": {
      "model_module": "jupyter-leaflet",
      "model_module_version": "^0.13.2",
      "model_name": "LeafletMarkerModel",
      "state": {
       "_model_module_version": "^0.13.2",
       "_view_module_version": "^0.13.2",
       "location": [
        59.922044,
        10.685874
       ],
       "options": [
        "alt",
        "draggable",
        "keyboard",
        "rise_offset",
        "rise_on_hover",
        "rotation_angle",
        "rotation_origin",
        "title",
        "z_index_offset"
       ],
       "popup": "IPY_MODEL_e82823386bad403ab31d77b3362b74d9",
       "title": "230 Thune"
      }
     },
     "b6aa078c72e34ffe926a69b6e34b895c": {
      "model_module": "@jupyter-widgets/controls",
      "model_module_version": "1.5.0",
      "model_name": "HTMLModel",
      "state": {
       "layout": "IPY_MODEL_4820b6b1941d46cead1d44b6c85b0b68",
       "style": "IPY_MODEL_926cfecf2ae6498e81f9ebc52f20f6fc",
       "value": "249 Vippetangen øst<br/>1.00 km to center"
      }
     },
     "b6c0120c8c444e288e4739e6359d2cf7": {
      "model_module": "@jupyter-widgets/base",
      "model_module_version": "1.2.0",
      "model_name": "LayoutModel",
      "state": {}
     },
     "b6c4291ef0494e46af1c7d6e17f9518e": {
      "model_module": "@jupyter-widgets/controls",
      "model_module_version": "1.5.0",
      "model_name": "DescriptionStyleModel",
      "state": {
       "description_width": ""
      }
     },
     "b77a916308524f1e9bd5c133c334e20f": {
      "model_module": "@jupyter-widgets/controls",
      "model_module_version": "1.5.0",
      "model_name": "HTMLModel",
      "state": {
       "layout": "IPY_MODEL_28e443e1d0144536a610e16d70a2fd58",
       "style": "IPY_MODEL_da5309b139dd4a4b9d69773480635b5d",
       "value": "199 Studenterlunden<br/>0.63 km to center"
      }
     },
     "b98218b010454357b70aa7483ad31444": {
      "model_module": "@jupyter-widgets/base",
      "model_module_version": "1.2.0",
      "model_name": "LayoutModel",
      "state": {}
     },
     "ba81d216b498478988803da2f2b1f49c": {
      "model_module": "@jupyter-widgets/controls",
      "model_module_version": "1.5.0",
      "model_name": "DescriptionStyleModel",
      "state": {
       "description_width": ""
      }
     },
     "ba8584a2f4ee4032a21ef516e27f8150": {
      "model_module": "@jupyter-widgets/controls",
      "model_module_version": "1.5.0",
      "model_name": "DescriptionStyleModel",
      "state": {
       "description_width": ""
      }
     },
     "ba8f3800332b4e83999eaff2ad81cd97": {
      "model_module": "jupyter-leaflet",
      "model_module_version": "^0.13.2",
      "model_name": "LeafletMarkerModel",
      "state": {
       "_model_module_version": "^0.13.2",
       "_view_module_version": "^0.13.2",
       "location": [
        59.914052,
        10.751819
       ],
       "options": [
        "alt",
        "draggable",
        "keyboard",
        "rise_offset",
        "rise_on_hover",
        "rotation_angle",
        "rotation_origin",
        "title",
        "z_index_offset"
       ],
       "popup": "IPY_MODEL_dc730c0971d84b8083159911cd5ada96",
       "title": "236 Storgata"
      }
     },
     "bb11dde853884f708324763c12807ebf": {
      "model_module": "@jupyter-widgets/base",
      "model_module_version": "1.2.0",
      "model_name": "LayoutModel",
      "state": {}
     },
     "bb94c61c004646bc84ec4fdef5dc6f43": {
      "model_module": "jupyter-leaflet",
      "model_module_version": "^0.13.2",
      "model_name": "LeafletMarkerModel",
      "state": {
       "_model_module_version": "^0.13.2",
       "_view_module_version": "^0.13.2",
       "location": [
        59.903942,
        10.74055
       ],
       "options": [
        "alt",
        "draggable",
        "keyboard",
        "rise_offset",
        "rise_on_hover",
        "rotation_angle",
        "rotation_origin",
        "title",
        "z_index_offset"
       ],
       "popup": "IPY_MODEL_15479990220144dd91a8f6eb29fcd2d0",
       "title": "278 Vippetangen vest"
      }
     },
     "bbb6aee88ee4401cafb1726c72949298": {
      "model_module": "@jupyter-widgets/controls",
      "model_module_version": "1.5.0",
      "model_name": "DescriptionStyleModel",
      "state": {
       "description_width": ""
      }
     },
     "bc374b38f9e64608b0c3e2032f0e55fa": {
      "model_module": "@jupyter-widgets/controls",
      "model_module_version": "1.5.0",
      "model_name": "HTMLModel",
      "state": {
       "layout": "IPY_MODEL_62ca8e08d6cb4d938b0ec689cdb3441c",
       "style": "IPY_MODEL_e428f176d3e240afb4d70158c7da0f4d",
       "value": "210 Birkelunden<br/>1.65 km to center"
      }
     },
     "bcacac811301480995d7b6e4a2815530": {
      "model_module": "@jupyter-widgets/base",
      "model_module_version": "1.2.0",
      "model_name": "LayoutModel",
      "state": {}
     },
     "bd6da5be5b24463581974ef373a48ffd": {
      "model_module": "@jupyter-widgets/controls",
      "model_module_version": "1.5.0",
      "model_name": "DescriptionStyleModel",
      "state": {
       "description_width": ""
      }
     },
     "bdd791c8d3e44095ba06a22b5be18967": {
      "model_module": "@jupyter-widgets/base",
      "model_module_version": "1.2.0",
      "model_name": "LayoutModel",
      "state": {}
     },
     "bed67eedce064e6fb464fed7b233fe86": {
      "model_module": "@jupyter-widgets/controls",
      "model_module_version": "1.5.0",
      "model_name": "HTMLModel",
      "state": {
       "layout": "IPY_MODEL_74fec653a36c4a82a7cdef6b1fd55b1d",
       "style": "IPY_MODEL_05042c872f95481c89045ee4d92e803d",
       "value": "160 Sjøsiden vest<br/>0.42 km to center"
      }
     },
     "beeb985693ec425892b4382f3ec97969": {
      "model_module": "@jupyter-widgets/base",
      "model_module_version": "1.2.0",
      "model_name": "LayoutModel",
      "state": {}
     },
     "bf46fa951133493197daffc774e6d224": {
      "model_module": "@jupyter-widgets/controls",
      "model_module_version": "1.5.0",
      "model_name": "HTMLModel",
      "state": {
       "layout": "IPY_MODEL_ddc90faecd9b40bba873e10401c14e7f",
       "style": "IPY_MODEL_ba81d216b498478988803da2f2b1f49c",
       "value": "308 Blindern studentparkering<br/>3.44 km to center"
      }
     },
     "bf51769a4cf4476ca27e7c65a981cdd8": {
      "model_module": "@jupyter-widgets/base",
      "model_module_version": "1.2.0",
      "model_name": "LayoutModel",
      "state": {}
     },
     "c0049585c74d4e28a4ce8332bad571eb": {
      "model_module": "@jupyter-widgets/controls",
      "model_module_version": "1.5.0",
      "model_name": "HTMLModel",
      "state": {
       "layout": "IPY_MODEL_4215405dc19f4d6c8c8298c8f712cc77",
       "style": "IPY_MODEL_30de7b2a97274ed58f19cbeb8b87e6e3",
       "value": "157 Nylandsveien<br/>0.96km to center"
      }
     },
     "c005ecad597e4e208c6b53d460a5ee97": {
      "model_module": "@jupyter-widgets/base",
      "model_module_version": "1.2.0",
      "model_name": "LayoutModel",
      "state": {}
     },
     "c076d11978f24b3c87267ae59e702e91": {
      "model_module": "@jupyter-widgets/base",
      "model_module_version": "1.2.0",
      "model_name": "LayoutModel",
      "state": {}
     },
     "c08c415f95b344d398566b22eef1fd1e": {
      "model_module": "@jupyter-widgets/controls",
      "model_module_version": "1.5.0",
      "model_name": "HTMLModel",
      "state": {
       "layout": "IPY_MODEL_cd9525ce6b6f4e2593067c0ef2c752ad",
       "style": "IPY_MODEL_9e564d51e84244138a2c91a547b1a6f1",
       "value": "162 Arkitekt Rivertz Plass<br/>2.48 km to center"
      }
     },
     "c0a2c739164e46ca97a02415b28eeb60": {
      "model_module": "@jupyter-widgets/base",
      "model_module_version": "1.2.0",
      "model_name": "LayoutModel",
      "state": {}
     },
     "c19439efbc324af4836857ced7b3b6ba": {
      "model_module": "@jupyter-widgets/controls",
      "model_module_version": "1.5.0",
      "model_name": "HTMLModel",
      "state": {
       "layout": "IPY_MODEL_cebad29f9f564f719acfd57db3468970",
       "style": "IPY_MODEL_a24ad930a57c401e8346a45553bbc0c5",
       "value": "214 Schous plass<br/>1.16 km to center"
      }
     },
     "c1fd52eee8ac4af9b7399758ddd545d7": {
      "model_module": "jupyter-leaflet",
      "model_module_version": "^0.13.2",
      "model_name": "LeafletMarkerModel",
      "state": {
       "_model_module_version": "^0.13.2",
       "_view_module_version": "^0.13.2",
       "location": [
        59.924729,
        10.724579
       ],
       "options": [
        "alt",
        "draggable",
        "keyboard",
        "rise_offset",
        "rise_on_hover",
        "rotation_angle",
        "rotation_origin",
        "title",
        "z_index_offset"
       ],
       "popup": "IPY_MODEL_71f1aa358b234a189d10405fec796b21",
       "title": "169 Bogstadveien"
      }
     },
     "c20a819451d448ad92a1dd6ad324a812": {
      "model_module": "@jupyter-widgets/controls",
      "model_module_version": "1.5.0",
      "model_name": "HTMLModel",
      "state": {
       "layout": "IPY_MODEL_c076d11978f24b3c87267ae59e702e91",
       "style": "IPY_MODEL_49ae1c8cf25245c3aecc3f31b1dc0252",
       "value": "240 Olav Kyrres plass<br/>2.84 km to center"
      }
     },
     "c229ec9ae02a43a486488464af740291": {
      "model_module": "jupyter-leaflet",
      "model_module_version": "^0.13.2",
      "model_name": "LeafletMarkerModel",
      "state": {
       "_model_module_version": "^0.13.2",
       "_view_module_version": "^0.13.2",
       "location": [
        59.920565,
        10.734274
       ],
       "options": [
        "alt",
        "draggable",
        "keyboard",
        "rise_offset",
        "rise_on_hover",
        "rotation_angle",
        "rotation_origin",
        "title",
        "z_index_offset"
       ],
       "popup": "IPY_MODEL_ed699434035f44bd8d308fd33f11fbf7",
       "title": "167 Pilestredet Park Studenthus"
      }
     },
     "c250ae9a030b40c3beb91f243de96550": {
      "model_module": "jupyter-leaflet",
      "model_module_version": "^0.13.2",
      "model_name": "LeafletMarkerModel",
      "state": {
       "_model_module_version": "^0.13.2",
       "_view_module_version": "^0.13.2",
       "location": [
        59.923191,
        10.79281
       ],
       "options": [
        "alt",
        "draggable",
        "keyboard",
        "rise_offset",
        "rise_on_hover",
        "rotation_angle",
        "rotation_origin",
        "title",
        "z_index_offset"
       ],
       "popup": "IPY_MODEL_1dee681b8a954cf5814f5d49c47d77d8",
       "title": "212 Hasle Torg"
      }
     },
     "c2c48b21485f4e63b3d035c9d9981069": {
      "model_module": "@jupyter-widgets/controls",
      "model_module_version": "1.5.0",
      "model_name": "HTMLModel",
      "state": {
       "layout": "IPY_MODEL_43f413ca2f914d83b8f972cb6d56a198",
       "style": "IPY_MODEL_86d1eadfbd094899a8fa038afaa90ba3",
       "value": "169 Bogstadveien<br/>1.7965972695614336km to center"
      }
     },
     "c2d3278c9f5c430da7a3509a592d1f6c": {
      "model_module": "jupyter-leaflet",
      "model_module_version": "^0.13.2",
      "model_name": "LeafletMarkerModel",
      "state": {
       "_model_module_version": "^0.13.2",
       "_view_module_version": "^0.13.2",
       "location": [
        59.91953,
        10.743836
       ],
       "options": [
        "alt",
        "draggable",
        "keyboard",
        "rise_offset",
        "rise_on_hover",
        "rotation_angle",
        "rotation_origin",
        "title",
        "z_index_offset"
       ],
       "popup": "IPY_MODEL_0e467b627d684f88ac8a0e15cd46a5ec",
       "title": "164 Vår Frelsers gravlund sør"
      }
     },
     "c3b3aab2a1344a7eafadfd6ef1803d1d": {
      "model_module": "@jupyter-widgets/controls",
      "model_module_version": "1.5.0",
      "model_name": "DescriptionStyleModel",
      "state": {
       "description_width": ""
      }
     },
     "c40f32faa4df4f66b7442e0727dbb577": {
      "model_module": "@jupyter-widgets/controls",
      "model_module_version": "1.5.0",
      "model_name": "DescriptionStyleModel",
      "state": {
       "description_width": ""
      }
     },
     "c437f014097941919a471fcfda448dd1": {
      "model_module": "@jupyter-widgets/controls",
      "model_module_version": "1.5.0",
      "model_name": "DescriptionStyleModel",
      "state": {
       "description_width": ""
      }
     },
     "c49b250a227149d39ba3529cd9db5c1d": {
      "model_module": "jupyter-leaflet",
      "model_module_version": "^0.13.2",
      "model_name": "LeafletMarkerModel",
      "state": {
       "_model_module_version": "^0.13.2",
       "_view_module_version": "^0.13.2",
       "location": [
        59.909494,
        10.722502
       ],
       "options": [
        "alt",
        "draggable",
        "keyboard",
        "rise_offset",
        "rise_on_hover",
        "rotation_angle",
        "rotation_origin",
        "title",
        "z_index_offset"
       ],
       "popup": "IPY_MODEL_c792ecdee97540cd968e2f1d9312eed5",
       "title": "292 Tjuvholmen"
      }
     },
     "c64df4d84048418d8916c2215533d91b": {
      "model_module": "@jupyter-widgets/controls",
      "model_module_version": "1.5.0",
      "model_name": "DescriptionStyleModel",
      "state": {
       "description_width": ""
      }
     },
     "c65124a912ca497a843096a33ff479af": {
      "model_module": "@jupyter-widgets/controls",
      "model_module_version": "1.5.0",
      "model_name": "DescriptionStyleModel",
      "state": {
       "description_width": ""
      }
     },
     "c694bad22c6742b286bdb3847d58e449": {
      "model_module": "jupyter-leaflet",
      "model_module_version": "^0.13.2",
      "model_name": "LeafletMarkerModel",
      "state": {
       "_model_module_version": "^0.13.2",
       "_view_module_version": "^0.13.2",
       "location": [
        59.94093,
        10.720666
       ],
       "options": [
        "alt",
        "draggable",
        "keyboard",
        "rise_offset",
        "rise_on_hover",
        "rotation_angle",
        "rotation_origin",
        "title",
        "z_index_offset"
       ],
       "popup": "IPY_MODEL_bf46fa951133493197daffc774e6d224",
       "title": "308 Blindern studentparkering"
      }
     },
     "c6d18bb5b2874f77bb2ca96e8d65220e": {
      "model_module": "jupyter-leaflet",
      "model_module_version": "^0.13.2",
      "model_name": "LeafletMarkerModel",
      "state": {
       "_model_module_version": "^0.13.2",
       "_view_module_version": "^0.13.2",
       "location": [
        59.929034,
        10.716893
       ],
       "options": [
        "alt",
        "draggable",
        "keyboard",
        "rise_offset",
        "rise_on_hover",
        "rotation_angle",
        "rotation_origin",
        "title",
        "z_index_offset"
       ],
       "popup": "IPY_MODEL_5470d0cff3ae4cd4aa4a70f300a0d806",
       "title": "189 Majorstuen"
      }
     },
     "c6d5b64090bb47409cc2548ce72ae220": {
      "model_module": "@jupyter-widgets/base",
      "model_module_version": "1.2.0",
      "model_name": "LayoutModel",
      "state": {}
     },
     "c78292d6305e4f0c990142df6a1e7114": {
      "model_module": "@jupyter-widgets/controls",
      "model_module_version": "1.5.0",
      "model_name": "DescriptionStyleModel",
      "state": {
       "description_width": ""
      }
     },
     "c792ecdee97540cd968e2f1d9312eed5": {
      "model_module": "@jupyter-widgets/controls",
      "model_module_version": "1.5.0",
      "model_name": "HTMLModel",
      "state": {
       "layout": "IPY_MODEL_a30a7647e2744e18a44a373479150c05",
       "style": "IPY_MODEL_0c382e86ecdb4c9382df5ba2e13c19d4",
       "value": "292 Tjuvholmen<br/>1.36 km to center"
      }
     },
     "c7ce03f29fda4160a2f0a087e1faa6d6": {
      "model_module": "@jupyter-widgets/controls",
      "model_module_version": "1.5.0",
      "model_name": "HTMLModel",
      "state": {
       "layout": "IPY_MODEL_548a08db7d6a4d539f5473cc52a7c571",
       "style": "IPY_MODEL_1fe701d4e1b043f49b1581c558d27afe",
       "value": "159 Hans Nielsen Hauges plass<br/>3.34 km to center"
      }
     },
     "c8257d612a45482db5723739f80ed7d8": {
      "model_module": "jupyter-leaflet",
      "model_module_version": "^0.13.2",
      "model_name": "LeafletMarkerModel",
      "state": {
       "_model_module_version": "^0.13.2",
       "_view_module_version": "^0.13.2",
       "location": [
        59.939238,
        10.774279
       ],
       "options": [
        "alt",
        "draggable",
        "keyboard",
        "rise_offset",
        "rise_on_hover",
        "rotation_angle",
        "rotation_origin",
        "title",
        "z_index_offset"
       ],
       "popup": "IPY_MODEL_c7ce03f29fda4160a2f0a087e1faa6d6",
       "title": "159 Hans Nielsen Hauges plass"
      }
     },
     "c82fdfda81634fb7a6b68cc4a8caf332": {
      "model_module": "@jupyter-widgets/base",
      "model_module_version": "1.2.0",
      "model_name": "LayoutModel",
      "state": {}
     },
     "c87e32bf2962435da881e26fe1a05057": {
      "model_module": "jupyter-leaflet",
      "model_module_version": "^0.13.2",
      "model_name": "LeafletMarkerModel",
      "state": {
       "_model_module_version": "^0.13.2",
       "_view_module_version": "^0.13.2",
       "location": [
        52.1,
        359.9
       ],
       "options": [
        "alt",
        "draggable",
        "keyboard",
        "rise_offset",
        "rise_on_hover",
        "rotation_angle",
        "rotation_origin",
        "title",
        "z_index_offset"
       ],
       "popup": "IPY_MODEL_aa77c99a4dce4eaa92aa6e66328a43e4"
      }
     },
     "c8bc6085d91e4e8f9d4858edac8488b1": {
      "model_module": "@jupyter-widgets/base",
      "model_module_version": "1.2.0",
      "model_name": "LayoutModel",
      "state": {}
     },
     "c8ce25efbd034a019887fd8fdcdca93f": {
      "model_module": "@jupyter-widgets/base",
      "model_module_version": "1.2.0",
      "model_name": "LayoutModel",
      "state": {}
     },
     "c8f1e01a7f8b4239b4fade8571f23eb3": {
      "model_module": "@jupyter-widgets/controls",
      "model_module_version": "1.5.0",
      "model_name": "DescriptionStyleModel",
      "state": {
       "description_width": ""
      }
     },
     "c98abac655dc481c97e5644c1a7749b8": {
      "model_module": "@jupyter-widgets/base",
      "model_module_version": "1.2.0",
      "model_name": "LayoutModel",
      "state": {}
     },
     "c9e7713237c144558bb3f549e2688750": {
      "model_module": "jupyter-leaflet",
      "model_module_version": "^0.13.2",
      "model_name": "LeafletMarkerModel",
      "state": {
       "_model_module_version": "^0.13.2",
       "_view_module_version": "^0.13.2",
       "location": [
        59.924729,
        10.724579
       ],
       "options": [
        "alt",
        "draggable",
        "keyboard",
        "rise_offset",
        "rise_on_hover",
        "rotation_angle",
        "rotation_origin",
        "title",
        "z_index_offset"
       ],
       "popup": "IPY_MODEL_645351fa05384efab5a409935d140091",
       "title": "169 Bogstadveien"
      }
     },
     "ca36dc23380646d797c91c6263b700b2": {
      "model_module": "@jupyter-widgets/base",
      "model_module_version": "1.2.0",
      "model_name": "LayoutModel",
      "state": {}
     },
     "cac7ba60882645c5813014da9ade4359": {
      "model_module": "jupyter-leaflet",
      "model_module_version": "^0.13.2",
      "model_name": "LeafletZoomControlModel",
      "state": {
       "_model_module_version": "^0.13.2",
       "_view_module_version": "^0.13.2",
       "options": [
        "position",
        "zoom_in_text",
        "zoom_in_title",
        "zoom_out_text",
        "zoom_out_title"
       ]
      }
     },
     "caf0386ee7674db2a247bedac8bc82bb": {
      "model_module": "@jupyter-widgets/controls",
      "model_module_version": "1.5.0",
      "model_name": "HTMLModel",
      "state": {
       "layout": "IPY_MODEL_b57f6d8630d6486fb6b89b1b48289c42",
       "style": "IPY_MODEL_c65124a912ca497a843096a33ff479af",
       "value": "243 Sentrum Scene<br/>0.42 km to center"
      }
     },
     "caf7e7fc188c4add920e5205836ed38c": {
      "model_module": "@jupyter-widgets/base",
      "model_module_version": "1.2.0",
      "model_name": "LayoutModel",
      "state": {}
     },
     "cafbe2bcc3ec4ce399514c4890e10582": {
      "model_module": "jupyter-leaflet",
      "model_module_version": "^0.13.2",
      "model_name": "LeafletMarkerModel",
      "state": {
       "_model_module_version": "^0.13.2",
       "_view_module_version": "^0.13.2",
       "location": [
        59.929858,
        10.743541
       ],
       "options": [
        "alt",
        "draggable",
        "keyboard",
        "rise_offset",
        "rise_on_hover",
        "rotation_angle",
        "rotation_origin",
        "title",
        "z_index_offset"
       ],
       "popup": "IPY_MODEL_80b881761d954f18b076b3596b7501bb",
       "title": "291 St. Hanshaugen park nord"
      }
     },
     "cb137b176638499bb9cdd4b5cc599241": {
      "model_module": "@jupyter-widgets/controls",
      "model_module_version": "1.5.0",
      "model_name": "DescriptionStyleModel",
      "state": {
       "description_width": ""
      }
     },
     "cb4700f809904756934ce44be6c8c647": {
      "model_module": "@jupyter-widgets/controls",
      "model_module_version": "1.5.0",
      "model_name": "DescriptionStyleModel",
      "state": {
       "description_width": ""
      }
     },
     "cbef1bb0bf1442d59874f54c89e2416a": {
      "model_module": "@jupyter-widgets/controls",
      "model_module_version": "1.5.0",
      "model_name": "HTMLModel",
      "state": {
       "layout": "IPY_MODEL_f97a74843c00497585c3dd4e671e1415",
       "style": "IPY_MODEL_c78292d6305e4f0c990142df6a1e7114",
       "value": "273 Sofies gate<br/>2.09 km to center"
      }
     },
     "ccaffcf1e0214f1fb5dc8fae8423cec7": {
      "model_module": "@jupyter-widgets/base",
      "model_module_version": "1.2.0",
      "model_name": "LayoutModel",
      "state": {}
     },
     "ccd1a943850540dda3e45b48e59e50fd": {
      "model_module": "@jupyter-widgets/controls",
      "model_module_version": "1.5.0",
      "model_name": "HTMLModel",
      "state": {
       "layout": "IPY_MODEL_deb1f05e5bf645e480ec3351710cd763",
       "style": "IPY_MODEL_9a3625607364446c92ebdac9ce95789e",
       "value": "164 Vår Frelsers gravlund sør<br/>0.77 km to center"
      }
     },
     "ccdd0b04d1dc48fe83d17c1cb9137c96": {
      "model_module": "@jupyter-widgets/controls",
      "model_module_version": "1.5.0",
      "model_name": "HTMLModel",
      "state": {
       "layout": "IPY_MODEL_c8ce25efbd034a019887fd8fdcdca93f",
       "style": "IPY_MODEL_ee955874dd6f4f1da50e3090a2c76ed9",
       "value": "272 Jernbanetorget<br/>0.23 km to center"
      }
     },
     "cd1e5c7257a1452aa7f641e6f2990069": {
      "model_module": "@jupyter-widgets/controls",
      "model_module_version": "1.5.0",
      "model_name": "DescriptionStyleModel",
      "state": {
       "description_width": ""
      }
     },
     "cd9525ce6b6f4e2593067c0ef2c752ad": {
      "model_module": "@jupyter-widgets/base",
      "model_module_version": "1.2.0",
      "model_name": "LayoutModel",
      "state": {}
     },
     "cdbea798e3fb4f08bab14778d5aa0a9c": {
      "model_module": "@jupyter-widgets/controls",
      "model_module_version": "1.5.0",
      "model_name": "DescriptionStyleModel",
      "state": {
       "description_width": ""
      }
     },
     "cdc5022f6d1d44b5921e13b2868d2570": {
      "model_module": "jupyter-leaflet",
      "model_module_version": "^0.13.2",
      "model_name": "LeafletMarkerModel",
      "state": {
       "_model_module_version": "^0.13.2",
       "_view_module_version": "^0.13.2",
       "location": [
        59.915936,
        10.751573
       ],
       "options": [
        "alt",
        "draggable",
        "keyboard",
        "rise_offset",
        "rise_on_hover",
        "rotation_angle",
        "rotation_origin",
        "title",
        "z_index_offset"
       ],
       "popup": "IPY_MODEL_e1e79df26cb0454383d9e5fa783214bd",
       "title": "294 Torggata"
      }
     },
     "ce145c16c8e54f2fa260239cff5be4ea": {
      "model_module": "@jupyter-widgets/controls",
      "model_module_version": "1.5.0",
      "model_name": "DescriptionStyleModel",
      "state": {
       "description_width": ""
      }
     },
     "ce8c62b17e0c45a78efc3aff3299d274": {
      "model_module": "@jupyter-widgets/controls",
      "model_module_version": "1.5.0",
      "model_name": "DescriptionStyleModel",
      "state": {
       "description_width": ""
      }
     },
     "cebad29f9f564f719acfd57db3468970": {
      "model_module": "@jupyter-widgets/base",
      "model_module_version": "1.2.0",
      "model_name": "LayoutModel",
      "state": {}
     },
     "cf1830020e4a4ed09980ba86f91ca298": {
      "model_module": "@jupyter-widgets/controls",
      "model_module_version": "1.5.0",
      "model_name": "DescriptionStyleModel",
      "state": {
       "description_width": ""
      }
     },
     "cf8a7d6fc01e4d18be6c262ccee8497f": {
      "model_module": "jupyter-leaflet",
      "model_module_version": "^0.13.2",
      "model_name": "LeafletMapStyleModel",
      "state": {
       "_model_module_version": "^0.13.2"
      }
     },
     "cfb7fda442354fd58bfee745fe85409e": {
      "model_module": "jupyter-leaflet",
      "model_module_version": "^0.13.2",
      "model_name": "LeafletMarkerModel",
      "state": {
       "_model_module_version": "^0.13.2",
       "_view_module_version": "^0.13.2",
       "location": [
        59.929426,
        10.726118
       ],
       "options": [
        "alt",
        "draggable",
        "keyboard",
        "rise_offset",
        "rise_on_hover",
        "rotation_angle",
        "rotation_origin",
        "title",
        "z_index_offset"
       ],
       "popup": "IPY_MODEL_0edccfdc92c74d65b227758980909717",
       "title": "259 Suhms gate"
      }
     },
     "d01c303b29804cd88aaa9d7d26b9af41": {
      "model_module": "jupyter-leaflet",
      "model_module_version": "^0.13.2",
      "model_name": "LeafletMarkerModel",
      "state": {
       "_model_module_version": "^0.13.2",
       "_view_module_version": "^0.13.2",
       "location": [
        59.920187,
        10.717955
       ],
       "options": [
        "alt",
        "draggable",
        "keyboard",
        "rise_offset",
        "rise_on_hover",
        "rotation_angle",
        "rotation_origin",
        "title",
        "z_index_offset"
       ],
       "popup": "IPY_MODEL_12b6e36c629040dba6c8c2a04dcaf821",
       "title": "218 Briskeby"
      }
     },
     "d1156a8c697d436697f6a6f433814ef1": {
      "model_module": "jupyter-leaflet",
      "model_module_version": "^0.13.2",
      "model_name": "LeafletMarkerModel",
      "state": {
       "_model_module_version": "^0.13.2",
       "_view_module_version": "^0.13.2",
       "location": [
        59.931834,
        10.748723
       ],
       "options": [
        "alt",
        "draggable",
        "keyboard",
        "rise_offset",
        "rise_on_hover",
        "rotation_angle",
        "rotation_origin",
        "title",
        "z_index_offset"
       ],
       "popup": "IPY_MODEL_ec11464b742a463b9179456812b64760",
       "title": "248 Ila"
      }
     },
     "d14190b72ed940bd86b947b8552b1448": {
      "model_module": "@jupyter-widgets/base",
      "model_module_version": "1.2.0",
      "model_name": "LayoutModel",
      "state": {}
     },
     "d1ccf5d09737423584f5e175ff8d4e44": {
      "model_module": "@jupyter-widgets/controls",
      "model_module_version": "1.5.0",
      "model_name": "DescriptionStyleModel",
      "state": {
       "description_width": ""
      }
     },
     "d1f094a63d9e42748ad62029e240c67f": {
      "model_module": "jupyter-leaflet",
      "model_module_version": "^0.13.2",
      "model_name": "LeafletMarkerModel",
      "state": {
       "_model_module_version": "^0.13.2",
       "_view_module_version": "^0.13.2",
       "location": [
        59.935903,
        10.735045
       ],
       "options": [
        "alt",
        "draggable",
        "keyboard",
        "rise_offset",
        "rise_on_hover",
        "rotation_angle",
        "rotation_origin",
        "title",
        "z_index_offset"
       ],
       "popup": "IPY_MODEL_006409523f044c7eafd9d418c544a643",
       "title": "224 Kirkeveien"
      }
     },
     "d20b4de6a6e94b04bfc6f0c6d5dae5bb": {
      "model_module": "jupyter-leaflet",
      "model_module_version": "^0.13.2",
      "model_name": "LeafletMarkerModel",
      "state": {
       "_model_module_version": "^0.13.2",
       "_view_module_version": "^0.13.2",
       "location": [
        59.922532,
        10.720807
       ],
       "options": [
        "alt",
        "draggable",
        "keyboard",
        "rise_offset",
        "rise_on_hover",
        "rotation_angle",
        "rotation_origin",
        "title",
        "z_index_offset"
       ],
       "popup": "IPY_MODEL_19e39ca617694a73974cabab79ef4410",
       "title": "203 Uranienborgparken"
      }
     },
     "d3490bc3c2df4e56a471036776ae3dd3": {
      "model_module": "@jupyter-widgets/controls",
      "model_module_version": "1.5.0",
      "model_name": "DescriptionStyleModel",
      "state": {
       "description_width": ""
      }
     },
     "d35c5996ce31455ca15d7b3f065a0631": {
      "model_module": "@jupyter-widgets/base",
      "model_module_version": "1.2.0",
      "model_name": "LayoutModel",
      "state": {}
     },
     "d3a081f73f4e42f2b1c87856a57e5625": {
      "model_module": "@jupyter-widgets/base",
      "model_module_version": "1.2.0",
      "model_name": "LayoutModel",
      "state": {}
     },
     "d3d923a5170b48a1997dddeec20f2e1c": {
      "model_module": "jupyter-leaflet",
      "model_module_version": "^0.13.2",
      "model_name": "LeafletMapStyleModel",
      "state": {
       "_model_module_version": "^0.13.2",
       "cursor": "move"
      }
     },
     "d4102944a93d455b89c5ac27d80bd1c1": {
      "model_module": "@jupyter-widgets/controls",
      "model_module_version": "1.5.0",
      "model_name": "DescriptionStyleModel",
      "state": {
       "description_width": ""
      }
     },
     "d434ea9c6ae645c4a2e8f6758270c6fd": {
      "model_module": "@jupyter-widgets/controls",
      "model_module_version": "1.5.0",
      "model_name": "HTMLModel",
      "state": {
       "layout": "IPY_MODEL_70a09a83d6aa44a7a40be8e64e8aeeeb",
       "style": "IPY_MODEL_60ff9df8751842f3b72123448cc2fabd",
       "value": "261 Hydroparken<br/>1.71 km to center"
      }
     },
     "d45f205edd864be091b6e508e8221ad1": {
      "model_module": "@jupyter-widgets/controls",
      "model_module_version": "1.5.0",
      "model_name": "HTMLModel",
      "state": {
       "layout": "IPY_MODEL_20be1ec6c26e40d5ab5b8818b9e38e83",
       "style": "IPY_MODEL_aea4b4da653744e5b65db2e44a3ed975",
       "value": "281 Oslo Plaza<br/>0.47 km to center"
      }
     },
     "d50a6fde502143e6a96fca10a17ccb75": {
      "model_module": "@jupyter-widgets/base",
      "model_module_version": "1.2.0",
      "model_name": "LayoutModel",
      "state": {}
     },
     "d5107222ae3b4fa7bd0823b27b575eca": {
      "model_module": "@jupyter-widgets/controls",
      "model_module_version": "1.5.0",
      "model_name": "DescriptionStyleModel",
      "state": {
       "description_width": ""
      }
     },
     "d51722755a814b6882ed15e7c1837b0a": {
      "model_module": "@jupyter-widgets/controls",
      "model_module_version": "1.5.0",
      "model_name": "HTMLModel",
      "state": {
       "layout": "IPY_MODEL_71d69e5373654842b239b9c6f70b4e21",
       "style": "IPY_MODEL_13614a46f6d8477d8f431397283463cc",
       "value": "208 Hammersborg Torg<br/>0.45 km to center"
      }
     },
     "d58a667d5ef448ab9551168a7ab5ae66": {
      "model_module": "jupyter-leaflet",
      "model_module_version": "^0.13.2",
      "model_name": "LeafletMarkerModel",
      "state": {
       "_model_module_version": "^0.13.2",
       "_view_module_version": "^0.13.2",
       "location": [
        59.917879,
        10.754906
       ],
       "options": [
        "alt",
        "draggable",
        "keyboard",
        "rise_offset",
        "rise_on_hover",
        "rotation_angle",
        "rotation_origin",
        "title",
        "z_index_offset"
       ],
       "popup": "IPY_MODEL_76fcff97ad9341d8847e90a1a8aa4c06",
       "title": "191 Jakob kirke"
      }
     },
     "d5c7083296954a3c8b02afd496cbbfb2": {
      "model_module": "@jupyter-widgets/base",
      "model_module_version": "1.2.0",
      "model_name": "LayoutModel",
      "state": {}
     },
     "d5ec8d01d92f437492aa1936d6b52cb7": {
      "model_module": "@jupyter-widgets/base",
      "model_module_version": "1.2.0",
      "model_name": "LayoutModel",
      "state": {}
     },
     "d729b53cded847838450515e13cdaccd": {
      "model_module": "@jupyter-widgets/base",
      "model_module_version": "1.2.0",
      "model_name": "LayoutModel",
      "state": {}
     },
     "d7b83d8fc94b4e0d88aecaaa7a8b4fe6": {
      "model_module": "@jupyter-widgets/base",
      "model_module_version": "1.2.0",
      "model_name": "LayoutModel",
      "state": {}
     },
     "d8839d691ab3405ea671bbb98808885c": {
      "model_module": "@jupyter-widgets/controls",
      "model_module_version": "1.5.0",
      "model_name": "HTMLModel",
      "state": {
       "layout": "IPY_MODEL_234f634068174bada98e907fa7022598",
       "style": "IPY_MODEL_83ca458fdeb74bbc9267666dc308f813",
       "value": "264 Elisenberg<br/>2.21 km to center"
      }
     },
     "d8b11d4b69b44da29499282fae10ce84": {
      "model_module": "@jupyter-widgets/controls",
      "model_module_version": "1.5.0",
      "model_name": "HTMLModel",
      "state": {
       "layout": "IPY_MODEL_1297e804f5cd4278a3d89cb898bb175c",
       "style": "IPY_MODEL_fa1c57f275834952b36e582a1695c85c",
       "value": "173 Legevakten<br/>0.81 km to center"
      }
     },
     "d8bb8dc56d7e48a2b011acf4f5c90a35": {
      "model_module": "@jupyter-widgets/controls",
      "model_module_version": "1.5.0",
      "model_name": "DescriptionStyleModel",
      "state": {
       "description_width": ""
      }
     },
     "d9142ab3a8d543de835601c7fc200ff1": {
      "model_module": "@jupyter-widgets/controls",
      "model_module_version": "1.5.0",
      "model_name": "HTMLModel",
      "state": {
       "layout": "IPY_MODEL_8ba0160fe666490699d8eb3031f7756f",
       "style": "IPY_MODEL_19a5900074544d5ea064aaf324f00205",
       "value": "302 Rådhusgata<br/>0.57 km to center"
      }
     },
     "d92c7afeb00c489ca8bf49a45917693a": {
      "model_module": "@jupyter-widgets/controls",
      "model_module_version": "1.5.0",
      "model_name": "DescriptionStyleModel",
      "state": {
       "description_width": ""
      }
     },
     "d9a0f99041b74f54b824dd3e51a8be4d": {
      "model_module": "jupyter-leaflet",
      "model_module_version": "^0.13.2",
      "model_name": "LeafletMarkerModel",
      "state": {
       "_model_module_version": "^0.13.2",
       "_view_module_version": "^0.13.2",
       "location": [
        59.914654,
        10.735447
       ],
       "options": [
        "alt",
        "draggable",
        "keyboard",
        "rise_offset",
        "rise_on_hover",
        "rotation_angle",
        "rotation_origin",
        "title",
        "z_index_offset"
       ],
       "popup": "IPY_MODEL_b77a916308524f1e9bd5c133c334e20f",
       "title": "199 Studenterlunden"
      }
     },
     "d9e8da6daf16412987447a715126629c": {
      "model_module": "@jupyter-widgets/controls",
      "model_module_version": "1.5.0",
      "model_name": "DescriptionStyleModel",
      "state": {
       "description_width": ""
      }
     },
     "d9fb440d9c7145ee928fba2cbb63c459": {
      "model_module": "jupyter-leaflet",
      "model_module_version": "^0.13.2",
      "model_name": "LeafletMarkerModel",
      "state": {
       "_model_module_version": "^0.13.2",
       "_view_module_version": "^0.13.2",
       "location": [
        59.942725,
        10.722889
       ],
       "options": [
        "alt",
        "draggable",
        "keyboard",
        "rise_offset",
        "rise_on_hover",
        "rotation_angle",
        "rotation_origin",
        "title",
        "z_index_offset"
       ],
       "popup": "IPY_MODEL_392f63b5498646a8a8932b693faeadf6",
       "title": "309 Bak Niels Treschows hus nord"
      }
     },
     "da0598998b214a55b8b4a857e8452cf3": {
      "model_module": "jupyter-leaflet",
      "model_module_version": "^0.13.2",
      "model_name": "LeafletMarkerModel",
      "state": {
       "_model_module_version": "^0.13.2",
       "_view_module_version": "^0.13.2",
       "location": [
        59.911411,
        10.776216
       ],
       "options": [
        "alt",
        "draggable",
        "keyboard",
        "rise_offset",
        "rise_on_hover",
        "rotation_angle",
        "rotation_origin",
        "title",
        "z_index_offset"
       ],
       "popup": "IPY_MODEL_349fc577f6a74a45822cafe95994394a",
       "title": "242 Sommerfrydhagen"
      }
     },
     "da5309b139dd4a4b9d69773480635b5d": {
      "model_module": "@jupyter-widgets/controls",
      "model_module_version": "1.5.0",
      "model_name": "DescriptionStyleModel",
      "state": {
       "description_width": ""
      }
     },
     "da9f60735fb54e20bf8217e6ed4f0085": {
      "model_module": "@jupyter-widgets/controls",
      "model_module_version": "1.5.0",
      "model_name": "HTMLModel",
      "state": {
       "layout": "IPY_MODEL_176dda999708441d804be449a0efeb19",
       "style": "IPY_MODEL_6be0e011182d4eeaafb5185f4005bf3d",
       "value": "226 Fredensborg<br/>0.95 km to center"
      }
     },
     "dab1c2b15c9c4c8d89f838fcc4e60aca": {
      "model_module": "@jupyter-widgets/base",
      "model_module_version": "1.2.0",
      "model_name": "LayoutModel",
      "state": {}
     },
     "daf30a2b5d5f4993a0bc21154326d29a": {
      "model_module": "@jupyter-widgets/controls",
      "model_module_version": "1.5.0",
      "model_name": "HTMLModel",
      "state": {
       "layout": "IPY_MODEL_2699c5d5d0f34a7ab7ad721c5f7d7511",
       "style": "IPY_MODEL_c64df4d84048418d8916c2215533d91b",
       "value": "274 Sukkerbiten<br/>0.95 km to center"
      }
     },
     "db0cd7b9c34845d09f69badd3f153e94": {
      "model_module": "jupyter-leaflet",
      "model_module_version": "^0.13.2",
      "model_name": "LeafletMarkerModel",
      "state": {
       "_model_module_version": "^0.13.2",
       "_view_module_version": "^0.13.2",
       "location": [
        59.932779,
        10.734499
       ],
       "options": [
        "alt",
        "draggable",
        "keyboard",
        "rise_offset",
        "rise_on_hover",
        "rotation_angle",
        "rotation_origin",
        "title",
        "z_index_offset"
       ],
       "popup": "IPY_MODEL_1794fcdd464f4381b679f17b6ad2da0b",
       "title": "217 Adamstuen"
      }
     },
     "db26bbfdc6f34d52a2e77d512d5ad6b6": {
      "model_module": "@jupyter-widgets/controls",
      "model_module_version": "1.5.0",
      "model_name": "DescriptionStyleModel",
      "state": {
       "description_width": ""
      }
     },
     "dbc7c044afe3438b8a84c8737d0eb0ff": {
      "model_module": "@jupyter-widgets/base",
      "model_module_version": "1.2.0",
      "model_name": "LayoutModel",
      "state": {}
     },
     "dbca5bbfd4eb45339da081e3ca5fb577": {
      "model_module": "@jupyter-widgets/controls",
      "model_module_version": "1.5.0",
      "model_name": "HTMLModel",
      "state": {
       "layout": "IPY_MODEL_d5ec8d01d92f437492aa1936d6b52cb7",
       "style": "IPY_MODEL_73002cb0633e477d8874210e1afb3e10",
       "value": "246 Sofienbergparken sør<br/>1.38 km to center"
      }
     },
     "dc730c0971d84b8083159911cd5ada96": {
      "model_module": "@jupyter-widgets/controls",
      "model_module_version": "1.5.0",
      "model_name": "HTMLModel",
      "state": {
       "layout": "IPY_MODEL_c82fdfda81634fb7a6b68cc4a8caf332",
       "style": "IPY_MODEL_2aaeea90f585469a975e6530b8bb748f",
       "value": "236 Storgata<br/>0.35 km to center"
      }
     },
     "dc9bf7f8b5584ea78f29bea02af611b5": {
      "model_module": "@jupyter-widgets/base",
      "model_module_version": "1.2.0",
      "model_name": "LayoutModel",
      "state": {}
     },
     "ddc90faecd9b40bba873e10401c14e7f": {
      "model_module": "@jupyter-widgets/base",
      "model_module_version": "1.2.0",
      "model_name": "LayoutModel",
      "state": {}
     },
     "ddd201ab7aa4457ca6fbee25b7e2731e": {
      "model_module": "jupyter-leaflet",
      "model_module_version": "^0.13.2",
      "model_name": "LeafletMarkerModel",
      "state": {
       "_model_module_version": "^0.13.2",
       "_view_module_version": "^0.13.2",
       "location": [
        59.912558,
        10.75089
       ],
       "options": [
        "alt",
        "draggable",
        "keyboard",
        "rise_offset",
        "rise_on_hover",
        "rotation_angle",
        "rotation_origin",
        "title",
        "z_index_offset"
       ],
       "popup": "IPY_MODEL_ec24322e17dc4eeca55b6ed3d3cd53de",
       "title": "186 Fred Olsens gate"
      }
     },
     "deb1f05e5bf645e480ec3351710cd763": {
      "model_module": "@jupyter-widgets/base",
      "model_module_version": "1.2.0",
      "model_name": "LayoutModel",
      "state": {}
     },
     "df0d5a3030f146cd96ecef31be2e15e3": {
      "model_module": "@jupyter-widgets/controls",
      "model_module_version": "1.5.0",
      "model_name": "DescriptionStyleModel",
      "state": {
       "description_width": ""
      }
     },
     "df6b5b28ef834c3699c05d5ce1df6c2c": {
      "model_module": "jupyter-leaflet",
      "model_module_version": "^0.13.2",
      "model_name": "LeafletMarkerModel",
      "state": {
       "_model_module_version": "^0.13.2",
       "_view_module_version": "^0.13.2",
       "location": [
        59.908353,
        10.741794
       ],
       "options": [
        "alt",
        "draggable",
        "keyboard",
        "rise_offset",
        "rise_on_hover",
        "rotation_angle",
        "rotation_origin",
        "title",
        "z_index_offset"
       ],
       "popup": "IPY_MODEL_2a8d89230e5f4b65a0294db0a086688a",
       "title": "279 Bankplassen"
      }
     },
     "dfe0f84199494b66ac47caaff2aeae52": {
      "model_module": "jupyter-leaflet",
      "model_module_version": "^0.13.2",
      "model_name": "LeafletZoomControlModel",
      "state": {
       "_model_module_version": "^0.13.2",
       "_view_module_version": "^0.13.2",
       "options": [
        "position",
        "zoom_in_text",
        "zoom_in_title",
        "zoom_out_text",
        "zoom_out_title"
       ]
      }
     },
     "dfeb7f5e42fa47f48dc3dc6a96443370": {
      "model_module": "@jupyter-widgets/controls",
      "model_module_version": "1.5.0",
      "model_name": "DescriptionStyleModel",
      "state": {
       "description_width": ""
      }
     },
     "e0f236b7bdcf4cefb0c333705de1f728": {
      "model_module": "@jupyter-widgets/controls",
      "model_module_version": "1.5.0",
      "model_name": "HTMLModel",
      "state": {
       "layout": "IPY_MODEL_d14190b72ed940bd86b947b8552b1448",
       "style": "IPY_MODEL_aab8305952a04cd7aa0d61ad19c03f06",
       "value": "275 Ruseløkkgården<br/>1.10 km to center"
      }
     },
     "e0ff6fba9d6a4d13a2c21a08685625c4": {
      "model_module": "@jupyter-widgets/base",
      "model_module_version": "1.2.0",
      "model_name": "LayoutModel",
      "state": {}
     },
     "e1b73ceb1cb34f528603942bf466f35a": {
      "model_module": "@jupyter-widgets/controls",
      "model_module_version": "1.5.0",
      "model_name": "DescriptionStyleModel",
      "state": {
       "description_width": ""
      }
     },
     "e1e79df26cb0454383d9e5fa783214bd": {
      "model_module": "@jupyter-widgets/controls",
      "model_module_version": "1.5.0",
      "model_name": "HTMLModel",
      "state": {
       "layout": "IPY_MODEL_a95f6d437f91411e8267087a54b36c9e",
       "style": "IPY_MODEL_8e84342697234b8098bce57d5af3b2fc",
       "value": "294 Torggata<br/>0.47 km to center"
      }
     },
     "e27a5947d2f9413795bfa531e82f5cd1": {
      "model_module": "@jupyter-widgets/controls",
      "model_module_version": "1.5.0",
      "model_name": "DescriptionStyleModel",
      "state": {
       "description_width": ""
      }
     },
     "e2d8763afbc9410399b04f992d947468": {
      "model_module": "jupyter-leaflet",
      "model_module_version": "^0.13.2",
      "model_name": "LeafletMarkerModel",
      "state": {
       "_model_module_version": "^0.13.2",
       "_view_module_version": "^0.13.2",
       "location": [
        59.919124,
        10.736152
       ],
       "options": [
        "alt",
        "draggable",
        "keyboard",
        "rise_offset",
        "rise_on_hover",
        "rotation_angle",
        "rotation_origin",
        "title",
        "z_index_offset"
       ],
       "popup": "IPY_MODEL_e3124280ed014e60bde518087a0a4c58",
       "title": "287 Pilestredet"
      }
     },
     "e2fdd2750d6e43f18c256320e42c18f7": {
      "model_module": "@jupyter-widgets/controls",
      "model_module_version": "1.5.0",
      "model_name": "DescriptionStyleModel",
      "state": {
       "description_width": ""
      }
     },
     "e3124280ed014e60bde518087a0a4c58": {
      "model_module": "@jupyter-widgets/controls",
      "model_module_version": "1.5.0",
      "model_name": "HTMLModel",
      "state": {
       "layout": "IPY_MODEL_e4b3e4f9d2644b28bcf5b41b60d3a5cb",
       "style": "IPY_MODEL_5857ae1964d14500abfa32f5f5bc44b0",
       "value": "287 Pilestredet<br/>0.90 km to center"
      }
     },
     "e319b415ad16462eaee4c544dbb70a08": {
      "model_module": "@jupyter-widgets/base",
      "model_module_version": "1.2.0",
      "model_name": "LayoutModel",
      "state": {}
     },
     "e34a11e3ffb447bebb210178f15815fa": {
      "model_module": "jupyter-leaflet",
      "model_module_version": "^0.13.2",
      "model_name": "LeafletMarkerModel",
      "state": {
       "_model_module_version": "^0.13.2",
       "_view_module_version": "^0.13.2",
       "location": [
        59.914326,
        10.720178
       ],
       "options": [
        "alt",
        "draggable",
        "keyboard",
        "rise_offset",
        "rise_on_hover",
        "rotation_angle",
        "rotation_origin",
        "title",
        "z_index_offset"
       ],
       "popup": "IPY_MODEL_5ecb8cdc954141fbaa120e6ffca8dd32",
       "title": "193 Oslo Handelsgymnasium"
      }
     },
     "e37933dc6bd741bcad4431d1c58f4c60": {
      "model_module": "jupyter-leaflet",
      "model_module_version": "^0.13.2",
      "model_name": "LeafletAttributionControlModel",
      "state": {
       "_model_module_version": "^0.13.2",
       "_view_module_version": "^0.13.2",
       "options": [
        "position",
        "prefix"
       ],
       "position": "bottomright",
       "prefix": "ipyleaflet"
      }
     },
     "e428f176d3e240afb4d70158c7da0f4d": {
      "model_module": "@jupyter-widgets/controls",
      "model_module_version": "1.5.0",
      "model_name": "DescriptionStyleModel",
      "state": {
       "description_width": ""
      }
     },
     "e4b3e4f9d2644b28bcf5b41b60d3a5cb": {
      "model_module": "@jupyter-widgets/base",
      "model_module_version": "1.2.0",
      "model_name": "LayoutModel",
      "state": {}
     },
     "e4bc6a3c8079407196897c25057da2f9": {
      "model_module": "@jupyter-widgets/base",
      "model_module_version": "1.2.0",
      "model_name": "LayoutModel",
      "state": {}
     },
     "e4c3d7196f884edead860bc4f251d85f": {
      "model_module": "jupyter-leaflet",
      "model_module_version": "^0.13.2",
      "model_name": "LeafletMarkerModel",
      "state": {
       "_model_module_version": "^0.13.2",
       "_view_module_version": "^0.13.2",
       "location": [
        59.919471,
        10.708816
       ],
       "options": [
        "alt",
        "draggable",
        "keyboard",
        "rise_offset",
        "rise_on_hover",
        "rotation_angle",
        "rotation_origin",
        "title",
        "z_index_offset"
       ],
       "popup": "IPY_MODEL_d8839d691ab3405ea671bbb98808885c",
       "title": "264 Elisenberg"
      }
     },
     "e4f40735ed3f4f228b3c658ffdf50342": {
      "model_module": "@jupyter-widgets/base",
      "model_module_version": "1.2.0",
      "model_name": "LayoutModel",
      "state": {}
     },
     "e523dc437f334391a584ee64ea3c2c29": {
      "model_module": "@jupyter-widgets/base",
      "model_module_version": "1.2.0",
      "model_name": "LayoutModel",
      "state": {}
     },
     "e5567bc75f49463185d805ff14132354": {
      "model_module": "@jupyter-widgets/controls",
      "model_module_version": "1.5.0",
      "model_name": "DescriptionStyleModel",
      "state": {
       "description_width": ""
      }
     },
     "e5a5ae5a09bf42fdb368bd311270fc9d": {
      "model_module": "@jupyter-widgets/controls",
      "model_module_version": "1.5.0",
      "model_name": "HTMLModel",
      "state": {
       "layout": "IPY_MODEL_88ab8770df7942bea4adece72cb8eaa6",
       "style": "IPY_MODEL_4ed536ca93a34f8993dd20f875c08c01",
       "value": "213 Torshovparken vest<br/>2.80 km to center"
      }
     },
     "e784d45c6e82430fba8551042edb52fd": {
      "model_module": "@jupyter-widgets/controls",
      "model_module_version": "1.5.0",
      "model_name": "DescriptionStyleModel",
      "state": {
       "description_width": ""
      }
     },
     "e7872a777609483493163d3ef084b2ed": {
      "model_module": "jupyter-leaflet",
      "model_module_version": "^0.13.2",
      "model_name": "LeafletMapModel",
      "state": {
       "_model_module_version": "^0.13.2",
       "_view_module_version": "^0.13.2",
       "center": [
        59.91502061827056,
        10.746173858642578
       ],
       "controls": [
        "IPY_MODEL_9930159aa481489cb68b1d5e379230e3",
        "IPY_MODEL_aff46982bb7b4a40ab6dd731747780f6"
       ],
       "default_style": "IPY_MODEL_cf8a7d6fc01e4d18be6c262ccee8497f",
       "dragging_style": "IPY_MODEL_4cd8180240ff47749c4a6dba00e58153",
       "east": -180,
       "fullscreen": false,
       "interpolation": "bilinear",
       "layers": [
        "IPY_MODEL_ff7dbe7df7b14b04b97792894b77dccd",
        "IPY_MODEL_2561d8d19e01457794b37964af945c1a",
        "IPY_MODEL_a35776a85f3448d9b6bf9d9dde0eb2a3",
        "IPY_MODEL_27bedba8c64340c2b77b43e9413b7f7e",
        "IPY_MODEL_150f7b9cb8e249ce870e1ae102503bcb",
        "IPY_MODEL_b4793727c3284cbcae079bedfce3d649",
        "IPY_MODEL_437165ec729440748ffae8b7508b3f66",
        "IPY_MODEL_0fcdd806b8e04748ba8e610f0fb4f5f5",
        "IPY_MODEL_72a15da081044190b964625f7aa76c9c",
        "IPY_MODEL_c229ec9ae02a43a486488464af740291",
        "IPY_MODEL_c9e7713237c144558bb3f549e2688750"
       ],
       "layout": "IPY_MODEL_7b724740303d4156945318a1af6f0b2c",
       "modisdate": "yesterday",
       "north": -90,
       "options": [
        "bounce_at_zoom_limits",
        "box_zoom",
        "center",
        "close_popup_on_click",
        "double_click_zoom",
        "dragging",
        "fullscreen",
        "inertia",
        "inertia_deceleration",
        "inertia_max_speed",
        "interpolation",
        "keyboard",
        "keyboard_pan_offset",
        "keyboard_zoom_offset",
        "max_zoom",
        "min_zoom",
        "scroll_wheel_zoom",
        "tap",
        "tap_tolerance",
        "touch_zoom",
        "world_copy_jump",
        "zoom",
        "zoom_animation_threshold",
        "zoom_delta",
        "zoom_snap",
        "zoom_start"
       ],
       "south": 90,
       "style": "IPY_MODEL_cf8a7d6fc01e4d18be6c262ccee8497f",
       "west": 180,
       "window_url": "http://localhost:8888/lab",
       "zoom": 13
      }
     },
     "e7971193c23343aaa98335de3e1b5ec6": {
      "model_module": "jupyter-leaflet",
      "model_module_version": "^0.13.2",
      "model_name": "LeafletMarkerModel",
      "state": {
       "_model_module_version": "^0.13.2",
       "_view_module_version": "^0.13.2",
       "location": [
        59.925622,
        10.760822
       ],
       "options": [
        "alt",
        "draggable",
        "keyboard",
        "rise_offset",
        "rise_on_hover",
        "rotation_angle",
        "rotation_origin",
        "title",
        "z_index_offset"
       ],
       "popup": "IPY_MODEL_bc374b38f9e64608b0c3e2032f0e55fa",
       "title": "210 Birkelunden"
      }
     },
     "e7f8cf7b426f4d25b059bd5c65161c29": {
      "model_module": "jupyter-leaflet",
      "model_module_version": "^0.13.2",
      "model_name": "LeafletPopupModel",
      "state": {
       "_model_module_version": "^0.13.2",
       "_view_module_version": "^0.13.2",
       "auto_close": false,
       "auto_pan": true,
       "auto_pan_padding": [
        5,
        5
       ],
       "auto_pan_padding_bottom_right": null,
       "auto_pan_padding_top_left": null,
       "child": "IPY_MODEL_59d7bc7327c44cc09f4f28ec0ba287c1",
       "class_name": "",
       "close_button": false,
       "close_on_escape_key": false,
       "keep_in_view": false,
       "location": [
        52.204793,
        360.121558
       ],
       "options": [
        "auto_close",
        "auto_pan",
        "auto_pan_padding",
        "auto_pan_padding_bottom_right",
        "auto_pan_padding_top_left",
        "class_name",
        "close_button",
        "close_on_escape_key",
        "keep_in_view",
        "max_height",
        "max_width",
        "min_width"
       ]
      }
     },
     "e82823386bad403ab31d77b3362b74d9": {
      "model_module": "@jupyter-widgets/controls",
      "model_module_version": "1.5.0",
      "model_name": "HTMLModel",
      "state": {
       "layout": "IPY_MODEL_46cc7b516aa944b2aa64ce1f5a8636de",
       "style": "IPY_MODEL_5938bcfd6036487683f8bc9d77d7259a",
       "value": "230 Thune<br/>3.51 km to center"
      }
     },
     "e831d410af8e4b03b08e7b57d6a100fd": {
      "model_module": "@jupyter-widgets/controls",
      "model_module_version": "1.5.0",
      "model_name": "DescriptionStyleModel",
      "state": {
       "description_width": ""
      }
     },
     "e87d014b7bf849a28eb8d34194d0586e": {
      "model_module": "@jupyter-widgets/base",
      "model_module_version": "1.2.0",
      "model_name": "LayoutModel",
      "state": {}
     },
     "e8a9009b06c14641b38e5c3bbea95535": {
      "model_module": "@jupyter-widgets/controls",
      "model_module_version": "1.5.0",
      "model_name": "DescriptionStyleModel",
      "state": {
       "description_width": ""
      }
     },
     "e8adf13f94bd4971bd4a7ade6d018e31": {
      "model_module": "@jupyter-widgets/controls",
      "model_module_version": "1.5.0",
      "model_name": "HTMLModel",
      "state": {
       "layout": "IPY_MODEL_6077165d943f43c69903ce717b8e1443",
       "style": "IPY_MODEL_098e2523e94a41f7b7cae5a970bd72e4",
       "value": "167 Pilestredet Park Studenthus<br/>1.10 km to center"
      }
     },
     "e8c1997b67fa40fcb00800b8e0347071": {
      "model_module": "@jupyter-widgets/base",
      "model_module_version": "1.2.0",
      "model_name": "LayoutModel",
      "state": {}
     },
     "e90ac68e18fe4020adfa2f34dd86690e": {
      "model_module": "@jupyter-widgets/controls",
      "model_module_version": "1.5.0",
      "model_name": "DescriptionStyleModel",
      "state": {
       "description_width": ""
      }
     },
     "e90ee7054a1d470db875819b29179d6c": {
      "model_module": "@jupyter-widgets/controls",
      "model_module_version": "1.5.0",
      "model_name": "DescriptionStyleModel",
      "state": {
       "description_width": ""
      }
     },
     "e9a202a21e5040ce8c2a9c53720cbd4e": {
      "model_module": "jupyter-leaflet",
      "model_module_version": "^0.13.2",
      "model_name": "LeafletMarkerModel",
      "state": {
       "_model_module_version": "^0.13.2",
       "_view_module_version": "^0.13.2",
       "location": [
        59.909056,
        10.756217
       ],
       "options": [
        "alt",
        "draggable",
        "keyboard",
        "rise_offset",
        "rise_on_hover",
        "rotation_angle",
        "rotation_origin",
        "title",
        "z_index_offset"
       ],
       "popup": "IPY_MODEL_252e9144278640a992b25ece0c3ddc44",
       "title": "297 Bjørvika"
      }
     },
     "ea553afa34974402a29a80f19385376e": {
      "model_module": "@jupyter-widgets/base",
      "model_module_version": "1.2.0",
      "model_name": "LayoutModel",
      "state": {}
     },
     "ea98902613d54d12acf4c068adcb8176": {
      "model_module": "@jupyter-widgets/base",
      "model_module_version": "1.2.0",
      "model_name": "LayoutModel",
      "state": {}
     },
     "eaca33fba03a4db5a2ac8e4798ce5935": {
      "model_module": "jupyter-leaflet",
      "model_module_version": "^0.13.2",
      "model_name": "LeafletMarkerModel",
      "state": {
       "_model_module_version": "^0.13.2",
       "_view_module_version": "^0.13.2",
       "location": [
        59.912779,
        10.751116
       ],
       "options": [
        "alt",
        "draggable",
        "keyboard",
        "rise_offset",
        "rise_on_hover",
        "rotation_angle",
        "rotation_origin",
        "title",
        "z_index_offset"
       ],
       "popup": "IPY_MODEL_11e4383916dd4c24a70528164caf4e15",
       "title": "211 Oslo City"
      }
     },
     "eb57f09e48b843dab5b5a06008c03add": {
      "model_module": "@jupyter-widgets/base",
      "model_module_version": "1.2.0",
      "model_name": "LayoutModel",
      "state": {}
     },
     "eb8273e436d8461294f603966767d61e": {
      "model_module": "@jupyter-widgets/controls",
      "model_module_version": "1.5.0",
      "model_name": "HTMLModel",
      "state": {
       "layout": "IPY_MODEL_1dc87fed02b84cbdbafa9b7d888128d1",
       "style": "IPY_MODEL_933d72674e5847529dac54d3d1f3726f",
       "value": "255 Chr. Michelsens Gate<br/>2.21 km to center"
      }
     },
     "ebb4ab061ed54f7c8d4f4897b1e34fd9": {
      "model_module": "jupyter-leaflet",
      "model_module_version": "^0.13.2",
      "model_name": "LeafletMarkerModel",
      "state": {
       "_model_module_version": "^0.13.2",
       "_view_module_version": "^0.13.2",
       "location": [
        59.922483,
        10.751129
       ],
       "options": [
        "alt",
        "draggable",
        "keyboard",
        "rise_offset",
        "rise_on_hover",
        "rotation_angle",
        "rotation_origin",
        "title",
        "z_index_offset"
       ],
       "popup": "IPY_MODEL_9a2fd5b337b5448283690d350d17b68d",
       "title": "235 Vulkan"
      }
     },
     "ec11464b742a463b9179456812b64760": {
      "model_module": "@jupyter-widgets/controls",
      "model_module_version": "1.5.0",
      "model_name": "HTMLModel",
      "state": {
       "layout": "IPY_MODEL_9908b9e252014061a43c4d9e25a2df94",
       "style": "IPY_MODEL_3d2f91ec1f1e4b848aac6a9704ab988c",
       "value": "248 Ila<br/>2.13 km to center"
      }
     },
     "ec24322e17dc4eeca55b6ed3d3cd53de": {
      "model_module": "@jupyter-widgets/controls",
      "model_module_version": "1.5.0",
      "model_name": "HTMLModel",
      "state": {
       "layout": "IPY_MODEL_f6dc8b7767ba4c12b3b8f68524b618e0",
       "style": "IPY_MODEL_cb137b176638499bb9cdd4b5cc599241",
       "value": "186 Fred Olsens gate<br/>0.27 km to center"
      }
     },
     "ec5653207e3b40b2bbc6f6b5ff3dfacd": {
      "model_module": "@jupyter-widgets/controls",
      "model_module_version": "1.5.0",
      "model_name": "DescriptionStyleModel",
      "state": {
       "description_width": ""
      }
     },
     "ed699434035f44bd8d308fd33f11fbf7": {
      "model_module": "@jupyter-widgets/controls",
      "model_module_version": "1.5.0",
      "model_name": "HTMLModel",
      "state": {
       "layout": "IPY_MODEL_bf51769a4cf4476ca27e7c65a981cdd8",
       "style": "IPY_MODEL_3bb5ca89712047bcb637fe4ee3120a78",
       "value": "167 Pilestredet Park Studenthus<br/>1.10km to center"
      }
     },
     "edf2c0ec312b4d9db27e2fd05e2d13aa": {
      "model_module": "jupyter-leaflet",
      "model_module_version": "^0.13.2",
      "model_name": "LeafletMarkerModel",
      "state": {
       "_model_module_version": "^0.13.2",
       "_view_module_version": "^0.13.2",
       "location": [
        59.912727,
        10.710035
       ],
       "options": [
        "alt",
        "draggable",
        "keyboard",
        "rise_offset",
        "rise_on_hover",
        "rotation_angle",
        "rotation_origin",
        "title",
        "z_index_offset"
       ],
       "popup": "IPY_MODEL_2b47d1563e4b4e2685b9c4242e706901",
       "title": "290 Skillebekk"
      }
     },
     "ee955874dd6f4f1da50e3090a2c76ed9": {
      "model_module": "@jupyter-widgets/controls",
      "model_module_version": "1.5.0",
      "model_name": "DescriptionStyleModel",
      "state": {
       "description_width": ""
      }
     },
     "eedd16f9d61c4487b0f99a3688a98f6a": {
      "model_module": "@jupyter-widgets/base",
      "model_module_version": "1.2.0",
      "model_name": "LayoutModel",
      "state": {}
     },
     "eef28d7755914ace8b88ef725701a3c7": {
      "model_module": "@jupyter-widgets/base",
      "model_module_version": "1.2.0",
      "model_name": "LayoutModel",
      "state": {}
     },
     "ef08cb7a74c4488aba43ed9da7c8d155": {
      "model_module": "jupyter-leaflet",
      "model_module_version": "^0.13.2",
      "model_name": "LeafletMapStyleModel",
      "state": {
       "_model_module_version": "^0.13.2",
       "cursor": "move"
      }
     },
     "ef3da2a2679342c19d9c0c7144e31c72": {
      "model_module": "@jupyter-widgets/base",
      "model_module_version": "1.2.0",
      "model_name": "LayoutModel",
      "state": {}
     },
     "f0700bdca2224a7fbe74eba728563150": {
      "model_module": "@jupyter-widgets/base",
      "model_module_version": "1.2.0",
      "model_name": "LayoutModel",
      "state": {}
     },
     "f0dd9b00b96c4442a451c61193b20818": {
      "model_module": "jupyter-leaflet",
      "model_module_version": "^0.13.2",
      "model_name": "LeafletMarkerModel",
      "state": {
       "_model_module_version": "^0.13.2",
       "_view_module_version": "^0.13.2",
       "location": [
        59.910215,
        10.751687
       ],
       "options": [
        "alt",
        "draggable",
        "keyboard",
        "rise_offset",
        "rise_on_hover",
        "rotation_angle",
        "rotation_origin",
        "title",
        "z_index_offset"
       ],
       "popup": "IPY_MODEL_abf6d89ec5c5467cb0fe4cb11a9315e0",
       "title": "160 Sjøsiden vest"
      }
     },
     "f0f491b114ba499ebd12a4421a74df6c": {
      "model_module": "jupyter-leaflet",
      "model_module_version": "^0.13.2",
      "model_name": "LeafletMarkerModel",
      "state": {
       "_model_module_version": "^0.13.2",
       "_view_module_version": "^0.13.2",
       "location": [
        59.937955,
        10.719527
       ],
       "options": [
        "alt",
        "draggable",
        "keyboard",
        "rise_offset",
        "rise_on_hover",
        "rotation_angle",
        "rotation_origin",
        "title",
        "z_index_offset"
       ],
       "popup": "IPY_MODEL_9fa9290629e84265b65bd19ce11c7933",
       "title": "304 Fysikkbygningen"
      }
     },
     "f0f9fa8853d54b7d81bc2a2423f9e0f6": {
      "model_module": "jupyter-leaflet",
      "model_module_version": "^0.13.2",
      "model_name": "LeafletMarkerModel",
      "state": {
       "_model_module_version": "^0.13.2",
       "_view_module_version": "^0.13.2",
       "location": [
        59.926872,
        10.738456
       ],
       "options": [
        "alt",
        "draggable",
        "keyboard",
        "rise_offset",
        "rise_on_hover",
        "rotation_angle",
        "rotation_origin",
        "title",
        "z_index_offset"
       ],
       "popup": "IPY_MODEL_6b70822247c64743b144bf0b02ceeb39",
       "title": "161 St. Hanshaugen park vest"
      }
     },
     "f150a714987b41d7a6e7f1c6d697e809": {
      "model_module": "@jupyter-widgets/controls",
      "model_module_version": "1.5.0",
      "model_name": "DescriptionStyleModel",
      "state": {
       "description_width": ""
      }
     },
     "f15d527d894041618cc1967770c98f06": {
      "model_module": "@jupyter-widgets/controls",
      "model_module_version": "1.5.0",
      "model_name": "HTMLModel",
      "state": {
       "layout": "IPY_MODEL_c98abac655dc481c97e5644c1a7749b8",
       "style": "IPY_MODEL_e831d410af8e4b03b08e7b57d6a100fd",
       "value": "293 Karenlyst allé<br/>3.58 km to center"
      }
     },
     "f1c5f465770c4976ade6dafce31cf40a": {
      "model_module": "@jupyter-widgets/base",
      "model_module_version": "1.2.0",
      "model_name": "LayoutModel",
      "state": {}
     },
     "f28f1714671d439cb677ebe2da4833a2": {
      "model_module": "@jupyter-widgets/base",
      "model_module_version": "1.2.0",
      "model_name": "LayoutModel",
      "state": {}
     },
     "f2f04e9b0802496687111ef86fac7929": {
      "model_module": "@jupyter-widgets/controls",
      "model_module_version": "1.5.0",
      "model_name": "DescriptionStyleModel",
      "state": {
       "description_width": ""
      }
     },
     "f3314d37b61142aa9521f3a65006ce58": {
      "model_module": "@jupyter-widgets/base",
      "model_module_version": "1.2.0",
      "model_name": "LayoutModel",
      "state": {}
     },
     "f3344d76a48d4214acb9a3f192a1e557": {
      "model_module": "@jupyter-widgets/controls",
      "model_module_version": "1.5.0",
      "model_name": "DescriptionStyleModel",
      "state": {
       "description_width": ""
      }
     },
     "f3446ecbdd744feca5db9ba9d8c5f0e1": {
      "model_module": "@jupyter-widgets/base",
      "model_module_version": "1.2.0",
      "model_name": "LayoutModel",
      "state": {}
     },
     "f3b88276c8eb488ebdcad9e5ecf8d921": {
      "model_module": "@jupyter-widgets/base",
      "model_module_version": "1.2.0",
      "model_name": "LayoutModel",
      "state": {}
     },
     "f3ed0a8be319476a8914e5b2fd8ae031": {
      "model_module": "@jupyter-widgets/controls",
      "model_module_version": "1.5.0",
      "model_name": "HTMLModel",
      "state": {
       "layout": "IPY_MODEL_e523dc437f334391a584ee64ea3c2c29",
       "style": "IPY_MODEL_496114cbbb334f23ad303e3f74ea859a",
       "value": "162 Arkitekt Rivertz Plass<br/>2.48km to center"
      }
     },
     "f4466c55918345c18aee3c440ae10ef6": {
      "model_module": "jupyter-leaflet",
      "model_module_version": "^0.13.2",
      "model_name": "LeafletMarkerModel",
      "state": {
       "_model_module_version": "^0.13.2",
       "_view_module_version": "^0.13.2",
       "location": [
        59.908184,
        10.767799
       ],
       "options": [
        "alt",
        "draggable",
        "keyboard",
        "rise_offset",
        "rise_on_hover",
        "rotation_angle",
        "rotation_origin",
        "title",
        "z_index_offset"
       ],
       "popup": "IPY_MODEL_4f84eda517214438b6b59858ca9ceb03",
       "title": "201 Munkegata trikkestopp"
      }
     },
     "f51b105cc4e647eb9e6b9229dc893a48": {
      "model_module": "@jupyter-widgets/controls",
      "model_module_version": "1.5.0",
      "model_name": "DescriptionStyleModel",
      "state": {
       "description_width": ""
      }
     },
     "f52c0f86077e48dea488e70355e88821": {
      "model_module": "jupyter-leaflet",
      "model_module_version": "^0.13.2",
      "model_name": "LeafletMapStyleModel",
      "state": {
       "_model_module_version": "^0.13.2"
      }
     },
     "f58aab125e1a439bbc3d2a16e8d6144b": {
      "model_module": "@jupyter-widgets/controls",
      "model_module_version": "1.5.0",
      "model_name": "HTMLModel",
      "state": {
       "layout": "IPY_MODEL_d5c7083296954a3c8b02afd496cbbfb2",
       "style": "IPY_MODEL_b3da321f085b472da83f08597e2da86b",
       "value": "209 Frogner Stadion<br/>2.69 km to center"
      }
     },
     "f5d2408fba2848c792be5156524dd1ea": {
      "model_module": "@jupyter-widgets/controls",
      "model_module_version": "1.5.0",
      "model_name": "HTMLModel",
      "state": {
       "layout": "IPY_MODEL_585be11d71214aa38853f03b844beb5e",
       "style": "IPY_MODEL_697acaab61dc4082b029ccedf951a01a",
       "value": "206 St. Hanshaugen<br/>1.27 km to center"
      }
     },
     "f61b088e50ea400e9f75f051b4d2f8cb": {
      "model_module": "@jupyter-widgets/controls",
      "model_module_version": "1.5.0",
      "model_name": "HTMLModel",
      "state": {
       "layout": "IPY_MODEL_a7e0b63086f94c82be18d7cbf42d242d",
       "style": "IPY_MODEL_4ab6610a48f64b729ace80dd1ad3d2ba",
       "value": "220 Kontraskjæret<br/>0.51 km to center"
      }
     },
     "f64d60cc81e94b2f98e1f3612f086a3d": {
      "model_module": "@jupyter-widgets/base",
      "model_module_version": "1.2.0",
      "model_name": "LayoutModel",
      "state": {}
     },
     "f65f325cce4249c0ac656c1b35dd484a": {
      "model_module": "@jupyter-widgets/base",
      "model_module_version": "1.2.0",
      "model_name": "LayoutModel",
      "state": {}
     },
     "f688bef966604e5a93435cf9006379f0": {
      "model_module": "jupyter-leaflet",
      "model_module_version": "^0.13.2",
      "model_name": "LeafletMarkerModel",
      "state": {
       "_model_module_version": "^0.13.2",
       "_view_module_version": "^0.13.2",
       "location": [
        59.91529,
        10.748453
       ],
       "options": [
        "alt",
        "draggable",
        "keyboard",
        "rise_offset",
        "rise_on_hover",
        "rotation_angle",
        "rotation_origin",
        "title",
        "z_index_offset"
       ],
       "popup": "IPY_MODEL_18bc062bda4c4e03836593fcaaa0e56a",
       "title": "306 Møllergata"
      }
     },
     "f6c2736f5dbc4be89ea1b3da276b230b": {
      "model_module": "@jupyter-widgets/controls",
      "model_module_version": "1.5.0",
      "model_name": "DescriptionStyleModel",
      "state": {
       "description_width": ""
      }
     },
     "f6dc8b7767ba4c12b3b8f68524b618e0": {
      "model_module": "@jupyter-widgets/base",
      "model_module_version": "1.2.0",
      "model_name": "LayoutModel",
      "state": {}
     },
     "f70892f42c53451395a705440745cf59": {
      "model_module": "@jupyter-widgets/base",
      "model_module_version": "1.2.0",
      "model_name": "LayoutModel",
      "state": {}
     },
     "f7443b87e024461fb953eb05ce6ebe24": {
      "model_module": "@jupyter-widgets/controls",
      "model_module_version": "1.5.0",
      "model_name": "HTMLModel",
      "state": {
       "layout": "IPY_MODEL_6e06ac601f354fefa4014773f8da6c72",
       "style": "IPY_MODEL_12c7d3b105404525b2b4832c17113893",
       "value": "219 Gimle Kino<br/>2.16 km to center"
      }
     },
     "f7a8027b6096492183b3753877623528": {
      "model_module": "@jupyter-widgets/controls",
      "model_module_version": "1.5.0",
      "model_name": "DescriptionStyleModel",
      "state": {
       "description_width": ""
      }
     },
     "f7d2c70c44bb4750b163f86b799742af": {
      "model_module": "jupyter-leaflet",
      "model_module_version": "^0.13.2",
      "model_name": "LeafletMarkerModel",
      "state": {
       "_model_module_version": "^0.13.2",
       "_view_module_version": "^0.13.2",
       "location": [
        59.914742,
        10.741007
       ],
       "options": [
        "alt",
        "draggable",
        "keyboard",
        "rise_offset",
        "rise_on_hover",
        "rotation_angle",
        "rotation_origin",
        "title",
        "z_index_offset"
       ],
       "popup": "IPY_MODEL_101d6c65657649bf881538b669457cb4",
       "title": "301 Professor Aschehougs plass"
      }
     },
     "f83de052e0d04e41b8fe0d2b272d22ca": {
      "model_module": "@jupyter-widgets/controls",
      "model_module_version": "1.5.0",
      "model_name": "HTMLModel",
      "state": {
       "layout": "IPY_MODEL_13180cb66e1e4d9e9eb636693161c67b",
       "style": "IPY_MODEL_ce145c16c8e54f2fa260239cff5be4ea",
       "value": "267 Bislett Stadion<br/>1.64 km to center"
      }
     },
     "f845fe5f75214799b54a3559a7bb4f64": {
      "model_module": "@jupyter-widgets/controls",
      "model_module_version": "1.5.0",
      "model_name": "DescriptionStyleModel",
      "state": {
       "description_width": ""
      }
     },
     "f885e84379df490687b3e33891287fd6": {
      "model_module": "@jupyter-widgets/controls",
      "model_module_version": "1.5.0",
      "model_name": "DescriptionStyleModel",
      "state": {
       "description_width": ""
      }
     },
     "f88788a02b3b49dc933fb3cfaa5a5690": {
      "model_module": "@jupyter-widgets/controls",
      "model_module_version": "1.5.0",
      "model_name": "HTMLModel",
      "state": {
       "layout": "IPY_MODEL_624291e4d3304a64929c70e8c23c9445",
       "style": "IPY_MODEL_428a863dd74e4cdcbb547a7010bfc9bd",
       "value": "271 Fagerheimgata<br/>2.15 km to center"
      }
     },
     "f8c2eda1768d4e309035fb161da252c8": {
      "model_module": "jupyter-leaflet",
      "model_module_version": "^0.13.2",
      "model_name": "LeafletMarkerModel",
      "state": {
       "_model_module_version": "^0.13.2",
       "_view_module_version": "^0.13.2",
       "location": [
        59.928005,
        10.708656
       ],
       "options": [
        "alt",
        "draggable",
        "keyboard",
        "rise_offset",
        "rise_on_hover",
        "rotation_angle",
        "rotation_origin",
        "title",
        "z_index_offset"
       ],
       "popup": "IPY_MODEL_f58aab125e1a439bbc3d2a16e8d6144b",
       "title": "209 Frogner Stadion"
      }
     },
     "f97a74843c00497585c3dd4e671e1415": {
      "model_module": "@jupyter-widgets/base",
      "model_module_version": "1.2.0",
      "model_name": "LayoutModel",
      "state": {}
     },
     "fa1c57f275834952b36e582a1695c85c": {
      "model_module": "@jupyter-widgets/controls",
      "model_module_version": "1.5.0",
      "model_name": "DescriptionStyleModel",
      "state": {
       "description_width": ""
      }
     },
     "fb85c949a9de408aa903d259f7a61606": {
      "model_module": "@jupyter-widgets/base",
      "model_module_version": "1.2.0",
      "model_name": "LayoutModel",
      "state": {}
     },
     "fbeec2e9fc5041508f5496a39f49dc28": {
      "model_module": "@jupyter-widgets/base",
      "model_module_version": "1.2.0",
      "model_name": "LayoutModel",
      "state": {}
     },
     "fc1a57de004b41388ed7c9f12376b192": {
      "model_module": "@jupyter-widgets/controls",
      "model_module_version": "1.5.0",
      "model_name": "HTMLModel",
      "state": {
       "layout": "IPY_MODEL_bdd791c8d3e44095ba06a22b5be18967",
       "style": "IPY_MODEL_479d2e6dfc804eda9c9f75c580349d36",
       "value": "157 Nylandsveien<br/>0.9568870577359012km to center"
      }
     },
     "fd0990ea221d403690e982dc568eb378": {
      "model_module": "@jupyter-widgets/controls",
      "model_module_version": "1.5.0",
      "model_name": "DescriptionStyleModel",
      "state": {
       "description_width": ""
      }
     },
     "fec1e9fe0b5743c6b4fd15e8f4ddb015": {
      "model_module": "@jupyter-widgets/controls",
      "model_module_version": "1.5.0",
      "model_name": "HTMLModel",
      "state": {
       "layout": "IPY_MODEL_eedd16f9d61c4487b0f99a3688a98f6a",
       "style": "IPY_MODEL_76b3fe3862c4446a83aea019b2cefba5",
       "value": "284 Majorstuen skole<br/>2.65 km to center"
      }
     },
     "fec40ed6d92a4552abd197103f3908d4": {
      "model_module": "jupyter-leaflet",
      "model_module_version": "^0.13.2",
      "model_name": "LeafletMarkerModel",
      "state": {
       "_model_module_version": "^0.13.2",
       "_view_module_version": "^0.13.2",
       "location": [
        59.912203,
        10.754497
       ],
       "options": [
        "alt",
        "draggable",
        "keyboard",
        "rise_offset",
        "rise_on_hover",
        "rotation_angle",
        "rotation_origin",
        "title",
        "z_index_offset"
       ],
       "popup": "IPY_MODEL_d45f205edd864be091b6e508e8221ad1",
       "title": "281 Oslo Plaza"
      }
     },
     "ff688613cf9c4c858cc7dcb6c03d411a": {
      "model_module": "@jupyter-widgets/controls",
      "model_module_version": "1.5.0",
      "model_name": "HTMLModel",
      "state": {
       "layout": "IPY_MODEL_dc9bf7f8b5584ea78f29bea02af611b5",
       "style": "IPY_MODEL_797b5de1ab264ff7b1804d8d372f75ee",
       "value": "163 Vaterlandsparken<br/>0.63 km to center"
      }
     },
     "ff7dbe7df7b14b04b97792894b77dccd": {
      "model_module": "jupyter-leaflet",
      "model_module_version": "^0.13.2",
      "model_name": "LeafletTileLayerModel",
      "state": {
       "_model_module_version": "^0.13.2",
       "_view_module_version": "^0.13.2",
       "base": true,
       "max_native_zoom": 18,
       "max_zoom": 19,
       "min_native_zoom": 0,
       "min_zoom": 1,
       "options": [
        "attribution",
        "detect_retina",
        "max_native_zoom",
        "max_zoom",
        "min_native_zoom",
        "min_zoom",
        "no_wrap",
        "tile_size",
        "tms"
       ]
      }
     },
     "ffbcaa2fc3e44c83b6c2e3c117311187": {
      "model_module": "@jupyter-widgets/controls",
      "model_module_version": "1.5.0",
      "model_name": "DescriptionStyleModel",
      "state": {
       "description_width": ""
      }
     },
     "fffc9603d1a54aa19c307203eaa2449d": {
      "model_module": "@jupyter-widgets/controls",
      "model_module_version": "1.5.0",
      "model_name": "HTMLModel",
      "state": {
       "layout": "IPY_MODEL_295e7f1cef0a4e7a950be3945b77635d",
       "style": "IPY_MODEL_3e8264ebf74548c5b5fc212b70e7e40b",
       "value": "177 Tøyenparken<br/>1.79 km to center"
      }
     }
    },
    "version_major": 2,
    "version_minor": 0
   }
  }
 },
 "nbformat": 4,
 "nbformat_minor": 4
}
