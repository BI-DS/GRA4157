{
 "cells": [
  {
   "cell_type": "markdown",
   "metadata": {
    "slideshow": {
     "slide_type": "slide"
    }
   },
   "source": [
    "# User input and textfiles\n",
    "\n"
   ]
  },
  {
   "cell_type": "markdown",
   "metadata": {
    "slideshow": {
     "slide_type": "slide"
    }
   },
   "source": [
    "## Contents\n",
    "  \n",
    "* User input (sys)\n",
    "* User input (input)\n",
    "* Useful string operations\n",
    "* Reading data from files\n",
    "* Writing data to file\n",
    "* Errors/exceptions"
   ]
  },
  {
   "cell_type": "markdown",
   "metadata": {
    "slideshow": {
     "slide_type": "subslide"
    }
   },
   "source": [
    "## Command line arguments:\n",
    "\n",
    "Command line arguments are \"words\" written after the program name when you run it, e.g. \n",
    "```bash\n",
    "python3 hello_world.py 10\n",
    "```\n",
    "Here the command line argument is 10. If you are running from spyder on anaconda (or any iPyhon environment) command line arguments are provided by\n",
    "\n",
    "```python\n",
    "!python3 hello_world.py 10\n",
    "```"
   ]
  },
  {
   "cell_type": "markdown",
   "metadata": {
    "slideshow": {
     "slide_type": "subslide"
    }
   },
   "source": [
    "## Recap of the sys.argv list:\n",
    "\n",
    "sys is a python package and may be imported by\n",
    "```python\n",
    "import sys\n",
    "```\n",
    "\n"
   ]
  },
  {
   "cell_type": "markdown",
   "metadata": {
    "slideshow": {
     "slide_type": "subslide"
    }
   },
   "source": [
    "### The first example (test_sys.py):\n",
    "\n",
    "\n",
    "```python\n",
    "\n",
    "import sys\n",
    "print(f\"In this program, {sys.argv[1]} is the command line argument\")\n",
    "\n",
    "```"
   ]
  },
  {
   "cell_type": "code",
   "execution_count": 3,
   "metadata": {},
   "outputs": [
    {
     "name": "stdout",
     "output_type": "stream",
     "text": [
      "In this program, 10 is the command line argument\r\n"
     ]
    }
   ],
   "source": [
    "!python3 test_sys.py 10"
   ]
  },
  {
   "cell_type": "markdown",
   "metadata": {
    "slideshow": {
     "slide_type": "subslide"
    }
   },
   "source": [
    "### Several command line arguments (test_sys2.py)\n",
    "\n",
    "the \"magic\" sys.argv[1] line refers to the list sys.argv which consists of all the words (separated by spaces) that are listed on the command line (including the program name)\n",
    "\n",
    "```python\n",
    "import sys\n",
    "\n",
    "sys_argv_list = sys.argv\n",
    "cmd_args = sys.argv[1:]\n",
    "\n",
    "print(\"The sys.argv list looks like this: \", sys_argv_list)\n",
    "print(\"But we are only interested in these arguments: \", cmd_args)\n",
    "```"
   ]
  },
  {
   "cell_type": "code",
   "execution_count": 4,
   "metadata": {},
   "outputs": [
    {
     "name": "stdout",
     "output_type": "stream",
     "text": [
      "The sys.argv list looks like this:  ['test_sys2.py', '10', '20', '30', '40']\r\n",
      "But we are only interested in these arguments:  ['10', '20', '30', '40']\r\n"
     ]
    }
   ],
   "source": [
    "!python3 test_sys2.py 10 20 30 40"
   ]
  },
  {
   "cell_type": "markdown",
   "metadata": {
    "slideshow": {
     "slide_type": "slide"
    }
   },
   "source": [
    "# The input function\n",
    "Another way of getting user information is the input function. The user does not need to provide command line arguments, but can reply to questions from the program: "
   ]
  },
  {
   "cell_type": "code",
   "execution_count": 6,
   "metadata": {},
   "outputs": [
    {
     "name": "stdout",
     "output_type": "stream",
     "text": [
      "Write a number:10\n",
      "Your number is 10\n"
     ]
    }
   ],
   "source": [
    "number = input('Write a number:')\n",
    "print(f'Your number is {number}')"
   ]
  },
  {
   "cell_type": "code",
   "execution_count": null,
   "metadata": {},
   "outputs": [],
   "source": [
    "numbers = input(\"Write many numbers separated by spaces\")\n",
    "print(f\"Your numbers are\", numbers)"
   ]
  },
  {
   "cell_type": "code",
   "execution_count": null,
   "metadata": {},
   "outputs": [],
   "source": [
    "numbers = input(\"Write many numbers separated by spaces\")\n",
    "print(f\"Your numbers are\", numbers.split())"
   ]
  },
  {
   "cell_type": "markdown",
   "metadata": {},
   "source": [
    "The final exapmle is quite similar to the result from sys.argv[1:]. I prefer sys, it is faster. "
   ]
  },
  {
   "cell_type": "markdown",
   "metadata": {
    "slideshow": {
     "slide_type": "subslide"
    }
   },
   "source": [
    "## Useful string operations "
   ]
  },
  {
   "cell_type": "code",
   "execution_count": 3,
   "metadata": {},
   "outputs": [
    {
     "name": "stdout",
     "output_type": "stream",
     "text": [
      "Write the current day, date and time separated by spacesFriday 02 september 2022\n",
      "Today is Friday. The date is ['02', 'september']. The time is 2022\n"
     ]
    }
   ],
   "source": [
    "info = input(\"Write the current day, date and time separated by spaces\")\n",
    "infolist = info.split()\n",
    "day = infolist[0]\n",
    "date = infolist[1:-2]\n",
    "time = infolist[-1]\n",
    "print(f\"Today is {day}. The date is {date}. The time is {time}\")"
   ]
  },
  {
   "cell_type": "code",
   "execution_count": 12,
   "metadata": {},
   "outputs": [
    {
     "name": "stdout",
     "output_type": "stream",
     "text": [
      "Write the current day, date and time separated by commasFriday,September 09,12:30\n",
      "Today is Friday. The date is September 09. The time is 12:30\n"
     ]
    }
   ],
   "source": [
    "info = input(\"Write the current day, date and time separated by commas\")\n",
    "infolist = info.split(',')\n",
    "day = infolist[0]\n",
    "date = infolist[1]\n",
    "time = infolist[2]\n",
    "print(f\"Today is {day}. The date is {date}. The time is {time}\")"
   ]
  },
  {
   "cell_type": "markdown",
   "metadata": {
    "slideshow": {
     "slide_type": "subslide"
    }
   },
   "source": [
    "## The join method\n",
    "define the list\n",
    "```python\n",
    "date = ['09', 'September']\n",
    "```\n",
    "Can you extract the info from the list into one string saying only \"09 September\""
   ]
  },
  {
   "cell_type": "code",
   "execution_count": 10,
   "metadata": {},
   "outputs": [
    {
     "data": {
      "text/plain": [
       "'02 september'"
      ]
     },
     "execution_count": 10,
     "metadata": {},
     "output_type": "execute_result"
    }
   ],
   "source": [
    "' '.join(date)"
   ]
  },
  {
   "cell_type": "markdown",
   "metadata": {},
   "source": [
    "## Adding strings"
   ]
  },
  {
   "cell_type": "code",
   "execution_count": 11,
   "metadata": {},
   "outputs": [
    {
     "data": {
      "text/plain": [
       "'02 september'"
      ]
     },
     "execution_count": 11,
     "metadata": {},
     "output_type": "execute_result"
    }
   ],
   "source": [
    "date[0]+' '+date[1]"
   ]
  },
  {
   "cell_type": "markdown",
   "metadata": {
    "slideshow": {
     "slide_type": "slide"
    }
   },
   "source": [
    "# Reading from textfiles (.txt, .dat etc.)"
   ]
  },
  {
   "cell_type": "markdown",
   "metadata": {
    "slideshow": {
     "slide_type": "fragment"
    }
   },
   "source": [
    "To open a datafile in the same location as the current .py-file use the syntax open(filename) where filename is the name of the datafile as a string:\n",
    "```python\n",
    "infile = open('example_data.txt')\n",
    "```\n",
    "Here example_data may look like this: \n",
    "```bash\n",
    "This is the first line of the file\n",
    "This is the second line of the file\n",
    "Below comes the interesting part of the file: \n",
    "10 20 30 \n",
    "20 30 1\n",
    "2.2 125 6.45\n",
    "0.1 20 3.14\n",
    "```"
   ]
  },
  {
   "cell_type": "code",
   "execution_count": 1,
   "metadata": {},
   "outputs": [
    {
     "data": {
      "text/plain": [
       "<_io.TextIOWrapper name='example_data.txt' mode='r' encoding='UTF-8'>"
      ]
     },
     "execution_count": 1,
     "metadata": {},
     "output_type": "execute_result"
    }
   ],
   "source": [
    "infile = open('example_data.txt')\n",
    "infile"
   ]
  },
  {
   "cell_type": "markdown",
   "metadata": {
    "slideshow": {
     "slide_type": "subslide"
    }
   },
   "source": [
    "We can read the file line by line by using the method readline:"
   ]
  },
  {
   "cell_type": "code",
   "execution_count": 4,
   "metadata": {},
   "outputs": [
    {
     "name": "stdout",
     "output_type": "stream",
     "text": [
      "10 20 30 \n",
      "\n",
      "20 30 1\n",
      "\n"
     ]
    }
   ],
   "source": [
    "line1 = infile.readline()\n",
    "line2 = infile.readline()\n",
    "print(line1)\n",
    "print(line2)"
   ]
  },
  {
   "cell_type": "markdown",
   "metadata": {
    "slideshow": {
     "slide_type": "subslide"
    }
   },
   "source": [
    "If we are not interested in the first (few) lines we can call infile.readline() a few times to skip those lines. "
   ]
  },
  {
   "cell_type": "code",
   "execution_count": 6,
   "metadata": {},
   "outputs": [
    {
     "name": "stdout",
     "output_type": "stream",
     "text": [
      "Below comes the interesting part of the file: \n",
      "\n"
     ]
    }
   ],
   "source": [
    "infile = open('example_data.txt')\n",
    "infile.readline()\n",
    "infile.readline()\n",
    "line3 = infile.readline()\n",
    "print(line3)"
   ]
  },
  {
   "cell_type": "markdown",
   "metadata": {},
   "source": [
    "The TextIOWrapper can be iterated over and starts at the current line in the datafile. We have already called infile.readline() three times since opening the last time, thus the first three lines are omitted in the for loop below:"
   ]
  },
  {
   "cell_type": "code",
   "execution_count": 7,
   "metadata": {},
   "outputs": [
    {
     "name": "stdout",
     "output_type": "stream",
     "text": [
      "10 20 30 \n",
      "\n",
      "20 30 1\n",
      "\n",
      "2.2 125 6.45\n",
      "\n",
      "0.1 20 3.14\n",
      "\n"
     ]
    }
   ],
   "source": [
    "for line in infile:\n",
    "    print(line)"
   ]
  },
  {
   "cell_type": "code",
   "execution_count": 10,
   "metadata": {},
   "outputs": [
    {
     "name": "stdout",
     "output_type": "stream",
     "text": [
      "['This is the first line of the file\\n', 'This is the second line of the file\\n', 'Below comes the interesting part of the file: \\n', '10 20 30 \\n', '20 30 1\\n', '2.2 125 6.45\\n', '0.1 20 3.14\\n']\n"
     ]
    }
   ],
   "source": [
    "infile = open('example_data.txt')\n",
    "lines = infile.readlines()\n",
    "print(lines)"
   ]
  },
  {
   "cell_type": "markdown",
   "metadata": {},
   "source": [
    "Now assume that we wanted to store the numbers from the file in three lists/columns: c1, c2 and c3. In the end we should end up with: \n",
    "```python\n",
    "c1 = [10, 20, 2.2, 0.1]\n",
    "c2 = [20, 30, 125, 20]\n",
    "c3 = [30, 1, 6.45, 3.14]\n",
    "```"
   ]
  },
  {
   "cell_type": "markdown",
   "metadata": {
    "slideshow": {
     "slide_type": "subslide"
    }
   },
   "source": [
    "## Exercise:\n",
    "1) Read the file \"GRA4157/lectures/02-python-summary2/example_data.txt\" in python\n",
    "\n",
    "2) Create empty lists c1, c2, and c3. Then iterate over the infile and add the first number in each line to c1, the second number in each line to c2 and the third number to c3. The type of objects in the lists should be float. "
   ]
  },
  {
   "cell_type": "markdown",
   "metadata": {
    "slideshow": {
     "slide_type": "slide"
    }
   },
   "source": [
    "## Useful string operations 2:\n",
    "\n",
    "The methods startswith, in and endswith are useful string operations that may be used when reading files. \n",
    "\n",
    "example_data2.py\n",
    "```bash\n",
    "This is a header\n",
    "This is a header\n",
    "Numbers: 1 2 3\n",
    "Numbers: 2 3 4\n",
    "5 6 7\n",
    "```\n",
    "1) We are only interested in the lines that starts with \"Numbers\":"
   ]
  },
  {
   "cell_type": "code",
   "execution_count": 13,
   "metadata": {},
   "outputs": [
    {
     "name": "stdout",
     "output_type": "stream",
     "text": [
      "Numbers: 1 2 3\n",
      "\n",
      "Numbers: 2 3 4\n",
      "\n"
     ]
    }
   ],
   "source": [
    "infile = open('example_data2.txt')\n",
    "for line in infile:\n",
    "    if line.startswith('Number'):\n",
    "        print(line)"
   ]
  },
  {
   "cell_type": "markdown",
   "metadata": {},
   "source": [
    "2) We are only interested in the lines that does not end with \"header\""
   ]
  },
  {
   "cell_type": "code",
   "execution_count": 22,
   "metadata": {},
   "outputs": [
    {
     "name": "stdout",
     "output_type": "stream",
     "text": [
      "Numbers: 1 2 3\n",
      "\n",
      "Numbers: 2 3 4\n",
      "\n",
      "5 6 7\n",
      "\n"
     ]
    }
   ],
   "source": [
    "infile = open('example_data2.txt')\n",
    "for line in infile:\n",
    "    if not line.endswith('header\\n'):\n",
    "        print(line)"
   ]
  },
  {
   "cell_type": "code",
   "execution_count": 23,
   "metadata": {},
   "outputs": [
    {
     "name": "stdout",
     "output_type": "stream",
     "text": [
      "Numbers: 1 2 3\n",
      "\n",
      "Numbers: 2 3 4\n",
      "\n",
      "5 6 7\n",
      "\n"
     ]
    }
   ],
   "source": [
    "infile = open('example_data2.txt')\n",
    "for line in infile:\n",
    "    if not line.strip().endswith('header'):\n",
    "        print(line)"
   ]
  },
  {
   "cell_type": "markdown",
   "metadata": {},
   "source": [
    "3) We are only interested in lines that has the number 2 in them"
   ]
  },
  {
   "cell_type": "code",
   "execution_count": 25,
   "metadata": {},
   "outputs": [
    {
     "name": "stdout",
     "output_type": "stream",
     "text": [
      "Numbers: 1 2 3\n",
      "\n",
      "Numbers: 2 3 4\n",
      "\n"
     ]
    }
   ],
   "source": [
    "infile = open('example_data2.txt')\n",
    "for line in infile:\n",
    "    if '2' in line:\n",
    "        print(line)\n",
    "infile.close()"
   ]
  },
  {
   "cell_type": "markdown",
   "metadata": {
    "slideshow": {
     "slide_type": "slide"
    }
   },
   "source": [
    "# Writing to file:"
   ]
  },
  {
   "cell_type": "markdown",
   "metadata": {
    "slideshow": {
     "slide_type": "slide"
    }
   },
   "source": [
    "To write to file, we still use the open() function, but we have to specify that we want to write to file. \n",
    "```python\n",
    "outfile = open('outfile.txt','w')\n",
    "```\n",
    "The mode, here \"w\", indicates that we want to write to file. The default value (when nothing is provided as in the previous examples) indicates that we want to read from file. "
   ]
  },
  {
   "cell_type": "code",
   "execution_count": null,
   "metadata": {},
   "outputs": [
    {
     "name": "stdout",
     "output_type": "stream",
     "text": [
      "\u001b7\u001b[?47h\u001b[?1h\u001b=\r",
      "This is the first line to the file\r\n",
      "\u001b[7moutfile.txt (END)\u001b[m\u001b[K"
     ]
    }
   ],
   "source": [
    "outfile = open('outfile.txt','w')\n",
    "outfile.close()\n",
    "!less outfile.txt\n"
   ]
  },
  {
   "cell_type": "markdown",
   "metadata": {
    "slideshow": {
     "slide_type": "subslide"
    }
   },
   "source": [
    "## Strings\n",
    "\n",
    "Strings can be expressed as single quotes ('...') or double quotes (\"...\") with the same result:\n",
    "```python\n",
    "'some string'\n",
    "```\n",
    "is equivalent to \n",
    "```python\n",
    "\"some string\"\n",
    "```\n",
    "\n",
    "Triple-quoted strings can be multi line with embedded newlines:\n",
    "```python\n",
    "text = \"\"\"large portions of a text\n",
    "can be conveniently placed inside\n",
    "triple-quoted strings (newlines\n",
    "are preserved)\"\"\"\n",
    "```"
   ]
  },
  {
   "cell_type": "markdown",
   "metadata": {
    "slideshow": {
     "slide_type": "subslide"
    }
   },
   "source": [
    "## Special characters in strings"
   ]
  },
  {
   "cell_type": "markdown",
   "metadata": {
    "slideshow": {
     "slide_type": "-"
    }
   },
   "source": [
    "Use the backslash `\\` to escape special characters:"
   ]
  },
  {
   "cell_type": "code",
   "execution_count": 1,
   "metadata": {
    "slideshow": {
     "slide_type": "-"
    }
   },
   "outputs": [
    {
     "name": "stdout",
     "output_type": "stream",
     "text": [
      "\"This is a quote\" and \n",
      " here comes a backslash: \\\n"
     ]
    }
   ],
   "source": [
    "s = \"\\\"This is a quote\\\" and \\n here comes a backslash: \\\\\" \n",
    "print(s)"
   ]
  },
  {
   "cell_type": "markdown",
   "metadata": {
    "slideshow": {
     "slide_type": "subslide"
    }
   },
   "source": [
    "## String concatenation\n",
    "\n",
    "Strings can be *glued* together with the `+` and the `*` operators:\n"
   ]
  },
  {
   "cell_type": "code",
   "execution_count": 10,
   "metadata": {},
   "outputs": [
    {
     "data": {
      "text/plain": [
       "'hello hello hello world'"
      ]
     },
     "execution_count": 10,
     "metadata": {},
     "output_type": "execute_result"
    }
   ],
   "source": [
    "\"hello \" * 3 + \"world\""
   ]
  },
  {
   "cell_type": "markdown",
   "metadata": {},
   "source": [
    "This works also with string variables:"
   ]
  },
  {
   "cell_type": "code",
   "execution_count": 2,
   "metadata": {},
   "outputs": [
    {
     "data": {
      "text/plain": [
       "'I will not eat chips all day, I will not eat chips all day, I will not eat chips all day, I will not eat chips all day, I will not eat chips all day, I will not eat chips all day, I will not eat chips all day, I will not eat chips all day, I will not eat chips all day, I will not eat chips all day, I will not eat chips all day'"
      ]
     },
     "execution_count": 2,
     "metadata": {},
     "output_type": "execute_result"
    }
   ],
   "source": [
    "quote = \"I will not eat chips all day\"\n",
    "(quote + \", \") * 10 + quote"
   ]
  },
  {
   "cell_type": "markdown",
   "metadata": {
    "slideshow": {
     "slide_type": "subslide"
    }
   },
   "source": [
    "## Slicing"
   ]
  },
  {
   "cell_type": "markdown",
   "metadata": {},
   "source": [
    "You can extract a sub-string with the `[start:end]` slicing notation:"
   ]
  },
  {
   "cell_type": "code",
   "execution_count": 3,
   "metadata": {},
   "outputs": [
    {
     "data": {
      "text/plain": [
       "'will'"
      ]
     },
     "execution_count": 3,
     "metadata": {},
     "output_type": "execute_result"
    }
   ],
   "source": [
    "quote[2:6]"
   ]
  },
  {
   "cell_type": "markdown",
   "metadata": {},
   "source": [
    "If the `start` (`left`) argument is left out, the substring will start from the first (last) character:"
   ]
  },
  {
   "cell_type": "code",
   "execution_count": 4,
   "metadata": {},
   "outputs": [
    {
     "data": {
      "text/plain": [
       "'I will'"
      ]
     },
     "execution_count": 4,
     "metadata": {},
     "output_type": "execute_result"
    }
   ],
   "source": [
    "quote[:6]  # I will"
   ]
  },
  {
   "cell_type": "code",
   "execution_count": 5,
   "metadata": {},
   "outputs": [
    {
     "data": {
      "text/plain": [
       "'not eat chips all day'"
      ]
     },
     "execution_count": 5,
     "metadata": {},
     "output_type": "execute_result"
    }
   ],
   "source": [
    "quote[7:]  # not eat chips all day"
   ]
  },
  {
   "cell_type": "markdown",
   "metadata": {},
   "source": [
    "Negative indices can be used to index \"from the right\":"
   ]
  },
  {
   "cell_type": "markdown",
   "metadata": {},
   "source": [
    "```\n",
    " +---+---+---+---+---+\n",
    " | c | h | i | p | s |\n",
    " +---+---+---+---+---+\n",
    "   0   1   2   3   4\n",
    "  -5  -4  -3  -2  -1  \n",
    "```"
   ]
  },
  {
   "cell_type": "code",
   "execution_count": 17,
   "metadata": {},
   "outputs": [
    {
     "data": {
      "text/plain": [
       "'hi'"
      ]
     },
     "execution_count": 17,
     "metadata": {},
     "output_type": "execute_result"
    }
   ],
   "source": [
    "\"chips\"[1:-2]"
   ]
  },
  {
   "cell_type": "markdown",
   "metadata": {
    "slideshow": {
     "slide_type": "subslide"
    }
   },
   "source": [
    "## Python strings cannot be changed\n",
    "\n",
    "Python strings are **immutable**, meaning that they cannot be changed:"
   ]
  },
  {
   "cell_type": "code",
   "execution_count": 18,
   "metadata": {},
   "outputs": [
    {
     "ename": "TypeError",
     "evalue": "'str' object does not support item assignment",
     "output_type": "error",
     "traceback": [
      "\u001b[0;31m---------------------------------------------------------------------------\u001b[0m",
      "\u001b[0;31mTypeError\u001b[0m                                 Traceback (most recent call last)",
      "Input \u001b[0;32mIn [18]\u001b[0m, in \u001b[0;36m<cell line: 1>\u001b[0;34m()\u001b[0m\n\u001b[0;32m----> 1\u001b[0m \u001b[43mquote\u001b[49m\u001b[43m[\u001b[49m\u001b[38;5;241;43m1\u001b[39;49m\u001b[43m]\u001b[49m \u001b[38;5;241m=\u001b[39m \u001b[38;5;124m\"\u001b[39m\u001b[38;5;124mx\u001b[39m\u001b[38;5;124m\"\u001b[39m\n",
      "\u001b[0;31mTypeError\u001b[0m: 'str' object does not support item assignment"
     ]
    }
   ],
   "source": [
    "quote[1] = \"x\""
   ]
  },
  {
   "cell_type": "markdown",
   "metadata": {},
   "source": [
    "If one wants to change a string, one needs to create a new one:"
   ]
  },
  {
   "cell_type": "code",
   "execution_count": 19,
   "metadata": {},
   "outputs": [
    {
     "name": "stdout",
     "output_type": "stream",
     "text": [
      "Ixwill not eat chips all day\n"
     ]
    }
   ],
   "source": [
    "quote = quote[:1] + \"x\" + quote[2:]\n",
    "print(quote) "
   ]
  },
  {
   "cell_type": "markdown",
   "metadata": {
    "slideshow": {
     "slide_type": "subslide"
    }
   },
   "source": [
    "\n",
    "## More useful string operations"
   ]
  },
  {
   "cell_type": "markdown",
   "metadata": {
    "slideshow": {
     "slide_type": "-"
    }
   },
   "source": [
    "| Code               |   Meaning                                       |                                                                                                              \n",
    "|----------------------------|-------------------------------------------------|                                    \n",
    "|'day' in quote              |       True if string contains substring        |\n",
    "|quote.find('i')             |       index where first 'i' is found           |\n",
    "|quote.split()               |       split at whitespace (returns list)      |\n",
    "|quote.replace('chips', 'salad')|    replace all occurances                   |\n",
    "|quote.lower()                |      convert to lower case                    |\n",
    "|quote.upper()                |      convert to upper case                    |\n",
    "|quote.strip()                |      remove leading/trailing blanks           | "
   ]
  },
  {
   "cell_type": "markdown",
   "metadata": {},
   "source": [
    "Note that the modification operations return a **new** string  (since strings are immutable)."
   ]
  },
  {
   "cell_type": "markdown",
   "metadata": {
    "slideshow": {
     "slide_type": "subslide"
    }
   },
   "source": [
    "## Lists\n",
    "\n",
    "Python lists allow you to group together a sequence of values:"
   ]
  },
  {
   "cell_type": "code",
   "execution_count": 20,
   "metadata": {
    "slideshow": {
     "slide_type": "-"
    }
   },
   "outputs": [],
   "source": [
    "mylist  = ['Hello', 'world', '!!!']"
   ]
  },
  {
   "cell_type": "markdown",
   "metadata": {},
   "source": [
    "Generally lists are used when you have an ordered collection of the same *kind* of thing:\n",
    "\n",
    "- filenames\n",
    "- URLs\n",
    "- objects\n",
    "- numbers\n",
    "\n",
    "Lists do not *require* items to have the same type,\n",
    "though in practice they usually do"
   ]
  },
  {
   "cell_type": "code",
   "execution_count": 21,
   "metadata": {},
   "outputs": [],
   "source": [
    "mylist  = ['Hello', 4, True]"
   ]
  },
  {
   "cell_type": "markdown",
   "metadata": {
    "slideshow": {
     "slide_type": "subslide"
    }
   },
   "source": [
    "### List operations\n",
    "\n",
    "Many of the operations that we know from strings also work on lists, such as indexing:"
   ]
  },
  {
   "cell_type": "code",
   "execution_count": 22,
   "metadata": {},
   "outputs": [
    {
     "data": {
      "text/plain": [
       "'Hello'"
      ]
     },
     "execution_count": 22,
     "metadata": {},
     "output_type": "execute_result"
    }
   ],
   "source": [
    "mylist[0]"
   ]
  },
  {
   "cell_type": "markdown",
   "metadata": {},
   "source": [
    "..., slicing:"
   ]
  },
  {
   "cell_type": "code",
   "execution_count": 23,
   "metadata": {},
   "outputs": [
    {
     "data": {
      "text/plain": [
       "[4, True]"
      ]
     },
     "execution_count": 23,
     "metadata": {},
     "output_type": "execute_result"
    }
   ],
   "source": [
    "mylist[1:]"
   ]
  },
  {
   "cell_type": "markdown",
   "metadata": {},
   "source": [
    "and concatenation:"
   ]
  },
  {
   "cell_type": "code",
   "execution_count": 24,
   "metadata": {},
   "outputs": [
    {
     "data": {
      "text/plain": [
       "['Hello', 4, True, '!', '!', '!']"
      ]
     },
     "execution_count": 24,
     "metadata": {},
     "output_type": "execute_result"
    }
   ],
   "source": [
    "newlist = mylist + [\"!\"] * 3\n",
    "newlist"
   ]
  },
  {
   "cell_type": "markdown",
   "metadata": {
    "slideshow": {
     "slide_type": "subslide"
    }
   },
   "source": [
    "### Lists can be changed\n",
    "In constrast to `strings`, `lists` are **mutable** and can be changed:"
   ]
  },
  {
   "cell_type": "code",
   "execution_count": 25,
   "metadata": {},
   "outputs": [
    {
     "data": {
      "text/plain": [
       "[11, 12, 13]"
      ]
     },
     "execution_count": 25,
     "metadata": {},
     "output_type": "execute_result"
    }
   ],
   "source": [
    "mylist = [11, 12, 14]\n",
    "mylist[2] = 13\n",
    "mylist"
   ]
  },
  {
   "cell_type": "markdown",
   "metadata": {},
   "source": [
    "We can also append additional items to a list:"
   ]
  },
  {
   "cell_type": "code",
   "execution_count": 26,
   "metadata": {},
   "outputs": [
    {
     "data": {
      "text/plain": [
       "[11, 12, 13, 14]"
      ]
     },
     "execution_count": 26,
     "metadata": {},
     "output_type": "execute_result"
    }
   ],
   "source": [
    "mylist.append(14)\n",
    "mylist"
   ]
  },
  {
   "cell_type": "markdown",
   "metadata": {
    "slideshow": {
     "slide_type": "subslide"
    }
   },
   "source": [
    "## Cheat sheet for Python lists\n",
    "\n",
    "| Construction               |   Meaning                                       |                                                                                                              \n",
    "|----------------------------|-------------------------------------------------|                                                                                                              \n",
    "| a = []                   | initialize an empty list                        |                                                                                                               \n",
    "| a = [1, 4.4, 'run.py']   | initialize a list                               |                                                                                                               \n",
    "| a.append(elem)           | add elem object to the end                    |                                                                                                               \n",
    "| a + [1,3]                | add two lists                                   |                                                                                                               \n",
    "| a.insert(i, e)           | insert element e before index i             |                                                                                                               \n",
    "| a[3]                     | index a list element                            |                                                                                                               \n",
    "| a[-1]                    | get last list element                           |                                                                                                              \n",
    "| a[1:3]                   | slice: return sublist (here: index 1, 2)  |                                                                                                               \n",
    "| del a[3]                 | delete an element (index 3)                   |                                                                                                              \n",
    "| a.remove(e)              | remove an element with value e                |                                                                                                               \n",
    "| a.index('run.py')        | find index corresponding to an element's value  |                                                                                                              \n",
    "| 'value' in a            | test if a value is contained in the list        |                                                                                                               \n",
    "| a.count(v)               | count how many elements have the value v |                                                                                                              \n",
    "| len(a)                   | number of elements in list a                  |                                                                                                               \n",
    "| min(a)                   | the smallest element in a                     |                                                                                                              \n",
    "| max(a)                   | the largest element in a                      |                                                                                                               \n",
    "| sum(a)                   | add all elements in a                         |                                                                                                              \n",
    "| sorted(a)                | return sorted version of list a               |                                                                                                               \n",
    "| reversed(a)              | return reversed view version of list a      |                                                                                                              \n",
    "| b[3][0][2]               | nested list indexing                            |                                                                                                               \n",
    "| isinstance(a, list)      | is True if a is a list                      |                                                                                                              \n",
    "| type(a) is list          | is True if a is a list                      |                                                                                                                "
   ]
  },
  {
   "cell_type": "markdown",
   "metadata": {
    "slideshow": {
     "slide_type": "subslide"
    }
   },
   "source": [
    "### Tuples\n",
    "\n",
    "Tuples are very similar to lists, but they are **immutable**, just like strings.\n",
    "\n",
    "Functionally, they are essentially immutable lists,\n",
    "but they tend to be used for a differnt purpose:\n",
    "\n",
    "> a single \"thing\" with multiple components\n",
    "\n",
    "Tuples are created with parentheses:"
   ]
  },
  {
   "cell_type": "code",
   "execution_count": null,
   "metadata": {},
   "outputs": [],
   "source": [
    "mytuple = ('a string', 2.5, 6, 'another string')"
   ]
  },
  {
   "cell_type": "markdown",
   "metadata": {},
   "source": [
    "Since tuples are immutable we cannot change them:\n",
    "```python\n",
    "mytuple[1] = -10  # Error, tuple cannot be changed\n",
    "```"
   ]
  },
  {
   "cell_type": "markdown",
   "metadata": {
    "slideshow": {
     "slide_type": "fragment"
    }
   },
   "source": [
    "Instead we need to create a new tuple with the changed values, for example by converting the tuple to a list, changing it, and converting it back to a tuple:"
   ]
  },
  {
   "cell_type": "code",
   "execution_count": null,
   "metadata": {},
   "outputs": [],
   "source": [
    "l = list(mytuple)   # convert tuple to list (copy)\n",
    "l[1:3] = [\"is\", \"not\"]\n",
    "mytuple = tuple(l)  # convert list to tuple (copy)\n",
    "mytuple"
   ]
  },
  {
   "cell_type": "markdown",
   "metadata": {
    "slideshow": {
     "slide_type": "subslide"
    }
   },
   "source": [
    "## Tuple cheat sheet\n",
    "\n",
    "| Code               |   Meaning                                       |                                                                                                              \n",
    "|----------------------------|-------------------------------------------------|                                                                                                              \n",
    "| a = ()                   | initialize an empty tuple                        |                                                                                                               \n",
    "| a = (1, 4.4, 'run.py')   | initialize a tuple                               |                                                                                                               \n",
    "| a + (1,3)                | concatenate two tuples (returns a new tuple) |                                                                                                           \n",
    "| a[3]                     | index a list element                            |                                                                                                               \n",
    "| a[-1]                    | get last list element                           |                                                                                                              \n",
    "| a[1:3]                   | slice: return subtuple (here: index 1, 2)  |                                                                                                               \n",
    "| a.index('value')        | find index corresponding to an element's value  |                                                                                                              \n",
    "| 'value' in a            | test if a value is contained in the list        |                                                                                                               \n",
    "| a.count(v)               | count how many elements have the value v |                                                                                                              \n",
    "| len(a)                   | number of elements in list a                  |                                                                                                               \n",
    "| min(a)                   | the smallest element in a                     |                                                                                                              \n",
    "| max(a)                   | the largest element in a                      |                                                                                                               \n",
    "| sum(a)                   | add all elements in a                         |                                                                                                              \n",
    "| sorted(a)                | return sorted list with the values of a               |                                                                                                               \n",
    "| reversed(a)              | return reversed version of a      |                                                                                                              \n",
    "| b[3][0][2]               | nested list indexing                            |                                                                                                               \n",
    "| isinstance(a, tuple)      | is True if a is a tuple or subclass                     |                                                                                                              \n",
    "| type(a) is tuple          | is True if a is exactly a tuple                      |                                                                                                                "
   ]
  },
  {
   "cell_type": "markdown",
   "metadata": {
    "slideshow": {
     "slide_type": "subslide"
    }
   },
   "source": [
    "## Python dictionaries\n",
    "\n",
    "![dictionary](figs/dictionary.jpg)\n",
    "\n",
    "Remeber that lists always used integers as indices:\n",
    "\n",
    "```python\n",
    "mylist[10]       \n",
    "```\n",
    "\n",
    "Python dictionaries are similar but you can use any **hashable** object as index:\n",
    "\n",
    "```python\n",
    "mydict[\"hallo\"]  # dictionary can use e.g. a string as indices\n",
    "```"
   ]
  },
  {
   "cell_type": "markdown",
   "metadata": {
    "slideshow": {
     "slide_type": "subslide"
    }
   },
   "source": [
    "## Basic dictionary operations\n",
    "\n",
    "We create dictionaries with the `{}` syntax. \n",
    "For each dictionary entry, we need to probide one (immutable) key and its value:"
   ]
  },
  {
   "cell_type": "markdown",
   "metadata": {},
   "source": [
    "```python\n",
    "phonebook = {\"John Doe\"  : 99954329, \n",
    "             \"Franz Dahl\": 4881221}\n",
    "\n",
    "mydict = {\"1\"      : \"A number\", \n",
    "          \"house\"  : \"A building to live in\", \n",
    "          \"kitchen\": None}\n",
    "```"
   ]
  },
  {
   "cell_type": "markdown",
   "metadata": {},
   "source": [
    "Once created, we can access the dictionary entries:\n",
    "```python\n",
    "phonebook[\"John Doe\"]  # 99954329\n",
    "mydict[\"tbane\"]        # gives a KeyError\n",
    "```"
   ]
  },
  {
   "cell_type": "markdown",
   "metadata": {
    "slideshow": {
     "slide_type": "fragment"
    }
   },
   "source": [
    "Dictionaryes are **mutable**, so we can change them:\n",
    "```python\n",
    "mydict['somekey'] = 1.0\n",
    "\n",
    "mydict.update(otherdict)  # add/replace key-value pairs\n",
    "\n",
    "del mydict[2]\n",
    "del mydict['somekey']\n",
    "```"
   ]
  },
  {
   "cell_type": "markdown",
   "metadata": {
    "slideshow": {
     "slide_type": "subslide"
    }
   },
   "source": [
    "## Dictionary cheat sheet\n",
    "\n",
    "\n",
    "| Construction                           | Meaning                                    |                                                                                                        \n",
    "|-----------------------------------------|--------------------------------------------|                                                                                                        \n",
    "| `a = {}`                               | initialize an empty dictionary             |                                                                                                        \n",
    "| `a = {'point': (0,0.1), 'value': 7}`   | initialize a dictionary                    |                                                                                                        \n",
    "| `a = dict(point=(2,7), value=3)`       | initialize a dictionary w/string keys      |                                                                                                        \n",
    "| `a.update(b)`                          | add key-value pairs from b in a |                                                                                                               \n",
    "| `a.update(key1=value1, key2=value2)`   | add key-value pairs in a          |                                                                                                               \n",
    "| `a['hide'] = True  `                   | add new key-value pair to a              |                                                                                                        \n",
    "| `a['point']`                           | get value corresponding to key point     |                                                                                                        \n",
    "| `for key in a:`                        | loop over keys in unknown order            |                                                                                                        \n",
    "| `for key in sorted(a):`                | loop over keys in alphabetic order         |                                                                                                        \n",
    "| `'value' in a`                         | True if string value is a key in a   |                                                                                                        \n",
    "| `del a['point']`                       | delete a key-value pair from a           |                                                                                                        \n",
    "| list(a.keys())                       | list of keys                               |                                                                                                        \n",
    "| list(a.values())                     | list of values                             |                                                                                                        \n",
    "| `len(a)`                               | number of key-value pairs in a           |                                                                                                        \n",
    "| `isinstance(a, dict)`                  | is True if a is a dictionary           |"
   ]
  },
  {
   "cell_type": "markdown",
   "metadata": {
    "slideshow": {
     "slide_type": "subslide"
    }
   },
   "source": [
    "## Summary: Common data structures\n",
    "\n",
    "* Numbers: \n",
    "    * `int`\n",
    "    * `float`\n",
    "    * `complex`\n",
    "\n",
    "* Sequences: \n",
    "    * `string`\n",
    "    * `list`\n",
    "    * `tuple`\n",
    "    * `set`\n",
    "\n",
    "* Mappings: \n",
    "    * `dict` (dictionary/hash)"
   ]
  },
  {
   "cell_type": "markdown",
   "metadata": {
    "slideshow": {
     "slide_type": "slide"
    }
   },
   "source": [
    "# Control structures in Python"
   ]
  },
  {
   "cell_type": "markdown",
   "metadata": {
    "slideshow": {
     "slide_type": "subslide"
    }
   },
   "source": [
    "## Conditionals/branching\n",
    "\n",
    "```python\n",
    "if condition:\n",
    "    <block of statements>\n",
    "elif condition:\n",
    "    <block of statements>\n",
    "else:\n",
    "    <block of statements>\n",
    "```    \n",
    "\n",
    "Also here, `condition` must be a boolean expression.\n",
    "\n",
    "**Important**: Python uses indentation to determine the start/end of blocks\n",
    "(instead of e.g. brackets). In Python, it is common to indent with 4 spaces."
   ]
  },
  {
   "cell_type": "markdown",
   "metadata": {
    "slideshow": {
     "slide_type": "subslide"
    }
   },
   "source": [
    "## Examples\n",
    "Let's look at an example:"
   ]
  },
  {
   "cell_type": "code",
   "execution_count": null,
   "metadata": {},
   "outputs": [],
   "source": [
    "i = 25\n",
    "\n",
    "if i < 0:\n",
    "    print(f\"{i} is a negative number\")\n",
    "elif 0 <= i < 20:\n",
    "    print(f\"{i} is a small number\")\n",
    "else:\n",
    "    print(f\"{i} is a large number\")"
   ]
  },
  {
   "cell_type": "markdown",
   "metadata": {
    "slideshow": {
     "slide_type": "fragment"
    }
   },
   "source": [
    "Python variables are strongy typed. We can use if statements to test for a variable's type:\n",
    "\n",
    "```python\n",
    "if isinstance(a, int): # int?\n",
    "    # ...\n",
    "if isinstance(a, (list, tuple)): # list or tuple?\n",
    "    # ...\n",
    "```    "
   ]
  },
  {
   "cell_type": "markdown",
   "metadata": {
    "slideshow": {
     "slide_type": "subslide"
    }
   },
   "source": [
    "## `while` loop\n",
    "\n",
    "```python\n",
    "while condition:\n",
    "    <block of statements>\n",
    "```\n",
    "\n",
    "Here, `condition` must be a boolean expression (or have a boolean interpretation), for example: `i < 10`."
   ]
  },
  {
   "cell_type": "markdown",
   "metadata": {
    "slideshow": {
     "slide_type": "subslide"
    }
   },
   "source": [
    "## `for` loop\n",
    "\n",
    "\n",
    "```python\n",
    "for element in somelist:\n",
    "    <block of statements>\n",
    "```    \n",
    "\n",
    "Here, `somelist` must be an **iterable** object, for example a `list`, `tuple`, or `string`."
   ]
  },
  {
   "cell_type": "markdown",
   "metadata": {
    "slideshow": {
     "slide_type": "subslide"
    }
   },
   "source": [
    "## Example\n",
    "Let's look at an example:"
   ]
  },
  {
   "cell_type": "code",
   "execution_count": null,
   "metadata": {},
   "outputs": [],
   "source": [
    "shoppinglist = [\"tea\", \"butter\", \"milk\"]\n",
    "\n",
    "for item in shoppinglist:\n",
    "    print(f\"Remember to buy {item}.\")"
   ]
  },
  {
   "cell_type": "markdown",
   "metadata": {
    "slideshow": {
     "slide_type": "subslide"
    }
   },
   "source": [
    "If you want to iterate over a sequence of numbers, you can use the `range` command:"
   ]
  },
  {
   "cell_type": "code",
   "execution_count": null,
   "metadata": {},
   "outputs": [],
   "source": [
    "for i in range(3):\n",
    "    print(i)"
   ]
  },
  {
   "cell_type": "markdown",
   "metadata": {
    "slideshow": {
     "slide_type": "slide"
    }
   },
   "source": [
    "# Functions"
   ]
  },
  {
   "cell_type": "markdown",
   "metadata": {},
   "source": [
    "Python functions allow you to encapsulate a task - they combine many instructions into a single line of code. "
   ]
  },
  {
   "cell_type": "markdown",
   "metadata": {},
   "source": [
    "As an example, let's write a function that splits a string at a given character:"
   ]
  },
  {
   "cell_type": "code",
   "execution_count": null,
   "metadata": {},
   "outputs": [],
   "source": [
    "def split(string, char):\n",
    "    \"\"\" Split the string at the given character \"\"\"\n",
    "    \n",
    "    position = string.find(char)\n",
    "    \n",
    "    if  position > 0:\n",
    "        return string[:position+1], string[position+1:]\n",
    "    else:\n",
    "        return string, ''"
   ]
  },
  {
   "cell_type": "markdown",
   "metadata": {
    "slideshow": {
     "slide_type": "fragment"
    }
   },
   "source": [
    "So far, we have only defined the function (in cooking this is equivalent of writing down a recipe). \n",
    "\n",
    "We must call our function to have an actual effect (or equivalently, actually cooking the recipe). Let's call our function for the first time:"
   ]
  },
  {
   "cell_type": "code",
   "execution_count": null,
   "metadata": {
    "scrolled": true,
    "slideshow": {
     "slide_type": "-"
    }
   },
   "outputs": [],
   "source": [
    "message = 'Heisann'\n",
    "result = split(message, 'i') # Call our function\n",
    "print(result)"
   ]
  },
  {
   "cell_type": "markdown",
   "metadata": {
    "slideshow": {
     "slide_type": "subslide"
    }
   },
   "source": [
    "## Function syntax"
   ]
  },
  {
   "cell_type": "markdown",
   "metadata": {},
   "source": [
    "The syntax is the following:\n",
    "```python\n",
    "def functionname(arg1, arg2=\"default\", arg3=1.0, ...):\n",
    "   \"Docstring\"\n",
    "   <block of statements>\n",
    "   return [expression]\n",
    "```"
   ]
  },
  {
   "cell_type": "markdown",
   "metadata": {
    "slideshow": {
     "slide_type": "fragment"
    }
   },
   "source": [
    "We have a few options how to call a function:\n",
    "\n",
    "```python\n",
    "functionname(1.0, \"x\", \"i\")\n",
    "```\n",
    "is the same as\n",
    "```python\n",
    "functionname(arg1=1.0, arg2=\"x\", arg2=\"i\")\n",
    "```\n",
    "\n",
    "Default arguments can be left out:\n",
    "```python\n",
    "functionname(1.0, args3=\"i\") \n",
    "```\n",
    "\n",
    "Positional arguments must appear before keyword arguments:\n",
    "\n",
    "```python\n",
    "functionname(arg3='i', \"x\") # invalid\n",
    "```"
   ]
  },
  {
   "cell_type": "markdown",
   "metadata": {
    "slideshow": {
     "slide_type": "slide"
    }
   },
   "source": [
    "## Summary\n",
    "\n",
    "- basic Python syntax, execution\n",
    "- types: `int, float, str, list, tuple, dict, set`\n",
    "- control: `if, elif, else, while, for`\n",
    "- functions: `def`"
   ]
  }
 ],
 "metadata": {
  "celltoolbar": "Slideshow",
  "kernelspec": {
   "display_name": "Python 3 (ipykernel)",
   "language": "python",
   "name": "python3"
  },
  "language_info": {
   "codemirror_mode": {
    "name": "ipython",
    "version": 3
   },
   "file_extension": ".py",
   "mimetype": "text/x-python",
   "name": "python",
   "nbconvert_exporter": "python",
   "pygments_lexer": "ipython3",
   "version": "3.9.7"
  },
  "rise": {
   "scroll": true,
   "start_slideshow_at": "selected",
   "theme": "serif",
   "transition": "none"
  }
 },
 "nbformat": 4,
 "nbformat_minor": 4
}
