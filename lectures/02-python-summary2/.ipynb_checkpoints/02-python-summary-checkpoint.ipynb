{
 "cells": [
  {
   "cell_type": "markdown",
   "metadata": {
    "slideshow": {
     "slide_type": "slide"
    }
   },
   "source": [
    "# User input and textfiles\n",
    "\n"
   ]
  },
  {
   "cell_type": "markdown",
   "metadata": {
    "slideshow": {
     "slide_type": "slide"
    }
   },
   "source": [
    "## Contents\n",
    "  \n",
    "* User input (sys)\n",
    "* User input (input)\n",
    "* Useful string operations\n",
    "* Reading data from files\n",
    "* Writing data to file\n",
    "* Errors/exceptions"
   ]
  },
  {
   "cell_type": "markdown",
   "metadata": {
    "slideshow": {
     "slide_type": "subslide"
    }
   },
   "source": [
    "## Command line arguments:\n",
    "\n",
    "Command line arguments are \"words\" written after the program name when you run it, e.g. \n",
    "```bash\n",
    "python3 hello_world.py 10\n",
    "```\n",
    "Here the command line argument is 10. If you are running from spyder on anaconda (or any iPyhon environment) command line arguments are provided by\n",
    "\n",
    "```python\n",
    "!python3 hello_world.py 10\n",
    "```"
   ]
  },
  {
   "cell_type": "markdown",
   "metadata": {
    "slideshow": {
     "slide_type": "subslide"
    }
   },
   "source": [
    "## Recap of the sys.argv list:\n",
    "\n",
    "sys is a python package and may be imported by\n",
    "```python\n",
    "import sys\n",
    "```\n",
    "\n"
   ]
  },
  {
   "cell_type": "markdown",
   "metadata": {
    "slideshow": {
     "slide_type": "subslide"
    }
   },
   "source": [
    "### The first example (test_sys.py):\n",
    "\n",
    "\n",
    "```python\n",
    "\n",
    "import sys\n",
    "print(f\"In this program, {sys.argv[1]} is the command line argument\")\n",
    "\n",
    "```"
   ]
  },
  {
   "cell_type": "code",
   "execution_count": null,
   "metadata": {},
   "outputs": [],
   "source": [
    "!python3 test_sys.py 10"
   ]
  },
  {
   "cell_type": "markdown",
   "metadata": {
    "slideshow": {
     "slide_type": "subslide"
    }
   },
   "source": [
    "### Several command line arguments (test_sys2.py)\n",
    "\n",
    "the \"magic\" sys.argv[1] line refers to the list sys.argv which consists of all the words (separated by spaces) that are listed on the command line (including the program name)\n",
    "\n",
    "```python\n",
    "import sys\n",
    "\n",
    "sys_argv_list = sys.argv\n",
    "cmd_args = sys.argv[1:]\n",
    "\n",
    "print(\"The sys.argv list looks like this: \", sys_argv_list)\n",
    "print(\"But we are only interested in these arguments: \", cmd_args)\n",
    "```"
   ]
  },
  {
   "cell_type": "code",
   "execution_count": null,
   "metadata": {},
   "outputs": [],
   "source": [
    "!python3 test_sys2.py 10 20 30 40"
   ]
  },
  {
   "cell_type": "markdown",
   "metadata": {
    "slideshow": {
     "slide_type": "slide"
    }
   },
   "source": [
    "# The input function\n",
    "Another way of getting user information is the input function. The user does not need to provide command line arguments, but can reply to questions from the program: "
   ]
  },
  {
   "cell_type": "code",
   "execution_count": null,
   "metadata": {},
   "outputs": [],
   "source": [
    "number = input('Write a number:')\n",
    "print(f'Your number is {number}')"
   ]
  },
  {
   "cell_type": "code",
   "execution_count": null,
   "metadata": {},
   "outputs": [],
   "source": [
    "numbers = input(\"Write many numbers separated by spaces\")\n",
    "print(f\"Your numbers are\", numbers)"
   ]
  },
  {
   "cell_type": "code",
   "execution_count": null,
   "metadata": {},
   "outputs": [],
   "source": [
    "numbers = input(\"Write many numbers separated by spaces\")\n",
    "print(f\"Your numbers are\", numbers.split())"
   ]
  },
  {
   "cell_type": "markdown",
   "metadata": {},
   "source": [
    "The final exapmle is quite similar to the result from sys.argv[1:]. I prefer sys, it is faster. "
   ]
  },
  {
   "cell_type": "markdown",
   "metadata": {
    "slideshow": {
     "slide_type": "subslide"
    }
   },
   "source": [
    "## Useful string operations "
   ]
  },
  {
   "cell_type": "code",
   "execution_count": null,
   "metadata": {},
   "outputs": [],
   "source": [
    "info = input(\"Write the current day, date and time separated by spaces\")\n",
    "infolist = info.split()\n",
    "day = infolist[0]\n",
    "date = infolist[1:-2]\n",
    "time = infolist[-1]\n",
    "print(f\"Today is {day}. The date is {date}. The time is {time}\")"
   ]
  },
  {
   "cell_type": "code",
   "execution_count": null,
   "metadata": {},
   "outputs": [],
   "source": [
    "info = input(\"Write the current day, date and time separated by commas\")\n",
    "infolist = info.split(',')\n",
    "day = infolist[0]\n",
    "date = infolist[1]\n",
    "time = infolist[2]\n",
    "print(f\"Today is {day}. The date is {date}. The time is {time}\")"
   ]
  },
  {
   "cell_type": "markdown",
   "metadata": {
    "slideshow": {
     "slide_type": "subslide"
    }
   },
   "source": [
    "## The join method\n",
    "define the list\n",
    "```python\n",
    "date = ['09', 'September']\n",
    "```\n",
    "Can you extract the info from the list into one string saying only \"09 September\""
   ]
  },
  {
   "cell_type": "code",
   "execution_count": null,
   "metadata": {},
   "outputs": [],
   "source": [
    "' '.join(date)"
   ]
  },
  {
   "cell_type": "markdown",
   "metadata": {},
   "source": [
    "## Adding strings"
   ]
  },
  {
   "cell_type": "code",
   "execution_count": null,
   "metadata": {},
   "outputs": [],
   "source": [
    "date[0]+' '+date[1]"
   ]
  },
  {
   "cell_type": "markdown",
   "metadata": {
    "slideshow": {
     "slide_type": "slide"
    }
   },
   "source": [
    "# Reading from textfiles (.txt, .dat etc.)"
   ]
  },
  {
   "cell_type": "markdown",
   "metadata": {
    "slideshow": {
     "slide_type": "fragment"
    }
   },
   "source": [
    "To open a datafile in the same location as the current .py-file use the syntax open(filename) where filename is the name of the datafile as a string:\n",
    "```python\n",
    "infile = open('example_data.txt')\n",
    "```\n",
    "Here example_data may look like this: \n",
    "```bash\n",
    "This is the first line of the file\n",
    "This is the second line of the file\n",
    "Below comes the interesting part of the file: \n",
    "10 20 30 \n",
    "20 30 1\n",
    "2.2 125 6.45\n",
    "0.1 20 3.14\n",
    "```"
   ]
  },
  {
   "cell_type": "code",
   "execution_count": null,
   "metadata": {},
   "outputs": [],
   "source": [
    "infile = open('example_data.txt')\n",
    "infile"
   ]
  },
  {
   "cell_type": "markdown",
   "metadata": {
    "slideshow": {
     "slide_type": "subslide"
    }
   },
   "source": [
    "We can read the file line by line by using the method readline:"
   ]
  },
  {
   "cell_type": "code",
   "execution_count": null,
   "metadata": {},
   "outputs": [],
   "source": [
    "line1 = infile.readline()\n",
    "line2 = infile.readline()\n",
    "print(line1)\n",
    "print(line2)"
   ]
  },
  {
   "cell_type": "markdown",
   "metadata": {
    "slideshow": {
     "slide_type": "subslide"
    }
   },
   "source": [
    "If we are not interested in the first (few) lines we can call infile.readline() a few times to skip those lines. "
   ]
  },
  {
   "cell_type": "code",
   "execution_count": null,
   "metadata": {},
   "outputs": [],
   "source": [
    "infile = open('example_data.txt')\n",
    "infile.readline()\n",
    "infile.readline()\n",
    "line3 = infile.readline()\n",
    "print(line3)"
   ]
  },
  {
   "cell_type": "markdown",
   "metadata": {},
   "source": [
    "The TextIOWrapper can be iterated over and starts at the current line in the datafile. We have already called infile.readline() three times since opening the last time, thus the first three lines are omitted in the for loop below:"
   ]
  },
  {
   "cell_type": "code",
   "execution_count": null,
   "metadata": {},
   "outputs": [],
   "source": [
    "for line in infile:\n",
    "    print(line)"
   ]
  },
  {
   "cell_type": "code",
   "execution_count": null,
   "metadata": {},
   "outputs": [],
   "source": [
    "infile = open('example_data.txt')\n",
    "lines = infile.readlines()\n",
    "print(lines)"
   ]
  },
  {
   "cell_type": "markdown",
   "metadata": {},
   "source": [
    "Now assume that we wanted to store the numbers from the file in three lists/columns: c1, c2 and c3. In the end we should end up with: \n",
    "```python\n",
    "c1 = [10, 20, 2.2, 0.1]\n",
    "c2 = [20, 30, 125, 20]\n",
    "c3 = [30, 1, 6.45, 3.14]\n",
    "```"
   ]
  },
  {
   "cell_type": "markdown",
   "metadata": {
    "slideshow": {
     "slide_type": "subslide"
    }
   },
   "source": [
    "## Exercise:\n",
    "1) Read the file \"GRA4157/lectures/02-python-summary2/example_data.txt\" in python\n",
    "\n",
    "2) Create empty lists c1, c2, and c3. Then iterate over the infile and add the first number in each line to c1, the second number in each line to c2 and the third number to c3. The type of objects in the lists should be float. "
   ]
  },
  {
   "cell_type": "markdown",
   "metadata": {
    "slideshow": {
     "slide_type": "slide"
    }
   },
   "source": [
    "## Useful string operations 2:\n",
    "\n",
    "The methods startswith, in and endswith are useful string operations that may be used when reading files. \n",
    "\n",
    "example_data2.py\n",
    "```bash\n",
    "This is a header\n",
    "This is a header\n",
    "Numbers: 1 2 3\n",
    "Numbers: 2 3 4\n",
    "5 6 7\n",
    "```\n",
    "1) We are only interested in the lines that starts with \"Numbers\":"
   ]
  },
  {
   "cell_type": "code",
   "execution_count": null,
   "metadata": {},
   "outputs": [],
   "source": [
    "infile = open('example_data2.txt')\n",
    "for line in infile:\n",
    "    if line.startswith('Number'):\n",
    "        print(line)"
   ]
  },
  {
   "cell_type": "markdown",
   "metadata": {},
   "source": [
    "2) We are only interested in the lines that does not end with \"header\""
   ]
  },
  {
   "cell_type": "code",
   "execution_count": null,
   "metadata": {},
   "outputs": [],
   "source": [
    "infile = open('example_data2.txt')\n",
    "for line in infile:\n",
    "    if not line.endswith('header\\n'):\n",
    "        print(line)"
   ]
  },
  {
   "cell_type": "code",
   "execution_count": null,
   "metadata": {},
   "outputs": [],
   "source": [
    "infile = open('example_data2.txt')\n",
    "for line in infile:\n",
    "    if not line.strip().endswith('header'):\n",
    "        print(line)"
   ]
  },
  {
   "cell_type": "markdown",
   "metadata": {},
   "source": [
    "3) We are only interested in lines that has the number 2 in them"
   ]
  },
  {
   "cell_type": "code",
   "execution_count": null,
   "metadata": {},
   "outputs": [],
   "source": [
    "infile = open('example_data2.txt')\n",
    "for line in infile:\n",
    "    if '2' in line:\n",
    "        print(line)\n",
    "infile.close()"
   ]
  },
  {
   "cell_type": "markdown",
   "metadata": {
    "slideshow": {
     "slide_type": "slide"
    }
   },
   "source": [
    "# Writing to file:"
   ]
  },
  {
   "cell_type": "markdown",
   "metadata": {
    "slideshow": {
     "slide_type": "slide"
    }
   },
   "source": [
    "To write to file, we still use the open() function, but we have to specify that we want to write to file. \n",
    "```python\n",
    "outfile = open('outfile.txt','w')\n",
    "```\n",
    "The mode, here \"w\", indicates that we want to write to file. The default value (when nothing is provided as in the previous examples) indicates that we want to read from file. Warning: If the file outfile.txt exists, everything will be overwritten by what we decide to write to the file. "
   ]
  },
  {
   "cell_type": "code",
   "execution_count": null,
   "metadata": {},
   "outputs": [],
   "source": [
    "outfile = open('outfile.txt','w')\n",
    "outfile.write('This is the first line of the file')\n",
    "outfile.close()"
   ]
  },
  {
   "cell_type": "code",
   "execution_count": null,
   "metadata": {},
   "outputs": [],
   "source": [
    "outfile = open('outfile.txt','w')\n",
    "outfile.write('The previous line is deleted and this is the new line')\n",
    "outfile.close()"
   ]
  },
  {
   "cell_type": "markdown",
   "metadata": {
    "slideshow": {
     "slide_type": "subslide"
    }
   },
   "source": [
    "We can append to existing files using the 'a' mode when opening:"
   ]
  },
  {
   "cell_type": "code",
   "execution_count": null,
   "metadata": {},
   "outputs": [],
   "source": [
    "outfile = open('outfile.txt','a')\n",
    "outfile.write('The previous text is still there, and this line was just appended')\n",
    "outfile.close()"
   ]
  },
  {
   "cell_type": "markdown",
   "metadata": {
    "slideshow": {
     "slide_type": "-"
    }
   },
   "source": [
    "Use \\n for newline"
   ]
  },
  {
   "cell_type": "code",
   "execution_count": null,
   "metadata": {},
   "outputs": [],
   "source": [
    "outfile = open('outfile.txt','a')\n",
    "outfile.write(\"Now let's add a new line:\\n\")\n",
    "outfile.write(\"This is the new line\")\n",
    "outfile.close()"
   ]
  },
  {
   "cell_type": "markdown",
   "metadata": {
    "slideshow": {
     "slide_type": "subslide"
    }
   },
   "source": [
    "We perform all the operations we want on a file before closing it. In the previous example we closed the file after each operation to inspect changes while we wrote. "
   ]
  },
  {
   "cell_type": "markdown",
   "metadata": {
    "slideshow": {
     "slide_type": "subslide"
    }
   },
   "source": [
    "## Exercise: write a table to file\n",
    "Assume that we have 10 numbers in a python list: [1,2,3,4,5,6,7,8,9,10]. \n",
    "Write a file that contains the numbers as a column and another column with the square root of the given number. The file should look like this: \n",
    "```bash\n",
    "x sqrt(x)\n",
    "1 1\n",
    "2 1.41\n",
    "...\n",
    "```\n",
    "You can decide on how many decimals and on which format the sqrt(x) should contain in the file. "
   ]
  },
  {
   "cell_type": "markdown",
   "metadata": {
    "slideshow": {
     "slide_type": "subslide"
    }
   },
   "source": [
    "## Starting to work with bigger data sets\n",
    "Example: How to people spend their time? \n",
    "<img src=\"img/Timeuse.png\" style=\"width: 90%; margin: auto;\">\n",
    "\n"
   ]
  },
  {
   "cell_type": "markdown",
   "metadata": {},
   "source": [
    "I have exported the data to a .txt file: \n",
    "```text\n",
    ",Country,Category,Time (minutes)\n",
    "0,Australia,Paid work,211.146629603892\n",
    "1,Austria,Paid work,279.53226810278\n",
    "2,Belgium,Paid work,194.476452188763\n",
    "3,Canada,Paid work,268.660609647898\n",
    "4,Denmark,Paid work,199.771595915566\n",
    "...\n",
    "```"
   ]
  },
  {
   "cell_type": "markdown",
   "metadata": {
    "slideshow": {
     "slide_type": "subslide"
    }
   },
   "source": [
    "\n",
    "Let us now assume that we are only interested in how much people in a given country work (Paid work). How would you extract this information? The file has 462 lines, so manual reading is not effective.\n",
    "\n",
    "\n",
    "\n",
    "\n",
    "\n",
    "\n",
    "\n",
    "\n",
    "\n",
    "\n",
    "\n",
    "\n",
    "\n",
    "\n",
    "\n",
    "\n",
    "\n",
    "\n",
    "\n",
    "\n"
   ]
  },
  {
   "cell_type": "code",
   "execution_count": 1,
   "metadata": {},
   "outputs": [
    {
     "name": "stdout",
     "output_type": "stream",
     "text": [
      "0,Australia,Paid work,211.146629603892\n",
      "\n",
      "1,Austria,Paid work,279.53226810278\n",
      "\n",
      "2,Belgium,Paid work,194.476452188763\n",
      "\n",
      "3,Canada,Paid work,268.660609647898\n",
      "\n",
      "4,Denmark,Paid work,199.771595915566\n",
      "\n",
      "5,Estonia,Paid work,230.788021522939\n",
      "\n",
      "6,Finland,Paid work,200.047879\n",
      "\n",
      "7,France,Paid work,170.060642467443\n",
      "\n",
      "8,Germany,Paid work,223.839012333333\n",
      "\n",
      "9,Greece,Paid work,187.368060303144\n",
      "\n",
      "10,Hungary,Paid work,199.446772180411\n",
      "\n",
      "11,Ireland,Paid work,231.22452\n",
      "\n",
      "12,Italy ,Paid work,148.894551667369\n",
      "\n",
      "13,Japan,Paid work,325.711372400686\n",
      "\n",
      "14,Korea,Paid work,287.596845923687\n",
      "\n",
      "15,Latvia,Paid work,316.55785239539\n",
      "\n",
      "16,Lithuania,Paid work,303.647286983591\n",
      "\n",
      "17,Luxembourg,Paid work,247.225461265374\n",
      "\n",
      "18,Mexico,Paid work,302.333564\n",
      "\n",
      "19,Netherlands,Paid work,217.630356318106\n",
      "\n",
      "20,New Zealand,Paid work,241.0\n",
      "\n",
      "21,Norway ,Paid work,200.78622\n",
      "\n",
      "22,Poland,Paid work,229.279299471607\n",
      "\n",
      "23,Portugal,Paid work,258.797202797203\n",
      "\n",
      "24,Slovenia,Paid work,226.685159500693\n",
      "\n",
      "25,Spain,Paid work,175.7783\n",
      "\n",
      "26,Sweden,Paid work,262.187136990862\n",
      "\n",
      "27,Turkey,Paid work,217.02784\n",
      "\n",
      "28,UK,Paid work,235.493233853676\n",
      "\n",
      "29,USA,Paid work,251.137774\n",
      "\n",
      "30,China,Paid work,314.781401804303\n",
      "\n",
      "31,India,Paid work,271.540982812833\n",
      "\n",
      "32,South Africa,Paid work,188.80248\n",
      "\n"
     ]
    }
   ],
   "source": [
    "infile = open('data/Time-use.txt')\n",
    "for line in infile:\n",
    "    if \"Paid work\" in line:\n",
    "        print(line)"
   ]
  },
  {
   "cell_type": "code",
   "execution_count": 5,
   "metadata": {},
   "outputs": [
    {
     "name": "stdout",
     "output_type": "stream",
     "text": [
      "{'Australia': 211.146629603892, 'Austria': 279.53226810278, 'Belgium': 194.476452188763, 'Canada': 268.660609647898, 'Denmark': 199.771595915566, 'Estonia': 230.788021522939, 'Finland': 200.047879, 'France': 170.060642467443, 'Germany': 223.839012333333, 'Greece': 187.368060303144, 'Hungary': 199.446772180411, 'Ireland': 231.22452, 'Italy ': 148.894551667369, 'Japan': 325.711372400686, 'Korea': 287.596845923687, 'Latvia': 316.55785239539, 'Lithuania': 303.647286983591, 'Luxembourg': 247.225461265374, 'Mexico': 302.333564, 'Netherlands': 217.630356318106, 'New Zealand': 241.0, 'Norway ': 200.78622, 'Poland': 229.279299471607, 'Portugal': 258.797202797203, 'Slovenia': 226.685159500693, 'Spain': 175.7783, 'Sweden': 262.187136990862, 'Turkey': 217.02784, 'UK': 235.493233853676, 'USA': 251.137774, 'China': 314.781401804303, 'India': 271.540982812833, 'South Africa': 188.80248}\n"
     ]
    }
   ],
   "source": [
    "infile = open('data/Time-use.txt')\n",
    "work = {}\n",
    "for line in infile:\n",
    "    if \"Paid work\" in line:\n",
    "        info = line.split(',')\n",
    "        country = info[1]\n",
    "        hours = info[-1]\n",
    "        work[country] = float(hours.strip())\n",
    "print(work)"
   ]
  },
  {
   "cell_type": "code",
   "execution_count": 25,
   "metadata": {
    "slideshow": {
     "slide_type": "-"
    }
   },
   "outputs": [
    {
     "name": "stdout",
     "output_type": "stream",
     "text": [
      "148.894551667369\n"
     ]
    }
   ],
   "source": [
    "number = min(work.values())\n",
    "print(number)"
   ]
  },
  {
   "cell_type": "code",
   "execution_count": 26,
   "metadata": {},
   "outputs": [
    {
     "name": "stdout",
     "output_type": "stream",
     "text": [
      "12\n"
     ]
    }
   ],
   "source": [
    "idx = list(work.values()).index(number)\n",
    "print(idx)"
   ]
  },
  {
   "cell_type": "code",
   "execution_count": 27,
   "metadata": {},
   "outputs": [
    {
     "data": {
      "text/plain": [
       "'Italy '"
      ]
     },
     "execution_count": 27,
     "metadata": {},
     "output_type": "execute_result"
    }
   ],
   "source": [
    "list(work.keys())[idx]"
   ]
  },
  {
   "cell_type": "markdown",
   "metadata": {
    "slideshow": {
     "slide_type": "subslide"
    }
   },
   "source": [
    "# Errors and exceptions\n",
    "We often want to convert data from files (strings) to floating point numbers:"
   ]
  },
  {
   "cell_type": "code",
   "execution_count": 29,
   "metadata": {},
   "outputs": [
    {
     "name": "stdout",
     "output_type": "stream",
     "text": [
      "Skipping line:  This is the first line of the file\n",
      "\n",
      "Skipping line:  This is the second line of the file\n",
      "\n",
      "Skipping line:  Below comes the interesting part of the file: \n",
      "\n"
     ]
    }
   ],
   "source": [
    "infile = open('example_data.txt')\n",
    "numbers = []\n",
    "for line in infile:\n",
    "    info = line.split()\n",
    "    try:\n",
    "        number = float(info[0])\n",
    "    except:\n",
    "        print('Skipping line: ', line)\n",
    "    numbers.append(number)\n",
    "    "
   ]
  },
  {
   "cell_type": "markdown",
   "metadata": {
    "slideshow": {
     "slide_type": "subslide"
    }
   },
   "source": [
    "## Raise (throw) an exception\n",
    "When working with input data, we often want the program to fail when wrong input is provided:"
   ]
  },
  {
   "cell_type": "code",
   "execution_count": 32,
   "metadata": {},
   "outputs": [
    {
     "name": "stdout",
     "output_type": "stream",
     "text": [
      "Write hellohallo\n"
     ]
    },
    {
     "ename": "Exception",
     "evalue": "The input should be hello",
     "output_type": "error",
     "traceback": [
      "\u001b[0;31m---------------------------------------------------------------------------\u001b[0m",
      "\u001b[0;31mException\u001b[0m                                 Traceback (most recent call last)",
      "Input \u001b[0;32mIn [32]\u001b[0m, in \u001b[0;36m<cell line: 2>\u001b[0;34m()\u001b[0m\n\u001b[1;32m      1\u001b[0m message \u001b[38;5;241m=\u001b[39m \u001b[38;5;28minput\u001b[39m(\u001b[38;5;124m'\u001b[39m\u001b[38;5;124mWrite hello\u001b[39m\u001b[38;5;124m'\u001b[39m)\n\u001b[1;32m      2\u001b[0m \u001b[38;5;28;01mif\u001b[39;00m message \u001b[38;5;241m!=\u001b[39m \u001b[38;5;124m'\u001b[39m\u001b[38;5;124mhello\u001b[39m\u001b[38;5;124m'\u001b[39m:\n\u001b[0;32m----> 3\u001b[0m     \u001b[38;5;28;01mraise\u001b[39;00m \u001b[38;5;167;01mException\u001b[39;00m(\u001b[38;5;124m'\u001b[39m\u001b[38;5;124mThe input should be hello\u001b[39m\u001b[38;5;124m'\u001b[39m)\n",
      "\u001b[0;31mException\u001b[0m: The input should be hello"
     ]
    }
   ],
   "source": [
    "message = input('Write hello')\n",
    "if message != 'hello':\n",
    "    raise Exception('The input should be hello')"
   ]
  },
  {
   "cell_type": "markdown",
   "metadata": {},
   "source": [
    "There are numerous exceptions in python:"
   ]
  },
  {
   "cell_type": "code",
   "execution_count": 2,
   "metadata": {},
   "outputs": [
    {
     "name": "stdout",
     "output_type": "stream",
     "text": [
      "Write a number between 0 and 1099\n"
     ]
    },
    {
     "ename": "ValueError",
     "evalue": "The number must be between 0 and 10",
     "output_type": "error",
     "traceback": [
      "\u001b[0;31m---------------------------------------------------------------------------\u001b[0m",
      "\u001b[0;31mValueError\u001b[0m                                Traceback (most recent call last)",
      "Input \u001b[0;32mIn [2]\u001b[0m, in \u001b[0;36m<cell line: 2>\u001b[0;34m()\u001b[0m\n\u001b[1;32m      1\u001b[0m number \u001b[38;5;241m=\u001b[39m \u001b[38;5;28mfloat\u001b[39m(\u001b[38;5;28minput\u001b[39m(\u001b[38;5;124m'\u001b[39m\u001b[38;5;124mWrite a number between 0 and 10\u001b[39m\u001b[38;5;124m'\u001b[39m))\n\u001b[1;32m      2\u001b[0m \u001b[38;5;28;01mif\u001b[39;00m number \u001b[38;5;241m<\u001b[39m\u001b[38;5;241m=\u001b[39m \u001b[38;5;241m0\u001b[39m \u001b[38;5;129;01mor\u001b[39;00m number \u001b[38;5;241m>\u001b[39m\u001b[38;5;241m=\u001b[39m \u001b[38;5;241m10\u001b[39m:\n\u001b[0;32m----> 3\u001b[0m     \u001b[38;5;28;01mraise\u001b[39;00m \u001b[38;5;167;01mValueError\u001b[39;00m(\u001b[38;5;124m'\u001b[39m\u001b[38;5;124mThe number must be between 0 and 10\u001b[39m\u001b[38;5;124m'\u001b[39m)\n",
      "\u001b[0;31mValueError\u001b[0m: The number must be between 0 and 10"
     ]
    }
   ],
   "source": [
    "number = float(input('Write a number between 0 and 10'))\n",
    "if number <= 0 or number >= 10:\n",
    "    raise ValueError('The number must be between 0 and 10')"
   ]
  },
  {
   "cell_type": "markdown",
   "metadata": {
    "slideshow": {
     "slide_type": "subslide"
    }
   },
   "source": [
    "### Exercise\n",
    "\n",
    "Locate the file GRA4157/lectures/02-python-summary2/data/Time-use.txt.\n",
    "\n",
    "1) Write a program that reads the file, and prints out all information about Norway. \n",
    "\n",
    "2) Write a program that reads the file, and prints out the information about Leisure time for all countries. \n",
    "\n",
    "3) Write a program that reads the file, and writes a new file sleep.txt, only consisting of the hours of sleep per country. sleep.txt thus contains two columns, one column of countries and a corresponding column with hours of sleep. The header should be \"Country Sleep-hours\".\n",
    "\n",
    "3) Write a program that computes a \"happiness score\" per country. The happiness score is computed via: hours_of_sleep + seeing_friends + other_leisure - abs(tv_and_radio - 100) - 0.2*paid_work"
   ]
  },
  {
   "cell_type": "markdown",
   "metadata": {
    "slideshow": {
     "slide_type": "subslide"
    }
   },
   "source": [
    "# More on reading files"
   ]
  },
  {
   "cell_type": "code",
   "execution_count": 4,
   "metadata": {},
   "outputs": [
    {
     "name": "stdout",
     "output_type": "stream",
     "text": [
      "This is the first line of the file\n",
      "\n",
      "This is the second line of the file\n",
      "\n",
      "Below comes the interesting part of the file: \n",
      "\n",
      "10 20 30 \n",
      "\n",
      "20 30 1\n",
      "\n",
      "2.2 125 6.45\n",
      "\n",
      "0.1 20 3.14\n",
      "\n"
     ]
    }
   ],
   "source": [
    "with open('example_data.txt') as infile:\n",
    "    for line in infile:\n",
    "        print(line)"
   ]
  },
  {
   "cell_type": "code",
   "execution_count": 13,
   "metadata": {},
   "outputs": [
    {
     "data": {
      "text/plain": [
       "{'Education': 40.478844,\n",
       " 'Care for household members ': 23.0,\n",
       " 'Housework': 82.88683,\n",
       " 'Shopping': 20.44092,\n",
       " 'Other unpaid work & volunteering': 76.614153,\n",
       " 'Sleep': 492.1239,\n",
       " 'Eating and drinking': 79.37977,\n",
       " 'Personal care': 55.76926,\n",
       " 'Sports': 20.90907,\n",
       " 'Attending events': 8.056627,\n",
       " 'Seeing friends': 57.0152,\n",
       " 'TV and Radio': 128.6927,\n",
       " 'Other leisure activities': 153.5697}"
      ]
     },
     "execution_count": 13,
     "metadata": {},
     "output_type": "execute_result"
    }
   ],
   "source": [
    "all_data = {}\n",
    "with open('data/Time-use.txt') as infile:\n",
    "    headers = infile.readline().split()\n",
    "    for line in infile:\n",
    "        info = line.split(',')\n",
    "        country = info[1].strip()\n",
    "        if not country in all_data:\n",
    "            all_data[country] = {}\n",
    "        else:\n",
    "            all_data[country][info[2]] = float(info[3])\n",
    "\n",
    "            \n",
    "all_data['Norway']"
   ]
  },
  {
   "cell_type": "markdown",
   "metadata": {
    "slideshow": {
     "slide_type": "fragment"
    }
   },
   "source": [
    "We will later work with pandas that can deal with these \"nested dictionaries\" automatically"
   ]
  }
 ],
 "metadata": {
  "celltoolbar": "Slideshow",
  "kernelspec": {
   "display_name": "Python 3 (ipykernel)",
   "language": "python",
   "name": "python3"
  },
  "language_info": {
   "codemirror_mode": {
    "name": "ipython",
    "version": 3
   },
   "file_extension": ".py",
   "mimetype": "text/x-python",
   "name": "python",
   "nbconvert_exporter": "python",
   "pygments_lexer": "ipython3",
   "version": "3.9.7"
  },
  "rise": {
   "scroll": true,
   "start_slideshow_at": "selected",
   "theme": "serif",
   "transition": "none"
  }
 },
 "nbformat": 4,
 "nbformat_minor": 4
}
