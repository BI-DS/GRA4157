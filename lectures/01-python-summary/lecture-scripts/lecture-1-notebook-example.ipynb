{
 "cells": [
  {
   "cell_type": "markdown",
   "id": "30d60906-1ed6-4093-b7ec-9460437805e9",
   "metadata": {},
   "source": [
    "# This is an example notebook\n",
    "This is a simple example of how interactive Python notebooks can be used."
   ]
  },
  {
   "cell_type": "markdown",
   "id": "e411f08c",
   "metadata": {},
   "source": [
    "## Running Python code"
   ]
  },
  {
   "cell_type": "code",
   "execution_count": 2,
   "id": "d08fc08a-0b8e-4bed-85aa-0b3188450dc8",
   "metadata": {},
   "outputs": [
    {
     "name": "stdout",
     "output_type": "stream",
     "text": [
      "Hello, world!\n"
     ]
    }
   ],
   "source": [
    "print(\"Hello, world!\")"
   ]
  },
  {
   "cell_type": "markdown",
   "id": "23e17e56",
   "metadata": {},
   "source": [
    "## Running command line commands"
   ]
  },
  {
   "cell_type": "code",
   "execution_count": 1,
   "id": "f877a478",
   "metadata": {},
   "outputs": [
    {
     "name": "stdout",
     "output_type": "stream",
     "text": [
      "Requirement already satisfied: requests in /opt/homebrew/Caskroom/miniconda/base/lib/python3.10/site-packages (2.28.1)\n",
      "Requirement already satisfied: idna<4,>=2.5 in /opt/homebrew/Caskroom/miniconda/base/lib/python3.10/site-packages (from requests) (3.4)\n",
      "Requirement already satisfied: certifi>=2017.4.17 in /opt/homebrew/Caskroom/miniconda/base/lib/python3.10/site-packages (from requests) (2022.12.7)\n",
      "Requirement already satisfied: charset-normalizer<3,>=2 in /opt/homebrew/Caskroom/miniconda/base/lib/python3.10/site-packages (from requests) (2.0.4)\n",
      "Requirement already satisfied: urllib3<1.27,>=1.21.1 in /opt/homebrew/Caskroom/miniconda/base/lib/python3.10/site-packages (from requests) (1.26.13)\n"
     ]
    }
   ],
   "source": [
    "!pip install requests"
   ]
  },
  {
   "cell_type": "markdown",
   "id": "3154b380",
   "metadata": {},
   "source": []
  }
 ],
 "metadata": {
  "kernelspec": {
   "display_name": "Python 3 (ipykernel)",
   "language": "python",
   "name": "python3"
  },
  "language_info": {
   "codemirror_mode": {
    "name": "ipython",
    "version": 3
   },
   "file_extension": ".py",
   "mimetype": "text/x-python",
   "name": "python",
   "nbconvert_exporter": "python",
   "pygments_lexer": "ipython3",
   "version": "3.11.4"
  }
 },
 "nbformat": 4,
 "nbformat_minor": 5
}
