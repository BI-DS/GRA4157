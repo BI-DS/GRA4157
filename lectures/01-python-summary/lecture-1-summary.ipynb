{
 "cells": [
  {
   "cell_type": "markdown",
   "metadata": {
    "slideshow": {
     "slide_type": "slide"
    }
   },
   "source": [
    "# Python refresher\n",
    "\n",
    "Basics of Python"
   ]
  },
  {
   "cell_type": "markdown",
   "metadata": {
    "slideshow": {
     "slide_type": "slide"
    }
   },
   "source": [
    "## Contents\n",
    "  \n",
    "* Installation\n",
    "* Getting started\n",
    "* Variables and types\n",
    "* Control structures\n",
    "* Functions"
   ]
  },
  {
   "cell_type": "markdown",
   "metadata": {
    "slideshow": {
     "slide_type": "slide"
    }
   },
   "source": [
    "## Installation\n",
    "\n",
    "Python can be installed in different ways - and might be already installed on your system!\n",
    "\n",
    "<img src=\"figs/anaconda-logo.png\" style=\"width: 50%; margin: auto;\">\n",
    "\n",
    "We recommend `anaconda` as a quick way to get ~everything you need for scientific Python. Advantages:\n",
    "\n",
    "* Includes a Python distribution with package manager and many packages.\n",
    "* Freely available for Windows, mac, and Linux"
   ]
  },
  {
   "cell_type": "markdown",
   "metadata": {
    "slideshow": {
     "slide_type": "subslide"
    }
   },
   "source": [
    "## Quick guide:\n",
    "\n",
    "1. Install `anaconda` from https://anaconda.com as a local user.\n",
    "2. Check that Python >= 3.6 is installed:\n",
    "\n",
    "```bash\n",
    "> python3 --version\n",
    "Python 3.8.5\n",
    "```"
   ]
  },
  {
   "cell_type": "markdown",
   "metadata": {
    "slideshow": {
     "slide_type": "subslide"
    }
   },
   "source": [
    "### The conda package manager\n",
    "\n",
    "conda can install packages of any kind (not just Python) on any system.\n",
    "This can add new programs (including Python itself!)\n",
    "or Python packages, which add functionality to Python.\n",
    "You can use the conda package manager to find and install new packages:\n",
    "\n",
    "\n",
    "* Search for a package: \n",
    "   ```bash\n",
    "   conda search scipy\n",
    "   ```\n",
    "* Install a package: \n",
    "   ```bash\n",
    "   conda install scipy\n",
    "   ```\n",
    "* List all installed packages: \n",
    "   ```bash\n",
    "   conda list\n",
    "   ```"
   ]
  },
  {
   "cell_type": "markdown",
   "metadata": {
    "slideshow": {
     "slide_type": "subslide"
    }
   },
   "source": [
    "### The pip package manager\n",
    "\n",
    "`pip` is Python's own package manager, and can install only Python packages.\n",
    "Packages are Python extension that can be installed on your system.\n",
    "You can use `pip` to install new packages:\n",
    "\n",
    "* Install a package: \n",
    "   ```bash\n",
    "   pip install scipy\n",
    "   ```\n",
    "* List all installed packages: \n",
    "   ```bash\n",
    "   pip list\n",
    "   ```"
   ]
  },
  {
   "cell_type": "markdown",
   "metadata": {
    "slideshow": {
     "slide_type": "slide"
    }
   },
   "source": [
    "# Getting help\n",
    "    I have office hours at BI every Friday 09:00 - 16:00 at office A4i - 070. Outside these hours you may contact me at steven@simula.no or steven.a.hicks@bi.no.\n",
    "    \n",
    "<img src=\"figs/help.jpg\" style=\"width: 400px;\"/>"
   ]
  },
  {
   "cell_type": "markdown",
   "metadata": {
    "slideshow": {
     "slide_type": "subslide"
    }
   },
   "source": [
    "## Books and tutorials\n",
    "We will use content from three different books: \n",
    "  * Sundnes - Introduciton to Scientific Programming with Python\n",
    "  * McKinney - Python for Data Analysis\n",
    "  * Geron - Hands on Machine Learning with SciKit learn (Keras and TensorFlow)\n",
    "  \n",
    "All books can be found in our GitHub repo: https://github.com/BI-DS/GRA4157  \n",
    "\n",
    "Here are some good books and tutorials for Python 3:\n",
    "  * [Python Library Reference](https://docs.python.org/3/)\n",
    "  * [Python 3 tutorial](https://docs.python.org/3/tutorial/)\n",
    "  * [Think Python](https://greenteapress.com/wp/think-python-2e/)"
   ]
  },
  {
   "cell_type": "markdown",
   "metadata": {
    "slideshow": {
     "slide_type": "subslide"
    }
   },
   "source": [
    "## Built-in documentation\n",
    "\n",
    "Build-in documentation is accessible via the command line program `pydoc`:\n",
    "```bash\n",
    "pydoc anymodule\n",
    "pydoc anymodule.anyfunc\n",
    "```\n",
    "\n",
    "Example: "
   ]
  },
  {
   "cell_type": "code",
   "execution_count": null,
   "metadata": {
    "slideshow": {
     "slide_type": "fragment"
    }
   },
   "outputs": [],
   "source": [
    "!pydoc3 print"
   ]
  },
  {
   "cell_type": "markdown",
   "metadata": {
    "slideshow": {
     "slide_type": "slide"
    }
   },
   "source": [
    "# First Python encounter: a scientific hello world program"
   ]
  },
  {
   "cell_type": "markdown",
   "metadata": {
    "slideshow": {
     "slide_type": "fragment"
    }
   },
   "source": [
    "```python\n",
    "#!/usr/bin/env python3\n",
    "from math import sin\n",
    "import sys\n",
    "\n",
    "x = float(sys.argv[1])\n",
    "print(f\"Hello world, sin({x}) = {sin(x)}\")\n",
    "``` \n",
    "\n",
    "Save this code in file `hw.py`."
   ]
  },
  {
   "cell_type": "markdown",
   "metadata": {
    "slideshow": {
     "slide_type": "subslide"
    }
   },
   "source": [
    "## Running the script from the command line\n",
    "\n",
    "Works an all operating systems:\n",
    "\n",
    "```bash\n",
    "> python3 hw.py 0.8\n",
    "Hello world, sin(0.8) = 0.7173560908995228\n",
    "```"
   ]
  },
  {
   "cell_type": "markdown",
   "metadata": {
    "slideshow": {
     "slide_type": "fragment"
    }
   },
   "source": [
    "A Linux/mac alternative is to make the file executable:\n",
    "\n",
    "```bash\n",
    "> chmod a+x hw.py\n",
    "> ./hw.py 10\n",
    "Hello world, sin(10.0) = -0.5440211108893698\n",
    "```"
   ]
  },
  {
   "cell_type": "markdown",
   "metadata": {
    "slideshow": {
     "slide_type": "subslide"
    }
   },
   "source": [
    "## Dissection of `hw.py` (1)\n",
    "\n",
    "On Linux/mac: find out what kind of script language (interpreter) to use:\n",
    "\n",
    "```python\n",
    "#!/usr/bin/env python3\n",
    "```"
   ]
  },
  {
   "cell_type": "markdown",
   "metadata": {
    "slideshow": {
     "slide_type": "fragment"
    }
   },
   "source": [
    "Access library functionality like the function `sin` and the list `sys.argv`\n",
    "(of command-line arguments):\n",
    "\n",
    "```python\n",
    "from math import sin\n",
    "import sys\n",
    "```"
   ]
  },
  {
   "cell_type": "markdown",
   "metadata": {
    "slideshow": {
     "slide_type": "fragment"
    }
   },
   "source": [
    "Read first command line argument and convert it to a floating point object:\n",
    "\n",
    "```python\n",
    "x = float(sys.argv[1])\n",
    "```\n",
    "\n",
    "**Note**: Python variables are not declared."
   ]
  },
  {
   "cell_type": "markdown",
   "metadata": {
    "slideshow": {
     "slide_type": "subslide"
    }
   },
   "source": [
    "## Dissection of `hw.py` (2)\n",
    "\n",
    "Print out the result using a format string:\n",
    "\n",
    "```python\n",
    "print(f\"Hello world, sin({x}) = {sin(x)}\")\n",
    "```\n",
    "\n",
    "or with complete control of the formating of floats (similar to the C's `printf` syntax):\n",
    "\n",
    "```python\n",
    "print(f\"Hello world, sin({x:g}) = {sin(x):.3f}\")\n",
    "```"
   ]
  },
  {
   "cell_type": "markdown",
   "metadata": {
    "slideshow": {
     "slide_type": "slide"
    }
   },
   "source": [
    "## Python as a calculator\n",
    "\n",
    "You can use the Python as a simple calculator:"
   ]
  },
  {
   "cell_type": "code",
   "execution_count": null,
   "metadata": {},
   "outputs": [],
   "source": [
    "1 + 2"
   ]
  },
  {
   "cell_type": "code",
   "execution_count": null,
   "metadata": {},
   "outputs": [],
   "source": [
    "4.5 / 3 + (1 + 2) * 3"
   ]
  },
  {
   "cell_type": "markdown",
   "metadata": {},
   "source": [
    "Use `**` to compute the power:"
   ]
  },
  {
   "cell_type": "code",
   "execution_count": null,
   "metadata": {},
   "outputs": [],
   "source": [
    "4 ** 5"
   ]
  },
  {
   "cell_type": "markdown",
   "metadata": {},
   "source": [
    "Python also supports complex numbers:"
   ]
  },
  {
   "cell_type": "code",
   "execution_count": null,
   "metadata": {},
   "outputs": [],
   "source": [
    "a = 1 + 2j\n",
    "b = 3 - 5j\n",
    "a * b"
   ]
  },
  {
   "cell_type": "markdown",
   "metadata": {
    "slideshow": {
     "slide_type": "subslide"
    }
   },
   "source": [
    "## Python as a calculator (2)\n",
    "\n",
    "More advanced mathematical functions can be `import`ed:"
   ]
  },
  {
   "cell_type": "code",
   "execution_count": null,
   "metadata": {},
   "outputs": [],
   "source": [
    "from math import log10\n",
    "log10(5)"
   ]
  },
  {
   "cell_type": "markdown",
   "metadata": {
    "slideshow": {
     "slide_type": "slide"
    }
   },
   "source": [
    "# Python variables and data types"
   ]
  },
  {
   "cell_type": "markdown",
   "metadata": {
    "slideshow": {
     "slide_type": "slide"
    }
   },
   "source": [
    "## Basic types\n",
    "\n",
    "- strings: `\"strings for storing text\"`\n",
    "- numbers: `1, 1.5`\n",
    "- tuples: `(1, 2, 3)` for storing static collections\n",
    "- lists: `[\"a\", \"b\", \"c\"]` for mutable, ordered sequences\n",
    "- dicts: `{\"key\": \"value\"}` for storing key-value pairs\n",
    "- sets: `{\"do\", \"re\", \"mi\"}` for storing unique, unordered collections"
   ]
  },
  {
   "cell_type": "markdown",
   "metadata": {
    "slideshow": {
     "slide_type": "subslide"
    }
   },
   "source": [
    "## Strings\n",
    "\n",
    "Strings can be expressed as single quotes ('...') or double quotes (\"...\") with the same result:\n",
    "```python\n",
    "'some string'\n",
    "```\n",
    "is equivalent to \n",
    "```python\n",
    "\"some string\"\n",
    "```\n",
    "\n",
    "Triple-quoted strings can be multi line with embedded newlines:\n",
    "```python\n",
    "text = \"\"\"large portions of a text\n",
    "can be conveniently placed inside\n",
    "triple-quoted strings (newlines\n",
    "are preserved)\"\"\"\n",
    "```"
   ]
  },
  {
   "cell_type": "markdown",
   "metadata": {
    "slideshow": {
     "slide_type": "subslide"
    }
   },
   "source": [
    "## Special characters in strings"
   ]
  },
  {
   "cell_type": "markdown",
   "metadata": {
    "slideshow": {
     "slide_type": "-"
    }
   },
   "source": [
    "Use the backslash `\\` to escape special characters:"
   ]
  },
  {
   "cell_type": "code",
   "execution_count": null,
   "metadata": {
    "slideshow": {
     "slide_type": "-"
    }
   },
   "outputs": [],
   "source": [
    "s = \"\\\"This is a quote\\\" and \\n here comes a backslash: \\\\\" \n",
    "\n",
    "print(s)"
   ]
  },
  {
   "cell_type": "markdown",
   "metadata": {
    "slideshow": {
     "slide_type": "subslide"
    }
   },
   "source": [
    "## String concatenation\n",
    "\n",
    "Strings can be *glued* together with the `+` and the `*` operators:\n"
   ]
  },
  {
   "cell_type": "code",
   "execution_count": null,
   "metadata": {},
   "outputs": [],
   "source": [
    "\"hello \" * 3 + \"world\""
   ]
  },
  {
   "cell_type": "markdown",
   "metadata": {},
   "source": [
    "This works also with string variables:"
   ]
  },
  {
   "cell_type": "code",
   "execution_count": null,
   "metadata": {},
   "outputs": [],
   "source": [
    "quote = \"I will not eat chips all day\"\n",
    "(quote + \", \") * 10 + quote"
   ]
  },
  {
   "cell_type": "markdown",
   "metadata": {
    "slideshow": {
     "slide_type": "subslide"
    }
   },
   "source": [
    "## Slicing"
   ]
  },
  {
   "cell_type": "markdown",
   "metadata": {},
   "source": [
    "You can extract a sub-string with the `[start:end]` slicing notation:"
   ]
  },
  {
   "cell_type": "code",
   "execution_count": null,
   "metadata": {},
   "outputs": [],
   "source": [
    "quote[2:6]"
   ]
  },
  {
   "cell_type": "markdown",
   "metadata": {},
   "source": [
    "If the `start` (`left`) argument is left out, the substring will start from the first (last) character:"
   ]
  },
  {
   "cell_type": "code",
   "execution_count": null,
   "metadata": {},
   "outputs": [],
   "source": [
    "quote[:6]  # I will"
   ]
  },
  {
   "cell_type": "code",
   "execution_count": null,
   "metadata": {},
   "outputs": [],
   "source": [
    "quote[7:]  # not eat chips all day"
   ]
  },
  {
   "cell_type": "markdown",
   "metadata": {},
   "source": [
    "Negative indices can be used to index \"from the right\":"
   ]
  },
  {
   "cell_type": "markdown",
   "metadata": {},
   "source": [
    "```\n",
    " +---+---+---+---+---+\n",
    " | c | h | i | p | s |\n",
    " +---+---+---+---+---+\n",
    "   0   1   2   3   4\n",
    "  -5  -4  -3  -2  -1  \n",
    "```"
   ]
  },
  {
   "cell_type": "code",
   "execution_count": null,
   "metadata": {},
   "outputs": [],
   "source": [
    "\"chips\"[1:-2]"
   ]
  },
  {
   "cell_type": "markdown",
   "metadata": {
    "slideshow": {
     "slide_type": "subslide"
    }
   },
   "source": [
    "## Python strings cannot be changed\n",
    "\n",
    "Python strings are **immutable**, meaning that they cannot be changed:"
   ]
  },
  {
   "cell_type": "code",
   "execution_count": null,
   "metadata": {},
   "outputs": [],
   "source": [
    "quote[1] = \"x\""
   ]
  },
  {
   "cell_type": "markdown",
   "metadata": {},
   "source": [
    "If one wants to change a string, one needs to create a new one:"
   ]
  },
  {
   "cell_type": "code",
   "execution_count": null,
   "metadata": {},
   "outputs": [],
   "source": [
    "quote = quote[:1] + \"x\" + quote[2:]\n",
    "print(quote) "
   ]
  },
  {
   "cell_type": "markdown",
   "metadata": {
    "slideshow": {
     "slide_type": "subslide"
    }
   },
   "source": [
    "\n",
    "## More useful string operations"
   ]
  },
  {
   "cell_type": "markdown",
   "metadata": {
    "slideshow": {
     "slide_type": "-"
    }
   },
   "source": [
    "| Code               |   Meaning                                       |                                                                                                              \n",
    "|----------------------------|-------------------------------------------------|                                    \n",
    "|'day' in quote              |       True if string contains substring        |\n",
    "|quote.find('i')             |       index where first 'i' is found           |\n",
    "|quote.split()               |       split at whitespace (returns list)      |\n",
    "|quote.replace('chips', 'salad')|    replace all occurances                   |\n",
    "|quote.lower()                |      convert to lower case                    |\n",
    "|quote.upper()                |      convert to upper case                    |\n",
    "|quote.strip()                |      remove leading/trailing blanks           | "
   ]
  },
  {
   "cell_type": "markdown",
   "metadata": {},
   "source": [
    "Note that the modification operations return a **new** string  (since strings are immutable)."
   ]
  },
  {
   "cell_type": "markdown",
   "metadata": {
    "slideshow": {
     "slide_type": "subslide"
    }
   },
   "source": [
    "## Lists\n",
    "\n",
    "Python lists allow you to group together a sequence of values:"
   ]
  },
  {
   "cell_type": "code",
   "execution_count": null,
   "metadata": {
    "slideshow": {
     "slide_type": "-"
    }
   },
   "outputs": [],
   "source": [
    "mylist  = ['Hello', 'world', '!!!']"
   ]
  },
  {
   "cell_type": "markdown",
   "metadata": {},
   "source": [
    "Generally lists are used when you have an ordered collection of the same *kind* of thing:\n",
    "\n",
    "- filenames\n",
    "- URLs\n",
    "- objects\n",
    "- numbers\n",
    "\n",
    "Lists do not *require* items to have the same type,\n",
    "though in practice they usually do"
   ]
  },
  {
   "cell_type": "code",
   "execution_count": null,
   "metadata": {},
   "outputs": [],
   "source": [
    "mylist  = ['Hello', 4, True]"
   ]
  },
  {
   "cell_type": "markdown",
   "metadata": {
    "slideshow": {
     "slide_type": "subslide"
    }
   },
   "source": [
    "### List operations\n",
    "\n",
    "Many of the operations that we know from strings also work on lists, such as indexing:"
   ]
  },
  {
   "cell_type": "code",
   "execution_count": null,
   "metadata": {},
   "outputs": [],
   "source": [
    "mylist[0]"
   ]
  },
  {
   "cell_type": "markdown",
   "metadata": {},
   "source": [
    "..., slicing:"
   ]
  },
  {
   "cell_type": "code",
   "execution_count": null,
   "metadata": {},
   "outputs": [],
   "source": [
    "mylist[1:]"
   ]
  },
  {
   "cell_type": "markdown",
   "metadata": {},
   "source": [
    "and concatenation:"
   ]
  },
  {
   "cell_type": "code",
   "execution_count": null,
   "metadata": {},
   "outputs": [],
   "source": [
    "newlist = mylist + [\"!\"] * 3\n",
    "newlist"
   ]
  },
  {
   "cell_type": "markdown",
   "metadata": {
    "slideshow": {
     "slide_type": "subslide"
    }
   },
   "source": [
    "### Lists can be changed\n",
    "In constrast to `strings`, `lists` are **mutable** and can be changed:"
   ]
  },
  {
   "cell_type": "code",
   "execution_count": null,
   "metadata": {},
   "outputs": [],
   "source": [
    "mylist = [11, 12, 14]\n",
    "mylist[2] = 13\n",
    "mylist"
   ]
  },
  {
   "cell_type": "markdown",
   "metadata": {},
   "source": [
    "We can also append additional items to a list:"
   ]
  },
  {
   "cell_type": "code",
   "execution_count": null,
   "metadata": {},
   "outputs": [],
   "source": [
    "mylist.append(14)\n",
    "mylist"
   ]
  },
  {
   "cell_type": "markdown",
   "metadata": {
    "slideshow": {
     "slide_type": "subslide"
    }
   },
   "source": [
    "## Cheat sheet for Python lists\n",
    "\n",
    "| Construction               |   Meaning                                       |                                                                                                              \n",
    "|----------------------------|-------------------------------------------------|                                                                                                              \n",
    "| a = []                   | initialize an empty list                        |                                                                                                               \n",
    "| a = [1, 4.4, 'run.py']   | initialize a list                               |                                                                                                               \n",
    "| a.append(elem)           | add elem object to the end                    |                                                                                                               \n",
    "| a + [1,3]                | add two lists                                   |                                                                                                               \n",
    "| a.insert(i, e)           | insert element e before index i             |                                                                                                               \n",
    "| a[3]                     | index a list element                            |                                                                                                               \n",
    "| a[-1]                    | get last list element                           |                                                                                                              \n",
    "| a[1:3]                   | slice: return sublist (here: index 1, 2)  |                                                                                                               \n",
    "| del a[3]                 | delete an element (index 3)                   |                                                                                                              \n",
    "| a.remove(e)              | remove an element with value e                |                                                                                                               \n",
    "| a.index('run.py')        | find index corresponding to an element's value  |                                                                                                              \n",
    "| 'value' in a            | test if a value is contained in the list        |                                                                                                               \n",
    "| a.count(v)               | count how many elements have the value v |                                                                                                              \n",
    "| len(a)                   | number of elements in list a                  |                                                                                                               \n",
    "| min(a)                   | the smallest element in a                     |                                                                                                              \n",
    "| max(a)                   | the largest element in a                      |                                                                                                               \n",
    "| sum(a)                   | add all elements in a                         |                                                                                                              \n",
    "| sorted(a)                | return sorted version of list a               |                                                                                                               \n",
    "| reversed(a)              | return reversed view version of list a      |                                                                                                              \n",
    "| b[3][0][2]               | nested list indexing                            |                                                                                                               \n",
    "| isinstance(a, list)      | is True if a is a list                      |                                                                                                              \n",
    "| type(a) is list          | is True if a is a list                      |                                                                                                                "
   ]
  },
  {
   "cell_type": "markdown",
   "metadata": {
    "slideshow": {
     "slide_type": "subslide"
    }
   },
   "source": [
    "### Tuples\n",
    "\n",
    "Tuples are very similar to lists, but they are **immutable**, just like strings.\n",
    "\n",
    "Functionally, they are essentially immutable lists,\n",
    "but they tend to be used for a differnt purpose:\n",
    "\n",
    "> a single \"thing\" with multiple components\n",
    "\n",
    "Tuples are created with parentheses:"
   ]
  },
  {
   "cell_type": "code",
   "execution_count": null,
   "metadata": {},
   "outputs": [],
   "source": [
    "mytuple = ('a string', 2.5, 6, 'another string')"
   ]
  },
  {
   "cell_type": "markdown",
   "metadata": {},
   "source": [
    "Since tuples are immutable we cannot change them:\n",
    "```python\n",
    "mytuple[1] = -10  # Error, tuple cannot be changed\n",
    "```"
   ]
  },
  {
   "cell_type": "markdown",
   "metadata": {
    "slideshow": {
     "slide_type": "fragment"
    }
   },
   "source": [
    "Instead we need to create a new tuple with the changed values, for example by converting the tuple to a list, changing it, and converting it back to a tuple:"
   ]
  },
  {
   "cell_type": "code",
   "execution_count": null,
   "metadata": {},
   "outputs": [],
   "source": [
    "l = list(mytuple)   # convert tuple to list (copy)\n",
    "l[1:3] = [\"is\", \"not\"]\n",
    "mytuple = tuple(l)  # convert list to tuple (copy)\n",
    "mytuple"
   ]
  },
  {
   "cell_type": "markdown",
   "metadata": {
    "slideshow": {
     "slide_type": "subslide"
    }
   },
   "source": [
    "## Tuple cheat sheet\n",
    "\n",
    "| Code               |   Meaning                                       |                                                                                                              \n",
    "|----------------------------|-------------------------------------------------|                                                                                                              \n",
    "| a = ()                   | initialize an empty tuple                        |                                                                                                               \n",
    "| a = (1, 4.4, 'run.py')   | initialize a tuple                               |                                                                                                               \n",
    "| a + (1,3)                | concatenate two tuples (returns a new tuple) |                                                                                                           \n",
    "| a[3]                     | index a list element                            |                                                                                                               \n",
    "| a[-1]                    | get last list element                           |                                                                                                              \n",
    "| a[1:3]                   | slice: return subtuple (here: index 1, 2)  |                                                                                                               \n",
    "| a.index('value')        | find index corresponding to an element's value  |                                                                                                              \n",
    "| 'value' in a            | test if a value is contained in the list        |                                                                                                               \n",
    "| a.count(v)               | count how many elements have the value v |                                                                                                              \n",
    "| len(a)                   | number of elements in list a                  |                                                                                                               \n",
    "| min(a)                   | the smallest element in a                     |                                                                                                              \n",
    "| max(a)                   | the largest element in a                      |                                                                                                               \n",
    "| sum(a)                   | add all elements in a                         |                                                                                                              \n",
    "| sorted(a)                | return sorted list with the values of a               |                                                                                                               \n",
    "| reversed(a)              | return reversed version of a      |                                                                                                              \n",
    "| b[3][0][2]               | nested list indexing                            |                                                                                                               \n",
    "| isinstance(a, tuple)      | is True if a is a tuple or subclass                     |                                                                                                              \n",
    "| type(a) is tuple          | is True if a is exactly a tuple                      |                                                                                                                "
   ]
  },
  {
   "cell_type": "markdown",
   "metadata": {
    "slideshow": {
     "slide_type": "subslide"
    }
   },
   "source": [
    "## Python dictionaries\n",
    "\n",
    "![dictionary](figs/dictionary.jpg)\n",
    "\n",
    "Remeber that lists always used integers as indices:\n",
    "\n",
    "```python\n",
    "mylist[10]       \n",
    "```\n",
    "\n",
    "Python dictionaries are similar but you can use any **hashable** object as index:\n",
    "\n",
    "```python\n",
    "mydict[\"hallo\"]  # dictionary can use e.g. a string as indices\n",
    "```"
   ]
  },
  {
   "cell_type": "markdown",
   "metadata": {
    "slideshow": {
     "slide_type": "subslide"
    }
   },
   "source": [
    "## Basic dictionary operations\n",
    "\n",
    "We create dictionaries with the `{}` syntax. \n",
    "For each dictionary entry, we need to probide one (immutable) key and its value:"
   ]
  },
  {
   "cell_type": "markdown",
   "metadata": {},
   "source": [
    "```python\n",
    "phonebook = {\"John Doe\"  : 99954329, \n",
    "             \"Franz Dahl\": 4881221}\n",
    "\n",
    "mydict = {\"1\"      : \"A number\", \n",
    "          \"house\"  : \"A building to live in\", \n",
    "          \"kitchen\": None}\n",
    "```"
   ]
  },
  {
   "cell_type": "markdown",
   "metadata": {},
   "source": [
    "Once created, we can access the dictionary entries:\n",
    "```python\n",
    "phonebook[\"John Doe\"]  # 99954329\n",
    "mydict[\"tbane\"]        # gives a KeyError\n",
    "```"
   ]
  },
  {
   "cell_type": "markdown",
   "metadata": {
    "slideshow": {
     "slide_type": "fragment"
    }
   },
   "source": [
    "Dictionaryes are **mutable**, so we can change them:\n",
    "```python\n",
    "mydict['somekey'] = 1.0\n",
    "\n",
    "mydict.update(otherdict)  # add/replace key-value pairs\n",
    "\n",
    "del mydict[2]\n",
    "del mydict['somekey']\n",
    "```"
   ]
  },
  {
   "cell_type": "markdown",
   "metadata": {
    "slideshow": {
     "slide_type": "subslide"
    }
   },
   "source": [
    "## Dictionary cheat sheet\n",
    "\n",
    "\n",
    "| Construction                           | Meaning                                    |                                                                                                        \n",
    "|-----------------------------------------|--------------------------------------------|                                                                                                        \n",
    "| `a = {}`                               | initialize an empty dictionary             |                                                                                                        \n",
    "| `a = {'point': (0,0.1), 'value': 7}`   | initialize a dictionary                    |                                                                                                        \n",
    "| `a = dict(point=(2,7), value=3)`       | initialize a dictionary w/string keys      |                                                                                                        \n",
    "| `a.update(b)`                          | add key-value pairs from b in a |                                                                                                               \n",
    "| `a.update(key1=value1, key2=value2)`   | add key-value pairs in a          |                                                                                                               \n",
    "| `a['hide'] = True  `                   | add new key-value pair to a              |                                                                                                        \n",
    "| `a['point']`                           | get value corresponding to key point     |                                                                                                        \n",
    "| `for key in a:`                        | loop over keys in unknown order            |                                                                                                        \n",
    "| `for key in sorted(a):`                | loop over keys in alphabetic order         |                                                                                                        \n",
    "| `'value' in a`                         | True if string value is a key in a   |                                                                                                        \n",
    "| `del a['point']`                       | delete a key-value pair from a           |                                                                                                        \n",
    "| list(a.keys())                       | list of keys                               |                                                                                                        \n",
    "| list(a.values())                     | list of values                             |                                                                                                        \n",
    "| `len(a)`                               | number of key-value pairs in a           |                                                                                                        \n",
    "| `isinstance(a, dict)`                  | is True if a is a dictionary           |"
   ]
  },
  {
   "cell_type": "markdown",
   "metadata": {
    "slideshow": {
     "slide_type": "subslide"
    }
   },
   "source": [
    "## Summary: Common data structures\n",
    "\n",
    "* Numbers: \n",
    "    * `int`\n",
    "    * `float`\n",
    "    * `complex`\n",
    "\n",
    "* Sequences: \n",
    "    * `string`\n",
    "    * `list`\n",
    "    * `tuple`\n",
    "    * `set`\n",
    "\n",
    "* Mappings: \n",
    "    * `dict` (dictionary/hash)"
   ]
  },
  {
   "cell_type": "markdown",
   "metadata": {
    "slideshow": {
     "slide_type": "slide"
    }
   },
   "source": [
    "# Control structures in Python"
   ]
  },
  {
   "cell_type": "markdown",
   "metadata": {
    "slideshow": {
     "slide_type": "subslide"
    }
   },
   "source": [
    "## Conditionals/branching\n",
    "\n",
    "```python\n",
    "if condition:\n",
    "    <block of statements>\n",
    "elif condition:\n",
    "    <block of statements>\n",
    "else:\n",
    "    <block of statements>\n",
    "```    \n",
    "\n",
    "Also here, `condition` must be a boolean expression.\n",
    "\n",
    "**Important**: Python uses indentation to determine the start/end of blocks\n",
    "(instead of e.g. brackets). In Python, it is common to indent with 4 spaces."
   ]
  },
  {
   "cell_type": "markdown",
   "metadata": {
    "slideshow": {
     "slide_type": "subslide"
    }
   },
   "source": [
    "## Examples\n",
    "Let's look at an example:"
   ]
  },
  {
   "cell_type": "code",
   "execution_count": null,
   "metadata": {},
   "outputs": [],
   "source": [
    "i = 25\n",
    "\n",
    "if i < 0:\n",
    "    print(f\"{i} is a negative number\")\n",
    "elif 0 <= i < 20:\n",
    "    print(f\"{i} is a small number\")\n",
    "else:\n",
    "    print(f\"{i} is a large number\")"
   ]
  },
  {
   "cell_type": "markdown",
   "metadata": {
    "slideshow": {
     "slide_type": "fragment"
    }
   },
   "source": [
    "Python variables are strongy typed. We can use if statements to test for a variable's type:\n",
    "\n",
    "```python\n",
    "if isinstance(a, int): # int?\n",
    "    # ...\n",
    "if isinstance(a, (list, tuple)): # list or tuple?\n",
    "    # ...\n",
    "```    "
   ]
  },
  {
   "cell_type": "markdown",
   "metadata": {
    "slideshow": {
     "slide_type": "subslide"
    }
   },
   "source": [
    "## `while` loop\n",
    "\n",
    "```python\n",
    "while condition:\n",
    "    <block of statements>\n",
    "```\n",
    "\n",
    "Here, `condition` must be a boolean expression (or have a boolean interpretation), for example: `i < 10`."
   ]
  },
  {
   "cell_type": "markdown",
   "metadata": {
    "slideshow": {
     "slide_type": "subslide"
    }
   },
   "source": [
    "## `for` loop\n",
    "\n",
    "\n",
    "```python\n",
    "for element in somelist:\n",
    "    <block of statements>\n",
    "```    \n",
    "\n",
    "Here, `somelist` must be an **iterable** object, for example a `list`, `tuple`, or `string`."
   ]
  },
  {
   "cell_type": "markdown",
   "metadata": {
    "slideshow": {
     "slide_type": "subslide"
    }
   },
   "source": [
    "## Example\n",
    "Let's look at an example:"
   ]
  },
  {
   "cell_type": "code",
   "execution_count": null,
   "metadata": {},
   "outputs": [],
   "source": [
    "shoppinglist = [\"tea\", \"butter\", \"milk\"]\n",
    "\n",
    "for item in shoppinglist:\n",
    "    print(f\"Remember to buy {item}.\")"
   ]
  },
  {
   "cell_type": "markdown",
   "metadata": {
    "slideshow": {
     "slide_type": "subslide"
    }
   },
   "source": [
    "If you want to iterate over a sequence of numbers, you can use the `range` command:"
   ]
  },
  {
   "cell_type": "code",
   "execution_count": null,
   "metadata": {},
   "outputs": [],
   "source": [
    "for i in range(3):\n",
    "    print(i)"
   ]
  },
  {
   "cell_type": "markdown",
   "metadata": {
    "slideshow": {
     "slide_type": "slide"
    }
   },
   "source": [
    "# Functions"
   ]
  },
  {
   "cell_type": "markdown",
   "metadata": {},
   "source": [
    "Python functions allow you to encapsulate a task - they combine many instructions into a single line of code. "
   ]
  },
  {
   "cell_type": "markdown",
   "metadata": {},
   "source": [
    "As an example, let's write a function that splits a string at a given character:"
   ]
  },
  {
   "cell_type": "code",
   "execution_count": null,
   "metadata": {},
   "outputs": [],
   "source": [
    "def split(string, char):\n",
    "    \"\"\" Split the string at the given character \"\"\"\n",
    "    \n",
    "    position = string.find(char)\n",
    "    \n",
    "    if  position > 0:\n",
    "        return string[:position+1], string[position+1:]\n",
    "    else:\n",
    "        return string, ''"
   ]
  },
  {
   "cell_type": "markdown",
   "metadata": {
    "slideshow": {
     "slide_type": "fragment"
    }
   },
   "source": [
    "So far, we have only defined the function (in cooking this is equivalent of writing down a recipe). \n",
    "\n",
    "We must call our function to have an actual effect (or equivalently, actually cooking the recipe). Let's call our function for the first time:"
   ]
  },
  {
   "cell_type": "code",
   "execution_count": null,
   "metadata": {
    "scrolled": true,
    "slideshow": {
     "slide_type": "-"
    }
   },
   "outputs": [],
   "source": [
    "message = 'Heisann'\n",
    "result = split(message, 'i') # Call our function\n",
    "print(result)"
   ]
  },
  {
   "cell_type": "markdown",
   "metadata": {
    "slideshow": {
     "slide_type": "subslide"
    }
   },
   "source": [
    "## Function syntax"
   ]
  },
  {
   "cell_type": "markdown",
   "metadata": {},
   "source": [
    "The syntax is the following:\n",
    "```python\n",
    "def functionname(arg1, arg2=\"default\", arg3=1.0, ...):\n",
    "   \"Docstring\"\n",
    "   <block of statements>\n",
    "   return [expression]\n",
    "```"
   ]
  },
  {
   "cell_type": "markdown",
   "metadata": {
    "slideshow": {
     "slide_type": "fragment"
    }
   },
   "source": [
    "We have a few options how to call a function:\n",
    "\n",
    "```python\n",
    "functionname(1.0, \"x\", \"i\")\n",
    "```\n",
    "is the same as\n",
    "```python\n",
    "functionname(arg1=1.0, arg2=\"x\", arg2=\"i\")\n",
    "```\n",
    "\n",
    "Default arguments can be left out:\n",
    "```python\n",
    "functionname(1.0, args3=\"i\") \n",
    "```\n",
    "\n",
    "Positional arguments must appear before keyword arguments:\n",
    "\n",
    "```python\n",
    "functionname(arg3='i', \"x\") # invalid\n",
    "```"
   ]
  },
  {
   "cell_type": "markdown",
   "metadata": {},
   "source": [
    "# Testing"
   ]
  },
  {
   "cell_type": "markdown",
   "metadata": {},
   "source": [
    "You will make mistakes when programming! Everyone does. The trick is in spotting the mistakes early and efficiently (after release/publication is normally undesirable).\n",
    "\n",
    "Best tool available: Tests"
   ]
  },
  {
   "cell_type": "markdown",
   "metadata": {},
   "source": [
    "## Why should we test?\n",
    "\n",
    "* To check correctness of software.\n",
    "* To ensure that future changes do not break functionality.\n",
    "* To check if the software runs succesfully in a different environment (newer Python version, upgraded libraries, different operating system)"
   ]
  },
  {
   "cell_type": "markdown",
   "metadata": {},
   "source": [
    "## How to write unit tests"
   ]
  },
  {
   "cell_type": "markdown",
   "metadata": {},
   "source": [
    " 1. Identify a *unit* in your program that should have a well defined behavior given a certain input. A unit can be a:\n",
    "   - function\n",
    "   - module\n",
    "   - entire program\n",
    " 1. Write a test function that calls this input and checks that the output/behavior is as expected\n",
    " 1. The more the better! Preferably on several levels (function/module/program)."
   ]
  },
  {
   "cell_type": "markdown",
   "metadata": {},
   "source": [
    "## How to write unit tests in Python"
   ]
  },
  {
   "cell_type": "markdown",
   "metadata": {},
   "source": [
    "Use a test framework like [py.test](http://docs.pytest.org/en/latest/). Several other frameworks exist as well."
   ]
  },
  {
   "cell_type": "markdown",
   "metadata": {},
   "source": [
    "```bash\n",
    "$ pip install pytest\n",
    "```"
   ]
  },
  {
   "cell_type": "markdown",
   "metadata": {},
   "source": [
    "Make a file `test_<unit_or_module name>.py`, preferably in a folder called `tests`."
   ]
  },
  {
   "cell_type": "markdown",
   "metadata": {},
   "source": [
    "Import the code to be tested."
   ]
  },
  {
   "cell_type": "markdown",
   "metadata": {},
   "source": [
    "Add a function `def test_<test_name>():`, and have it check for the correct behavior given a certain input"
   ]
  },
  {
   "cell_type": "markdown",
   "metadata": {},
   "source": [
    "## Example"
   ]
  },
  {
   "cell_type": "markdown",
   "metadata": {},
   "source": [
    "Say you have a function `absolute_value` in a file that needs testing:\n",
    "```python\n",
    "# math_tools.py \n",
    "def absolute_value(x):\n",
    "    if x < 0:\n",
    "        return x\n",
    "    else:\n",
    "        return -x\n",
    "```        "
   ]
  },
  {
   "cell_type": "markdown",
   "metadata": {},
   "source": [
    "Create a associated test file `test_math_tools.py`:"
   ]
  },
  {
   "cell_type": "markdown",
   "metadata": {},
   "source": [
    "```python\n",
    "# test_math_tools.py\n",
    "\n",
    "# Import the function to be tested\n",
    "from math_tools import absolute_value    \n",
    "\n",
    "# py.test will automatically run functions starting with test_ \n",
    "def test_verify_absolute_func():         \n",
    "    # Add some tests here...\n",
    "    assert absolute_value(-3) == 3       \n",
    "    assert absolute_value(5)  == 5       \n",
    "    assert absolute_value(0)  == 0    \n",
    "```"
   ]
  },
  {
   "cell_type": "markdown",
   "metadata": {},
   "source": [
    "## How to run tests"
   ]
  },
  {
   "cell_type": "markdown",
   "metadata": {},
   "source": [
    "Call `py.test` in the folder containing your project. The tools will look for anything that looks like a test (e.g. `test_*()` functions in `test_*.py` files) in your project (also subdirectories)."
   ]
  },
  {
   "cell_type": "markdown",
   "metadata": {},
   "source": [
    "# Exercise\n",
    "\n",
    "1) Save the following code as `math_tools.py`\n",
    "\n",
    "```python\n",
    "# math_tools.py \n",
    "def is_even(x):\n",
    "    if x%2==0:\n",
    "        return False\n",
    "    else:\n",
    "        return True\n",
    "```\n",
    "\n",
    "2) Create a `test_math_tools.py` file that tests this functions."
   ]
  },
  {
   "cell_type": "code",
   "execution_count": null,
   "metadata": {},
   "outputs": [],
   "source": [
    "!py.test test_math_tools.py"
   ]
  },
  {
   "cell_type": "markdown",
   "metadata": {},
   "source": [
    "## Utilities to express expected behavior"
   ]
  },
  {
   "cell_type": "markdown",
   "metadata": {},
   "source": [
    "While `assert` and comparisons operators like `==`, `>` etc. should be able to express most expected behaviors, there are a few utilities that can greatly simplify tests, for instance:\n",
    "\n",
    "\n",
    "* `pytest.approx` to compare floating point numbers:\n",
    "\n",
    "    Instead of \n",
    "    ```python\n",
    "    abs((0.1 + 0.2) - 0.3) < 1e-8  # Note that floating point arithmetic does not need to be exact\n",
    "    ```\n",
    "\n",
    "    you can use: \n",
    "    ```python\n",
    "    0.1 + 0.2 == pytest.approx(0.3)  \n",
    "    ```\n",
    "\n",
    "* `pytest.raises` to test that a Excelption is raised\n",
    "* `pytest.mark.xfail` to mark a test as expected to fail"
   ]
  },
  {
   "cell_type": "markdown",
   "metadata": {},
   "source": [
    "### Parametrising tests"
   ]
  },
  {
   "cell_type": "markdown",
   "metadata": {},
   "source": [
    "If you have many different cases to cover, it is more elegant to use a paramerised test rather than many assert statements:\n",
    "\n",
    "```python\n",
    "@pytest.mark.parametrize(\"x, expected_value\", [(-100,100) (-1,1), (0,0), (0.5,0.5) (1,1)])\n",
    "\n",
    "\n",
    "def test_absolute_func(x, expected_value):            \n",
    "    assert absolute_value(x) == expected_value\n",
    "```    "
   ]
  },
  {
   "cell_type": "markdown",
   "metadata": {},
   "source": [
    "## On the importance of good names for tests:"
   ]
  },
  {
   "cell_type": "markdown",
   "metadata": {},
   "source": [
    "## Good testing practices\n",
    "\n",
    "* Add new test while you develop new features.\n",
    "* Make each test an unique stand alone example.\n",
    "* Making tests resource undemanding.\n",
    "* Run test suite before each commit-push.\n",
    "* Make test function names descriptive.\n",
    "* Quick way to learn other peoples code is through test suits."
   ]
  },
  {
   "cell_type": "markdown",
   "metadata": {
    "slideshow": {
     "slide_type": "slide"
    }
   },
   "source": [
    "## Summary\n",
    "\n",
    "- basic Python syntax, execution\n",
    "- types: `int, float, str, list, tuple, dict, set`\n",
    "- control: `if, elif, else, while, for`\n",
    "- functions: `def`"
   ]
  },
  {
   "cell_type": "markdown",
   "metadata": {},
   "source": [
    "# A glimpse into classes"
   ]
  },
  {
   "cell_type": "markdown",
   "metadata": {},
   "source": [
    "Let's have a brief look how classes work in Python."
   ]
  },
  {
   "cell_type": "markdown",
   "metadata": {},
   "source": [
    "## Classes in Python\n",
    "\n",
    "In Python, everything is an **object**, every object has a **class**."
   ]
  },
  {
   "cell_type": "code",
   "execution_count": null,
   "metadata": {},
   "outputs": [],
   "source": [
    "i = 1\n",
    "print(i.__class__)\n",
    "s = \"hello\"\n",
    "print(s.__class__)"
   ]
  },
  {
   "cell_type": "markdown",
   "metadata": {},
   "source": [
    "A class collects attributes and functions together. Here is an example of a class definition for a car:"
   ]
  },
  {
   "cell_type": "code",
   "execution_count": null,
   "metadata": {},
   "outputs": [],
   "source": [
    "class Car:\n",
    "    \"\"\" A class representing a car \"\"\"\n",
    "    \n",
    "    def __init__(self, year, fuel=\"electric\"):\n",
    "        self.year = year\n",
    "        self.fuel = fuel\n",
    "        self.speed = 0\n",
    "    \n",
    "    def start(self):\n",
    "        if self.fuel == \"electric\":\n",
    "            print(\"sssss\")\n",
    "        else:\n",
    "            print(\"Wohmmm\")\n",
    "            \n",
    "    def accelerate(self, new_speed):\n",
    "        self.speed = new_speed\n",
    "        "
   ]
  },
  {
   "cell_type": "markdown",
   "metadata": {},
   "source": [
    "This class contains three methods: \n",
    "  1. The `__init__` method is the **constructor** function which is called when a new class object is instantiated. \n",
    "  2. The `start` method is a user-defined function.\n",
    "  3. The `accelerate` method is also a user-defined function.\n",
    "\n",
    "\n",
    "**Note**: All instance methods take a **self** variable as first argument. This variable represents the car object itself.\n",
    "We can use the self variable to access information about the object."
   ]
  },
  {
   "cell_type": "markdown",
   "metadata": {},
   "source": [
    "## Using our Python class\n",
    "\n",
    "We can create a new instance of the class:"
   ]
  },
  {
   "cell_type": "code",
   "execution_count": null,
   "metadata": {},
   "outputs": [],
   "source": [
    "mycar = Car(year=2007, fuel=\"Bensin\")\n",
    "print(mycar)"
   ]
  },
  {
   "cell_type": "markdown",
   "metadata": {},
   "source": [
    "Instantiating the class calls the `__init__` constructor and returns a new **object**, an instance of our **class**:"
   ]
  },
  {
   "cell_type": "markdown",
   "metadata": {},
   "source": [
    "We can call the user-defined methods on our object:"
   ]
  },
  {
   "cell_type": "code",
   "execution_count": null,
   "metadata": {},
   "outputs": [],
   "source": [
    "mycar.start()\n",
    "mycar.accelerate(new_speed=100)"
   ]
  },
  {
   "cell_type": "markdown",
   "metadata": {},
   "source": [
    "**Note**: When calling instace methods, the `self` argument in the declaration is not included."
   ]
  },
  {
   "cell_type": "markdown",
   "metadata": {},
   "source": [
    "We can also access the member attributes of the object:"
   ]
  },
  {
   "cell_type": "code",
   "execution_count": null,
   "metadata": {},
   "outputs": [],
   "source": [
    "print(mycar.year)\n",
    "print(mycar.fuel)\n",
    "print(mycar.speed)"
   ]
  },
  {
   "cell_type": "markdown",
   "metadata": {},
   "source": [
    "## Magic class methods\n",
    "* Python classes can implement some magic methods.\n",
    "* If implemented, Python calls these magic methods on certain operations. \n",
    "* Here are some operations defined by magic methods:\n",
    "```python\n",
    "str(a)            # calls a.__str__(), called also with print(a)!\n",
    "len(a)            # calls a.__len__()\n",
    "c = a*b           # calls c = a.__mul__(b)\n",
    "a = a+b           # calls a = a.__add__(b)\n",
    "a += c            # calls a.__iadd__(c)\n",
    "d = a[3]          # calls d = a.__getitem__(3)\n",
    "a[3] = 0          # calls a.__setitem__(3, 0)\n",
    "f = a(1.2, True)  # calls f = a.__call__(1.2, True)\n",
    "if a:             # calls if a.__len__()> 0: or if a.__nonzero__():\n",
    "a == b            # calls a.__eq__(self, b)\n",
    "```\n",
    "\n",
    "A complete list is available here: [Python reference - Data model](https://docs.python.org/3/reference/datamodel.html)"
   ]
  },
  {
   "cell_type": "markdown",
   "metadata": {},
   "source": [
    "## Example"
   ]
  },
  {
   "cell_type": "markdown",
   "metadata": {},
   "source": [
    "Currently, when we try to print our Car object the output is not very informative:"
   ]
  },
  {
   "cell_type": "code",
   "execution_count": null,
   "metadata": {},
   "outputs": [],
   "source": [
    "print(mycar)"
   ]
  },
  {
   "cell_type": "markdown",
   "metadata": {},
   "source": [
    "Let's extend our car class with the magic `__str__` method:"
   ]
  },
  {
   "cell_type": "code",
   "execution_count": null,
   "metadata": {},
   "outputs": [],
   "source": [
    "class Car:\n",
    "    \"\"\" A class representing a car \"\"\"\n",
    "    \n",
    "    def __init__(self, year, fuel=\"electric\"):\n",
    "        self.year = year\n",
    "        self.fuel = fuel\n",
    "        self.speed = 0\n",
    "    \n",
    "    def __str__(self):\n",
    "        return(f\"This is a car from {self.year} driving on {self.fuel} at speed {self.speed}\")"
   ]
  },
  {
   "cell_type": "markdown",
   "metadata": {},
   "source": [
    "This magic `__str__` method is now called when we convert the car object to a string:"
   ]
  },
  {
   "cell_type": "code",
   "execution_count": null,
   "metadata": {},
   "outputs": [],
   "source": [
    "mycar = Car(2007, \"bensin\")\n",
    "str(mycar)"
   ]
  },
  {
   "cell_type": "markdown",
   "metadata": {},
   "source": [
    "## Subclasses\n",
    "\n",
    "**Remember**: A class collects attributes and functions that belong together. \n",
    "\n",
    "Subclasses can be used to specialize and extend existing classes.\n",
    "\n",
    "**Technical notes on sublclasses:**\n",
    "* Python supports single and multiple inheritance\n",
    "* Python has a similar class concept as in Java and C++, but:\n",
    "  * All functions are virtual\n",
    "  * No private/protected variables (the effect can be \"simulated\")\n",
    "  * This makes class programming easier and faster than in C++ and Java:"
   ]
  },
  {
   "cell_type": "code",
   "execution_count": null,
   "metadata": {},
   "outputs": [],
   "source": [
    "class Car:\n",
    "    \"\"\" A class representing a car \"\"\"\n",
    "    \n",
    "    def __init__(self, color):\n",
    "        self.color = color\n",
    "        self.sound = \"Brooom\"\n",
    "    \n",
    "    def start(self):\n",
    "        print(self.sound)"
   ]
  },
  {
   "cell_type": "markdown",
   "metadata": {},
   "source": [
    "## Implementing a subclass\n",
    "\n",
    "Subclasses can be used to **inherit** the member functions/attributes from its Base class.\n",
    "\n",
    "It is usefull to create **specialisation** of a class without code duplication.\n",
    "\n",
    "Let's create a subclass `ElectricCar` that inherits the properties from the `Car` class:"
   ]
  },
  {
   "cell_type": "code",
   "execution_count": null,
   "metadata": {},
   "outputs": [],
   "source": [
    "class ElectricCar(Car):\n",
    "    def __init__(self, color):\n",
    "        super().__init__(color) # Calls the parent constructor\n",
    "                                      # self.color and self.sound are now class members\n",
    "        self.sound = \"Sssss\"          # Change the sound\n",
    "        \n",
    "    def stop(self):               # Add a new method to ElectricCars\n",
    "        print(\"Engine stopped\")   "
   ]
  },
  {
   "cell_type": "markdown",
   "metadata": {},
   "source": [
    "If a subclass method is not implemented, Python will try to call the function of the parent class:"
   ]
  },
  {
   "cell_type": "code",
   "execution_count": null,
   "metadata": {},
   "outputs": [],
   "source": [
    "ecar = ElectricCar(\"white\")\n",
    "ecar.start()          \n",
    "ecar.stop()"
   ]
  },
  {
   "cell_type": "markdown",
   "metadata": {},
   "source": [
    "# Extending default types\n",
    "\n",
    "Everything is an object! Everything has a class!"
   ]
  },
  {
   "cell_type": "markdown",
   "metadata": {},
   "source": [
    "Let's try counting occurrences of strings in a sequence and storing them in a dict:"
   ]
  },
  {
   "cell_type": "code",
   "execution_count": null,
   "metadata": {},
   "outputs": [],
   "source": [
    "counts = dict()\n",
    "for word in ['a', 'b', 'c', 'a', 'b']:\n",
    "    if word not in counts:\n",
    "        # we have to check every time if we've seen this before!\n",
    "        counts[word] = 0\n",
    "    counts[word] += 1\n",
    "counts"
   ]
  },
  {
   "cell_type": "markdown",
   "metadata": {},
   "source": [
    "We can define a custom subclass of `dict` that overrides `__getitem__` so that it returns a default value when a key hasn't been seen before"
   ]
  },
  {
   "cell_type": "code",
   "execution_count": null,
   "metadata": {},
   "outputs": [],
   "source": [
    "class DefaultDict(dict):\n",
    "    \"\"\"A dictionary that returns a value for undefined keys\"\"\"\n",
    "    \n",
    "    def __init__(self, default_item):\n",
    "        self.default_item = default_item\n",
    "    \n",
    "    def __getitem__(self, key):\n",
    "        if key not in self:\n",
    "            self[key] = self.default_item\n",
    "        return super().__getitem__(key)\n"
   ]
  },
  {
   "cell_type": "code",
   "execution_count": null,
   "metadata": {},
   "outputs": [],
   "source": [
    "counts = DefaultDict(default_item=0)\n",
    "for word in ['a', 'b', 'c', 'a', 'b']:\n",
    "    counts[word] += 1\n",
    "counts"
   ]
  },
  {
   "cell_type": "markdown",
   "metadata": {},
   "source": [
    "counts' class is our DefaultDict,\n",
    "but because it's a subclass, `isinstance` returns True\n",
    "for any parent class of the checked object:"
   ]
  },
  {
   "cell_type": "code",
   "execution_count": null,
   "metadata": {},
   "outputs": [],
   "source": [
    "print(counts.__class__)\n",
    "print(isinstance(counts, dict))"
   ]
  },
  {
   "cell_type": "markdown",
   "metadata": {},
   "source": [
    "# Essentials to better Python\n",
    "\n",
    "**Overview**\n",
    " * Packages and error-handling examples\n",
    " * List comprehensions\n",
    " * Decorators"
   ]
  },
  {
   "cell_type": "markdown",
   "metadata": {},
   "source": [
    "# Error handling\n",
    "How to raise an Exception. Let's look at an example from the array class, here defined as a function for representation. \n",
    "```python\n",
    "def array(shape, *values):\n",
    "    \"\"\"Error example from the array class\"\"\"\n",
    "    arr = []    \n",
    "    n = len(values)        \n",
    "    for val in values:\n",
    "        arr.append(val)\n",
    "    return arr\n",
    "\n",
    "A = array((1,6),2,3,4,5,6)\n",
    "print(A)\n",
    "```\n",
    "\n"
   ]
  },
  {
   "cell_type": "markdown",
   "metadata": {},
   "source": [
    "# List comprehensions\n",
    "\n",
    "List comprehensions provide a compact and readible way to create lists. \n",
    "\n",
    "\n",
    "**Syntax**:\n",
    "\n",
    "Create a list without list comprehension:\n",
    "\n",
    "```python\n",
    "from math import sin\n",
    "old_list = [0.1, 0.3, -0.4, 0.2]\n",
    "def filter(x):\n",
    "    if x > 0:\n",
    "        return True\n",
    "    else:\n",
    "        return False\n",
    "    \n",
    "new_list = []\n",
    "for x in old_list:\n",
    "    if filter(x):\n",
    "        new_list.append(sin(x))\n",
    "```        \n",
    "the same task with list comprehension\n",
    "\n",
    "```python\n",
    "new_list = [sin(x) for x in old_list if filter(x)]\n",
    "```"
   ]
  },
  {
   "cell_type": "markdown",
   "metadata": {},
   "source": [
    "### Example 1: List of even numbers\n",
    "\n",
    "**Task**: Create a list of even numbers.\n",
    "\n",
    "**Solution** without list comprehension:"
   ]
  },
  {
   "cell_type": "code",
   "execution_count": null,
   "metadata": {},
   "outputs": [],
   "source": [
    "def is_even(i):\n",
    "    return i%2==0\n",
    "\n",
    "even_numbers = []\n",
    "for i in range(20):\n",
    "    if is_even(i):\n",
    "        even_numbers.append(i)\n",
    "print(even_numbers)"
   ]
  },
  {
   "cell_type": "markdown",
   "metadata": {},
   "source": [
    "**Solution** with list comprehension:"
   ]
  },
  {
   "cell_type": "code",
   "execution_count": null,
   "metadata": {},
   "outputs": [],
   "source": [
    "even_numbers = [i for i in range(20) if i%2==0]\n",
    "even_numbers"
   ]
  },
  {
   "cell_type": "markdown",
   "metadata": {},
   "source": [
    "### Example 2: Remove sensitive information from log data\n",
    "\n",
    "**Task**: Remove all strings in a logfile that contain passwords\n",
    "\n",
    "**Solution** without list comprehension:"
   ]
  },
  {
   "cell_type": "code",
   "execution_count": null,
   "metadata": {},
   "outputs": [],
   "source": [
    "fp = open(\"log.txt\", \"r\")\n",
    "\n",
    "log = []\n",
    "for line in fp:\n",
    "    if \"password\" not in line:\n",
    "        log.append(line.strip())\n",
    "fp.close() \n",
    "\n",
    "log"
   ]
  },
  {
   "cell_type": "markdown",
   "metadata": {},
   "source": [
    "**Solution** with list comprehension:"
   ]
  },
  {
   "cell_type": "code",
   "execution_count": null,
   "metadata": {},
   "outputs": [],
   "source": [
    "with open('log.txt', \"r\") as fp:\n",
    "    log = [line.strip() for line in fp if \"password\" not in line]\n",
    "    \n",
    "log    "
   ]
  },
  {
   "cell_type": "markdown",
   "metadata": {},
   "source": [
    "## Functions as arguments"
   ]
  },
  {
   "cell_type": "markdown",
   "metadata": {},
   "source": [
    "Like all objects, functions can be arguments to functions"
   ]
  },
  {
   "cell_type": "code",
   "execution_count": null,
   "metadata": {},
   "outputs": [],
   "source": [
    "def add(x,y):\n",
    "    return x+y\n",
    "\n",
    "def sub(x, y):\n",
    "    return x-y\n",
    "\n",
    "def apply(func, x, y):\n",
    "    return func(x, y)"
   ]
  },
  {
   "cell_type": "code",
   "execution_count": null,
   "metadata": {},
   "outputs": [],
   "source": [
    "apply(add, 1, 2)"
   ]
  },
  {
   "cell_type": "code",
   "execution_count": null,
   "metadata": {},
   "outputs": [],
   "source": [
    "apply(sub, 7, 5)"
   ]
  },
  {
   "cell_type": "markdown",
   "metadata": {},
   "source": [
    "## Functions inside functions"
   ]
  },
  {
   "cell_type": "markdown",
   "metadata": {},
   "source": [
    "Python allows nested function definitions:"
   ]
  },
  {
   "cell_type": "code",
   "execution_count": null,
   "metadata": {},
   "outputs": [],
   "source": [
    "def g(x, y):\n",
    "    \n",
    "    def cube(x):\n",
    "        return x*x*x\n",
    "    \n",
    "    return y*cube(x)\n",
    "\n",
    "g(4, 6) "
   ]
  },
  {
   "cell_type": "markdown",
   "metadata": {},
   "source": [
    "## Function returning functions"
   ]
  },
  {
   "cell_type": "code",
   "execution_count": null,
   "metadata": {},
   "outputs": [],
   "source": [
    "def h():\n",
    "    pi = 0.13\n",
    "    def inner_h():\n",
    "        print(\"Inside inner_h but can access pi={}\".format(pi))\n",
    "        \n",
    "    return inner_h\n",
    "\n",
    "foo = h()\n",
    "foo"
   ]
  },
  {
   "cell_type": "code",
   "execution_count": null,
   "metadata": {},
   "outputs": [],
   "source": [
    "foo()"
   ]
  },
  {
   "cell_type": "markdown",
   "metadata": {},
   "source": [
    "## More functions returning functions: *decorators*"
   ]
  },
  {
   "cell_type": "markdown",
   "metadata": {},
   "source": [
    "A toy example"
   ]
  },
  {
   "cell_type": "code",
   "execution_count": null,
   "metadata": {},
   "outputs": [],
   "source": [
    "def foo():\n",
    "    return 1\n",
    "\n",
    "def outer(func):\n",
    "    def inner():\n",
    "        print(\"before calling function\")\n",
    "        return func() + 100\n",
    "    return inner\n",
    "\n",
    "decorated = outer(foo)"
   ]
  },
  {
   "cell_type": "markdown",
   "metadata": {},
   "source": [
    "The function `decorated` is a decorated version of function `foo`.\n",
    "It is `foo` plus something more:"
   ]
  },
  {
   "cell_type": "code",
   "execution_count": null,
   "metadata": {},
   "outputs": [],
   "source": [
    "decorated()"
   ]
  },
  {
   "cell_type": "markdown",
   "metadata": {},
   "source": [
    "To simplify, we could just write\n",
    "```python \n",
    "foo = outer(foo)\n",
    "```\n",
    "to replace foo with its decorated version each time it is called"
   ]
  },
  {
   "cell_type": "markdown",
   "metadata": {},
   "source": [
    "## A (slightly) more useful decorator"
   ]
  },
  {
   "cell_type": "markdown",
   "metadata": {},
   "source": [
    "Suppose we have been given a function that only works for some numerical inputs:"
   ]
  },
  {
   "cell_type": "code",
   "execution_count": null,
   "metadata": {},
   "outputs": [],
   "source": [
    "from math import log\n",
    "def f(x):\n",
    "    return log(x) - 2  # Not defined for x<=0"
   ]
  },
  {
   "cell_type": "code",
   "execution_count": null,
   "metadata": {},
   "outputs": [],
   "source": [
    "f(5)"
   ]
  },
  {
   "cell_type": "code",
   "execution_count": null,
   "metadata": {},
   "outputs": [],
   "source": [
    "f(-1)"
   ]
  },
  {
   "cell_type": "markdown",
   "metadata": {},
   "source": [
    "Suppose we want to limit the range of values sent to this function:"
   ]
  },
  {
   "cell_type": "markdown",
   "metadata": {},
   "source": [
    "The idea is that we **wrap** the function inside another function:"
   ]
  },
  {
   "cell_type": "markdown",
   "metadata": {},
   "source": [
    "## Interactive programming (15 minutes)"
   ]
  },
  {
   "cell_type": "markdown",
   "metadata": {},
   "source": [
    "1) Implement the normal function f(x) in a python script\n",
    "\n",
    "2) Create a decorator-function checkrange that calls f, but prints a custom message to the user if x <= 0. Hint: The decorator function chekcrange should return a function, and not a function call. \n",
    "\n",
    "3) Optional: Perform a test using a test function (with assert) checking that your function works as intended"
   ]
  },
  {
   "cell_type": "code",
   "execution_count": null,
   "metadata": {},
   "outputs": [],
   "source": [
    "from math import log\n",
    "\n",
    "def checkrange(func):\n",
    "    \"\"\"Provides a safe version of f. Avoids math domain error.\"\"\"\n",
    "    #def inner\n",
    "        #...\n",
    "        # return ...\n",
    "    #return inner\n",
    "\n",
    "def f(x):\n",
    "    return log(x) - 2  # Not defined for x<=0"
   ]
  },
  {
   "cell_type": "code",
   "execution_count": null,
   "metadata": {},
   "outputs": [],
   "source": [
    "def checkrange(func):\n",
    "    def inner(x):\n",
    "        if x <= 0:\n",
    "            print(\"Error: x must be larger than zero\")\n",
    "        else:\n",
    "            return func(x)\n",
    "    return inner"
   ]
  },
  {
   "cell_type": "code",
   "execution_count": null,
   "metadata": {},
   "outputs": [],
   "source": [
    "f_safe = checkrange(f)\n",
    "f_safe(5)"
   ]
  },
  {
   "cell_type": "code",
   "execution_count": null,
   "metadata": {},
   "outputs": [],
   "source": [
    "f_safe(-1)"
   ]
  },
  {
   "cell_type": "markdown",
   "metadata": {},
   "source": [
    "Voilà!!"
   ]
  },
  {
   "cell_type": "markdown",
   "metadata": {},
   "source": [
    "## The `@decorator` syntax"
   ]
  },
  {
   "cell_type": "markdown",
   "metadata": {},
   "source": [
    "Python provides a short notation for decorating a function with\n",
    "another function:"
   ]
  },
  {
   "cell_type": "code",
   "execution_count": null,
   "metadata": {},
   "outputs": [],
   "source": [
    "@checkrange\n",
    "def g(x):\n",
    "    return log(x) - 2"
   ]
  },
  {
   "cell_type": "code",
   "execution_count": null,
   "metadata": {},
   "outputs": [],
   "source": [
    "g(0)"
   ]
  },
  {
   "cell_type": "markdown",
   "metadata": {},
   "source": [
    "This is essentially the same as writing `g = checkrange(g)`."
   ]
  },
  {
   "cell_type": "markdown",
   "metadata": {},
   "source": [
    "A decorator is simply a function taking a function as input\n",
    "and returning another function. \n",
    "\n",
    "The syntax `@decorator` is a\n",
    "short-cut for the more explicit `f = decorator(f)`."
   ]
  },
  {
   "cell_type": "markdown",
   "metadata": {},
   "source": [
    "## A (much) more useful decorator: memoization"
   ]
  },
  {
   "cell_type": "markdown",
   "metadata": {},
   "source": [
    "The first time we learned multiplication, our strategy might to add cumulatively: e.g. 3x3 = 3 + 3 + 3 = 6 + 3 = 9"
   ]
  },
  {
   "cell_type": "code",
   "execution_count": null,
   "metadata": {},
   "outputs": [],
   "source": [
    "from time import sleep\n",
    "\n",
    "def slow_mult(x,y):\n",
    "    res = 0\n",
    "    for i in range(y):\n",
    "        print(\"Thinking...\")\n",
    "        sleep(1)\n",
    "        res += x\n",
    "    return res\n",
    "\n",
    "print(slow_mult(3,3))\n",
    "print(slow_mult(3,3))"
   ]
  },
  {
   "cell_type": "markdown",
   "metadata": {},
   "source": [
    "We call the function with the same input arguments, and hence perform the same (slow) calculations multiple times."
   ]
  },
  {
   "cell_type": "markdown",
   "metadata": {},
   "source": [
    "The idea of memoization (or buffering) is to buffer the input-output pairs for which the function was called.\n",
    "If the function is called twice with same input arguments, we return the buffer value."
   ]
  },
  {
   "cell_type": "markdown",
   "metadata": {},
   "source": [
    "The implementation of a memoization with a `decorator` could look like:"
   ]
  },
  {
   "cell_type": "code",
   "execution_count": null,
   "metadata": {},
   "outputs": [],
   "source": [
    "\n",
    "def memoize(func):\n",
    "    ''' Caches a function's return value each time it is called.\n",
    "        If called later with the same arguments, the cached value is returned\n",
    "        (not reevaluated). '''\n",
    "    cache = {}  # Stores all input-output pairs\n",
    "\n",
    "    def inner(x, y):\n",
    "        if (x, y) in cache:\n",
    "            return cache[(x, y)]\n",
    "        else:\n",
    "            result = func(x, y)\n",
    "            cache[(x, y)] = result\n",
    "            return result\n",
    "        \n",
    "    return inner"
   ]
  },
  {
   "cell_type": "markdown",
   "metadata": {},
   "source": [
    "Now we can apply the decorator to our slow function. Demo:"
   ]
  },
  {
   "cell_type": "code",
   "execution_count": null,
   "metadata": {},
   "outputs": [],
   "source": [
    "@memoize\n",
    "def slow_mult(x, y):\n",
    "    print(\"Thinking...\")\n",
    "    sleep(1)     # Simulate a long computation\n",
    "    return x*y\n",
    "\n",
    "@memoize\n",
    "def slow_add(x, y):\n",
    "    print(\"Thinking...\")\n",
    "    sleep(1)     # Simulate a long computation\n",
    "    return x+y"
   ]
  },
  {
   "cell_type": "markdown",
   "metadata": {},
   "source": [
    "... and test it out"
   ]
  },
  {
   "cell_type": "code",
   "execution_count": null,
   "metadata": {},
   "outputs": [],
   "source": [
    "slow_mult(3, 6)"
   ]
  },
  {
   "cell_type": "markdown",
   "metadata": {},
   "source": [
    "## Decorator summary "
   ]
  },
  {
   "cell_type": "markdown",
   "metadata": {},
   "source": [
    "* A function that takes a function as argument and returns a modified function\n",
    "* `@decorator` syntax simply a short cut for the standard function call `f = decorator(f)`."
   ]
  },
  {
   "cell_type": "markdown",
   "metadata": {},
   "source": [
    "## PEP8: How to write more Pythonic code\n",
    "\n",
    "Clear and consistent style is critical for writing \"good code\".\n",
    "\n",
    "* Python comes with an extensive programming style guidline: **PEP8**.\n",
    "* It consists of a list of do's and dont's for writing Python.\n",
    "* Get familiar with the conventions once, and you will automatically start using them.\n",
    "* I will give you some examples below"
   ]
  },
  {
   "cell_type": "markdown",
   "metadata": {},
   "source": [
    "### Guide to Pythonic code: Bindary operations\n",
    "\n",
    "* Add whitespaces around bindary mathematical operations:\n",
    "\n",
    "```python\n",
    "# Do:\n",
    "x = x + 1\n",
    "\n",
    "# Don't:\n",
    "x=x+1\n",
    "```\n"
   ]
  },
  {
   "cell_type": "markdown",
   "metadata": {},
   "source": [
    "### Guide to Pythonic code: Naming conventions \n",
    "\n",
    "\n",
    "* For **variables**:\n",
    "\n",
    "```python\n",
    "# Do\n",
    "shopping_list = [\"Bananas\", \"Apples\"]\n",
    "gravity_acceleration = 9.81\n",
    "# Don't\n",
    "ListOfStudents = [\"Bananas\", \"Apples\"]\n",
    "GRAVITYACCELERATION = 9.91  \n",
    "```\n",
    "\n",
    "* For **functions**:\n",
    "    \n",
    "```python\n",
    "def order_items(image):\n",
    "    pass\n",
    "```\n",
    "\n",
    "* For **classes**:\n",
    "\n",
    "```python\n",
    "# Do:\n",
    "class ElectricCar:\n",
    "    pass\n",
    "\n",
    "# Don't:\n",
    "class electriccar:\n",
    "    pass\n",
    "```\n"
   ]
  },
  {
   "cell_type": "markdown",
   "metadata": {},
   "source": [
    "### Guide to Pythonic code: Indentations and spacing\n",
    "\n",
    "\n",
    "* Aways use **four** white spaces when indenting (set your editor accordingly):\n",
    "\n",
    "```python\n",
    "# Do\n",
    "def order_items(image):\n",
    "    pass  # Four whitespaces\n",
    "\n",
    "\n",
    "# Don't \n",
    "def order_items(image):\n",
    "  pass    # Not four whitespaces\n",
    "```\n",
    "\n",
    "* Break long lines \"nicely\":\n",
    "\n",
    "```python\n",
    "# Do:\n",
    "shopping_list = {\"Apple\": 2, \"Banana\": 10, \"Chocolate\": 1,\n",
    "                 \"Toothpaste\": 1, \"Shampoo\": 2}\n",
    "\n",
    "# Don't: second line is under-indented\n",
    "shopping_list = {\"Apple\": 2, \"Banana\": 10, \"Chocolate\": 1, \"Toothpaste\": 1, \"Shampoo\": 2}\n",
    "```"
   ]
  },
  {
   "cell_type": "markdown",
   "metadata": {},
   "source": [
    "### Guide to Pythonic code: flake8\n",
    "\n",
    "You can use the flake8 command to verify that your code follows the PEP convention.\n",
    "\n",
    "**Demo** on shopping.py"
   ]
  }
 ],
 "metadata": {
  "celltoolbar": "Slideshow",
  "kernelspec": {
   "display_name": "Python 3 (ipykernel)",
   "language": "python",
   "name": "python3"
  },
  "language_info": {
   "codemirror_mode": {
    "name": "ipython",
    "version": 3
   },
   "file_extension": ".py",
   "mimetype": "text/x-python",
   "name": "python",
   "nbconvert_exporter": "python",
   "pygments_lexer": "ipython3",
   "version": "3.11.4"
  },
  "rise": {
   "scroll": true,
   "start_slideshow_at": "selected",
   "theme": "serif",
   "transition": "none"
  }
 },
 "nbformat": 4,
 "nbformat_minor": 4
}
