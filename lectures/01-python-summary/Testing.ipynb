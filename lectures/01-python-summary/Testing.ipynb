{
 "cells": [
  {
   "cell_type": "markdown",
   "metadata": {
    "slideshow": {
     "slide_type": "slide"
    }
   },
   "source": [
    "# Testing"
   ]
  },
  {
   "cell_type": "markdown",
   "metadata": {
    "slideshow": {
     "slide_type": "fragment"
    }
   },
   "source": [
    "You will make mistakes when programming! Everyone does. The trick is in spotting the mistakes early and efficiently (after release/publication is normally undesirable).\n",
    "\n",
    "Best tool available: Tests"
   ]
  },
  {
   "cell_type": "markdown",
   "metadata": {
    "slideshow": {
     "slide_type": "subslide"
    }
   },
   "source": [
    "## Why should we test?\n",
    "\n",
    "* To check correctness of software.\n",
    "* To ensure that future changes do not break functionality.\n",
    "* To check if the software runs succesfully in a different environment (newer Python version, upgraded libraries, different operating system)"
   ]
  },
  {
   "cell_type": "markdown",
   "metadata": {
    "slideshow": {
     "slide_type": "subslide"
    }
   },
   "source": [
    "## How to write unit tests"
   ]
  },
  {
   "cell_type": "markdown",
   "metadata": {},
   "source": [
    " 1. Identify a *unit* in your program that should have a well defined behavior given a certain input. A unit can be a:\n",
    "   - function\n",
    "   - module\n",
    "   - entire program\n",
    " 1. Write a test function that calls this input and checks that the output/behavior is as expected\n",
    " 1. The more the better! Preferably on several levels (function/module/program)."
   ]
  },
  {
   "cell_type": "markdown",
   "metadata": {
    "slideshow": {
     "slide_type": "subslide"
    }
   },
   "source": [
    "## How to write unit tests in Python"
   ]
  },
  {
   "cell_type": "markdown",
   "metadata": {},
   "source": [
    "Use a test framework like [py.test](http://docs.pytest.org/en/latest/). Several other frameworks exist as well."
   ]
  },
  {
   "cell_type": "markdown",
   "metadata": {},
   "source": [
    "```bash\n",
    "$ pip install pytest\n",
    "```"
   ]
  },
  {
   "cell_type": "markdown",
   "metadata": {
    "slideshow": {
     "slide_type": "fragment"
    }
   },
   "source": [
    "Make a file `test_<unit_or_module name>.py`, preferably in a folder called `tests`."
   ]
  },
  {
   "cell_type": "markdown",
   "metadata": {
    "slideshow": {
     "slide_type": "fragment"
    }
   },
   "source": [
    "Import the code to be tested."
   ]
  },
  {
   "cell_type": "markdown",
   "metadata": {
    "slideshow": {
     "slide_type": "fragment"
    }
   },
   "source": [
    "Add a function `def test_<test_name>():`, and have it check for the correct behavior given a certain input"
   ]
  },
  {
   "cell_type": "markdown",
   "metadata": {
    "slideshow": {
     "slide_type": "subslide"
    }
   },
   "source": [
    "## Example"
   ]
  },
  {
   "cell_type": "markdown",
   "metadata": {
    "slideshow": {
     "slide_type": "-"
    }
   },
   "source": [
    "Say you have a function `absolute_value` in a file that needs testing:\n",
    "```python\n",
    "# math_tools.py \n",
    "def absolute_value(x):\n",
    "    if x < 0:\n",
    "        return x\n",
    "    else:\n",
    "        return -x\n",
    "```        "
   ]
  },
  {
   "cell_type": "markdown",
   "metadata": {
    "slideshow": {
     "slide_type": "subslide"
    }
   },
   "source": [
    "Create a associated test file `test_math_tools.py`:"
   ]
  },
  {
   "cell_type": "markdown",
   "metadata": {
    "collapsed": true,
    "slideshow": {
     "slide_type": "-"
    }
   },
   "source": [
    "```python\n",
    "# test_math_tools.py\n",
    "\n",
    "# Import the function to be tested\n",
    "from math_tools import absolute_value    \n",
    "\n",
    "# py.test will automatically run functions starting with test_ \n",
    "def test_verify_absolute_func():         \n",
    "    # Add some tests here...\n",
    "    assert absolute_value(-3) == 3       \n",
    "    assert absolute_value(5)  == 5       \n",
    "    assert absolute_value(0)  == 0    \n",
    "```"
   ]
  },
  {
   "cell_type": "markdown",
   "metadata": {
    "slideshow": {
     "slide_type": "subslide"
    }
   },
   "source": [
    "## How to run tests"
   ]
  },
  {
   "cell_type": "markdown",
   "metadata": {},
   "source": [
    "Call `py.test` in the folder containing your project. The tools will look for anything that looks like a test (e.g. `test_*()` functions in `test_*.py` files) in your project (also subdirectories)."
   ]
  },
  {
   "cell_type": "markdown",
   "metadata": {},
   "source": [
    "# Exercise\n",
    "\n",
    "1) Save the following code as `math_tools.py`\n",
    "\n",
    "```python\n",
    "# math_tools.py \n",
    "def is_even(x):\n",
    "    if x%2==0:\n",
    "        return False\n",
    "    else:\n",
    "        return True\n",
    "```\n",
    "\n",
    "2) Create a `test_math_tools.py` file that tests this functions."
   ]
  },
  {
   "cell_type": "code",
   "execution_count": 5,
   "metadata": {},
   "outputs": [
    {
     "name": "stdout",
     "output_type": "stream",
     "text": [
      "\u001b[1m============================= test session starts ==============================\u001b[0m\r\n",
      "platform linux -- Python 3.9.7, pytest-7.1.2, pluggy-1.0.0\r\n",
      "rootdir: /home/vegard/GRA4157/lectures/01-python-summary\r\n",
      "plugins: anyio-3.6.1\r\n",
      "\u001b[1mcollecting ... \u001b[0m\u001b[1m\r",
      "collected 5 items                                                              \u001b[0m\r\n",
      "\r\n",
      "test_math_tools.py \u001b[32m.\u001b[0m\u001b[32m.\u001b[0m\u001b[32m.\u001b[0m\u001b[32m.\u001b[0m\u001b[32m.\u001b[0m\u001b[32m                                                 [100%]\u001b[0m\r\n",
      "\r\n",
      "\u001b[32m============================== \u001b[32m\u001b[1m5 passed\u001b[0m\u001b[32m in 0.01s\u001b[0m\u001b[32m ===============================\u001b[0m\r\n"
     ]
    }
   ],
   "source": [
    "!py.test test_math_tools.py"
   ]
  },
  {
   "cell_type": "markdown",
   "metadata": {
    "slideshow": {
     "slide_type": "subslide"
    }
   },
   "source": [
    "## Utilities to express expected behavior"
   ]
  },
  {
   "cell_type": "markdown",
   "metadata": {},
   "source": [
    "While `assert` and comparisons operators like `==`, `>` etc. should be able to express most expected behaviors, there are a few utilities that can greatly simplify tests, for instance:\n",
    "\n",
    "\n",
    "* `pytest.approx` to compare floating point numbers:\n",
    "\n",
    "    Instead of \n",
    "    ```python\n",
    "    abs((0.1 + 0.2) - 0.3) < 1e-8  # Note that floating point arithmetic does not need to be exact\n",
    "    ```\n",
    "\n",
    "    you can use: \n",
    "    ```python\n",
    "    0.1 + 0.2 == pytest.approx(0.3)  \n",
    "    ```\n",
    "\n",
    "* `pytest.raises` to test that a Excelption is raised\n",
    "* `pytest.mark.xfail` to mark a test as expected to fail"
   ]
  },
  {
   "cell_type": "markdown",
   "metadata": {
    "slideshow": {
     "slide_type": "subslide"
    }
   },
   "source": [
    "### Parametrising tests"
   ]
  },
  {
   "cell_type": "markdown",
   "metadata": {},
   "source": [
    "If you have many different cases to cover, it is more elegant to use a paramerised test rather than many assert statements:\n",
    "\n",
    "```python\n",
    "@pytest.mark.parametrize(\"x, expected_value\", [(-100,100) (-1,1), (0,0), (0.5,0.5) (1,1)])\n",
    "\n",
    "\n",
    "def test_absolute_func(x, expected_value):            \n",
    "    assert absolute_value(x) == expected_value\n",
    "```    "
   ]
  },
  {
   "cell_type": "markdown",
   "metadata": {
    "slideshow": {
     "slide_type": "subslide"
    }
   },
   "source": [
    "## On the importance of good names for tests:"
   ]
  },
  {
   "cell_type": "markdown",
   "metadata": {
    "slideshow": {
     "slide_type": "subslide"
    }
   },
   "source": [
    "## Good testing practices\n",
    "\n",
    "* Add new test while you develop new features.\n",
    "* Make each test an unique stand alone example.\n",
    "* Making tests resource undemanding.\n",
    "* Run test suite before each commit-push.\n",
    "* Make test function names descriptive.\n",
    "* Quick way to learn other peoples code is through test suits."
   ]
  }
 ],
 "metadata": {
  "celltoolbar": "Slideshow",
  "kernelspec": {
   "display_name": "Python 3 (ipykernel)",
   "language": "python",
   "name": "python3"
  },
  "language_info": {
   "codemirror_mode": {
    "name": "ipython",
    "version": 3
   },
   "file_extension": ".py",
   "mimetype": "text/x-python",
   "name": "python",
   "nbconvert_exporter": "python",
   "pygments_lexer": "ipython3",
   "version": "3.9.7"
  },
  "livereveal": {
   "scroll": true,
   "start_slideshow_at": "selected",
   "theme": "serif"
  }
 },
 "nbformat": 4,
 "nbformat_minor": 1
}
