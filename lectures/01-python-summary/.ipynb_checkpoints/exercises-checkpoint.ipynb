{
 "cells": [
  {
   "cell_type": "markdown",
   "metadata": {},
   "source": [
    "## Exercise\n",
    "\n",
    "starting from either a variable or a command-line,\n",
    "print whether a number is odd or even.\n",
    "\n",
    "Modify `hw.py`.\n",
    "\n",
    "**Bonus:** accept any number of arguments\n",
    "\n",
    "\n",
    "For example:\n",
    "\n",
    "```bash\n",
    "$ python3 hw.py 5\n",
    "5 is odd!\n",
    "$ python3 hw.py 123456\n",
    "123456 is even!\n",
    "```\n",
    "\n",
    "**Bonus:** show both quotient and remainder when given two integers\n",
    "\n",
    "```bash\n",
    "$ python3 hw.py 5 3\n",
    "7 / 3 = 2 remainder 1\n",
    "```"
   ]
  },
  {
   "cell_type": "code",
   "execution_count": 4,
   "metadata": {},
   "outputs": [
    {
     "name": "stdout",
     "output_type": "stream",
     "text": [
      "Could not assess value\n"
     ]
    }
   ],
   "source": [
    "# solution (if we assume int is provided)\n",
    "import sys\n",
    "number = int(sys.argv[1])\n",
    "def is_even(x):\n",
    "    if x%2==0:\n",
    "        return 1\n",
    "    elif x%2==1:\n",
    "        return 0\n",
    "    \n",
    "if is_even(number):\n",
    "    print('even')\n",
    "else:\n",
    "    print('odd')"
   ]
  },
  {
   "cell_type": "code",
   "execution_count": 8,
   "metadata": {},
   "outputs": [
    {
     "name": "stdout",
     "output_type": "stream",
     "text": [
      "Python 3.9.7\r\n"
     ]
    }
   ],
   "source": [
    "!python3 name_of_program.py"
   ]
  },
  {
   "cell_type": "markdown",
   "metadata": {},
   "source": [
    "# Exercise\n",
    "\n",
    "Given a list, return all of the even items.\n",
    "\n",
    "For example, given `[1, 2, 3, 4]` return `[2, 4]`."
   ]
  },
  {
   "cell_type": "code",
   "execution_count": null,
   "metadata": {},
   "outputs": [],
   "source": [
    "def get_even(input_list):\n",
    "    \"\"\"Return even items found in a list\"\"\"\n",
    "    even_items = []\n",
    "    ...\n",
    "    #can use is_even in previous exercise:\n",
    "    # for x in input_list:\n",
    "        # if is_even(x):\n",
    "            # even_items.append(x)\n",
    "    return even_items\n",
    "\n",
    "get_even([1, 2, 3, 4])"
   ]
  },
  {
   "cell_type": "markdown",
   "metadata": {},
   "source": [
    "# Exercise\n",
    "\n",
    "Given a list, return a dictionary of the counts of even and odd items\n",
    "\n",
    "For example, given `[0, 1, 2, 3, 4]` return {\"even\": 2, \"odd\": 3}."
   ]
  },
  {
   "cell_type": "code",
   "execution_count": 5,
   "metadata": {},
   "outputs": [],
   "source": [
    "def get_even_counts(input_list):\n",
    "    \"\"\"Return dict of\"\"\"\n",
    "    counts = {}\n",
    "    ...\n",
    "    # counts = {\"even\":0, \"odd\":0}\n",
    "    # for x in input_list:\n",
    "        # if is_even(x):\n",
    "            # counts[\"even\"] += 1\n",
    "        # else:\n",
    "            # counts[\"odd\"] += 1\n",
    "    return counts"
   ]
  },
  {
   "cell_type": "markdown",
   "metadata": {},
   "source": [
    "# Exercise\n",
    "\n",
    "1. list all the files in a directory (hint: use glob or os)\n",
    "2. in alphabetical order (bonus: case-insensitive!)\n",
    "3. at the end, show counts by file extension"
   ]
  },
  {
   "cell_type": "code",
   "execution_count": 17,
   "metadata": {},
   "outputs": [
    {
     "name": "stdout",
     "output_type": "stream",
     "text": [
      "['mandlebrot.py', '01-python-summary.ipynb', 'read_cmd_args.py', 'exercises.ipynb', 'figs', '01-python-summary-classes.ipynb', 'test_function.py', 'test_mandlebrot.py', 'Testing.ipynb', 'test_math_tools.py', 'Essentials for better Python programming.ipynb', '__pycache__']\n",
      "['01-python-summary-classes.ipynb', '01-python-summary.ipynb', 'Essentials for better Python programming.ipynb', 'Testing.ipynb', '__pycache__', 'exercises.ipynb', 'figs', 'mandlebrot.py', 'read_cmd_args.py', 'test_function.py', 'test_mandlebrot.py', 'test_math_tools.py']\n",
      "{'ipynb': 5, 'py': 5}\n"
     ]
    }
   ],
   "source": [
    "paths = ...\n",
    "sorted_paths = ...\n",
    "extension_counts = {}\n",
    "\n",
    "#for path in sorted_paths:\n",
    "    #...\n",
    "\n",
    "    \n",
    "import glob\n",
    "print(glob.glob('*'))\n",
    "print(sorted(glob.glob('*')))\n",
    "extensions = {}\n",
    "for filename in sorted(glob.glob('*')):\n",
    "    extension = filename.split('.')[-1]\n",
    "    if extension in extensions:\n",
    "        extensions[extension] += 1\n",
    "    else:\n",
    "        if len(filename.split('.')) > 1: # skip folders and files without extension\n",
    "            extensions[extension] = 1\n",
    "        \n",
    "print(extensions)"
   ]
  },
  {
   "cell_type": "markdown",
   "metadata": {},
   "source": [
    "# Exercise\n",
    "\n",
    "Write a function that takes a time string in \"hh:mm:ss\" (e.g. \"02:44:25\") and returns the number of seconds after time 00:00:00 as an integer. \n",
    "\n",
    "Write a test to make sure the function works correctly for some simple test cases (e.g. 01:00:00, 01:00:10, 01:01:01, 24:00:00). "
   ]
  },
  {
   "cell_type": "code",
   "execution_count": 19,
   "metadata": {},
   "outputs": [
    {
     "name": "stdout",
     "output_type": "stream",
     "text": [
      "9865\n"
     ]
    }
   ],
   "source": [
    "input_string = \"02:44:25\"\n",
    "def time_to_seconds(time):\n",
    "    info = time.split(':')\n",
    "    h = int(info[0])*3600\n",
    "    m = int(info[1])*60\n",
    "    s = int(info[2])\n",
    "    return h+m+s\n",
    "print(time_to_seconds(input_string))"
   ]
  },
  {
   "cell_type": "markdown",
   "metadata": {},
   "source": [
    "# Exercise\n",
    "Write a function that sorts a list consisting of numbers without using any built-in or external sorting functions.\n",
    "\n",
    "Comment: This is more comprehensive. Search for e.g. \"bubble sort\" to understand a simple sorting algorithm. "
   ]
  },
  {
   "cell_type": "code",
   "execution_count": null,
   "metadata": {},
   "outputs": [],
   "source": []
  }
 ],
 "metadata": {
  "kernelspec": {
   "display_name": "Python 3 (ipykernel)",
   "language": "python",
   "name": "python3"
  },
  "language_info": {
   "codemirror_mode": {
    "name": "ipython",
    "version": 3
   },
   "file_extension": ".py",
   "mimetype": "text/x-python",
   "name": "python",
   "nbconvert_exporter": "python",
   "pygments_lexer": "ipython3",
   "version": "3.9.7"
  }
 },
 "nbformat": 4,
 "nbformat_minor": 4
}
