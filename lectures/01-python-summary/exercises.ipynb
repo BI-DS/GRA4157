{
 "cells": [
  {
   "cell_type": "markdown",
   "metadata": {},
   "source": [
    "## Exercise\n",
    "\n",
    "starting from either a variable or a command-line,\n",
    "print whether a number is odd or even.\n",
    "\n",
    "Modify `hw.py`.\n",
    "\n",
    "**Bonus:** accept any number of arguments\n",
    "\n",
    "\n",
    "For example:\n",
    "\n",
    "```bash\n",
    "$ python3 hw.py 5\n",
    "5 is odd!\n",
    "$ python3 hw.py 123456\n",
    "123456 is even!\n",
    "```\n",
    "\n",
    "**Bonus:** show both quotient and remainder when given two integers\n",
    "\n",
    "```bash\n",
    "$ python3 hw.py 5 3\n",
    "7 / 3 = 2 remainder 1\n",
    "```"
   ]
  },
  {
   "cell_type": "code",
   "execution_count": null,
   "metadata": {},
   "outputs": [],
   "source": [
    "import sys\n",
    "...\n",
    "\n",
    "\n",
    "\n"
   ]
  },
  {
   "cell_type": "markdown",
   "metadata": {},
   "source": [
    "# Exercise\n",
    "\n",
    "Given a list, return all of the even items.\n",
    "\n",
    "For example, given `[1, 2, 3, 4]` return `[2, 4]`."
   ]
  },
  {
   "cell_type": "code",
   "execution_count": null,
   "metadata": {},
   "outputs": [],
   "source": [
    "def get_even(input_list):\n",
    "    \"\"\"Return even items found in a list\"\"\"\n",
    "    even_items = []\n",
    "    ...\n",
    "    return even_items\n",
    "\n",
    "get_even([1, 2, 3, 4])"
   ]
  },
  {
   "cell_type": "markdown",
   "metadata": {},
   "source": [
    "# Exercise\n",
    "\n",
    "Given a list, return a dictionary of the counts of even and odd items\n",
    "\n",
    "For example, given `[0, 1, 2, 3, 4]` return {\"even\": 2, \"odd\": 3}."
   ]
  },
  {
   "cell_type": "code",
   "execution_count": null,
   "metadata": {},
   "outputs": [],
   "source": [
    "def get_even_counts(input_list):\n",
    "    \"\"\"Return dict of\"\"\"\n",
    "    counts = {}\n",
    "    ...\n",
    "    return counts"
   ]
  },
  {
   "cell_type": "markdown",
   "metadata": {},
   "source": [
    "# Exercise\n",
    "\n",
    "1. list all the files in a directory (hint: use glob or os)\n",
    "2. in alphabetical order (bonus: case-insensitive!)\n",
    "3. at the end, show counts by file extension"
   ]
  },
  {
   "cell_type": "code",
   "execution_count": 1,
   "metadata": {},
   "outputs": [
    {
     "ename": "TypeError",
     "evalue": "'ellipsis' object is not iterable",
     "output_type": "error",
     "traceback": [
      "\u001b[0;31m---------------------------------------------------------------------------\u001b[0m",
      "\u001b[0;31mTypeError\u001b[0m                                 Traceback (most recent call last)",
      "Input \u001b[0;32mIn [1]\u001b[0m, in \u001b[0;36m<cell line: 5>\u001b[0;34m()\u001b[0m\n\u001b[1;32m      2\u001b[0m sorted_paths \u001b[38;5;241m=\u001b[39m \u001b[38;5;241m.\u001b[39m\u001b[38;5;241m.\u001b[39m\u001b[38;5;241m.\u001b[39m\n\u001b[1;32m      3\u001b[0m extension_counts \u001b[38;5;241m=\u001b[39m {}\n\u001b[0;32m----> 5\u001b[0m \u001b[38;5;28;01mfor\u001b[39;00m path \u001b[38;5;129;01min\u001b[39;00m sorted_paths:\n\u001b[1;32m      6\u001b[0m     \u001b[38;5;241m.\u001b[39m\u001b[38;5;241m.\u001b[39m\u001b[38;5;241m.\u001b[39m\n",
      "\u001b[0;31mTypeError\u001b[0m: 'ellipsis' object is not iterable"
     ]
    }
   ],
   "source": [
    "paths = ...\n",
    "sorted_paths = ...\n",
    "extension_counts = {}\n",
    "\n",
    "for path in sorted_paths:\n",
    "    ...\n"
   ]
  },
  {
   "cell_type": "markdown",
   "metadata": {},
   "source": [
    "# Exercise\n",
    "Write a function that sorts a list consisting of numbers without using any built-in or external sorting functions. "
   ]
  },
  {
   "cell_type": "code",
   "execution_count": null,
   "metadata": {},
   "outputs": [],
   "source": []
  }
 ],
 "metadata": {
  "kernelspec": {
   "display_name": "Python 3 (ipykernel)",
   "language": "python",
   "name": "python3"
  },
  "language_info": {
   "codemirror_mode": {
    "name": "ipython",
    "version": 3
   },
   "file_extension": ".py",
   "mimetype": "text/x-python",
   "name": "python",
   "nbconvert_exporter": "python",
   "pygments_lexer": "ipython3",
   "version": "3.9.7"
  }
 },
 "nbformat": 4,
 "nbformat_minor": 4
}
