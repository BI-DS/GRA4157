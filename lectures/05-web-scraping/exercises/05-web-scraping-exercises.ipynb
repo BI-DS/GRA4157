{
 "cells": [
  {
   "cell_type": "markdown",
   "metadata": {},
   "source": [
    "## Exercise 1: Scrape NASDAQ Top Gainers\n",
    "Steps:\n",
    "1. **Initial Scrape:** Scrape the NASDAQ Top Gainers Table (https://www.nasdaq.com/market-activity/stocks/screener?exchange=nasdaq&status=top-gainers).\n",
    "2. **Data Cleanup:** Keep only the 'Symbol', 'Company', and 'Price' columns.\n",
    "3. **Analysis:** Find the company with the highest stock price."
   ]
  },
  {
   "cell_type": "code",
   "execution_count": null,
   "metadata": {},
   "outputs": [],
   "source": []
  },
  {
   "cell_type": "markdown",
   "metadata": {},
   "source": [
    "## Exercise 2: Scrape IMDb's Top 250 Movies\n",
    "Steps:\n",
    "1. **Initial Scrape:** Scrape IMDb's list of top 250 movies (https://www.imdb.com/chart/top).\n",
    "2. **Data Cleanup:** Keep only relevant columns such as 'Rank', 'Movie Title', and 'Year'.\n",
    "3. **Analysis:** Find the decade with the most top-rated movies."
   ]
  },
  {
   "cell_type": "code",
   "execution_count": null,
   "metadata": {},
   "outputs": [],
   "source": []
  },
  {
   "cell_type": "markdown",
   "metadata": {},
   "source": [
    "## Exercise 3: Scrape Wikipedia's List of Best-selling Music Artists\n",
    "Steps:\n",
    "1. **Initial Scrape:** Scrape Wikipedia's table of best-selling music artists (https://en.wikipedia.org/wiki/List_of_best-selling_music_artists).\n",
    "2. **Data Cleanup:** Retain only 'Artist', 'Country/Market', and 'Certified Sales'.\n",
    "3. **Analysis:** Find the artist with the highest certified sales."
   ]
  },
  {
   "cell_type": "code",
   "execution_count": null,
   "metadata": {},
   "outputs": [],
   "source": []
  },
  {
   "cell_type": "markdown",
   "metadata": {},
   "source": [
    "## Exercise 4: Scrape CoinMarketCap's Top 10 Cryptocurrencies\n",
    "Steps:\n",
    "1. **Initial Scrape:** Scrape CoinMarketCap's table of top cryptocurrencies (https://coinmarketcap.com/).\n",
    "2. **Data Cleanup:** Retain only 'Name', 'Symbol', and 'Market Cap'.\n",
    "3. **Analysis:** Identify the cryptocurrency with the highest market cap.\n"
   ]
  },
  {
   "cell_type": "code",
   "execution_count": null,
   "metadata": {},
   "outputs": [],
   "source": []
  }
 ],
 "metadata": {
  "language_info": {
   "name": "python"
  },
  "orig_nbformat": 4
 },
 "nbformat": 4,
 "nbformat_minor": 2
}
