{
 "cells": [
  {
   "cell_type": "markdown",
   "id": "2eac881d",
   "metadata": {
    "slideshow": {
     "slide_type": "slide"
    }
   },
   "source": [
    "# Web Scraiping\n",
    "## Lecutre 05 - 22/09/2023"
   ]
  },
  {
   "cell_type": "markdown",
   "id": "952baebd",
   "metadata": {
    "slideshow": {
     "slide_type": "slide"
    }
   },
   "source": [
    "# What is web scraping?\n",
    "\n",
    "We have previously been working with datasets using files or accessing public APIs orgnaized by companies or organizations. Web scraping is a technique used to **scrape** the web for whatever data you need.\n",
    "\n",
    "This could be done manually or automatically using Python :)"
   ]
  },
  {
   "cell_type": "markdown",
   "id": "41539e43",
   "metadata": {
    "slideshow": {
     "slide_type": "slide"
    }
   },
   "source": [
    "# What are the advantages?\n",
    "\n",
    "* No rate limits\n",
    "* Fully in control of what data you collect\n",
    "* Anonymous\n",
    "* Many websites do not expose a public api!"
   ]
  },
  {
   "cell_type": "markdown",
   "id": "0513014a",
   "metadata": {
    "slideshow": {
     "slide_type": "slide"
    }
   },
   "source": [
    "# But how?\n",
    "\n",
    "Python has several libraries that can be used to scrape the web, some of there include:\n",
    "* Scrapy\n",
    "* **BeautifulSoup**\n",
    "* Selenium\n",
    "* **Pandas**\n",
    "\n",
    "Just to name a few...\n",
    "\n",
    "These libraries allow you to process or browse the web programatically. Requires some understanding about how the web works."
   ]
  },
  {
   "cell_type": "markdown",
   "id": "55a77950",
   "metadata": {
    "slideshow": {
     "slide_type": "slide"
    }
   },
   "source": [
    "# HyperText Markup Language\n",
    "\n",
    "HyperText Markup Language (HTML), is the standard markup language used to create web pages. \n",
    "\n",
    "* Used as markup language for basically every website on the internet.\n",
    "* Developed by the World Wide Web Consortium (W3C).\n",
    "* Current version: HTML5 is supported by most modern internet browsers.\n",
    "\n"
   ]
  },
  {
   "cell_type": "markdown",
   "id": "7db16ace",
   "metadata": {
    "slideshow": {
     "slide_type": "slide"
    }
   },
   "source": [
    "## Resources\n",
    "\n",
    "* Lot's of offline and online material available\n",
    "* For example the Mozilla Developer Network https://developer.mozilla.org\n",
    "* W3Schools has had a bad reputation but has improved over the years (https://www.w3schools.com/)\n",
    "* Historical reference: https://www.w3fools.com/\n",
    "    "
   ]
  },
  {
   "cell_type": "markdown",
   "id": "859d8b60",
   "metadata": {
    "slideshow": {
     "slide_type": "slide"
    }
   },
   "source": [
    "## A simple HTML document\n",
    "The Hello world version of an HTML document is:"
   ]
  },
  {
   "cell_type": "markdown",
   "id": "4ee1bfac",
   "metadata": {},
   "source": [
    "```html\n",
    "<!DOCTYPE html>\n",
    "<html>\n",
    "\n",
    "  <!-- The head tag contains header information about the HTML document. -->\n",
    "  <head>\n",
    "    <title>A title for the browser window</title> \n",
    "  </head>\n",
    "  \n",
    "  <!-- The body tag contains the content of the HTML document. -->\n",
    "  <body>\n",
    "    <p>Hello world!</p>\n",
    "  </body>\n",
    "  \n",
    "</html>\n",
    "```"
   ]
  },
  {
   "cell_type": "markdown",
   "id": "d6ca9283",
   "metadata": {},
   "source": [
    "Save this file as `index.html` and open it with your favorite web browser, e.g. `firefox index.html`\n"
   ]
  },
  {
   "cell_type": "markdown",
   "id": "4022f054",
   "metadata": {
    "slideshow": {
     "slide_type": "slide"
    }
   },
   "source": [
    "\n",
    "## Syntax\n",
    "\n",
    "* The HTML file consists of tags, denoted by `<tagname>`\n",
    "* Most HTML elements are marked by a tag pair (start tag and end tag): `<tagname>content</tagname>`\n",
    "* Some HTML elements have no content (and hence no end tag): `<img>` or `<br>`\n",
    "* A tag can have attributes, for example: `<tagname atttribute1=\"value1\" attribute2=\"value2\">`"
   ]
  },
  {
   "cell_type": "markdown",
   "id": "7a9629f7",
   "metadata": {
    "slideshow": {
     "slide_type": "slide"
    }
   },
   "source": [
    "<img src=\"https://codewithfaraz.com/img/a%20comprehensive%20list%20of%20html%20tags%20for%20web%20development.png\" />"
   ]
  },
  {
   "cell_type": "markdown",
   "id": "1f5b452a",
   "metadata": {
    "slideshow": {
     "slide_type": "slide"
    }
   },
   "source": [
    "## Comments\n",
    "Comments are enclosed the `<!-- This is a comment -->` tag:"
   ]
  },
  {
   "cell_type": "markdown",
   "id": "92ba36a0",
   "metadata": {},
   "source": [
    "```html\n",
    "<!-- This is a multiline comment. \n",
    "It will not be rendered. -->\n",
    "```"
   ]
  },
  {
   "cell_type": "markdown",
   "id": "d411dae3",
   "metadata": {
    "slideshow": {
     "slide_type": "slide"
    }
   },
   "source": [
    "-------------------------------\n",
    "## Formatting"
   ]
  },
  {
   "cell_type": "markdown",
   "id": "e9e48fd1",
   "metadata": {},
   "source": [
    "### Headings"
   ]
  },
  {
   "cell_type": "code",
   "execution_count": 7,
   "id": "bffb0e08",
   "metadata": {},
   "outputs": [
    {
     "data": {
      "text/html": [
       "\n",
       "<h1>I am a header</h1>\n",
       "<h2>I am a sub-header</h2>\n"
      ],
      "text/plain": [
       "<IPython.core.display.HTML object>"
      ]
     },
     "metadata": {},
     "output_type": "display_data"
    }
   ],
   "source": [
    "%%html\n",
    "\n",
    "<h1>I am a header</h1>\n",
    "<h2>I am a sub-header</h2>"
   ]
  },
  {
   "cell_type": "markdown",
   "id": "204f2332",
   "metadata": {
    "slideshow": {
     "slide_type": "slide"
    }
   },
   "source": [
    "## New lines\n",
    "The HTML code for a newline is `<br>`:"
   ]
  },
  {
   "cell_type": "code",
   "execution_count": 8,
   "id": "90419f37",
   "metadata": {},
   "outputs": [
    {
     "data": {
      "text/html": [
       "Hello world<br>New lines   \n",
       "\n",
       "and spaces        do not matter. Use the br tag instead\n"
      ],
      "text/plain": [
       "<IPython.core.display.HTML object>"
      ]
     },
     "metadata": {},
     "output_type": "display_data"
    }
   ],
   "source": [
    "%%html\n",
    "Hello world<br>New lines   \n",
    "\n",
    "and spaces        do not matter. Use the br tag instead"
   ]
  },
  {
   "cell_type": "markdown",
   "id": "b4b00e92",
   "metadata": {},
   "source": [
    "## Div\n",
    "The `<div>` tag in HTML is a container element used for grouping together and applying styles or JavaScript functionalities to a set of elements. \n",
    "\n",
    "## Span\n",
    "Similar to the `<div>` tag but more for text.\n"
   ]
  },
  {
   "cell_type": "code",
   "execution_count": 3,
   "id": "3fe1267c",
   "metadata": {},
   "outputs": [
    {
     "data": {
      "text/html": [
       "\n",
       "<div>\n",
       "    <h1>This is a header</h1>\n",
       "    <br />\n",
       "    <span>This is some text</span>\n",
       "</div>\n"
      ],
      "text/plain": [
       "<IPython.core.display.HTML object>"
      ]
     },
     "metadata": {},
     "output_type": "display_data"
    }
   ],
   "source": [
    "%%html\n",
    "\n",
    "<div>\n",
    "    <h1>This is a header</h1>\n",
    "    <br />\n",
    "    <span>This is some text</span>\n",
    "</div>"
   ]
  },
  {
   "cell_type": "markdown",
   "id": "9d1d3f0a",
   "metadata": {
    "slideshow": {
     "slide_type": "slide"
    }
   },
   "source": [
    "## Special characters"
   ]
  },
  {
   "cell_type": "markdown",
   "id": "3316505a",
   "metadata": {},
   "source": [
    "HTML uses special codes to encode special characters, for example for mathematical, technical and currency symbols.\n",
    "Full list: http://www.w3schools.com/html/html_symbols.asp"
   ]
  },
  {
   "cell_type": "markdown",
   "id": "6b5678ae",
   "metadata": {},
   "source": [
    "Examples:\n",
    "\n",
    "\n",
    "| Symbol        | HTML entity   |\n",
    "| ------------- |:-------------:|\n",
    "| Å             | `&Aring;`     |\n",
    "| å             | `&aring;`     |\n",
    "| Ø             | `&Oslash;`    |\n",
    "| ø             | `&oslash;`    |\n",
    "| Æ             | `&Aelig;`     |\n",
    "| æ             | `&aelig;`     |\n",
    "| '             | `&#34;`       |\n",
    "| \"             | `&quot;`      |\n",
    "| &amp;         | `&amp;`       |"
   ]
  },
  {
   "cell_type": "code",
   "execution_count": 3,
   "id": "5a02f924",
   "metadata": {
    "slideshow": {
     "slide_type": "subslide"
    }
   },
   "outputs": [
    {
     "data": {
      "text/html": [
       "<p>\n",
       "&Aring;s, S&oslash;r-Tr&oslash;ndelag\n",
       "</p>\n"
      ],
      "text/plain": [
       "<IPython.core.display.HTML object>"
      ]
     },
     "metadata": {},
     "output_type": "display_data"
    }
   ],
   "source": [
    "%%html\n",
    "<p>\n",
    "&Aring;s, S&oslash;r-Tr&oslash;ndelag\n",
    "</p>"
   ]
  },
  {
   "cell_type": "markdown",
   "id": "1264d79f",
   "metadata": {
    "slideshow": {
     "slide_type": "slide"
    }
   },
   "source": [
    "## Special characters alternative:\n",
    "\n",
    "Save your file with UTF-8 encoding (check your editor), and add the character encoding to your HTML document:\n",
    "\n",
    "```html\n",
    "<head>\n",
    "  <meta charset=\"UTF-8\">\n",
    "</head>\n",
    "```\n",
    "Then you can write (almost all) special character directly in the document."
   ]
  },
  {
   "cell_type": "markdown",
   "id": "81a1332d",
   "metadata": {
    "slideshow": {
     "slide_type": "slide"
    }
   },
   "source": [
    "# Paragraphs"
   ]
  },
  {
   "cell_type": "code",
   "execution_count": 4,
   "id": "fc8378ad",
   "metadata": {},
   "outputs": [
    {
     "data": {
      "text/html": [
       "<p>\n",
       "This is a paragraph.\n",
       "</p>\n",
       "<p>\n",
       "This is another paragraph.\n",
       "</p>\n"
      ],
      "text/plain": [
       "<IPython.core.display.HTML object>"
      ]
     },
     "metadata": {},
     "output_type": "display_data"
    }
   ],
   "source": [
    "%%html\n",
    "<p>\n",
    "This is a paragraph.\n",
    "</p>\n",
    "<p>\n",
    "This is another paragraph.\n",
    "</p>"
   ]
  },
  {
   "cell_type": "markdown",
   "id": "e9c1a788",
   "metadata": {
    "slideshow": {
     "slide_type": "slide"
    }
   },
   "source": [
    "## Italic text, bold text and links"
   ]
  },
  {
   "cell_type": "code",
   "execution_count": 5,
   "id": "36ae1369",
   "metadata": {},
   "outputs": [
    {
     "data": {
      "text/html": [
       "<b>Bold text</b>\n",
       "\n",
       "<br>\n",
       "<i>Italic text</i>\n",
       "\n",
       "<br>\n",
       "<em>Emphasized text</em>\n",
       "\n",
       "<br>\n",
       "<a href=\"http://github.com\">This is a link</a>\n"
      ],
      "text/plain": [
       "<IPython.core.display.HTML object>"
      ]
     },
     "metadata": {},
     "output_type": "display_data"
    }
   ],
   "source": [
    "%%html\n",
    "<b>Bold text</b>\n",
    "\n",
    "<br>\n",
    "<i>Italic text</i>\n",
    "\n",
    "<br>\n",
    "<em>Emphasized text</em>\n",
    "\n",
    "<br>\n",
    "<a href=\"http://github.com\">This is a link</a>"
   ]
  },
  {
   "cell_type": "markdown",
   "id": "d4ff4bfc",
   "metadata": {
    "slideshow": {
     "slide_type": "slide"
    }
   },
   "source": [
    "-------------------------------\n",
    "## Tables"
   ]
  },
  {
   "cell_type": "code",
   "execution_count": 3,
   "id": "97857e31",
   "metadata": {},
   "outputs": [
    {
     "data": {
      "text/html": [
       "<table>\n",
       " <tr>\n",
       "    <th>Name</th>\n",
       "    <th>Course</th> \n",
       "    <th>Points</th>\n",
       "  </tr>\n",
       "  <tr>\n",
       "    <td>John</td>\n",
       "    <td>GRA4157</td> \n",
       "    <td>50</td>\n",
       "  </tr>\n",
       "  <tr>\n",
       "    <td>George</td>\n",
       "    <td>GRA4157</td> \n",
       "    <td>94</td>\n",
       "  </tr>\n",
       "</table>\n"
      ],
      "text/plain": [
       "<IPython.core.display.HTML object>"
      ]
     },
     "metadata": {},
     "output_type": "display_data"
    }
   ],
   "source": [
    "%%html\n",
    "<table>\n",
    " <tr>\n",
    "    <th>Name</th>\n",
    "    <th>Course</th> \n",
    "    <th>Points</th>\n",
    "  </tr>\n",
    "  <tr>\n",
    "    <td>John</td>\n",
    "    <td>GRA4157</td> \n",
    "    <td>50</td>\n",
    "  </tr>\n",
    "  <tr>\n",
    "    <td>George</td>\n",
    "    <td>GRA4157</td> \n",
    "    <td>94</td>\n",
    "  </tr>\n",
    "</table>"
   ]
  },
  {
   "cell_type": "markdown",
   "id": "c712b8e6",
   "metadata": {},
   "source": [
    "## Links"
   ]
  },
  {
   "cell_type": "code",
   "execution_count": 6,
   "id": "1e94b28b",
   "metadata": {},
   "outputs": [
    {
     "data": {
      "text/html": [
       "\n",
       "<a href=\"https://www.bi.no\" target=\"_blank\">Link to BI<a/>\n"
      ],
      "text/plain": [
       "<IPython.core.display.HTML object>"
      ]
     },
     "metadata": {},
     "output_type": "display_data"
    }
   ],
   "source": [
    "%%html\n",
    "\n",
    "<a href=\"https://www.bi.no\" target=\"_blank\">Link to BI<a/>"
   ]
  },
  {
   "cell_type": "markdown",
   "id": "bb03f069",
   "metadata": {
    "slideshow": {
     "slide_type": "slide"
    }
   },
   "source": [
    "## Images"
   ]
  },
  {
   "cell_type": "code",
   "execution_count": 2,
   "id": "9385d98d",
   "metadata": {},
   "outputs": [
    {
     "data": {
      "text/html": [
       "<img src=\"figs/Rhinoceros.png\" alt=\"D&uuml;rer's Rhinoceros\">D&uuml;rer's Rhinoceros\n"
      ],
      "text/plain": [
       "<IPython.core.display.HTML object>"
      ]
     },
     "metadata": {},
     "output_type": "display_data"
    }
   ],
   "source": [
    "%%html\n",
    "<img src=\"figs/Rhinoceros.png\" alt=\"D&uuml;rer's Rhinoceros\">D&uuml;rer's Rhinoceros"
   ]
  },
  {
   "cell_type": "markdown",
   "id": "7f71fea3",
   "metadata": {
    "slideshow": {
     "slide_type": "slide"
    }
   },
   "source": [
    "## Styling"
   ]
  },
  {
   "cell_type": "markdown",
   "id": "660acea2",
   "metadata": {},
   "source": [
    "Every HTML document has a default style (background color white, text color black). The default style can be changed with the *style attribute*.\n",
    "\n",
    "```html\n",
    "<tagname style=\"property:value;\">\n",
    "```\n",
    "\n",
    "Multiple properties can be set with:\n",
    "```html\n",
    "<tagname style=\"property1:value; property2:value\">\n",
    "```\n",
    "\n",
    "Some Valid property options:\n",
    "* `width`\n",
    "* `height`\n",
    "* `color`\n",
    "* `background-color`\n",
    "* `font-family`\n",
    "* `font-size`\n",
    "* `text-align`\n"
   ]
  },
  {
   "cell_type": "markdown",
   "id": "b98fae35",
   "metadata": {
    "slideshow": {
     "slide_type": "slide"
    }
   },
   "source": [
    "### Examples"
   ]
  },
  {
   "cell_type": "code",
   "execution_count": 3,
   "id": "f16dc916",
   "metadata": {},
   "outputs": [
    {
     "data": {
      "text/html": [
       "<img src=\"figs/Rhinoceros.png\" alt=\"D&uuml;rer&#39;s Rhinoceros\" style=\"width:100px;\">D&uuml;rer&#39;s Rhinoceros\n"
      ],
      "text/plain": [
       "<IPython.core.display.HTML object>"
      ]
     },
     "metadata": {},
     "output_type": "display_data"
    }
   ],
   "source": [
    "%%html\n",
    "<img src=\"figs/Rhinoceros.png\" alt=\"D&uuml;rer&#39;s Rhinoceros\" style=\"width:100px;\">D&uuml;rer&#39;s Rhinoceros"
   ]
  },
  {
   "cell_type": "code",
   "execution_count": 6,
   "id": "52931a4d",
   "metadata": {},
   "outputs": [
    {
     "data": {
      "text/html": [
       "<p style=\"color:blue; background-color:rgb(255,0,255);\">\n",
       "Some colorful text.\n",
       "</p>\n"
      ],
      "text/plain": [
       "<IPython.core.display.HTML object>"
      ]
     },
     "metadata": {},
     "output_type": "display_data"
    }
   ],
   "source": [
    "%%html\n",
    "<p style=\"color:blue; background-color:rgb(255,0,255);\">\n",
    "Some colorful text.\n",
    "</p>"
   ]
  },
  {
   "cell_type": "markdown",
   "id": "485fbd04",
   "metadata": {
    "slideshow": {
     "slide_type": "slide"
    }
   },
   "source": [
    "# Processing HTML using Python\n",
    "HTML is a simple document adhereing to a specific set of standards. As mentioned before, several libraries allow us to process these documents, among which, BeautifulSoup is probably the most popular."
   ]
  },
  {
   "cell_type": "markdown",
   "id": "f606d1e5",
   "metadata": {
    "slideshow": {
     "slide_type": "slide"
    }
   },
   "source": [
    "# Installation\n",
    "\n",
    "With conda, you can install the required dependencies with:\n",
    "\n",
    "```bash\n",
    "conda install bs4 requests lxml\n",
    "```\n"
   ]
  },
  {
   "cell_type": "markdown",
   "id": "71665e62",
   "metadata": {
    "slideshow": {
     "slide_type": "slide"
    }
   },
   "source": [
    "# Basic usage of BeautifulSoup"
   ]
  },
  {
   "cell_type": "markdown",
   "id": "7b89ff97",
   "metadata": {},
   "source": [
    "First, we import the `BeatifulSoup` class:"
   ]
  },
  {
   "cell_type": "code",
   "execution_count": 8,
   "id": "e1d9cca0",
   "metadata": {},
   "outputs": [],
   "source": [
    "from bs4 import BeautifulSoup"
   ]
  },
  {
   "cell_type": "markdown",
   "id": "787ee924",
   "metadata": {},
   "source": [
    "We load the html source file from disk and pass the source the the BeautifulSoup constructor. We choose the \"lxml\" parser for XML documents, which is faster than the defaul parser that comes with BeautifulSoup:"
   ]
  },
  {
   "cell_type": "code",
   "execution_count": 13,
   "id": "93466a2a",
   "metadata": {},
   "outputs": [
    {
     "name": "stdout",
     "output_type": "stream",
     "text": [
      "<!DOCTYPE html>\n",
      "<html>\n",
      "<body>\n",
      "<h2>An Unordered HTML List</h2>\n",
      "<ul id=\"unordered_list\" style=\"color:#069\">\n",
      "<li>Coffee</li>\n",
      "<li>Tea</li>\n",
      "<li>Milk</li>\n",
      "</ul>\n",
      "<h2>An Ordered HTML List</h2>\n",
      "<ol id=\"ordered_list\" style=\"color:#069\">\n",
      "<li>Coffee</li>\n",
      "<li>Tea</li>\n",
      "<li>Milk</li>\n",
      "</ol>\n",
      "</body>\n",
      "</html>\n",
      "\n"
     ]
    }
   ],
   "source": [
    "src = open(\"data/list.html\")\n",
    "soup = BeautifulSoup(src, 'lxml')\n",
    "print(document)"
   ]
  },
  {
   "cell_type": "markdown",
   "id": "04d99544",
   "metadata": {},
   "source": [
    "### Finding tags by name"
   ]
  },
  {
   "cell_type": "markdown",
   "id": "5c93471b",
   "metadata": {},
   "source": [
    "The document now contains the full html document. We can find the first occuring tag with a specific name with the `find` function. Let's find the first un-ordered list tag:"
   ]
  },
  {
   "cell_type": "code",
   "execution_count": 18,
   "id": "9463feb5",
   "metadata": {},
   "outputs": [],
   "source": [
    "ulist = document.find(\"ul\")"
   ]
  },
  {
   "cell_type": "markdown",
   "id": "59f34b54",
   "metadata": {},
   "source": [
    "The result contains all tags contained in the matched tag:"
   ]
  },
  {
   "cell_type": "code",
   "execution_count": 19,
   "id": "0ee20c06",
   "metadata": {},
   "outputs": [
    {
     "data": {
      "text/plain": [
       "<ul id=\"unordered_list\" style=\"color:#069\">\n",
       "<li>Coffee</li>\n",
       "<li>Tea</li>\n",
       "<li>Milk</li>\n",
       "</ul>"
      ]
     },
     "execution_count": 19,
     "metadata": {},
     "output_type": "execute_result"
    }
   ],
   "source": [
    "ulist"
   ]
  },
  {
   "cell_type": "markdown",
   "id": "fd57b485",
   "metadata": {},
   "source": [
    "The `find_all` function returns **all** tags that match the given tag name. We can use it to get a list of all list items:"
   ]
  },
  {
   "cell_type": "code",
   "execution_count": 20,
   "id": "0bd24ebe",
   "metadata": {},
   "outputs": [
    {
     "data": {
      "text/plain": [
       "[<li>Coffee</li>, <li>Tea</li>, <li>Milk</li>]"
      ]
     },
     "execution_count": 20,
     "metadata": {},
     "output_type": "execute_result"
    }
   ],
   "source": [
    "items = ulist.find_all(\"li\")\n",
    "items"
   ]
  },
  {
   "cell_type": "markdown",
   "id": "cbc20f62",
   "metadata": {},
   "source": [
    "Finally, we can loop over all items and extract their contant with the `get_text` function:"
   ]
  },
  {
   "cell_type": "code",
   "execution_count": 21,
   "id": "22a371c7",
   "metadata": {
    "scrolled": true
   },
   "outputs": [
    {
     "name": "stdout",
     "output_type": "stream",
     "text": [
      "Coffee\n",
      "Tea\n",
      "Milk\n"
     ]
    }
   ],
   "source": [
    "for item in items:\n",
    "    print(item.get_text())"
   ]
  },
  {
   "cell_type": "markdown",
   "id": "f9d0ff64",
   "metadata": {},
   "source": [
    "Note that `find_all` is **recursive** by default. This means that we could call it the on the full `document` to get the items\n",
    "of both the ordered and un-ordered lists:"
   ]
  },
  {
   "cell_type": "code",
   "execution_count": 24,
   "id": "a0e259f0",
   "metadata": {},
   "outputs": [
    {
     "data": {
      "text/plain": [
       "[<li>Coffee</li>,\n",
       " <li>Tea</li>,\n",
       " <li>Milk</li>,\n",
       " <li>Coffee</li>,\n",
       " <li>Tea</li>,\n",
       " <li>Milk</li>]"
      ]
     },
     "execution_count": 24,
     "metadata": {},
     "output_type": "execute_result"
    }
   ],
   "source": [
    "document.find_all(\"li\", recursive=True)"
   ]
  },
  {
   "cell_type": "markdown",
   "id": "31998000",
   "metadata": {
    "slideshow": {
     "slide_type": "slide"
    }
   },
   "source": [
    "### Finding tags by attributes"
   ]
  },
  {
   "cell_type": "markdown",
   "id": "fd78265a",
   "metadata": {},
   "source": [
    "Sometimes the easiest way to find a tag is by its attribute name. In our examples, both lists have an `id` attribute that uniquely identifies the tables. We can also use the `find*` methods to search for attributes:\n"
   ]
  },
  {
   "cell_type": "code",
   "execution_count": 13,
   "id": "650984b4",
   "metadata": {},
   "outputs": [
    {
     "data": {
      "text/plain": [
       "[<ul id=\"unordered_list\" style=\"color:#069\">\n",
       " <li>Coffee</li>\n",
       " <li>Tea</li>\n",
       " <li>Milk</li>\n",
       " </ul>,\n",
       " <ol id=\"ordered_list\" style=\"color:#069\">\n",
       " <li>Coffee</li>\n",
       " <li>Tea</li>\n",
       " <li>Milk</li>\n",
       " </ol>]"
      ]
     },
     "execution_count": 13,
     "metadata": {},
     "output_type": "execute_result"
    }
   ],
   "source": [
    "document.find_all(attrs={\"style\":\"color:#069\"})"
   ]
  },
  {
   "cell_type": "markdown",
   "id": "6d0a3ab4",
   "metadata": {
    "slideshow": {
     "slide_type": "slide"
    }
   },
   "source": [
    "### Accessing attributes"
   ]
  },
  {
   "cell_type": "markdown",
   "id": "799f3a84",
   "metadata": {},
   "source": [
    "The `ul` tag also contains a `style` attribute. Any bs4 tag behaves like a dictionary with attribute names as keys and attribute values as values:"
   ]
  },
  {
   "cell_type": "code",
   "execution_count": 20,
   "id": "5bb2e012",
   "metadata": {},
   "outputs": [
    {
     "data": {
      "text/plain": [
       "{'id': 'unordered_list', 'style': 'color:#069'}"
      ]
     },
     "execution_count": 20,
     "metadata": {},
     "output_type": "execute_result"
    }
   ],
   "source": [
    "ulist.attrs"
   ]
  },
  {
   "cell_type": "code",
   "execution_count": 21,
   "id": "a2ea46f4",
   "metadata": {},
   "outputs": [
    {
     "data": {
      "text/plain": [
       "'color:#069'"
      ]
     },
     "execution_count": 21,
     "metadata": {},
     "output_type": "execute_result"
    }
   ],
   "source": [
    "ulist[\"style\"]"
   ]
  },
  {
   "cell_type": "markdown",
   "id": "b1a00fa7",
   "metadata": {
    "slideshow": {
     "slide_type": "slide"
    }
   },
   "source": [
    "# Downloading a table from Wikipedia\n",
    "\n",
    "We aim to get a list of countries sorted by their population size:\n",
    "https://en.wikipedia.org/wiki/List_of_countries_and_dependencies_by_population"
   ]
  },
  {
   "cell_type": "markdown",
   "id": "1c9c3595",
   "metadata": {},
   "source": [
    "First, let's import the required modules:"
   ]
  },
  {
   "cell_type": "code",
   "execution_count": 14,
   "id": "42f4f5f0",
   "metadata": {},
   "outputs": [],
   "source": [
    "import requests\n",
    "from bs4 import BeautifulSoup\n",
    "import re\n",
    "import dateutil"
   ]
  },
  {
   "cell_type": "markdown",
   "id": "93d2625b",
   "metadata": {},
   "source": [
    "This time, we load the html source directly from a website using the requests module:"
   ]
  },
  {
   "cell_type": "code",
   "execution_count": 15,
   "id": "6b8147b1",
   "metadata": {},
   "outputs": [],
   "source": [
    "result = requests.get(\"https://en.wikipedia.org/wiki/List_of_countries_and_dependencies_by_population\")"
   ]
  },
  {
   "cell_type": "markdown",
   "id": "c3379851",
   "metadata": {},
   "source": [
    "The web server returns a status code to indicate if the request was (un-)succesfully.\n",
    "We use that status-code to check if the page was succesfully loaded:"
   ]
  },
  {
   "cell_type": "code",
   "execution_count": 16,
   "id": "495fb24d",
   "metadata": {},
   "outputs": [],
   "source": [
    "assert result.status_code==200  "
   ]
  },
  {
   "cell_type": "markdown",
   "id": "34963765",
   "metadata": {},
   "source": [
    "Next, we extract the html source and initiated BeautifulSoup:"
   ]
  },
  {
   "cell_type": "code",
   "execution_count": 17,
   "id": "affa053c",
   "metadata": {},
   "outputs": [],
   "source": [
    "src = result.content\n",
    "document = BeautifulSoup(src, 'lxml')"
   ]
  },
  {
   "cell_type": "markdown",
   "id": "7188b99b",
   "metadata": {},
   "source": [
    "by looking at the document, we can see that we are interested in the first table. So we use `find`:"
   ]
  },
  {
   "cell_type": "code",
   "execution_count": 18,
   "id": "297c8924",
   "metadata": {},
   "outputs": [],
   "source": [
    "table = document.find(\"table\")"
   ]
  },
  {
   "cell_type": "markdown",
   "id": "28a00a91",
   "metadata": {},
   "source": [
    "If you are not familiar with html table, read this example first: https://developer.mozilla.org/en-US/docs/Web/HTML/Element/table"
   ]
  },
  {
   "cell_type": "markdown",
   "id": "015a7f8a",
   "metadata": {},
   "source": [
    "At this point, it is a good idea to programatically check that the table contains the correct header:"
   ]
  },
  {
   "cell_type": "code",
   "execution_count": 20,
   "id": "a4367c23",
   "metadata": {},
   "outputs": [],
   "source": [
    "assert table.find(\"th\").get_text() == \"Rank\""
   ]
  },
  {
   "cell_type": "code",
   "execution_count": 27,
   "id": "01777e21",
   "metadata": {},
   "outputs": [],
   "source": [
    "rows = table.find_all(\"tr\")  # Note: this works because find_all is resursive by default\n"
   ]
  },
  {
   "cell_type": "code",
   "execution_count": 29,
   "id": "222d7a53",
   "metadata": {},
   "outputs": [
    {
     "name": "stdout",
     "output_type": "stream",
     "text": [
      "1, China, Asia, 1,412,600,000\n",
      "2, India, Asia, 1,375,586,000\n",
      "3, United States, North America, 331,893,745\n",
      "4, Indonesia, Asia[b], 275,773,800\n",
      "5, Pakistan, Asia, 229,489,000\n",
      "6, Nigeria, Africa, 216,747,000\n",
      "7, Brazil, South America, 215,205,023\n",
      "8, Bangladesh, Asia, 165,158,616\n",
      "9, Russia, Europe[c], 145,100,000\n",
      "10, Mexico, North America, 128,533,664\n",
      "11, Japan, Asia, 125,927,902\n",
      "12, Philippines, Asia, 112,489,365\n",
      "13, Ethiopia, Africa, 105,163,988\n",
      "14, Egypt, Africa[b], 103,891,636\n",
      "15, Vietnam, Asia, 98,506,193\n",
      "16, DR Congo, Africa, 95,241,000\n",
      "17, Iran, Asia, 85,816,454\n",
      "18, Turkey, Asia[b], 84,680,273\n",
      "19, Germany, Europe, 84,079,811\n",
      "20, France, Europe, 67,918,000\n",
      "21, United Kingdom, Europe, 67,081,234\n",
      "22, Thailand, Asia, 66,841,617\n",
      "23, Tanzania, Africa, 61,280,743\n",
      "24, South Africa, Africa, 60,604,992\n",
      "25, Italy, Europe, 58,867,239\n",
      "26, Myanmar, Asia, 55,294,979\n",
      "27, South Korea, Asia, 51,638,809\n",
      "28, Colombia, South America, 51,049,498\n",
      "29, Kenya, Africa, 47,564,296\n",
      "30, Spain, Europe, 47,432,805\n",
      "31, Argentina, South America, 47,327,407\n",
      "32, Algeria, Africa, 45,400,000\n",
      "33, Sudan, Africa, 44,793,625\n",
      "34, Uganda, Africa, 42,885,900\n",
      "35, Iraq, Asia, 41,190,700\n",
      "36, Ukraine, Europe, 41,130,432\n",
      "37, Canada, North America, 38,956,473\n",
      "38, Poland, Europe, 37,996,000\n",
      "39, Morocco, Africa, 36,735,180\n",
      "40, Uzbekistan, Asia, 35,797,379\n",
      "41, Saudi Arabia, Asia, 35,013,414\n",
      "42, Peru, South America, 33,396,698\n",
      "43, Angola, Africa, 33,086,278\n",
      "44, Afghanistan, Asia, 32,890,171\n",
      "45, Malaysia, Asia, 32,743,000\n",
      "46, Mozambique, Africa, 31,616,078\n",
      "47, Yemen, Asia, 31,155,000\n",
      "48, Ghana, Africa, 30,832,019\n",
      "49, Ivory Coast, Africa, 29,389,150\n",
      "50, Venezuela, South America, 29,267,000\n",
      "51, Nepal, Asia, 29,192,480\n",
      "52, Madagascar, Africa, 26,923,353\n",
      "53, Australia, Oceania, 25,974,059\n",
      "54, North Korea, Asia, 25,660,000\n",
      "55, Cameroon, Africa, 24,348,251\n",
      "56, Niger, Africa, 24,112,753\n",
      "–, Taiwan, Asia, 23,375,314\n",
      "57, Sri Lanka, Asia, 22,156,000\n",
      "58, Burkina Faso, Africa, 21,510,181\n",
      "59, Malawi, Africa, 21,507,723\n",
      "60, Mali, Africa, 21,474,000\n",
      "61, Chile, South America, 19,678,363\n",
      "62, Kazakhstan, Asia[b], 19,317,808\n",
      "63, Romania, Europe, 19,038,098\n",
      "64, Zambia, Africa, 18,400,556\n",
      "65, Syria, Asia, 18,276,000\n",
      "66, Ecuador, South America, 18,072,560\n",
      "67, Netherlands, Europe, 17,748,060\n",
      "68, Senegal, Africa, 17,223,497\n",
      "69, Guatemala, North America, 17,109,746\n",
      "70, Chad, Africa, 16,818,391\n",
      "71, Somalia, Africa, 16,360,000\n",
      "72, Cambodia, Asia, 15,552,211\n",
      "73, Zimbabwe, Africa, 15,178,979\n",
      "74, South Sudan, Africa, 13,249,924\n",
      "75, Rwanda, Africa, 12,955,768\n",
      "76, Guinea, Africa, 12,907,395\n",
      "77, Burundi, Africa, 12,574,571\n",
      "78, Benin, Africa, 12,506,347\n",
      "79, Tunisia, Africa, 11,803,588\n",
      "80, Bolivia, South America, 11,797,257\n",
      "81, Haiti, North America, 11,743,017\n",
      "82, Belgium, Europe, 11,671,737\n",
      "83, Jordan, Asia, 11,308,960\n",
      "84, Cuba, North America, 11,113,215\n",
      "85, Dominican Republic, North America, 10,535,535\n",
      "86, Czech Republic, Europe, 10,493,986\n",
      "87, Sweden, Europe, 10,493,565\n",
      "88, Greece, Europe, 10,432,481\n",
      "89, Portugal, Europe, 10,344,802\n",
      "90, Azerbaijan, Asia[b], 10,185,784\n",
      "91, Hungary, Europe, 9,689,000\n",
      "92, Israel, Asia, 9,583,100\n",
      "93, Honduras, North America, 9,546,178\n",
      "94, Tajikistan, Asia, 9,506,000\n",
      "95, United Arab Emirates, Asia, 9,282,410\n",
      "96, Belarus, Europe, 9,255,524\n",
      "97, Papua New Guinea, Oceania, 9,122,994\n",
      "98, Austria, Europe, 9,061,848\n",
      "99, Switzerland, Europe, 8,770,283\n",
      "100, Sierra Leone, Africa, 8,297,882\n",
      "101, Togo, Africa, 7,886,000\n",
      "–, Hong Kong(China), Asia, 7,403,100\n",
      "102, Paraguay, South America, 7,353,038\n",
      "103, Laos, Asia, 7,337,783\n",
      "104, Libya, Africa, 7,054,493\n",
      "105, El Salvador, North America, 6,825,935\n",
      "106, Serbia, Europe, 6,797,105\n",
      "107, Lebanon, Asia, 6,769,000\n",
      "108, Kyrgyzstan, Asia, 6,800,000\n",
      "109, Nicaragua, North America, 6,595,674\n",
      "110, Bulgaria, Europe, 6,520,314\n",
      "111, Turkmenistan, Asia, 6,118,000\n",
      "112, Denmark, Europe, 5,910,577\n",
      "113, Congo, Africa, 5,657,000\n",
      "114, Central African Republic, Africa, 5,633,412\n",
      "115, Finland, Europe, 5,522,135\n",
      "116, Singapore, Asia, 5,453,600\n",
      "117, Norway, Europe, 5,455,582\n",
      "118, Slovakia, Europe, 5,434,712\n",
      "119, Palestine, Asia, 5,227,193\n",
      "120, Costa Rica, North America, 5,163,038\n",
      "121, New Zealand, Oceania, 5,129,403\n",
      "122, Ireland, Europe, 5,123,536\n",
      "123, Kuwait, Asia, 4,670,713\n",
      "124, Liberia, Africa, 4,661,010\n",
      "125, Oman, Asia, 4,527,446\n",
      "126, Panama, North America, 4,278,500\n",
      "127, Mauritania, Africa, 4,271,197\n",
      "128, Croatia, Europe, 3,888,529\n",
      "129, Georgia, Asia[b], 3,688,600\n",
      "130, Eritrea, Africa, 3,601,000\n",
      "131, Uruguay, South America, 3,554,915\n",
      "132, Mongolia, Asia, 3,459,903\n",
      "133, Bosnia and Herzegovina, Europe, 3,320,954\n",
      "–, Puerto Rico(United States), North America, 3,285,874\n",
      "134, Armenia, Asia, 2,963,900\n",
      "135, Lithuania, Europe, 2,830,097\n",
      "136, Albania, Europe, 2,829,741\n",
      "137, Qatar, Asia, 2,799,202\n",
      "138, Jamaica, North America, 2,734,093\n",
      "139, Moldova, Europe, 2,597,100\n",
      "140, Namibia, Africa, 2,550,226\n",
      "141, Gambia, Africa, 2,487,000\n",
      "142, Botswana, Africa, 2,410,338\n",
      "143, Gabon, Africa, 2,233,272\n",
      "144, Lesotho, Africa, 2,159,000\n",
      "145, Slovenia, Europe, 2,108,977\n",
      "146, Latvia, Europe, 1,893,400\n",
      "147, North Macedonia, Europe, 1,832,696\n",
      "–, Kosovo, Europe, 1,798,188\n",
      "148, Guinea-Bissau, Africa, 1,646,077\n",
      "149, Equatorial Guinea, Africa, 1,505,588\n",
      "150, Bahrain, Asia, 1,501,635\n",
      "151, Trinidad and Tobago, North America, 1,367,558\n",
      "152, Estonia, Europe, 1,331,796\n",
      "153, East Timor, Asia, 1,317,780\n",
      "154, Mauritius, Africa, 1,266,334\n",
      "155, Eswatini, Africa, 1,172,000\n",
      "156, Djibouti, Africa, 976,107\n",
      "157, Cyprus, Asia, 918,100\n",
      "158, Fiji, Oceania, 898,402\n",
      "159, Comoros, Africa, 758,316\n",
      "160, Bhutan, Asia, 763,200\n",
      "161, Guyana, South America, 743,699\n",
      "162, Solomon Islands, Oceania, 728,041\n",
      "–, Macau(China), Asia, 683,200\n",
      "163, Luxembourg, Europe, 645,397\n",
      "164, Montenegro, Europe, 621,306\n",
      "–, Western Sahara, Africa, 612,000\n",
      "165, Suriname, South America, 598,000\n",
      "166, Cape Verde, Africa, 563,198\n",
      "167, Malta, Europe, 519,562\n",
      "168, Belize, North America, 430,191\n",
      "169, Brunei, Asia, 429,999\n",
      "170, Bahamas, North America, 393,450\n",
      "171, Maldives, Asia, 383,135\n",
      "–, Northern Cyprus, Asia, 382,230\n",
      "172, Iceland, Europe, 381,370\n",
      "–, Transnistria, Europe, 306,000\n",
      "173, Vanuatu, Oceania, 301,295\n",
      "174, Barbados, North America, 288,000\n",
      "–, French Polynesia(France), Oceania, 279,890\n",
      "–, New Caledonia(France), Oceania, 273,674\n",
      "–, Abkhazia, Asia, 245,424\n",
      "175, São Tomé and Príncipe, Africa, 214,610\n",
      "176, Samoa, Oceania, 199,853\n",
      "177, Saint Lucia, North America, 178,696\n",
      "–, Guam(United States), Oceania, 153,836\n",
      "–, Curaçao(Netherlands), North America, 153,671\n",
      "–, Artsakh, Asia, 148,900\n",
      "178, Kiribati, Oceania, 120,740\n",
      "179, Grenada, North America, 113,000\n",
      "–, Aruba(Netherlands), North America, 111,050\n",
      "180, Saint Vincent and the Grenadines, North America, 110,696\n",
      "–, Jersey(British Crown Dependency), Europe, 107,800\n",
      "181, Micronesia, Oceania, 105,754\n",
      "182, Tonga, Oceania, 99,532\n",
      "183, Antigua and Barbuda, North America, 99,337\n",
      "184, Seychelles, Africa, 99,202\n",
      "–, U.S. Virgin Islands(United States), North America, 87,146\n",
      "–, Isle of Man(British Crown Dependency), Europe, 84,069\n",
      "185, Andorra, Europe, 79,535\n",
      "186, Dominica, North America, 72,000\n",
      "–, Cayman Islands(United Kingdom), North America, 65,786\n",
      "–, Bermuda(United Kingdom), North America, 64,055\n",
      "–, Guernsey(British Crown Dependency), Europe, 63,124\n",
      "–, Greenland(Denmark), North America, 56,562\n",
      "187, Marshall Islands, Oceania, 54,516\n",
      "188, Saint Kitts and Nevis, North America, 54,072\n",
      "–, Faroe Islands(Denmark), Europe, 54,000\n",
      "–, South Ossetia, Asia, 53,532\n",
      "–, American Samoa(United States), Oceania, 49,710\n",
      "–, Northern Mariana Islands(United States), Oceania, 47,329\n",
      "–, Turks and Caicos Islands(United Kingdom), North America, 44,542\n",
      "–, Sint Maarten(Netherlands), North America, 42,577\n",
      "189, Liechtenstein, Europe, 39,315\n",
      "190, Monaco, Europe, 39,150\n",
      "–, Gibraltar(United Kingdom), Europe, 34,000\n",
      "191, San Marino, Europe, 33,776\n",
      "–, Saint Martin(France), North America, 32,489\n",
      "–, Åland(Finland), Europe, 30,415\n",
      "–, British Virgin Islands(United Kingdom), North America, 30,000\n",
      "192, Palau, Oceania, 17,957\n",
      "–, Cook Islands(New Zealand), Oceania, 15,342\n",
      "–, Anguilla(United Kingdom), North America, 15,000\n",
      "193, Nauru, Oceania, 11,832\n",
      "–, Wallis and Futuna(France), Oceania, 11,369\n",
      "194, Tuvalu, Oceania, 10,679\n",
      "–, Saint Barthélemy(France), North America, 10,289\n",
      "–, Saint Helena, Ascension and Tristan da Cunha(United Kingdom), Africa, 6,000\n",
      "–, Saint Pierre and Miquelon(France), North America, 5,974\n",
      "–, Montserrat(United Kingdom), North America, 5,000\n",
      "–, Falkland Islands(United Kingdom), South America, 4,000\n",
      "–, Christmas Island(Australia), Oceania, 1,966\n",
      "–, Norfolk Island(Australia), Oceania, 1,734\n",
      "–, Niue(New Zealand), Oceania, 1,549\n",
      "–, Tokelau(New Zealand), Oceania, 1,501\n",
      "195, Vatican City, Europe, 825\n",
      "–, Cocos (Keeling) Islands(Australia), Oceania, 573\n"
     ]
    }
   ],
   "source": [
    "for row in rows[2:-1]:\n",
    "    cells = row.find_all([\"td\", \"th\"])\n",
    "    \n",
    "    cells_text = [cell.get_text(strip=True) for cell in cells]\n",
    "    (rank, country, region, population, percentage, updated_at, source, comment) = cells_text  \n",
    "    print(f'{rank}, {country}, {region}, {population}')\n",
    "    "
   ]
  },
  {
   "cell_type": "markdown",
   "id": "072c6719",
   "metadata": {},
   "source": [
    "**Attention**: Beautiful Soup does not execute Javascript. This means that you the code in the Google Chrome inspector might look different to the original source code. "
   ]
  },
  {
   "cell_type": "markdown",
   "id": "8ef61a38",
   "metadata": {
    "slideshow": {
     "slide_type": "slide"
    }
   },
   "source": [
    "# Another example of downloading a Wikipedia table \n",
    "\n",
    "Let's consider another table in a Wikipedia page. This page has a lot more tables, so one challenge will be to pick the right table\n",
    "\n",
    "https://en.wikipedia.org/wiki/Tiger_Woods\n",
    "\n",
    "\n",
    "We are interested in extracting these two tables:\n",
    "\n",
    "![Target Wikipedia tables](figs/wiki_tables.png)\n",
    "\n",
    "**Exercise**: \n",
    "\n",
    "1) Identify the id=\"The_Players_Championship\", by using title = document.find(id=\"The_Players_Championship\")\n",
    "\n",
    "2) First find all tables below the id in 1) by title.find_all_next('table').\n",
    "\n",
    "3) Search for headers (th) by table.find('th') for table in tables to identify the \"Tournament\" header. Remember to use get_text(strip=True)\n",
    "\n",
    "4) Save all tables with the header \"Tournament\" into a list tournament_tables. Check the length of the table and reduce it if it is needed.\n",
    "\n",
    "5) Bonus: Print out the information in the two tables of interest in the terminal"
   ]
  },
  {
   "cell_type": "markdown",
   "id": "08eecc18",
   "metadata": {
    "slideshow": {
     "slide_type": "slide"
    }
   },
   "source": [
    "We begin by downloading the webpage and instatiating the BeautifulSoup object:"
   ]
  },
  {
   "cell_type": "code",
   "execution_count": 30,
   "id": "d06ff8b5",
   "metadata": {},
   "outputs": [],
   "source": [
    "result = requests.get(\"https://en.wikipedia.org/wiki/Tiger_Woods\")\n",
    "src = result.content\n",
    "document = BeautifulSoup(src, 'lxml')"
   ]
  },
  {
   "cell_type": "markdown",
   "id": "073120e9",
   "metadata": {
    "slideshow": {
     "slide_type": "slide"
    }
   },
   "source": [
    "This page contains a lot of tables without specific attributes that would make it difficult to find our table of interest. Further, the same headings of the tables are used for multiple tables, making it difficult to find a table just by its headings:"
   ]
  },
  {
   "cell_type": "code",
   "execution_count": 31,
   "id": "fce36a1f",
   "metadata": {},
   "outputs": [
    {
     "data": {
      "text/plain": [
       "60"
      ]
     },
     "execution_count": 31,
     "metadata": {},
     "output_type": "execute_result"
    }
   ],
   "source": [
    "len(document.find_all(\"table\"))"
   ]
  },
  {
   "cell_type": "markdown",
   "id": "9f9fd4e6",
   "metadata": {
    "slideshow": {
     "slide_type": "slide"
    }
   },
   "source": [
    "Therefore, we choose another strategy. First, we extract the tag that defines the header just before our tables of interest. That header tag has a unique identifier attribute `id=\"The_Players_Championship\"`. Then we use the `find_all_next` function in BeautifulSoup to extract all following table tags:"
   ]
  },
  {
   "cell_type": "code",
   "execution_count": 32,
   "id": "3d746dbd",
   "metadata": {},
   "outputs": [],
   "source": [
    "title = document.find(id=\"The_Players_Championship\")\n",
    "tables = title.find_all_next(\"table\")"
   ]
  },
  {
   "cell_type": "markdown",
   "id": "6acf13d0",
   "metadata": {
    "slideshow": {
     "slide_type": "slide"
    }
   },
   "source": [
    "Now, our tables of interest are the first two tables with the \"Tournament\" heading. We write a small helper function (a generator https://wiki.python.org/moin/Generators) that returns a table with a given heading:"
   ]
  },
  {
   "cell_type": "code",
   "execution_count": 14,
   "id": "9a71e9d8",
   "metadata": {},
   "outputs": [],
   "source": [
    "def find_table_with_heading(tables, heading):\n",
    "    for table in tables:\n",
    "        if table.find(\"th\").get_text(strip=True) == heading:\n",
    "            yield table"
   ]
  },
  {
   "cell_type": "markdown",
   "id": "3bb54c42",
   "metadata": {
    "slideshow": {
     "slide_type": "slide"
    }
   },
   "source": [
    "Next, we can extract the table rows and columns as usual. We only extract the first two tables, as these are the only ones we were interested in:"
   ]
  },
  {
   "cell_type": "code",
   "execution_count": 16,
   "id": "c9e38eb0",
   "metadata": {},
   "outputs": [
    {
     "name": "stdout",
     "output_type": "stream",
     "text": [
      "['Tournament', '1997', '1998', '1999', '2000', '2001', '2002', '2003', '2004', '2005', '2006', '2007', '2008', '2009']\n",
      "['The Players Championship', 'T31', 'T35', 'T10', '2', '1', 'T14', 'T11', 'T16', 'T53', 'T22', 'T37', '', '8']\n",
      "['Tournament', '2010', '2011', '2012', '2013', '2014', '2015', '2016', '2017', '2018', '2019']\n",
      "['The Players Championship', 'WD', 'WD', 'T40', '1', '', 'T69', '', '', 'T11', 'T30']\n"
     ]
    }
   ],
   "source": [
    "tournament_tables = list(find_table_with_heading(tables, \"Tournament\"))\n",
    "\n",
    "for table in tournament_tables[:2]:\n",
    "    for row in table.find_all(\"tr\"):\n",
    "        cells= row.find_all([\"th\", \"td\"])\n",
    "        print([cell.get_text(strip=\"True\") for cell in cells])\n",
    "        "
   ]
  },
  {
   "cell_type": "code",
   "execution_count": 3,
   "id": "dc6f1ab7",
   "metadata": {},
   "outputs": [],
   "source": [
    "import pandas as pd\n",
    "\n",
    "url = 'https://en.wikipedia.org/wiki/List_of_numbers'\n",
    "L = pd.read_html(url)"
   ]
  },
  {
   "cell_type": "markdown",
   "id": "2ced17c9",
   "metadata": {
    "slideshow": {
     "slide_type": "slide"
    }
   },
   "source": [
    "L is now a list of DataFrames, each item corresponding to a given table in the wikipedia article. To assess the table of interest, one would typically need to do some visual inspection. Let's look for the table with prime numbers:"
   ]
  },
  {
   "cell_type": "code",
   "execution_count": 5,
   "id": "e69f95ea",
   "metadata": {},
   "outputs": [
    {
     "data": {
      "text/html": [
       "<div>\n",
       "<style scoped>\n",
       "    .dataframe tbody tr th:only-of-type {\n",
       "        vertical-align: middle;\n",
       "    }\n",
       "\n",
       "    .dataframe tbody tr th {\n",
       "        vertical-align: top;\n",
       "    }\n",
       "\n",
       "    .dataframe thead th {\n",
       "        text-align: right;\n",
       "    }\n",
       "</style>\n",
       "<table border=\"1\" class=\"dataframe\">\n",
       "  <thead>\n",
       "    <tr style=\"text-align: right;\">\n",
       "      <th></th>\n",
       "      <th>0</th>\n",
       "      <th>1</th>\n",
       "      <th>2</th>\n",
       "      <th>3</th>\n",
       "      <th>4</th>\n",
       "      <th>5</th>\n",
       "      <th>6</th>\n",
       "      <th>7</th>\n",
       "      <th>8</th>\n",
       "      <th>9</th>\n",
       "    </tr>\n",
       "  </thead>\n",
       "  <tbody>\n",
       "    <tr>\n",
       "      <th>0</th>\n",
       "      <td>2</td>\n",
       "      <td>3</td>\n",
       "      <td>5</td>\n",
       "      <td>7</td>\n",
       "      <td>11</td>\n",
       "      <td>13</td>\n",
       "      <td>17</td>\n",
       "      <td>19</td>\n",
       "      <td>23</td>\n",
       "      <td>29</td>\n",
       "    </tr>\n",
       "    <tr>\n",
       "      <th>1</th>\n",
       "      <td>31</td>\n",
       "      <td>37</td>\n",
       "      <td>41</td>\n",
       "      <td>43</td>\n",
       "      <td>47</td>\n",
       "      <td>53</td>\n",
       "      <td>59</td>\n",
       "      <td>61</td>\n",
       "      <td>67</td>\n",
       "      <td>71</td>\n",
       "    </tr>\n",
       "    <tr>\n",
       "      <th>2</th>\n",
       "      <td>73</td>\n",
       "      <td>79</td>\n",
       "      <td>83</td>\n",
       "      <td>89</td>\n",
       "      <td>97</td>\n",
       "      <td>101</td>\n",
       "      <td>103</td>\n",
       "      <td>107</td>\n",
       "      <td>109</td>\n",
       "      <td>113</td>\n",
       "    </tr>\n",
       "    <tr>\n",
       "      <th>3</th>\n",
       "      <td>127</td>\n",
       "      <td>131</td>\n",
       "      <td>137</td>\n",
       "      <td>139</td>\n",
       "      <td>149</td>\n",
       "      <td>151</td>\n",
       "      <td>157</td>\n",
       "      <td>163</td>\n",
       "      <td>167</td>\n",
       "      <td>173</td>\n",
       "    </tr>\n",
       "    <tr>\n",
       "      <th>4</th>\n",
       "      <td>179</td>\n",
       "      <td>181</td>\n",
       "      <td>191</td>\n",
       "      <td>193</td>\n",
       "      <td>197</td>\n",
       "      <td>199</td>\n",
       "      <td>211</td>\n",
       "      <td>223</td>\n",
       "      <td>227</td>\n",
       "      <td>229</td>\n",
       "    </tr>\n",
       "    <tr>\n",
       "      <th>5</th>\n",
       "      <td>233</td>\n",
       "      <td>239</td>\n",
       "      <td>241</td>\n",
       "      <td>251</td>\n",
       "      <td>257</td>\n",
       "      <td>263</td>\n",
       "      <td>269</td>\n",
       "      <td>271</td>\n",
       "      <td>277</td>\n",
       "      <td>281</td>\n",
       "    </tr>\n",
       "    <tr>\n",
       "      <th>6</th>\n",
       "      <td>283</td>\n",
       "      <td>293</td>\n",
       "      <td>307</td>\n",
       "      <td>311</td>\n",
       "      <td>313</td>\n",
       "      <td>317</td>\n",
       "      <td>331</td>\n",
       "      <td>337</td>\n",
       "      <td>347</td>\n",
       "      <td>349</td>\n",
       "    </tr>\n",
       "    <tr>\n",
       "      <th>7</th>\n",
       "      <td>353</td>\n",
       "      <td>359</td>\n",
       "      <td>367</td>\n",
       "      <td>373</td>\n",
       "      <td>379</td>\n",
       "      <td>383</td>\n",
       "      <td>389</td>\n",
       "      <td>397</td>\n",
       "      <td>401</td>\n",
       "      <td>409</td>\n",
       "    </tr>\n",
       "    <tr>\n",
       "      <th>8</th>\n",
       "      <td>419</td>\n",
       "      <td>421</td>\n",
       "      <td>431</td>\n",
       "      <td>433</td>\n",
       "      <td>439</td>\n",
       "      <td>443</td>\n",
       "      <td>449</td>\n",
       "      <td>457</td>\n",
       "      <td>461</td>\n",
       "      <td>463</td>\n",
       "    </tr>\n",
       "    <tr>\n",
       "      <th>9</th>\n",
       "      <td>467</td>\n",
       "      <td>479</td>\n",
       "      <td>487</td>\n",
       "      <td>491</td>\n",
       "      <td>499</td>\n",
       "      <td>503</td>\n",
       "      <td>509</td>\n",
       "      <td>521</td>\n",
       "      <td>523</td>\n",
       "      <td>541</td>\n",
       "    </tr>\n",
       "  </tbody>\n",
       "</table>\n",
       "</div>"
      ],
      "text/plain": [
       "     0    1    2    3    4    5    6    7    8    9\n",
       "0    2    3    5    7   11   13   17   19   23   29\n",
       "1   31   37   41   43   47   53   59   61   67   71\n",
       "2   73   79   83   89   97  101  103  107  109  113\n",
       "3  127  131  137  139  149  151  157  163  167  173\n",
       "4  179  181  191  193  197  199  211  223  227  229\n",
       "5  233  239  241  251  257  263  269  271  277  281\n",
       "6  283  293  307  311  313  317  331  337  347  349\n",
       "7  353  359  367  373  379  383  389  397  401  409\n",
       "8  419  421  431  433  439  443  449  457  461  463\n",
       "9  467  479  487  491  499  503  509  521  523  541"
      ]
     },
     "execution_count": 5,
     "metadata": {},
     "output_type": "execute_result"
    }
   ],
   "source": [
    "primes = L[1]\n",
    "primes"
   ]
  },
  {
   "cell_type": "markdown",
   "id": "67d33249",
   "metadata": {
    "slideshow": {
     "slide_type": "slide"
    }
   },
   "source": [
    "The index serves no purpose in this example, but we can access out all prime numbers by e.g."
   ]
  },
  {
   "cell_type": "code",
   "execution_count": 6,
   "id": "d954a236",
   "metadata": {},
   "outputs": [],
   "source": [
    "for i in range(10):\n",
    "    for j in range(10):\n",
    "        primes.iloc[i,j] # could print or use this"
   ]
  },
  {
   "cell_type": "markdown",
   "id": "ac3a77f5",
   "metadata": {
    "slideshow": {
     "slide_type": "slide"
    }
   },
   "source": [
    "Or alternatively:"
   ]
  },
  {
   "cell_type": "code",
   "execution_count": 13,
   "id": "ed105665",
   "metadata": {},
   "outputs": [
    {
     "data": {
      "text/plain": [
       "array([  2,   3,   5,   7,  11,  13,  17,  19,  23,  29,  31,  37,  41,\n",
       "        43,  47,  53,  59,  61,  67,  71,  73,  79,  83,  89,  97, 101,\n",
       "       103, 107, 109, 113, 127, 131, 137, 139, 149, 151, 157, 163, 167,\n",
       "       173, 179, 181, 191, 193, 197, 199, 211, 223, 227, 229, 233, 239,\n",
       "       241, 251, 257, 263, 269, 271, 277, 281, 283, 293, 307, 311, 313,\n",
       "       317, 331, 337, 347, 349, 353, 359, 367, 373, 379, 383, 389, 397,\n",
       "       401, 409, 419, 421, 431, 433, 439, 443, 449, 457, 461, 463, 467,\n",
       "       479, 487, 491, 499, 503, 509, 521, 523, 541])"
      ]
     },
     "execution_count": 13,
     "metadata": {},
     "output_type": "execute_result"
    }
   ],
   "source": [
    "primes.values.flatten()"
   ]
  },
  {
   "cell_type": "markdown",
   "id": "6728fd2b",
   "metadata": {
    "slideshow": {
     "slide_type": "slide"
    }
   },
   "source": [
    "### Let's consider another example:\n",
    "https://en.wikipedia.org/wiki/List_of_countries_by_GDP_(nominal)"
   ]
  },
  {
   "cell_type": "code",
   "execution_count": 33,
   "id": "6e811b8d",
   "metadata": {},
   "outputs": [
    {
     "data": {
      "text/html": [
       "<div>\n",
       "<style scoped>\n",
       "    .dataframe tbody tr th:only-of-type {\n",
       "        vertical-align: middle;\n",
       "    }\n",
       "\n",
       "    .dataframe tbody tr th {\n",
       "        vertical-align: top;\n",
       "    }\n",
       "\n",
       "    .dataframe thead tr th {\n",
       "        text-align: left;\n",
       "    }\n",
       "</style>\n",
       "<table border=\"1\" class=\"dataframe\">\n",
       "  <thead>\n",
       "    <tr>\n",
       "      <th></th>\n",
       "      <th>Country/Territory</th>\n",
       "      <th>UN Region</th>\n",
       "      <th colspan=\"2\" halign=\"left\">IMF[1][13]</th>\n",
       "      <th colspan=\"2\" halign=\"left\">United Nations[14]</th>\n",
       "      <th colspan=\"2\" halign=\"left\">World Bank[15]</th>\n",
       "    </tr>\n",
       "    <tr>\n",
       "      <th></th>\n",
       "      <th>Country/Territory</th>\n",
       "      <th>UN Region</th>\n",
       "      <th>Estimate</th>\n",
       "      <th>Year</th>\n",
       "      <th>Estimate</th>\n",
       "      <th>Year</th>\n",
       "      <th>Estimate</th>\n",
       "      <th>Year</th>\n",
       "    </tr>\n",
       "  </thead>\n",
       "  <tbody>\n",
       "    <tr>\n",
       "      <th>0</th>\n",
       "      <td>World</td>\n",
       "      <td>—</td>\n",
       "      <td>93863851</td>\n",
       "      <td>2021</td>\n",
       "      <td>87461674</td>\n",
       "      <td>2020</td>\n",
       "      <td>96100091</td>\n",
       "      <td>2021</td>\n",
       "    </tr>\n",
       "    <tr>\n",
       "      <th>1</th>\n",
       "      <td>United States</td>\n",
       "      <td>Americas</td>\n",
       "      <td>25346805</td>\n",
       "      <td>2022</td>\n",
       "      <td>20893746</td>\n",
       "      <td>2020</td>\n",
       "      <td>22996100</td>\n",
       "      <td>2021</td>\n",
       "    </tr>\n",
       "    <tr>\n",
       "      <th>2</th>\n",
       "      <td>China</td>\n",
       "      <td>Asia</td>\n",
       "      <td>19911593</td>\n",
       "      <td>[n 2]2022</td>\n",
       "      <td>14722801</td>\n",
       "      <td>[n 3]2020</td>\n",
       "      <td>17734063</td>\n",
       "      <td>2021</td>\n",
       "    </tr>\n",
       "    <tr>\n",
       "      <th>3</th>\n",
       "      <td>Japan</td>\n",
       "      <td>Asia</td>\n",
       "      <td>4912147</td>\n",
       "      <td>2022</td>\n",
       "      <td>5057759</td>\n",
       "      <td>2020</td>\n",
       "      <td>4937422</td>\n",
       "      <td>2021</td>\n",
       "    </tr>\n",
       "    <tr>\n",
       "      <th>4</th>\n",
       "      <td>Germany</td>\n",
       "      <td>Europe</td>\n",
       "      <td>4256540</td>\n",
       "      <td>2022</td>\n",
       "      <td>3846414</td>\n",
       "      <td>2020</td>\n",
       "      <td>4223116</td>\n",
       "      <td>2021</td>\n",
       "    </tr>\n",
       "    <tr>\n",
       "      <th>...</th>\n",
       "      <td>...</td>\n",
       "      <td>...</td>\n",
       "      <td>...</td>\n",
       "      <td>...</td>\n",
       "      <td>...</td>\n",
       "      <td>...</td>\n",
       "      <td>...</td>\n",
       "      <td>...</td>\n",
       "    </tr>\n",
       "    <tr>\n",
       "      <th>212</th>\n",
       "      <td>Palau</td>\n",
       "      <td>Oceania</td>\n",
       "      <td>244</td>\n",
       "      <td>2022</td>\n",
       "      <td>264</td>\n",
       "      <td>2020</td>\n",
       "      <td>258</td>\n",
       "      <td>2020</td>\n",
       "    </tr>\n",
       "    <tr>\n",
       "      <th>213</th>\n",
       "      <td>Kiribati</td>\n",
       "      <td>Oceania</td>\n",
       "      <td>216</td>\n",
       "      <td>2022</td>\n",
       "      <td>181</td>\n",
       "      <td>2020</td>\n",
       "      <td>181</td>\n",
       "      <td>2020</td>\n",
       "    </tr>\n",
       "    <tr>\n",
       "      <th>214</th>\n",
       "      <td>Nauru</td>\n",
       "      <td>Oceania</td>\n",
       "      <td>134</td>\n",
       "      <td>2022</td>\n",
       "      <td>135</td>\n",
       "      <td>2020</td>\n",
       "      <td>133</td>\n",
       "      <td>2021</td>\n",
       "    </tr>\n",
       "    <tr>\n",
       "      <th>215</th>\n",
       "      <td>Montserrat</td>\n",
       "      <td>Americas</td>\n",
       "      <td>—</td>\n",
       "      <td>—</td>\n",
       "      <td>68</td>\n",
       "      <td>2020</td>\n",
       "      <td>—</td>\n",
       "      <td>—</td>\n",
       "    </tr>\n",
       "    <tr>\n",
       "      <th>216</th>\n",
       "      <td>Tuvalu</td>\n",
       "      <td>Oceania</td>\n",
       "      <td>66</td>\n",
       "      <td>2022</td>\n",
       "      <td>55</td>\n",
       "      <td>2020</td>\n",
       "      <td>63</td>\n",
       "      <td>2021</td>\n",
       "    </tr>\n",
       "  </tbody>\n",
       "</table>\n",
       "<p>217 rows × 8 columns</p>\n",
       "</div>"
      ],
      "text/plain": [
       "    Country/Territory UN Region IMF[1][13]            United Nations[14]  \\\n",
       "    Country/Territory UN Region   Estimate       Year           Estimate   \n",
       "0               World         —   93863851       2021           87461674   \n",
       "1       United States  Americas   25346805       2022           20893746   \n",
       "2               China      Asia   19911593  [n 2]2022           14722801   \n",
       "3               Japan      Asia    4912147       2022            5057759   \n",
       "4             Germany    Europe    4256540       2022            3846414   \n",
       "..                ...       ...        ...        ...                ...   \n",
       "212             Palau   Oceania        244       2022                264   \n",
       "213          Kiribati   Oceania        216       2022                181   \n",
       "214             Nauru   Oceania        134       2022                135   \n",
       "215        Montserrat  Americas          —          —                 68   \n",
       "216            Tuvalu   Oceania         66       2022                 55   \n",
       "\n",
       "               World Bank[15]        \n",
       "          Year       Estimate  Year  \n",
       "0         2020       96100091  2021  \n",
       "1         2020       22996100  2021  \n",
       "2    [n 3]2020       17734063  2021  \n",
       "3         2020        4937422  2021  \n",
       "4         2020        4223116  2021  \n",
       "..         ...            ...   ...  \n",
       "212       2020            258  2020  \n",
       "213       2020            181  2020  \n",
       "214       2020            133  2021  \n",
       "215       2020              —     —  \n",
       "216       2020             63  2021  \n",
       "\n",
       "[217 rows x 8 columns]"
      ]
     },
     "execution_count": 33,
     "metadata": {},
     "output_type": "execute_result"
    }
   ],
   "source": [
    "import pandas as pd\n",
    "\n",
    "url = 'https://en.wikipedia.org/wiki/List_of_countries_by_GDP_(nominal)'\n",
    "L = pd.read_html(url)\n",
    "df = L[2]\n",
    "df"
   ]
  },
  {
   "cell_type": "markdown",
   "id": "a03be1d1",
   "metadata": {
    "slideshow": {
     "slide_type": "slide"
    }
   },
   "source": [
    "Let's search trough the list of DataFrames:"
   ]
  },
  {
   "cell_type": "code",
   "execution_count": 8,
   "id": "e393dd34",
   "metadata": {},
   "outputs": [
    {
     "name": "stdout",
     "output_type": "stream",
     "text": [
      "Found table\n"
     ]
    }
   ],
   "source": [
    "for dfs in L:\n",
    "    if 'Country/Territory' in dfs.columns:\n",
    "        df = dfs\n",
    "        print('Found table')"
   ]
  },
  {
   "cell_type": "code",
   "execution_count": 26,
   "id": "03fef622",
   "metadata": {},
   "outputs": [
    {
     "data": {
      "text/html": [
       "<div>\n",
       "<style scoped>\n",
       "    .dataframe tbody tr th:only-of-type {\n",
       "        vertical-align: middle;\n",
       "    }\n",
       "\n",
       "    .dataframe tbody tr th {\n",
       "        vertical-align: top;\n",
       "    }\n",
       "\n",
       "    .dataframe thead tr th {\n",
       "        text-align: left;\n",
       "    }\n",
       "</style>\n",
       "<table border=\"1\" class=\"dataframe\">\n",
       "  <thead>\n",
       "    <tr>\n",
       "      <th></th>\n",
       "      <th>Country/Territory</th>\n",
       "      <th>UN Region</th>\n",
       "      <th colspan=\"2\" halign=\"left\">IMF[1][13]</th>\n",
       "      <th colspan=\"2\" halign=\"left\">United Nations[14]</th>\n",
       "      <th colspan=\"2\" halign=\"left\">World Bank[15]</th>\n",
       "    </tr>\n",
       "    <tr>\n",
       "      <th></th>\n",
       "      <th>Country/Territory</th>\n",
       "      <th>UN Region</th>\n",
       "      <th>Estimate</th>\n",
       "      <th>Year</th>\n",
       "      <th>Estimate</th>\n",
       "      <th>Year</th>\n",
       "      <th>Estimate</th>\n",
       "      <th>Year</th>\n",
       "    </tr>\n",
       "  </thead>\n",
       "  <tbody>\n",
       "    <tr>\n",
       "      <th>0</th>\n",
       "      <td>World</td>\n",
       "      <td>—</td>\n",
       "      <td>93863851</td>\n",
       "      <td>2021</td>\n",
       "      <td>87461674</td>\n",
       "      <td>2020</td>\n",
       "      <td>96100091</td>\n",
       "      <td>2021</td>\n",
       "    </tr>\n",
       "    <tr>\n",
       "      <th>1</th>\n",
       "      <td>United States</td>\n",
       "      <td>Americas</td>\n",
       "      <td>25346805</td>\n",
       "      <td>2022</td>\n",
       "      <td>20893746</td>\n",
       "      <td>2020</td>\n",
       "      <td>22996100</td>\n",
       "      <td>2021</td>\n",
       "    </tr>\n",
       "    <tr>\n",
       "      <th>2</th>\n",
       "      <td>China</td>\n",
       "      <td>Asia</td>\n",
       "      <td>19911593</td>\n",
       "      <td>[n 2]2022</td>\n",
       "      <td>14722801</td>\n",
       "      <td>[n 3]2020</td>\n",
       "      <td>17734063</td>\n",
       "      <td>2021</td>\n",
       "    </tr>\n",
       "    <tr>\n",
       "      <th>3</th>\n",
       "      <td>Japan</td>\n",
       "      <td>Asia</td>\n",
       "      <td>4912147</td>\n",
       "      <td>2022</td>\n",
       "      <td>5057759</td>\n",
       "      <td>2020</td>\n",
       "      <td>4937422</td>\n",
       "      <td>2021</td>\n",
       "    </tr>\n",
       "    <tr>\n",
       "      <th>4</th>\n",
       "      <td>Germany</td>\n",
       "      <td>Europe</td>\n",
       "      <td>4256540</td>\n",
       "      <td>2022</td>\n",
       "      <td>3846414</td>\n",
       "      <td>2020</td>\n",
       "      <td>4223116</td>\n",
       "      <td>2021</td>\n",
       "    </tr>\n",
       "    <tr>\n",
       "      <th>...</th>\n",
       "      <td>...</td>\n",
       "      <td>...</td>\n",
       "      <td>...</td>\n",
       "      <td>...</td>\n",
       "      <td>...</td>\n",
       "      <td>...</td>\n",
       "      <td>...</td>\n",
       "      <td>...</td>\n",
       "    </tr>\n",
       "    <tr>\n",
       "      <th>212</th>\n",
       "      <td>Palau</td>\n",
       "      <td>Oceania</td>\n",
       "      <td>244</td>\n",
       "      <td>2022</td>\n",
       "      <td>264</td>\n",
       "      <td>2020</td>\n",
       "      <td>258</td>\n",
       "      <td>2020</td>\n",
       "    </tr>\n",
       "    <tr>\n",
       "      <th>213</th>\n",
       "      <td>Kiribati</td>\n",
       "      <td>Oceania</td>\n",
       "      <td>216</td>\n",
       "      <td>2022</td>\n",
       "      <td>181</td>\n",
       "      <td>2020</td>\n",
       "      <td>181</td>\n",
       "      <td>2020</td>\n",
       "    </tr>\n",
       "    <tr>\n",
       "      <th>214</th>\n",
       "      <td>Nauru</td>\n",
       "      <td>Oceania</td>\n",
       "      <td>134</td>\n",
       "      <td>2022</td>\n",
       "      <td>135</td>\n",
       "      <td>2020</td>\n",
       "      <td>133</td>\n",
       "      <td>2021</td>\n",
       "    </tr>\n",
       "    <tr>\n",
       "      <th>215</th>\n",
       "      <td>Montserrat</td>\n",
       "      <td>Americas</td>\n",
       "      <td>—</td>\n",
       "      <td>—</td>\n",
       "      <td>68</td>\n",
       "      <td>2020</td>\n",
       "      <td>—</td>\n",
       "      <td>—</td>\n",
       "    </tr>\n",
       "    <tr>\n",
       "      <th>216</th>\n",
       "      <td>Tuvalu</td>\n",
       "      <td>Oceania</td>\n",
       "      <td>66</td>\n",
       "      <td>2022</td>\n",
       "      <td>55</td>\n",
       "      <td>2020</td>\n",
       "      <td>63</td>\n",
       "      <td>2021</td>\n",
       "    </tr>\n",
       "  </tbody>\n",
       "</table>\n",
       "<p>217 rows × 8 columns</p>\n",
       "</div>"
      ],
      "text/plain": [
       "    Country/Territory UN Region IMF[1][13]            United Nations[14]  \\\n",
       "    Country/Territory UN Region   Estimate       Year           Estimate   \n",
       "0               World         —   93863851       2021           87461674   \n",
       "1       United States  Americas   25346805       2022           20893746   \n",
       "2               China      Asia   19911593  [n 2]2022           14722801   \n",
       "3               Japan      Asia    4912147       2022            5057759   \n",
       "4             Germany    Europe    4256540       2022            3846414   \n",
       "..                ...       ...        ...        ...                ...   \n",
       "212             Palau   Oceania        244       2022                264   \n",
       "213          Kiribati   Oceania        216       2022                181   \n",
       "214             Nauru   Oceania        134       2022                135   \n",
       "215        Montserrat  Americas          —          —                 68   \n",
       "216            Tuvalu   Oceania         66       2022                 55   \n",
       "\n",
       "               World Bank[15]        \n",
       "          Year       Estimate  Year  \n",
       "0         2020       96100091  2021  \n",
       "1         2020       22996100  2021  \n",
       "2    [n 3]2020       17734063  2021  \n",
       "3         2020        4937422  2021  \n",
       "4         2020        4223116  2021  \n",
       "..         ...            ...   ...  \n",
       "212       2020            258  2020  \n",
       "213       2020            181  2020  \n",
       "214       2020            133  2021  \n",
       "215       2020              —     —  \n",
       "216       2020             63  2021  \n",
       "\n",
       "[217 rows x 8 columns]"
      ]
     },
     "execution_count": 26,
     "metadata": {},
     "output_type": "execute_result"
    }
   ],
   "source": [
    "df"
   ]
  },
  {
   "cell_type": "code",
   "execution_count": 32,
   "id": "f7e01c9e",
   "metadata": {
    "slideshow": {
     "slide_type": "slide"
    }
   },
   "outputs": [
    {
     "data": {
      "text/plain": [
       "MultiIndex([( 'Country/Territory', 'Country/Territory'),\n",
       "            (         'UN Region',         'UN Region'),\n",
       "            (        'IMF[1][13]',          'Estimate'),\n",
       "            (        'IMF[1][13]',              'Year'),\n",
       "            ('United Nations[14]',          'Estimate'),\n",
       "            ('United Nations[14]',              'Year'),\n",
       "            (    'World Bank[15]',          'Estimate'),\n",
       "            (    'World Bank[15]',              'Year')],\n",
       "           )"
      ]
     },
     "execution_count": 32,
     "metadata": {},
     "output_type": "execute_result"
    }
   ],
   "source": [
    "df.columns"
   ]
  },
  {
   "cell_type": "code",
   "execution_count": 14,
   "id": "a0b99163",
   "metadata": {},
   "outputs": [
    {
     "data": {
      "text/plain": [
       "0      87461674\n",
       "1      20893746\n",
       "2      14722801\n",
       "3       5057759\n",
       "4       3846414\n",
       "         ...   \n",
       "212         264\n",
       "213         181\n",
       "214         135\n",
       "215          68\n",
       "216          55\n",
       "Name: (United Nations[14], Estimate), Length: 217, dtype: object"
      ]
     },
     "execution_count": 14,
     "metadata": {},
     "output_type": "execute_result"
    }
   ],
   "source": [
    "df[df.columns[4]]"
   ]
  },
  {
   "cell_type": "markdown",
   "id": "c3603762",
   "metadata": {
    "slideshow": {
     "slide_type": "slide"
    }
   },
   "source": [
    "The table is currently sorted by the IMF estimate. We can sort with any colum. Let's sort by the UN estimate:"
   ]
  },
  {
   "cell_type": "code",
   "execution_count": 19,
   "id": "7eb80331",
   "metadata": {},
   "outputs": [
    {
     "data": {
      "text/plain": [
       "('United Nations[14]', 'Estimate')"
      ]
     },
     "execution_count": 19,
     "metadata": {},
     "output_type": "execute_result"
    }
   ],
   "source": [
    "df.columns[4]"
   ]
  },
  {
   "cell_type": "code",
   "execution_count": 20,
   "id": "e7510749",
   "metadata": {},
   "outputs": [],
   "source": [
    "un = df.sort_values(by=df.columns[4], ascending=True)\n",
    "# equivalent to by = ('United Nations[14], 'Estimate')"
   ]
  },
  {
   "cell_type": "code",
   "execution_count": 21,
   "id": "ac27e694",
   "metadata": {},
   "outputs": [
    {
     "data": {
      "text/html": [
       "<div>\n",
       "<style scoped>\n",
       "    .dataframe tbody tr th:only-of-type {\n",
       "        vertical-align: middle;\n",
       "    }\n",
       "\n",
       "    .dataframe tbody tr th {\n",
       "        vertical-align: top;\n",
       "    }\n",
       "\n",
       "    .dataframe thead tr th {\n",
       "        text-align: left;\n",
       "    }\n",
       "</style>\n",
       "<table border=\"1\" class=\"dataframe\">\n",
       "  <thead>\n",
       "    <tr>\n",
       "      <th></th>\n",
       "      <th>Country/Territory</th>\n",
       "      <th>UN Region</th>\n",
       "      <th colspan=\"2\" halign=\"left\">IMF[1][13]</th>\n",
       "      <th colspan=\"2\" halign=\"left\">United Nations[14]</th>\n",
       "      <th colspan=\"2\" halign=\"left\">World Bank[15]</th>\n",
       "    </tr>\n",
       "    <tr>\n",
       "      <th></th>\n",
       "      <th>Country/Territory</th>\n",
       "      <th>UN Region</th>\n",
       "      <th>Estimate</th>\n",
       "      <th>Year</th>\n",
       "      <th>Estimate</th>\n",
       "      <th>Year</th>\n",
       "      <th>Estimate</th>\n",
       "      <th>Year</th>\n",
       "    </tr>\n",
       "  </thead>\n",
       "  <tbody>\n",
       "    <tr>\n",
       "      <th>133</th>\n",
       "      <td>Equatorial Guinea</td>\n",
       "      <td>Africa</td>\n",
       "      <td>16335</td>\n",
       "      <td>2022</td>\n",
       "      <td>10022</td>\n",
       "      <td>2020</td>\n",
       "      <td>12269</td>\n",
       "      <td>2021</td>\n",
       "    </tr>\n",
       "    <tr>\n",
       "      <th>134</th>\n",
       "      <td>Congo</td>\n",
       "      <td>Africa</td>\n",
       "      <td>15951</td>\n",
       "      <td>2022</td>\n",
       "      <td>10100</td>\n",
       "      <td>2020</td>\n",
       "      <td>12524</td>\n",
       "      <td>2021</td>\n",
       "    </tr>\n",
       "    <tr>\n",
       "      <th>65</th>\n",
       "      <td>Kenya</td>\n",
       "      <td>Africa</td>\n",
       "      <td>114679</td>\n",
       "      <td>2022</td>\n",
       "      <td>101014</td>\n",
       "      <td>2020</td>\n",
       "      <td>110347</td>\n",
       "      <td>2021</td>\n",
       "    </tr>\n",
       "    <tr>\n",
       "      <th>63</th>\n",
       "      <td>Puerto Rico</td>\n",
       "      <td>Americas</td>\n",
       "      <td>116762</td>\n",
       "      <td>2022</td>\n",
       "      <td>103138</td>\n",
       "      <td>2020</td>\n",
       "      <td>103138</td>\n",
       "      <td>2020</td>\n",
       "    </tr>\n",
       "    <tr>\n",
       "      <th>148</th>\n",
       "      <td>Rwanda</td>\n",
       "      <td>Africa</td>\n",
       "      <td>12060</td>\n",
       "      <td>2022</td>\n",
       "      <td>10332</td>\n",
       "      <td>2020</td>\n",
       "      <td>11070</td>\n",
       "      <td>2021</td>\n",
       "    </tr>\n",
       "    <tr>\n",
       "      <th>...</th>\n",
       "      <td>...</td>\n",
       "      <td>...</td>\n",
       "      <td>...</td>\n",
       "      <td>...</td>\n",
       "      <td>...</td>\n",
       "      <td>...</td>\n",
       "      <td>...</td>\n",
       "      <td>...</td>\n",
       "    </tr>\n",
       "    <tr>\n",
       "      <th>64</th>\n",
       "      <td>Ecuador</td>\n",
       "      <td>Americas</td>\n",
       "      <td>115462</td>\n",
       "      <td>2022</td>\n",
       "      <td>98808</td>\n",
       "      <td>2020</td>\n",
       "      <td>106166</td>\n",
       "      <td>2021</td>\n",
       "    </tr>\n",
       "    <tr>\n",
       "      <th>147</th>\n",
       "      <td>Bahamas</td>\n",
       "      <td>Americas</td>\n",
       "      <td>12627</td>\n",
       "      <td>2022</td>\n",
       "      <td>9908</td>\n",
       "      <td>2020</td>\n",
       "      <td>11209</td>\n",
       "      <td>2021</td>\n",
       "    </tr>\n",
       "    <tr>\n",
       "      <th>197</th>\n",
       "      <td>Northern Mariana Islands</td>\n",
       "      <td>Oceania</td>\n",
       "      <td>—</td>\n",
       "      <td>—</td>\n",
       "      <td>—</td>\n",
       "      <td>—</td>\n",
       "      <td>1182</td>\n",
       "      <td>2019</td>\n",
       "    </tr>\n",
       "    <tr>\n",
       "      <th>204</th>\n",
       "      <td>American Samoa</td>\n",
       "      <td>Oceania</td>\n",
       "      <td>—</td>\n",
       "      <td>—</td>\n",
       "      <td>—</td>\n",
       "      <td>—</td>\n",
       "      <td>709</td>\n",
       "      <td>2020</td>\n",
       "    </tr>\n",
       "    <tr>\n",
       "      <th>163</th>\n",
       "      <td>Guam</td>\n",
       "      <td>Oceania</td>\n",
       "      <td>—</td>\n",
       "      <td>—</td>\n",
       "      <td>—</td>\n",
       "      <td>—</td>\n",
       "      <td>5844</td>\n",
       "      <td>2020</td>\n",
       "    </tr>\n",
       "  </tbody>\n",
       "</table>\n",
       "<p>217 rows × 8 columns</p>\n",
       "</div>"
      ],
      "text/plain": [
       "            Country/Territory UN Region IMF[1][13]       United Nations[14]  \\\n",
       "            Country/Territory UN Region   Estimate  Year           Estimate   \n",
       "133         Equatorial Guinea    Africa      16335  2022              10022   \n",
       "134                     Congo    Africa      15951  2022              10100   \n",
       "65                      Kenya    Africa     114679  2022             101014   \n",
       "63                Puerto Rico  Americas     116762  2022             103138   \n",
       "148                    Rwanda    Africa      12060  2022              10332   \n",
       "..                        ...       ...        ...   ...                ...   \n",
       "64                    Ecuador  Americas     115462  2022              98808   \n",
       "147                   Bahamas  Americas      12627  2022               9908   \n",
       "197  Northern Mariana Islands   Oceania          —     —                  —   \n",
       "204            American Samoa   Oceania          —     —                  —   \n",
       "163                      Guam   Oceania          —     —                  —   \n",
       "\n",
       "          World Bank[15]        \n",
       "     Year       Estimate  Year  \n",
       "133  2020          12269  2021  \n",
       "134  2020          12524  2021  \n",
       "65   2020         110347  2021  \n",
       "63   2020         103138  2020  \n",
       "148  2020          11070  2021  \n",
       "..    ...            ...   ...  \n",
       "64   2020         106166  2021  \n",
       "147  2020          11209  2021  \n",
       "197     —           1182  2019  \n",
       "204     —            709  2020  \n",
       "163     —           5844  2020  \n",
       "\n",
       "[217 rows x 8 columns]"
      ]
     },
     "execution_count": 21,
     "metadata": {},
     "output_type": "execute_result"
    }
   ],
   "source": [
    "un"
   ]
  },
  {
   "cell_type": "code",
   "execution_count": 25,
   "id": "361c4e0f",
   "metadata": {},
   "outputs": [
    {
     "data": {
      "text/html": [
       "<div>\n",
       "<style scoped>\n",
       "    .dataframe tbody tr th:only-of-type {\n",
       "        vertical-align: middle;\n",
       "    }\n",
       "\n",
       "    .dataframe tbody tr th {\n",
       "        vertical-align: top;\n",
       "    }\n",
       "\n",
       "    .dataframe thead tr th {\n",
       "        text-align: left;\n",
       "    }\n",
       "</style>\n",
       "<table border=\"1\" class=\"dataframe\">\n",
       "  <thead>\n",
       "    <tr>\n",
       "      <th></th>\n",
       "      <th>Country/Territory</th>\n",
       "      <th>UN Region</th>\n",
       "      <th colspan=\"2\" halign=\"left\">IMF[1][13]</th>\n",
       "      <th colspan=\"2\" halign=\"left\">United Nations[14]</th>\n",
       "      <th colspan=\"2\" halign=\"left\">World Bank[15]</th>\n",
       "    </tr>\n",
       "    <tr>\n",
       "      <th></th>\n",
       "      <th>Country/Territory</th>\n",
       "      <th>UN Region</th>\n",
       "      <th>Estimate</th>\n",
       "      <th>Year</th>\n",
       "      <th>Estimate</th>\n",
       "      <th>Year</th>\n",
       "      <th>Estimate</th>\n",
       "      <th>Year</th>\n",
       "    </tr>\n",
       "  </thead>\n",
       "  <tbody>\n",
       "    <tr>\n",
       "      <th>19</th>\n",
       "      <td>Netherlands</td>\n",
       "      <td>Europe</td>\n",
       "      <td>1013595</td>\n",
       "      <td>2022</td>\n",
       "      <td>913865</td>\n",
       "      <td>2020</td>\n",
       "      <td>1018007</td>\n",
       "      <td>2021</td>\n",
       "    </tr>\n",
       "    <tr>\n",
       "      <th>63</th>\n",
       "      <td>Puerto Rico</td>\n",
       "      <td>Americas</td>\n",
       "      <td>116762</td>\n",
       "      <td>2022</td>\n",
       "      <td>103138</td>\n",
       "      <td>2020</td>\n",
       "      <td>103138</td>\n",
       "      <td>2020</td>\n",
       "    </tr>\n",
       "    <tr>\n",
       "      <th>59</th>\n",
       "      <td>Kuwait</td>\n",
       "      <td>Asia</td>\n",
       "      <td>186610</td>\n",
       "      <td>2022</td>\n",
       "      <td>105949</td>\n",
       "      <td>2020</td>\n",
       "      <td>105960</td>\n",
       "      <td>2020</td>\n",
       "    </tr>\n",
       "    <tr>\n",
       "      <th>64</th>\n",
       "      <td>Ecuador</td>\n",
       "      <td>Americas</td>\n",
       "      <td>115462</td>\n",
       "      <td>2022</td>\n",
       "      <td>98808</td>\n",
       "      <td>2020</td>\n",
       "      <td>106166</td>\n",
       "      <td>2021</td>\n",
       "    </tr>\n",
       "    <tr>\n",
       "      <th>68</th>\n",
       "      <td>Cuba</td>\n",
       "      <td>Americas</td>\n",
       "      <td>—</td>\n",
       "      <td>—</td>\n",
       "      <td>107352</td>\n",
       "      <td>2020</td>\n",
       "      <td>107352</td>\n",
       "      <td>2020</td>\n",
       "    </tr>\n",
       "    <tr>\n",
       "      <th>...</th>\n",
       "      <td>...</td>\n",
       "      <td>...</td>\n",
       "      <td>...</td>\n",
       "      <td>...</td>\n",
       "      <td>...</td>\n",
       "      <td>...</td>\n",
       "      <td>...</td>\n",
       "      <td>...</td>\n",
       "    </tr>\n",
       "    <tr>\n",
       "      <th>209</th>\n",
       "      <td>Cook Islands</td>\n",
       "      <td>Oceania</td>\n",
       "      <td>—</td>\n",
       "      <td>—</td>\n",
       "      <td>283</td>\n",
       "      <td>2020</td>\n",
       "      <td>—</td>\n",
       "      <td>—</td>\n",
       "    </tr>\n",
       "    <tr>\n",
       "      <th>211</th>\n",
       "      <td>Anguilla</td>\n",
       "      <td>Americas</td>\n",
       "      <td>—</td>\n",
       "      <td>—</td>\n",
       "      <td>258</td>\n",
       "      <td>2020</td>\n",
       "      <td>—</td>\n",
       "      <td>—</td>\n",
       "    </tr>\n",
       "    <tr>\n",
       "      <th>135</th>\n",
       "      <td>North Korea</td>\n",
       "      <td>Asia</td>\n",
       "      <td>—</td>\n",
       "      <td>—</td>\n",
       "      <td>15847</td>\n",
       "      <td>2020</td>\n",
       "      <td>—</td>\n",
       "      <td>—</td>\n",
       "    </tr>\n",
       "    <tr>\n",
       "      <th>194</th>\n",
       "      <td>British Virgin Islands</td>\n",
       "      <td>Americas</td>\n",
       "      <td>—</td>\n",
       "      <td>—</td>\n",
       "      <td>1492</td>\n",
       "      <td>2020</td>\n",
       "      <td>—</td>\n",
       "      <td>—</td>\n",
       "    </tr>\n",
       "    <tr>\n",
       "      <th>189</th>\n",
       "      <td>Zanzibar</td>\n",
       "      <td>Africa</td>\n",
       "      <td>—</td>\n",
       "      <td>—</td>\n",
       "      <td>1724</td>\n",
       "      <td>2020</td>\n",
       "      <td>—</td>\n",
       "      <td>—</td>\n",
       "    </tr>\n",
       "  </tbody>\n",
       "</table>\n",
       "<p>217 rows × 8 columns</p>\n",
       "</div>"
      ],
      "text/plain": [
       "          Country/Territory UN Region IMF[1][13]       United Nations[14]  \\\n",
       "          Country/Territory UN Region   Estimate  Year           Estimate   \n",
       "19              Netherlands    Europe    1013595  2022             913865   \n",
       "63              Puerto Rico  Americas     116762  2022             103138   \n",
       "59                   Kuwait      Asia     186610  2022             105949   \n",
       "64                  Ecuador  Americas     115462  2022              98808   \n",
       "68                     Cuba  Americas          —     —             107352   \n",
       "..                      ...       ...        ...   ...                ...   \n",
       "209            Cook Islands   Oceania          —     —                283   \n",
       "211                Anguilla  Americas          —     —                258   \n",
       "135             North Korea      Asia          —     —              15847   \n",
       "194  British Virgin Islands  Americas          —     —               1492   \n",
       "189                Zanzibar    Africa          —     —               1724   \n",
       "\n",
       "          World Bank[15]        \n",
       "     Year       Estimate  Year  \n",
       "19   2020        1018007  2021  \n",
       "63   2020         103138  2020  \n",
       "59   2020         105960  2020  \n",
       "64   2020         106166  2021  \n",
       "68   2020         107352  2020  \n",
       "..    ...            ...   ...  \n",
       "209  2020              —     —  \n",
       "211  2020              —     —  \n",
       "135  2020              —     —  \n",
       "194  2020              —     —  \n",
       "189  2020              —     —  \n",
       "\n",
       "[217 rows x 8 columns]"
      ]
     },
     "execution_count": 25,
     "metadata": {},
     "output_type": "execute_result"
    }
   ],
   "source": [
    "wb = df.sort_values(by=df.columns[6], ascending=True)\n",
    "wb"
   ]
  },
  {
   "cell_type": "markdown",
   "id": "674de51f",
   "metadata": {},
   "source": [
    "What goes wrong?"
   ]
  },
  {
   "cell_type": "code",
   "execution_count": 28,
   "id": "ed440510",
   "metadata": {},
   "outputs": [
    {
     "data": {
      "text/plain": [
       "19     1018007.0\n",
       "63      103138.0\n",
       "59      105960.0\n",
       "64      106166.0\n",
       "68      107352.0\n",
       "         ...    \n",
       "209          NaN\n",
       "211          NaN\n",
       "135          NaN\n",
       "194          NaN\n",
       "189          NaN\n",
       "Name: (World Bank[15], Estimate), Length: 217, dtype: float64"
      ]
     },
     "execution_count": 28,
     "metadata": {},
     "output_type": "execute_result"
    }
   ],
   "source": [
    "wb[df.columns[6]]"
   ]
  },
  {
   "cell_type": "code",
   "execution_count": 29,
   "id": "24273256",
   "metadata": {},
   "outputs": [],
   "source": [
    "wb[df.columns[6]] = pd.to_numeric(wb[df.columns[6]], errors='coerce')"
   ]
  },
  {
   "cell_type": "code",
   "execution_count": 30,
   "id": "6cba7c78",
   "metadata": {},
   "outputs": [
    {
     "data": {
      "text/plain": [
       "19     1018007.0\n",
       "63      103138.0\n",
       "59      105960.0\n",
       "64      106166.0\n",
       "68      107352.0\n",
       "         ...    \n",
       "209          NaN\n",
       "211          NaN\n",
       "135          NaN\n",
       "194          NaN\n",
       "189          NaN\n",
       "Name: (World Bank[15], Estimate), Length: 217, dtype: float64"
      ]
     },
     "execution_count": 30,
     "metadata": {},
     "output_type": "execute_result"
    }
   ],
   "source": [
    "wb[df.columns[6]]"
   ]
  },
  {
   "cell_type": "code",
   "execution_count": 34,
   "id": "06a987dd",
   "metadata": {},
   "outputs": [
    {
     "data": {
      "text/html": [
       "<div>\n",
       "<style scoped>\n",
       "    .dataframe tbody tr th:only-of-type {\n",
       "        vertical-align: middle;\n",
       "    }\n",
       "\n",
       "    .dataframe tbody tr th {\n",
       "        vertical-align: top;\n",
       "    }\n",
       "\n",
       "    .dataframe thead tr th {\n",
       "        text-align: left;\n",
       "    }\n",
       "</style>\n",
       "<table border=\"1\" class=\"dataframe\">\n",
       "  <thead>\n",
       "    <tr>\n",
       "      <th></th>\n",
       "      <th>Country/Territory</th>\n",
       "      <th>UN Region</th>\n",
       "      <th colspan=\"2\" halign=\"left\">IMF[1][13]</th>\n",
       "      <th colspan=\"2\" halign=\"left\">United Nations[14]</th>\n",
       "      <th colspan=\"2\" halign=\"left\">World Bank[15]</th>\n",
       "    </tr>\n",
       "    <tr>\n",
       "      <th></th>\n",
       "      <th>Country/Territory</th>\n",
       "      <th>UN Region</th>\n",
       "      <th>Estimate</th>\n",
       "      <th>Year</th>\n",
       "      <th>Estimate</th>\n",
       "      <th>Year</th>\n",
       "      <th>Estimate</th>\n",
       "      <th>Year</th>\n",
       "    </tr>\n",
       "  </thead>\n",
       "  <tbody>\n",
       "    <tr>\n",
       "      <th>0</th>\n",
       "      <td>World</td>\n",
       "      <td>—</td>\n",
       "      <td>93863851</td>\n",
       "      <td>2021</td>\n",
       "      <td>87461674</td>\n",
       "      <td>2020</td>\n",
       "      <td>96100091.0</td>\n",
       "      <td>2021</td>\n",
       "    </tr>\n",
       "    <tr>\n",
       "      <th>1</th>\n",
       "      <td>United States</td>\n",
       "      <td>Americas</td>\n",
       "      <td>25346805</td>\n",
       "      <td>2022</td>\n",
       "      <td>20893746</td>\n",
       "      <td>2020</td>\n",
       "      <td>22996100.0</td>\n",
       "      <td>2021</td>\n",
       "    </tr>\n",
       "    <tr>\n",
       "      <th>2</th>\n",
       "      <td>China</td>\n",
       "      <td>Asia</td>\n",
       "      <td>19911593</td>\n",
       "      <td>[n 2]2022</td>\n",
       "      <td>14722801</td>\n",
       "      <td>[n 3]2020</td>\n",
       "      <td>17734063.0</td>\n",
       "      <td>2021</td>\n",
       "    </tr>\n",
       "    <tr>\n",
       "      <th>3</th>\n",
       "      <td>Japan</td>\n",
       "      <td>Asia</td>\n",
       "      <td>4912147</td>\n",
       "      <td>2022</td>\n",
       "      <td>5057759</td>\n",
       "      <td>2020</td>\n",
       "      <td>4937422.0</td>\n",
       "      <td>2021</td>\n",
       "    </tr>\n",
       "    <tr>\n",
       "      <th>4</th>\n",
       "      <td>Germany</td>\n",
       "      <td>Europe</td>\n",
       "      <td>4256540</td>\n",
       "      <td>2022</td>\n",
       "      <td>3846414</td>\n",
       "      <td>2020</td>\n",
       "      <td>4223116.0</td>\n",
       "      <td>2021</td>\n",
       "    </tr>\n",
       "    <tr>\n",
       "      <th>...</th>\n",
       "      <td>...</td>\n",
       "      <td>...</td>\n",
       "      <td>...</td>\n",
       "      <td>...</td>\n",
       "      <td>...</td>\n",
       "      <td>...</td>\n",
       "      <td>...</td>\n",
       "      <td>...</td>\n",
       "    </tr>\n",
       "    <tr>\n",
       "      <th>209</th>\n",
       "      <td>Cook Islands</td>\n",
       "      <td>Oceania</td>\n",
       "      <td>—</td>\n",
       "      <td>—</td>\n",
       "      <td>283</td>\n",
       "      <td>2020</td>\n",
       "      <td>NaN</td>\n",
       "      <td>—</td>\n",
       "    </tr>\n",
       "    <tr>\n",
       "      <th>211</th>\n",
       "      <td>Anguilla</td>\n",
       "      <td>Americas</td>\n",
       "      <td>—</td>\n",
       "      <td>—</td>\n",
       "      <td>258</td>\n",
       "      <td>2020</td>\n",
       "      <td>NaN</td>\n",
       "      <td>—</td>\n",
       "    </tr>\n",
       "    <tr>\n",
       "      <th>135</th>\n",
       "      <td>North Korea</td>\n",
       "      <td>Asia</td>\n",
       "      <td>—</td>\n",
       "      <td>—</td>\n",
       "      <td>15847</td>\n",
       "      <td>2020</td>\n",
       "      <td>NaN</td>\n",
       "      <td>—</td>\n",
       "    </tr>\n",
       "    <tr>\n",
       "      <th>194</th>\n",
       "      <td>British Virgin Islands</td>\n",
       "      <td>Americas</td>\n",
       "      <td>—</td>\n",
       "      <td>—</td>\n",
       "      <td>1492</td>\n",
       "      <td>2020</td>\n",
       "      <td>NaN</td>\n",
       "      <td>—</td>\n",
       "    </tr>\n",
       "    <tr>\n",
       "      <th>189</th>\n",
       "      <td>Zanzibar</td>\n",
       "      <td>Africa</td>\n",
       "      <td>—</td>\n",
       "      <td>—</td>\n",
       "      <td>1724</td>\n",
       "      <td>2020</td>\n",
       "      <td>NaN</td>\n",
       "      <td>—</td>\n",
       "    </tr>\n",
       "  </tbody>\n",
       "</table>\n",
       "<p>217 rows × 8 columns</p>\n",
       "</div>"
      ],
      "text/plain": [
       "          Country/Territory UN Region IMF[1][13]             \\\n",
       "          Country/Territory UN Region   Estimate       Year   \n",
       "0                     World         —   93863851       2021   \n",
       "1             United States  Americas   25346805       2022   \n",
       "2                     China      Asia   19911593  [n 2]2022   \n",
       "3                     Japan      Asia    4912147       2022   \n",
       "4                   Germany    Europe    4256540       2022   \n",
       "..                      ...       ...        ...        ...   \n",
       "209            Cook Islands   Oceania          —          —   \n",
       "211                Anguilla  Americas          —          —   \n",
       "135             North Korea      Asia          —          —   \n",
       "194  British Virgin Islands  Americas          —          —   \n",
       "189                Zanzibar    Africa          —          —   \n",
       "\n",
       "    United Nations[14]            World Bank[15]        \n",
       "              Estimate       Year       Estimate  Year  \n",
       "0             87461674       2020     96100091.0  2021  \n",
       "1             20893746       2020     22996100.0  2021  \n",
       "2             14722801  [n 3]2020     17734063.0  2021  \n",
       "3              5057759       2020      4937422.0  2021  \n",
       "4              3846414       2020      4223116.0  2021  \n",
       "..                 ...        ...            ...   ...  \n",
       "209                283       2020            NaN     —  \n",
       "211                258       2020            NaN     —  \n",
       "135              15847       2020            NaN     —  \n",
       "194               1492       2020            NaN     —  \n",
       "189               1724       2020            NaN     —  \n",
       "\n",
       "[217 rows x 8 columns]"
      ]
     },
     "execution_count": 34,
     "metadata": {},
     "output_type": "execute_result"
    }
   ],
   "source": [
    "wb = wb.sort_values(by=df.columns[6], ascending=False)\n",
    "wb"
   ]
  },
  {
   "cell_type": "markdown",
   "id": "02ba4a1b",
   "metadata": {},
   "source": [
    "### Let's say we want to compute the sum of the GDP in Asia and Compare it to the Americas. We use the IMF estimate for this: "
   ]
  },
  {
   "cell_type": "code",
   "execution_count": 36,
   "id": "c3d984c3",
   "metadata": {},
   "outputs": [
    {
     "data": {
      "text/html": [
       "<div>\n",
       "<style scoped>\n",
       "    .dataframe tbody tr th:only-of-type {\n",
       "        vertical-align: middle;\n",
       "    }\n",
       "\n",
       "    .dataframe tbody tr th {\n",
       "        vertical-align: top;\n",
       "    }\n",
       "\n",
       "    .dataframe thead tr th {\n",
       "        text-align: left;\n",
       "    }\n",
       "</style>\n",
       "<table border=\"1\" class=\"dataframe\">\n",
       "  <thead>\n",
       "    <tr>\n",
       "      <th></th>\n",
       "      <th>UN Region</th>\n",
       "      <th>IMF[1][13]</th>\n",
       "    </tr>\n",
       "    <tr>\n",
       "      <th></th>\n",
       "      <th>UN Region</th>\n",
       "      <th>Estimate</th>\n",
       "    </tr>\n",
       "  </thead>\n",
       "  <tbody>\n",
       "    <tr>\n",
       "      <th>0</th>\n",
       "      <td>—</td>\n",
       "      <td>93863851</td>\n",
       "    </tr>\n",
       "    <tr>\n",
       "      <th>1</th>\n",
       "      <td>Americas</td>\n",
       "      <td>25346805</td>\n",
       "    </tr>\n",
       "    <tr>\n",
       "      <th>2</th>\n",
       "      <td>Asia</td>\n",
       "      <td>19911593</td>\n",
       "    </tr>\n",
       "    <tr>\n",
       "      <th>3</th>\n",
       "      <td>Asia</td>\n",
       "      <td>4912147</td>\n",
       "    </tr>\n",
       "    <tr>\n",
       "      <th>4</th>\n",
       "      <td>Europe</td>\n",
       "      <td>4256540</td>\n",
       "    </tr>\n",
       "    <tr>\n",
       "      <th>...</th>\n",
       "      <td>...</td>\n",
       "      <td>...</td>\n",
       "    </tr>\n",
       "    <tr>\n",
       "      <th>212</th>\n",
       "      <td>Oceania</td>\n",
       "      <td>244</td>\n",
       "    </tr>\n",
       "    <tr>\n",
       "      <th>213</th>\n",
       "      <td>Oceania</td>\n",
       "      <td>216</td>\n",
       "    </tr>\n",
       "    <tr>\n",
       "      <th>214</th>\n",
       "      <td>Oceania</td>\n",
       "      <td>134</td>\n",
       "    </tr>\n",
       "    <tr>\n",
       "      <th>215</th>\n",
       "      <td>Americas</td>\n",
       "      <td>—</td>\n",
       "    </tr>\n",
       "    <tr>\n",
       "      <th>216</th>\n",
       "      <td>Oceania</td>\n",
       "      <td>66</td>\n",
       "    </tr>\n",
       "  </tbody>\n",
       "</table>\n",
       "<p>217 rows × 2 columns</p>\n",
       "</div>"
      ],
      "text/plain": [
       "    UN Region IMF[1][13]\n",
       "    UN Region   Estimate\n",
       "0           —   93863851\n",
       "1    Americas   25346805\n",
       "2        Asia   19911593\n",
       "3        Asia    4912147\n",
       "4      Europe    4256540\n",
       "..        ...        ...\n",
       "212   Oceania        244\n",
       "213   Oceania        216\n",
       "214   Oceania        134\n",
       "215  Americas          —\n",
       "216   Oceania         66\n",
       "\n",
       "[217 rows x 2 columns]"
      ]
     },
     "execution_count": 36,
     "metadata": {},
     "output_type": "execute_result"
    }
   ],
   "source": [
    "region = df.columns[1]\n",
    "est = df.columns[2]\n",
    "A = df[[region,est]]\n",
    "A"
   ]
  },
  {
   "cell_type": "code",
   "execution_count": 37,
   "id": "c1cca1bc",
   "metadata": {},
   "outputs": [
    {
     "data": {
      "text/html": [
       "<div>\n",
       "<style scoped>\n",
       "    .dataframe tbody tr th:only-of-type {\n",
       "        vertical-align: middle;\n",
       "    }\n",
       "\n",
       "    .dataframe tbody tr th {\n",
       "        vertical-align: top;\n",
       "    }\n",
       "\n",
       "    .dataframe thead tr th {\n",
       "        text-align: left;\n",
       "    }\n",
       "</style>\n",
       "<table border=\"1\" class=\"dataframe\">\n",
       "  <thead>\n",
       "    <tr>\n",
       "      <th></th>\n",
       "      <th>UN Region</th>\n",
       "      <th>IMF[1][13]</th>\n",
       "    </tr>\n",
       "    <tr>\n",
       "      <th></th>\n",
       "      <th>UN Region</th>\n",
       "      <th>Estimate</th>\n",
       "    </tr>\n",
       "  </thead>\n",
       "  <tbody>\n",
       "    <tr>\n",
       "      <th>1</th>\n",
       "      <td>Americas</td>\n",
       "      <td>25346805</td>\n",
       "    </tr>\n",
       "    <tr>\n",
       "      <th>8</th>\n",
       "      <td>Americas</td>\n",
       "      <td>2221218</td>\n",
       "    </tr>\n",
       "    <tr>\n",
       "      <th>10</th>\n",
       "      <td>Americas</td>\n",
       "      <td>1833274</td>\n",
       "    </tr>\n",
       "    <tr>\n",
       "      <th>16</th>\n",
       "      <td>Americas</td>\n",
       "      <td>1322740</td>\n",
       "    </tr>\n",
       "    <tr>\n",
       "      <th>26</th>\n",
       "      <td>Americas</td>\n",
       "      <td>564277</td>\n",
       "    </tr>\n",
       "  </tbody>\n",
       "</table>\n",
       "</div>"
      ],
      "text/plain": [
       "   UN Region IMF[1][13]\n",
       "   UN Region   Estimate\n",
       "1   Americas   25346805\n",
       "8   Americas    2221218\n",
       "10  Americas    1833274\n",
       "16  Americas    1322740\n",
       "26  Americas     564277"
      ]
     },
     "execution_count": 37,
     "metadata": {},
     "output_type": "execute_result"
    }
   ],
   "source": [
    "americas = A[A[region] == 'Americas']\n",
    "americas.head()"
   ]
  },
  {
   "cell_type": "code",
   "execution_count": 38,
   "id": "b563fe93",
   "metadata": {},
   "outputs": [],
   "source": [
    "asia = A[A[region] == 'Asia']"
   ]
  },
  {
   "cell_type": "code",
   "execution_count": 39,
   "id": "213d13b3",
   "metadata": {},
   "outputs": [],
   "source": [
    "asia_estimation = pd.to_numeric(asia[est], errors='coerce')\n",
    "americas_estimation = pd.to_numeric(americas[est], errors='coerce')"
   ]
  },
  {
   "cell_type": "code",
   "execution_count": 101,
   "id": "c37603f7",
   "metadata": {},
   "outputs": [
    {
     "name": "stdout",
     "output_type": "stream",
     "text": [
      "Asia \t 39851830.0\n",
      "Americas 33147336.0\n"
     ]
    }
   ],
   "source": [
    "print('Asia \\t', asia_estimation.sum())\n",
    "print('Americas', americas_estimation.sum())"
   ]
  },
  {
   "cell_type": "code",
   "execution_count": 44,
   "id": "edc578ab",
   "metadata": {},
   "outputs": [
    {
     "data": {
      "text/plain": [
       "nan"
      ]
     },
     "execution_count": 44,
     "metadata": {},
     "output_type": "execute_result"
    }
   ],
   "source": [
    "sum(asia_estimation)"
   ]
  },
  {
   "cell_type": "code",
   "execution_count": 46,
   "id": "0241af3c",
   "metadata": {},
   "outputs": [],
   "source": [
    "from numpy import *"
   ]
  },
  {
   "cell_type": "code",
   "execution_count": 47,
   "id": "e82abd55",
   "metadata": {},
   "outputs": [
    {
     "data": {
      "text/plain": [
       "39851830.0"
      ]
     },
     "execution_count": 47,
     "metadata": {},
     "output_type": "execute_result"
    }
   ],
   "source": [
    "sum(asia_estimation)"
   ]
  },
  {
   "cell_type": "markdown",
   "id": "c5e0651f",
   "metadata": {},
   "source": [
    "# Web Scraping Live Demo\n",
    "\n",
    "Let's scrape http://books.toscrape.com/catalogue/page-1.html"
   ]
  }
 ],
 "metadata": {
  "celltoolbar": "Slideshow",
  "kernelspec": {
   "display_name": "Python 3 (ipykernel)",
   "language": "python",
   "name": "python3"
  },
  "language_info": {
   "codemirror_mode": {
    "name": "ipython",
    "version": 3
   },
   "file_extension": ".py",
   "mimetype": "text/x-python",
   "name": "python",
   "nbconvert_exporter": "python",
   "pygments_lexer": "ipython3",
   "version": "3.10.8"
  }
 },
 "nbformat": 4,
 "nbformat_minor": 5
}
