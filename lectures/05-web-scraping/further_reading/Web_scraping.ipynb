{
 "cells": [
  {
   "cell_type": "markdown",
   "metadata": {},
   "source": [
    "# Installation\n",
    "\n",
    "With conda, you can install the required dependencies with:\n",
    "\n",
    "```bash\n",
    "conda install bs4 requests lxml\n",
    "```\n"
   ]
  },
  {
   "cell_type": "markdown",
   "metadata": {},
   "source": [
    "# Basic usage of BeautifulSoup"
   ]
  },
  {
   "cell_type": "markdown",
   "metadata": {},
   "source": [
    "First, we import the `BeatifulSoup` class:"
   ]
  },
  {
   "cell_type": "code",
   "execution_count": 3,
   "metadata": {},
   "outputs": [],
   "source": [
    "from bs4 import BeautifulSoup"
   ]
  },
  {
   "cell_type": "markdown",
   "metadata": {},
   "source": [
    "We load the html source file from disk and pass the source the the BeautifulSoup constructor. We choose the \"lxml\" parser for XML documents, which is faster than the defaul parser that comes with BeautifulSoup:"
   ]
  },
  {
   "cell_type": "code",
   "execution_count": 4,
   "metadata": {},
   "outputs": [
    {
     "name": "stdout",
     "output_type": "stream",
     "text": [
      "<!DOCTYPE html>\n",
      "<html>\n",
      "<body>\n",
      "<h2>An Unordered HTML List</h2>\n",
      "<ul id=\"unordered_list\" style=\"color:#069\">\n",
      "<li>Coffee</li>\n",
      "<li>Tea</li>\n",
      "<li>Milk</li>\n",
      "</ul>\n",
      "<h2>An Ordered HTML List</h2>\n",
      "<ol id=\"ordered_list\" style=\"color:#069\">\n",
      "<li>Coffee</li>\n",
      "<li>Tea</li>\n",
      "<li>Milk</li>\n",
      "</ol>\n",
      "</body>\n",
      "</html>\n",
      "\n"
     ]
    }
   ],
   "source": [
    "src = open(\"list.html\")\n",
    "document = BeautifulSoup(src, 'lxml')\n",
    "print(document)"
   ]
  },
  {
   "cell_type": "markdown",
   "metadata": {},
   "source": [
    "### Finding tags by name"
   ]
  },
  {
   "cell_type": "markdown",
   "metadata": {},
   "source": [
    "The document now contains the full html document. We can find the first occuring tag with a specific name with the `find` function. Let's find the first un-ordered list tag:"
   ]
  },
  {
   "cell_type": "code",
   "execution_count": 5,
   "metadata": {},
   "outputs": [],
   "source": [
    "ulist = document.find(\"ul\")"
   ]
  },
  {
   "cell_type": "markdown",
   "metadata": {},
   "source": [
    "The result contains all tags contained in the matched tag:"
   ]
  },
  {
   "cell_type": "code",
   "execution_count": 6,
   "metadata": {},
   "outputs": [
    {
     "data": {
      "text/plain": [
       "<ul id=\"unordered_list\" style=\"color:#069\">\n",
       "<li>Coffee</li>\n",
       "<li>Tea</li>\n",
       "<li>Milk</li>\n",
       "</ul>"
      ]
     },
     "execution_count": 6,
     "metadata": {},
     "output_type": "execute_result"
    }
   ],
   "source": [
    "ulist"
   ]
  },
  {
   "cell_type": "markdown",
   "metadata": {},
   "source": [
    "The `find_all` function returns **all** tags that match the given tag name. We can use it to get a list of all list items:"
   ]
  },
  {
   "cell_type": "code",
   "execution_count": 8,
   "metadata": {},
   "outputs": [
    {
     "data": {
      "text/plain": [
       "[<li>Coffee</li>, <li>Tea</li>, <li>Milk</li>]"
      ]
     },
     "execution_count": 8,
     "metadata": {},
     "output_type": "execute_result"
    }
   ],
   "source": [
    "items = ulist.find_all(\"li\")\n",
    "items"
   ]
  },
  {
   "cell_type": "markdown",
   "metadata": {},
   "source": [
    "Finally, we can loop over all items and extract their contant with the `get_text` function:"
   ]
  },
  {
   "cell_type": "code",
   "execution_count": 12,
   "metadata": {
    "scrolled": true
   },
   "outputs": [
    {
     "name": "stdout",
     "output_type": "stream",
     "text": [
      "Coffee\n",
      "Tea\n",
      "Milk\n"
     ]
    }
   ],
   "source": [
    "for item in items:\n",
    "    print(item.get_text())"
   ]
  },
  {
   "cell_type": "markdown",
   "metadata": {},
   "source": [
    "Note that `find_all` is **recursive** by default. This means that we could call it the on the full `document` to get the items\n",
    "of both the ordered and un-ordered lists:"
   ]
  },
  {
   "cell_type": "code",
   "execution_count": 10,
   "metadata": {},
   "outputs": [
    {
     "data": {
      "text/plain": [
       "[<li>Coffee</li>,\n",
       " <li>Tea</li>,\n",
       " <li>Milk</li>,\n",
       " <li>Coffee</li>,\n",
       " <li>Tea</li>,\n",
       " <li>Milk</li>]"
      ]
     },
     "execution_count": 10,
     "metadata": {},
     "output_type": "execute_result"
    }
   ],
   "source": [
    "document.find_all(\"li\", recursive=True)"
   ]
  },
  {
   "cell_type": "markdown",
   "metadata": {},
   "source": [
    "### Finding tags by attributes"
   ]
  },
  {
   "cell_type": "markdown",
   "metadata": {},
   "source": [
    "Sometimes the easiest way to find a tag is by its attribute name. In our examples, both lists have an `id` attribute that uniquely identifies the tables. We can also use the `find*` methods to search for attributes:\n"
   ]
  },
  {
   "cell_type": "code",
   "execution_count": 13,
   "metadata": {},
   "outputs": [
    {
     "data": {
      "text/plain": [
       "[<ul id=\"unordered_list\" style=\"color:#069\">\n",
       " <li>Coffee</li>\n",
       " <li>Tea</li>\n",
       " <li>Milk</li>\n",
       " </ul>,\n",
       " <ol id=\"ordered_list\" style=\"color:#069\">\n",
       " <li>Coffee</li>\n",
       " <li>Tea</li>\n",
       " <li>Milk</li>\n",
       " </ol>]"
      ]
     },
     "execution_count": 13,
     "metadata": {},
     "output_type": "execute_result"
    }
   ],
   "source": [
    "document.find_all(attrs={\"style\":\"color:#069\"})"
   ]
  },
  {
   "cell_type": "markdown",
   "metadata": {},
   "source": [
    "### Accessing attributes"
   ]
  },
  {
   "cell_type": "markdown",
   "metadata": {},
   "source": [
    "The `ul` tag also contains a `style` attribute. Any bs4 tag behaves like a dictionary with attribute names as keys and attribute values as values:"
   ]
  },
  {
   "cell_type": "code",
   "execution_count": 20,
   "metadata": {},
   "outputs": [
    {
     "data": {
      "text/plain": [
       "{'id': 'unordered_list', 'style': 'color:#069'}"
      ]
     },
     "execution_count": 20,
     "metadata": {},
     "output_type": "execute_result"
    }
   ],
   "source": [
    "ulist.attrs"
   ]
  },
  {
   "cell_type": "code",
   "execution_count": 21,
   "metadata": {},
   "outputs": [
    {
     "data": {
      "text/plain": [
       "'color:#069'"
      ]
     },
     "execution_count": 21,
     "metadata": {},
     "output_type": "execute_result"
    }
   ],
   "source": [
    "ulist[\"style\"]"
   ]
  },
  {
   "cell_type": "markdown",
   "metadata": {},
   "source": [
    "# Downloading a table from Wikipedia\n",
    "\n",
    "We aim to get a list of countries sorted by their population size:\n",
    "https://en.wikipedia.org/wiki/List_of_countries_and_dependencies_by_population"
   ]
  },
  {
   "cell_type": "markdown",
   "metadata": {},
   "source": [
    "First, let's import the required modules:"
   ]
  },
  {
   "cell_type": "code",
   "execution_count": 14,
   "metadata": {},
   "outputs": [],
   "source": [
    "import requests\n",
    "from bs4 import BeautifulSoup\n",
    "import re\n",
    "import dateutil"
   ]
  },
  {
   "cell_type": "markdown",
   "metadata": {},
   "source": [
    "This time, we load the html source directly from a website using the requests module:"
   ]
  },
  {
   "cell_type": "code",
   "execution_count": 15,
   "metadata": {},
   "outputs": [],
   "source": [
    "result = requests.get(\"https://en.wikipedia.org/wiki/List_of_countries_and_dependencies_by_population\")"
   ]
  },
  {
   "cell_type": "markdown",
   "metadata": {},
   "source": [
    "The web server returns a status code to indicate if the request was (un-)succesfully.\n",
    "We use that status-code to check if the page was succesfully loaded:"
   ]
  },
  {
   "cell_type": "code",
   "execution_count": 16,
   "metadata": {},
   "outputs": [],
   "source": [
    "assert result.status_code==200  "
   ]
  },
  {
   "cell_type": "markdown",
   "metadata": {},
   "source": [
    "Next, we extract the html source and initiated BeautifulSoup:"
   ]
  },
  {
   "cell_type": "code",
   "execution_count": 17,
   "metadata": {},
   "outputs": [],
   "source": [
    "src = result.content\n",
    "document = BeautifulSoup(src, 'lxml')"
   ]
  },
  {
   "cell_type": "markdown",
   "metadata": {},
   "source": [
    "by looking at the document, we can see that we are interested in the first table. So we use `find`:"
   ]
  },
  {
   "cell_type": "code",
   "execution_count": 18,
   "metadata": {},
   "outputs": [],
   "source": [
    "table = document.find(\"table\")"
   ]
  },
  {
   "cell_type": "markdown",
   "metadata": {},
   "source": [
    "If you are not familiar with html table, read this example first: https://www.w3schools.com/html/tryit.asp?filename=tryhtml_table_intro"
   ]
  },
  {
   "cell_type": "markdown",
   "metadata": {},
   "source": [
    "At this point, it is a good idea to programatically check that the table contains the correct header:"
   ]
  },
  {
   "cell_type": "code",
   "execution_count": 20,
   "metadata": {},
   "outputs": [],
   "source": [
    "assert table.find(\"th\").get_text() == \"Rank\""
   ]
  },
  {
   "cell_type": "code",
   "execution_count": 27,
   "metadata": {},
   "outputs": [],
   "source": [
    "rows = table.find_all(\"tr\")  # Note: this works because find_all is resursive by default\n"
   ]
  },
  {
   "cell_type": "code",
   "execution_count": 29,
   "metadata": {},
   "outputs": [
    {
     "name": "stdout",
     "output_type": "stream",
     "text": [
      "1, China, Asia, 1,412,600,000\n",
      "2, India, Asia, 1,375,586,000\n",
      "3, United States, North America, 331,893,745\n",
      "4, Indonesia, Asia[b], 275,773,800\n",
      "5, Pakistan, Asia, 229,489,000\n",
      "6, Nigeria, Africa, 216,747,000\n",
      "7, Brazil, South America, 215,205,023\n",
      "8, Bangladesh, Asia, 165,158,616\n",
      "9, Russia, Europe[c], 145,100,000\n",
      "10, Mexico, North America, 128,533,664\n",
      "11, Japan, Asia, 125,927,902\n",
      "12, Philippines, Asia, 112,489,365\n",
      "13, Ethiopia, Africa, 105,163,988\n",
      "14, Egypt, Africa[b], 103,891,636\n",
      "15, Vietnam, Asia, 98,506,193\n",
      "16, DR Congo, Africa, 95,241,000\n",
      "17, Iran, Asia, 85,816,454\n",
      "18, Turkey, Asia[b], 84,680,273\n",
      "19, Germany, Europe, 84,079,811\n",
      "20, France, Europe, 67,918,000\n",
      "21, United Kingdom, Europe, 67,081,234\n",
      "22, Thailand, Asia, 66,841,617\n",
      "23, Tanzania, Africa, 61,280,743\n",
      "24, South Africa, Africa, 60,604,992\n",
      "25, Italy, Europe, 58,867,239\n",
      "26, Myanmar, Asia, 55,294,979\n",
      "27, South Korea, Asia, 51,638,809\n",
      "28, Colombia, South America, 51,049,498\n",
      "29, Kenya, Africa, 47,564,296\n",
      "30, Spain, Europe, 47,432,805\n",
      "31, Argentina, South America, 47,327,407\n",
      "32, Algeria, Africa, 45,400,000\n",
      "33, Sudan, Africa, 44,793,625\n",
      "34, Uganda, Africa, 42,885,900\n",
      "35, Iraq, Asia, 41,190,700\n",
      "36, Ukraine, Europe, 41,130,432\n",
      "37, Canada, North America, 38,956,473\n",
      "38, Poland, Europe, 37,996,000\n",
      "39, Morocco, Africa, 36,735,180\n",
      "40, Uzbekistan, Asia, 35,797,379\n",
      "41, Saudi Arabia, Asia, 35,013,414\n",
      "42, Peru, South America, 33,396,698\n",
      "43, Angola, Africa, 33,086,278\n",
      "44, Afghanistan, Asia, 32,890,171\n",
      "45, Malaysia, Asia, 32,743,000\n",
      "46, Mozambique, Africa, 31,616,078\n",
      "47, Yemen, Asia, 31,155,000\n",
      "48, Ghana, Africa, 30,832,019\n",
      "49, Ivory Coast, Africa, 29,389,150\n",
      "50, Venezuela, South America, 29,267,000\n",
      "51, Nepal, Asia, 29,192,480\n",
      "52, Madagascar, Africa, 26,923,353\n",
      "53, Australia, Oceania, 25,974,059\n",
      "54, North Korea, Asia, 25,660,000\n",
      "55, Cameroon, Africa, 24,348,251\n",
      "56, Niger, Africa, 24,112,753\n",
      "–, Taiwan, Asia, 23,375,314\n",
      "57, Sri Lanka, Asia, 22,156,000\n",
      "58, Burkina Faso, Africa, 21,510,181\n",
      "59, Malawi, Africa, 21,507,723\n",
      "60, Mali, Africa, 21,474,000\n",
      "61, Chile, South America, 19,678,363\n",
      "62, Kazakhstan, Asia[b], 19,317,808\n",
      "63, Romania, Europe, 19,038,098\n",
      "64, Zambia, Africa, 18,400,556\n",
      "65, Syria, Asia, 18,276,000\n",
      "66, Ecuador, South America, 18,072,560\n",
      "67, Netherlands, Europe, 17,748,060\n",
      "68, Senegal, Africa, 17,223,497\n",
      "69, Guatemala, North America, 17,109,746\n",
      "70, Chad, Africa, 16,818,391\n",
      "71, Somalia, Africa, 16,360,000\n",
      "72, Cambodia, Asia, 15,552,211\n",
      "73, Zimbabwe, Africa, 15,178,979\n",
      "74, South Sudan, Africa, 13,249,924\n",
      "75, Rwanda, Africa, 12,955,768\n",
      "76, Guinea, Africa, 12,907,395\n",
      "77, Burundi, Africa, 12,574,571\n",
      "78, Benin, Africa, 12,506,347\n",
      "79, Tunisia, Africa, 11,803,588\n",
      "80, Bolivia, South America, 11,797,257\n",
      "81, Haiti, North America, 11,743,017\n",
      "82, Belgium, Europe, 11,671,737\n",
      "83, Jordan, Asia, 11,308,960\n",
      "84, Cuba, North America, 11,113,215\n",
      "85, Dominican Republic, North America, 10,535,535\n",
      "86, Czech Republic, Europe, 10,493,986\n",
      "87, Sweden, Europe, 10,493,565\n",
      "88, Greece, Europe, 10,432,481\n",
      "89, Portugal, Europe, 10,344,802\n",
      "90, Azerbaijan, Asia[b], 10,185,784\n",
      "91, Hungary, Europe, 9,689,000\n",
      "92, Israel, Asia, 9,583,100\n",
      "93, Honduras, North America, 9,546,178\n",
      "94, Tajikistan, Asia, 9,506,000\n",
      "95, United Arab Emirates, Asia, 9,282,410\n",
      "96, Belarus, Europe, 9,255,524\n",
      "97, Papua New Guinea, Oceania, 9,122,994\n",
      "98, Austria, Europe, 9,061,848\n",
      "99, Switzerland, Europe, 8,770,283\n",
      "100, Sierra Leone, Africa, 8,297,882\n",
      "101, Togo, Africa, 7,886,000\n",
      "–, Hong Kong(China), Asia, 7,403,100\n",
      "102, Paraguay, South America, 7,353,038\n",
      "103, Laos, Asia, 7,337,783\n",
      "104, Libya, Africa, 7,054,493\n",
      "105, El Salvador, North America, 6,825,935\n",
      "106, Serbia, Europe, 6,797,105\n",
      "107, Lebanon, Asia, 6,769,000\n",
      "108, Kyrgyzstan, Asia, 6,800,000\n",
      "109, Nicaragua, North America, 6,595,674\n",
      "110, Bulgaria, Europe, 6,520,314\n",
      "111, Turkmenistan, Asia, 6,118,000\n",
      "112, Denmark, Europe, 5,910,577\n",
      "113, Congo, Africa, 5,657,000\n",
      "114, Central African Republic, Africa, 5,633,412\n",
      "115, Finland, Europe, 5,522,135\n",
      "116, Singapore, Asia, 5,453,600\n",
      "117, Norway, Europe, 5,455,582\n",
      "118, Slovakia, Europe, 5,434,712\n",
      "119, Palestine, Asia, 5,227,193\n",
      "120, Costa Rica, North America, 5,163,038\n",
      "121, New Zealand, Oceania, 5,129,403\n",
      "122, Ireland, Europe, 5,123,536\n",
      "123, Kuwait, Asia, 4,670,713\n",
      "124, Liberia, Africa, 4,661,010\n",
      "125, Oman, Asia, 4,527,446\n",
      "126, Panama, North America, 4,278,500\n",
      "127, Mauritania, Africa, 4,271,197\n",
      "128, Croatia, Europe, 3,888,529\n",
      "129, Georgia, Asia[b], 3,688,600\n",
      "130, Eritrea, Africa, 3,601,000\n",
      "131, Uruguay, South America, 3,554,915\n",
      "132, Mongolia, Asia, 3,459,903\n",
      "133, Bosnia and Herzegovina, Europe, 3,320,954\n",
      "–, Puerto Rico(United States), North America, 3,285,874\n",
      "134, Armenia, Asia, 2,963,900\n",
      "135, Lithuania, Europe, 2,830,097\n",
      "136, Albania, Europe, 2,829,741\n",
      "137, Qatar, Asia, 2,799,202\n",
      "138, Jamaica, North America, 2,734,093\n",
      "139, Moldova, Europe, 2,597,100\n",
      "140, Namibia, Africa, 2,550,226\n",
      "141, Gambia, Africa, 2,487,000\n",
      "142, Botswana, Africa, 2,410,338\n",
      "143, Gabon, Africa, 2,233,272\n",
      "144, Lesotho, Africa, 2,159,000\n",
      "145, Slovenia, Europe, 2,108,977\n",
      "146, Latvia, Europe, 1,893,400\n",
      "147, North Macedonia, Europe, 1,832,696\n",
      "–, Kosovo, Europe, 1,798,188\n",
      "148, Guinea-Bissau, Africa, 1,646,077\n",
      "149, Equatorial Guinea, Africa, 1,505,588\n",
      "150, Bahrain, Asia, 1,501,635\n",
      "151, Trinidad and Tobago, North America, 1,367,558\n",
      "152, Estonia, Europe, 1,331,796\n",
      "153, East Timor, Asia, 1,317,780\n",
      "154, Mauritius, Africa, 1,266,334\n",
      "155, Eswatini, Africa, 1,172,000\n",
      "156, Djibouti, Africa, 976,107\n",
      "157, Cyprus, Asia, 918,100\n",
      "158, Fiji, Oceania, 898,402\n",
      "159, Comoros, Africa, 758,316\n",
      "160, Bhutan, Asia, 763,200\n",
      "161, Guyana, South America, 743,699\n",
      "162, Solomon Islands, Oceania, 728,041\n",
      "–, Macau(China), Asia, 683,200\n",
      "163, Luxembourg, Europe, 645,397\n",
      "164, Montenegro, Europe, 621,306\n",
      "–, Western Sahara, Africa, 612,000\n",
      "165, Suriname, South America, 598,000\n",
      "166, Cape Verde, Africa, 563,198\n",
      "167, Malta, Europe, 519,562\n",
      "168, Belize, North America, 430,191\n",
      "169, Brunei, Asia, 429,999\n",
      "170, Bahamas, North America, 393,450\n",
      "171, Maldives, Asia, 383,135\n",
      "–, Northern Cyprus, Asia, 382,230\n",
      "172, Iceland, Europe, 381,370\n",
      "–, Transnistria, Europe, 306,000\n",
      "173, Vanuatu, Oceania, 301,295\n",
      "174, Barbados, North America, 288,000\n",
      "–, French Polynesia(France), Oceania, 279,890\n",
      "–, New Caledonia(France), Oceania, 273,674\n",
      "–, Abkhazia, Asia, 245,424\n",
      "175, São Tomé and Príncipe, Africa, 214,610\n",
      "176, Samoa, Oceania, 199,853\n",
      "177, Saint Lucia, North America, 178,696\n",
      "–, Guam(United States), Oceania, 153,836\n",
      "–, Curaçao(Netherlands), North America, 153,671\n",
      "–, Artsakh, Asia, 148,900\n",
      "178, Kiribati, Oceania, 120,740\n",
      "179, Grenada, North America, 113,000\n",
      "–, Aruba(Netherlands), North America, 111,050\n",
      "180, Saint Vincent and the Grenadines, North America, 110,696\n",
      "–, Jersey(British Crown Dependency), Europe, 107,800\n",
      "181, Micronesia, Oceania, 105,754\n",
      "182, Tonga, Oceania, 99,532\n",
      "183, Antigua and Barbuda, North America, 99,337\n",
      "184, Seychelles, Africa, 99,202\n",
      "–, U.S. Virgin Islands(United States), North America, 87,146\n",
      "–, Isle of Man(British Crown Dependency), Europe, 84,069\n",
      "185, Andorra, Europe, 79,535\n",
      "186, Dominica, North America, 72,000\n",
      "–, Cayman Islands(United Kingdom), North America, 65,786\n",
      "–, Bermuda(United Kingdom), North America, 64,055\n",
      "–, Guernsey(British Crown Dependency), Europe, 63,124\n",
      "–, Greenland(Denmark), North America, 56,562\n",
      "187, Marshall Islands, Oceania, 54,516\n",
      "188, Saint Kitts and Nevis, North America, 54,072\n",
      "–, Faroe Islands(Denmark), Europe, 54,000\n",
      "–, South Ossetia, Asia, 53,532\n",
      "–, American Samoa(United States), Oceania, 49,710\n",
      "–, Northern Mariana Islands(United States), Oceania, 47,329\n",
      "–, Turks and Caicos Islands(United Kingdom), North America, 44,542\n",
      "–, Sint Maarten(Netherlands), North America, 42,577\n",
      "189, Liechtenstein, Europe, 39,315\n",
      "190, Monaco, Europe, 39,150\n",
      "–, Gibraltar(United Kingdom), Europe, 34,000\n",
      "191, San Marino, Europe, 33,776\n",
      "–, Saint Martin(France), North America, 32,489\n",
      "–, Åland(Finland), Europe, 30,415\n",
      "–, British Virgin Islands(United Kingdom), North America, 30,000\n",
      "192, Palau, Oceania, 17,957\n",
      "–, Cook Islands(New Zealand), Oceania, 15,342\n",
      "–, Anguilla(United Kingdom), North America, 15,000\n",
      "193, Nauru, Oceania, 11,832\n",
      "–, Wallis and Futuna(France), Oceania, 11,369\n",
      "194, Tuvalu, Oceania, 10,679\n",
      "–, Saint Barthélemy(France), North America, 10,289\n",
      "–, Saint Helena, Ascension and Tristan da Cunha(United Kingdom), Africa, 6,000\n",
      "–, Saint Pierre and Miquelon(France), North America, 5,974\n",
      "–, Montserrat(United Kingdom), North America, 5,000\n",
      "–, Falkland Islands(United Kingdom), South America, 4,000\n",
      "–, Christmas Island(Australia), Oceania, 1,966\n",
      "–, Norfolk Island(Australia), Oceania, 1,734\n",
      "–, Niue(New Zealand), Oceania, 1,549\n",
      "–, Tokelau(New Zealand), Oceania, 1,501\n",
      "195, Vatican City, Europe, 825\n",
      "–, Cocos (Keeling) Islands(Australia), Oceania, 573\n"
     ]
    }
   ],
   "source": [
    "for row in rows[2:-1]:\n",
    "    cells = row.find_all([\"td\", \"th\"])\n",
    "    \n",
    "    cells_text = [cell.get_text(strip=True) for cell in cells]\n",
    "    (rank, country, region, population, percentage, updated_at, source, comment) = cells_text  \n",
    "    print(f'{rank}, {country}, {region}, {population}')\n",
    "    "
   ]
  },
  {
   "cell_type": "markdown",
   "metadata": {},
   "source": [
    "**Attention**: Beautiful Soup does not execute Javascript. This means that you the code in the Google Chrome inspector might look different to the original source code. "
   ]
  },
  {
   "cell_type": "markdown",
   "metadata": {},
   "source": [
    "# Another example of downloading a Wikipedia table \n",
    "\n",
    "Let's consider another table in a Wikipedia page. This page has a lot more tables, so one challenge will be to pick the right table\n",
    "\n",
    "https://en.wikipedia.org/wiki/Tiger_Woods\n",
    "\n",
    "\n",
    "We are interested in extracting these two tables:\n",
    "\n",
    "![Target Wikipedia tables](pictures/wiki_tables.png)\n",
    "\n",
    "**Exercise**: \n",
    "\n",
    "1) Identify the id=\"The_Players_Championship\", by using title = document.find(id=\"The_Players_Championship\")\n",
    "\n",
    "2) First find all tables below the id in 1) by title.find_all_next('table').\n",
    "\n",
    "3) Search for headers (th) by table.find('th') for table in tables to identify the \"Tournament\" header. Remember to use get_text(strip=True)\n",
    "\n",
    "4) Save all tables with the header \"Tournament\" into a list tournament_tables. Check the length of the table and reduce it if it is needed.\n",
    "\n",
    "5) Bonus: Print out the information in the two tables of interest in the terminal"
   ]
  },
  {
   "cell_type": "markdown",
   "metadata": {},
   "source": [
    "We begin by downloading the webpage and instatiating the BeautifulSoup object:"
   ]
  },
  {
   "cell_type": "code",
   "execution_count": 30,
   "metadata": {},
   "outputs": [],
   "source": [
    "result = requests.get(\"https://en.wikipedia.org/wiki/Tiger_Woods\")\n",
    "src = result.content\n",
    "document = BeautifulSoup(src, 'lxml')"
   ]
  },
  {
   "cell_type": "markdown",
   "metadata": {},
   "source": [
    "This page contains a lot of tables without specific attributes that would make it difficult to find our table of interest. Further, the same headings of the tables are used for multiple tables, making it difficult to find a table just by its headings:"
   ]
  },
  {
   "cell_type": "code",
   "execution_count": 31,
   "metadata": {},
   "outputs": [
    {
     "data": {
      "text/plain": [
       "60"
      ]
     },
     "execution_count": 31,
     "metadata": {},
     "output_type": "execute_result"
    }
   ],
   "source": [
    "len(document.find_all(\"table\"))"
   ]
  },
  {
   "cell_type": "markdown",
   "metadata": {},
   "source": [
    "Therefore, we choose another strategy. First, we extract the tag that defines the header just before our tables of interest. That header tag has a unique identifier attribute `id=\"The_Players_Championship\"`. Then we use the `find_all_next` function in BeautifulSoup to extract all following table tags:"
   ]
  },
  {
   "cell_type": "code",
   "execution_count": 32,
   "metadata": {},
   "outputs": [],
   "source": [
    "title = document.find(id=\"The_Players_Championship\")\n",
    "tables = title.find_all_next(\"table\")"
   ]
  },
  {
   "cell_type": "markdown",
   "metadata": {},
   "source": [
    "Now, our tables of interest are the first two tables with the \"Tournament\" heading. We write a small helper function (a generator https://wiki.python.org/moin/Generators) that returns a table with a given heading:"
   ]
  },
  {
   "cell_type": "code",
   "execution_count": 14,
   "metadata": {},
   "outputs": [],
   "source": [
    "def find_table_with_heading(tables, heading):\n",
    "    for table in tables:\n",
    "        if table.find(\"th\").get_text(strip=True) == heading:\n",
    "            yield table"
   ]
  },
  {
   "cell_type": "markdown",
   "metadata": {},
   "source": [
    "Next, we can extract the table rows and columns as usual. We only extract the first two tables, as these are the only ones we were interested in:"
   ]
  },
  {
   "cell_type": "code",
   "execution_count": 16,
   "metadata": {},
   "outputs": [
    {
     "name": "stdout",
     "output_type": "stream",
     "text": [
      "['Tournament', '1997', '1998', '1999', '2000', '2001', '2002', '2003', '2004', '2005', '2006', '2007', '2008', '2009']\n",
      "['The Players Championship', 'T31', 'T35', 'T10', '2', '1', 'T14', 'T11', 'T16', 'T53', 'T22', 'T37', '', '8']\n",
      "['Tournament', '2010', '2011', '2012', '2013', '2014', '2015', '2016', '2017', '2018', '2019']\n",
      "['The Players Championship', 'WD', 'WD', 'T40', '1', '', 'T69', '', '', 'T11', 'T30']\n"
     ]
    }
   ],
   "source": [
    "tournament_tables = list(find_table_with_heading(tables, \"Tournament\"))\n",
    "\n",
    "for table in tournament_tables[:2]:\n",
    "    for row in table.find_all(\"tr\"):\n",
    "        cells= row.find_all([\"th\", \"td\"])\n",
    "        print([cell.get_text(strip=\"True\") for cell in cells])\n",
    "        "
   ]
  }
 ],
 "metadata": {
  "celltoolbar": "Slideshow",
  "kernelspec": {
   "display_name": "Python 3 (ipykernel)",
   "language": "python",
   "name": "python3"
  },
  "language_info": {
   "codemirror_mode": {
    "name": "ipython",
    "version": 3
   },
   "file_extension": ".py",
   "mimetype": "text/x-python",
   "name": "python",
   "nbconvert_exporter": "python",
   "pygments_lexer": "ipython3",
   "version": "3.9.7"
  }
 },
 "nbformat": 4,
 "nbformat_minor": 4
}
