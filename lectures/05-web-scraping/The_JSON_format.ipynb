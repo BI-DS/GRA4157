{
 "cells": [
  {
   "cell_type": "markdown",
   "id": "d1bbfb69",
   "metadata": {},
   "source": [
    "### JSON\n",
    "JSON is the most common way of sending data back and forth in APIs. \n",
    "\n",
    "A JavaScript Object Notation (JSON) file encodes *data structures* so that they are easy to read for machines and somewhat easy to read for humans.\n",
    "\n",
    "JSON is a text file or string that follows the JavaScript object syntax. Most programming languages will have the ability to read (parse) and generate JSON files. \n",
    "\n",
    "The ``json`` library in Python has two main functions:\n",
    "- `json.dumps()` Takes in a python object and converts it (dumps it) to a string\n",
    "- `json.loads()` Takes in a JSON string and converts it (loads it) to a Python object.\n",
    "\n",
    "which will convert from/to the following formats\n",
    "\n",
    "| JSON | Python | \n",
    "| --- | --- | \n",
    "| object | dict | \n",
    "| array  | list | \n",
    "| string | str  | \n",
    "| number (int) |  int | \n",
    "| number (real) | float | \n",
    "| true | True | \n",
    "| false | False | \n",
    "| null | None | "
   ]
  },
  {
   "cell_type": "markdown",
   "id": "3759e2b1",
   "metadata": {},
   "source": [
    "The JSON object looks very similar to a python dictionary written as a string. The JSON object can be converted to python in the following way:"
   ]
  },
  {
   "cell_type": "code",
   "execution_count": 3,
   "id": "b1b1ece6",
   "metadata": {},
   "outputs": [
    {
     "name": "stdout",
     "output_type": "stream",
     "text": [
      "30\n"
     ]
    }
   ],
   "source": [
    "import json\n",
    "\n",
    "# some JSON:\n",
    "x =  '{ \"name\":\"John\", \"age\":30, \"city\":\"New York\"}'\n",
    "\n",
    "# parse x:\n",
    "y = json.loads(x)\n",
    "\n",
    "# the result is a Python dictionary:\n",
    "print(y[\"age\"]) "
   ]
  },
  {
   "cell_type": "markdown",
   "id": "44f01f6f",
   "metadata": {},
   "source": [
    "Similarly we can go from a dictionary to a JSON object"
   ]
  },
  {
   "cell_type": "code",
   "execution_count": 4,
   "id": "4c7c5b26",
   "metadata": {},
   "outputs": [
    {
     "name": "stdout",
     "output_type": "stream",
     "text": [
      "{\"name\": \"John\", \"age\": 30, \"city\": \"New York\"}\n"
     ]
    }
   ],
   "source": [
    "import json\n",
    "\n",
    "# a Python object (dict):\n",
    "x = {\n",
    "  \"name\": \"John\",\n",
    "  \"age\": 30,\n",
    "  \"city\": \"New York\"\n",
    "}\n",
    "\n",
    "# convert into JSON:\n",
    "y = json.dumps(x)\n",
    "\n",
    "# the result is a JSON string:\n",
    "print(y) "
   ]
  },
  {
   "cell_type": "markdown",
   "id": "a9ef1218",
   "metadata": {},
   "source": [
    "A common .json file may start as follows (GRA4157/lectures/05-web-scraping/september_bysykkel.json)\n",
    "\n",
    "[{\"started_at\": \"2022-09-01 03:04:31.178000+00:00\", \"ended_at\": \"2022-09-01 03:13:01.298000+00:00\", \"duration\": 510, \"start_station_id\": \"437\", \"start_station_name\": \"Sentrum Scene\", \"start_station_description\": \"ved Arbeidersamfunnets plass\", \"start_station_latitude\": 59.91546786564256, \"start_station_longitude\": 10.751140873016311, \"end_station_id\": \"583\", \"end_station_name\": \"Galgeberg\", \"end_station_description\": \"langs St. Halvards gate\", \"end_station_latitude\": 59.90707579234818, \"end_station_longitude\": 10.779164402446728}, {\"started_at\": \"2022-09-01 03:11:09.104000+00:00\", \"ended_at\": \"2022-09-01 03:14:52.506000+00:00\", \"duration\": 223, \"start_station_id\": \"578\", \"start_station_name\": \"Hallings gate\", \"start_station_description\": \"langs Dalsbergstien\", \"start_station_latitude\": 59.922777, \"start_station_longitude\": 10.738655, \"end_station_id\": \"499\", \"end_station_name\": \"Bjerregaards gate\", \"end_station_description\": \"ovenfor Fredrikke Qvams gate\", \"end_station_latitude\": 59.925488, \"end_station_longitude\": 10.746058}, {\"started_at\": \"2022-09-01 03:11:37.861000+00:00\", \"ended_at\": \"2022-09-01 03:23:23.939000+00:00\", \"duration\": 706, \"start_station_id\": \"421\", \"start_station_name\": \"Alexander Kiellands Plass\", \"start_station_description\": \"langs Maridalsveien\", \"start_station_latitude\": 59.92806670615684, \"start_station_longitude\": 10.751202636819613, \"end_station_id\": \"390\", \"end_station_name\": \"Saga Kino\", \"end_station_description\": \"langs Olav Vs gate\", \"end_station_latitude\": 59.91424026794647, \"end_station_longitude\": 10.732771354719745},"
   ]
  },
  {
   "cell_type": "code",
   "execution_count": null,
   "id": "52bda4d0",
   "metadata": {},
   "outputs": [],
   "source": []
  }
 ],
 "metadata": {
  "kernelspec": {
   "display_name": "Python 3 (ipykernel)",
   "language": "python",
   "name": "python3"
  },
  "language_info": {
   "codemirror_mode": {
    "name": "ipython",
    "version": 3
   },
   "file_extension": ".py",
   "mimetype": "text/x-python",
   "name": "python",
   "nbconvert_exporter": "python",
   "pygments_lexer": "ipython3",
   "version": "3.9.7"
  }
 },
 "nbformat": 4,
 "nbformat_minor": 5
}
