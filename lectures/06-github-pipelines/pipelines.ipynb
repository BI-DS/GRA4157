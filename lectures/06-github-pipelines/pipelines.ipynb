{
 "cells": [
  {
   "cell_type": "markdown",
   "metadata": {},
   "source": [
    "# GitHub pipelines\n",
    "\n",
    "GitHub pipelines is githubs answer to CI/CD (continuous integration and continuous deployment). In this lecture we will first look into a few examples, and then learn how to build an automated pipeline."
   ]
  },
  {
   "cell_type": "markdown",
   "metadata": {},
   "source": [
    "What it is typically used for:\n",
    "* Running Tests: Automatically test code every time a commit is pushed or a pull request is made.\n",
    "* Building and Deploying Code: Build your applications and deploy them to cloud services or servers.\n",
    "* Code Linting and Formatting: Automatically check for code style and formatting issues.\n",
    "* Automation of Routine Tasks: Trigger workflows for various tasks like generating reports, managing issues, or even interacting with other services via APIs."
   ]
  },
  {
   "cell_type": "markdown",
   "metadata": {},
   "source": [
    "A configuration file states what actions should be performed in the pipeline. In a GitHub repository, the file is located under .github/workflows/, with a .yml (YAML)-format. The standard is to let pipelines run on ubuntu, so some knowledge about this platform may be useful. E.g. command line interaction. "
   ]
  },
  {
   "cell_type": "markdown",
   "metadata": {},
   "source": [
    "# Code Collaboration with Git and GitHub\n",
    "\n",
    "In software development, especially when multiple developers work on the same project, collaboration is essential. Git is the version control system that allows developers to keep track of changes, collaborate efficiently, and manage the history of their code. GitHub is an online platform for hosting Git repositories and enabling team collaboration.\n",
    "\n",
    "Here’s a breakdown of the basic Git operations used in collaboration:\n",
    "\n",
    "---\n",
    "\n",
    "## 1. Clone a Repository\n",
    "When starting to work on a project hosted on GitHub, you first need to make a local copy of the repository:  \n",
    "\n",
    "```bash\n",
    "git clone https://github.com/username/repository.git\n"
   ]
  },
  {
   "cell_type": "markdown",
   "metadata": {},
   "source": [
    "## 2. Branching\n",
    "\n",
    "A branch in Git allows you to work on a separate line of development without affecting the main project (often called `main` or `master`).  \n",
    "This is especially useful when developing new features, fixing bugs, or experimenting without disturbing the stable version of the code.\n",
    "\n",
    "### Creating and Switching to a Branch\n",
    "\n",
    "To create a new branch and switch to it in one command:\n",
    "\n",
    "```bash\n",
    "git checkout -b feature_branch\n"
   ]
  },
  {
   "cell_type": "markdown",
   "metadata": {},
   "source": [
    "## 3. Merging\n",
    "\n",
    "Merging is the process of integrating changes from one branch into another.  \n",
    "This is how work done in feature branches, bugfix branches, or experimental branches gets incorporated back into the main branch.\n",
    "\n",
    "Merging preserves the changes from both branches and creates a commit that reflects the integration of those changes.\n",
    "\n",
    "---\n",
    "\n",
    "### 3.1 Why Merging is Important\n",
    "\n",
    "- **Integrates work:** Combines contributions from different branches into a single branch.  \n",
    "- **Preserves history:** Keeps a clear record of what changes were made and when.  \n",
    "- **Collaboration:** Enables multiple developers to work independently and then integrate their work seamlessly.  \n",
    "- **Keeps the project up to date:** Ensures the main branch has all tested and approved updates.\n",
    "\n",
    "---\n",
    "\n",
    "### 3.2 Merging Basics\n",
    "\n",
    "To merge another branch into your current branch:\n",
    "\n",
    "```bash\n",
    "git merge branch_name\n"
   ]
  },
  {
   "cell_type": "markdown",
   "metadata": {},
   "source": [
    "## 4. Pull Requests & Collaboration\n",
    "\n",
    "Pull Requests (PRs) are a core part of collaborative development in GitHub.  \n",
    "They are a way to propose changes from one branch to another and allow for discussion, review, and testing before merging.\n",
    "\n",
    "PRs improve code quality, enhance collaboration, and provide a clear history of why and how changes were made.\n",
    "\n",
    "---\n",
    "\n",
    "### 4.1 Why Pull Requests Are Important\n",
    "\n",
    "- **Code review:** Enables team members to review code before it is merged.  \n",
    "- **Collaboration:** Encourages discussion and feedback.  \n",
    "- **Quality control:** Ensures code meets standards and passes tests before merging.  \n",
    "- **Documentation:** Keeps a record of the change purpose and discussion history.  \n",
    "- **Continuous integration:** Triggers automated testing and deployment pipelines.\n",
    "\n",
    "---\n",
    "\n",
    "### 4.2 Creating a Pull Request\n",
    "\n",
    "1. Push your branch to the remote repository:\n",
    "   ```bash\n",
    "   git push origin feature/add-login\n"
   ]
  },
  {
   "cell_type": "markdown",
   "metadata": {},
   "source": [
    "## 5. Git Commands Reference\n",
    "\n",
    "This section contains a quick reference for essential Git commands used in collaborative workflows.  \n",
    "Knowing these commands will make working with GitHub pipelines and team projects much easier.\n",
    "\n",
    "---\n",
    "\n",
    "### 5.1 Setup and Configuration\n",
    "\n",
    "- **Configure user name and email:**\n",
    "  ```bash\n",
    "  git config --global user.name \"Your Name\"\n",
    "  git config --global user.email \"you@example.com\"\n",
    "\n",
    "- **Check configuration:**\n",
    "  ```bash\n",
    "    git config --list\n",
    "\n",
    "- **List branches:**\n",
    "  ```bash\n",
    "    git branch --list\n",
    "\n",
    "- **Switch branch:**\n",
    "  ```bash\n",
    "    git checkout branch_name\n",
    "\n",
    "- **Create new branch and switch to that branch:**\n",
    "  ```bash\n",
    "    git checkout -b branch_name\n",
    "\n",
    "- **Pull latest changes:**\n",
    "  ```bash\n",
    "    git pull origin branch_name\n",
    "\n",
    "- **Merge given branch into current:**\n",
    "  ```bash\n",
    "    git merge branch_name\n",
    "\n",
    "- **Show commit history:**\n",
    "  ```bash\n",
    "    git log\n",
    "\n"
   ]
  },
  {
   "cell_type": "markdown",
   "metadata": {},
   "source": [
    "## Testing"
   ]
  },
  {
   "cell_type": "markdown",
   "metadata": {},
   "source": [
    "We have performed unit tests with pytest. Pytest can be included in the pipeline directly, and you can choose which files to run with pytest. Recall that we need files with functions named"
   ]
  },
  {
   "cell_type": "markdown",
   "metadata": {},
   "source": [
    "```python\n",
    "def test_function(x):\n",
    "    ...\n",
    "    ...\n",
    "    assert(computed==expected)\n",
    "```"
   ]
  },
  {
   "cell_type": "markdown",
   "metadata": {},
   "source": [
    "and then we can run "
   ]
  },
  {
   "cell_type": "markdown",
   "metadata": {},
   "source": [
    "```bash\n",
    "pytest name_of_file.py\n",
    "```"
   ]
  },
  {
   "cell_type": "markdown",
   "metadata": {},
   "source": [
    "to execute the tests. "
   ]
  },
  {
   "cell_type": "markdown",
   "metadata": {},
   "source": [
    "## Building and deploying code"
   ]
  },
  {
   "cell_type": "markdown",
   "metadata": {},
   "source": [
    "Often your code will run as an application in the cloud. The action of installing correct dependencies (build) for the application and update the most recent code to the application (deployment) is done in the actions file. We will not cover this part here. "
   ]
  },
  {
   "cell_type": "markdown",
   "metadata": {},
   "source": [
    "## Linting"
   ]
  },
  {
   "cell_type": "markdown",
   "metadata": {},
   "source": [
    "We have touched upon coding conventions and styles. Lucky for us there is an automated tool for this to make sure coders that collaborate follows a certain standard. Tools will give you feedback on your code and often auto-correct when your code does not follow standard (linting) conventions. "
   ]
  },
  {
   "cell_type": "markdown",
   "metadata": {},
   "source": [
    "#### Black\n",
    "Black is a popular code formatter for Python that enforces a consistent style for your code. Its primary goal is to automatically format Python code to make it more readable and maintainable, adhering to a consistent set of rules."
   ]
  },
  {
   "cell_type": "markdown",
   "metadata": {},
   "source": [
    "First, install `black` in your environment using pip:\n",
    "\n",
    "```bash\n",
    "pip install black\n",
    "```\n",
    "Now you can check whether your code will be formatted by\n",
    "```bash\n",
    "python -m black my_file.py --check\n",
    "```\n",
    "If we omit the \"--check\" black will automatically update my_file.py with needed changes. To run black (with changes) for all files in the current directory do:\n",
    "```bash\n",
    "python -m black .\n",
    "```"
   ]
  },
  {
   "cell_type": "markdown",
   "metadata": {},
   "source": [
    "#### Exercise\n",
    "* Check whether your code adheres to black standards by installing and running black on one of your scripts\n",
    "* Install a few other linting tools (e.g. flake8 and pylint). Run also these linting tools to check for differences. (flake8 my_file.py and pylint my_file.py to run)"
   ]
  },
  {
   "cell_type": "markdown",
   "metadata": {},
   "source": [
    "# Routine tasks\n",
    "Assume that we have a function that creates a set of outputs. This could be a report with a table, or trained parameters for a machine learning model. To get these values (outputs) to the application, the functions are most often run as a step in the automated pipeline. Let's say that we have a script:"
   ]
  },
  {
   "cell_type": "code",
   "execution_count": null,
   "metadata": {},
   "outputs": [],
   "source": [
    "\n",
    "def f(x):\n",
    "    return [2*x, x+5, 15*x]"
   ]
  },
  {
   "cell_type": "markdown",
   "metadata": {},
   "source": [
    "The exact content of this function may change, and many developers have worked together (and separately) to update the function. This function is the basis for writing a report in table format. In the pipeline step we can for instance create a script that saves the results from running the function to the repository."
   ]
  },
  {
   "cell_type": "markdown",
   "metadata": {},
   "source": [
    "```python\n",
    "from my_file import f\n",
    "d0, d1, d2 = f(x)\n",
    "with open(\"results_file.txt\", \"w\") as file:\n",
    "    content = f\"{d0}, {d1}, {d2}\"\n",
    "    file.write(content)\n",
    "```\n",
    "We can save this file as update_results.py and in the pipeline we run:\n",
    "\n",
    "```bash\n",
    "python update_results.py\n",
    "```"
   ]
  },
  {
   "cell_type": "markdown",
   "metadata": {},
   "source": [
    "# The structure of the .yml-file"
   ]
  },
  {
   "cell_type": "markdown",
   "metadata": {},
   "source": [
    "```yaml\n",
    "name: Pylint\n",
    "\n",
    "on: [push]\n",
    "\n",
    "jobs:\n",
    "  build:\n",
    "    runs-on: ubuntu-latest\n",
    "    strategy:\n",
    "      matrix:\n",
    "        python-version: [\"3.8\", \"3.9\", \"3.10\"]\n",
    "    steps:\n",
    "    - uses: actions/checkout@v4\n",
    "    - name: Set up Python ${{ matrix.python-version }}\n",
    "      uses: actions/setup-python@v3\n",
    "      with:\n",
    "        python-version: ${{ matrix.python-version }}\n",
    "    - name: Install dependencies\n",
    "      run: |\n",
    "        python -m pip install --upgrade pip\n",
    "        pip install pylint\n",
    "        pip install black\n",
    "        pip install pytest\n",
    "    - name: Run pytest\n",
    "      run:  |\n",
    "        pytest lectures/01-python-summary/lecture-scripts/test_*\n",
    "    - name: Analysing the code with pylint and black\n",
    "      run: |\n",
    "        pylint $(git ls-files 'scripts/*.py')\n",
    "        black scripts/*.py\n",
    "```\n",
    "        "
   ]
  },
  {
   "cell_type": "markdown",
   "metadata": {},
   "source": [
    "## Exercise \n",
    "\n",
    "* Write a python script in the folder \"scripts\". You can copy one of your scripts from a weekly exercise. \n",
    "\n",
    "* Add, commit and push the changes to your forked repository.\n",
    "\n",
    "* To run github actions on a forked repository you might need to go to \"Actions\" and enable actions on GitHub.\n",
    "\n",
    "* Install pylint and black. Run pylint and black on the script that you added to the \"scripts\" folder. \n",
    "\n",
    "* Make necessary changes to the script such that pylint and black finishes successfully.\n",
    "\n",
    "* Make changes to datestamp.txt on your local machine. Try to do git pull. Resolve the merge conflict\n"
   ]
  },
  {
   "cell_type": "markdown",
   "metadata": {},
   "source": []
  }
 ],
 "metadata": {
  "language_info": {
   "name": "python"
  }
 },
 "nbformat": 4,
 "nbformat_minor": 2
}
