{
 "cells": [
  {
   "cell_type": "markdown",
   "metadata": {
    "slideshow": {
     "slide_type": "slide"
    }
   },
   "source": [
    "# Lecture 2: Introduction & Python Part 2\n",
    "## September 01, 2023\n",
    "\n"
   ]
  },
  {
   "cell_type": "markdown",
   "metadata": {
    "slideshow": {
     "slide_type": "slide"
    }
   },
   "source": [
    "# Recap: Command line arguments\n",
    "\n",
    "Command line arguments are \"words\" written after the program name when you run it.\n",
    "```bash\n",
    "python hello_world.py 10\n",
    "```\n",
    "\n",
    "\n",
    "We have used the `sys` python package it is imported by\n",
    "```python\n",
    "import sys\n",
    "```"
   ]
  },
  {
   "cell_type": "markdown",
   "metadata": {
    "slideshow": {
     "slide_type": "slide"
    }
   },
   "source": [
    "### The first example (lecture-2-test-sys.py.py):"
   ]
  },
  {
   "cell_type": "code",
   "execution_count": null,
   "metadata": {},
   "outputs": [],
   "source": [
    "import sys\n",
    "print(f\"In this program, {sys.argv[1]} is the command line argument\")"
   ]
  },
  {
   "cell_type": "code",
   "execution_count": null,
   "metadata": {
    "slideshow": {
     "slide_type": ""
    },
    "tags": []
   },
   "outputs": [],
   "source": [
    "!python ./scripts/lecture-2-test-sys.py 10"
   ]
  },
  {
   "cell_type": "markdown",
   "metadata": {
    "slideshow": {
     "slide_type": "slide"
    }
   },
   "source": [
    "### Several command line arguments (lecture-2-test-sys2.py)\n",
    "\n",
    "the \"magic\" sys.argv line refers to the list sys.argv which consists of all the words (separated by spaces) that are listed on the command line (including the program name)\n",
    "\n",
    "```python\n",
    "import sys\n",
    "\n",
    "sys_argv_list = sys.argv\n",
    "cmd_args = sys.argv[1:]\n",
    "\n",
    "print(\"The sys.argv list looks like this: \", sys_argv_list)\n",
    "print(\"But we are only interested in these arguments: \", cmd_args)\n",
    "```"
   ]
  },
  {
   "cell_type": "code",
   "execution_count": null,
   "metadata": {},
   "outputs": [],
   "source": [
    "!python3 scripts/lecture-2-test-sys2.py 10 20 30 40"
   ]
  },
  {
   "cell_type": "markdown",
   "metadata": {
    "slideshow": {
     "slide_type": "slide"
    }
   },
   "source": [
    "## argparse\n",
    "`argparse` is a standard library in Python used for parsing command-line arguments. It makes it easy to write user-friendly command-line interfaces by defining the arguments that your program requires and automatically generates help and error messages.\n",
    "\n",
    "Why use `argparse` instead of `sys.argv`?\n",
    "* Provides a lot of flexibility to specify how command-line arguments should be parsed.\n",
    "* Automatically generates help messages."
   ]
  },
  {
   "cell_type": "markdown",
   "metadata": {
    "slideshow": {
     "slide_type": "slide"
    }
   },
   "source": [
    "```python\n",
    "import argparse\n",
    "\n",
    "# Initialize the parser\n",
    "parser = argparse.ArgumentParser(description=\"This is a simple example.\")\n",
    "\n",
    "# Add arguments\n",
    "parser.add_argument(\"name\", help=\"Your name\")\n",
    "parser.add_argument(\"-a\", \"--age\", help=\"Your age\", type=int, default=0)\n",
    "\n",
    "# Parse the arguments\n",
    "args = parser.parse_args()\n",
    "\n",
    "# Use the arguments\n",
    "print(f\"Hello, {args.name}!\")\n",
    "if args.age:\n",
    "    print(f\"You are {args.age} years old.\")\n",
    "```"
   ]
  },
  {
   "cell_type": "code",
   "execution_count": null,
   "metadata": {
    "slideshow": {
     "slide_type": "-"
    }
   },
   "outputs": [],
   "source": [
    "!python ./scripts/lecture-2-argparse.py --help"
   ]
  },
  {
   "cell_type": "code",
   "execution_count": null,
   "metadata": {
    "slideshow": {
     "slide_type": "-"
    }
   },
   "outputs": [],
   "source": [
    "!python ./scripts/lecture-2-argparse.py steven -a 29"
   ]
  },
  {
   "cell_type": "markdown",
   "metadata": {
    "slideshow": {
     "slide_type": "slide"
    }
   },
   "source": [
    "# The input function\n",
    "Another way of getting user information is the input function. The user does not need to provide command line arguments, but can reply to questions from the program: "
   ]
  },
  {
   "cell_type": "code",
   "execution_count": null,
   "metadata": {},
   "outputs": [],
   "source": [
    "number = input('Write a number:')\n",
    "print(f'Your number is {number}')"
   ]
  },
  {
   "cell_type": "code",
   "execution_count": null,
   "metadata": {},
   "outputs": [],
   "source": [
    "numbers = input(\"Write many numbers separated by spaces\")\n",
    "print(f\"Your numbers are\", numbers)"
   ]
  },
  {
   "cell_type": "code",
   "execution_count": null,
   "metadata": {},
   "outputs": [],
   "source": [
    "numbers = input(\"Write many numbers separated by spaces\")\n",
    "print(f\"Your numbers are\", numbers.split())"
   ]
  },
  {
   "cell_type": "markdown",
   "metadata": {},
   "source": [
    "The final exapmle is quite similar to the result from sys.argv[1:]. I prefer sys, it is faster. "
   ]
  },
  {
   "cell_type": "markdown",
   "metadata": {
    "slideshow": {
     "slide_type": "slide"
    }
   },
   "source": [
    "## Useful string operations "
   ]
  },
  {
   "cell_type": "code",
   "execution_count": null,
   "metadata": {},
   "outputs": [],
   "source": [
    "info = input(\"Write the current day, date and time separated by spaces\")\n",
    "infolist = info.split()\n",
    "day = infolist[0]\n",
    "date = infolist[1:-1]\n",
    "time = infolist[-1]\n",
    "print(f\"Today is {day}. The date is {date}. The time is {time}\")"
   ]
  },
  {
   "cell_type": "code",
   "execution_count": null,
   "metadata": {},
   "outputs": [],
   "source": [
    "info = input(\"Write the current day, date and time separated by commas\")\n",
    "infolist = info.split(',')\n",
    "day = infolist[0]\n",
    "date = infolist[1]\n",
    "time = infolist[2]\n",
    "print(f\"Today is {day}. The date is {date}. The time is {time}\")"
   ]
  },
  {
   "cell_type": "markdown",
   "metadata": {
    "slideshow": {
     "slide_type": "slide"
    }
   },
   "source": [
    "## The join method\n",
    "define the list\n",
    "```python\n",
    "date = ['09', 'September']\n",
    "```\n",
    "Can you extract the info from the list into one string saying only \"09 September\""
   ]
  },
  {
   "cell_type": "code",
   "execution_count": null,
   "metadata": {},
   "outputs": [],
   "source": [
    "date = ['09', 'September']\n",
    "' '.join(date)"
   ]
  },
  {
   "cell_type": "markdown",
   "metadata": {},
   "source": [
    "## Adding strings"
   ]
  },
  {
   "cell_type": "code",
   "execution_count": null,
   "metadata": {},
   "outputs": [],
   "source": [
    "date[0]+' '+date[1]"
   ]
  },
  {
   "cell_type": "markdown",
   "metadata": {
    "slideshow": {
     "slide_type": "slide"
    }
   },
   "source": [
    "# Working with textfiles\n",
    "Text files are files containing sequences of characters. Unlike binary files, they are human-readable and are commonly used for storing data in a structured text format like JSON, CSV, or just plain text."
   ]
  },
  {
   "cell_type": "markdown",
   "metadata": {
    "slideshow": {
     "slide_type": "slide"
    }
   },
   "source": [
    "## Reading a file\n",
    "\n",
    "To open a datafile in the same location as the current .py-file use the syntax open(filename) where filename is the name of the datafile as a string:\n",
    "```python\n",
    "infile = open('data/example_data.txt')\n",
    "```\n",
    "Here example_data may look like this: \n",
    "```bash\n",
    "This is the first line of the file\n",
    "This is the second line of the file\n",
    "Below comes the interesting part of the file: \n",
    "10 20 30 \n",
    "20 30 1\n",
    "2.2 125 6.45\n",
    "0.1 20 3.14\n",
    "```"
   ]
  },
  {
   "cell_type": "code",
   "execution_count": null,
   "metadata": {},
   "outputs": [],
   "source": [
    "infile = open('data/example_data.txt')\n",
    "infile"
   ]
  },
  {
   "cell_type": "markdown",
   "metadata": {
    "slideshow": {
     "slide_type": "slide"
    }
   },
   "source": [
    "We can read the file line by line by using the method readline:"
   ]
  },
  {
   "cell_type": "code",
   "execution_count": null,
   "metadata": {},
   "outputs": [],
   "source": [
    "line1 = infile.readline()\n",
    "line2 = infile.readline()\n",
    "print(line1)\n",
    "print(line2)\n",
    "infile.close()"
   ]
  },
  {
   "cell_type": "markdown",
   "metadata": {
    "slideshow": {
     "slide_type": "slide"
    }
   },
   "source": [
    "If we are not interested in the first (few) lines we can call infile.readline() a few times to skip those lines. "
   ]
  },
  {
   "cell_type": "code",
   "execution_count": null,
   "metadata": {},
   "outputs": [],
   "source": [
    "infile = open('data/example_data.txt')\n",
    "infile.readline()\n",
    "infile.readline()\n",
    "line3 = infile.readline()\n",
    "print(line3)\n",
    "infile.close()"
   ]
  },
  {
   "cell_type": "markdown",
   "metadata": {
    "slideshow": {
     "slide_type": "slide"
    }
   },
   "source": [
    "The TextIOWrapper can be iterated over and starts at the current line in the datafile. We have already called infile.readline() three times since opening the last time, thus the first three lines are omitted in the for loop below:"
   ]
  },
  {
   "cell_type": "code",
   "execution_count": null,
   "metadata": {},
   "outputs": [],
   "source": [
    "for line in infile:\n",
    "    print(line)"
   ]
  },
  {
   "cell_type": "code",
   "execution_count": null,
   "metadata": {},
   "outputs": [],
   "source": [
    "#full program to print the interesting lines: \n",
    "infile = open('data/example_data.txt')\n",
    "infile.readline()\n",
    "infile.readline()\n",
    "infile.readline()\n",
    "for line in infile:\n",
    "    print(line)\n",
    "infile.close()"
   ]
  },
  {
   "cell_type": "markdown",
   "metadata": {
    "slideshow": {
     "slide_type": "slide"
    }
   },
   "source": [
    "### We can use readlines() to read all lines at once"
   ]
  },
  {
   "cell_type": "code",
   "execution_count": null,
   "metadata": {},
   "outputs": [],
   "source": [
    "infile = open('data/example_data.txt')\n",
    "lines = infile.readlines()\n",
    "print(lines)"
   ]
  },
  {
   "cell_type": "markdown",
   "metadata": {},
   "source": [
    "Now assume that we wanted to store the numbers from the file in three lists/columns: c1, c2 and c3. In the end we should end up with: \n",
    "```python\n",
    "c1 = [10, 20, 2.2, 0.1]\n",
    "c2 = [20, 30, 125, 20]\n",
    "c3 = [30, 1, 6.45, 3.14]\n",
    "```"
   ]
  },
  {
   "cell_type": "markdown",
   "metadata": {
    "slideshow": {
     "slide_type": "slide"
    }
   },
   "source": [
    "### `with` keyword\n",
    "You can use the `with` keyword to automatically close the file after you are done reading/writing to it."
   ]
  },
  {
   "cell_type": "code",
   "execution_count": null,
   "metadata": {},
   "outputs": [],
   "source": [
    "with open('data/example_data.txt') as f:\n",
    "    lines = f.readlines()\n",
    "    print(lines)"
   ]
  },
  {
   "cell_type": "markdown",
   "metadata": {
    "slideshow": {
     "slide_type": "slide"
    }
   },
   "source": [
    "### Exercise (5-10 minutes)\n",
    "1) Read the file \"GRA4157/lectures/02-python-summary-2/data/example_data.txt\" in python\n",
    "\n",
    "2) Create empty lists c1, c2, and c3. Then iterate over the infile and add the first number in each line to c1, the second number in each line to c2 and the third number to c3. The type of objects in the lists should be float. "
   ]
  },
  {
   "cell_type": "markdown",
   "metadata": {
    "slideshow": {
     "slide_type": "slide"
    }
   },
   "source": [
    "### Useful string operations 2\n",
    "\n",
    "The methods startswith, in and endswith are useful string operations that may be used when reading files. \n",
    "\n",
    "example_data2.txt\n",
    "```bash\n",
    "This is a header\n",
    "This is a header\n",
    "Numbers: 1 2 3\n",
    "Numbers: 2 3 4\n",
    "5 6 7\n",
    "```\n",
    "1) We are only interested in the lines that starts with \"Numbers\":"
   ]
  },
  {
   "cell_type": "code",
   "execution_count": null,
   "metadata": {},
   "outputs": [],
   "source": [
    "infile = open('data/example_data2.txt')\n",
    "for line in infile:\n",
    "    if line.startswith('Number'):\n",
    "        print(line)"
   ]
  },
  {
   "cell_type": "markdown",
   "metadata": {
    "slideshow": {
     "slide_type": "slide"
    }
   },
   "source": [
    "2) We are only interested in the lines that does not end with \"header\""
   ]
  },
  {
   "cell_type": "code",
   "execution_count": null,
   "metadata": {},
   "outputs": [],
   "source": [
    "infile = open('data/example_data2.txt')\n",
    "for line in infile:\n",
    "    if not line.endswith('header\\n'):\n",
    "        print(line)"
   ]
  },
  {
   "cell_type": "code",
   "execution_count": null,
   "metadata": {},
   "outputs": [],
   "source": [
    "infile = open('data/example_data2.txt')\n",
    "for line in infile:\n",
    "    if not line.strip().endswith('header'):\n",
    "        print(line)"
   ]
  },
  {
   "cell_type": "markdown",
   "metadata": {
    "slideshow": {
     "slide_type": "slide"
    }
   },
   "source": [
    "3) We are only interested in lines that has the number 2 in them"
   ]
  },
  {
   "cell_type": "code",
   "execution_count": null,
   "metadata": {},
   "outputs": [],
   "source": [
    "infile = open('data/example_data2.txt')\n",
    "for line in infile:\n",
    "    if '2' in line:\n",
    "        print(line)\n",
    "infile.close()"
   ]
  },
  {
   "cell_type": "markdown",
   "metadata": {
    "slideshow": {
     "slide_type": "slide"
    }
   },
   "source": [
    "## Writing to file"
   ]
  },
  {
   "cell_type": "markdown",
   "metadata": {
    "slideshow": {
     "slide_type": "-"
    }
   },
   "source": [
    "To write to file, we still use the open() function, but we have to specify that we want to write to file. \n",
    "```python\n",
    "outfile = open('data/outfile.txt','w')\n",
    "```\n",
    "The mode, here \"w\", indicates that we want to write to file. The default value (when nothing is provided as in the previous examples) indicates that we want to read from file. Warning: If the file outfile.txt exists, everything will be overwritten by what we decide to write to the file. "
   ]
  },
  {
   "cell_type": "code",
   "execution_count": null,
   "metadata": {},
   "outputs": [],
   "source": [
    "outfile = open('data/outfile.txt','w')\n",
    "outfile.write('This is the first line of the file')\n",
    "outfile.close()"
   ]
  },
  {
   "cell_type": "code",
   "execution_count": null,
   "metadata": {},
   "outputs": [],
   "source": [
    "outfile = open('data/outfile.txt','w')\n",
    "outfile.write('The previous line is deleted and this is the new line')\n",
    "outfile.close()"
   ]
  },
  {
   "cell_type": "markdown",
   "metadata": {
    "slideshow": {
     "slide_type": "slide"
    }
   },
   "source": [
    "We can append to existing files using the 'a' mode when opening:"
   ]
  },
  {
   "cell_type": "code",
   "execution_count": null,
   "metadata": {},
   "outputs": [],
   "source": [
    "outfile = open('data/outfile.txt','a')\n",
    "outfile.write('The previous text is still there, and this line was just appended')\n",
    "outfile.close()"
   ]
  },
  {
   "cell_type": "markdown",
   "metadata": {
    "slideshow": {
     "slide_type": "slide"
    }
   },
   "source": [
    "Use \\n for newline"
   ]
  },
  {
   "cell_type": "code",
   "execution_count": null,
   "metadata": {},
   "outputs": [],
   "source": [
    "outfile = open('data/outfile.txt','a')      # use 'w' to write to new file 'a' to append to an already existing file\n",
    "outfile.write(\"Now let's add a new line:\\n\")\n",
    "outfile.write(\"This is the new line\")\n",
    "outfile.close()"
   ]
  },
  {
   "cell_type": "markdown",
   "metadata": {
    "slideshow": {
     "slide_type": "-"
    }
   },
   "source": [
    "We perform all the operations we want on a file before closing it. In the previous example we closed the file after each operation to inspect changes while we wrote. "
   ]
  },
  {
   "cell_type": "markdown",
   "metadata": {
    "slideshow": {
     "slide_type": "slide"
    }
   },
   "source": [
    "### Exercise: write a table to file\n",
    "Assume that we have 10 numbers in a python list: [1,2,3,4,5,6,7,8,9,10]. \n",
    "Use python to write a file that contains the numbers as a column and another column with the square root of the given number. The file should look like this: \n",
    "```bash\n",
    "x sqrt(x)\n",
    "1 1\n",
    "2 1.41\n",
    "...\n",
    "```\n",
    "You can decide on how many decimals and on which format the sqrt(x) should contain in the file. "
   ]
  },
  {
   "cell_type": "markdown",
   "metadata": {
    "slideshow": {
     "slide_type": "slide"
    }
   },
   "source": [
    "## Starting to work with bigger data sets\n",
    "Example: How to people spend their time? \n",
    "<img src=\"figs/Timeuse.png\" style=\"width: 90%; margin: auto;\">\n",
    "\n"
   ]
  },
  {
   "cell_type": "markdown",
   "metadata": {
    "slideshow": {
     "slide_type": "slide"
    }
   },
   "source": [
    "I have exported the data to a .txt file: \n",
    "```text\n",
    ",Country,Category,Time (minutes)\n",
    "0,Australia,Paid work,211.146629603892\n",
    "1,Austria,Paid work,279.53226810278\n",
    "2,Belgium,Paid work,194.476452188763\n",
    "3,Canada,Paid work,268.660609647898\n",
    "4,Denmark,Paid work,199.771595915566\n",
    "...\n",
    "```"
   ]
  },
  {
   "cell_type": "markdown",
   "metadata": {
    "slideshow": {
     "slide_type": "slide"
    }
   },
   "source": [
    "\n",
    "Let us now assume that we are only interested in how much people in a given country work (Paid work). How would you extract this information? The file has 462 lines, so manual reading is not effective.\n",
    "\n",
    "\n",
    "\n",
    "\n",
    "\n",
    "\n",
    "\n",
    "\n",
    "\n",
    "\n",
    "\n",
    "\n",
    "\n",
    "\n",
    "\n",
    "\n",
    "\n",
    "\n",
    "\n",
    "\n"
   ]
  },
  {
   "cell_type": "code",
   "execution_count": null,
   "metadata": {
    "slideshow": {
     "slide_type": "slide"
    }
   },
   "outputs": [],
   "source": [
    "infile = open('data/Time-use.txt')\n",
    "for line in infile:\n",
    "    if \"Paid work\" in line:\n",
    "        print(line)"
   ]
  },
  {
   "cell_type": "code",
   "execution_count": null,
   "metadata": {},
   "outputs": [],
   "source": [
    "infile = open('data/Time-use.txt')\n",
    "line0 = infile.readline()\n",
    "line1 = infile.readline()\n",
    "print(line1)\n",
    "info = line1.split(',')\n",
    "print(info)"
   ]
  },
  {
   "cell_type": "code",
   "execution_count": null,
   "metadata": {},
   "outputs": [],
   "source": [
    "infile = open('data/Time-use.txt')\n",
    "work = {}\n",
    "for line in infile:\n",
    "    if \"Paid work\" in line:\n",
    "        info = line.split(',')\n",
    "        country = info[1].strip()\n",
    "        hours = info[-1]\n",
    "        work[country] = float(hours.strip())\n",
    "print(work)"
   ]
  },
  {
   "cell_type": "code",
   "execution_count": null,
   "metadata": {},
   "outputs": [],
   "source": [
    "print(work['India'])\n",
    "print(work['Norway'])"
   ]
  },
  {
   "cell_type": "code",
   "execution_count": null,
   "metadata": {
    "slideshow": {
     "slide_type": "-"
    }
   },
   "outputs": [],
   "source": [
    "number = min(work.values())\n",
    "print(number)"
   ]
  },
  {
   "cell_type": "code",
   "execution_count": null,
   "metadata": {},
   "outputs": [],
   "source": [
    "idx = list(work.values()).index(number)\n",
    "print(idx)"
   ]
  },
  {
   "cell_type": "code",
   "execution_count": null,
   "metadata": {},
   "outputs": [],
   "source": [
    "list(work.keys())[idx]"
   ]
  },
  {
   "cell_type": "markdown",
   "metadata": {
    "slideshow": {
     "slide_type": "slide"
    }
   },
   "source": [
    "### Exercise\n",
    "\n",
    "Locate the file GRA4157/lectures/02-python-summary-2/data/Time-use.txt.\n",
    "\n",
    "1) Write a program that reads the file, and prints out all information about Norway. \n",
    "\n",
    "2) Write a program that reads the file, and prints out the information about Leisure time for all countries. \n",
    "\n",
    "3) Write a program that reads the file, and writes a new file sleep.txt, only consisting of the minutes of sleep per country. sleep.txt thus contains two columns, one column of countries and a corresponding column with minutes of sleep. The header should be \"Country Sleep-minutes\".\n",
    "\n",
    "3) Write a program that computes a \"happiness score\" per country. The happiness score is computed via: hours_of_sleep + seeing_friends + other_leisure + 1.2\\*education - 0.2*paid_work"
   ]
  },
  {
   "cell_type": "markdown",
   "metadata": {
    "slideshow": {
     "slide_type": "slide"
    }
   },
   "source": [
    "# More on errors and exceptions\n",
    "We often want to convert data from files (strings) to floating point numbers:"
   ]
  },
  {
   "cell_type": "markdown",
   "metadata": {},
   "source": [
    "```txt\n",
    "This is the first line of the file\n",
    "This is the second line of the file\n",
    "Below comes the interesting part of the file: \n",
    "10 20 30 \n",
    "20 30 1\n",
    "2.2 125 6.45\n",
    "0.1 20 3.14\n",
    "```"
   ]
  },
  {
   "cell_type": "code",
   "execution_count": null,
   "metadata": {},
   "outputs": [],
   "source": [
    "infile = open('data/example_data.txt')\n",
    "numbers = []\n",
    "for line in infile:\n",
    "    info = line.split()\n",
    "    try:\n",
    "        number = float(info[0])\n",
    "        numbers.append(number)\n",
    "    except:\n",
    "        print('Skipping line: ', line)\n",
    "    \n",
    "print(numbers)\n",
    "    "
   ]
  },
  {
   "cell_type": "markdown",
   "metadata": {
    "slideshow": {
     "slide_type": "slide"
    }
   },
   "source": [
    "## Raise (throw) an exception\n",
    "When working with input data, we often want the program to fail when wrong input is provided:"
   ]
  },
  {
   "cell_type": "code",
   "execution_count": null,
   "metadata": {},
   "outputs": [],
   "source": [
    "message = input('Write hello')\n",
    "if message != 'hello':\n",
    "    raise Exception('The input should be hello')"
   ]
  },
  {
   "cell_type": "markdown",
   "metadata": {},
   "source": [
    "There are numerous exceptions in python:"
   ]
  },
  {
   "cell_type": "code",
   "execution_count": null,
   "metadata": {},
   "outputs": [],
   "source": [
    "number = float(input('Write a number between 0 and 10'))\n",
    "if number <= 0 or number >= 10:\n",
    "    raise ValueError('The number must be between 0 and 10')"
   ]
  },
  {
   "cell_type": "markdown",
   "metadata": {
    "slideshow": {
     "slide_type": "slide"
    }
   },
   "source": [
    "# More on reading files"
   ]
  },
  {
   "cell_type": "code",
   "execution_count": null,
   "metadata": {},
   "outputs": [],
   "source": [
    "with open('data/example_data.txt') as infile:\n",
    "    for line in infile:\n",
    "        print(line)"
   ]
  },
  {
   "cell_type": "markdown",
   "metadata": {},
   "source": [
    "Gather all information about the countries in a nested dictionary"
   ]
  },
  {
   "cell_type": "code",
   "execution_count": null,
   "metadata": {},
   "outputs": [],
   "source": [
    "all_data = {}\n",
    "with open('data/Time-use.txt') as infile:\n",
    "    headers = infile.readline().split()\n",
    "    for line in infile:\n",
    "        info = line.split(',')\n",
    "        country = info[1].strip()\n",
    "        if not country in all_data:\n",
    "            all_data[country] = {}\n",
    "        else:\n",
    "            all_data[country][info[2]] = float(info[3])\n",
    "\n",
    "            \n",
    "all_data['Norway']"
   ]
  },
  {
   "cell_type": "markdown",
   "metadata": {
    "slideshow": {
     "slide_type": "-"
    }
   },
   "source": [
    "We will later work with pandas that can deal with these \"nested dictionaries\" automatically"
   ]
  },
  {
   "cell_type": "markdown",
   "metadata": {
    "slideshow": {
     "slide_type": "slide"
    }
   },
   "source": [
    "# Essentials to better Python\n",
    "\n",
    "**Overview**\n",
    " * List comprehensions\n",
    " * Decorators\n",
    " * PEP8"
   ]
  },
  {
   "cell_type": "markdown",
   "metadata": {
    "slideshow": {
     "slide_type": "slide"
    }
   },
   "source": [
    "# List comprehensions\n",
    "\n",
    "List comprehensions provide a compact and readible way to create lists. \n",
    "\n",
    "\n",
    "**Syntax**:\n",
    "\n",
    "Create a list without list comprehension:\n",
    "\n",
    "```python\n",
    "from math import sin\n",
    "old_list = [0.1, 0.3, -0.4, 0.2]\n",
    "def filter(x):\n",
    "    if x > 0:\n",
    "        return True\n",
    "    else:\n",
    "        return False\n",
    "    \n",
    "new_list = []\n",
    "for x in old_list:\n",
    "    if filter(x):\n",
    "        new_list.append(sin(x))\n",
    "```        \n",
    "the same task with list comprehension\n",
    "\n",
    "```python\n",
    "new_list = [sin(x) for x in old_list if filter(x)]\n",
    "```"
   ]
  },
  {
   "cell_type": "markdown",
   "metadata": {
    "slideshow": {
     "slide_type": "slide"
    }
   },
   "source": [
    "### Example 1: List of even numbers\n",
    "\n",
    "**Task**: Create a list of even numbers.\n",
    "\n",
    "**Solution** without list comprehension:"
   ]
  },
  {
   "cell_type": "code",
   "execution_count": null,
   "metadata": {},
   "outputs": [],
   "source": [
    "def is_even(i):\n",
    "    return i%2==0\n",
    "\n",
    "even_numbers = []\n",
    "for i in range(20):\n",
    "    if is_even(i):\n",
    "        even_numbers.append(i)\n",
    "print(even_numbers)"
   ]
  },
  {
   "cell_type": "markdown",
   "metadata": {
    "slideshow": {
     "slide_type": "slide"
    }
   },
   "source": [
    "**Solution** with list comprehension:"
   ]
  },
  {
   "cell_type": "code",
   "execution_count": null,
   "metadata": {},
   "outputs": [],
   "source": [
    "even_numbers = [i for i in range(20) if i%2==0]\n",
    "even_numbers"
   ]
  },
  {
   "cell_type": "markdown",
   "metadata": {
    "slideshow": {
     "slide_type": "slide"
    }
   },
   "source": [
    "### Example 2: Remove sensitive information from log data\n",
    "\n",
    "**Task**: Remove all strings in a logfile that contain passwords\n",
    "\n",
    "**Solution** without list comprehension:"
   ]
  },
  {
   "cell_type": "code",
   "execution_count": null,
   "metadata": {},
   "outputs": [],
   "source": [
    "fp = open(\"data/log.txt\", \"r\")\n",
    "\n",
    "log = []\n",
    "for line in fp:\n",
    "    if \"password\" not in line:\n",
    "        log.append(line.strip())\n",
    "fp.close() \n",
    "\n",
    "log"
   ]
  },
  {
   "cell_type": "markdown",
   "metadata": {
    "slideshow": {
     "slide_type": "slide"
    }
   },
   "source": [
    "**Solution** with list comprehension:"
   ]
  },
  {
   "cell_type": "code",
   "execution_count": null,
   "metadata": {},
   "outputs": [],
   "source": [
    "with open('data/log.txt', \"r\") as fp:\n",
    "    log = [line.strip() for line in fp if \"password\" not in line]\n",
    "    \n",
    "log    "
   ]
  },
  {
   "cell_type": "markdown",
   "metadata": {
    "slideshow": {
     "slide_type": "slide"
    }
   },
   "source": [
    "## Functions as arguments"
   ]
  },
  {
   "cell_type": "markdown",
   "metadata": {},
   "source": [
    "Like all objects, functions can be arguments to functions"
   ]
  },
  {
   "cell_type": "code",
   "execution_count": null,
   "metadata": {},
   "outputs": [],
   "source": [
    "def add(x,y):\n",
    "    return x+y\n",
    "\n",
    "def sub(x, y):\n",
    "    return x-y\n",
    "\n",
    "def apply(func, x, y):\n",
    "    return func(x, y)"
   ]
  },
  {
   "cell_type": "code",
   "execution_count": null,
   "metadata": {},
   "outputs": [],
   "source": [
    "apply(add, 1, 2)"
   ]
  },
  {
   "cell_type": "code",
   "execution_count": null,
   "metadata": {},
   "outputs": [],
   "source": [
    "apply(sub, 7, 5)"
   ]
  },
  {
   "cell_type": "markdown",
   "metadata": {
    "slideshow": {
     "slide_type": "slide"
    }
   },
   "source": [
    "## Functions inside functions"
   ]
  },
  {
   "cell_type": "markdown",
   "metadata": {},
   "source": [
    "Python allows nested function definitions:"
   ]
  },
  {
   "cell_type": "code",
   "execution_count": null,
   "metadata": {},
   "outputs": [],
   "source": [
    "def g(x, y):\n",
    "    \n",
    "    def cube(x):\n",
    "        return x*x*x\n",
    "    \n",
    "    return y*cube(x)\n",
    "\n",
    "g(4, 6) "
   ]
  },
  {
   "cell_type": "markdown",
   "metadata": {
    "slideshow": {
     "slide_type": "slide"
    }
   },
   "source": [
    "## Function returning functions"
   ]
  },
  {
   "cell_type": "code",
   "execution_count": null,
   "metadata": {},
   "outputs": [],
   "source": [
    "def h():\n",
    "    pi = 0.13\n",
    "    def inner_h():\n",
    "        print(\"Inside inner_h but can access pi={}\".format(pi))\n",
    "        \n",
    "    return inner_h\n",
    "\n",
    "foo = h()\n",
    "foo"
   ]
  },
  {
   "cell_type": "code",
   "execution_count": null,
   "metadata": {},
   "outputs": [],
   "source": [
    "foo()"
   ]
  },
  {
   "cell_type": "markdown",
   "metadata": {
    "slideshow": {
     "slide_type": "slide"
    }
   },
   "source": [
    "## More functions returning functions: *decorators*"
   ]
  },
  {
   "cell_type": "markdown",
   "metadata": {},
   "source": [
    "A toy example"
   ]
  },
  {
   "cell_type": "code",
   "execution_count": null,
   "metadata": {},
   "outputs": [],
   "source": [
    "def foo():\n",
    "    return 1\n",
    "\n",
    "def outer(func):\n",
    "    def inner():\n",
    "        print(\"before calling function\")\n",
    "        return func() + 100\n",
    "    return inner\n",
    "\n",
    "decorated = outer(foo)"
   ]
  },
  {
   "cell_type": "markdown",
   "metadata": {},
   "source": [
    "The function `decorated` is a decorated version of function `foo`.\n",
    "It is `foo` plus something more:"
   ]
  },
  {
   "cell_type": "code",
   "execution_count": null,
   "metadata": {},
   "outputs": [],
   "source": [
    "decorated()"
   ]
  },
  {
   "cell_type": "markdown",
   "metadata": {},
   "source": [
    "To simplify, we could just write\n",
    "```python \n",
    "foo = outer(foo)\n",
    "```\n",
    "to replace foo with its decorated version each time it is called"
   ]
  },
  {
   "cell_type": "markdown",
   "metadata": {
    "slideshow": {
     "slide_type": "slide"
    }
   },
   "source": [
    "## A (slightly) more useful decorator"
   ]
  },
  {
   "cell_type": "markdown",
   "metadata": {},
   "source": [
    "Suppose we have been given a function that only works for some numerical inputs:"
   ]
  },
  {
   "cell_type": "code",
   "execution_count": null,
   "metadata": {},
   "outputs": [],
   "source": [
    "from math import log\n",
    "def f(x):\n",
    "    return log(x) - 2  # Not defined for x<=0"
   ]
  },
  {
   "cell_type": "code",
   "execution_count": null,
   "metadata": {},
   "outputs": [],
   "source": [
    "f(5)"
   ]
  },
  {
   "cell_type": "code",
   "execution_count": null,
   "metadata": {},
   "outputs": [],
   "source": [
    "f(-1)"
   ]
  },
  {
   "cell_type": "markdown",
   "metadata": {},
   "source": [
    "Suppose we want to limit the range of values sent to this function:"
   ]
  },
  {
   "cell_type": "markdown",
   "metadata": {},
   "source": [
    "The idea is that we **wrap** the function inside another function:"
   ]
  },
  {
   "cell_type": "markdown",
   "metadata": {
    "slideshow": {
     "slide_type": "slide"
    }
   },
   "source": [
    "## Interactive programming (15 minutes)"
   ]
  },
  {
   "cell_type": "markdown",
   "metadata": {},
   "source": [
    "1) Implement the normal function f(x) in a python script\n",
    "\n",
    "2) Create a decorator-function checkrange that calls f, but prints a custom message to the user if x <= 0. Hint: The decorator function chekcrange should return a function, and not a function call. \n",
    "\n",
    "3) Optional: Perform a test using a test function (with assert) checking that your function works as intended"
   ]
  },
  {
   "cell_type": "code",
   "execution_count": null,
   "metadata": {},
   "outputs": [],
   "source": [
    "from math import log\n",
    "\n",
    "def checkrange(func):\n",
    "    \"\"\"Provides a safe version of f. Avoids math domain error.\"\"\"\n",
    "    #def inner\n",
    "        #...\n",
    "        # return ...\n",
    "    #return inner\n",
    "\n",
    "def f(x):\n",
    "    return log(x) - 2  # Not defined for x<=0"
   ]
  },
  {
   "cell_type": "code",
   "execution_count": null,
   "metadata": {},
   "outputs": [],
   "source": [
    "def checkrange(func):\n",
    "    def inner(x):\n",
    "        if x <= 0:\n",
    "            print(\"Error: x must be larger than zero\")\n",
    "        else:\n",
    "            return func(x)\n",
    "    return inner"
   ]
  },
  {
   "cell_type": "code",
   "execution_count": null,
   "metadata": {},
   "outputs": [],
   "source": [
    "f_safe = checkrange(f)\n",
    "f_safe(5)"
   ]
  },
  {
   "cell_type": "code",
   "execution_count": null,
   "metadata": {},
   "outputs": [],
   "source": [
    "f_safe(-1)"
   ]
  },
  {
   "cell_type": "markdown",
   "metadata": {},
   "source": [
    "Voilà!!"
   ]
  },
  {
   "cell_type": "markdown",
   "metadata": {
    "slideshow": {
     "slide_type": "slide"
    }
   },
   "source": [
    "## The `@decorator` syntax"
   ]
  },
  {
   "cell_type": "markdown",
   "metadata": {},
   "source": [
    "Python provides a short notation for decorating a function with\n",
    "another function:"
   ]
  },
  {
   "cell_type": "code",
   "execution_count": null,
   "metadata": {},
   "outputs": [],
   "source": [
    "@checkrange\n",
    "def g(x):\n",
    "    return log(x) - 2"
   ]
  },
  {
   "cell_type": "code",
   "execution_count": null,
   "metadata": {},
   "outputs": [],
   "source": [
    "g(0)"
   ]
  },
  {
   "cell_type": "markdown",
   "metadata": {},
   "source": [
    "This is essentially the same as writing `g = checkrange(g)`."
   ]
  },
  {
   "cell_type": "markdown",
   "metadata": {},
   "source": [
    "A decorator is simply a function taking a function as input\n",
    "and returning another function. \n",
    "\n",
    "The syntax `@decorator` is a\n",
    "short-cut for the more explicit `f = decorator(f)`."
   ]
  },
  {
   "cell_type": "markdown",
   "metadata": {
    "slideshow": {
     "slide_type": "slide"
    }
   },
   "source": [
    "## A (much) more useful decorator: memoization"
   ]
  },
  {
   "cell_type": "markdown",
   "metadata": {},
   "source": [
    "The first time we learned multiplication, our strategy might to add cumulatively: e.g. 3x3 = 3 + 3 + 3 = 6 + 3 = 9"
   ]
  },
  {
   "cell_type": "code",
   "execution_count": null,
   "metadata": {},
   "outputs": [],
   "source": [
    "from time import sleep\n",
    "\n",
    "def slow_mult(x,y):\n",
    "    res = 0\n",
    "    for i in range(y):\n",
    "        print(\"Thinking...\")\n",
    "        sleep(1)\n",
    "        res += x\n",
    "    return res\n",
    "\n",
    "print(slow_mult(3,3))\n",
    "print(slow_mult(3,3))"
   ]
  },
  {
   "cell_type": "markdown",
   "metadata": {},
   "source": [
    "We call the function with the same input arguments, and hence perform the same (slow) calculations multiple times."
   ]
  },
  {
   "cell_type": "markdown",
   "metadata": {},
   "source": [
    "The idea of memoization (or buffering) is to buffer the input-output pairs for which the function was called.\n",
    "If the function is called twice with same input arguments, we return the buffer value."
   ]
  },
  {
   "cell_type": "markdown",
   "metadata": {
    "slideshow": {
     "slide_type": "slide"
    }
   },
   "source": [
    "The implementation of a memoization with a `decorator` could look like:"
   ]
  },
  {
   "cell_type": "code",
   "execution_count": null,
   "metadata": {
    "slideshow": {
     "slide_type": "-"
    }
   },
   "outputs": [],
   "source": [
    "\n",
    "def memoize(func):\n",
    "    ''' Caches a function's return value each time it is called.\n",
    "        If called later with the same arguments, the cached value is returned\n",
    "        (not reevaluated). '''\n",
    "    cache = {}  # Stores all input-output pairs\n",
    "\n",
    "    def inner(x, y):\n",
    "        if (x, y) in cache:\n",
    "            return cache[(x, y)]\n",
    "        else:\n",
    "            result = func(x, y)\n",
    "            cache[(x, y)] = result\n",
    "            return result\n",
    "        \n",
    "    return inner"
   ]
  },
  {
   "cell_type": "markdown",
   "metadata": {
    "slideshow": {
     "slide_type": "slide"
    }
   },
   "source": [
    "Now we can apply the decorator to our slow function. Demo:"
   ]
  },
  {
   "cell_type": "code",
   "execution_count": null,
   "metadata": {},
   "outputs": [],
   "source": [
    "@memoize\n",
    "def slow_mult(x, y):\n",
    "    print(\"Thinking...\")\n",
    "    sleep(1)     # Simulate a long computation\n",
    "    return x*y\n",
    "\n",
    "@memoize\n",
    "def slow_add(x, y):\n",
    "    print(\"Thinking...\")\n",
    "    sleep(1)     # Simulate a long computation\n",
    "    return x+y"
   ]
  },
  {
   "cell_type": "markdown",
   "metadata": {},
   "source": [
    "... and test it out"
   ]
  },
  {
   "cell_type": "code",
   "execution_count": null,
   "metadata": {},
   "outputs": [],
   "source": [
    "slow_mult(3, 6)"
   ]
  },
  {
   "cell_type": "markdown",
   "metadata": {
    "slideshow": {
     "slide_type": "slide"
    }
   },
   "source": [
    "## Decorator summary "
   ]
  },
  {
   "cell_type": "markdown",
   "metadata": {},
   "source": [
    "* A function that takes a function as argument and returns a modified function\n",
    "* `@decorator` syntax simply a short cut for the standard function call `f = decorator(f)`."
   ]
  },
  {
   "cell_type": "markdown",
   "metadata": {
    "slideshow": {
     "slide_type": "slide"
    }
   },
   "source": [
    "## PEP8: How to write more Pythonic code\n",
    "\n",
    "Clear and consistent style is critical for writing \"good code\".\n",
    "\n",
    "* Python comes with an extensive programming style guidline: **PEP8**.\n",
    "* It consists of a list of do's and dont's for writing Python.\n",
    "* Get familiar with the conventions once, and you will automatically start using them.\n",
    "* I will give you some examples below"
   ]
  },
  {
   "cell_type": "markdown",
   "metadata": {
    "slideshow": {
     "slide_type": "slide"
    }
   },
   "source": [
    "### Guide to Pythonic code: Bindary operations\n",
    "\n",
    "* Add whitespaces around bindary mathematical operations:\n",
    "\n",
    "```python\n",
    "# Do:\n",
    "x = x + 1\n",
    "\n",
    "# Don't:\n",
    "x=x+1\n",
    "```\n"
   ]
  },
  {
   "cell_type": "markdown",
   "metadata": {
    "slideshow": {
     "slide_type": "slide"
    }
   },
   "source": [
    "### Guide to Pythonic code: Naming conventions \n",
    "\n",
    "\n",
    "* For **variables**:\n",
    "\n",
    "```python\n",
    "# Do\n",
    "shopping_list = [\"Bananas\", \"Apples\"]\n",
    "gravity_acceleration = 9.81\n",
    "# Don't\n",
    "ListOfStudents = [\"Bananas\", \"Apples\"]\n",
    "GRAVITYACCELERATION = 9.91  \n",
    "```\n",
    "\n",
    "* For **functions**:\n",
    "    \n",
    "```python\n",
    "def order_items(image):\n",
    "    pass\n",
    "```\n",
    "\n",
    "* For **classes**:\n",
    "\n",
    "```python\n",
    "# Do:\n",
    "class ElectricCar:\n",
    "    pass\n",
    "\n",
    "# Don't:\n",
    "class electriccar:\n",
    "    pass\n",
    "```\n"
   ]
  },
  {
   "cell_type": "markdown",
   "metadata": {
    "slideshow": {
     "slide_type": "slide"
    }
   },
   "source": [
    "### Guide to Pythonic code: Indentations and spacing\n",
    "\n",
    "\n",
    "* Aways use **four** white spaces when indenting (set your editor accordingly):\n",
    "\n",
    "```python\n",
    "# Do\n",
    "def order_items(image):\n",
    "    pass  # Four whitespaces\n",
    "\n",
    "\n",
    "# Don't \n",
    "def order_items(image):\n",
    "  pass    # Not four whitespaces\n",
    "```\n",
    "\n",
    "* Break long lines \"nicely\":\n",
    "\n",
    "```python\n",
    "# Do:\n",
    "shopping_list = {\"Apple\": 2, \"Banana\": 10, \"Chocolate\": 1,\n",
    "                 \"Toothpaste\": 1, \"Shampoo\": 2}\n",
    "\n",
    "# Don't: second line is under-indented\n",
    "shopping_list = {\"Apple\": 2, \"Banana\": 10, \"Chocolate\": 1, \"Toothpaste\": 1, \"Shampoo\": 2}\n",
    "```"
   ]
  }
 ],
 "metadata": {
  "celltoolbar": "Slideshow",
  "kernelspec": {
   "display_name": "Python 3 (ipykernel)",
   "language": "python",
   "name": "python3"
  },
  "language_info": {
   "codemirror_mode": {
    "name": "ipython",
    "version": 3
   },
   "file_extension": ".py",
   "mimetype": "text/x-python",
   "name": "python",
   "nbconvert_exporter": "python",
   "pygments_lexer": "ipython3",
   "version": "3.10.8"
  },
  "rise": {
   "scroll": true,
   "start_slideshow_at": "selected",
   "theme": "serif",
   "transition": "none"
  }
 },
 "nbformat": 4,
 "nbformat_minor": 4
}
