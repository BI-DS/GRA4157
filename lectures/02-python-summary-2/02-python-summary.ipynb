{
 "cells": [
  {
   "cell_type": "markdown",
   "metadata": {
    "slideshow": {
     "slide_type": "slide"
    }
   },
   "source": [
    "# User input and textfiles\n",
    "\n"
   ]
  },
  {
   "cell_type": "markdown",
   "metadata": {
    "slideshow": {
     "slide_type": "slide"
    }
   },
   "source": [
    "## Contents\n",
    "  \n",
    "* User input (sys)\n",
    "* User input (input)\n",
    "* Useful string operations\n",
    "* Reading data from files\n",
    "* Writing data to file\n",
    "* Errors/exceptions"
   ]
  },
  {
   "cell_type": "markdown",
   "metadata": {
    "slideshow": {
     "slide_type": "subslide"
    }
   },
   "source": [
    "## Command line arguments:\n",
    "\n",
    "Command line arguments are \"words\" written after the program name when you run it, e.g. \n",
    "```bash\n",
    "python3 hello_world.py 10\n",
    "```\n",
    "Here the command line argument is 10. If you are running from spyder on anaconda (or any iPyhon environment) command line arguments are provided by\n",
    "\n",
    "```python\n",
    "!python3 hello_world.py 10\n",
    "```"
   ]
  },
  {
   "cell_type": "markdown",
   "metadata": {
    "slideshow": {
     "slide_type": "subslide"
    }
   },
   "source": [
    "## Recap of the sys.argv list:\n",
    "\n",
    "sys is a python package and may be imported by\n",
    "```python\n",
    "import sys\n",
    "```\n",
    "\n"
   ]
  },
  {
   "cell_type": "markdown",
   "metadata": {
    "slideshow": {
     "slide_type": "subslide"
    }
   },
   "source": [
    "### The first example (test_sys.py):\n",
    "\n",
    "\n",
    "```python\n",
    "\n",
    "import sys\n",
    "print(f\"In this program, {sys.argv[1]} is the command line argument\")\n",
    "\n",
    "```"
   ]
  },
  {
   "cell_type": "code",
   "execution_count": null,
   "metadata": {},
   "outputs": [],
   "source": [
    "!python3 scripts/lecture-2-test-sys.py 10"
   ]
  },
  {
   "cell_type": "markdown",
   "metadata": {
    "slideshow": {
     "slide_type": "subslide"
    }
   },
   "source": [
    "### Several command line arguments (test_sys2.py)\n",
    "\n",
    "the \"magic\" sys.argv line refers to the list sys.argv which consists of all the words (separated by spaces) that are listed on the command line (including the program name)\n",
    "\n",
    "```python\n",
    "import sys\n",
    "\n",
    "sys_argv_list = sys.argv\n",
    "cmd_args = sys.argv[1:]\n",
    "\n",
    "print(\"The sys.argv list looks like this: \", sys_argv_list)\n",
    "print(\"But we are only interested in these arguments: \", cmd_args)\n",
    "```"
   ]
  },
  {
   "cell_type": "code",
   "execution_count": null,
   "metadata": {},
   "outputs": [],
   "source": [
    "!python3 scripts/lecture-2-test-sys2.py 10 20 30 40"
   ]
  },
  {
   "cell_type": "markdown",
   "metadata": {},
   "source": [
    "# argparse\n",
    "`argparse` is a standard library in Python used for parsing command-line arguments. It makes it easy to write user-friendly command-line interfaces by defining the arguments that your program requires and automatically generates help and error messages.\n",
    "\n",
    "Why use `argparse` instead of `sys.argv`?\n",
    "\n",
    "* Provides a lot of flexibility to specify how command-line arguments should be parsed.\n",
    "* Automatically generates help messages."
   ]
  },
  {
   "cell_type": "markdown",
   "metadata": {},
   "source": [
    "```python\n",
    "import argparse\n",
    "\n",
    "# Initialize the parser\n",
    "parser = argparse.ArgumentParser(description=\"This is a simple example.\")\n",
    "\n",
    "# Add arguments\n",
    "parser.add_argument(\"name\", help=\"Your name\")\n",
    "parser.add_argument(\"-a\", \"--age\", help=\"Your age\", type=int, default=0)\n",
    "\n",
    "# Parse the arguments\n",
    "args = parser.parse_args()\n",
    "\n",
    "# Use the arguments\n",
    "print(f\"Hello, {args.name}!\")\n",
    "if args.age:\n",
    "    print(f\"You are {args.age} years old.\")\n",
    "```"
   ]
  },
  {
   "cell_type": "code",
   "execution_count": null,
   "metadata": {},
   "outputs": [],
   "source": [
    "!python ./scripts/lecture-2-argparse.py --help"
   ]
  },
  {
   "cell_type": "code",
   "execution_count": null,
   "metadata": {},
   "outputs": [],
   "source": [
    "!python ./scripts/lecture-2-argparse.py vegard -a 33"
   ]
  },
  {
   "cell_type": "markdown",
   "metadata": {},
   "source": [
    "```python\n",
    "import sys\n",
    "name = sys.argv[1]\n",
    "if len(sys.argv)>2:\n",
    "    age = sys.argv[2]\n",
    "print(f\"Hello {name}\")\n",
    "if len(sys.argv)>2:\n",
    "    print(f\"You are {age} years old\")\n",
    "```"
   ]
  },
  {
   "cell_type": "markdown",
   "metadata": {
    "slideshow": {
     "slide_type": "slide"
    }
   },
   "source": [
    "# The input function\n",
    "Another way of getting user information is the input function. The user does not need to provide command line arguments, but can reply to questions from the program: "
   ]
  },
  {
   "cell_type": "code",
   "execution_count": null,
   "metadata": {},
   "outputs": [],
   "source": [
    "number = input('Write a number:')\n",
    "print(f'Your number is {number}')"
   ]
  },
  {
   "cell_type": "code",
   "execution_count": null,
   "metadata": {},
   "outputs": [],
   "source": [
    "numbers = input(\"Write many numbers separated by spaces\")\n",
    "print(f\"Your numbers are\", numbers)"
   ]
  },
  {
   "cell_type": "code",
   "execution_count": null,
   "metadata": {},
   "outputs": [],
   "source": [
    "numbers = input(\"Write many numbers separated by spaces\")\n",
    "list_of_numbers = numbers.split()\n",
    "e0 = float(list_of_numbers[0])\n",
    "e1 = float(list_of_numbers[1])\n",
    "print(e0+e1)"
   ]
  },
  {
   "cell_type": "markdown",
   "metadata": {},
   "source": [
    "The final exapmle is quite similar to the result from sys.argv[1:]. I prefer sys or argparser, it is faster. "
   ]
  },
  {
   "cell_type": "markdown",
   "metadata": {
    "slideshow": {
     "slide_type": "subslide"
    }
   },
   "source": [
    "## Useful string operations "
   ]
  },
  {
   "cell_type": "code",
   "execution_count": null,
   "metadata": {},
   "outputs": [],
   "source": [
    "info = input(\"Write the current day, date and time separated by spaces\")\n",
    "infolist = info.split()\n",
    "day = infolist[0]\n",
    "date = infolist[1:-1]\n",
    "time = infolist[-1]\n",
    "print(f\"Today is {day}. The date is {date}. The time is {time}\")"
   ]
  },
  {
   "cell_type": "code",
   "execution_count": null,
   "metadata": {},
   "outputs": [],
   "source": [
    "info = input(\"Write the current day, date and time separated by commas\")\n",
    "infolist = info.split(',')\n",
    "day = infolist[0]\n",
    "date = infolist[1]\n",
    "time = infolist[2]\n",
    "print(f\"Today is {day}. The date is {date}. The time is {time}\")"
   ]
  },
  {
   "cell_type": "markdown",
   "metadata": {
    "slideshow": {
     "slide_type": "subslide"
    }
   },
   "source": [
    "## The join method\n",
    "define the list\n",
    "```python\n",
    "date = ['09', 'September']\n",
    "```\n",
    "Can you extract the info from the list into one string saying only \"09 September\""
   ]
  },
  {
   "cell_type": "code",
   "execution_count": null,
   "metadata": {},
   "outputs": [],
   "source": [
    "date = ['09', 'September']\n",
    "' '.join(date)"
   ]
  },
  {
   "cell_type": "markdown",
   "metadata": {},
   "source": [
    "## Adding strings"
   ]
  },
  {
   "cell_type": "code",
   "execution_count": null,
   "metadata": {},
   "outputs": [],
   "source": [
    "date[0]+' '+date[1]"
   ]
  },
  {
   "cell_type": "markdown",
   "metadata": {
    "slideshow": {
     "slide_type": "slide"
    }
   },
   "source": [
    "# Reading from textfiles (.txt, .dat etc.)"
   ]
  },
  {
   "cell_type": "markdown",
   "metadata": {
    "slideshow": {
     "slide_type": "fragment"
    }
   },
   "source": [
    "To open a datafile in the same location as the current .py-file use the syntax open(filename) where filename is the name of the datafile as a string:\n",
    "```python\n",
    "infile = open('example_data.txt')\n",
    "```\n",
    "Here example_data may look like this: \n",
    "```bash\n",
    "This is the first line of the file\n",
    "This is the second line of the file\n",
    "Below comes the interesting part of the file: \n",
    "10 20 30 \n",
    "20 30 1\n",
    "2.2 125 6.45\n",
    "0.1 20 3.14\n",
    "```"
   ]
  },
  {
   "cell_type": "code",
   "execution_count": null,
   "metadata": {},
   "outputs": [],
   "source": [
    "infile = open('data/example_data.txt')\n",
    "infile"
   ]
  },
  {
   "cell_type": "markdown",
   "metadata": {
    "slideshow": {
     "slide_type": "subslide"
    }
   },
   "source": [
    "We can read the file line by line by using the method readline:"
   ]
  },
  {
   "cell_type": "code",
   "execution_count": null,
   "metadata": {},
   "outputs": [],
   "source": [
    "line1 = infile.readline()\n",
    "line2 = infile.readline()\n",
    "print(line1)\n",
    "print(line2)"
   ]
  },
  {
   "cell_type": "markdown",
   "metadata": {
    "slideshow": {
     "slide_type": "subslide"
    }
   },
   "source": [
    "If we are not interested in the first (few) lines we can call infile.readline() a few times to skip those lines. "
   ]
  },
  {
   "cell_type": "code",
   "execution_count": null,
   "metadata": {},
   "outputs": [],
   "source": [
    "infile = open('data/example_data.txt')\n",
    "infile.readline()\n",
    "infile.readline()\n",
    "line3 = infile.readline()\n",
    "print(line3)"
   ]
  },
  {
   "cell_type": "markdown",
   "metadata": {},
   "source": [
    "The TextIOWrapper can be iterated over and starts at the current line in the datafile. We have already called infile.readline() three times since opening the last time, thus the first three lines are omitted in the for loop below:"
   ]
  },
  {
   "cell_type": "code",
   "execution_count": null,
   "metadata": {},
   "outputs": [],
   "source": [
    "for line in infile:\n",
    "    print(line)"
   ]
  },
  {
   "cell_type": "code",
   "execution_count": null,
   "metadata": {},
   "outputs": [],
   "source": [
    "#full program to print the interesting lines: \n",
    "infile = open('data/example_data.txt')\n",
    "infile.readline()\n",
    "infile.readline()\n",
    "infile.readline()\n",
    "for line in infile:\n",
    "    print(line)"
   ]
  },
  {
   "cell_type": "markdown",
   "metadata": {},
   "source": [
    "# We can use readlines() to read all lines at once"
   ]
  },
  {
   "cell_type": "code",
   "execution_count": null,
   "metadata": {},
   "outputs": [],
   "source": [
    "infile = open('data/example_data.txt')\n",
    "lines = infile.readlines()\n",
    "print(lines)"
   ]
  },
  {
   "cell_type": "markdown",
   "metadata": {},
   "source": [
    "Now assume that we wanted to store the numbers from the file in three lists/columns: c1, c2 and c3. In the end we should end up with: \n",
    "```python\n",
    "c1 = [10, 20, 2.2, 0.1]\n",
    "c2 = [20, 30, 125, 20]\n",
    "c3 = [30, 1, 6.45, 3.14]\n",
    "```"
   ]
  },
  {
   "cell_type": "markdown",
   "metadata": {
    "slideshow": {
     "slide_type": "subslide"
    }
   },
   "source": [
    "## Exercise:\n",
    "1) Read the file \"GRA4157/lectures/02-python-summary-2/data/example_data.txt\" in python\n",
    "\n",
    "2) Create empty lists c1, c2, and c3. Then iterate over the infile and add the first number in each line to c1, the second number in each line to c2 and the third number to c3. The type of objects in the lists should be float. "
   ]
  },
  {
   "cell_type": "code",
   "execution_count": null,
   "metadata": {},
   "outputs": [],
   "source": [
    "filename = \"data/example_data.txt\"\n",
    "infile = open(filename)\n",
    "infile.readline()\n",
    "infile.readline()\n",
    "infile.readline()\n",
    "c1 = []\n",
    "c2 = []\n",
    "c3 = []\n",
    "for line in infile:\n",
    "    numbers = line.split()\n",
    "    c1.append(float(numbers[0]))\n",
    "    c2.append(float(numbers[1]))\n",
    "    c3.append(float(numbers[2]))\n",
    "\n",
    "print(c1,c2,c3)"
   ]
  },
  {
   "cell_type": "code",
   "execution_count": null,
   "metadata": {},
   "outputs": [],
   "source": [
    "filename = \"data/example_data.txt\"\n",
    "infile = open(filename)\n",
    "lines = infile.readlines()\n",
    "c1, c2, c3 = [[float(line.split()[col]) for line in lines if \"file\" not in line] for col in [0,1,2]]\n",
    "print(c1, c2, c3)"
   ]
  },
  {
   "cell_type": "markdown",
   "metadata": {
    "slideshow": {
     "slide_type": "slide"
    }
   },
   "source": [
    "## Useful string operations 2:\n",
    "\n",
    "The methods startswith, in and endswith are useful string operations that may be used when reading files. \n",
    "\n",
    "example_data2.txt\n",
    "```bash\n",
    "This is a header\n",
    "This is a header\n",
    "Numbers: 1 2 3\n",
    "Numbers: 2 3 4\n",
    "5 6 7\n",
    "```\n",
    "1) We are only interested in the lines that starts with \"Numbers\":"
   ]
  },
  {
   "cell_type": "code",
   "execution_count": null,
   "metadata": {},
   "outputs": [],
   "source": [
    "infile = open('data/example_data2.txt')\n",
    "for line in infile:\n",
    "    if line.startswith('Number'):\n",
    "        print(line)"
   ]
  },
  {
   "cell_type": "markdown",
   "metadata": {},
   "source": [
    "2) We are only interested in the lines that does not end with \"header\""
   ]
  },
  {
   "cell_type": "code",
   "execution_count": null,
   "metadata": {},
   "outputs": [],
   "source": [
    "infile = open('data/example_data2.txt')\n",
    "for line in infile:\n",
    "    if not line.endswith('header\\n'):\n",
    "        print(line)"
   ]
  },
  {
   "cell_type": "code",
   "execution_count": null,
   "metadata": {},
   "outputs": [],
   "source": [
    "infile = open('data/example_data2.txt')\n",
    "for line in infile:\n",
    "    if not line.strip().endswith('header'):\n",
    "        print(line)"
   ]
  },
  {
   "cell_type": "markdown",
   "metadata": {},
   "source": [
    "3) We are only interested in lines that has the number 2 in them"
   ]
  },
  {
   "cell_type": "code",
   "execution_count": null,
   "metadata": {},
   "outputs": [],
   "source": [
    "infile = open('data/example_data2.txt')\n",
    "for line in infile:\n",
    "    if '2' in line:\n",
    "        print(line)\n",
    "infile.close()"
   ]
  },
  {
   "cell_type": "markdown",
   "metadata": {
    "slideshow": {
     "slide_type": "slide"
    }
   },
   "source": [
    "# Writing to file:"
   ]
  },
  {
   "cell_type": "markdown",
   "metadata": {
    "slideshow": {
     "slide_type": "slide"
    }
   },
   "source": [
    "To write to file, we still use the open() function, but we have to specify that we want to write to file. \n",
    "```python\n",
    "outfile = open('outfile.txt','w')\n",
    "```\n",
    "The mode, here \"w\", indicates that we want to write to file. The default value (when nothing is provided as in the previous examples) indicates that we want to read from file. Warning: If the file outfile.txt exists, everything will be overwritten by what we decide to write to the file. "
   ]
  },
  {
   "cell_type": "code",
   "execution_count": null,
   "metadata": {},
   "outputs": [],
   "source": [
    "outfile = open('data/outfile.txt','w')\n",
    "outfile.write('This is the first line of the file')\n",
    "outfile.close()"
   ]
  },
  {
   "cell_type": "code",
   "execution_count": null,
   "metadata": {},
   "outputs": [],
   "source": [
    "outfile = open('data/outfile.txt','w')\n",
    "outfile.write('The previous line is deleted and this is the new line')\n",
    "outfile.close()"
   ]
  },
  {
   "cell_type": "markdown",
   "metadata": {
    "slideshow": {
     "slide_type": "subslide"
    }
   },
   "source": [
    "We can append to existing files using the 'a' mode when opening:"
   ]
  },
  {
   "cell_type": "code",
   "execution_count": null,
   "metadata": {},
   "outputs": [],
   "source": [
    "outfile = open('data/outfile.txt','a')\n",
    "outfile.write('The previous text is still there, and this line was just appended')\n",
    "outfile.close()"
   ]
  },
  {
   "cell_type": "markdown",
   "metadata": {
    "slideshow": {
     "slide_type": "-"
    }
   },
   "source": [
    "Use \\n for newline"
   ]
  },
  {
   "cell_type": "code",
   "execution_count": null,
   "metadata": {},
   "outputs": [],
   "source": [
    "outfile = open('data/outfile.txt','a')      # use 'w' to write to new file 'a' to append to an already existing file\n",
    "outfile.write(\"Now let's add a new line:\\nThis is a new line\")\n",
    "outfile.close()"
   ]
  },
  {
   "cell_type": "markdown",
   "metadata": {
    "slideshow": {
     "slide_type": "subslide"
    }
   },
   "source": [
    "We perform all the operations we want on a file before closing it. In the previous example we closed the file after each operation to inspect changes while we wrote. "
   ]
  },
  {
   "cell_type": "markdown",
   "metadata": {
    "slideshow": {
     "slide_type": "subslide"
    }
   },
   "source": [
    "## Exercise: write a table to file\n",
    "Assume that we have 10 numbers in a python list: [1,2,3,4,5,6,7,8,9,10]. \n",
    "Use python to write a file that contains the numbers as a column and another column with the square root of the given number. The file should look like this: \n",
    "```bash\n",
    "x sqrt(x)\n",
    "1 1\n",
    "2 1.41\n",
    "...\n",
    "```\n",
    "You can decide on how many decimals and on which format the sqrt(x) should contain in the file. "
   ]
  },
  {
   "cell_type": "markdown",
   "metadata": {
    "slideshow": {
     "slide_type": "subslide"
    }
   },
   "source": [
    "## Starting to work with bigger data sets\n",
    "Example: How to people spend their time? \n",
    "<img src=\"figs/Timeuse.png\" style=\"width: 90%; margin: auto;\">\n",
    "\n"
   ]
  },
  {
   "cell_type": "markdown",
   "metadata": {},
   "source": [
    "I have exported the data to a .txt file: \n",
    "```text\n",
    ",Country,Category,Time (minutes)\n",
    "0,Australia,Paid work,211.146629603892\n",
    "1,Austria,Paid work,279.53226810278\n",
    "2,Belgium,Paid work,194.476452188763\n",
    "3,Canada,Paid work,268.660609647898\n",
    "4,Denmark,Paid work,199.771595915566\n",
    "...\n",
    "```"
   ]
  },
  {
   "cell_type": "markdown",
   "metadata": {
    "slideshow": {
     "slide_type": "subslide"
    }
   },
   "source": [
    "\n",
    "Let us now assume that we are only interested in how much people in a given country work (Paid work). How would you extract this information? The file has 462 lines, so manual reading is not effective.\n",
    "\n",
    "\n",
    "\n",
    "\n",
    "\n",
    "\n",
    "\n",
    "\n",
    "\n",
    "\n",
    "\n",
    "\n",
    "\n",
    "\n",
    "\n",
    "\n",
    "\n",
    "\n",
    "\n",
    "\n"
   ]
  },
  {
   "cell_type": "code",
   "execution_count": null,
   "metadata": {},
   "outputs": [],
   "source": [
    "infile = open('data/Time-use.txt')\n",
    "for line in infile:\n",
    "    if \"Paid work\" in line:\n",
    "        print(line)"
   ]
  },
  {
   "cell_type": "code",
   "execution_count": null,
   "metadata": {},
   "outputs": [],
   "source": [
    "infile = open('data/Time-use.txt')\n",
    "line0 = infile.readline()\n",
    "line1 = infile.readline()\n",
    "print(line1)\n",
    "info = line1.split(',')\n",
    "print(info)"
   ]
  },
  {
   "cell_type": "markdown",
   "metadata": {},
   "source": [
    "Let's say we are now interested in a dictionary that contains the number of minutes of paid work per day in all countries.\n",
    "\n",
    "We run over all lines in the file and find the lines that contains \"Paid work\". Then we extract the country and number of minutes and add to a dictionary."
   ]
  },
  {
   "cell_type": "code",
   "execution_count": null,
   "metadata": {},
   "outputs": [],
   "source": [
    "infile = open('data/Time-use.txt')\n",
    "work = {}\n",
    "for line in infile:\n",
    "    if \"Paid work\" in line:\n",
    "        info = line.split(',')\n",
    "        country = info[1].strip()\n",
    "        minutes = info[-1]\n",
    "        work[country] = round(float(minutes.strip()), 1)\n",
    "print(work)"
   ]
  },
  {
   "cell_type": "code",
   "execution_count": null,
   "metadata": {},
   "outputs": [],
   "source": [
    "print(work['India'])\n",
    "print(work['Norway'])"
   ]
  },
  {
   "cell_type": "code",
   "execution_count": null,
   "metadata": {
    "slideshow": {
     "slide_type": "-"
    }
   },
   "outputs": [],
   "source": [
    "number = max(work.values())\n",
    "print(number)"
   ]
  },
  {
   "cell_type": "code",
   "execution_count": null,
   "metadata": {},
   "outputs": [],
   "source": [
    "idx = list(work.values()).index(number)\n",
    "print(idx)"
   ]
  },
  {
   "cell_type": "code",
   "execution_count": null,
   "metadata": {},
   "outputs": [],
   "source": [
    "list(work.keys())[idx]"
   ]
  },
  {
   "cell_type": "markdown",
   "metadata": {
    "slideshow": {
     "slide_type": "subslide"
    }
   },
   "source": [
    "### Exercise\n",
    "\n",
    "Locate the file GRA4157/lectures/02-python-summary2/data/Time-use.txt.\n",
    "\n",
    "1) Write a program that reads the file, and prints out all information about Norway. \n",
    "\n",
    "2) Write a program that reads the file, and prints out the information about other leisure activities time for all countries. \n",
    "\n",
    "3) Write a program that reads the file, and writes a new file sleep.txt, only consisting of the minutes of sleep per country. sleep.txt thus contains two columns, one column of countries and a corresponding column with minutes of sleep. The header should be \"Country Sleep-minutes\".\n",
    "\n",
    "3) Write a program that computes a \"happiness score\" per country. The happiness score is computed via: hours_of_sleep + seeing_friends + other_leisure + 1.2\\*education - 0.2*paid_work"
   ]
  },
  {
   "cell_type": "markdown",
   "metadata": {
    "slideshow": {
     "slide_type": "subslide"
    }
   },
   "source": [
    "# Errors and exceptions\n",
    "We often want to convert data from files (strings) to floating point numbers:"
   ]
  },
  {
   "cell_type": "markdown",
   "metadata": {},
   "source": [
    "```txt\n",
    "This is the first line of the file\n",
    "This is the second line of the file\n",
    "Below comes the interesting part of the file: \n",
    "10 20 30 \n",
    "20 30 1\n",
    "2.2 125 6.45\n",
    "0.1 20 3.14\n",
    "```"
   ]
  },
  {
   "cell_type": "code",
   "execution_count": null,
   "metadata": {},
   "outputs": [],
   "source": [
    "infile = open('data/example_data.txt')\n",
    "numbers = []\n",
    "for line in infile:\n",
    "    info = line.split()\n",
    "    try:\n",
    "        number = float(info[0])\n",
    "        numbers.append(number)\n",
    "    except:\n",
    "        print('Skipping line: ', line)\n",
    "    \n",
    "print(numbers)\n",
    "    "
   ]
  },
  {
   "cell_type": "markdown",
   "metadata": {
    "slideshow": {
     "slide_type": "subslide"
    }
   },
   "source": [
    "## Raise (throw) an exception\n",
    "When working with input data, we often want the program to fail when wrong input is provided:"
   ]
  },
  {
   "cell_type": "code",
   "execution_count": null,
   "metadata": {},
   "outputs": [],
   "source": [
    "message = input('Write hello')\n",
    "if message != 'hello':\n",
    "    raise Exception('The input should be hello')"
   ]
  },
  {
   "cell_type": "markdown",
   "metadata": {},
   "source": [
    "There are numerous exceptions in python:"
   ]
  },
  {
   "cell_type": "code",
   "execution_count": null,
   "metadata": {},
   "outputs": [],
   "source": [
    "number = float(input('Write a number between 0 and 10'))\n",
    "if number <= 0 or number >= 10:\n",
    "    raise ValueError('The number must be between 0 and 10')"
   ]
  },
  {
   "cell_type": "markdown",
   "metadata": {
    "slideshow": {
     "slide_type": "subslide"
    }
   },
   "source": [
    "# More on reading files"
   ]
  },
  {
   "cell_type": "code",
   "execution_count": null,
   "metadata": {},
   "outputs": [],
   "source": [
    "with open('data/example_data.txt') as infile:\n",
    "    for line in infile:\n",
    "        print(line)"
   ]
  },
  {
   "cell_type": "markdown",
   "metadata": {},
   "source": [
    "Gather all information about the countries in a nested dictionary"
   ]
  },
  {
   "cell_type": "code",
   "execution_count": null,
   "metadata": {},
   "outputs": [],
   "source": [
    "all_data = {}\n",
    "with open('data/Time-use.txt') as infile:\n",
    "    headers = infile.readline().split()\n",
    "    for line in infile:\n",
    "        info = line.split(',')\n",
    "        country = info[1].strip()\n",
    "        if not country in all_data:\n",
    "            all_data[country] = {}\n",
    "        else:\n",
    "            all_data[country][info[2]] = float(info[3])\n",
    "\n",
    "            \n",
    "all_data['Austria']"
   ]
  },
  {
   "cell_type": "markdown",
   "metadata": {
    "slideshow": {
     "slide_type": "fragment"
    }
   },
   "source": [
    "We will later work with pandas that can deal with these \"nested dictionaries\" automatically"
   ]
  },
  {
   "cell_type": "markdown",
   "metadata": {},
   "source": [
    "For general information that can be nested in dictionaries yaml and json are often used. "
   ]
  },
  {
   "cell_type": "code",
   "execution_count": null,
   "metadata": {},
   "outputs": [],
   "source": [
    "import yaml\n",
    "with open(\"data/yaml_data.yaml\") as file:\n",
    "    data = yaml.load(file, Loader=yaml.Loader)\n",
    "data"
   ]
  },
  {
   "cell_type": "code",
   "execution_count": null,
   "metadata": {},
   "outputs": [],
   "source": [
    "data.keys()"
   ]
  },
  {
   "cell_type": "code",
   "execution_count": null,
   "metadata": {},
   "outputs": [],
   "source": [
    "data[\"xmas-fifth-day\"]"
   ]
  },
  {
   "cell_type": "code",
   "execution_count": null,
   "metadata": {},
   "outputs": [],
   "source": [
    "data[\"xmas-fifth-day\"].keys()"
   ]
  },
  {
   "cell_type": "markdown",
   "metadata": {},
   "source": [
    "The json library is probably the most common for working with dictionary data in python. It enables fast conversion between a python dict and a string"
   ]
  },
  {
   "cell_type": "code",
   "execution_count": null,
   "metadata": {},
   "outputs": [],
   "source": [
    "import json\n",
    "with open(\"data/yaml_data.json\") as file:\n",
    "    data = file.read()\n",
    "d = json.loads(data)\n",
    "d"
   ]
  },
  {
   "cell_type": "code",
   "execution_count": null,
   "metadata": {},
   "outputs": [],
   "source": [
    "s = json.dumps(d)\n",
    "s"
   ]
  },
  {
   "cell_type": "code",
   "execution_count": null,
   "metadata": {},
   "outputs": [],
   "source": [
    "type(s)"
   ]
  },
  {
   "cell_type": "markdown",
   "metadata": {},
   "source": [
    "# Timing and efficiency\n",
    "\n",
    "In real applications many scripts, processes and functions are interacting in a complex manner. If the end-to-end process of an application is slow, it is useful to measure execution time of each individual script/function/module. "
   ]
  },
  {
   "cell_type": "code",
   "execution_count": 11,
   "metadata": {},
   "outputs": [
    {
     "name": "stdout",
     "output_type": "stream",
     "text": [
      "calculating some difficult stuff here...\n",
      "calculating some difficult stuff here...\n",
      "calculating some difficult stuff here...\n",
      "calculating some difficult stuff here...\n",
      "Time spent 4.00 seconds\n"
     ]
    }
   ],
   "source": [
    "import time\n",
    "start_time = time.time()\n",
    "for i in range(4):\n",
    "    time.sleep(1)\n",
    "    print(\"calculating some difficult stuff here...\")\n",
    "\n",
    "T = time.time() - start_time\n",
    "print(f\"Time spent {T:.2f} seconds\")"
   ]
  },
  {
   "cell_type": "code",
   "execution_count": 12,
   "metadata": {},
   "outputs": [
    {
     "name": "stdout",
     "output_type": "stream",
     "text": [
      "calculating some difficult stuff here...\n",
      "calculating some difficult stuff here...\n",
      "calculating some difficult stuff here...\n",
      "calculating some difficult stuff here...\n",
      "Time spent 4.00 seconds\n"
     ]
    }
   ],
   "source": [
    "import time\n",
    "import datetime\n",
    "start_time = datetime.datetime.now()\n",
    "for i in range(4):\n",
    "    time.sleep(1)\n",
    "    print(\"calculating some difficult stuff here...\")\n",
    "\n",
    "T = datetime.datetime.now() - start_time\n",
    "print(f\"Time spent {T.seconds:.2f} seconds\")"
   ]
  },
  {
   "cell_type": "code",
   "execution_count": 13,
   "metadata": {},
   "outputs": [],
   "source": [
    "def f0(x):\n",
    "    for i in range(int(2e8)):\n",
    "        x = x+0.0001\n",
    "    return x\n",
    "\n",
    "def f1(x):\n",
    "    for i in range(int(1e3)):\n",
    "        x = x + 0.1\n",
    "    return x"
   ]
  },
  {
   "cell_type": "code",
   "execution_count": 16,
   "metadata": {},
   "outputs": [
    {
     "name": "stdout",
     "output_type": "stream",
     "text": [
      "Time spent calling f0 6.22 seconds\n",
      "Time spent calling f1 0.00 seconds\n",
      "20101.999994261987\n"
     ]
    }
   ],
   "source": [
    "import time\n",
    "x = 1\n",
    "t0 = time.time()\n",
    "A = f0(x)\n",
    "print(f\"Time spent calling f0 {time.time()-t0:.2f} seconds\")\n",
    "t1 = time.time()\n",
    "B = f1(x)\n",
    "print(f\"Time spent calling f1 {time.time()-t1:.2f} seconds\")\n",
    "print(A+B)"
   ]
  }
 ],
 "metadata": {
  "celltoolbar": "Slideshow",
  "kernelspec": {
   "display_name": "Python 3 (ipykernel)",
   "language": "python",
   "name": "python3"
  },
  "language_info": {
   "codemirror_mode": {
    "name": "ipython",
    "version": 3
   },
   "file_extension": ".py",
   "mimetype": "text/x-python",
   "name": "python",
   "nbconvert_exporter": "python",
   "pygments_lexer": "ipython3",
   "version": "3.12.6"
  },
  "rise": {
   "scroll": true,
   "start_slideshow_at": "selected",
   "theme": "serif",
   "transition": "none"
  }
 },
 "nbformat": 4,
 "nbformat_minor": 4
}
