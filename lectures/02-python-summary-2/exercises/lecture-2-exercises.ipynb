{
 "cells": [
  {
   "cell_type": "markdown",
   "metadata": {},
   "source": [
    "## Exercise 1: Simple Calculator\n",
    "\n",
    "**Objective:** Build a simple calculator that performs basic arithmetic operations.\n",
    "\n",
    "**Task:** Write a function called `simple_calculator()` that:\n",
    "\n",
    "1. Asks the user for two numbers.\n",
    "2. Asks the user to choose an operation (+, -, *, /).\n",
    "3. Performs the operation and displays the result.\n",
    "\n",
    "**Requirements:**\n",
    "\n",
    "* Handle invalid inputs gracefully by displaying appropriate error messages.\n",
    "* Do not proceed until valid inputs are provided.\n",
    "\n",
    "### Bonus:\n",
    "\n",
    "1. Implement more advanced operations like square root, power, and modulo.\n",
    "2. Add an option to perform another calculation or exit."
   ]
  },
  {
   "cell_type": "code",
   "execution_count": null,
   "metadata": {
    "vscode": {
     "languageId": "plaintext"
    }
   },
   "outputs": [],
   "source": []
  },
  {
   "cell_type": "markdown",
   "metadata": {},
   "source": [
    "## Exercise 2: String Reverser\n",
    "\n",
    "**Objective:** Understand string manipulations in Python.\n",
    "\n",
    "**Task:** Write a function called `reverse_string()` that:\n",
    "\n",
    "1. Asks the user for a string.\n",
    "2. Reverses the string and prints it.\n",
    "\n",
    "**Requirements:**\n",
    "\n",
    "* The function should handle empty strings and whitespace.\n",
    "* Provide an option to reverse another string or exit.\n",
    "\n",
    "### Bonus:\n",
    "\n",
    "1. Reverse words in the string while keeping their order (e.g., \"hello world\" becomes \"olleh dlrow\")."
   ]
  },
  {
   "cell_type": "code",
   "execution_count": null,
   "metadata": {
    "vscode": {
     "languageId": "plaintext"
    }
   },
   "outputs": [],
   "source": []
  },
  {
   "cell_type": "markdown",
   "metadata": {},
   "source": [
    "\n",
    "## Exercise 3: Age Calculator\n",
    "\n",
    "**Objective:** Work with date and time functionalities.\n",
    "\n",
    "**Task:** Write a function called `calculate_age()` that:\n",
    "\n",
    "1. Asks the user for their birthdate in the format `YYYY-MM-DD`.\n",
    "2. Calculates and displays their age.\n",
    "\n",
    "**Requirements:**\n",
    "\n",
    "* Validate the input format and handle invalid dates.\n",
    "* Provide an option to calculate another age or exit.\n",
    "\n",
    "### Bonus:\n",
    "\n",
    "1. Display the age in years, months, and days."
   ]
  },
  {
   "cell_type": "code",
   "execution_count": null,
   "metadata": {
    "vscode": {
     "languageId": "plaintext"
    }
   },
   "outputs": [],
   "source": []
  },
  {
   "cell_type": "markdown",
   "metadata": {},
   "source": [
    "## Exercise 4: Password Strength Checker\n",
    "\n",
    "**Objective:** Understand string manipulations and regular expressions.\n",
    "\n",
    "**Task:** Write a function called `check_password_strength()` that:\n",
    "\n",
    "1. Asks the user for a password.\n",
    "2. Checks the strength of the password based on length, upper/lower case letters, numbers, and special characters.\n",
    "3. Displays the strength as \"Weak\", \"Medium\", or \"Strong\".\n",
    "\n",
    "**Requirements:**\n",
    "\n",
    "* The function should not display the actual password.\n",
    "* Provide an option to check another password or exit.\n",
    "\n",
    "### Bonus:\n",
    "\n",
    "1. Display what criteria the password failed or passed on.\n",
    "\n",
    "## Hints:\n",
    "\n",
    "* Make use of Python's `input()` function to receive user inputs.\n",
    "* Utilize `try-except` blocks for error handling."
   ]
  },
  {
   "cell_type": "code",
   "execution_count": null,
   "metadata": {
    "vscode": {
     "languageId": "plaintext"
    }
   },
   "outputs": [],
   "source": []
  },
  {
   "cell_type": "markdown",
   "metadata": {},
   "source": [
    "## Exercise 5: Text File Manipulator\n",
    "\n",
    "**Objective:** Understand basic text file operations in Python.\n",
    "\n",
    "**Task:** Write a function called `text_file_manipulator()` that:\n",
    "\n",
    "1. Reads a text file specified by the user.\n",
    "2. Asks the user for a word to search within the text file.\n",
    "3. Counts and displays how many times the word appears in the file.\n",
    "\n",
    "**Requirements:**\n",
    "\n",
    "* Handle file not found errors gracefully.\n",
    "* The function should be case-insensitive when searching for words.\n",
    "\n",
    "### Bonus:\n",
    "\n",
    "1. Implement a feature that replaces the specified word with another word given by the user.\n",
    "2. Write the modified content to a new file."
   ]
  },
  {
   "cell_type": "code",
   "execution_count": null,
   "metadata": {
    "vscode": {
     "languageId": "plaintext"
    }
   },
   "outputs": [],
   "source": []
  },
  {
   "cell_type": "markdown",
   "metadata": {},
   "source": [
    "## Exercise 6: CSV Reader and Writer\n",
    "\n",
    "**Objective:** Learn to read and write CSV files.\n",
    "\n",
    "**Task:** Write a function called `csv_reader_writer()` that:\n",
    "\n",
    "1. Reads a CSV file specified by the user.\n",
    "2. Displays the first 5 rows of the file.\n",
    "3. Asks the user to specify a column to perform basic statistical analysis on (mean, median, mode).\n",
    "\n",
    "**Requirements:**\n",
    "\n",
    "* Handle invalid file names and formats.\n",
    "* The function should be capable of reading CSV files with headers.\n",
    "\n",
    "### Bonus:\n",
    "\n",
    "1. Implement a feature that allows the user to write the statistical analysis results to a new CSV file.\n",
    "2. Add functionality to sort the CSV file based on a column specified by the user."
   ]
  },
  {
   "cell_type": "code",
   "execution_count": null,
   "metadata": {
    "vscode": {
     "languageId": "plaintext"
    }
   },
   "outputs": [],
   "source": []
  }
 ],
 "metadata": {
  "language_info": {
   "name": "python"
  },
  "orig_nbformat": 4
 },
 "nbformat": 4,
 "nbformat_minor": 2
}
