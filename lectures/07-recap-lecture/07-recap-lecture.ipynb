{
 "cells": [
  {
   "cell_type": "markdown",
   "metadata": {},
   "source": [
    "# Lecture 7: Recap\n",
    "## October 03, 2023"
   ]
  },
  {
   "cell_type": "markdown",
   "metadata": {
    "slideshow": {
     "slide_type": "slide"
    }
   },
   "source": [
    "# Python variables and data types"
   ]
  },
  {
   "cell_type": "markdown",
   "metadata": {
    "slideshow": {
     "slide_type": "slide"
    }
   },
   "source": [
    "## Basic types\n",
    "\n",
    "- strings: `\"strings for storing text\"`\n",
    "- numbers: `1, 1.5`\n",
    "- tuples: `(1, 2, 3)` for storing static collections\n",
    "- lists: `[\"a\", \"b\", \"c\"]` for mutable, ordered sequences\n",
    "- dicts: `{\"key\": \"value\"}` for storing key-value pairs\n",
    "- sets: `{\"do\", \"re\", \"mi\"}` for storing unique, unordered collections"
   ]
  },
  {
   "cell_type": "markdown",
   "metadata": {
    "slideshow": {
     "slide_type": "subslide"
    }
   },
   "source": [
    "## Strings\n",
    "\n",
    "Strings can be expressed as single quotes ('...') or double quotes (\"...\") with the same result:\n",
    "```python\n",
    "'some string'\n",
    "```\n",
    "is equivalent to \n",
    "```python\n",
    "\"some string\"\n",
    "```\n",
    "\n",
    "Triple-quoted strings can be multi line with embedded newlines:\n",
    "```python\n",
    "text = \"\"\"large portions of a text\n",
    "can be conveniently placed inside\n",
    "triple-quoted strings (newlines\n",
    "are preserved)\"\"\"\n",
    "```"
   ]
  },
  {
   "cell_type": "markdown",
   "metadata": {
    "slideshow": {
     "slide_type": "subslide"
    }
   },
   "source": [
    "## Special characters in strings"
   ]
  },
  {
   "cell_type": "markdown",
   "metadata": {
    "slideshow": {
     "slide_type": "-"
    }
   },
   "source": [
    "Use the backslash `\\` to escape special characters:"
   ]
  },
  {
   "cell_type": "code",
   "execution_count": null,
   "metadata": {
    "slideshow": {
     "slide_type": "-"
    }
   },
   "outputs": [],
   "source": [
    "s = \"\\\"This is a quote\\\" and \\n here comes a backslash: \\\\\" \n",
    "\n",
    "print(s)"
   ]
  },
  {
   "cell_type": "markdown",
   "metadata": {
    "slideshow": {
     "slide_type": "subslide"
    }
   },
   "source": [
    "## String concatenation\n",
    "\n",
    "Strings can be *glued* together with the `+` and the `*` operators:\n"
   ]
  },
  {
   "cell_type": "code",
   "execution_count": null,
   "metadata": {},
   "outputs": [],
   "source": [
    "\"hello \" * 3 + \"world\""
   ]
  },
  {
   "cell_type": "markdown",
   "metadata": {},
   "source": [
    "This works also with string variables:"
   ]
  },
  {
   "cell_type": "code",
   "execution_count": null,
   "metadata": {},
   "outputs": [],
   "source": [
    "quote = \"I will not eat chips all day\"\n",
    "(quote + \", \") * 10 + quote"
   ]
  },
  {
   "cell_type": "markdown",
   "metadata": {
    "slideshow": {
     "slide_type": "subslide"
    }
   },
   "source": [
    "## Slicing"
   ]
  },
  {
   "cell_type": "markdown",
   "metadata": {},
   "source": [
    "You can extract a sub-string with the `[start:end]` slicing notation:"
   ]
  },
  {
   "cell_type": "code",
   "execution_count": null,
   "metadata": {},
   "outputs": [],
   "source": [
    "quote[2:6]"
   ]
  },
  {
   "cell_type": "markdown",
   "metadata": {},
   "source": [
    "If the `start` (`left`) argument is left out, the substring will start from the first (last) character:"
   ]
  },
  {
   "cell_type": "code",
   "execution_count": null,
   "metadata": {},
   "outputs": [],
   "source": [
    "quote[:6]  # I will"
   ]
  },
  {
   "cell_type": "code",
   "execution_count": null,
   "metadata": {},
   "outputs": [],
   "source": [
    "quote[7:]  # not eat chips all day"
   ]
  },
  {
   "cell_type": "markdown",
   "metadata": {},
   "source": [
    "Negative indices can be used to index \"from the right\":"
   ]
  },
  {
   "cell_type": "markdown",
   "metadata": {},
   "source": [
    "```\n",
    " +---+---+---+---+---+\n",
    " | c | h | i | p | s |\n",
    " +---+---+---+---+---+\n",
    "   0   1   2   3   4\n",
    "  -5  -4  -3  -2  -1  \n",
    "```"
   ]
  },
  {
   "cell_type": "code",
   "execution_count": null,
   "metadata": {},
   "outputs": [],
   "source": [
    "\"chips\"[1:-2]"
   ]
  },
  {
   "cell_type": "markdown",
   "metadata": {
    "slideshow": {
     "slide_type": "subslide"
    }
   },
   "source": [
    "## Python strings cannot be changed\n",
    "\n",
    "Python strings are **immutable**, meaning that they cannot be changed:"
   ]
  },
  {
   "cell_type": "code",
   "execution_count": null,
   "metadata": {},
   "outputs": [],
   "source": [
    "quote[1] = \"x\""
   ]
  },
  {
   "cell_type": "markdown",
   "metadata": {},
   "source": [
    "If one wants to change a string, one needs to create a new one:"
   ]
  },
  {
   "cell_type": "code",
   "execution_count": null,
   "metadata": {},
   "outputs": [],
   "source": [
    "quote = quote[:1] + \"x\" + quote[2:]\n",
    "print(quote) "
   ]
  },
  {
   "cell_type": "markdown",
   "metadata": {
    "slideshow": {
     "slide_type": "subslide"
    }
   },
   "source": [
    "\n",
    "## More useful string operations"
   ]
  },
  {
   "cell_type": "markdown",
   "metadata": {
    "slideshow": {
     "slide_type": "-"
    }
   },
   "source": [
    "| Code               |   Meaning                                       |                                                                                                              \n",
    "|----------------------------|-------------------------------------------------|                                    \n",
    "|'day' in quote              |       True if string contains substring        |\n",
    "|quote.find('i')             |       index where first 'i' is found           |\n",
    "|quote.split()               |       split at whitespace (returns list)      |\n",
    "|quote.replace('chips', 'salad')|    replace all occurances                   |\n",
    "|quote.lower()                |      convert to lower case                    |\n",
    "|quote.upper()                |      convert to upper case                    |\n",
    "|quote.strip()                |      remove leading/trailing blanks           | "
   ]
  },
  {
   "cell_type": "markdown",
   "metadata": {},
   "source": [
    "Note that the modification operations return a **new** string  (since strings are immutable)."
   ]
  },
  {
   "cell_type": "markdown",
   "metadata": {
    "slideshow": {
     "slide_type": "subslide"
    }
   },
   "source": [
    "## Lists\n",
    "\n",
    "Python lists allow you to group together a sequence of values:"
   ]
  },
  {
   "cell_type": "code",
   "execution_count": null,
   "metadata": {
    "slideshow": {
     "slide_type": "-"
    }
   },
   "outputs": [],
   "source": [
    "mylist  = ['Hello', 'world', '!!!']"
   ]
  },
  {
   "cell_type": "markdown",
   "metadata": {},
   "source": [
    "Generally lists are used when you have an ordered collection of the same *kind* of thing:\n",
    "\n",
    "- filenames\n",
    "- URLs\n",
    "- objects\n",
    "- numbers\n",
    "\n",
    "Lists do not *require* items to have the same type,\n",
    "though in practice they usually do"
   ]
  },
  {
   "cell_type": "code",
   "execution_count": null,
   "metadata": {},
   "outputs": [],
   "source": [
    "mylist  = ['Hello', 4, True]"
   ]
  },
  {
   "cell_type": "markdown",
   "metadata": {
    "slideshow": {
     "slide_type": "subslide"
    }
   },
   "source": [
    "### List operations\n",
    "\n",
    "Many of the operations that we know from strings also work on lists, such as indexing:"
   ]
  },
  {
   "cell_type": "code",
   "execution_count": null,
   "metadata": {},
   "outputs": [],
   "source": [
    "mylist[0]"
   ]
  },
  {
   "cell_type": "markdown",
   "metadata": {},
   "source": [
    "..., slicing:"
   ]
  },
  {
   "cell_type": "code",
   "execution_count": null,
   "metadata": {},
   "outputs": [],
   "source": [
    "mylist[1:]"
   ]
  },
  {
   "cell_type": "markdown",
   "metadata": {},
   "source": [
    "and concatenation:"
   ]
  },
  {
   "cell_type": "code",
   "execution_count": null,
   "metadata": {},
   "outputs": [],
   "source": [
    "newlist = mylist + [\"!\"] * 3\n",
    "newlist"
   ]
  },
  {
   "cell_type": "markdown",
   "metadata": {
    "slideshow": {
     "slide_type": "subslide"
    }
   },
   "source": [
    "### Lists can be changed\n",
    "In constrast to `strings`, `lists` are **mutable** and can be changed:"
   ]
  },
  {
   "cell_type": "code",
   "execution_count": null,
   "metadata": {},
   "outputs": [],
   "source": [
    "mylist = [11, 12, 14]\n",
    "mylist[2] = 13\n",
    "mylist"
   ]
  },
  {
   "cell_type": "markdown",
   "metadata": {},
   "source": [
    "We can also append additional items to a list:"
   ]
  },
  {
   "cell_type": "code",
   "execution_count": null,
   "metadata": {},
   "outputs": [],
   "source": [
    "mylist.append(14)\n",
    "mylist"
   ]
  },
  {
   "cell_type": "markdown",
   "metadata": {
    "slideshow": {
     "slide_type": "subslide"
    }
   },
   "source": [
    "## Cheat sheet for Python lists\n",
    "\n",
    "| Construction               |   Meaning                                       |                                                                                                              \n",
    "|----------------------------|-------------------------------------------------|                                                                                                              \n",
    "| a = []                   | initialize an empty list                        |                                                                                                               \n",
    "| a = [1, 4.4, 'run.py']   | initialize a list                               |                                                                                                               \n",
    "| a.append(elem)           | add elem object to the end                    |                                                                                                               \n",
    "| a + [1,3]                | add two lists                                   |                                                                                                               \n",
    "| a.insert(i, e)           | insert element e before index i             |                                                                                                               \n",
    "| a[3]                     | index a list element                            |                                                                                                               \n",
    "| a[-1]                    | get last list element                           |                                                                                                              \n",
    "| a[1:3]                   | slice: return sublist (here: index 1, 2)  |                                                                                                               \n",
    "| del a[3]                 | delete an element (index 3)                   |                                                                                                              \n",
    "| a.remove(e)              | remove an element with value e                |                                                                                                               \n",
    "| a.index('run.py')        | find index corresponding to an element's value  |                                                                                                              \n",
    "| 'value' in a            | test if a value is contained in the list        |                                                                                                               \n",
    "| a.count(v)               | count how many elements have the value v |                                                                                                              \n",
    "| len(a)                   | number of elements in list a                  |                                                                                                               \n",
    "| min(a)                   | the smallest element in a                     |                                                                                                              \n",
    "| max(a)                   | the largest element in a                      |                                                                                                               \n",
    "| sum(a)                   | add all elements in a                         |                                                                                                              \n",
    "| sorted(a)                | return sorted version of list a               |                                                                                                               \n",
    "| reversed(a)              | return reversed view version of list a      |                                                                                                              \n",
    "| b[3][0][2]               | nested list indexing                            |                                                                                                               \n",
    "| isinstance(a, list)      | is True if a is a list                      |                                                                                                              \n",
    "| type(a) is list          | is True if a is a list                      |                                                                                                                "
   ]
  },
  {
   "cell_type": "markdown",
   "metadata": {
    "slideshow": {
     "slide_type": "subslide"
    }
   },
   "source": [
    "### Tuples\n",
    "\n",
    "Tuples are very similar to lists, but they are **immutable**, just like strings.\n",
    "\n",
    "Functionally, they are essentially immutable lists,\n",
    "but they tend to be used for a differnt purpose:\n",
    "\n",
    "> a single \"thing\" with multiple components\n",
    "\n",
    "Tuples are created with parentheses:"
   ]
  },
  {
   "cell_type": "code",
   "execution_count": null,
   "metadata": {},
   "outputs": [],
   "source": [
    "mytuple = ('a string', 2.5, 6, 'another string')"
   ]
  },
  {
   "cell_type": "markdown",
   "metadata": {},
   "source": [
    "Since tuples are immutable we cannot change them:\n",
    "```python\n",
    "mytuple[1] = -10  # Error, tuple cannot be changed\n",
    "```"
   ]
  },
  {
   "cell_type": "markdown",
   "metadata": {
    "slideshow": {
     "slide_type": "fragment"
    }
   },
   "source": [
    "Instead we need to create a new tuple with the changed values, for example by converting the tuple to a list, changing it, and converting it back to a tuple:"
   ]
  },
  {
   "cell_type": "code",
   "execution_count": null,
   "metadata": {},
   "outputs": [],
   "source": [
    "l = list(mytuple)   # convert tuple to list (copy)\n",
    "l[1:3] = [\"is\", \"not\"]\n",
    "mytuple = tuple(l)  # convert list to tuple (copy)\n",
    "mytuple"
   ]
  },
  {
   "cell_type": "markdown",
   "metadata": {
    "slideshow": {
     "slide_type": "subslide"
    }
   },
   "source": [
    "## Tuple cheat sheet\n",
    "\n",
    "| Code               |   Meaning                                       |                                                                                                              \n",
    "|----------------------------|-------------------------------------------------|                                                                                                              \n",
    "| a = ()                   | initialize an empty tuple                        |                                                                                                               \n",
    "| a = (1, 4.4, 'run.py')   | initialize a tuple                               |                                                                                                               \n",
    "| a + (1,3)                | concatenate two tuples (returns a new tuple) |                                                                                                           \n",
    "| a[3]                     | index a list element                            |                                                                                                               \n",
    "| a[-1]                    | get last list element                           |                                                                                                              \n",
    "| a[1:3]                   | slice: return subtuple (here: index 1, 2)  |                                                                                                               \n",
    "| a.index('value')        | find index corresponding to an element's value  |                                                                                                              \n",
    "| 'value' in a            | test if a value is contained in the list        |                                                                                                               \n",
    "| a.count(v)               | count how many elements have the value v |                                                                                                              \n",
    "| len(a)                   | number of elements in list a                  |                                                                                                               \n",
    "| min(a)                   | the smallest element in a                     |                                                                                                              \n",
    "| max(a)                   | the largest element in a                      |                                                                                                               \n",
    "| sum(a)                   | add all elements in a                         |                                                                                                              \n",
    "| sorted(a)                | return sorted list with the values of a               |                                                                                                               \n",
    "| reversed(a)              | return reversed version of a      |                                                                                                              \n",
    "| b[3][0][2]               | nested list indexing                            |                                                                                                               \n",
    "| isinstance(a, tuple)      | is True if a is a tuple or subclass                     |                                                                                                              \n",
    "| type(a) is tuple          | is True if a is exactly a tuple                      |                                                                                                                "
   ]
  },
  {
   "cell_type": "markdown",
   "metadata": {
    "slideshow": {
     "slide_type": "subslide"
    }
   },
   "source": [
    "## Python dictionaries\n",
    "\n",
    "Remeber that lists always used integers as indices:\n",
    "\n",
    "```python\n",
    "mylist[10]       \n",
    "```\n",
    "\n",
    "Python dictionaries are similar but you can use any **hashable** object as index:\n",
    "\n",
    "```python\n",
    "mydict[\"hallo\"]  # dictionary can use e.g. a string as indices\n",
    "```"
   ]
  },
  {
   "cell_type": "markdown",
   "metadata": {
    "slideshow": {
     "slide_type": "subslide"
    }
   },
   "source": [
    "## Basic dictionary operations\n",
    "\n",
    "We create dictionaries with the `{}` syntax. \n",
    "For each dictionary entry, we need to probide one (immutable) key and its value:"
   ]
  },
  {
   "cell_type": "markdown",
   "metadata": {},
   "source": [
    "```python\n",
    "phonebook = {\"John Doe\"  : 99954329, \n",
    "             \"Franz Dahl\": 4881221}\n",
    "\n",
    "mydict = {\"1\"      : \"A number\", \n",
    "          \"house\"  : \"A building to live in\", \n",
    "          \"kitchen\": None}\n",
    "```"
   ]
  },
  {
   "cell_type": "markdown",
   "metadata": {},
   "source": [
    "Once created, we can access the dictionary entries:\n",
    "```python\n",
    "phonebook[\"John Doe\"]  # 99954329\n",
    "mydict[\"tbane\"]        # gives a KeyError\n",
    "```"
   ]
  },
  {
   "cell_type": "markdown",
   "metadata": {
    "slideshow": {
     "slide_type": "fragment"
    }
   },
   "source": [
    "Dictionaryes are **mutable**, so we can change them:\n",
    "```python\n",
    "mydict['somekey'] = 1.0\n",
    "\n",
    "mydict.update(otherdict)  # add/replace key-value pairs\n",
    "\n",
    "del mydict[2]\n",
    "del mydict['somekey']\n",
    "```"
   ]
  },
  {
   "cell_type": "markdown",
   "metadata": {
    "slideshow": {
     "slide_type": "subslide"
    }
   },
   "source": [
    "## Dictionary cheat sheet\n",
    "\n",
    "\n",
    "| Construction                           | Meaning                                    |                                                                                                        \n",
    "|-----------------------------------------|--------------------------------------------|                                                                                                        \n",
    "| `a = {}`                               | initialize an empty dictionary             |                                                                                                        \n",
    "| `a = {'point': (0,0.1), 'value': 7}`   | initialize a dictionary                    |                                                                                                        \n",
    "| `a = dict(point=(2,7), value=3)`       | initialize a dictionary w/string keys      |                                                                                                        \n",
    "| `a.update(b)`                          | add key-value pairs from b in a |                                                                                                               \n",
    "| `a.update(key1=value1, key2=value2)`   | add key-value pairs in a          |                                                                                                               \n",
    "| `a['hide'] = True  `                   | add new key-value pair to a              |                                                                                                        \n",
    "| `a['point']`                           | get value corresponding to key point     |                                                                                                        \n",
    "| `for key in a:`                        | loop over keys in unknown order            |                                                                                                        \n",
    "| `for key in sorted(a):`                | loop over keys in alphabetic order         |                                                                                                        \n",
    "| `'value' in a`                         | True if string value is a key in a   |                                                                                                        \n",
    "| `del a['point']`                       | delete a key-value pair from a           |                                                                                                        \n",
    "| list(a.keys())                       | list of keys                               |                                                                                                        \n",
    "| list(a.values())                     | list of values                             |                                                                                                        \n",
    "| `len(a)`                               | number of key-value pairs in a           |                                                                                                        \n",
    "| `isinstance(a, dict)`                  | is True if a is a dictionary           |"
   ]
  },
  {
   "cell_type": "markdown",
   "metadata": {
    "slideshow": {
     "slide_type": "subslide"
    }
   },
   "source": [
    "## Summary: Common data structures\n",
    "\n",
    "* Numbers: \n",
    "    * `int`\n",
    "    * `float`\n",
    "    * `complex`\n",
    "\n",
    "* Sequences: \n",
    "    * `string`\n",
    "    * `list`\n",
    "    * `tuple`\n",
    "    * `set`\n",
    "\n",
    "* Mappings: \n",
    "    * `dict` (dictionary/hash)"
   ]
  },
  {
   "cell_type": "markdown",
   "metadata": {
    "slideshow": {
     "slide_type": "slide"
    }
   },
   "source": [
    "# Control structures in Python"
   ]
  },
  {
   "cell_type": "markdown",
   "metadata": {
    "slideshow": {
     "slide_type": "subslide"
    }
   },
   "source": [
    "## Conditionals/branching\n",
    "\n",
    "```python\n",
    "if condition:\n",
    "    <block of statements>\n",
    "elif condition:\n",
    "    <block of statements>\n",
    "else:\n",
    "    <block of statements>\n",
    "```    \n",
    "\n",
    "Also here, `condition` must be a boolean expression.\n",
    "\n",
    "**Important**: Python uses indentation to determine the start/end of blocks\n",
    "(instead of e.g. brackets). In Python, it is common to indent with 4 spaces."
   ]
  },
  {
   "cell_type": "markdown",
   "metadata": {
    "slideshow": {
     "slide_type": "subslide"
    }
   },
   "source": [
    "## Examples\n",
    "Let's look at an example:"
   ]
  },
  {
   "cell_type": "code",
   "execution_count": null,
   "metadata": {},
   "outputs": [],
   "source": [
    "i = 25\n",
    "\n",
    "if i < 0:\n",
    "    print(f\"{i} is a negative number\")\n",
    "elif 0 <= i < 20:\n",
    "    print(f\"{i} is a small number\")\n",
    "else:\n",
    "    print(f\"{i} is a large number\")"
   ]
  },
  {
   "cell_type": "markdown",
   "metadata": {
    "slideshow": {
     "slide_type": "fragment"
    }
   },
   "source": [
    "Python variables are strongy typed. We can use if statements to test for a variable's type:\n",
    "\n",
    "```python\n",
    "if isinstance(a, int): # int?\n",
    "    # ...\n",
    "if isinstance(a, (list, tuple)): # list or tuple?\n",
    "    # ...\n",
    "```    "
   ]
  },
  {
   "cell_type": "markdown",
   "metadata": {
    "slideshow": {
     "slide_type": "subslide"
    }
   },
   "source": [
    "## `while` loop\n",
    "\n",
    "```python\n",
    "while condition:\n",
    "    <block of statements>\n",
    "```\n",
    "\n",
    "Here, `condition` must be a boolean expression (or have a boolean interpretation), for example: `i < 10`."
   ]
  },
  {
   "cell_type": "markdown",
   "metadata": {
    "slideshow": {
     "slide_type": "subslide"
    }
   },
   "source": [
    "## `for` loop\n",
    "\n",
    "\n",
    "```python\n",
    "for element in somelist:\n",
    "    <block of statements>\n",
    "```    \n",
    "\n",
    "Here, `somelist` must be an **iterable** object, for example a `list`, `tuple`, or `string`."
   ]
  },
  {
   "cell_type": "markdown",
   "metadata": {
    "slideshow": {
     "slide_type": "subslide"
    }
   },
   "source": [
    "## Example\n",
    "Let's look at an example:"
   ]
  },
  {
   "cell_type": "code",
   "execution_count": null,
   "metadata": {},
   "outputs": [],
   "source": [
    "shoppinglist = [\"tea\", \"butter\", \"milk\"]\n",
    "\n",
    "for item in shoppinglist:\n",
    "    print(f\"Remember to buy {item}.\")"
   ]
  },
  {
   "cell_type": "markdown",
   "metadata": {
    "slideshow": {
     "slide_type": "subslide"
    }
   },
   "source": [
    "If you want to iterate over a sequence of numbers, you can use the `range` command:"
   ]
  },
  {
   "cell_type": "code",
   "execution_count": null,
   "metadata": {},
   "outputs": [],
   "source": [
    "for i in range(3):\n",
    "    print(i)"
   ]
  },
  {
   "cell_type": "markdown",
   "metadata": {
    "slideshow": {
     "slide_type": "slide"
    }
   },
   "source": [
    "# Functions"
   ]
  },
  {
   "cell_type": "markdown",
   "metadata": {},
   "source": [
    "Python functions allow you to encapsulate a task - they combine many instructions into a single line of code. "
   ]
  },
  {
   "cell_type": "markdown",
   "metadata": {},
   "source": [
    "As an example, let's write a function that splits a string at a given character:"
   ]
  },
  {
   "cell_type": "code",
   "execution_count": null,
   "metadata": {},
   "outputs": [],
   "source": [
    "def split(string, char):\n",
    "    \"\"\" Split the string at the given character \"\"\"\n",
    "    \n",
    "    position = string.find(char)\n",
    "    \n",
    "    if  position > 0:\n",
    "        return string[:position+1], string[position+1:]\n",
    "    else:\n",
    "        return string, ''"
   ]
  },
  {
   "cell_type": "markdown",
   "metadata": {
    "slideshow": {
     "slide_type": "fragment"
    }
   },
   "source": [
    "So far, we have only defined the function (in cooking this is equivalent of writing down a recipe). \n",
    "\n",
    "We must call our function to have an actual effect (or equivalently, actually cooking the recipe). Let's call our function for the first time:"
   ]
  },
  {
   "cell_type": "code",
   "execution_count": null,
   "metadata": {
    "scrolled": true,
    "slideshow": {
     "slide_type": "-"
    }
   },
   "outputs": [],
   "source": [
    "message = 'Heisann'\n",
    "result = split(message, 'i') # Call our function\n",
    "print(result)"
   ]
  },
  {
   "cell_type": "markdown",
   "metadata": {
    "slideshow": {
     "slide_type": "subslide"
    }
   },
   "source": [
    "## Function syntax"
   ]
  },
  {
   "cell_type": "markdown",
   "metadata": {},
   "source": [
    "The syntax is the following:\n",
    "```python\n",
    "def functionname(arg1, arg2=\"default\", arg3=1.0, ...):\n",
    "   \"Docstring\"\n",
    "   <block of statements>\n",
    "   return [expression]\n",
    "```"
   ]
  },
  {
   "cell_type": "markdown",
   "metadata": {
    "slideshow": {
     "slide_type": "fragment"
    }
   },
   "source": [
    "We have a few options how to call a function:\n",
    "\n",
    "```python\n",
    "functionname(1.0, \"x\", \"i\")\n",
    "```\n",
    "is the same as\n",
    "```python\n",
    "functionname(arg1=1.0, arg2=\"x\", arg2=\"i\")\n",
    "```\n",
    "\n",
    "Default arguments can be left out:\n",
    "```python\n",
    "functionname(1.0, args3=\"i\") \n",
    "```\n",
    "\n",
    "Positional arguments must appear before keyword arguments:\n",
    "\n",
    "```python\n",
    "functionname(arg3='i', \"x\") # invalid\n",
    "```"
   ]
  },
  {
   "cell_type": "markdown",
   "metadata": {
    "slideshow": {
     "slide_type": "slide"
    }
   },
   "source": [
    "## Useful string operations "
   ]
  },
  {
   "cell_type": "code",
   "execution_count": 23,
   "metadata": {},
   "outputs": [
    {
     "name": "stdout",
     "output_type": "stream",
     "text": [
      "Write the current day, date and time separated by spacesFriday 01-09-2023 12:26\n",
      "Today is Friday. The date is ['01-09-2023']. The time is 12:26\n"
     ]
    }
   ],
   "source": [
    "info = input(\"Write the current day, date and time separated by spaces\")\n",
    "infolist = info.split()\n",
    "day = infolist[0]\n",
    "date = infolist[1:-1]\n",
    "time = infolist[-1]\n",
    "print(f\"Today is {day}. The date is {date}. The time is {time}\")"
   ]
  },
  {
   "cell_type": "code",
   "execution_count": 24,
   "metadata": {},
   "outputs": [
    {
     "name": "stdout",
     "output_type": "stream",
     "text": [
      "Write the current day, date and time separated by commasFriday,01-09-2023,12:27\n",
      "Today is Friday. The date is 01-09-2023. The time is 12:27\n"
     ]
    }
   ],
   "source": [
    "info = input(\"Write the current day, date and time separated by commas\")\n",
    "infolist = info.split(',')\n",
    "day = infolist[0]\n",
    "date = infolist[1]\n",
    "time = infolist[2]\n",
    "print(f\"Today is {day}. The date is {date}. The time is {time}\")"
   ]
  },
  {
   "cell_type": "markdown",
   "metadata": {
    "slideshow": {
     "slide_type": "slide"
    }
   },
   "source": [
    "## The join method\n",
    "define the list\n",
    "```python\n",
    "date = ['09', 'September']\n",
    "```\n",
    "Can you extract the info from the list into one string saying only \"09 September\""
   ]
  },
  {
   "cell_type": "code",
   "execution_count": 27,
   "metadata": {},
   "outputs": [
    {
     "data": {
      "text/plain": [
       "'09-September'"
      ]
     },
     "execution_count": 27,
     "metadata": {},
     "output_type": "execute_result"
    }
   ],
   "source": [
    "date = ['09', 'September']\n",
    "'-'.join(date)"
   ]
  },
  {
   "cell_type": "markdown",
   "metadata": {},
   "source": [
    "## Adding strings"
   ]
  },
  {
   "cell_type": "code",
   "execution_count": 28,
   "metadata": {},
   "outputs": [
    {
     "data": {
      "text/plain": [
       "'09 September'"
      ]
     },
     "execution_count": 28,
     "metadata": {},
     "output_type": "execute_result"
    }
   ],
   "source": [
    "date[0]+' '+date[1]"
   ]
  },
  {
   "cell_type": "markdown",
   "metadata": {
    "slideshow": {
     "slide_type": "slide"
    }
   },
   "source": [
    "# Working with textfiles\n",
    "Text files are files containing sequences of characters. Unlike binary files, they are human-readable and are commonly used for storing data in a structured text format like JSON, CSV, or just plain text."
   ]
  },
  {
   "cell_type": "markdown",
   "metadata": {
    "slideshow": {
     "slide_type": "slide"
    }
   },
   "source": [
    "## Reading a file\n",
    "\n",
    "To open a datafile in the same location as the current .py-file use the syntax open(filename) where filename is the name of the datafile as a string:\n",
    "```python\n",
    "infile = open('data/example_data.txt')\n",
    "```\n",
    "Here example_data may look like this: \n",
    "```bash\n",
    "This is the first line of the file\n",
    "This is the second line of the file\n",
    "Below comes the interesting part of the file: \n",
    "10 20 30 \n",
    "20 30 1\n",
    "2.2 125 6.45\n",
    "0.1 20 3.14\n",
    "```"
   ]
  },
  {
   "cell_type": "code",
   "execution_count": 29,
   "metadata": {},
   "outputs": [
    {
     "data": {
      "text/plain": [
       "<_io.TextIOWrapper name='data/example_data.txt' mode='r' encoding='UTF-8'>"
      ]
     },
     "execution_count": 29,
     "metadata": {},
     "output_type": "execute_result"
    }
   ],
   "source": [
    "infile = open('data/example_data.txt')\n",
    "infile"
   ]
  },
  {
   "cell_type": "markdown",
   "metadata": {
    "slideshow": {
     "slide_type": "slide"
    }
   },
   "source": [
    "We can read the file line by line by using the method readline:"
   ]
  },
  {
   "cell_type": "code",
   "execution_count": 30,
   "metadata": {},
   "outputs": [
    {
     "name": "stdout",
     "output_type": "stream",
     "text": [
      "This is the first line of the file\n",
      "\n",
      "This is the second line of the file\n",
      "\n"
     ]
    }
   ],
   "source": [
    "line1 = infile.readline()\n",
    "line2 = infile.readline()\n",
    "print(line1)\n",
    "print(line2)\n",
    "infile.close()"
   ]
  },
  {
   "cell_type": "markdown",
   "metadata": {
    "slideshow": {
     "slide_type": "slide"
    }
   },
   "source": [
    "If we are not interested in the first (few) lines we can call infile.readline() a few times to skip those lines. "
   ]
  },
  {
   "cell_type": "code",
   "execution_count": 31,
   "metadata": {},
   "outputs": [
    {
     "name": "stdout",
     "output_type": "stream",
     "text": [
      "Below comes the interesting part of the file: \n",
      "\n"
     ]
    }
   ],
   "source": [
    "infile = open('data/example_data.txt')\n",
    "infile.readline()\n",
    "infile.readline()\n",
    "line3 = infile.readline()\n",
    "print(line3)\n",
    "infile.close()"
   ]
  },
  {
   "cell_type": "markdown",
   "metadata": {
    "slideshow": {
     "slide_type": "slide"
    }
   },
   "source": [
    "The TextIOWrapper can be iterated over and starts at the current line in the datafile. We have already called infile.readline() three times since opening the last time, thus the first three lines are omitted in the for loop below:"
   ]
  },
  {
   "cell_type": "code",
   "execution_count": 7,
   "metadata": {},
   "outputs": [
    {
     "name": "stdout",
     "output_type": "stream",
     "text": [
      "could not convert string to float: 'This'\n",
      "This could not be converted!\n",
      "could not convert string to float: 'is'\n",
      "is could not be converted!\n",
      "could not convert string to float: 'the'\n",
      "the could not be converted!\n",
      "could not convert string to float: 'first'\n",
      "first could not be converted!\n",
      "could not convert string to float: 'line'\n",
      "line could not be converted!\n",
      "could not convert string to float: 'of'\n",
      "of could not be converted!\n",
      "could not convert string to float: 'the'\n",
      "the could not be converted!\n",
      "could not convert string to float: 'file\\n'\n",
      "file\n",
      " could not be converted!\n",
      "could not convert string to float: 'This'\n",
      "This could not be converted!\n",
      "could not convert string to float: 'is'\n",
      "is could not be converted!\n",
      "could not convert string to float: 'the'\n",
      "the could not be converted!\n",
      "could not convert string to float: 'second'\n",
      "second could not be converted!\n",
      "could not convert string to float: 'line'\n",
      "line could not be converted!\n",
      "could not convert string to float: 'of'\n",
      "of could not be converted!\n",
      "could not convert string to float: 'the'\n",
      "the could not be converted!\n",
      "could not convert string to float: 'file\\n'\n",
      "file\n",
      " could not be converted!\n",
      "could not convert string to float: 'Below'\n",
      "Below could not be converted!\n",
      "could not convert string to float: 'comes'\n",
      "comes could not be converted!\n",
      "could not convert string to float: 'the'\n",
      "the could not be converted!\n",
      "could not convert string to float: 'interesting'\n",
      "interesting could not be converted!\n",
      "could not convert string to float: 'part'\n",
      "part could not be converted!\n",
      "could not convert string to float: 'of'\n",
      "of could not be converted!\n",
      "could not convert string to float: 'the'\n",
      "the could not be converted!\n",
      "could not convert string to float: 'file:'\n",
      "file: could not be converted!\n",
      "could not convert string to float: '\\n'\n",
      "\n",
      " could not be converted!\n",
      "could not convert string to float: '\\n'\n",
      "\n",
      " could not be converted!\n"
     ]
    },
    {
     "data": {
      "text/plain": [
       "[10.0, 20.0, 30.0, 20.0, 30.0, 1.0, 2.2, 125.0, 6.45, 0.1, 20.0, 3.14]"
      ]
     },
     "execution_count": 7,
     "metadata": {},
     "output_type": "execute_result"
    }
   ],
   "source": [
    "data = []\n",
    "\n",
    "def to_number(value):\n",
    "    return float(value)\n",
    "    \n",
    "\n",
    "with open('data/example_data.txt') as f:\n",
    "    \n",
    "    lines = f.readlines()\n",
    "    \n",
    "    for line in lines:\n",
    "        split_lines = line.split(\" \")\n",
    "        for val in split_lines:\n",
    "            try:\n",
    "                number = to_number(val)\n",
    "                data.append(number)\n",
    "            except ValueError as e:\n",
    "                print(e)\n",
    "                print(f\"{val} could not be converted!\")\n",
    "\n",
    "data"
   ]
  },
  {
   "cell_type": "code",
   "execution_count": 34,
   "metadata": {},
   "outputs": [
    {
     "name": "stdout",
     "output_type": "stream",
     "text": [
      "10 20 30 \n",
      "\n",
      "20 30 1\n",
      "\n",
      "2.2 125 6.45\n",
      "\n",
      "0.1 20 3.14\n",
      "\n"
     ]
    }
   ],
   "source": [
    "#full program to print the interesting lines: \n",
    "infile = open('data/example_data.txt')\n",
    "infile.readline()\n",
    "infile.readline()\n",
    "infile.readline()\n",
    "for line in infile:\n",
    "    print(line)\n",
    "infile.close()"
   ]
  },
  {
   "cell_type": "markdown",
   "metadata": {
    "slideshow": {
     "slide_type": "slide"
    }
   },
   "source": [
    "### We can use readlines() to read all lines at once"
   ]
  },
  {
   "cell_type": "code",
   "execution_count": 35,
   "metadata": {},
   "outputs": [
    {
     "name": "stdout",
     "output_type": "stream",
     "text": [
      "['This is the first line of the file\\n', 'This is the second line of the file\\n', 'Below comes the interesting part of the file: \\n', '10 20 30 \\n', '20 30 1\\n', '2.2 125 6.45\\n', '0.1 20 3.14\\n']\n"
     ]
    }
   ],
   "source": [
    "infile = open('data/example_data.txt')\n",
    "lines = infile.readlines()\n",
    "print(lines)"
   ]
  },
  {
   "cell_type": "markdown",
   "metadata": {},
   "source": [
    "Now assume that we wanted to store the numbers from the file in three lists/columns: c1, c2 and c3. In the end we should end up with: \n",
    "```python\n",
    "c1 = [10, 20, 2.2, 0.1]\n",
    "c2 = [20, 30, 125, 20]\n",
    "c3 = [30, 1, 6.45, 3.14]\n",
    "```"
   ]
  },
  {
   "cell_type": "markdown",
   "metadata": {
    "slideshow": {
     "slide_type": "slide"
    }
   },
   "source": [
    "### `with` keyword\n",
    "You can use the `with` keyword to automatically close the file after you are done reading/writing to it."
   ]
  },
  {
   "cell_type": "code",
   "execution_count": 36,
   "metadata": {},
   "outputs": [
    {
     "name": "stdout",
     "output_type": "stream",
     "text": [
      "['This is the first line of the file\\n', 'This is the second line of the file\\n', 'Below comes the interesting part of the file: \\n', '10 20 30 \\n', '20 30 1\\n', '2.2 125 6.45\\n', '0.1 20 3.14\\n']\n"
     ]
    }
   ],
   "source": [
    "with open('data/example_data.txt') as f:\n",
    "    lines = f.readlines()\n",
    "    print(lines)"
   ]
  },
  {
   "cell_type": "markdown",
   "metadata": {
    "slideshow": {
     "slide_type": "slide"
    }
   },
   "source": [
    "### Useful string operations 2\n",
    "\n",
    "The methods startswith, in and endswith are useful string operations that may be used when reading files. \n",
    "\n",
    "example_data2.txt\n",
    "```bash\n",
    "This is a header\n",
    "This is a header\n",
    "Numbers: 1 2 3\n",
    "Numbers: 2 3 4\n",
    "5 6 7\n",
    "```\n",
    "1) We are only interested in the lines that starts with \"Numbers\":"
   ]
  },
  {
   "cell_type": "code",
   "execution_count": 37,
   "metadata": {},
   "outputs": [
    {
     "name": "stdout",
     "output_type": "stream",
     "text": [
      "Numbers: 1 2 3\n",
      "\n",
      "Numbers: 2 3 4\n",
      "\n"
     ]
    }
   ],
   "source": [
    "infile = open('data/example_data2.txt')\n",
    "for line in infile:\n",
    "    if line.startswith('Number'):\n",
    "        print(line)"
   ]
  },
  {
   "cell_type": "markdown",
   "metadata": {
    "slideshow": {
     "slide_type": "slide"
    }
   },
   "source": [
    "2) We are only interested in the lines that does not end with \"header\""
   ]
  },
  {
   "cell_type": "code",
   "execution_count": null,
   "metadata": {},
   "outputs": [],
   "source": [
    "infile = open('data/example_data2.txt')\n",
    "for line in infile:\n",
    "    if not line.endswith('header\\n'):\n",
    "        print(line)"
   ]
  },
  {
   "cell_type": "code",
   "execution_count": null,
   "metadata": {},
   "outputs": [],
   "source": [
    "infile = open('data/example_data2.txt')\n",
    "for line in infile:\n",
    "    if not line.strip().endswith('header'):\n",
    "        print(line)"
   ]
  },
  {
   "cell_type": "markdown",
   "metadata": {
    "slideshow": {
     "slide_type": "slide"
    }
   },
   "source": [
    "3) We are only interested in lines that has the number 2 in them"
   ]
  },
  {
   "cell_type": "code",
   "execution_count": null,
   "metadata": {},
   "outputs": [],
   "source": [
    "infile = open('data/example_data2.txt')\n",
    "for line in infile:\n",
    "    if '2' in line:\n",
    "        print(line)\n",
    "infile.close()"
   ]
  },
  {
   "cell_type": "markdown",
   "metadata": {
    "slideshow": {
     "slide_type": "slide"
    }
   },
   "source": [
    "## Writing to file"
   ]
  },
  {
   "cell_type": "markdown",
   "metadata": {
    "slideshow": {
     "slide_type": "-"
    }
   },
   "source": [
    "To write to file, we still use the open() function, but we have to specify that we want to write to file. \n",
    "```python\n",
    "outfile = open('data/outfile.txt','w')\n",
    "```\n",
    "The mode, here \"w\", indicates that we want to write to file. The default value (when nothing is provided as in the previous examples) indicates that we want to read from file. Warning: If the file outfile.txt exists, everything will be overwritten by what we decide to write to the file. "
   ]
  },
  {
   "cell_type": "code",
   "execution_count": 38,
   "metadata": {},
   "outputs": [],
   "source": [
    "outfile = open('data/outfile.txt','w')\n",
    "outfile.write('This is the first line of the file')\n",
    "outfile.close()"
   ]
  },
  {
   "cell_type": "code",
   "execution_count": 39,
   "metadata": {},
   "outputs": [],
   "source": [
    "outfile = open('data/outfile.txt','w')\n",
    "outfile.write('The previous line is deleted and this is the new line')\n",
    "outfile.close()"
   ]
  },
  {
   "cell_type": "markdown",
   "metadata": {
    "slideshow": {
     "slide_type": "slide"
    }
   },
   "source": [
    "We can append to existing files using the 'a' mode when opening:"
   ]
  },
  {
   "cell_type": "code",
   "execution_count": 41,
   "metadata": {},
   "outputs": [],
   "source": [
    "outfile = open('data/outfile.txt','a')\n",
    "outfile.write('\\nThe previous text is still there, and this line was just appended')\n",
    "outfile.close()"
   ]
  },
  {
   "cell_type": "markdown",
   "metadata": {
    "slideshow": {
     "slide_type": "slide"
    }
   },
   "source": [
    "Use \\n for newline"
   ]
  },
  {
   "cell_type": "code",
   "execution_count": 42,
   "metadata": {},
   "outputs": [],
   "source": [
    "outfile = open('data/outfile.txt','a')      # use 'w' to write to new file 'a' to append to an already existing file\n",
    "outfile.write(\"Now let's add a new line:\\n\")\n",
    "outfile.write(\"This is the new line\")\n",
    "outfile.close()"
   ]
  },
  {
   "cell_type": "markdown",
   "metadata": {
    "slideshow": {
     "slide_type": "-"
    }
   },
   "source": [
    "We perform all the operations we want on a file before closing it. In the previous example we closed the file after each operation to inspect changes while we wrote. "
   ]
  },
  {
   "cell_type": "markdown",
   "metadata": {
    "slideshow": {
     "slide_type": "slide"
    }
   },
   "source": [
    "# More on errors and exceptions\n",
    "We often want to convert data from files (strings) to floating point numbers:"
   ]
  },
  {
   "cell_type": "markdown",
   "metadata": {},
   "source": [
    "```txt\n",
    "This is the first line of the file\n",
    "This is the second line of the file\n",
    "Below comes the interesting part of the file: \n",
    "10 20 30 \n",
    "20 30 1\n",
    "2.2 125 6.45\n",
    "0.1 20 3.14\n",
    "```"
   ]
  },
  {
   "cell_type": "code",
   "execution_count": null,
   "metadata": {},
   "outputs": [],
   "source": [
    "infile = open('data/example_data.txt')\n",
    "numbers = []\n",
    "for line in infile:\n",
    "    info = line.split()\n",
    "    try:\n",
    "        number = float(info[0])\n",
    "        numbers.append(number)\n",
    "    except:\n",
    "        print('Skipping line: ', line)\n",
    "    \n",
    "print(numbers)\n",
    "    "
   ]
  },
  {
   "cell_type": "markdown",
   "metadata": {
    "slideshow": {
     "slide_type": "slide"
    }
   },
   "source": [
    "## Raise (throw) an exception\n",
    "When working with input data, we often want the program to fail when wrong input is provided:"
   ]
  },
  {
   "cell_type": "code",
   "execution_count": null,
   "metadata": {},
   "outputs": [],
   "source": [
    "message = input('Write hello')\n",
    "if message != 'hello':\n",
    "    raise Exception('The input should be hello')"
   ]
  },
  {
   "cell_type": "markdown",
   "metadata": {},
   "source": [
    "There are numerous exceptions in python:"
   ]
  },
  {
   "cell_type": "code",
   "execution_count": null,
   "metadata": {},
   "outputs": [],
   "source": [
    "number = float(input('Write a number between 0 and 10'))\n",
    "if number <= 0 or number >= 10:\n",
    "    raise ValueError('The number must be between 0 and 10')"
   ]
  },
  {
   "cell_type": "markdown",
   "metadata": {
    "slideshow": {
     "slide_type": "slide"
    }
   },
   "source": [
    "# More on reading files"
   ]
  },
  {
   "cell_type": "code",
   "execution_count": null,
   "metadata": {},
   "outputs": [],
   "source": [
    "with open('data/example_data.txt') as infile:\n",
    "    for line in infile:\n",
    "        print(line)"
   ]
  },
  {
   "cell_type": "markdown",
   "metadata": {},
   "source": [
    "Gather all information about the countries in a nested dictionary"
   ]
  },
  {
   "cell_type": "code",
   "execution_count": null,
   "metadata": {},
   "outputs": [],
   "source": [
    "all_data = {}\n",
    "with open('data/Time-use.txt') as infile:\n",
    "    headers = infile.readline().split()\n",
    "    for line in infile:\n",
    "        info = line.split(',')\n",
    "        country = info[1].strip()\n",
    "        if not country in all_data:\n",
    "            all_data[country] = {}\n",
    "        else:\n",
    "            all_data[country][info[2]] = float(info[3])\n",
    "\n",
    "            \n",
    "all_data['Norway']"
   ]
  },
  {
   "cell_type": "markdown",
   "metadata": {
    "slideshow": {
     "slide_type": "slide"
    }
   },
   "source": [
    "# Numpy arrays"
   ]
  },
  {
   "cell_type": "markdown",
   "metadata": {},
   "source": [
    "\n",
    "The most basic array type that NumPy provides is `ndarray`. These are N-dimensional homogenous collections of \"items\" of the same type."
   ]
  },
  {
   "cell_type": "markdown",
   "metadata": {},
   "source": [
    "```python\n",
    "np.array([5., 10., 11.])\n",
    "np.array([\"a\", \"b\", \"c\"])\n",
    "```"
   ]
  },
  {
   "cell_type": "markdown",
   "metadata": {
    "slideshow": {
     "slide_type": "-"
    }
   },
   "source": [
    "**Properties**:\n",
    "\n",
    "1. Arrays have a fixed size.\n",
    "2. Arrays have one associated data type. \n",
    "3. *Contents* of arrays are mutable (values in array can be changed)"
   ]
  },
  {
   "cell_type": "markdown",
   "metadata": {
    "slideshow": {
     "slide_type": "slide"
    }
   },
   "source": [
    "## Creating NumPy arrays"
   ]
  },
  {
   "cell_type": "markdown",
   "metadata": {},
   "source": [
    "Numpy provides convenience functions for creating common arrays:"
   ]
  },
  {
   "cell_type": "code",
   "execution_count": 24,
   "metadata": {},
   "outputs": [
    {
     "data": {
      "text/plain": [
       "array([0., 0., 0.])"
      ]
     },
     "execution_count": 24,
     "metadata": {},
     "output_type": "execute_result"
    }
   ],
   "source": [
    "np.zeros(3)"
   ]
  },
  {
   "cell_type": "code",
   "execution_count": 25,
   "metadata": {
    "slideshow": {
     "slide_type": "-"
    }
   },
   "outputs": [
    {
     "data": {
      "text/plain": [
       "array([[1., 1.],\n",
       "       [1., 1.],\n",
       "       [1., 1.]])"
      ]
     },
     "execution_count": 25,
     "metadata": {},
     "output_type": "execute_result"
    }
   ],
   "source": [
    "np.ones((3, 2))"
   ]
  },
  {
   "cell_type": "code",
   "execution_count": 26,
   "metadata": {
    "slideshow": {
     "slide_type": "-"
    }
   },
   "outputs": [
    {
     "data": {
      "text/plain": [
       "array([[ -0.        ,  -3.        ],\n",
       "       [120.38888889,  11.        ]])"
      ]
     },
     "execution_count": 26,
     "metadata": {},
     "output_type": "execute_result"
    }
   ],
   "source": [
    "np.empty((2, 2)) # uninitialised array. Might contain arbitrary data"
   ]
  },
  {
   "cell_type": "markdown",
   "metadata": {
    "slideshow": {
     "slide_type": "slide"
    }
   },
   "source": [
    "## Array with a sequence of numbers\n",
    "\n",
    "\n",
    "### linspace\n",
    "`linspace(a, b, n)` generates `n` uniformly spaced\n",
    "coordinates, starting with `a` and ending with `b`"
   ]
  },
  {
   "cell_type": "markdown",
   "metadata": {},
   "source": [
    "<img src=\"figs/numpy-linspace.png\" style=\"width: 500px;\"/>"
   ]
  },
  {
   "cell_type": "markdown",
   "metadata": {
    "slideshow": {
     "slide_type": "-"
    }
   },
   "source": [
    "Use `endpoint=False` to exclude the last point (matches `range(start, stop)`)"
   ]
  },
  {
   "cell_type": "code",
   "execution_count": 27,
   "metadata": {},
   "outputs": [
    {
     "data": {
      "text/plain": [
       "array([-3.  , -1.75, -0.5 ,  0.75,  2.  ])"
      ]
     },
     "execution_count": 27,
     "metadata": {},
     "output_type": "execute_result"
    }
   ],
   "source": [
    "np.linspace(-3, 2, num=5)"
   ]
  },
  {
   "cell_type": "code",
   "execution_count": 28,
   "metadata": {},
   "outputs": [
    {
     "data": {
      "text/plain": [
       "array([-3., -2., -1.,  0.,  1.])"
      ]
     },
     "execution_count": 28,
     "metadata": {},
     "output_type": "execute_result"
    }
   ],
   "source": [
    "np.linspace(-3, 2, num=5, endpoint=False)"
   ]
  },
  {
   "cell_type": "markdown",
   "metadata": {
    "slideshow": {
     "slide_type": "slide"
    }
   },
   "source": [
    "### arange"
   ]
  },
  {
   "cell_type": "markdown",
   "metadata": {
    "slideshow": {
     "slide_type": "fragment"
    }
   },
   "source": [
    "`arange` is the numpy equivalent of Python's `range`"
   ]
  },
  {
   "cell_type": "code",
   "execution_count": null,
   "metadata": {},
   "outputs": [],
   "source": [
    "np.arange(-5, 6, step=2, dtype=float)"
   ]
  },
  {
   "cell_type": "markdown",
   "metadata": {
    "slideshow": {
     "slide_type": "slide"
    }
   },
   "source": [
    "## Warning: `arange` can give unexpected results\n",
    "\n",
    "`arange`'s upper limit may or may not be included!\n",
    "\n",
    "Compare this examples:"
   ]
  },
  {
   "cell_type": "code",
   "execution_count": 29,
   "metadata": {
    "slideshow": {
     "slide_type": "-"
    }
   },
   "outputs": [
    {
     "data": {
      "text/plain": [
       "array([8.2 , 8.25])"
      ]
     },
     "execution_count": 29,
     "metadata": {},
     "output_type": "execute_result"
    }
   ],
   "source": [
    "np.arange(8.2, 8.2+0.05, 0.05)  # OK!"
   ]
  },
  {
   "cell_type": "markdown",
   "metadata": {
    "slideshow": {
     "slide_type": "-"
    }
   },
   "source": [
    "with this one:"
   ]
  },
  {
   "cell_type": "code",
   "execution_count": 30,
   "metadata": {},
   "outputs": [
    {
     "data": {
      "text/plain": [
       "array([8.2 , 8.25])"
      ]
     },
     "execution_count": 30,
     "metadata": {},
     "output_type": "execute_result"
    }
   ],
   "source": [
    "np.arange(8.2, 8.2+0.1, 0.05)   # Not OK?"
   ]
  },
  {
   "cell_type": "markdown",
   "metadata": {
    "slideshow": {
     "slide_type": "-"
    }
   },
   "source": [
    "**What is happening?**"
   ]
  },
  {
   "cell_type": "markdown",
   "metadata": {
    "slideshow": {
     "slide_type": "-"
    }
   },
   "source": [
    "**Reason**: An accumulated round-off error in the second case:"
   ]
  },
  {
   "cell_type": "code",
   "execution_count": 31,
   "metadata": {},
   "outputs": [
    {
     "data": {
      "text/plain": [
       "8.25"
      ]
     },
     "execution_count": 31,
     "metadata": {},
     "output_type": "execute_result"
    }
   ],
   "source": [
    "8.2 + 0.05"
   ]
  },
  {
   "cell_type": "code",
   "execution_count": 32,
   "metadata": {
    "slideshow": {
     "slide_type": "-"
    }
   },
   "outputs": [
    {
     "data": {
      "text/plain": [
       "8.299999999999999"
      ]
     },
     "execution_count": 32,
     "metadata": {},
     "output_type": "execute_result"
    }
   ],
   "source": [
    "8.2 + 0.1"
   ]
  },
  {
   "cell_type": "markdown",
   "metadata": {
    "slideshow": {
     "slide_type": "slide"
    }
   },
   "source": [
    "# Array attributes"
   ]
  },
  {
   "cell_type": "markdown",
   "metadata": {
    "slideshow": {
     "slide_type": "-"
    }
   },
   "source": [
    "## Important array attributes"
   ]
  },
  {
   "cell_type": "markdown",
   "metadata": {},
   "source": [
    "Given an array `a`, you have access to some useful attributes:\n",
    "\n",
    "|Attribute|Description|\n",
    "|--|-------------------------------|\n",
    "|*a.data* |Buffer to raw data|\n",
    "|*a.dtype*|Type information of data|\n",
    "|*a.ndim* |Number of dimensions|\n",
    "|*a.shape*|Tuple representing rank of array in each direction|\n",
    "|*a.size* |Total number of elements|\n",
    "|*a.nbytes* |Total number of bytes allocated for array|"
   ]
  },
  {
   "cell_type": "markdown",
   "metadata": {
    "slideshow": {
     "slide_type": "-"
    }
   },
   "source": [
    "**Example**: given an array a, make a new array `x` of same dimension and data type:"
   ]
  },
  {
   "cell_type": "code",
   "execution_count": 33,
   "metadata": {},
   "outputs": [
    {
     "data": {
      "text/plain": [
       "array([[0., 0.],\n",
       "       [0., 0.],\n",
       "       [0., 0.],\n",
       "       [0., 0.],\n",
       "       [0., 0.],\n",
       "       [0., 0.],\n",
       "       [0., 0.],\n",
       "       [0., 0.],\n",
       "       [0., 0.],\n",
       "       [0., 0.],\n",
       "       [0., 0.],\n",
       "       [0., 0.],\n",
       "       [0., 0.],\n",
       "       [0., 0.],\n",
       "       [0., 0.],\n",
       "       [0., 0.],\n",
       "       [0., 0.],\n",
       "       [0., 0.],\n",
       "       [0., 0.],\n",
       "       [0., 0.],\n",
       "       [0., 0.]])"
      ]
     },
     "execution_count": 33,
     "metadata": {},
     "output_type": "execute_result"
    }
   ],
   "source": [
    "np.zeros(A.shape, A.dtype)"
   ]
  },
  {
   "cell_type": "code",
   "execution_count": null,
   "metadata": {},
   "outputs": [],
   "source": [
    "np.zeros_like(A)"
   ]
  },
  {
   "cell_type": "markdown",
   "metadata": {
    "slideshow": {
     "slide_type": "slide"
    }
   },
   "source": [
    "## dtypes: the type of the arrays elements"
   ]
  },
  {
   "cell_type": "markdown",
   "metadata": {
    "slideshow": {
     "slide_type": "-"
    }
   },
   "source": [
    "Use the `dtype` argument to create an array of a specific type:\n",
    "```python\n",
    "np.zeros(3, dtype=np.int)       # integer datatype\n",
    "np.ones(3, dtype=np.float32)    # single precision\n",
    "np.ones(3, dtype=np.float64)    # double precision\n",
    "np.array(3, dtype=np.complex)   # complex numbers\n",
    "```\n",
    "A full list of valid types can be found [here: https://docs.scipy.org/doc/numpy/reference/arrays.dtypes.html](https://docs.scipy.org/doc/numpy/reference/arrays.dtypes.html)."
   ]
  },
  {
   "cell_type": "markdown",
   "metadata": {
    "slideshow": {
     "slide_type": "slide"
    }
   },
   "source": [
    "## **By default**, numpy arrays will automatically select a suitable type to store the elements:"
   ]
  },
  {
   "cell_type": "markdown",
   "metadata": {
    "slideshow": {
     "slide_type": "-"
    }
   },
   "source": [
    "The type of the array is automatically determined:\n",
    "\n",
    "Array of integers:\n",
    "\n",
    "```python\n",
    "np.array([1, 2, 3])\n",
    "```\n",
    "\n",
    "Array of floats:\n",
    "```python\n",
    "np.array([1.0, 2, 3]) \n",
    "```\n",
    "Array of automatically converted strings:\n",
    "```python\n",
    "np.array([1.0, 2, \"a\"])  # array of strings  of dtype \"<U32\" (unicode strings with max 32 characters.)\n",
    "```"
   ]
  },
  {
   "cell_type": "markdown",
   "metadata": {
    "slideshow": {
     "slide_type": "slide"
    }
   },
   "source": [
    "# More constructions of numpy arrays"
   ]
  },
  {
   "cell_type": "markdown",
   "metadata": {
    "slideshow": {
     "slide_type": "-"
    }
   },
   "source": [
    "## Python lists and numpy arrays"
   ]
  },
  {
   "cell_type": "markdown",
   "metadata": {
    "slideshow": {
     "slide_type": "-"
    }
   },
   "source": [
    "### From list to array\n",
    "`array(list, [datatype])` generates a numpy.array from a list:"
   ]
  },
  {
   "cell_type": "code",
   "execution_count": 34,
   "metadata": {},
   "outputs": [],
   "source": [
    "mylist = [0, 1.2, 4, -9.1, 5, 8]\n",
    "a = np.array(mylist)"
   ]
  },
  {
   "cell_type": "markdown",
   "metadata": {
    "slideshow": {
     "slide_type": "-"
    }
   },
   "source": [
    "### From array to list"
   ]
  },
  {
   "cell_type": "code",
   "execution_count": 35,
   "metadata": {
    "slideshow": {
     "slide_type": "-"
    }
   },
   "outputs": [
    {
     "data": {
      "text/plain": [
       "[0.0, 1.2, 4.0, -9.1, 5.0, 8.0]"
      ]
     },
     "execution_count": 35,
     "metadata": {},
     "output_type": "execute_result"
    }
   ],
   "source": [
    "a.tolist()"
   ]
  },
  {
   "cell_type": "markdown",
   "metadata": {
    "slideshow": {
     "slide_type": "slide"
    }
   },
   "source": [
    "## From \"anything\" to NumPy array\n",
    "\n",
    "```python\n",
    "asarray(a)\n",
    "```\n",
    "\n",
    "converts \"any\" object `a` to a NumPy array if possible/necessary, tries to avoid copying.\n",
    "\n",
    "Works with int's, list's, tuple's, numpy.array's, ...,\n"
   ]
  },
  {
   "cell_type": "markdown",
   "metadata": {
    "slideshow": {
     "slide_type": "-"
    }
   },
   "source": [
    "**Example**: Use asarray to allow flexible arguments in functions:"
   ]
  },
  {
   "cell_type": "code",
   "execution_count": 36,
   "metadata": {},
   "outputs": [
    {
     "name": "stdout",
     "output_type": "stream",
     "text": [
      "[1, 2, 3] <class 'list'> :\n",
      "   3 * a - 5 = [-2  1  4]\n",
      "[0. 0. 0. 0. 0. 0. 0. 0. 0. 0.] <class 'numpy.ndarray'> :\n",
      "   3 * a - 5 = [-5. -5. -5. -5. -5. -5. -5. -5. -5. -5.]\n",
      "-4.5 <class 'float'> :\n",
      "   3 * a - 5 = -18.5\n",
      "6 <class 'int'> :\n",
      "   3 * a - 5 = 13\n"
     ]
    }
   ],
   "source": [
    "def myfunc(some_sequence):\n",
    "    a = np.asarray(some_sequence)\n",
    "    return 3 * a - 5\n",
    "\n",
    "\n",
    "for input_item in (\n",
    "    [1, 2, 3],  # list argument\n",
    "    np.zeros(10), # array\n",
    "    -4.5, # float\n",
    "    6, # int\n",
    "):\n",
    "    print(input_item, type(input_item), \":\")\n",
    "    print(\"   3 * a - 5 =\", myfunc(input_item))\n"
   ]
  },
  {
   "cell_type": "markdown",
   "metadata": {
    "slideshow": {
     "slide_type": "slide"
    }
   },
   "source": [
    "# Higher-dimensional arrays"
   ]
  },
  {
   "cell_type": "markdown",
   "metadata": {
    "slideshow": {
     "slide_type": "-"
    }
   },
   "source": [
    "## Creating higher-dimensional arrays"
   ]
  },
  {
   "cell_type": "markdown",
   "metadata": {},
   "source": [
    "Passing a tuple to an array constructor results in a higher-dimensional array:"
   ]
  },
  {
   "cell_type": "code",
   "execution_count": 37,
   "metadata": {},
   "outputs": [
    {
     "data": {
      "text/plain": [
       "array([[[0., 0., 0.],\n",
       "        [0., 0., 0.],\n",
       "        [0., 0., 0.]],\n",
       "\n",
       "       [[0., 0., 0.],\n",
       "        [0., 0., 0.],\n",
       "        [0., 0., 0.]]])"
      ]
     },
     "execution_count": 37,
     "metadata": {},
     "output_type": "execute_result"
    }
   ],
   "source": [
    "np.zeros((2, 3, 3))     # 2*3*3 dim. array"
   ]
  },
  {
   "cell_type": "markdown",
   "metadata": {
    "slideshow": {
     "slide_type": "-"
    }
   },
   "source": [
    "A two-dimensional array from two one-dimensional Python lists:"
   ]
  },
  {
   "cell_type": "code",
   "execution_count": null,
   "metadata": {},
   "outputs": [],
   "source": [
    "x = [0, 0.5, 1]\n",
    "y = [-6.1, -2, 1.2]  # Python lists\n",
    "np.array([x, y])        # form array with x and y as rows"
   ]
  },
  {
   "cell_type": "markdown",
   "metadata": {
    "slideshow": {
     "slide_type": "-"
    }
   },
   "source": [
    "Numpy allows up to 32 dimensions. You can retrieve the shape of an array with"
   ]
  },
  {
   "cell_type": "code",
   "execution_count": 38,
   "metadata": {
    "slideshow": {
     "slide_type": "-"
    }
   },
   "outputs": [
    {
     "data": {
      "text/plain": [
       "(2, 3, 3)"
      ]
     },
     "execution_count": 38,
     "metadata": {},
     "output_type": "execute_result"
    }
   ],
   "source": [
    "a = np.zeros((2, 3, 3))\n",
    "a.shape"
   ]
  },
  {
   "cell_type": "markdown",
   "metadata": {
    "slideshow": {
     "slide_type": "slide"
    }
   },
   "source": [
    "## Changing array dimensions"
   ]
  },
  {
   "cell_type": "markdown",
   "metadata": {},
   "source": [
    "Use `reshape` to reinterpret the same data as a new shape *without copying* data:"
   ]
  },
  {
   "cell_type": "code",
   "execution_count": 39,
   "metadata": {},
   "outputs": [],
   "source": [
    "a = np.array([0, 1.2, 4, -9.1, 5, 2])"
   ]
  },
  {
   "cell_type": "code",
   "execution_count": 40,
   "metadata": {},
   "outputs": [
    {
     "data": {
      "text/plain": [
       "array([[ 0. ,  1.2,  4. ],\n",
       "       [-9.1,  5. ,  2. ]])"
      ]
     },
     "execution_count": 40,
     "metadata": {},
     "output_type": "execute_result"
    }
   ],
   "source": [
    "b = a.reshape((2, 3))  # turn a into a 2x3 matrix\n",
    "b"
   ]
  },
  {
   "cell_type": "markdown",
   "metadata": {
    "slideshow": {
     "slide_type": "-"
    }
   },
   "source": [
    "The reshaped array points to the same data vector, i.e. no data is copied:"
   ]
  },
  {
   "cell_type": "code",
   "execution_count": 41,
   "metadata": {},
   "outputs": [
    {
     "data": {
      "text/plain": [
       "0.0"
      ]
     },
     "execution_count": 41,
     "metadata": {},
     "output_type": "execute_result"
    }
   ],
   "source": [
    "b[0,0]"
   ]
  },
  {
   "cell_type": "code",
   "execution_count": 42,
   "metadata": {},
   "outputs": [
    {
     "name": "stdout",
     "output_type": "stream",
     "text": [
      "a = [-10.    1.2   4.   -9.1   5.    2. ]\n",
      "b = \n",
      "[[-10.    1.2   4. ]\n",
      " [ -9.1   5.    2. ]]\n"
     ]
    }
   ],
   "source": [
    "b[0,0] = -10\n",
    "print(f\"a = {a}\")\n",
    "print(f\"b = \\n{b}\")\n"
   ]
  },
  {
   "cell_type": "markdown",
   "metadata": {
    "slideshow": {
     "slide_type": "slide"
    }
   },
   "source": [
    "## NumPy data ordering\n",
    "\n",
    "Numpy allows to store array in *C* or *FORTRAN* ordering:\n",
    "\n",
    "**Note**: For one-dimensional arrays, the orders are equivalent."
   ]
  },
  {
   "cell_type": "markdown",
   "metadata": {
    "slideshow": {
     "slide_type": "-"
    }
   },
   "source": [
    "The order can be chosen with the `order` flag:"
   ]
  },
  {
   "cell_type": "code",
   "execution_count": 43,
   "metadata": {},
   "outputs": [
    {
     "data": {
      "text/plain": [
       "True"
      ]
     },
     "execution_count": 43,
     "metadata": {},
     "output_type": "execute_result"
    }
   ],
   "source": [
    "a = np.asarray([[1, 2], [3, 4]], order='F')  # Fortran order\n",
    "a.flags.f_contiguous                         # Check if Fortran ordering is used"
   ]
  },
  {
   "cell_type": "markdown",
   "metadata": {
    "slideshow": {
     "slide_type": "slide"
    }
   },
   "source": [
    "## NumPy data ordering (2)"
   ]
  },
  {
   "cell_type": "markdown",
   "metadata": {
    "slideshow": {
     "slide_type": "-"
    }
   },
   "source": [
    "Numpy automatically converts the ordering when necessary:"
   ]
  },
  {
   "cell_type": "code",
   "execution_count": null,
   "metadata": {},
   "outputs": [],
   "source": [
    "A = np.array([[1, 2], [3, 4]], order=\"C\")\n",
    "B = np.array([[1, 2], [3, 4]], order=\"F\")\n",
    "print(A + B)"
   ]
  },
  {
   "cell_type": "markdown",
   "metadata": {
    "slideshow": {
     "slide_type": "-"
    }
   },
   "source": [
    "Transposing a matrix is perfomed by swapping the ordering (without data copying):"
   ]
  },
  {
   "cell_type": "code",
   "execution_count": null,
   "metadata": {},
   "outputs": [],
   "source": [
    "A.transpose().flags.f_contiguous"
   ]
  },
  {
   "cell_type": "markdown",
   "metadata": {
    "slideshow": {
     "slide_type": "slide"
    }
   },
   "source": [
    "# Array indexing"
   ]
  },
  {
   "cell_type": "markdown",
   "metadata": {
    "slideshow": {
     "slide_type": "-"
    }
   },
   "source": [
    "## Basic indexing\n",
    "\n",
    "The indicing syntax that we are know from list's also work for array's."
   ]
  },
  {
   "cell_type": "markdown",
   "metadata": {
    "slideshow": {
     "slide_type": "-"
    }
   },
   "source": [
    "### Getting values\n",
    "Slicing:\n",
    "```python\n",
    "a[1:4]           # Get 2nd to 4th element\n",
    "```\n",
    "Fancy indexing:\n",
    "```python\n",
    "a[[0, 2, 3]]     # Get entries 0, 2 and 3\n",
    "```\n",
    "**Important**: Slicing returns a *view* to the original array, i.e. no data is copied. Fancy indexing always returns a copy of the array."
   ]
  },
  {
   "cell_type": "markdown",
   "metadata": {
    "slideshow": {
     "slide_type": "-"
    }
   },
   "source": [
    "### Setting values\n",
    "```python\n",
    "a[2:4] = -1      # set a[2] and a[3] equal to -1\n",
    "a[-1]  = a[0]    # set last equal to first element\n",
    "a[:]   = 0       # set all elements of a equal to 0\n",
    "```"
   ]
  },
  {
   "cell_type": "markdown",
   "metadata": {
    "slideshow": {
     "slide_type": "slide"
    }
   },
   "source": [
    "## Multi-dimensional indexing\n",
    "\n",
    "Multi-dimensional indexing has the same syntax as with list's:\n",
    "```python\n",
    "a = ones([2, 3]) # create a 2x3 matrix \n",
    "                 # (two rows, three columns)\n",
    "\n",
    "a[1,2] = 10      # set element (1,2) (2nd row, 3rd column)\n",
    "a[1][2] = 10     # equivalent syntax (slower)\n",
    "a[:,2] = 10      # set all elements in 3rd column\n",
    "a[1,:] = 10      # set all elements in 2nd row\n",
    "a[:,:] = 10       # set all elements \n",
    "```"
   ]
  },
  {
   "cell_type": "markdown",
   "metadata": {
    "slideshow": {
     "slide_type": "slide"
    }
   },
   "source": [
    "## Example: extracting sub-matrices with slicing"
   ]
  },
  {
   "cell_type": "markdown",
   "metadata": {},
   "source": [
    "Given this matrix:"
   ]
  },
  {
   "cell_type": "code",
   "execution_count": 44,
   "metadata": {},
   "outputs": [
    {
     "name": "stdout",
     "output_type": "stream",
     "text": [
      "[[ 0.  1.  2.  3.  4.  5.]\n",
      " [ 6.  7.  8.  9. 10. 11.]\n",
      " [12. 13. 14. 15. 16. 17.]\n",
      " [18. 19. 20. 21. 22. 23.]\n",
      " [24. 25. 26. 27. 28. 29.]]\n"
     ]
    }
   ],
   "source": [
    "a = np.linspace(0, 29, 30).reshape(5, 6)\n",
    "print(a)"
   ]
  },
  {
   "cell_type": "markdown",
   "metadata": {
    "slideshow": {
     "slide_type": "-"
    }
   },
   "source": [
    "we can use slicing to get a *view* of a subset of this matrix.\n",
    "For example to get the submatrix consisting of row 2 and 3 and every second column, we could use:"
   ]
  },
  {
   "cell_type": "code",
   "execution_count": 45,
   "metadata": {},
   "outputs": [
    {
     "data": {
      "text/plain": [
       "array([[ 0.,  1.,  2.,  3.,  4.,  5.],\n",
       "       [ 0.,  7.,  0.,  9.,  0., 11.],\n",
       "       [ 0., 13.,  0., 15.,  0., 17.],\n",
       "       [18., 19., 20., 21., 22., 23.],\n",
       "       [24., 25., 26., 27., 28., 29.]])"
      ]
     },
     "execution_count": 45,
     "metadata": {},
     "output_type": "execute_result"
    }
   ],
   "source": [
    "a[1:3, ::2] = 0  # a[i,j] for i=1,2 and j=0,2,4\n",
    "a"
   ]
  },
  {
   "cell_type": "markdown",
   "metadata": {
    "slideshow": {
     "slide_type": "-"
    }
   },
   "source": [
    "To get the submatrix consisting of every 3rd row, and every second column starting from the third column, we would use:"
   ]
  },
  {
   "cell_type": "code",
   "execution_count": 46,
   "metadata": {},
   "outputs": [
    {
     "data": {
      "text/plain": [
       "array([[ 2.,  4.],\n",
       "       [20., 22.]])"
      ]
     },
     "execution_count": 46,
     "metadata": {},
     "output_type": "execute_result"
    }
   ],
   "source": [
    "a[::3, 2::2]  # a[i,j] for i=0,3 and j=2,4"
   ]
  },
  {
   "cell_type": "markdown",
   "metadata": {
    "slideshow": {
     "slide_type": "slide"
    }
   },
   "source": [
    "## Slices create *views* of array data\n",
    "\n",
    "Assigning to a sliced array will change the original array:"
   ]
  },
  {
   "cell_type": "code",
   "execution_count": 47,
   "metadata": {},
   "outputs": [
    {
     "name": "stdout",
     "output_type": "stream",
     "text": [
      "[[1.         1.        ]\n",
      " [1.         1.        ]\n",
      " [3.14159265 1.        ]]\n"
     ]
    }
   ],
   "source": [
    "a = np.ones([3, 2])\n",
    "b = a[2, :]  # get a view onto the 3rd row\n",
    "b[0] = np.pi  # assigning to b is reflected in a!\n",
    "print(a)"
   ]
  },
  {
   "cell_type": "markdown",
   "metadata": {
    "slideshow": {
     "slide_type": "-"
    }
   },
   "source": [
    "To avoid referencing via slices (if needed) use copy:\n",
    "```python\n",
    "b = a[2,:].copy()  # b has its own vector structure\n",
    "```"
   ]
  },
  {
   "cell_type": "markdown",
   "metadata": {
    "slideshow": {
     "slide_type": "-"
    }
   },
   "source": [
    "**Note**: This behaviour is different to Python `lists`, where `a[:]` makes always a copy"
   ]
  },
  {
   "cell_type": "markdown",
   "metadata": {
    "slideshow": {
     "slide_type": "slide"
    }
   },
   "source": [
    "# Loops\n"
   ]
  },
  {
   "cell_type": "markdown",
   "metadata": {
    "slideshow": {
     "slide_type": "-"
    }
   },
   "source": [
    "## Loops over arrays using indices\n",
    "\n",
    "If we know the dimension of the array, we can use a nested loop to iterate over all array elements:\n"
   ]
  },
  {
   "cell_type": "code",
   "execution_count": 48,
   "metadata": {},
   "outputs": [
    {
     "name": "stdout",
     "output_type": "stream",
     "text": [
      "a[0, 0] = 2.0\n",
      "a[0, 1] = 6.0\n",
      "\n",
      "a[1, 0] = 4.0\n",
      "a[1, 1] = 12.0\n",
      "\n",
      "a[2, 0] = 6.0\n",
      "a[2, 1] = 18.0\n",
      "\n"
     ]
    }
   ],
   "source": [
    "for i in range(a.shape[0]):\n",
    "    for j in range(a.shape[1]):\n",
    "        a[i, j] = (i + 1) * (j + 1) * (j + 2)\n",
    "        print(f\"a[{i}, {j}] = {a[i, j]}\")\n",
    "    print()  # empty line after each row"
   ]
  },
  {
   "cell_type": "markdown",
   "metadata": {
    "slideshow": {
     "slide_type": "-"
    }
   },
   "source": [
    "* Is there a more *Pythonic* way?\n",
    "* What if we do not know the dimension of the array?"
   ]
  },
  {
   "cell_type": "markdown",
   "metadata": {
    "slideshow": {
     "slide_type": "slide"
    }
   },
   "source": [
    "## Better: Use standard Python loops"
   ]
  },
  {
   "cell_type": "markdown",
   "metadata": {
    "slideshow": {
     "slide_type": "-"
    }
   },
   "source": [
    "A standard for loop iterates over the first index. "
   ]
  },
  {
   "cell_type": "markdown",
   "metadata": {
    "slideshow": {
     "slide_type": "-"
    }
   },
   "source": [
    "**Example:** Looping over each element in a matrix:\n",
    "```python\n",
    "for row in a:\n",
    "    for element in row:\n",
    "         my_func(element)\n",
    "```"
   ]
  },
  {
   "cell_type": "markdown",
   "metadata": {
    "slideshow": {
     "slide_type": "slide"
    }
   },
   "source": [
    "## For unknown dimensions loop over the flattened array"
   ]
  },
  {
   "cell_type": "markdown",
   "metadata": {},
   "source": [
    "View array as one-dimensional and iterate over all elements:\n",
    "```python\n",
    "for element in a.ravel():\n",
    "    my_func(element)\n",
    "```\n",
    "ravel() returns a *flattened array*, (1D version). Might return a copy if necessary. "
   ]
  },
  {
   "cell_type": "markdown",
   "metadata": {
    "slideshow": {
     "slide_type": "-"
    }
   },
   "source": [
    "**Advice**: Use `ravel()` only when reading elements, for assigning it is better to use `shape` or `reshape`."
   ]
  },
  {
   "cell_type": "markdown",
   "metadata": {
    "slideshow": {
     "slide_type": "slide"
    }
   },
   "source": [
    "# Numpy Array computations"
   ]
  },
  {
   "cell_type": "markdown",
   "metadata": {
    "slideshow": {
     "slide_type": "-"
    }
   },
   "source": [
    "## Arithmetic operations\n",
    "\n",
    "Arithmetic operations can be used with arrays:"
   ]
  },
  {
   "cell_type": "code",
   "execution_count": null,
   "metadata": {},
   "outputs": [],
   "source": [
    "import numpy as np\n",
    "from math import sin, exp\n",
    "a = np.linspace(0, 10, 11)\n",
    "\n",
    "b = 3 * a - 1\n",
    "c = np.sin(b)\n",
    "d = np.exp(c)\n",
    "\n",
    "print(b,)"
   ]
  },
  {
   "cell_type": "markdown",
   "metadata": {},
   "source": [
    "**Note**: most arithmetic operations in numpy are performed **elementwise**."
   ]
  },
  {
   "cell_type": "markdown",
   "metadata": {
    "slideshow": {
     "slide_type": "slide"
    }
   },
   "source": [
    "## Array operations are much faster than element-wise operations"
   ]
  },
  {
   "cell_type": "markdown",
   "metadata": {},
   "source": [
    "Let's compare the array versus element-wise operation on a 10 million large array."
   ]
  },
  {
   "cell_type": "markdown",
   "metadata": {
    "slideshow": {
     "slide_type": "slide"
    }
   },
   "source": [
    "#### Element wise implementation"
   ]
  },
  {
   "cell_type": "code",
   "execution_count": 50,
   "metadata": {},
   "outputs": [
    {
     "name": "stdout",
     "output_type": "stream",
     "text": [
      "CPU times: user 1.64 s, sys: 16.7 ms, total: 1.66 s\n",
      "Wall time: 1.65 s\n"
     ]
    }
   ],
   "source": [
    "%%time\n",
    "import numpy as np\n",
    "\n",
    "a = np.linspace(0, 1, int(1e07))  # create a large array\n",
    "\n",
    "b = np.empty_like(a)\n",
    "for i in range(a.size):\n",
    "    b[i] = 3 * a[i] - 1"
   ]
  },
  {
   "cell_type": "markdown",
   "metadata": {},
   "source": [
    "Runtime ca 3(?) seconds."
   ]
  },
  {
   "cell_type": "markdown",
   "metadata": {
    "slideshow": {
     "slide_type": "slide"
    }
   },
   "source": [
    "#### Implementation with array operations"
   ]
  },
  {
   "cell_type": "code",
   "execution_count": 51,
   "metadata": {
    "slideshow": {
     "slide_type": "-"
    }
   },
   "outputs": [
    {
     "name": "stdout",
     "output_type": "stream",
     "text": [
      "CPU times: user 15.9 ms, sys: 9.51 ms, total: 25.4 ms\n",
      "Wall time: 24.7 ms\n"
     ]
    }
   ],
   "source": [
    "%time b = 3 * a - 1"
   ]
  },
  {
   "cell_type": "markdown",
   "metadata": {},
   "source": [
    "Runtime ca 0.02(?) seconds!"
   ]
  },
  {
   "cell_type": "markdown",
   "metadata": {
    "slideshow": {
     "slide_type": "-"
    }
   },
   "source": [
    "A ca. 100x speed-up!"
   ]
  },
  {
   "cell_type": "markdown",
   "metadata": {
    "slideshow": {
     "slide_type": "slide"
    }
   },
   "source": [
    "# Vectorization user-defined functions"
   ]
  },
  {
   "cell_type": "markdown",
   "metadata": {},
   "source": [
    "Imagine you have implemented your own function and would like to apply it to all elements in an array:"
   ]
  },
  {
   "cell_type": "code",
   "execution_count": 52,
   "metadata": {},
   "outputs": [
    {
     "ename": "ValueError",
     "evalue": "The truth value of an array with more than one element is ambiguous. Use a.any() or a.all()",
     "output_type": "error",
     "traceback": [
      "\u001b[0;31m---------------------------------------------------------------------------\u001b[0m",
      "\u001b[0;31mValueError\u001b[0m                                Traceback (most recent call last)",
      "Cell \u001b[0;32mIn[52], line 11\u001b[0m\n\u001b[1;32m      7\u001b[0m     \u001b[38;5;28;01melse\u001b[39;00m:\n\u001b[1;32m      8\u001b[0m         \u001b[38;5;28;01mreturn\u001b[39;00m x \u001b[38;5;241m*\u001b[39m\u001b[38;5;241m*\u001b[39m \u001b[38;5;241m2\u001b[39m\n\u001b[0;32m---> 11\u001b[0m \u001b[43mmyfunc\u001b[49m\u001b[43m(\u001b[49m\u001b[43ma\u001b[49m\u001b[43m)\u001b[49m  \u001b[38;5;66;03m# ??\u001b[39;00m\n",
      "Cell \u001b[0;32mIn[52], line 5\u001b[0m, in \u001b[0;36mmyfunc\u001b[0;34m(x)\u001b[0m\n\u001b[1;32m      4\u001b[0m \u001b[38;5;28;01mdef\u001b[39;00m \u001b[38;5;21mmyfunc\u001b[39m(x):\n\u001b[0;32m----> 5\u001b[0m     \u001b[38;5;28;01mif\u001b[39;00m x \u001b[38;5;241m>\u001b[39m \u001b[38;5;241m0\u001b[39m:\n\u001b[1;32m      6\u001b[0m         \u001b[38;5;28;01mreturn\u001b[39;00m \u001b[38;5;241m0\u001b[39m\n\u001b[1;32m      7\u001b[0m     \u001b[38;5;28;01melse\u001b[39;00m:\n",
      "\u001b[0;31mValueError\u001b[0m: The truth value of an array with more than one element is ambiguous. Use a.any() or a.all()"
     ]
    }
   ],
   "source": [
    "a = np.linspace(-1, 1, 1000000)\n",
    "\n",
    "\n",
    "def myfunc(x):\n",
    "    if x > 0:\n",
    "        return 0\n",
    "    else:\n",
    "        return x ** 2\n",
    "\n",
    "\n",
    "myfunc(a)  # ??"
   ]
  },
  {
   "cell_type": "markdown",
   "metadata": {
    "slideshow": {
     "slide_type": "-"
    }
   },
   "source": [
    "**Problem**: myfunc operates on the entire array instead of elementwise operations."
   ]
  },
  {
   "cell_type": "markdown",
   "metadata": {
    "slideshow": {
     "slide_type": "slide"
    }
   },
   "source": [
    "# Potential solution to vectorization user-defined functions\n",
    "\n",
    "Loop over each array element and call myfunc "
   ]
  },
  {
   "cell_type": "code",
   "execution_count": 53,
   "metadata": {},
   "outputs": [
    {
     "name": "stdout",
     "output_type": "stream",
     "text": [
      "CPU times: user 289 ms, sys: 3.83 ms, total: 293 ms\n",
      "Wall time: 293 ms\n"
     ]
    }
   ],
   "source": [
    "%%time\n",
    "out = np.empty(len(a))\n",
    "\n",
    "for i, ele in np.ndenumerate(a):\n",
    "    out[i] = myfunc(ele) "
   ]
  },
  {
   "cell_type": "markdown",
   "metadata": {
    "slideshow": {
     "slide_type": "-"
    }
   },
   "source": [
    "Runtime ca 0.4(?) s\n",
    "\n",
    "**This is slow**!"
   ]
  },
  {
   "cell_type": "markdown",
   "metadata": {
    "collapsed": true,
    "slideshow": {
     "slide_type": "slide"
    }
   },
   "source": [
    "# Better solution\n",
    "\n",
    "Convert myfunc to a *vectorized* function: "
   ]
  },
  {
   "cell_type": "code",
   "execution_count": 54,
   "metadata": {},
   "outputs": [
    {
     "name": "stdout",
     "output_type": "stream",
     "text": [
      "CPU times: user 111 ms, sys: 12.3 ms, total: 123 ms\n",
      "Wall time: 122 ms\n"
     ]
    }
   ],
   "source": [
    "%%time\n",
    "vfunc = np.vectorize(myfunc)\n",
    "out2 = vfunc(a)          "
   ]
  },
  {
   "cell_type": "markdown",
   "metadata": {
    "slideshow": {
     "slide_type": "subslide"
    }
   },
   "source": [
    "Runtime ca 0.1 s\n",
    "\n",
    "**Much faster**! "
   ]
  },
  {
   "cell_type": "markdown",
   "metadata": {
    "slideshow": {
     "slide_type": "slide"
    }
   },
   "source": [
    "# Plotting with matplotlib"
   ]
  },
  {
   "cell_type": "markdown",
   "metadata": {},
   "source": [
    "Matplotlib is the most popular package in SciPy for creating publication quality figures. The easiest way to use matplotlib is to import the submodule \"pyplot\"."
   ]
  },
  {
   "cell_type": "markdown",
   "metadata": {
    "slideshow": {
     "slide_type": "-"
    }
   },
   "source": [
    "## Learning resources\n",
    "\n",
    "* [Matplotlib tutorial](http://www.labri.fr/perso/nrougier/teaching/matplotlib) by Nicolas P. Rougier\n",
    "* [The Matplotlib Gallery:](http://matplotlib.org/gallery.html)\n"
   ]
  },
  {
   "cell_type": "markdown",
   "metadata": {
    "slideshow": {
     "slide_type": "slide"
    }
   },
   "source": [
    "# A simple plot\n"
   ]
  },
  {
   "cell_type": "markdown",
   "metadata": {
    "slideshow": {
     "slide_type": "-"
    }
   },
   "source": [
    "Plotting one, or multiple sets of data is done with:"
   ]
  },
  {
   "cell_type": "code",
   "execution_count": 55,
   "metadata": {},
   "outputs": [
    {
     "data": {
      "image/png": "[encoded data removed]",
      "text/plain": [
       "<Figure size 640x480 with 1 Axes>"
      ]
     },
     "metadata": {},
     "output_type": "display_data"
    }
   ],
   "source": [
    "import matplotlib.pyplot as plt\n",
    "import numpy as np\n",
    "\n",
    "X = np.linspace(-np.pi, np.pi, 20, endpoint=True)\n",
    "Y = np.cos(X)\n",
    "Z = np.exp(X)\n",
    "\n",
    "plt.plot(X, Y, X, Z, X, 2*Z)\n",
    "#plt.plot(X, Z)\n",
    "plt.show()"
   ]
  },
  {
   "cell_type": "markdown",
   "metadata": {
    "slideshow": {
     "slide_type": "slide"
    }
   },
   "source": [
    "# Adjusting your plot\n"
   ]
  },
  {
   "cell_type": "markdown",
   "metadata": {},
   "source": [
    "Typical adjustments:\n",
    "* Change line color, thickness, type\n",
    "* Change axis settings\n",
    "* Add labels, legends\n",
    "* ..."
   ]
  },
  {
   "cell_type": "code",
   "execution_count": 56,
   "metadata": {},
   "outputs": [
    {
     "data": {
      "image/png": "[encoded data removed]",
      "text/plain": [
       "<Figure size 640x480 with 1 Axes>"
      ]
     },
     "metadata": {},
     "output_type": "display_data"
    }
   ],
   "source": [
    "plt.plot(\n",
    "    X, Y, label=\"cos\", color=\"blue\", linewidth=2.5, linestyle=\"-\"\n",
    ")  # Add labels for the legend\n",
    "plt.plot(X, Z, label=\"exp\", color=\"red\", linewidth=2.5, linestyle=\"--\")\n",
    "\n",
    "plt.xlabel(\"x\")  # Add labels for the axis\n",
    "plt.ylabel(\"function value\")  # Add labels for the axis\n",
    "\n",
    "plt.legend(loc='upper left')\n",
    "plt.savefig(\"file.pdf\") # save to files for use in papers, etc."
   ]
  },
  {
   "cell_type": "markdown",
   "metadata": {
    "slideshow": {
     "slide_type": "slide"
    }
   },
   "source": [
    "# Other types of plots"
   ]
  },
  {
   "cell_type": "markdown",
   "metadata": {},
   "source": [
    "|Function name|Plot type|\n",
    "|--|-------------------------------|\n",
    "|*pyplot.scatter* |Scatter plot|\n",
    "|*pyplot.bar* |Bar plot|\n",
    "|*pyplot.counturf* |Contour plot|\n",
    "|*pyplot.imshow* |Showing images (on grids)|\n",
    "|*pyplot.pie* | Pie charts |\n",
    "|*pyplot.plot_surface* | 3D charts |"
   ]
  },
  {
   "cell_type": "markdown",
   "metadata": {
    "slideshow": {
     "slide_type": "slide"
    }
   },
   "source": [
    "## Example of a scatter plot"
   ]
  },
  {
   "cell_type": "code",
   "execution_count": 57,
   "metadata": {
    "slideshow": {
     "slide_type": "-"
    }
   },
   "outputs": [
    {
     "data": {
      "text/plain": [
       "(-3.141592653589793, 3.141592653589793)"
      ]
     },
     "execution_count": 57,
     "metadata": {},
     "output_type": "execute_result"
    },
    {
     "data": {
      "image/png": "[encoded data removed]",
      "text/plain": [
       "<Figure size 640x480 with 1 Axes>"
      ]
     },
     "metadata": {},
     "output_type": "display_data"
    }
   ],
   "source": [
    "n = 1024\n",
    "X = np.random.normal(0, 1, n)\n",
    "Y = np.random.normal(0, 1, n)\n",
    "T = np.arctan2(Y, X)\n",
    "\n",
    "plt.scatter(X, Y, s=75, c=T, alpha=0.5);\n",
    "plt.xlim([-np.pi, np.pi])\n",
    "plt.ylim([-np.pi, np.pi])"
   ]
  },
  {
   "cell_type": "markdown",
   "metadata": {
    "slideshow": {
     "slide_type": "slide"
    }
   },
   "source": [
    "## Plotting a function of x\n",
    "To start trying out plotting, let's first define a function to plot:\n",
    "$$ f(x) = (x - 3) (x - 5) (x - 7) + 85 $$"
   ]
  },
  {
   "cell_type": "code",
   "execution_count": 58,
   "metadata": {},
   "outputs": [],
   "source": [
    "def func(x):\n",
    "    return (x - 3) * (x - 5) * (x - 7) + 85"
   ]
  },
  {
   "cell_type": "markdown",
   "metadata": {
    "slideshow": {
     "slide_type": "-"
    }
   },
   "source": [
    "Next, we plot this function on $  \\ x \\in [0, 10] $"
   ]
  },
  {
   "cell_type": "code",
   "execution_count": 59,
   "metadata": {},
   "outputs": [],
   "source": [
    "import numpy as np\n",
    "\n",
    "# Calculate plot points:\n",
    "x = np.linspace(0, 10)"
   ]
  },
  {
   "cell_type": "code",
   "execution_count": 60,
   "metadata": {},
   "outputs": [
    {
     "data": {
      "text/plain": [
       "[<matplotlib.lines.Line2D at 0x10f84d8a0>]"
      ]
     },
     "execution_count": 60,
     "metadata": {},
     "output_type": "execute_result"
    },
    {
     "data": {
      "image/png": "[encoded data removed]",
      "text/plain": [
       "<Figure size 640x480 with 1 Axes>"
      ]
     },
     "metadata": {},
     "output_type": "display_data"
    }
   ],
   "source": [
    "# Evaluate the function at the plot points\n",
    "y = func(x)\n",
    "\n",
    "# Plot graph defined by x/y points\n",
    "plt.plot(x, y)"
   ]
  },
  {
   "cell_type": "markdown",
   "metadata": {
    "slideshow": {
     "slide_type": "slide"
    }
   },
   "source": [
    "## Reading files with numpy\n",
    "With numpy, we use the loadtxt function to read numerical data.\n",
    "\n",
    "```txt\n",
    "10 20 30 \n",
    "20 30 1\n",
    "2.2 125 6.45\n",
    "0.1 20 3.14\n",
    "```"
   ]
  },
  {
   "cell_type": "code",
   "execution_count": 61,
   "metadata": {},
   "outputs": [
    {
     "data": {
      "text/plain": [
       "array([[1.00e+01, 2.00e+01, 3.00e+01],\n",
       "       [2.00e+01, 3.00e+01, 1.00e+00],\n",
       "       [2.20e+00, 1.25e+02, 6.45e+00],\n",
       "       [1.00e-01, 2.00e+01, 3.14e+00]])"
      ]
     },
     "execution_count": 61,
     "metadata": {},
     "output_type": "execute_result"
    }
   ],
   "source": [
    "np.loadtxt('./data/example_data_simple.txt')"
   ]
  },
  {
   "cell_type": "markdown",
   "metadata": {},
   "source": [
    "There are several options to manage how the file should be read: \n",
    "```txt\n",
    "This is the first line of the file\n",
    "This is the second line of the file\n",
    "Below comes the interesting part of the file: \n",
    "10 20 30 \n",
    "20 30 1\n",
    "2.2 125 6.45\n",
    "0.1 20 3.14\n",
    "```"
   ]
  },
  {
   "cell_type": "code",
   "execution_count": 62,
   "metadata": {},
   "outputs": [
    {
     "data": {
      "text/plain": [
       "array([[1.00e+01, 2.00e+01, 3.00e+01],\n",
       "       [2.00e+01, 3.00e+01, 1.00e+00],\n",
       "       [2.20e+00, 1.25e+02, 6.45e+00],\n",
       "       [1.00e-01, 2.00e+01, 3.14e+00]])"
      ]
     },
     "execution_count": 62,
     "metadata": {},
     "output_type": "execute_result"
    }
   ],
   "source": [
    "np.loadtxt('./data/example_data.txt', skiprows=3)"
   ]
  },
  {
   "cell_type": "markdown",
   "metadata": {},
   "source": [
    "```txt\n",
    "First 10 20 30 \n",
    "Second 20 30 1\n",
    "Third 2.2 125 6.45\n",
    "Fourth 0.1 20 3.14\n",
    "```"
   ]
  },
  {
   "cell_type": "code",
   "execution_count": 64,
   "metadata": {},
   "outputs": [
    {
     "data": {
      "text/plain": [
       "array([[1.00e+01, 2.00e+01, 3.00e+01],\n",
       "       [2.00e+01, 3.00e+01, 1.00e+00],\n",
       "       [2.20e+00, 1.25e+02, 6.45e+00],\n",
       "       [1.00e-01, 2.00e+01, 3.14e+00]])"
      ]
     },
     "execution_count": 64,
     "metadata": {},
     "output_type": "execute_result"
    }
   ],
   "source": [
    "np.loadtxt('./data/example_data_extra_column.txt', usecols=((1,2,3)))"
   ]
  },
  {
   "cell_type": "markdown",
   "metadata": {},
   "source": [
    "```txt\n",
    "10,20,30 \n",
    "20,30,1\n",
    "2.2,125,6.45\n",
    "0.1,20,3.14\n",
    "```"
   ]
  },
  {
   "cell_type": "code",
   "execution_count": 65,
   "metadata": {},
   "outputs": [
    {
     "data": {
      "text/plain": [
       "array([[1.00e+01, 2.00e+01, 3.00e+01],\n",
       "       [2.00e+01, 3.00e+01, 1.00e+00],\n",
       "       [2.20e+00, 1.25e+02, 6.45e+00],\n",
       "       [1.00e-01, 2.00e+01, 3.14e+00]])"
      ]
     },
     "execution_count": 65,
     "metadata": {},
     "output_type": "execute_result"
    }
   ],
   "source": [
    "np.loadtxt('./data/example_data_comma.txt', delimiter=',')"
   ]
  },
  {
   "cell_type": "markdown",
   "metadata": {
    "slideshow": {
     "slide_type": "slide"
    }
   },
   "source": [
    "# Plot values from the data\n",
    "\n",
    "Typically we may have a time series of data, consisting of time stamps in the first column and some interesting data in the rest of the columns: e.g.\n",
    "```txt\n",
    "t p0 p1\n",
    "0 0.1 0.2\n",
    "0.5 0.4 0.33\n",
    "1.0 0.5 0.66\n",
    "1.5 0.6 1.3\n",
    "2.0 0.62 1.70\n",
    "```"
   ]
  },
  {
   "cell_type": "markdown",
   "metadata": {},
   "source": [
    "If we do not know about the shape of the data, we load it in as a matrix:"
   ]
  },
  {
   "cell_type": "code",
   "execution_count": 66,
   "metadata": {},
   "outputs": [
    {
     "data": {
      "text/plain": [
       "(5, 3)"
      ]
     },
     "execution_count": 66,
     "metadata": {},
     "output_type": "execute_result"
    }
   ],
   "source": [
    "data = np.loadtxt('data/time_series.txt',skiprows=1)\n",
    "data.shape"
   ]
  },
  {
   "cell_type": "markdown",
   "metadata": {},
   "source": [
    "If we know the shape of the data it is possible to read each column directly to a python object. However, we might need to be careful:"
   ]
  },
  {
   "cell_type": "code",
   "execution_count": 67,
   "metadata": {},
   "outputs": [
    {
     "ename": "ValueError",
     "evalue": "too many values to unpack (expected 3)",
     "output_type": "error",
     "traceback": [
      "\u001b[0;31m---------------------------------------------------------------------------\u001b[0m",
      "\u001b[0;31mValueError\u001b[0m                                Traceback (most recent call last)",
      "Cell \u001b[0;32mIn[67], line 1\u001b[0m\n\u001b[0;32m----> 1\u001b[0m t, p0, p1 \u001b[38;5;241m=\u001b[39m np\u001b[38;5;241m.\u001b[39mloadtxt(\u001b[38;5;124m'\u001b[39m\u001b[38;5;124mdata/time_series.txt\u001b[39m\u001b[38;5;124m'\u001b[39m, skiprows\u001b[38;5;241m=\u001b[39m\u001b[38;5;241m1\u001b[39m)\n",
      "\u001b[0;31mValueError\u001b[0m: too many values to unpack (expected 3)"
     ]
    }
   ],
   "source": [
    "t, p0, p1 = np.loadtxt('data/time_series.txt', skiprows=1)"
   ]
  },
  {
   "cell_type": "code",
   "execution_count": 68,
   "metadata": {
    "scrolled": true
   },
   "outputs": [
    {
     "data": {
      "text/plain": [
       "(array([0. , 0.5, 1. , 1.5, 2. ]),\n",
       " array([0.1 , 0.4 , 0.5 , 0.6 , 0.62]),\n",
       " array([0.2 , 0.33, 0.66, 1.3 , 1.7 ]))"
      ]
     },
     "execution_count": 68,
     "metadata": {},
     "output_type": "execute_result"
    }
   ],
   "source": [
    "t, p0, p1 = np.loadtxt('data/time_series.txt', skiprows=1).transpose()\n",
    "t,p0,p1"
   ]
  },
  {
   "cell_type": "markdown",
   "metadata": {},
   "source": [
    "Now it is possible to plot from both to obtain the same result:"
   ]
  },
  {
   "cell_type": "code",
   "execution_count": 69,
   "metadata": {},
   "outputs": [
    {
     "data": {
      "text/plain": [
       "[<matplotlib.lines.Line2D at 0x10ff7c940>]"
      ]
     },
     "execution_count": 69,
     "metadata": {},
     "output_type": "execute_result"
    },
    {
     "data": {
      "image/png": "[encoded data removed]",
      "text/plain": [
       "<Figure size 640x480 with 1 Axes>"
      ]
     },
     "metadata": {},
     "output_type": "display_data"
    }
   ],
   "source": [
    "plt.plot(t, p0)\n",
    "plt.plot(data[:,0], data[:,1],'--')"
   ]
  },
  {
   "cell_type": "markdown",
   "metadata": {
    "slideshow": {
     "slide_type": "slide"
    }
   },
   "source": [
    "# Working with larger data sets\n",
    "Consider the data in bank_index.csv\n",
    "```\n",
    "date,open,high,low,close,volume\n",
    "2015-01-09 09:15:00+05:30,18845.9,18864.0,18790.2,18815.15,0\n",
    "2015-01-09 09:30:00+05:30,18815.15,18821.4,18758.5,18771.6,0\n",
    "...\n",
    "```"
   ]
  },
  {
   "cell_type": "markdown",
   "metadata": {},
   "source": [
    "We currently have the tools to load all columns except the date"
   ]
  },
  {
   "cell_type": "code",
   "execution_count": 70,
   "metadata": {},
   "outputs": [],
   "source": [
    "data = np.loadtxt('./data/bank_index.csv', skiprows=1, usecols=(np.arange(1,5)), delimiter=',')"
   ]
  },
  {
   "cell_type": "code",
   "execution_count": 71,
   "metadata": {},
   "outputs": [
    {
     "data": {
      "text/plain": [
       "(43857, 4)"
      ]
     },
     "execution_count": 71,
     "metadata": {},
     "output_type": "execute_result"
    }
   ],
   "source": [
    "data.shape"
   ]
  },
  {
   "cell_type": "code",
   "execution_count": 72,
   "metadata": {},
   "outputs": [
    {
     "data": {
      "text/plain": [
       "datetime.datetime(2015, 1, 9, 9, 15)"
      ]
     },
     "execution_count": 72,
     "metadata": {},
     "output_type": "execute_result"
    }
   ],
   "source": [
    "from datetime import datetime\n",
    "datestring = \"2015-01-09 09:15:00+05:30\"\n",
    "datetime.strptime(datestring, \"%Y-%m-%d %H:%M:%S+05:30\")\n"
   ]
  },
  {
   "cell_type": "code",
   "execution_count": 73,
   "metadata": {},
   "outputs": [
    {
     "name": "stderr",
     "output_type": "stream",
     "text": [
      "/var/folders/t0/p2p_c9f12v52h9f1xh_j72j80000gn/T/ipykernel_2943/2590407879.py:1: DeprecationWarning: parsing timezone aware datetimes is deprecated; this will raise an error in the future\n",
      "  np.datetime64(datestring)\n"
     ]
    },
    {
     "data": {
      "text/plain": [
       "numpy.datetime64('2015-01-09T03:45:00')"
      ]
     },
     "execution_count": 73,
     "metadata": {},
     "output_type": "execute_result"
    }
   ],
   "source": [
    "np.datetime64(datestring)"
   ]
  },
  {
   "cell_type": "code",
   "execution_count": 76,
   "metadata": {},
   "outputs": [
    {
     "ename": "ValueError",
     "evalue": "could not convert string '2015-01-09 09:15:00+05:30' to float64 at row 0, column 1.",
     "output_type": "error",
     "traceback": [
      "\u001b[0;31m---------------------------------------------------------------------------\u001b[0m",
      "\u001b[0;31mValueError\u001b[0m                                Traceback (most recent call last)",
      "Cell \u001b[0;32mIn[76], line 1\u001b[0m\n\u001b[0;32m----> 1\u001b[0m time \u001b[38;5;241m=\u001b[39m \u001b[43mnp\u001b[49m\u001b[38;5;241;43m.\u001b[39;49m\u001b[43mloadtxt\u001b[49m\u001b[43m(\u001b[49m\u001b[38;5;124;43m'\u001b[39;49m\u001b[38;5;124;43m./data/bank_index.csv\u001b[39;49m\u001b[38;5;124;43m'\u001b[39;49m\u001b[43m,\u001b[49m\u001b[43m \u001b[49m\u001b[43mskiprows\u001b[49m\u001b[38;5;241;43m=\u001b[39;49m\u001b[38;5;241;43m1\u001b[39;49m\u001b[43m,\u001b[49m\u001b[43m \u001b[49m\u001b[43musecols\u001b[49m\u001b[38;5;241;43m=\u001b[39;49m\u001b[43m(\u001b[49m\u001b[38;5;241;43m0\u001b[39;49m\u001b[43m,\u001b[49m\u001b[43m)\u001b[49m\u001b[43m,\u001b[49m\u001b[43mdelimiter\u001b[49m\u001b[38;5;241;43m=\u001b[39;49m\u001b[38;5;124;43m'\u001b[39;49m\u001b[38;5;124;43m,\u001b[39;49m\u001b[38;5;124;43m'\u001b[39;49m\u001b[43m)\u001b[49m\u001b[38;5;66;03m#,dtype='datetime64')\u001b[39;00m\n",
      "File \u001b[0;32m/opt/homebrew/Caskroom/miniconda/base/lib/python3.10/site-packages/numpy/lib/npyio.py:1338\u001b[0m, in \u001b[0;36mloadtxt\u001b[0;34m(fname, dtype, comments, delimiter, converters, skiprows, usecols, unpack, ndmin, encoding, max_rows, quotechar, like)\u001b[0m\n\u001b[1;32m   1335\u001b[0m \u001b[38;5;28;01mif\u001b[39;00m \u001b[38;5;28misinstance\u001b[39m(delimiter, \u001b[38;5;28mbytes\u001b[39m):\n\u001b[1;32m   1336\u001b[0m     delimiter \u001b[38;5;241m=\u001b[39m delimiter\u001b[38;5;241m.\u001b[39mdecode(\u001b[38;5;124m'\u001b[39m\u001b[38;5;124mlatin1\u001b[39m\u001b[38;5;124m'\u001b[39m)\n\u001b[0;32m-> 1338\u001b[0m arr \u001b[38;5;241m=\u001b[39m \u001b[43m_read\u001b[49m\u001b[43m(\u001b[49m\u001b[43mfname\u001b[49m\u001b[43m,\u001b[49m\u001b[43m \u001b[49m\u001b[43mdtype\u001b[49m\u001b[38;5;241;43m=\u001b[39;49m\u001b[43mdtype\u001b[49m\u001b[43m,\u001b[49m\u001b[43m \u001b[49m\u001b[43mcomment\u001b[49m\u001b[38;5;241;43m=\u001b[39;49m\u001b[43mcomment\u001b[49m\u001b[43m,\u001b[49m\u001b[43m \u001b[49m\u001b[43mdelimiter\u001b[49m\u001b[38;5;241;43m=\u001b[39;49m\u001b[43mdelimiter\u001b[49m\u001b[43m,\u001b[49m\n\u001b[1;32m   1339\u001b[0m \u001b[43m            \u001b[49m\u001b[43mconverters\u001b[49m\u001b[38;5;241;43m=\u001b[39;49m\u001b[43mconverters\u001b[49m\u001b[43m,\u001b[49m\u001b[43m \u001b[49m\u001b[43mskiplines\u001b[49m\u001b[38;5;241;43m=\u001b[39;49m\u001b[43mskiprows\u001b[49m\u001b[43m,\u001b[49m\u001b[43m \u001b[49m\u001b[43musecols\u001b[49m\u001b[38;5;241;43m=\u001b[39;49m\u001b[43musecols\u001b[49m\u001b[43m,\u001b[49m\n\u001b[1;32m   1340\u001b[0m \u001b[43m            \u001b[49m\u001b[43munpack\u001b[49m\u001b[38;5;241;43m=\u001b[39;49m\u001b[43munpack\u001b[49m\u001b[43m,\u001b[49m\u001b[43m \u001b[49m\u001b[43mndmin\u001b[49m\u001b[38;5;241;43m=\u001b[39;49m\u001b[43mndmin\u001b[49m\u001b[43m,\u001b[49m\u001b[43m \u001b[49m\u001b[43mencoding\u001b[49m\u001b[38;5;241;43m=\u001b[39;49m\u001b[43mencoding\u001b[49m\u001b[43m,\u001b[49m\n\u001b[1;32m   1341\u001b[0m \u001b[43m            \u001b[49m\u001b[43mmax_rows\u001b[49m\u001b[38;5;241;43m=\u001b[39;49m\u001b[43mmax_rows\u001b[49m\u001b[43m,\u001b[49m\u001b[43m \u001b[49m\u001b[43mquote\u001b[49m\u001b[38;5;241;43m=\u001b[39;49m\u001b[43mquotechar\u001b[49m\u001b[43m)\u001b[49m\n\u001b[1;32m   1343\u001b[0m \u001b[38;5;28;01mreturn\u001b[39;00m arr\n",
      "File \u001b[0;32m/opt/homebrew/Caskroom/miniconda/base/lib/python3.10/site-packages/numpy/lib/npyio.py:999\u001b[0m, in \u001b[0;36m_read\u001b[0;34m(fname, delimiter, comment, quote, imaginary_unit, usecols, skiplines, max_rows, converters, ndmin, unpack, dtype, encoding)\u001b[0m\n\u001b[1;32m    996\u001b[0m     data \u001b[38;5;241m=\u001b[39m _preprocess_comments(data, comments, encoding)\n\u001b[1;32m    998\u001b[0m \u001b[38;5;28;01mif\u001b[39;00m read_dtype_via_object_chunks \u001b[38;5;129;01mis\u001b[39;00m \u001b[38;5;28;01mNone\u001b[39;00m:\n\u001b[0;32m--> 999\u001b[0m     arr \u001b[38;5;241m=\u001b[39m \u001b[43m_load_from_filelike\u001b[49m\u001b[43m(\u001b[49m\n\u001b[1;32m   1000\u001b[0m \u001b[43m        \u001b[49m\u001b[43mdata\u001b[49m\u001b[43m,\u001b[49m\u001b[43m \u001b[49m\u001b[43mdelimiter\u001b[49m\u001b[38;5;241;43m=\u001b[39;49m\u001b[43mdelimiter\u001b[49m\u001b[43m,\u001b[49m\u001b[43m \u001b[49m\u001b[43mcomment\u001b[49m\u001b[38;5;241;43m=\u001b[39;49m\u001b[43mcomment\u001b[49m\u001b[43m,\u001b[49m\u001b[43m \u001b[49m\u001b[43mquote\u001b[49m\u001b[38;5;241;43m=\u001b[39;49m\u001b[43mquote\u001b[49m\u001b[43m,\u001b[49m\n\u001b[1;32m   1001\u001b[0m \u001b[43m        \u001b[49m\u001b[43mimaginary_unit\u001b[49m\u001b[38;5;241;43m=\u001b[39;49m\u001b[43mimaginary_unit\u001b[49m\u001b[43m,\u001b[49m\n\u001b[1;32m   1002\u001b[0m \u001b[43m        \u001b[49m\u001b[43musecols\u001b[49m\u001b[38;5;241;43m=\u001b[39;49m\u001b[43musecols\u001b[49m\u001b[43m,\u001b[49m\u001b[43m \u001b[49m\u001b[43mskiplines\u001b[49m\u001b[38;5;241;43m=\u001b[39;49m\u001b[43mskiplines\u001b[49m\u001b[43m,\u001b[49m\u001b[43m \u001b[49m\u001b[43mmax_rows\u001b[49m\u001b[38;5;241;43m=\u001b[39;49m\u001b[43mmax_rows\u001b[49m\u001b[43m,\u001b[49m\n\u001b[1;32m   1003\u001b[0m \u001b[43m        \u001b[49m\u001b[43mconverters\u001b[49m\u001b[38;5;241;43m=\u001b[39;49m\u001b[43mconverters\u001b[49m\u001b[43m,\u001b[49m\u001b[43m \u001b[49m\u001b[43mdtype\u001b[49m\u001b[38;5;241;43m=\u001b[39;49m\u001b[43mdtype\u001b[49m\u001b[43m,\u001b[49m\n\u001b[1;32m   1004\u001b[0m \u001b[43m        \u001b[49m\u001b[43mencoding\u001b[49m\u001b[38;5;241;43m=\u001b[39;49m\u001b[43mencoding\u001b[49m\u001b[43m,\u001b[49m\u001b[43m \u001b[49m\u001b[43mfilelike\u001b[49m\u001b[38;5;241;43m=\u001b[39;49m\u001b[43mfilelike\u001b[49m\u001b[43m,\u001b[49m\n\u001b[1;32m   1005\u001b[0m \u001b[43m        \u001b[49m\u001b[43mbyte_converters\u001b[49m\u001b[38;5;241;43m=\u001b[39;49m\u001b[43mbyte_converters\u001b[49m\u001b[43m)\u001b[49m\n\u001b[1;32m   1007\u001b[0m \u001b[38;5;28;01melse\u001b[39;00m:\n\u001b[1;32m   1008\u001b[0m     \u001b[38;5;66;03m# This branch reads the file into chunks of object arrays and then\u001b[39;00m\n\u001b[1;32m   1009\u001b[0m     \u001b[38;5;66;03m# casts them to the desired actual dtype.  This ensures correct\u001b[39;00m\n\u001b[1;32m   1010\u001b[0m     \u001b[38;5;66;03m# string-length and datetime-unit discovery (like `arr.astype()`).\u001b[39;00m\n\u001b[1;32m   1011\u001b[0m     \u001b[38;5;66;03m# Due to chunking, certain error reports are less clear, currently.\u001b[39;00m\n\u001b[1;32m   1012\u001b[0m     \u001b[38;5;28;01mif\u001b[39;00m filelike:\n",
      "\u001b[0;31mValueError\u001b[0m: could not convert string '2015-01-09 09:15:00+05:30' to float64 at row 0, column 1."
     ]
    }
   ],
   "source": [
    "time = np.loadtxt('./data/bank_index.csv', skiprows=1, usecols=(0,),delimiter=',')#,dtype='datetime64')"
   ]
  },
  {
   "cell_type": "code",
   "execution_count": 78,
   "metadata": {},
   "outputs": [],
   "source": [
    "time = np.loadtxt('./data/bank_index.csv', skiprows=1, usecols=(0,),delimiter=',',dtype='datetime64')"
   ]
  },
  {
   "cell_type": "code",
   "execution_count": 80,
   "metadata": {
    "scrolled": true
   },
   "outputs": [
    {
     "data": {
      "text/plain": [
       "Text(0.5, 0, 'Year')"
      ]
     },
     "execution_count": 80,
     "metadata": {},
     "output_type": "execute_result"
    },
    {
     "data": {
      "image/png": "[encoded data removed]",
      "text/plain": [
       "<Figure size 640x480 with 1 Axes>"
      ]
     },
     "metadata": {},
     "output_type": "display_data"
    }
   ],
   "source": [
    "plt.plot(time, data[:,1])\n",
    "plt.title('Opening NIFTY index per year')\n",
    "plt.ylabel('Index',fontsize=15)\n",
    "plt.xlabel('Year', fontsize=15)"
   ]
  },
  {
   "cell_type": "code",
   "execution_count": null,
   "metadata": {},
   "outputs": [],
   "source": []
  },
  {
   "cell_type": "markdown",
   "metadata": {},
   "source": [
    "# Pandas - Data Analysis with Python\n",
    "\n",
    "\n",
    "Pandas is a high-performance, easy-to-use data structures and data analysis tools."
   ]
  },
  {
   "cell_type": "code",
   "execution_count": 68,
   "metadata": {
    "slideshow": {
     "slide_type": "-"
    }
   },
   "outputs": [],
   "source": [
    "import pandas as pd\n",
    "import numpy as np\n",
    "import matplotlib.pyplot as plt"
   ]
  },
  {
   "cell_type": "markdown",
   "metadata": {
    "slideshow": {
     "slide_type": "slide"
    }
   },
   "source": [
    "## The basic data structures of Pandas\n",
    "\n",
    "<center>\n",
    "<img src=\"https://storage.googleapis.com/lds-media/images/series-and-dataframe.width-1200.png\n",
    "\" style=\"width: 500px;\"/>\n",
    "\n",
    "    Figure: Fundamental data types in Pandas.\n",
    "    (Image source: https://www.learndatasci.com)\n",
    "</center>"
   ]
  },
  {
   "cell_type": "code",
   "execution_count": null,
   "metadata": {},
   "outputs": [],
   "source": []
  },
  {
   "cell_type": "markdown",
   "metadata": {
    "slideshow": {
     "slide_type": "slide"
    }
   },
   "source": [
    "### Series \n",
    "\n",
    "Series in Pands are 1-dimensional, axis-labeled array capable of holding any data type.\n",
    "\n",
    "The simplest way to create a Series is from a list:"
   ]
  },
  {
   "cell_type": "code",
   "execution_count": 69,
   "metadata": {},
   "outputs": [
    {
     "data": {
      "text/plain": [
       "0    1.0\n",
       "1    3.0\n",
       "2    5.0\n",
       "3    NaN\n",
       "4    6.0\n",
       "5    8.0\n",
       "dtype: float64"
      ]
     },
     "execution_count": 69,
     "metadata": {},
     "output_type": "execute_result"
    }
   ],
   "source": [
    "s1 = pd.Series([1, 3, 5, np.nan, 6, 8])\n",
    "s1"
   ]
  },
  {
   "cell_type": "markdown",
   "metadata": {},
   "source": [
    "* Pandas relies on numpy to store the underlying data. Note the dtype property that we already know from numpy. \n",
    "* If no dtype is specified, it chooses a stuitable dtype for your data. "
   ]
  },
  {
   "cell_type": "markdown",
   "metadata": {
    "slideshow": {
     "slide_type": "slide"
    }
   },
   "source": [
    "## Specifying the axis label\n",
    "\n",
    "By default, the data is labeld by integers. This can be changed with:"
   ]
  },
  {
   "cell_type": "code",
   "execution_count": 70,
   "metadata": {},
   "outputs": [
    {
     "data": {
      "text/plain": [
       "a    1.0\n",
       "b    3.0\n",
       "c    5.0\n",
       "d    NaN\n",
       "e    6.0\n",
       "f    8.0\n",
       "dtype: float64"
      ]
     },
     "execution_count": 70,
     "metadata": {},
     "output_type": "execute_result"
    }
   ],
   "source": [
    "s2 = pd.Series([1, 3, 5, np.nan, 6, 8], index=[\"a\", \"b\", \"c\", \"d\", \"e\", \"f\"])\n",
    "s2"
   ]
  },
  {
   "cell_type": "markdown",
   "metadata": {
    "slideshow": {
     "slide_type": "slide"
    }
   },
   "source": [
    "# Time-series data\n",
    "\n",
    "A common use-case is to have data labeled with time stamps (for instance price, currency and weather data).\n",
    "\n"
   ]
  },
  {
   "cell_type": "code",
   "execution_count": 71,
   "metadata": {},
   "outputs": [
    {
     "data": {
      "text/plain": [
       "DatetimeIndex(['2018-10-23', '2019-01-04', '2019-03-18', '2019-05-30',\n",
       "               '2019-08-11', '2019-10-23'],\n",
       "              dtype='datetime64[ns]', freq=None)"
      ]
     },
     "execution_count": 71,
     "metadata": {},
     "output_type": "execute_result"
    }
   ],
   "source": [
    "dates = pd.date_range(start='20181023', end='20191023', periods=6)\n",
    "dates"
   ]
  },
  {
   "cell_type": "code",
   "execution_count": 72,
   "metadata": {},
   "outputs": [
    {
     "data": {
      "text/plain": [
       "2018-10-23    1.0\n",
       "2019-01-04    3.0\n",
       "2019-03-18    5.0\n",
       "2019-05-30    NaN\n",
       "2019-08-11    6.0\n",
       "2019-10-23    8.0\n",
       "dtype: float64"
      ]
     },
     "execution_count": 72,
     "metadata": {},
     "output_type": "execute_result"
    }
   ],
   "source": [
    "s3 = pd.Series([1, 3, 5, np.nan, 6, 8], index=dates)\n",
    "s3"
   ]
  },
  {
   "cell_type": "code",
   "execution_count": 73,
   "metadata": {},
   "outputs": [
    {
     "data": {
      "text/plain": [
       "<Axes: >"
      ]
     },
     "execution_count": 73,
     "metadata": {},
     "output_type": "execute_result"
    },
    {
     "data": {
      "image/png": "[encoded data removed]",
      "text/plain": [
       "<Figure size 640x480 with 1 Axes>"
      ]
     },
     "metadata": {},
     "output_type": "display_data"
    }
   ],
   "source": [
    "s3.plot()"
   ]
  },
  {
   "cell_type": "markdown",
   "metadata": {
    "slideshow": {
     "slide_type": "slide"
    }
   },
   "source": [
    "# DataFrame\n",
    "\n",
    "DataFrame's are 2-dimensional labeled data structure with columns of potentially different types.\n",
    "\n",
    "The most basic method to create a DataFrame is from a dictionary:"
   ]
  },
  {
   "cell_type": "code",
   "execution_count": 74,
   "metadata": {},
   "outputs": [
    {
     "data": {
      "text/html": [
       "<div>\n",
       "<style scoped>\n",
       "    .dataframe tbody tr th:only-of-type {\n",
       "        vertical-align: middle;\n",
       "    }\n",
       "\n",
       "    .dataframe tbody tr th {\n",
       "        vertical-align: top;\n",
       "    }\n",
       "\n",
       "    .dataframe thead th {\n",
       "        text-align: right;\n",
       "    }\n",
       "</style>\n",
       "<table border=\"1\" class=\"dataframe\">\n",
       "  <thead>\n",
       "    <tr style=\"text-align: right;\">\n",
       "      <th></th>\n",
       "      <th>apples</th>\n",
       "      <th>pears</th>\n",
       "    </tr>\n",
       "  </thead>\n",
       "  <tbody>\n",
       "    <tr>\n",
       "      <th>0</th>\n",
       "      <td>3</td>\n",
       "      <td>6</td>\n",
       "    </tr>\n",
       "    <tr>\n",
       "      <th>1</th>\n",
       "      <td>0</td>\n",
       "      <td>1</td>\n",
       "    </tr>\n",
       "    <tr>\n",
       "      <th>2</th>\n",
       "      <td>0</td>\n",
       "      <td>3</td>\n",
       "    </tr>\n",
       "    <tr>\n",
       "      <th>3</th>\n",
       "      <td>1</td>\n",
       "      <td>5</td>\n",
       "    </tr>\n",
       "  </tbody>\n",
       "</table>\n",
       "</div>"
      ],
      "text/plain": [
       "   apples  pears\n",
       "0       3      6\n",
       "1       0      1\n",
       "2       0      3\n",
       "3       1      5"
      ]
     },
     "execution_count": 74,
     "metadata": {},
     "output_type": "execute_result"
    }
   ],
   "source": [
    "data = {\n",
    "    'apples': [3, 0, 0, 1],\n",
    "    'pears':  [6, 1, 3, 5]\n",
    "}\n",
    "\n",
    "purchases = pd.DataFrame(data)\n",
    "purchases"
   ]
  },
  {
   "cell_type": "markdown",
   "metadata": {
    "slideshow": {
     "slide_type": "slide"
    }
   },
   "source": [
    "**How did this work:** Each (key, value) pair in the dictionary is interpreted as a column in the data table. The key is used as column label.\n",
    "\n",
    "As with Series, we can provide an index to label the y-axis:"
   ]
  },
  {
   "cell_type": "code",
   "execution_count": 75,
   "metadata": {},
   "outputs": [
    {
     "data": {
      "text/html": [
       "<div>\n",
       "<style scoped>\n",
       "    .dataframe tbody tr th:only-of-type {\n",
       "        vertical-align: middle;\n",
       "    }\n",
       "\n",
       "    .dataframe tbody tr th {\n",
       "        vertical-align: top;\n",
       "    }\n",
       "\n",
       "    .dataframe thead th {\n",
       "        text-align: right;\n",
       "    }\n",
       "</style>\n",
       "<table border=\"1\" class=\"dataframe\">\n",
       "  <thead>\n",
       "    <tr style=\"text-align: right;\">\n",
       "      <th></th>\n",
       "      <th>apples</th>\n",
       "      <th>pears</th>\n",
       "    </tr>\n",
       "  </thead>\n",
       "  <tbody>\n",
       "    <tr>\n",
       "      <th>Marie</th>\n",
       "      <td>3</td>\n",
       "      <td>6</td>\n",
       "    </tr>\n",
       "    <tr>\n",
       "      <th>Jørgen</th>\n",
       "      <td>0</td>\n",
       "      <td>1</td>\n",
       "    </tr>\n",
       "    <tr>\n",
       "      <th>Hilde</th>\n",
       "      <td>0</td>\n",
       "      <td>3</td>\n",
       "    </tr>\n",
       "    <tr>\n",
       "      <th>Hans</th>\n",
       "      <td>1</td>\n",
       "      <td>2</td>\n",
       "    </tr>\n",
       "  </tbody>\n",
       "</table>\n",
       "</div>"
      ],
      "text/plain": [
       "        apples  pears\n",
       "Marie        3      6\n",
       "Jørgen       0      1\n",
       "Hilde        0      3\n",
       "Hans         1      2"
      ]
     },
     "execution_count": 75,
     "metadata": {},
     "output_type": "execute_result"
    }
   ],
   "source": [
    "data = {\n",
    "    'apples': [3, 0, 0, 1],\n",
    "    'pears':  [6, 1, 3, 2]\n",
    "}\n",
    "customers = [\"Marie\", \"Jørgen\", \"Hilde\", \"Hans\"]\n",
    "\n",
    "purchases = pd.DataFrame(data, index=customers)\n",
    "purchases"
   ]
  },
  {
   "cell_type": "markdown",
   "metadata": {
    "slideshow": {
     "slide_type": "slide"
    }
   },
   "source": [
    "## Extracting columns from a DataTable\n",
    "\n",
    "When **loc**ating (i.e. extracting) a column or row of a DataFrame, one obtains a `Series`"
   ]
  },
  {
   "cell_type": "code",
   "execution_count": 78,
   "metadata": {},
   "outputs": [
    {
     "data": {
      "text/plain": [
       "1"
      ]
     },
     "execution_count": 78,
     "metadata": {},
     "output_type": "execute_result"
    }
   ],
   "source": [
    "purchases.loc[\"Hans\", \"apples\"]"
   ]
  },
  {
   "cell_type": "code",
   "execution_count": 77,
   "metadata": {},
   "outputs": [
    {
     "data": {
      "text/plain": [
       "Marie     3\n",
       "Jørgen    0\n",
       "Hilde     0\n",
       "Hans      1\n",
       "Name: apples, dtype: int64"
      ]
     },
     "execution_count": 77,
     "metadata": {},
     "output_type": "execute_result"
    }
   ],
   "source": [
    "purchases[\"apples\"]"
   ]
  },
  {
   "cell_type": "code",
   "execution_count": 79,
   "metadata": {},
   "outputs": [
    {
     "data": {
      "text/plain": [
       "pandas.core.series.Series"
      ]
     },
     "execution_count": 79,
     "metadata": {},
     "output_type": "execute_result"
    }
   ],
   "source": [
    "type(purchases.loc[\"Hans\"])"
   ]
  },
  {
   "cell_type": "markdown",
   "metadata": {
    "slideshow": {
     "slide_type": "slide"
    }
   },
   "source": [
    "## Combining two Series to a DataFrame "
   ]
  },
  {
   "cell_type": "code",
   "execution_count": 84,
   "metadata": {
    "scrolled": false,
    "slideshow": {
     "slide_type": "-"
    }
   },
   "outputs": [
    {
     "name": "stdout",
     "output_type": "stream",
     "text": [
      "A    1\n",
      "B    2\n",
      "dtype: int64\n",
      "A    3\n",
      "B    4\n",
      "dtype: int64\n"
     ]
    },
    {
     "data": {
      "text/html": [
       "<div>\n",
       "<style scoped>\n",
       "    .dataframe tbody tr th:only-of-type {\n",
       "        vertical-align: middle;\n",
       "    }\n",
       "\n",
       "    .dataframe tbody tr th {\n",
       "        vertical-align: top;\n",
       "    }\n",
       "\n",
       "    .dataframe thead th {\n",
       "        text-align: right;\n",
       "    }\n",
       "</style>\n",
       "<table border=\"1\" class=\"dataframe\">\n",
       "  <thead>\n",
       "    <tr style=\"text-align: right;\">\n",
       "      <th></th>\n",
       "      <th>0</th>\n",
       "      <th>1</th>\n",
       "      <th>2</th>\n",
       "      <th>3</th>\n",
       "      <th>4</th>\n",
       "      <th>5</th>\n",
       "      <th>6</th>\n",
       "    </tr>\n",
       "  </thead>\n",
       "  <tbody>\n",
       "    <tr>\n",
       "      <th>A</th>\n",
       "      <td>1</td>\n",
       "      <td>3</td>\n",
       "      <td>1</td>\n",
       "      <td>3</td>\n",
       "      <td>1</td>\n",
       "      <td>1</td>\n",
       "      <td>1</td>\n",
       "    </tr>\n",
       "    <tr>\n",
       "      <th>B</th>\n",
       "      <td>2</td>\n",
       "      <td>4</td>\n",
       "      <td>2</td>\n",
       "      <td>4</td>\n",
       "      <td>2</td>\n",
       "      <td>2</td>\n",
       "      <td>2</td>\n",
       "    </tr>\n",
       "  </tbody>\n",
       "</table>\n",
       "</div>"
      ],
      "text/plain": [
       "   0  1  2  3  4  5  6\n",
       "A  1  3  1  3  1  1  1\n",
       "B  2  4  2  4  2  2  2"
      ]
     },
     "execution_count": 84,
     "metadata": {},
     "output_type": "execute_result"
    }
   ],
   "source": [
    "s1 = pd.Series([1, 2], index=['A', 'B'])\n",
    "s2 = pd.Series([3, 4], index=['A', 'B'])\n",
    "\n",
    "print(s1)\n",
    "print(s2)\n",
    "\n",
    "pd.concat([s1, s2, s1, s2, s1, s1, s1], axis=1, sort=False)"
   ]
  },
  {
   "cell_type": "markdown",
   "metadata": {
    "slideshow": {
     "slide_type": "slide"
    }
   },
   "source": [
    "# Data analysis on the Oslo Byskkel data \n",
    "\n",
    "\n",
    "\n",
    "<img src=\"https://cdn.sanity.io/images/23ukf9xm/production/4acf4a351c2174972b61465210f56878c41bad65-5698x3799.jpg?w=1200&h=600&fit=max\" style=\"width: 500px;\"/>\n",
    "\n"
   ]
  },
  {
   "cell_type": "markdown",
   "metadata": {},
   "source": [
    "**Goal**: Perfrom data analysis of the bike usage, such as:\n",
    "* Identify peak and low points of bike station usage (over a year, week or day)?\n",
    "* Which are the most and least used bike stations?\n",
    "* Which are the most and least used bike routes?\n",
    "* Visualize the bike usage in Oslo."
   ]
  },
  {
   "cell_type": "markdown",
   "metadata": {
    "slideshow": {
     "slide_type": "slide"
    }
   },
   "source": [
    "## Step 1: Data aquisition and inspection\n",
    "\n",
    "The monthly usage data can be downloaded here: https://oslobysykkel.no/en/open-data"
   ]
  },
  {
   "cell_type": "markdown",
   "metadata": {},
   "source": [
    "I downloaded the data from August to September 2016:"
   ]
  },
  {
   "cell_type": "code",
   "execution_count": 86,
   "metadata": {},
   "outputs": [
    {
     "name": "stdout",
     "output_type": "stream",
     "text": [
      "-rw-r--r--@ 1 steven  staff    14M Jul  5 16:22 data/bysykkel/trips-2016.10.1-2016.10.31.csv\r\n",
      "-rw-r--r--@ 1 steven  staff    21M Jul  5 16:22 data/bysykkel/trips-2016.8.1-2016.8.31.csv\r\n",
      "-rw-r--r--@ 1 steven  staff    22M Jul  5 16:22 data/bysykkel/trips-2016.9.1-2016.9.30.csv\r\n",
      "-rw-r--r--@ 1 steven  staff    37M Jul  5 16:22 data/bysykkel/trips-2021.10.1-2021.10.31.csv\r\n",
      "-rw-r--r--@ 1 steven  staff    36M Jul  5 16:22 data/bysykkel/trips-2021.9.1-2021.9.30.csv\r\n"
     ]
    }
   ],
   "source": [
    "!ls -hl data/bysykkel/*.csv"
   ]
  },
  {
   "cell_type": "markdown",
   "metadata": {},
   "source": [
    "Let's inspect the content of one of these files:"
   ]
  },
  {
   "cell_type": "code",
   "execution_count": 87,
   "metadata": {},
   "outputs": [
    {
     "name": "stdout",
     "output_type": "stream",
     "text": [
      "  242759 data/bysykkel/trips-2016.10.1-2016.10.31.csv\r\n"
     ]
    }
   ],
   "source": [
    "!wc -l data/bysykkel/trips-2016.10.1-2016.10.31.csv"
   ]
  },
  {
   "cell_type": "markdown",
   "metadata": {
    "slideshow": {
     "slide_type": "slide"
    }
   },
   "source": [
    "## Loading the data into a DataFrame\n",
    "\n",
    "Since this is a comma seperated file, we can use Panda's `read_csv` function:"
   ]
  },
  {
   "cell_type": "code",
   "execution_count": 88,
   "metadata": {},
   "outputs": [],
   "source": [
    "import pandas as pd\n",
    "trips = pd.read_csv('data/bysykkel/trips-2016.10.1-2016.10.31.csv', \n",
    "                    sep=',')"
   ]
  },
  {
   "cell_type": "markdown",
   "metadata": {},
   "source": [
    "The result is stored in  a `DataFrame` object. The first row of the csv was used as column labels."
   ]
  },
  {
   "cell_type": "code",
   "execution_count": 96,
   "metadata": {},
   "outputs": [
    {
     "data": {
      "text/html": [
       "<div>\n",
       "<style scoped>\n",
       "    .dataframe tbody tr th:only-of-type {\n",
       "        vertical-align: middle;\n",
       "    }\n",
       "\n",
       "    .dataframe tbody tr th {\n",
       "        vertical-align: top;\n",
       "    }\n",
       "\n",
       "    .dataframe thead th {\n",
       "        text-align: right;\n",
       "    }\n",
       "</style>\n",
       "<table border=\"1\" class=\"dataframe\">\n",
       "  <thead>\n",
       "    <tr style=\"text-align: right;\">\n",
       "      <th></th>\n",
       "      <th>Start station</th>\n",
       "      <th>Start time</th>\n",
       "      <th>End station</th>\n",
       "      <th>End time</th>\n",
       "    </tr>\n",
       "  </thead>\n",
       "  <tbody>\n",
       "    <tr>\n",
       "      <th>0</th>\n",
       "      <td>283</td>\n",
       "      <td>2016-10-01 06:00:08 +0200</td>\n",
       "      <td>238.0</td>\n",
       "      <td>2016-10-01 06:09:47 +0200</td>\n",
       "    </tr>\n",
       "    <tr>\n",
       "      <th>1</th>\n",
       "      <td>169</td>\n",
       "      <td>2016-10-01 06:00:41 +0200</td>\n",
       "      <td>175.0</td>\n",
       "      <td>2016-10-01 06:11:07 +0200</td>\n",
       "    </tr>\n",
       "    <tr>\n",
       "      <th>2</th>\n",
       "      <td>211</td>\n",
       "      <td>2016-10-01 06:01:02 +0200</td>\n",
       "      <td>162.0</td>\n",
       "      <td>2016-10-01 06:15:52 +0200</td>\n",
       "    </tr>\n",
       "  </tbody>\n",
       "</table>\n",
       "</div>"
      ],
      "text/plain": [
       "   Start station                 Start time  End station  \\\n",
       "0            283  2016-10-01 06:00:08 +0200        238.0   \n",
       "1            169  2016-10-01 06:00:41 +0200        175.0   \n",
       "2            211  2016-10-01 06:01:02 +0200        162.0   \n",
       "\n",
       "                    End time  \n",
       "0  2016-10-01 06:09:47 +0200  \n",
       "1  2016-10-01 06:11:07 +0200  \n",
       "2  2016-10-01 06:15:52 +0200  "
      ]
     },
     "execution_count": 96,
     "metadata": {},
     "output_type": "execute_result"
    }
   ],
   "source": [
    "trips.head(3)"
   ]
  },
  {
   "cell_type": "markdown",
   "metadata": {},
   "source": [
    "We can use the `head` and `tail` functions to only show the (by default 5) top rows in the data table."
   ]
  },
  {
   "cell_type": "code",
   "execution_count": 95,
   "metadata": {},
   "outputs": [
    {
     "data": {
      "text/html": [
       "<div>\n",
       "<style scoped>\n",
       "    .dataframe tbody tr th:only-of-type {\n",
       "        vertical-align: middle;\n",
       "    }\n",
       "\n",
       "    .dataframe tbody tr th {\n",
       "        vertical-align: top;\n",
       "    }\n",
       "\n",
       "    .dataframe thead th {\n",
       "        text-align: right;\n",
       "    }\n",
       "</style>\n",
       "<table border=\"1\" class=\"dataframe\">\n",
       "  <thead>\n",
       "    <tr style=\"text-align: right;\">\n",
       "      <th></th>\n",
       "      <th>Start station</th>\n",
       "      <th>Start time</th>\n",
       "      <th>End station</th>\n",
       "      <th>End time</th>\n",
       "    </tr>\n",
       "  </thead>\n",
       "  <tbody>\n",
       "    <tr>\n",
       "      <th>242756</th>\n",
       "      <td>204</td>\n",
       "      <td>2016-10-31 23:56:57 +0100</td>\n",
       "      <td>201.0</td>\n",
       "      <td>2016-11-01 00:02:16 +0100</td>\n",
       "    </tr>\n",
       "    <tr>\n",
       "      <th>242757</th>\n",
       "      <td>268</td>\n",
       "      <td>2016-10-31 23:59:10 +0100</td>\n",
       "      <td>299.0</td>\n",
       "      <td>2016-11-01 00:04:55 +0100</td>\n",
       "    </tr>\n",
       "  </tbody>\n",
       "</table>\n",
       "</div>"
      ],
      "text/plain": [
       "        Start station                 Start time  End station  \\\n",
       "242756            204  2016-10-31 23:56:57 +0100        201.0   \n",
       "242757            268  2016-10-31 23:59:10 +0100        299.0   \n",
       "\n",
       "                         End time  \n",
       "242756  2016-11-01 00:02:16 +0100  \n",
       "242757  2016-11-01 00:04:55 +0100  "
      ]
     },
     "execution_count": 95,
     "metadata": {},
     "output_type": "execute_result"
    }
   ],
   "source": [
    "trips.tail(2)"
   ]
  },
  {
   "cell_type": "markdown",
   "metadata": {
    "slideshow": {
     "slide_type": "slide"
    }
   },
   "source": [
    "## Fixing columns types\n",
    "\n",
    "Pandas tries to **automatically detect the type** of a column:"
   ]
  },
  {
   "cell_type": "code",
   "execution_count": 97,
   "metadata": {},
   "outputs": [
    {
     "data": {
      "text/plain": [
       "Start station      int64\n",
       "Start time        object\n",
       "End station      float64\n",
       "End time          object\n",
       "dtype: object"
      ]
     },
     "execution_count": 97,
     "metadata": {},
     "output_type": "execute_result"
    }
   ],
   "source": [
    "trips.dtypes"
   ]
  },
  {
   "cell_type": "markdown",
   "metadata": {},
   "source": [
    "We can see that this **automatic detection failed** for:\n",
    "\n",
    "* `Start time`:  should be a date\n",
    "* `End time`:  should be a date\n",
    "* `End station`:  should be a integer"
   ]
  },
  {
   "cell_type": "markdown",
   "metadata": {
    "slideshow": {
     "slide_type": "slide"
    }
   },
   "source": [
    "## Fixing  start and end times"
   ]
  },
  {
   "cell_type": "markdown",
   "metadata": {},
   "source": [
    "In order to be able to sort or filter by date, we need to tell Pandas that this column should be parsed as dates. We can do this directly when loading in the data: "
   ]
  },
  {
   "cell_type": "code",
   "execution_count": 98,
   "metadata": {},
   "outputs": [
    {
     "name": "stderr",
     "output_type": "stream",
     "text": [
      "/var/folders/t0/p2p_c9f12v52h9f1xh_j72j80000gn/T/ipykernel_83104/2344925242.py:1: FutureWarning: The argument 'date_parser' is deprecated and will be removed in a future version. Please use 'date_format' instead, or read your data in as 'object' dtype and then call 'to_datetime'.\n",
      "  trips = trips_oct = pd.read_csv(\n"
     ]
    }
   ],
   "source": [
    "trips = trips_oct = pd.read_csv(\n",
    "    \"data/bysykkel/trips-2016.10.1-2016.10.31.csv\",\n",
    "    sep=\",\",\n",
    "    parse_dates=[\"Start time\", \"End time\"],\n",
    "    date_parser=lambda col: pd.to_datetime(col, utc=True),\n",
    ")"
   ]
  },
  {
   "cell_type": "markdown",
   "metadata": {},
   "source": [
    "**Note!**  The lambda function is necessary to read dates with mixed time-zones!"
   ]
  },
  {
   "cell_type": "code",
   "execution_count": 99,
   "metadata": {},
   "outputs": [
    {
     "data": {
      "text/plain": [
       "Start station                  int64\n",
       "Start time       datetime64[ns, UTC]\n",
       "End station                  float64\n",
       "End time         datetime64[ns, UTC]\n",
       "dtype: object"
      ]
     },
     "execution_count": 99,
     "metadata": {},
     "output_type": "execute_result"
    }
   ],
   "source": [
    "trips.dtypes"
   ]
  },
  {
   "cell_type": "code",
   "execution_count": 100,
   "metadata": {},
   "outputs": [
    {
     "data": {
      "text/html": [
       "<div>\n",
       "<style scoped>\n",
       "    .dataframe tbody tr th:only-of-type {\n",
       "        vertical-align: middle;\n",
       "    }\n",
       "\n",
       "    .dataframe tbody tr th {\n",
       "        vertical-align: top;\n",
       "    }\n",
       "\n",
       "    .dataframe thead th {\n",
       "        text-align: right;\n",
       "    }\n",
       "</style>\n",
       "<table border=\"1\" class=\"dataframe\">\n",
       "  <thead>\n",
       "    <tr style=\"text-align: right;\">\n",
       "      <th></th>\n",
       "      <th>Start station</th>\n",
       "      <th>Start time</th>\n",
       "      <th>End station</th>\n",
       "      <th>End time</th>\n",
       "    </tr>\n",
       "  </thead>\n",
       "  <tbody>\n",
       "    <tr>\n",
       "      <th>0</th>\n",
       "      <td>283</td>\n",
       "      <td>2016-10-01 04:00:08+00:00</td>\n",
       "      <td>238.0</td>\n",
       "      <td>2016-10-01 04:09:47+00:00</td>\n",
       "    </tr>\n",
       "    <tr>\n",
       "      <th>1</th>\n",
       "      <td>169</td>\n",
       "      <td>2016-10-01 04:00:41+00:00</td>\n",
       "      <td>175.0</td>\n",
       "      <td>2016-10-01 04:11:07+00:00</td>\n",
       "    </tr>\n",
       "    <tr>\n",
       "      <th>2</th>\n",
       "      <td>211</td>\n",
       "      <td>2016-10-01 04:01:02+00:00</td>\n",
       "      <td>162.0</td>\n",
       "      <td>2016-10-01 04:15:52+00:00</td>\n",
       "    </tr>\n",
       "    <tr>\n",
       "      <th>3</th>\n",
       "      <td>200</td>\n",
       "      <td>2016-10-01 04:01:20+00:00</td>\n",
       "      <td>163.0</td>\n",
       "      <td>2016-10-01 04:15:04+00:00</td>\n",
       "    </tr>\n",
       "    <tr>\n",
       "      <th>4</th>\n",
       "      <td>157</td>\n",
       "      <td>2016-10-01 04:02:16+00:00</td>\n",
       "      <td>163.0</td>\n",
       "      <td>2016-10-01 04:04:29+00:00</td>\n",
       "    </tr>\n",
       "  </tbody>\n",
       "</table>\n",
       "</div>"
      ],
      "text/plain": [
       "   Start station                Start time  End station  \\\n",
       "0            283 2016-10-01 04:00:08+00:00        238.0   \n",
       "1            169 2016-10-01 04:00:41+00:00        175.0   \n",
       "2            211 2016-10-01 04:01:02+00:00        162.0   \n",
       "3            200 2016-10-01 04:01:20+00:00        163.0   \n",
       "4            157 2016-10-01 04:02:16+00:00        163.0   \n",
       "\n",
       "                   End time  \n",
       "0 2016-10-01 04:09:47+00:00  \n",
       "1 2016-10-01 04:11:07+00:00  \n",
       "2 2016-10-01 04:15:52+00:00  \n",
       "3 2016-10-01 04:15:04+00:00  \n",
       "4 2016-10-01 04:04:29+00:00  "
      ]
     },
     "execution_count": 100,
     "metadata": {},
     "output_type": "execute_result"
    }
   ],
   "source": [
    "trips.head()"
   ]
  },
  {
   "cell_type": "markdown",
   "metadata": {
    "slideshow": {
     "slide_type": "slide"
    }
   },
   "source": [
    "### Fixing end station"
   ]
  },
  {
   "cell_type": "markdown",
   "metadata": {},
   "source": [
    "We expected `End station` to be of type `np.int64`. We can enforce this with:"
   ]
  },
  {
   "cell_type": "code",
   "execution_count": 101,
   "metadata": {},
   "outputs": [
    {
     "name": "stderr",
     "output_type": "stream",
     "text": [
      "/var/folders/t0/p2p_c9f12v52h9f1xh_j72j80000gn/T/ipykernel_83104/1812018494.py:2: FutureWarning: The argument 'date_parser' is deprecated and will be removed in a future version. Please use 'date_format' instead, or read your data in as 'object' dtype and then call 'to_datetime'.\n",
      "  trips = pd.read_csv(\n"
     ]
    },
    {
     "ename": "ValueError",
     "evalue": "Integer column has NA values in column 2",
     "output_type": "error",
     "traceback": [
      "\u001b[0;31m---------------------------------------------------------------------------\u001b[0m",
      "\u001b[0;31mValueError\u001b[0m                                Traceback (most recent call last)",
      "Cell \u001b[0;32mIn[101], line 2\u001b[0m\n\u001b[1;32m      1\u001b[0m \u001b[38;5;28;01mimport\u001b[39;00m \u001b[38;5;21;01mnumpy\u001b[39;00m \u001b[38;5;28;01mas\u001b[39;00m \u001b[38;5;21;01mnp\u001b[39;00m\n\u001b[0;32m----> 2\u001b[0m trips \u001b[38;5;241m=\u001b[39m \u001b[43mpd\u001b[49m\u001b[38;5;241;43m.\u001b[39;49m\u001b[43mread_csv\u001b[49m\u001b[43m(\u001b[49m\n\u001b[1;32m      3\u001b[0m \u001b[43m    \u001b[49m\u001b[38;5;124;43m\"\u001b[39;49m\u001b[38;5;124;43mdata/bysykkel/trips-2016.10.1-2016.10.31.csv\u001b[39;49m\u001b[38;5;124;43m\"\u001b[39;49m\u001b[43m,\u001b[49m\n\u001b[1;32m      4\u001b[0m \u001b[43m    \u001b[49m\u001b[43msep\u001b[49m\u001b[38;5;241;43m=\u001b[39;49m\u001b[38;5;124;43m\"\u001b[39;49m\u001b[38;5;124;43m,\u001b[39;49m\u001b[38;5;124;43m\"\u001b[39;49m\u001b[43m,\u001b[49m\n\u001b[1;32m      5\u001b[0m \u001b[43m    \u001b[49m\u001b[43mparse_dates\u001b[49m\u001b[38;5;241;43m=\u001b[39;49m\u001b[43m[\u001b[49m\u001b[38;5;124;43m\"\u001b[39;49m\u001b[38;5;124;43mStart time\u001b[39;49m\u001b[38;5;124;43m\"\u001b[39;49m\u001b[43m,\u001b[49m\u001b[43m \u001b[49m\u001b[38;5;124;43m\"\u001b[39;49m\u001b[38;5;124;43mEnd time\u001b[39;49m\u001b[38;5;124;43m\"\u001b[39;49m\u001b[43m]\u001b[49m\u001b[43m,\u001b[49m\n\u001b[1;32m      6\u001b[0m \u001b[43m    \u001b[49m\u001b[43mdate_parser\u001b[49m\u001b[38;5;241;43m=\u001b[39;49m\u001b[38;5;28;43;01mlambda\u001b[39;49;00m\u001b[43m \u001b[49m\u001b[43mcol\u001b[49m\u001b[43m:\u001b[49m\u001b[43m \u001b[49m\u001b[43mpd\u001b[49m\u001b[38;5;241;43m.\u001b[39;49m\u001b[43mto_datetime\u001b[49m\u001b[43m(\u001b[49m\u001b[43mcol\u001b[49m\u001b[43m,\u001b[49m\u001b[43m \u001b[49m\u001b[43mutc\u001b[49m\u001b[38;5;241;43m=\u001b[39;49m\u001b[38;5;28;43;01mTrue\u001b[39;49;00m\u001b[43m)\u001b[49m\u001b[43m,\u001b[49m\n\u001b[1;32m      7\u001b[0m \u001b[43m    \u001b[49m\u001b[43mdtype\u001b[49m\u001b[38;5;241;43m=\u001b[39;49m\u001b[43m{\u001b[49m\u001b[38;5;124;43m\"\u001b[39;49m\u001b[38;5;124;43mEnd station\u001b[39;49m\u001b[38;5;124;43m\"\u001b[39;49m\u001b[43m:\u001b[49m\u001b[43m \u001b[49m\u001b[43mnp\u001b[49m\u001b[38;5;241;43m.\u001b[39;49m\u001b[43mint64\u001b[49m\u001b[43m}\u001b[49m\u001b[43m,\u001b[49m\n\u001b[1;32m      8\u001b[0m \u001b[43m)\u001b[49m\n",
      "File \u001b[0;32m/opt/homebrew/Caskroom/miniconda/base/lib/python3.10/site-packages/pandas/io/parsers/readers.py:948\u001b[0m, in \u001b[0;36mread_csv\u001b[0;34m(filepath_or_buffer, sep, delimiter, header, names, index_col, usecols, dtype, engine, converters, true_values, false_values, skipinitialspace, skiprows, skipfooter, nrows, na_values, keep_default_na, na_filter, verbose, skip_blank_lines, parse_dates, infer_datetime_format, keep_date_col, date_parser, date_format, dayfirst, cache_dates, iterator, chunksize, compression, thousands, decimal, lineterminator, quotechar, quoting, doublequote, escapechar, comment, encoding, encoding_errors, dialect, on_bad_lines, delim_whitespace, low_memory, memory_map, float_precision, storage_options, dtype_backend)\u001b[0m\n\u001b[1;32m    935\u001b[0m kwds_defaults \u001b[38;5;241m=\u001b[39m _refine_defaults_read(\n\u001b[1;32m    936\u001b[0m     dialect,\n\u001b[1;32m    937\u001b[0m     delimiter,\n\u001b[0;32m   (...)\u001b[0m\n\u001b[1;32m    944\u001b[0m     dtype_backend\u001b[38;5;241m=\u001b[39mdtype_backend,\n\u001b[1;32m    945\u001b[0m )\n\u001b[1;32m    946\u001b[0m kwds\u001b[38;5;241m.\u001b[39mupdate(kwds_defaults)\n\u001b[0;32m--> 948\u001b[0m \u001b[38;5;28;01mreturn\u001b[39;00m \u001b[43m_read\u001b[49m\u001b[43m(\u001b[49m\u001b[43mfilepath_or_buffer\u001b[49m\u001b[43m,\u001b[49m\u001b[43m \u001b[49m\u001b[43mkwds\u001b[49m\u001b[43m)\u001b[49m\n",
      "File \u001b[0;32m/opt/homebrew/Caskroom/miniconda/base/lib/python3.10/site-packages/pandas/io/parsers/readers.py:617\u001b[0m, in \u001b[0;36m_read\u001b[0;34m(filepath_or_buffer, kwds)\u001b[0m\n\u001b[1;32m    614\u001b[0m     \u001b[38;5;28;01mreturn\u001b[39;00m parser\n\u001b[1;32m    616\u001b[0m \u001b[38;5;28;01mwith\u001b[39;00m parser:\n\u001b[0;32m--> 617\u001b[0m     \u001b[38;5;28;01mreturn\u001b[39;00m \u001b[43mparser\u001b[49m\u001b[38;5;241;43m.\u001b[39;49m\u001b[43mread\u001b[49m\u001b[43m(\u001b[49m\u001b[43mnrows\u001b[49m\u001b[43m)\u001b[49m\n",
      "File \u001b[0;32m/opt/homebrew/Caskroom/miniconda/base/lib/python3.10/site-packages/pandas/io/parsers/readers.py:1748\u001b[0m, in \u001b[0;36mTextFileReader.read\u001b[0;34m(self, nrows)\u001b[0m\n\u001b[1;32m   1741\u001b[0m nrows \u001b[38;5;241m=\u001b[39m validate_integer(\u001b[38;5;124m\"\u001b[39m\u001b[38;5;124mnrows\u001b[39m\u001b[38;5;124m\"\u001b[39m, nrows)\n\u001b[1;32m   1742\u001b[0m \u001b[38;5;28;01mtry\u001b[39;00m:\n\u001b[1;32m   1743\u001b[0m     \u001b[38;5;66;03m# error: \"ParserBase\" has no attribute \"read\"\u001b[39;00m\n\u001b[1;32m   1744\u001b[0m     (\n\u001b[1;32m   1745\u001b[0m         index,\n\u001b[1;32m   1746\u001b[0m         columns,\n\u001b[1;32m   1747\u001b[0m         col_dict,\n\u001b[0;32m-> 1748\u001b[0m     ) \u001b[38;5;241m=\u001b[39m \u001b[38;5;28;43mself\u001b[39;49m\u001b[38;5;241;43m.\u001b[39;49m\u001b[43m_engine\u001b[49m\u001b[38;5;241;43m.\u001b[39;49m\u001b[43mread\u001b[49m\u001b[43m(\u001b[49m\u001b[43m  \u001b[49m\u001b[38;5;66;43;03m# type: ignore[attr-defined]\u001b[39;49;00m\n\u001b[1;32m   1749\u001b[0m \u001b[43m        \u001b[49m\u001b[43mnrows\u001b[49m\n\u001b[1;32m   1750\u001b[0m \u001b[43m    \u001b[49m\u001b[43m)\u001b[49m\n\u001b[1;32m   1751\u001b[0m \u001b[38;5;28;01mexcept\u001b[39;00m \u001b[38;5;167;01mException\u001b[39;00m:\n\u001b[1;32m   1752\u001b[0m     \u001b[38;5;28mself\u001b[39m\u001b[38;5;241m.\u001b[39mclose()\n",
      "File \u001b[0;32m/opt/homebrew/Caskroom/miniconda/base/lib/python3.10/site-packages/pandas/io/parsers/c_parser_wrapper.py:234\u001b[0m, in \u001b[0;36mCParserWrapper.read\u001b[0;34m(self, nrows)\u001b[0m\n\u001b[1;32m    232\u001b[0m \u001b[38;5;28;01mtry\u001b[39;00m:\n\u001b[1;32m    233\u001b[0m     \u001b[38;5;28;01mif\u001b[39;00m \u001b[38;5;28mself\u001b[39m\u001b[38;5;241m.\u001b[39mlow_memory:\n\u001b[0;32m--> 234\u001b[0m         chunks \u001b[38;5;241m=\u001b[39m \u001b[38;5;28;43mself\u001b[39;49m\u001b[38;5;241;43m.\u001b[39;49m\u001b[43m_reader\u001b[49m\u001b[38;5;241;43m.\u001b[39;49m\u001b[43mread_low_memory\u001b[49m\u001b[43m(\u001b[49m\u001b[43mnrows\u001b[49m\u001b[43m)\u001b[49m\n\u001b[1;32m    235\u001b[0m         \u001b[38;5;66;03m# destructive to chunks\u001b[39;00m\n\u001b[1;32m    236\u001b[0m         data \u001b[38;5;241m=\u001b[39m _concatenate_chunks(chunks)\n",
      "File \u001b[0;32mparsers.pyx:843\u001b[0m, in \u001b[0;36mpandas._libs.parsers.TextReader.read_low_memory\u001b[0;34m()\u001b[0m\n",
      "File \u001b[0;32mparsers.pyx:920\u001b[0m, in \u001b[0;36mpandas._libs.parsers.TextReader._read_rows\u001b[0;34m()\u001b[0m\n",
      "File \u001b[0;32mparsers.pyx:1065\u001b[0m, in \u001b[0;36mpandas._libs.parsers.TextReader._convert_column_data\u001b[0;34m()\u001b[0m\n",
      "File \u001b[0;32mparsers.pyx:1104\u001b[0m, in \u001b[0;36mpandas._libs.parsers.TextReader._convert_tokens\u001b[0;34m()\u001b[0m\n",
      "File \u001b[0;32mparsers.pyx:1225\u001b[0m, in \u001b[0;36mpandas._libs.parsers.TextReader._convert_with_dtype\u001b[0;34m()\u001b[0m\n",
      "\u001b[0;31mValueError\u001b[0m: Integer column has NA values in column 2"
     ]
    }
   ],
   "source": [
    "import numpy as np\n",
    "trips = pd.read_csv(\n",
    "    \"data/bysykkel/trips-2016.10.1-2016.10.31.csv\",\n",
    "    sep=\",\",\n",
    "    parse_dates=[\"Start time\", \"End time\"],\n",
    "    date_parser=lambda col: pd.to_datetime(col, utc=True),\n",
    "    dtype={\"End station\": np.int64},\n",
    ")"
   ]
  },
  {
   "cell_type": "markdown",
   "metadata": {
    "slideshow": {
     "slide_type": "slide"
    }
   },
   "source": [
    "**Conclusion**: \n",
    "`End station` contains `Not a Number` values or`NaN` values, which can be represented in the `float` datatype, but not in the `int` datatype"
   ]
  },
  {
   "cell_type": "code",
   "execution_count": 102,
   "metadata": {},
   "outputs": [
    {
     "data": {
      "text/html": [
       "<div>\n",
       "<style scoped>\n",
       "    .dataframe tbody tr th:only-of-type {\n",
       "        vertical-align: middle;\n",
       "    }\n",
       "\n",
       "    .dataframe tbody tr th {\n",
       "        vertical-align: top;\n",
       "    }\n",
       "\n",
       "    .dataframe thead th {\n",
       "        text-align: right;\n",
       "    }\n",
       "</style>\n",
       "<table border=\"1\" class=\"dataframe\">\n",
       "  <thead>\n",
       "    <tr style=\"text-align: right;\">\n",
       "      <th></th>\n",
       "      <th>Start station</th>\n",
       "      <th>Start time</th>\n",
       "      <th>End station</th>\n",
       "      <th>End time</th>\n",
       "    </tr>\n",
       "  </thead>\n",
       "  <tbody>\n",
       "    <tr>\n",
       "      <th>174509</th>\n",
       "      <td>182</td>\n",
       "      <td>2016-10-21 12:53:05+00:00</td>\n",
       "      <td>309.0</td>\n",
       "      <td>2016-10-21 13:50:30+00:00</td>\n",
       "    </tr>\n",
       "    <tr>\n",
       "      <th>211908</th>\n",
       "      <td>215</td>\n",
       "      <td>2016-10-27 09:18:41+00:00</td>\n",
       "      <td>309.0</td>\n",
       "      <td>2016-10-27 09:32:19+00:00</td>\n",
       "    </tr>\n",
       "    <tr>\n",
       "      <th>111557</th>\n",
       "      <td>162</td>\n",
       "      <td>2016-10-13 10:31:14+00:00</td>\n",
       "      <td>309.0</td>\n",
       "      <td>2016-10-13 10:38:54+00:00</td>\n",
       "    </tr>\n",
       "    <tr>\n",
       "      <th>105880</th>\n",
       "      <td>162</td>\n",
       "      <td>2016-10-12 16:08:20+00:00</td>\n",
       "      <td>309.0</td>\n",
       "      <td>2016-10-12 16:20:24+00:00</td>\n",
       "    </tr>\n",
       "    <tr>\n",
       "      <th>234911</th>\n",
       "      <td>267</td>\n",
       "      <td>2016-10-30 14:44:27+00:00</td>\n",
       "      <td>309.0</td>\n",
       "      <td>2016-10-30 14:59:58+00:00</td>\n",
       "    </tr>\n",
       "    <tr>\n",
       "      <th>...</th>\n",
       "      <td>...</td>\n",
       "      <td>...</td>\n",
       "      <td>...</td>\n",
       "      <td>...</td>\n",
       "    </tr>\n",
       "    <tr>\n",
       "      <th>107496</th>\n",
       "      <td>233</td>\n",
       "      <td>2016-10-12 19:05:32+00:00</td>\n",
       "      <td>NaN</td>\n",
       "      <td>2016-10-17 05:56:12+00:00</td>\n",
       "    </tr>\n",
       "    <tr>\n",
       "      <th>117359</th>\n",
       "      <td>267</td>\n",
       "      <td>2016-10-13 20:55:38+00:00</td>\n",
       "      <td>NaN</td>\n",
       "      <td>2016-10-14 09:43:21+00:00</td>\n",
       "    </tr>\n",
       "    <tr>\n",
       "      <th>153782</th>\n",
       "      <td>232</td>\n",
       "      <td>2016-10-19 06:08:40+00:00</td>\n",
       "      <td>NaN</td>\n",
       "      <td>2016-10-20 05:42:02+00:00</td>\n",
       "    </tr>\n",
       "    <tr>\n",
       "      <th>200309</th>\n",
       "      <td>158</td>\n",
       "      <td>2016-10-25 17:22:32+00:00</td>\n",
       "      <td>NaN</td>\n",
       "      <td>2016-10-25 18:02:16+00:00</td>\n",
       "    </tr>\n",
       "    <tr>\n",
       "      <th>235053</th>\n",
       "      <td>192</td>\n",
       "      <td>2016-10-30 15:01:47+00:00</td>\n",
       "      <td>NaN</td>\n",
       "      <td>2016-10-31 10:40:41+00:00</td>\n",
       "    </tr>\n",
       "  </tbody>\n",
       "</table>\n",
       "<p>100 rows × 4 columns</p>\n",
       "</div>"
      ],
      "text/plain": [
       "        Start station                Start time  End station  \\\n",
       "174509            182 2016-10-21 12:53:05+00:00        309.0   \n",
       "211908            215 2016-10-27 09:18:41+00:00        309.0   \n",
       "111557            162 2016-10-13 10:31:14+00:00        309.0   \n",
       "105880            162 2016-10-12 16:08:20+00:00        309.0   \n",
       "234911            267 2016-10-30 14:44:27+00:00        309.0   \n",
       "...               ...                       ...          ...   \n",
       "107496            233 2016-10-12 19:05:32+00:00          NaN   \n",
       "117359            267 2016-10-13 20:55:38+00:00          NaN   \n",
       "153782            232 2016-10-19 06:08:40+00:00          NaN   \n",
       "200309            158 2016-10-25 17:22:32+00:00          NaN   \n",
       "235053            192 2016-10-30 15:01:47+00:00          NaN   \n",
       "\n",
       "                        End time  \n",
       "174509 2016-10-21 13:50:30+00:00  \n",
       "211908 2016-10-27 09:32:19+00:00  \n",
       "111557 2016-10-13 10:38:54+00:00  \n",
       "105880 2016-10-12 16:20:24+00:00  \n",
       "234911 2016-10-30 14:59:58+00:00  \n",
       "...                          ...  \n",
       "107496 2016-10-17 05:56:12+00:00  \n",
       "117359 2016-10-14 09:43:21+00:00  \n",
       "153782 2016-10-20 05:42:02+00:00  \n",
       "200309 2016-10-25 18:02:16+00:00  \n",
       "235053 2016-10-31 10:40:41+00:00  \n",
       "\n",
       "[100 rows x 4 columns]"
      ]
     },
     "execution_count": 102,
     "metadata": {},
     "output_type": "execute_result"
    }
   ],
   "source": [
    "trips.sort_values(\"End station\").tail(100)"
   ]
  },
  {
   "cell_type": "markdown",
   "metadata": {
    "slideshow": {
     "slide_type": "slide"
    }
   },
   "source": [
    "But we *can* do this if we discard the rows with missing data. Pandas has various utilities for dealing with missing data"
   ]
  },
  {
   "cell_type": "code",
   "execution_count": 103,
   "metadata": {},
   "outputs": [
    {
     "data": {
      "text/html": [
       "<div>\n",
       "<style scoped>\n",
       "    .dataframe tbody tr th:only-of-type {\n",
       "        vertical-align: middle;\n",
       "    }\n",
       "\n",
       "    .dataframe tbody tr th {\n",
       "        vertical-align: top;\n",
       "    }\n",
       "\n",
       "    .dataframe thead th {\n",
       "        text-align: right;\n",
       "    }\n",
       "</style>\n",
       "<table border=\"1\" class=\"dataframe\">\n",
       "  <thead>\n",
       "    <tr style=\"text-align: right;\">\n",
       "      <th></th>\n",
       "      <th>Start station</th>\n",
       "      <th>Start time</th>\n",
       "      <th>End station</th>\n",
       "      <th>End time</th>\n",
       "    </tr>\n",
       "  </thead>\n",
       "  <tbody>\n",
       "    <tr>\n",
       "      <th>242753</th>\n",
       "      <td>284</td>\n",
       "      <td>2016-10-31 22:53:30+00:00</td>\n",
       "      <td>164</td>\n",
       "      <td>2016-10-31 23:04:13+00:00</td>\n",
       "    </tr>\n",
       "    <tr>\n",
       "      <th>242754</th>\n",
       "      <td>218</td>\n",
       "      <td>2016-10-31 22:53:48+00:00</td>\n",
       "      <td>292</td>\n",
       "      <td>2016-10-31 23:09:17+00:00</td>\n",
       "    </tr>\n",
       "    <tr>\n",
       "      <th>242755</th>\n",
       "      <td>204</td>\n",
       "      <td>2016-10-31 22:54:28+00:00</td>\n",
       "      <td>277</td>\n",
       "      <td>2016-10-31 23:01:59+00:00</td>\n",
       "    </tr>\n",
       "    <tr>\n",
       "      <th>242756</th>\n",
       "      <td>204</td>\n",
       "      <td>2016-10-31 22:56:57+00:00</td>\n",
       "      <td>201</td>\n",
       "      <td>2016-10-31 23:02:16+00:00</td>\n",
       "    </tr>\n",
       "    <tr>\n",
       "      <th>242757</th>\n",
       "      <td>268</td>\n",
       "      <td>2016-10-31 22:59:10+00:00</td>\n",
       "      <td>299</td>\n",
       "      <td>2016-10-31 23:04:55+00:00</td>\n",
       "    </tr>\n",
       "  </tbody>\n",
       "</table>\n",
       "</div>"
      ],
      "text/plain": [
       "        Start station                Start time  End station  \\\n",
       "242753            284 2016-10-31 22:53:30+00:00          164   \n",
       "242754            218 2016-10-31 22:53:48+00:00          292   \n",
       "242755            204 2016-10-31 22:54:28+00:00          277   \n",
       "242756            204 2016-10-31 22:56:57+00:00          201   \n",
       "242757            268 2016-10-31 22:59:10+00:00          299   \n",
       "\n",
       "                        End time  \n",
       "242753 2016-10-31 23:04:13+00:00  \n",
       "242754 2016-10-31 23:09:17+00:00  \n",
       "242755 2016-10-31 23:01:59+00:00  \n",
       "242756 2016-10-31 23:02:16+00:00  \n",
       "242757 2016-10-31 23:04:55+00:00  "
      ]
     },
     "execution_count": 103,
     "metadata": {},
     "output_type": "execute_result"
    }
   ],
   "source": [
    "trips = trips.dropna(subset=[\"End station\"]).astype({\"End station\": int})\n",
    "trips.tail(5)"
   ]
  },
  {
   "cell_type": "code",
   "execution_count": 104,
   "metadata": {},
   "outputs": [
    {
     "data": {
      "text/plain": [
       "Start station                  int64\n",
       "Start time       datetime64[ns, UTC]\n",
       "End station                    int64\n",
       "End time         datetime64[ns, UTC]\n",
       "dtype: object"
      ]
     },
     "execution_count": 104,
     "metadata": {},
     "output_type": "execute_result"
    }
   ],
   "source": [
    "trips.astype({'End station': 'int64'}).dtypes"
   ]
  },
  {
   "cell_type": "markdown",
   "metadata": {
    "slideshow": {
     "slide_type": "slide"
    }
   },
   "source": [
    "# Selecting data from dataframes"
   ]
  },
  {
   "cell_type": "markdown",
   "metadata": {
    "slideshow": {
     "slide_type": "slide"
    }
   },
   "source": [
    "## Selecting columns\n"
   ]
  },
  {
   "cell_type": "markdown",
   "metadata": {},
   "source": [
    "There are three main ways to select columns from a DataTable:\n",
    "\n",
    "* indexing notation [].\n",
    "* The .loc accessor\n",
    "* The .iloc accessor"
   ]
  },
  {
   "cell_type": "markdown",
   "metadata": {
    "slideshow": {
     "slide_type": "slide"
    }
   },
   "source": [
    "## Selecting columns with the index notation"
   ]
  },
  {
   "cell_type": "markdown",
   "metadata": {},
   "source": [
    "Use the index notation if you know the name of the column(s) that you want to extract.\n",
    "\n",
    "If you use a single column, the result is a Series:"
   ]
  },
  {
   "cell_type": "code",
   "execution_count": 105,
   "metadata": {},
   "outputs": [
    {
     "data": {
      "text/plain": [
       "0   2016-10-01 04:00:08+00:00\n",
       "1   2016-10-01 04:00:41+00:00\n",
       "2   2016-10-01 04:01:02+00:00\n",
       "3   2016-10-01 04:01:20+00:00\n",
       "4   2016-10-01 04:02:16+00:00\n",
       "Name: Start time, dtype: datetime64[ns, UTC]"
      ]
     },
     "execution_count": 105,
     "metadata": {},
     "output_type": "execute_result"
    }
   ],
   "source": [
    "trips[\"Start time\"].head()"
   ]
  },
  {
   "cell_type": "markdown",
   "metadata": {
    "slideshow": {
     "slide_type": "slide"
    }
   },
   "source": [
    "## Selecting multiple columns\n",
    "\n",
    "Multiple columns are selected by indexing with a list of column titles. The result is a DataFrame:"
   ]
  },
  {
   "cell_type": "code",
   "execution_count": 107,
   "metadata": {},
   "outputs": [
    {
     "data": {
      "text/html": [
       "<div>\n",
       "<style scoped>\n",
       "    .dataframe tbody tr th:only-of-type {\n",
       "        vertical-align: middle;\n",
       "    }\n",
       "\n",
       "    .dataframe tbody tr th {\n",
       "        vertical-align: top;\n",
       "    }\n",
       "\n",
       "    .dataframe thead th {\n",
       "        text-align: right;\n",
       "    }\n",
       "</style>\n",
       "<table border=\"1\" class=\"dataframe\">\n",
       "  <thead>\n",
       "    <tr style=\"text-align: right;\">\n",
       "      <th></th>\n",
       "      <th>Start time</th>\n",
       "      <th>End time</th>\n",
       "    </tr>\n",
       "  </thead>\n",
       "  <tbody>\n",
       "    <tr>\n",
       "      <th>0</th>\n",
       "      <td>2016-10-01 04:00:08+00:00</td>\n",
       "      <td>2016-10-01 04:09:47+00:00</td>\n",
       "    </tr>\n",
       "    <tr>\n",
       "      <th>1</th>\n",
       "      <td>2016-10-01 04:00:41+00:00</td>\n",
       "      <td>2016-10-01 04:11:07+00:00</td>\n",
       "    </tr>\n",
       "    <tr>\n",
       "      <th>2</th>\n",
       "      <td>2016-10-01 04:01:02+00:00</td>\n",
       "      <td>2016-10-01 04:15:52+00:00</td>\n",
       "    </tr>\n",
       "    <tr>\n",
       "      <th>3</th>\n",
       "      <td>2016-10-01 04:01:20+00:00</td>\n",
       "      <td>2016-10-01 04:15:04+00:00</td>\n",
       "    </tr>\n",
       "    <tr>\n",
       "      <th>4</th>\n",
       "      <td>2016-10-01 04:02:16+00:00</td>\n",
       "      <td>2016-10-01 04:04:29+00:00</td>\n",
       "    </tr>\n",
       "  </tbody>\n",
       "</table>\n",
       "</div>"
      ],
      "text/plain": [
       "                 Start time                  End time\n",
       "0 2016-10-01 04:00:08+00:00 2016-10-01 04:09:47+00:00\n",
       "1 2016-10-01 04:00:41+00:00 2016-10-01 04:11:07+00:00\n",
       "2 2016-10-01 04:01:02+00:00 2016-10-01 04:15:52+00:00\n",
       "3 2016-10-01 04:01:20+00:00 2016-10-01 04:15:04+00:00\n",
       "4 2016-10-01 04:02:16+00:00 2016-10-01 04:04:29+00:00"
      ]
     },
     "execution_count": 107,
     "metadata": {},
     "output_type": "execute_result"
    }
   ],
   "source": [
    "trips[[\"Start time\", \"End time\"]].head()"
   ]
  },
  {
   "cell_type": "markdown",
   "metadata": {
    "slideshow": {
     "slide_type": "slide"
    }
   },
   "source": [
    "### Selecting rows and columns \n",
    "\n",
    "`loc`  a more explicit alternative for selecting rows and/or columns"
   ]
  },
  {
   "cell_type": "markdown",
   "metadata": {},
   "source": [
    "**Syntax**: `DataFrame.loc[ROWS, COLUMNS]`"
   ]
  },
  {
   "cell_type": "code",
   "execution_count": 108,
   "metadata": {},
   "outputs": [
    {
     "data": {
      "text/html": [
       "<div>\n",
       "<style scoped>\n",
       "    .dataframe tbody tr th:only-of-type {\n",
       "        vertical-align: middle;\n",
       "    }\n",
       "\n",
       "    .dataframe tbody tr th {\n",
       "        vertical-align: top;\n",
       "    }\n",
       "\n",
       "    .dataframe thead th {\n",
       "        text-align: right;\n",
       "    }\n",
       "</style>\n",
       "<table border=\"1\" class=\"dataframe\">\n",
       "  <thead>\n",
       "    <tr style=\"text-align: right;\">\n",
       "      <th></th>\n",
       "      <th>Start time</th>\n",
       "      <th>End time</th>\n",
       "    </tr>\n",
       "  </thead>\n",
       "  <tbody>\n",
       "    <tr>\n",
       "      <th>1</th>\n",
       "      <td>2016-10-01 04:00:41+00:00</td>\n",
       "      <td>2016-10-01 04:11:07+00:00</td>\n",
       "    </tr>\n",
       "    <tr>\n",
       "      <th>5</th>\n",
       "      <td>2016-10-01 04:04:22+00:00</td>\n",
       "      <td>2016-10-01 04:24:40+00:00</td>\n",
       "    </tr>\n",
       "  </tbody>\n",
       "</table>\n",
       "</div>"
      ],
      "text/plain": [
       "                 Start time                  End time\n",
       "1 2016-10-01 04:00:41+00:00 2016-10-01 04:11:07+00:00\n",
       "5 2016-10-01 04:04:22+00:00 2016-10-01 04:24:40+00:00"
      ]
     },
     "execution_count": 108,
     "metadata": {},
     "output_type": "execute_result"
    }
   ],
   "source": [
    "trips.loc[[1,5], [\"Start time\", \"End time\"]]"
   ]
  },
  {
   "cell_type": "markdown",
   "metadata": {},
   "source": [
    "Use the : notation to select ranges of columns/rows."
   ]
  },
  {
   "cell_type": "markdown",
   "metadata": {
    "slideshow": {
     "slide_type": "slide"
    }
   },
   "source": [
    "### Selecting rows and columns based on indices\n",
    "\n",
    "`iloc` is the same is `loc` but expectes the index positions instead of column names (i.e. always uses intergers)"
   ]
  },
  {
   "cell_type": "markdown",
   "metadata": {},
   "source": [
    "**Syntax**: `DataFrame.iloc[ROWS, COLUMNS]`"
   ]
  },
  {
   "cell_type": "code",
   "execution_count": 109,
   "metadata": {},
   "outputs": [
    {
     "data": {
      "text/html": [
       "<div>\n",
       "<style scoped>\n",
       "    .dataframe tbody tr th:only-of-type {\n",
       "        vertical-align: middle;\n",
       "    }\n",
       "\n",
       "    .dataframe tbody tr th {\n",
       "        vertical-align: top;\n",
       "    }\n",
       "\n",
       "    .dataframe thead th {\n",
       "        text-align: right;\n",
       "    }\n",
       "</style>\n",
       "<table border=\"1\" class=\"dataframe\">\n",
       "  <thead>\n",
       "    <tr style=\"text-align: right;\">\n",
       "      <th></th>\n",
       "      <th>Start station</th>\n",
       "      <th>Start time</th>\n",
       "    </tr>\n",
       "  </thead>\n",
       "  <tbody>\n",
       "    <tr>\n",
       "      <th>0</th>\n",
       "      <td>283</td>\n",
       "      <td>2016-10-01 04:00:08+00:00</td>\n",
       "    </tr>\n",
       "    <tr>\n",
       "      <th>1</th>\n",
       "      <td>169</td>\n",
       "      <td>2016-10-01 04:00:41+00:00</td>\n",
       "    </tr>\n",
       "    <tr>\n",
       "      <th>2</th>\n",
       "      <td>211</td>\n",
       "      <td>2016-10-01 04:01:02+00:00</td>\n",
       "    </tr>\n",
       "    <tr>\n",
       "      <th>3</th>\n",
       "      <td>200</td>\n",
       "      <td>2016-10-01 04:01:20+00:00</td>\n",
       "    </tr>\n",
       "    <tr>\n",
       "      <th>4</th>\n",
       "      <td>157</td>\n",
       "      <td>2016-10-01 04:02:16+00:00</td>\n",
       "    </tr>\n",
       "  </tbody>\n",
       "</table>\n",
       "</div>"
      ],
      "text/plain": [
       "   Start station                Start time\n",
       "0            283 2016-10-01 04:00:08+00:00\n",
       "1            169 2016-10-01 04:00:41+00:00\n",
       "2            211 2016-10-01 04:01:02+00:00\n",
       "3            200 2016-10-01 04:01:20+00:00\n",
       "4            157 2016-10-01 04:02:16+00:00"
      ]
     },
     "execution_count": 109,
     "metadata": {},
     "output_type": "execute_result"
    }
   ],
   "source": [
    "trips.iloc[:5, 0:2]"
   ]
  },
  {
   "cell_type": "markdown",
   "metadata": {
    "slideshow": {
     "slide_type": "slide"
    }
   },
   "source": [
    "## Selecting based on values in columns\n",
    "\n",
    "Comparisons on a series produce a new series of booleans.\n",
    "This can be used to construct a \"mask\" of values that can be passed\n",
    "to loc or index-access:"
   ]
  },
  {
   "cell_type": "code",
   "execution_count": 110,
   "metadata": {},
   "outputs": [
    {
     "data": {
      "text/plain": [
       "0          True\n",
       "1         False\n",
       "2         False\n",
       "3         False\n",
       "4         False\n",
       "          ...  \n",
       "242753    False\n",
       "242754    False\n",
       "242755    False\n",
       "242756    False\n",
       "242757    False\n",
       "Name: Start station, Length: 242747, dtype: bool"
      ]
     },
     "execution_count": 110,
     "metadata": {},
     "output_type": "execute_result"
    }
   ],
   "source": [
    "trips[\"Start station\"] == 283"
   ]
  },
  {
   "cell_type": "code",
   "execution_count": 111,
   "metadata": {},
   "outputs": [
    {
     "data": {
      "text/plain": [
       "1321"
      ]
     },
     "execution_count": 111,
     "metadata": {},
     "output_type": "execute_result"
    }
   ],
   "source": [
    "(trips[\"Start station\"] == 283).sum()"
   ]
  },
  {
   "cell_type": "code",
   "execution_count": 112,
   "metadata": {},
   "outputs": [
    {
     "data": {
      "text/html": [
       "<div>\n",
       "<style scoped>\n",
       "    .dataframe tbody tr th:only-of-type {\n",
       "        vertical-align: middle;\n",
       "    }\n",
       "\n",
       "    .dataframe tbody tr th {\n",
       "        vertical-align: top;\n",
       "    }\n",
       "\n",
       "    .dataframe thead th {\n",
       "        text-align: right;\n",
       "    }\n",
       "</style>\n",
       "<table border=\"1\" class=\"dataframe\">\n",
       "  <thead>\n",
       "    <tr style=\"text-align: right;\">\n",
       "      <th></th>\n",
       "      <th>Start station</th>\n",
       "      <th>Start time</th>\n",
       "      <th>End station</th>\n",
       "      <th>End time</th>\n",
       "    </tr>\n",
       "  </thead>\n",
       "  <tbody>\n",
       "    <tr>\n",
       "      <th>0</th>\n",
       "      <td>283</td>\n",
       "      <td>2016-10-01 04:00:08+00:00</td>\n",
       "      <td>238</td>\n",
       "      <td>2016-10-01 04:09:47+00:00</td>\n",
       "    </tr>\n",
       "    <tr>\n",
       "      <th>359</th>\n",
       "      <td>283</td>\n",
       "      <td>2016-10-01 06:55:45+00:00</td>\n",
       "      <td>219</td>\n",
       "      <td>2016-10-01 07:01:49+00:00</td>\n",
       "    </tr>\n",
       "    <tr>\n",
       "      <th>486</th>\n",
       "      <td>283</td>\n",
       "      <td>2016-10-01 07:24:19+00:00</td>\n",
       "      <td>284</td>\n",
       "      <td>2016-10-01 07:28:29+00:00</td>\n",
       "    </tr>\n",
       "    <tr>\n",
       "      <th>572</th>\n",
       "      <td>283</td>\n",
       "      <td>2016-10-01 07:38:59+00:00</td>\n",
       "      <td>170</td>\n",
       "      <td>2016-10-01 07:41:09+00:00</td>\n",
       "    </tr>\n",
       "    <tr>\n",
       "      <th>650</th>\n",
       "      <td>283</td>\n",
       "      <td>2016-10-01 07:49:42+00:00</td>\n",
       "      <td>189</td>\n",
       "      <td>2016-10-01 07:53:22+00:00</td>\n",
       "    </tr>\n",
       "    <tr>\n",
       "      <th>...</th>\n",
       "      <td>...</td>\n",
       "      <td>...</td>\n",
       "      <td>...</td>\n",
       "      <td>...</td>\n",
       "    </tr>\n",
       "    <tr>\n",
       "      <th>242126</th>\n",
       "      <td>283</td>\n",
       "      <td>2016-10-31 18:43:21+00:00</td>\n",
       "      <td>267</td>\n",
       "      <td>2016-10-31 18:46:47+00:00</td>\n",
       "    </tr>\n",
       "    <tr>\n",
       "      <th>242140</th>\n",
       "      <td>283</td>\n",
       "      <td>2016-10-31 18:48:02+00:00</td>\n",
       "      <td>176</td>\n",
       "      <td>2016-10-31 18:52:59+00:00</td>\n",
       "    </tr>\n",
       "    <tr>\n",
       "      <th>242313</th>\n",
       "      <td>283</td>\n",
       "      <td>2016-10-31 19:46:46+00:00</td>\n",
       "      <td>222</td>\n",
       "      <td>2016-10-31 19:59:02+00:00</td>\n",
       "    </tr>\n",
       "    <tr>\n",
       "      <th>242357</th>\n",
       "      <td>283</td>\n",
       "      <td>2016-10-31 20:01:14+00:00</td>\n",
       "      <td>184</td>\n",
       "      <td>2016-10-31 20:05:26+00:00</td>\n",
       "    </tr>\n",
       "    <tr>\n",
       "      <th>242502</th>\n",
       "      <td>283</td>\n",
       "      <td>2016-10-31 21:00:13+00:00</td>\n",
       "      <td>284</td>\n",
       "      <td>2016-10-31 21:05:17+00:00</td>\n",
       "    </tr>\n",
       "  </tbody>\n",
       "</table>\n",
       "<p>1321 rows × 4 columns</p>\n",
       "</div>"
      ],
      "text/plain": [
       "        Start station                Start time  End station  \\\n",
       "0                 283 2016-10-01 04:00:08+00:00          238   \n",
       "359               283 2016-10-01 06:55:45+00:00          219   \n",
       "486               283 2016-10-01 07:24:19+00:00          284   \n",
       "572               283 2016-10-01 07:38:59+00:00          170   \n",
       "650               283 2016-10-01 07:49:42+00:00          189   \n",
       "...               ...                       ...          ...   \n",
       "242126            283 2016-10-31 18:43:21+00:00          267   \n",
       "242140            283 2016-10-31 18:48:02+00:00          176   \n",
       "242313            283 2016-10-31 19:46:46+00:00          222   \n",
       "242357            283 2016-10-31 20:01:14+00:00          184   \n",
       "242502            283 2016-10-31 21:00:13+00:00          284   \n",
       "\n",
       "                        End time  \n",
       "0      2016-10-01 04:09:47+00:00  \n",
       "359    2016-10-01 07:01:49+00:00  \n",
       "486    2016-10-01 07:28:29+00:00  \n",
       "572    2016-10-01 07:41:09+00:00  \n",
       "650    2016-10-01 07:53:22+00:00  \n",
       "...                          ...  \n",
       "242126 2016-10-31 18:46:47+00:00  \n",
       "242140 2016-10-31 18:52:59+00:00  \n",
       "242313 2016-10-31 19:59:02+00:00  \n",
       "242357 2016-10-31 20:05:26+00:00  \n",
       "242502 2016-10-31 21:05:17+00:00  \n",
       "\n",
       "[1321 rows x 4 columns]"
      ]
     },
     "execution_count": 112,
     "metadata": {},
     "output_type": "execute_result"
    }
   ],
   "source": [
    "trips[trips[\"Start station\"] == 283]"
   ]
  },
  {
   "cell_type": "markdown",
   "metadata": {
    "slideshow": {
     "slide_type": "slide"
    }
   },
   "source": [
    "We can even do complex arithmetic on columns"
   ]
  },
  {
   "cell_type": "code",
   "execution_count": 113,
   "metadata": {},
   "outputs": [
    {
     "data": {
      "text/plain": [
       "0        0 days 00:09:39\n",
       "1        0 days 00:10:26\n",
       "2        0 days 00:14:50\n",
       "3        0 days 00:13:44\n",
       "4        0 days 00:02:13\n",
       "               ...      \n",
       "242753   0 days 00:10:43\n",
       "242754   0 days 00:15:29\n",
       "242755   0 days 00:07:31\n",
       "242756   0 days 00:05:19\n",
       "242757   0 days 00:05:45\n",
       "Length: 242747, dtype: timedelta64[ns]"
      ]
     },
     "execution_count": 113,
     "metadata": {},
     "output_type": "execute_result"
    }
   ],
   "source": [
    "durations = trips[\"End time\"] - trips[\"Start time\"]\n",
    "durations"
   ]
  },
  {
   "cell_type": "code",
   "execution_count": 114,
   "metadata": {},
   "outputs": [
    {
     "data": {
      "text/plain": [
       "Timedelta('0 days 00:23:20')"
      ]
     },
     "execution_count": 114,
     "metadata": {},
     "output_type": "execute_result"
    }
   ],
   "source": [
    "durations.quantile(0.9)"
   ]
  },
  {
   "cell_type": "markdown",
   "metadata": {
    "slideshow": {
     "slide_type": "slide"
    }
   },
   "source": [
    "Anything that results in a boolean Series with the same index as a dataframe or series\n",
    "can be used to select a subset of data.\n",
    "\n",
    "This example says: give us the top 10% (above 90th percential) of trips by duration"
   ]
  },
  {
   "cell_type": "code",
   "execution_count": 115,
   "metadata": {},
   "outputs": [
    {
     "data": {
      "text/html": [
       "<div>\n",
       "<style scoped>\n",
       "    .dataframe tbody tr th:only-of-type {\n",
       "        vertical-align: middle;\n",
       "    }\n",
       "\n",
       "    .dataframe tbody tr th {\n",
       "        vertical-align: top;\n",
       "    }\n",
       "\n",
       "    .dataframe thead th {\n",
       "        text-align: right;\n",
       "    }\n",
       "</style>\n",
       "<table border=\"1\" class=\"dataframe\">\n",
       "  <thead>\n",
       "    <tr style=\"text-align: right;\">\n",
       "      <th></th>\n",
       "      <th>Start station</th>\n",
       "      <th>Start time</th>\n",
       "      <th>End station</th>\n",
       "      <th>End time</th>\n",
       "    </tr>\n",
       "  </thead>\n",
       "  <tbody>\n",
       "    <tr>\n",
       "      <th>33</th>\n",
       "      <td>285</td>\n",
       "      <td>2016-10-01 04:33:13+00:00</td>\n",
       "      <td>222</td>\n",
       "      <td>2016-10-01 05:57:49+00:00</td>\n",
       "    </tr>\n",
       "    <tr>\n",
       "      <th>41</th>\n",
       "      <td>277</td>\n",
       "      <td>2016-10-01 04:37:56+00:00</td>\n",
       "      <td>277</td>\n",
       "      <td>2016-10-01 05:30:49+00:00</td>\n",
       "    </tr>\n",
       "    <tr>\n",
       "      <th>52</th>\n",
       "      <td>183</td>\n",
       "      <td>2016-10-01 04:44:03+00:00</td>\n",
       "      <td>272</td>\n",
       "      <td>2016-10-01 05:08:39+00:00</td>\n",
       "    </tr>\n",
       "    <tr>\n",
       "      <th>64</th>\n",
       "      <td>208</td>\n",
       "      <td>2016-10-01 04:52:09+00:00</td>\n",
       "      <td>281</td>\n",
       "      <td>2016-10-01 14:08:30+00:00</td>\n",
       "    </tr>\n",
       "    <tr>\n",
       "      <th>109</th>\n",
       "      <td>251</td>\n",
       "      <td>2016-10-01 05:16:10+00:00</td>\n",
       "      <td>185</td>\n",
       "      <td>2016-10-01 09:54:50+00:00</td>\n",
       "    </tr>\n",
       "    <tr>\n",
       "      <th>...</th>\n",
       "      <td>...</td>\n",
       "      <td>...</td>\n",
       "      <td>...</td>\n",
       "      <td>...</td>\n",
       "    </tr>\n",
       "    <tr>\n",
       "      <th>242610</th>\n",
       "      <td>158</td>\n",
       "      <td>2016-10-31 21:42:49+00:00</td>\n",
       "      <td>158</td>\n",
       "      <td>2016-10-31 22:38:37+00:00</td>\n",
       "    </tr>\n",
       "    <tr>\n",
       "      <th>242632</th>\n",
       "      <td>257</td>\n",
       "      <td>2016-10-31 21:51:15+00:00</td>\n",
       "      <td>169</td>\n",
       "      <td>2016-10-31 23:29:49+00:00</td>\n",
       "    </tr>\n",
       "    <tr>\n",
       "      <th>242722</th>\n",
       "      <td>191</td>\n",
       "      <td>2016-10-31 22:31:43+00:00</td>\n",
       "      <td>253</td>\n",
       "      <td>2016-11-01 01:56:19+00:00</td>\n",
       "    </tr>\n",
       "    <tr>\n",
       "      <th>242744</th>\n",
       "      <td>189</td>\n",
       "      <td>2016-10-31 22:46:57+00:00</td>\n",
       "      <td>275</td>\n",
       "      <td>2016-11-01 00:45:11+00:00</td>\n",
       "    </tr>\n",
       "    <tr>\n",
       "      <th>242752</th>\n",
       "      <td>211</td>\n",
       "      <td>2016-10-31 22:52:24+00:00</td>\n",
       "      <td>281</td>\n",
       "      <td>2016-11-01 00:17:32+00:00</td>\n",
       "    </tr>\n",
       "  </tbody>\n",
       "</table>\n",
       "<p>24288 rows × 4 columns</p>\n",
       "</div>"
      ],
      "text/plain": [
       "        Start station                Start time  End station  \\\n",
       "33                285 2016-10-01 04:33:13+00:00          222   \n",
       "41                277 2016-10-01 04:37:56+00:00          277   \n",
       "52                183 2016-10-01 04:44:03+00:00          272   \n",
       "64                208 2016-10-01 04:52:09+00:00          281   \n",
       "109               251 2016-10-01 05:16:10+00:00          185   \n",
       "...               ...                       ...          ...   \n",
       "242610            158 2016-10-31 21:42:49+00:00          158   \n",
       "242632            257 2016-10-31 21:51:15+00:00          169   \n",
       "242722            191 2016-10-31 22:31:43+00:00          253   \n",
       "242744            189 2016-10-31 22:46:57+00:00          275   \n",
       "242752            211 2016-10-31 22:52:24+00:00          281   \n",
       "\n",
       "                        End time  \n",
       "33     2016-10-01 05:57:49+00:00  \n",
       "41     2016-10-01 05:30:49+00:00  \n",
       "52     2016-10-01 05:08:39+00:00  \n",
       "64     2016-10-01 14:08:30+00:00  \n",
       "109    2016-10-01 09:54:50+00:00  \n",
       "...                          ...  \n",
       "242610 2016-10-31 22:38:37+00:00  \n",
       "242632 2016-10-31 23:29:49+00:00  \n",
       "242722 2016-11-01 01:56:19+00:00  \n",
       "242744 2016-11-01 00:45:11+00:00  \n",
       "242752 2016-11-01 00:17:32+00:00  \n",
       "\n",
       "[24288 rows x 4 columns]"
      ]
     },
     "execution_count": 115,
     "metadata": {},
     "output_type": "execute_result"
    }
   ],
   "source": [
    "trips[durations >= durations.quantile(0.9)]"
   ]
  },
  {
   "cell_type": "markdown",
   "metadata": {},
   "source": [
    "Or specify a value. Pandas has lots of *very* useful convenience functions\n",
    "for comparing dates. You can often specify a string which pandas will interpret"
   ]
  },
  {
   "cell_type": "code",
   "execution_count": 116,
   "metadata": {},
   "outputs": [
    {
     "data": {
      "text/html": [
       "<div>\n",
       "<style scoped>\n",
       "    .dataframe tbody tr th:only-of-type {\n",
       "        vertical-align: middle;\n",
       "    }\n",
       "\n",
       "    .dataframe tbody tr th {\n",
       "        vertical-align: top;\n",
       "    }\n",
       "\n",
       "    .dataframe thead th {\n",
       "        text-align: right;\n",
       "    }\n",
       "</style>\n",
       "<table border=\"1\" class=\"dataframe\">\n",
       "  <thead>\n",
       "    <tr style=\"text-align: right;\">\n",
       "      <th></th>\n",
       "      <th>Start station</th>\n",
       "      <th>Start time</th>\n",
       "      <th>End station</th>\n",
       "      <th>End time</th>\n",
       "    </tr>\n",
       "  </thead>\n",
       "  <tbody>\n",
       "    <tr>\n",
       "      <th>178</th>\n",
       "      <td>243</td>\n",
       "      <td>2016-10-01 05:43:24+00:00</td>\n",
       "      <td>175</td>\n",
       "      <td>2016-10-18 07:53:19+00:00</td>\n",
       "    </tr>\n",
       "    <tr>\n",
       "      <th>963</th>\n",
       "      <td>226</td>\n",
       "      <td>2016-10-01 08:39:35+00:00</td>\n",
       "      <td>172</td>\n",
       "      <td>2016-10-06 17:09:17+00:00</td>\n",
       "    </tr>\n",
       "    <tr>\n",
       "      <th>1370</th>\n",
       "      <td>226</td>\n",
       "      <td>2016-10-01 09:35:22+00:00</td>\n",
       "      <td>173</td>\n",
       "      <td>2016-10-17 05:48:48+00:00</td>\n",
       "    </tr>\n",
       "    <tr>\n",
       "      <th>3629</th>\n",
       "      <td>199</td>\n",
       "      <td>2016-10-01 12:43:13+00:00</td>\n",
       "      <td>240</td>\n",
       "      <td>2016-10-03 21:08:30+00:00</td>\n",
       "    </tr>\n",
       "    <tr>\n",
       "      <th>4677</th>\n",
       "      <td>301</td>\n",
       "      <td>2016-10-01 13:59:43+00:00</td>\n",
       "      <td>176</td>\n",
       "      <td>2016-10-04 05:36:49+00:00</td>\n",
       "    </tr>\n",
       "    <tr>\n",
       "      <th>...</th>\n",
       "      <td>...</td>\n",
       "      <td>...</td>\n",
       "      <td>...</td>\n",
       "      <td>...</td>\n",
       "    </tr>\n",
       "    <tr>\n",
       "      <th>229348</th>\n",
       "      <td>204</td>\n",
       "      <td>2016-10-29 13:25:04+00:00</td>\n",
       "      <td>182</td>\n",
       "      <td>2016-10-31 07:37:25+00:00</td>\n",
       "    </tr>\n",
       "    <tr>\n",
       "      <th>229826</th>\n",
       "      <td>260</td>\n",
       "      <td>2016-10-29 14:13:46+00:00</td>\n",
       "      <td>219</td>\n",
       "      <td>2016-10-31 05:41:37+00:00</td>\n",
       "    </tr>\n",
       "    <tr>\n",
       "      <th>230667</th>\n",
       "      <td>267</td>\n",
       "      <td>2016-10-29 15:52:05+00:00</td>\n",
       "      <td>277</td>\n",
       "      <td>2016-10-30 18:40:50+00:00</td>\n",
       "    </tr>\n",
       "    <tr>\n",
       "      <th>232648</th>\n",
       "      <td>229</td>\n",
       "      <td>2016-10-30 06:38:10+00:00</td>\n",
       "      <td>287</td>\n",
       "      <td>2016-10-31 08:05:02+00:00</td>\n",
       "    </tr>\n",
       "    <tr>\n",
       "      <th>233168</th>\n",
       "      <td>237</td>\n",
       "      <td>2016-10-30 10:25:03+00:00</td>\n",
       "      <td>264</td>\n",
       "      <td>2016-10-31 19:06:35+00:00</td>\n",
       "    </tr>\n",
       "  </tbody>\n",
       "</table>\n",
       "<p>291 rows × 4 columns</p>\n",
       "</div>"
      ],
      "text/plain": [
       "        Start station                Start time  End station  \\\n",
       "178               243 2016-10-01 05:43:24+00:00          175   \n",
       "963               226 2016-10-01 08:39:35+00:00          172   \n",
       "1370              226 2016-10-01 09:35:22+00:00          173   \n",
       "3629              199 2016-10-01 12:43:13+00:00          240   \n",
       "4677              301 2016-10-01 13:59:43+00:00          176   \n",
       "...               ...                       ...          ...   \n",
       "229348            204 2016-10-29 13:25:04+00:00          182   \n",
       "229826            260 2016-10-29 14:13:46+00:00          219   \n",
       "230667            267 2016-10-29 15:52:05+00:00          277   \n",
       "232648            229 2016-10-30 06:38:10+00:00          287   \n",
       "233168            237 2016-10-30 10:25:03+00:00          264   \n",
       "\n",
       "                        End time  \n",
       "178    2016-10-18 07:53:19+00:00  \n",
       "963    2016-10-06 17:09:17+00:00  \n",
       "1370   2016-10-17 05:48:48+00:00  \n",
       "3629   2016-10-03 21:08:30+00:00  \n",
       "4677   2016-10-04 05:36:49+00:00  \n",
       "...                          ...  \n",
       "229348 2016-10-31 07:37:25+00:00  \n",
       "229826 2016-10-31 05:41:37+00:00  \n",
       "230667 2016-10-30 18:40:50+00:00  \n",
       "232648 2016-10-31 08:05:02+00:00  \n",
       "233168 2016-10-31 19:06:35+00:00  \n",
       "\n",
       "[291 rows x 4 columns]"
      ]
     },
     "execution_count": 116,
     "metadata": {},
     "output_type": "execute_result"
    }
   ],
   "source": [
    "trips[durations >= \"1 day\"]"
   ]
  },
  {
   "cell_type": "markdown",
   "metadata": {
    "slideshow": {
     "slide_type": "slide"
    }
   },
   "source": [
    "## Special handling of strings and datetime\n",
    "\n",
    "Series with datetime data or strings have special accessor methods for working with that kind of data\n",
    "by accessing a `.dt` or `.str` attribute, giving access to "
   ]
  },
  {
   "cell_type": "code",
   "execution_count": 118,
   "metadata": {},
   "outputs": [
    {
     "data": {
      "text/plain": [
       "0         5\n",
       "1         5\n",
       "2         5\n",
       "3         5\n",
       "4         5\n",
       "         ..\n",
       "242753    0\n",
       "242754    0\n",
       "242755    0\n",
       "242756    0\n",
       "242757    0\n",
       "Name: Start time, Length: 242747, dtype: int32"
      ]
     },
     "execution_count": 118,
     "metadata": {},
     "output_type": "execute_result"
    }
   ],
   "source": [
    "trips[\"Start time\"].dt.weekday"
   ]
  },
  {
   "cell_type": "markdown",
   "metadata": {},
   "source": [
    "Boolean series can be combined using Python's bitwise or (`|`) and bitwise and (`&`) operators.\n",
    "So we can find late-night trips, i.e. those that start between 22:00 and 04:00"
   ]
  },
  {
   "cell_type": "code",
   "execution_count": null,
   "metadata": {},
   "outputs": [],
   "source": [
    "trips[(trips[\"Start time\"].dt.hour >= 22) | (trips[\"Start time\"].dt.hour <= 3)]"
   ]
  },
  {
   "cell_type": "markdown",
   "metadata": {
    "slideshow": {
     "slide_type": "slide"
    }
   },
   "source": [
    "## GroupBy\n",
    "\n",
    "grouping is like creating a dictionary of dataframes for subsets of your data.\n",
    "You can group by any kind of value.\n",
    "The result is like a dictionary of data frames,\n",
    "where each one contains a subset of data matching some criterion."
   ]
  },
  {
   "cell_type": "markdown",
   "metadata": {},
   "source": [
    "You can pass groupby one or more column names to group by unique values on that column"
   ]
  },
  {
   "cell_type": "code",
   "execution_count": 119,
   "metadata": {},
   "outputs": [
    {
     "data": {
      "text/html": [
       "<div>\n",
       "<style scoped>\n",
       "    .dataframe tbody tr th:only-of-type {\n",
       "        vertical-align: middle;\n",
       "    }\n",
       "\n",
       "    .dataframe tbody tr th {\n",
       "        vertical-align: top;\n",
       "    }\n",
       "\n",
       "    .dataframe thead th {\n",
       "        text-align: right;\n",
       "    }\n",
       "</style>\n",
       "<table border=\"1\" class=\"dataframe\">\n",
       "  <thead>\n",
       "    <tr style=\"text-align: right;\">\n",
       "      <th></th>\n",
       "      <th>Start time</th>\n",
       "      <th>End station</th>\n",
       "      <th>End time</th>\n",
       "    </tr>\n",
       "    <tr>\n",
       "      <th>Start station</th>\n",
       "      <th></th>\n",
       "      <th></th>\n",
       "      <th></th>\n",
       "    </tr>\n",
       "  </thead>\n",
       "  <tbody>\n",
       "    <tr>\n",
       "      <th>157</th>\n",
       "      <td>2108</td>\n",
       "      <td>2108</td>\n",
       "      <td>2108</td>\n",
       "    </tr>\n",
       "    <tr>\n",
       "      <th>158</th>\n",
       "      <td>1465</td>\n",
       "      <td>1465</td>\n",
       "      <td>1465</td>\n",
       "    </tr>\n",
       "    <tr>\n",
       "      <th>159</th>\n",
       "      <td>1597</td>\n",
       "      <td>1597</td>\n",
       "      <td>1597</td>\n",
       "    </tr>\n",
       "    <tr>\n",
       "      <th>160</th>\n",
       "      <td>1121</td>\n",
       "      <td>1121</td>\n",
       "      <td>1121</td>\n",
       "    </tr>\n",
       "    <tr>\n",
       "      <th>161</th>\n",
       "      <td>2444</td>\n",
       "      <td>2444</td>\n",
       "      <td>2444</td>\n",
       "    </tr>\n",
       "    <tr>\n",
       "      <th>...</th>\n",
       "      <td>...</td>\n",
       "      <td>...</td>\n",
       "      <td>...</td>\n",
       "    </tr>\n",
       "    <tr>\n",
       "      <th>305</th>\n",
       "      <td>621</td>\n",
       "      <td>621</td>\n",
       "      <td>621</td>\n",
       "    </tr>\n",
       "    <tr>\n",
       "      <th>306</th>\n",
       "      <td>1414</td>\n",
       "      <td>1414</td>\n",
       "      <td>1414</td>\n",
       "    </tr>\n",
       "    <tr>\n",
       "      <th>307</th>\n",
       "      <td>256</td>\n",
       "      <td>256</td>\n",
       "      <td>256</td>\n",
       "    </tr>\n",
       "    <tr>\n",
       "      <th>308</th>\n",
       "      <td>257</td>\n",
       "      <td>257</td>\n",
       "      <td>257</td>\n",
       "    </tr>\n",
       "    <tr>\n",
       "      <th>309</th>\n",
       "      <td>464</td>\n",
       "      <td>464</td>\n",
       "      <td>464</td>\n",
       "    </tr>\n",
       "  </tbody>\n",
       "</table>\n",
       "<p>131 rows × 3 columns</p>\n",
       "</div>"
      ],
      "text/plain": [
       "               Start time  End station  End time\n",
       "Start station                                   \n",
       "157                  2108         2108      2108\n",
       "158                  1465         1465      1465\n",
       "159                  1597         1597      1597\n",
       "160                  1121         1121      1121\n",
       "161                  2444         2444      2444\n",
       "...                   ...          ...       ...\n",
       "305                   621          621       621\n",
       "306                  1414         1414      1414\n",
       "307                   256          256       256\n",
       "308                   257          257       257\n",
       "309                   464          464       464\n",
       "\n",
       "[131 rows x 3 columns]"
      ]
     },
     "execution_count": 119,
     "metadata": {},
     "output_type": "execute_result"
    }
   ],
   "source": [
    "trips.groupby(\"Start station\").count()"
   ]
  },
  {
   "cell_type": "markdown",
   "metadata": {},
   "source": [
    "groupby can be expensive, so it delays actual operations as late as possible"
   ]
  },
  {
   "cell_type": "code",
   "execution_count": 120,
   "metadata": {},
   "outputs": [
    {
     "data": {
      "text/plain": [
       "<pandas.core.groupby.generic.SeriesGroupBy object at 0x161176b60>"
      ]
     },
     "execution_count": 120,
     "metadata": {},
     "output_type": "execute_result"
    }
   ],
   "source": [
    "trips.groupby(\"Start station\")[\"End station\"]"
   ]
  },
  {
   "cell_type": "markdown",
   "metadata": {
    "slideshow": {
     "slide_type": "slide"
    }
   },
   "source": [
    "Metrics such as `count`, `unique`, `value_counts` etc. result in actual evaluation"
   ]
  },
  {
   "cell_type": "code",
   "execution_count": 121,
   "metadata": {},
   "outputs": [
    {
     "data": {
      "text/plain": [
       "Start station\n",
       "157    2108\n",
       "158    1465\n",
       "159    1597\n",
       "160    1121\n",
       "161    2444\n",
       "       ... \n",
       "305     621\n",
       "306    1414\n",
       "307     256\n",
       "308     257\n",
       "309     464\n",
       "Name: End station, Length: 131, dtype: int64"
      ]
     },
     "execution_count": 121,
     "metadata": {},
     "output_type": "execute_result"
    }
   ],
   "source": [
    "trips.groupby(\"Start station\")[\"End station\"].count()"
   ]
  },
  {
   "cell_type": "markdown",
   "metadata": {
    "slideshow": {
     "slide_type": "slide"
    }
   },
   "source": [
    "`.value_counts()` creates a Series, so we have a two-level index:"
   ]
  },
  {
   "cell_type": "code",
   "execution_count": 122,
   "metadata": {},
   "outputs": [
    {
     "data": {
      "text/plain": [
       "Start station  End station\n",
       "157            211            165\n",
       "               157            125\n",
       "               163            112\n",
       "               186             96\n",
       "               277             94\n",
       "                             ... \n",
       "309            238              1\n",
       "               177              1\n",
       "               192              1\n",
       "               193              1\n",
       "               275              1\n",
       "Name: count, Length: 13969, dtype: int64"
      ]
     },
     "execution_count": 122,
     "metadata": {},
     "output_type": "execute_result"
    }
   ],
   "source": [
    "trips.groupby(\"Start station\")[\"End station\"].value_counts()"
   ]
  },
  {
   "cell_type": "code",
   "execution_count": 123,
   "metadata": {},
   "outputs": [
    {
     "data": {
      "text/plain": [
       "End station\n",
       "211    165\n",
       "157    125\n",
       "163    112\n",
       "186     96\n",
       "277     94\n",
       "      ... \n",
       "268      1\n",
       "307      1\n",
       "265      1\n",
       "249      1\n",
       "170      1\n",
       "Name: count, Length: 101, dtype: int64"
      ]
     },
     "execution_count": 123,
     "metadata": {},
     "output_type": "execute_result"
    }
   ],
   "source": [
    "trips.groupby(\"Start station\")[\"End station\"].value_counts()[157]"
   ]
  },
  {
   "cell_type": "markdown",
   "metadata": {
    "slideshow": {
     "slide_type": "slide"
    }
   },
   "source": [
    "We can use groupby to count the number of trips that start on each weekday:"
   ]
  },
  {
   "cell_type": "code",
   "execution_count": 124,
   "metadata": {},
   "outputs": [
    {
     "data": {
      "text/html": [
       "<div>\n",
       "<style scoped>\n",
       "    .dataframe tbody tr th:only-of-type {\n",
       "        vertical-align: middle;\n",
       "    }\n",
       "\n",
       "    .dataframe tbody tr th {\n",
       "        vertical-align: top;\n",
       "    }\n",
       "\n",
       "    .dataframe thead th {\n",
       "        text-align: right;\n",
       "    }\n",
       "</style>\n",
       "<table border=\"1\" class=\"dataframe\">\n",
       "  <thead>\n",
       "    <tr style=\"text-align: right;\">\n",
       "      <th></th>\n",
       "      <th>Start station</th>\n",
       "      <th>Start time</th>\n",
       "      <th>End station</th>\n",
       "      <th>End time</th>\n",
       "    </tr>\n",
       "    <tr>\n",
       "      <th>Start time</th>\n",
       "      <th></th>\n",
       "      <th></th>\n",
       "      <th></th>\n",
       "      <th></th>\n",
       "    </tr>\n",
       "  </thead>\n",
       "  <tbody>\n",
       "    <tr>\n",
       "      <th>0</th>\n",
       "      <td>40525</td>\n",
       "      <td>40525</td>\n",
       "      <td>40525</td>\n",
       "      <td>40525</td>\n",
       "    </tr>\n",
       "    <tr>\n",
       "      <th>1</th>\n",
       "      <td>36905</td>\n",
       "      <td>36905</td>\n",
       "      <td>36905</td>\n",
       "      <td>36905</td>\n",
       "    </tr>\n",
       "    <tr>\n",
       "      <th>2</th>\n",
       "      <td>36465</td>\n",
       "      <td>36465</td>\n",
       "      <td>36465</td>\n",
       "      <td>36465</td>\n",
       "    </tr>\n",
       "    <tr>\n",
       "      <th>3</th>\n",
       "      <td>36989</td>\n",
       "      <td>36989</td>\n",
       "      <td>36989</td>\n",
       "      <td>36989</td>\n",
       "    </tr>\n",
       "    <tr>\n",
       "      <th>4</th>\n",
       "      <td>35199</td>\n",
       "      <td>35199</td>\n",
       "      <td>35199</td>\n",
       "      <td>35199</td>\n",
       "    </tr>\n",
       "    <tr>\n",
       "      <th>5</th>\n",
       "      <td>32122</td>\n",
       "      <td>32122</td>\n",
       "      <td>32122</td>\n",
       "      <td>32122</td>\n",
       "    </tr>\n",
       "    <tr>\n",
       "      <th>6</th>\n",
       "      <td>24542</td>\n",
       "      <td>24542</td>\n",
       "      <td>24542</td>\n",
       "      <td>24542</td>\n",
       "    </tr>\n",
       "  </tbody>\n",
       "</table>\n",
       "</div>"
      ],
      "text/plain": [
       "            Start station  Start time  End station  End time\n",
       "Start time                                                  \n",
       "0                   40525       40525        40525     40525\n",
       "1                   36905       36905        36905     36905\n",
       "2                   36465       36465        36465     36465\n",
       "3                   36989       36989        36989     36989\n",
       "4                   35199       35199        35199     35199\n",
       "5                   32122       32122        32122     32122\n",
       "6                   24542       24542        24542     24542"
      ]
     },
     "execution_count": 124,
     "metadata": {},
     "output_type": "execute_result"
    }
   ],
   "source": [
    "trips.groupby(trips[\"Start time\"].dt.weekday).count()"
   ]
  },
  {
   "cell_type": "code",
   "execution_count": 125,
   "metadata": {},
   "outputs": [
    {
     "data": {
      "text/plain": [
       "Start time\n",
       "0    40525\n",
       "1    36905\n",
       "2    36465\n",
       "3    36989\n",
       "4    35199\n",
       "5    32122\n",
       "6    24542\n",
       "Name: Start station, dtype: int64"
      ]
     },
     "execution_count": 125,
     "metadata": {},
     "output_type": "execute_result"
    }
   ],
   "source": [
    "trips.groupby(trips[\"Start time\"].dt.weekday)[\"Start station\"].count()"
   ]
  },
  {
   "cell_type": "code",
   "execution_count": 126,
   "metadata": {},
   "outputs": [
    {
     "name": "stdout",
     "output_type": "stream",
     "text": [
      "Start time       \n",
      "0           False    0.32%\n",
      "            True    99.68%\n",
      "1           False    0.34%\n",
      "            True    99.66%\n",
      "2           False    0.28%\n",
      "            True    99.72%\n",
      "3           False    0.34%\n",
      "            True    99.66%\n",
      "4           False    0.32%\n",
      "            True    99.68%\n",
      "5           False    0.47%\n",
      "            True    99.53%\n",
      "6           False    0.53%\n",
      "            True    99.47%\n"
     ]
    }
   ],
   "source": [
    "by_day = trips.groupby(trips[\"Start time\"].dt.weekday)\n",
    "grouped = trips.groupby([trips[\"Start time\"].dt.weekday, trips[\"Start time\"].dt.day == trips[\"End time\"].dt.day])\n",
    "print((grouped.count() / by_day.count())[\"Start station\"].to_string(float_format=\"{:,.2%}\".format))"
   ]
  },
  {
   "cell_type": "code",
   "execution_count": 127,
   "metadata": {},
   "outputs": [
    {
     "data": {
      "text/html": [
       "<div>\n",
       "<style scoped>\n",
       "    .dataframe tbody tr th:only-of-type {\n",
       "        vertical-align: middle;\n",
       "    }\n",
       "\n",
       "    .dataframe tbody tr th {\n",
       "        vertical-align: top;\n",
       "    }\n",
       "\n",
       "    .dataframe thead th {\n",
       "        text-align: right;\n",
       "    }\n",
       "</style>\n",
       "<table border=\"1\" class=\"dataframe\">\n",
       "  <thead>\n",
       "    <tr style=\"text-align: right;\">\n",
       "      <th></th>\n",
       "      <th>Start station</th>\n",
       "      <th>Start time</th>\n",
       "      <th>End station</th>\n",
       "      <th>End time</th>\n",
       "    </tr>\n",
       "    <tr>\n",
       "      <th>Start time</th>\n",
       "      <th></th>\n",
       "      <th></th>\n",
       "      <th></th>\n",
       "      <th></th>\n",
       "    </tr>\n",
       "  </thead>\n",
       "  <tbody>\n",
       "    <tr>\n",
       "      <th>0</th>\n",
       "      <td>40525</td>\n",
       "      <td>40525</td>\n",
       "      <td>40525</td>\n",
       "      <td>40525</td>\n",
       "    </tr>\n",
       "    <tr>\n",
       "      <th>1</th>\n",
       "      <td>36905</td>\n",
       "      <td>36905</td>\n",
       "      <td>36905</td>\n",
       "      <td>36905</td>\n",
       "    </tr>\n",
       "    <tr>\n",
       "      <th>2</th>\n",
       "      <td>36465</td>\n",
       "      <td>36465</td>\n",
       "      <td>36465</td>\n",
       "      <td>36465</td>\n",
       "    </tr>\n",
       "    <tr>\n",
       "      <th>3</th>\n",
       "      <td>36989</td>\n",
       "      <td>36989</td>\n",
       "      <td>36989</td>\n",
       "      <td>36989</td>\n",
       "    </tr>\n",
       "    <tr>\n",
       "      <th>4</th>\n",
       "      <td>35199</td>\n",
       "      <td>35199</td>\n",
       "      <td>35199</td>\n",
       "      <td>35199</td>\n",
       "    </tr>\n",
       "    <tr>\n",
       "      <th>5</th>\n",
       "      <td>32122</td>\n",
       "      <td>32122</td>\n",
       "      <td>32122</td>\n",
       "      <td>32122</td>\n",
       "    </tr>\n",
       "    <tr>\n",
       "      <th>6</th>\n",
       "      <td>24542</td>\n",
       "      <td>24542</td>\n",
       "      <td>24542</td>\n",
       "      <td>24542</td>\n",
       "    </tr>\n",
       "  </tbody>\n",
       "</table>\n",
       "</div>"
      ],
      "text/plain": [
       "            Start station  Start time  End station  End time\n",
       "Start time                                                  \n",
       "0                   40525       40525        40525     40525\n",
       "1                   36905       36905        36905     36905\n",
       "2                   36465       36465        36465     36465\n",
       "3                   36989       36989        36989     36989\n",
       "4                   35199       35199        35199     35199\n",
       "5                   32122       32122        32122     32122\n",
       "6                   24542       24542        24542     24542"
      ]
     },
     "execution_count": 127,
     "metadata": {},
     "output_type": "execute_result"
    }
   ],
   "source": [
    "by_day = trips.groupby(trips[\"Start time\"].dt.weekday)\n",
    "by_day.count()"
   ]
  },
  {
   "cell_type": "code",
   "execution_count": 128,
   "metadata": {},
   "outputs": [
    {
     "data": {
      "text/html": [
       "<div>\n",
       "<style scoped>\n",
       "    .dataframe tbody tr th:only-of-type {\n",
       "        vertical-align: middle;\n",
       "    }\n",
       "\n",
       "    .dataframe tbody tr th {\n",
       "        vertical-align: top;\n",
       "    }\n",
       "\n",
       "    .dataframe thead th {\n",
       "        text-align: right;\n",
       "    }\n",
       "</style>\n",
       "<table border=\"1\" class=\"dataframe\">\n",
       "  <thead>\n",
       "    <tr style=\"text-align: right;\">\n",
       "      <th></th>\n",
       "      <th></th>\n",
       "      <th>Start station</th>\n",
       "      <th>Start time</th>\n",
       "      <th>End station</th>\n",
       "      <th>End time</th>\n",
       "    </tr>\n",
       "    <tr>\n",
       "      <th>Start time</th>\n",
       "      <th></th>\n",
       "      <th></th>\n",
       "      <th></th>\n",
       "      <th></th>\n",
       "      <th></th>\n",
       "    </tr>\n",
       "  </thead>\n",
       "  <tbody>\n",
       "    <tr>\n",
       "      <th rowspan=\"2\" valign=\"top\">0</th>\n",
       "      <th>False</th>\n",
       "      <td>128</td>\n",
       "      <td>128</td>\n",
       "      <td>128</td>\n",
       "      <td>128</td>\n",
       "    </tr>\n",
       "    <tr>\n",
       "      <th>True</th>\n",
       "      <td>40397</td>\n",
       "      <td>40397</td>\n",
       "      <td>40397</td>\n",
       "      <td>40397</td>\n",
       "    </tr>\n",
       "    <tr>\n",
       "      <th rowspan=\"2\" valign=\"top\">1</th>\n",
       "      <th>False</th>\n",
       "      <td>125</td>\n",
       "      <td>125</td>\n",
       "      <td>125</td>\n",
       "      <td>125</td>\n",
       "    </tr>\n",
       "    <tr>\n",
       "      <th>True</th>\n",
       "      <td>36780</td>\n",
       "      <td>36780</td>\n",
       "      <td>36780</td>\n",
       "      <td>36780</td>\n",
       "    </tr>\n",
       "    <tr>\n",
       "      <th rowspan=\"2\" valign=\"top\">2</th>\n",
       "      <th>False</th>\n",
       "      <td>103</td>\n",
       "      <td>103</td>\n",
       "      <td>103</td>\n",
       "      <td>103</td>\n",
       "    </tr>\n",
       "    <tr>\n",
       "      <th>True</th>\n",
       "      <td>36362</td>\n",
       "      <td>36362</td>\n",
       "      <td>36362</td>\n",
       "      <td>36362</td>\n",
       "    </tr>\n",
       "    <tr>\n",
       "      <th rowspan=\"2\" valign=\"top\">3</th>\n",
       "      <th>False</th>\n",
       "      <td>124</td>\n",
       "      <td>124</td>\n",
       "      <td>124</td>\n",
       "      <td>124</td>\n",
       "    </tr>\n",
       "    <tr>\n",
       "      <th>True</th>\n",
       "      <td>36865</td>\n",
       "      <td>36865</td>\n",
       "      <td>36865</td>\n",
       "      <td>36865</td>\n",
       "    </tr>\n",
       "    <tr>\n",
       "      <th rowspan=\"2\" valign=\"top\">4</th>\n",
       "      <th>False</th>\n",
       "      <td>111</td>\n",
       "      <td>111</td>\n",
       "      <td>111</td>\n",
       "      <td>111</td>\n",
       "    </tr>\n",
       "    <tr>\n",
       "      <th>True</th>\n",
       "      <td>35088</td>\n",
       "      <td>35088</td>\n",
       "      <td>35088</td>\n",
       "      <td>35088</td>\n",
       "    </tr>\n",
       "    <tr>\n",
       "      <th rowspan=\"2\" valign=\"top\">5</th>\n",
       "      <th>False</th>\n",
       "      <td>151</td>\n",
       "      <td>151</td>\n",
       "      <td>151</td>\n",
       "      <td>151</td>\n",
       "    </tr>\n",
       "    <tr>\n",
       "      <th>True</th>\n",
       "      <td>31971</td>\n",
       "      <td>31971</td>\n",
       "      <td>31971</td>\n",
       "      <td>31971</td>\n",
       "    </tr>\n",
       "    <tr>\n",
       "      <th rowspan=\"2\" valign=\"top\">6</th>\n",
       "      <th>False</th>\n",
       "      <td>131</td>\n",
       "      <td>131</td>\n",
       "      <td>131</td>\n",
       "      <td>131</td>\n",
       "    </tr>\n",
       "    <tr>\n",
       "      <th>True</th>\n",
       "      <td>24411</td>\n",
       "      <td>24411</td>\n",
       "      <td>24411</td>\n",
       "      <td>24411</td>\n",
       "    </tr>\n",
       "  </tbody>\n",
       "</table>\n",
       "</div>"
      ],
      "text/plain": [
       "                  Start station  Start time  End station  End time\n",
       "Start time                                                        \n",
       "0          False            128         128          128       128\n",
       "           True           40397       40397        40397     40397\n",
       "1          False            125         125          125       125\n",
       "           True           36780       36780        36780     36780\n",
       "2          False            103         103          103       103\n",
       "           True           36362       36362        36362     36362\n",
       "3          False            124         124          124       124\n",
       "           True           36865       36865        36865     36865\n",
       "4          False            111         111          111       111\n",
       "           True           35088       35088        35088     35088\n",
       "5          False            151         151          151       151\n",
       "           True           31971       31971        31971     31971\n",
       "6          False            131         131          131       131\n",
       "           True           24411       24411        24411     24411"
      ]
     },
     "execution_count": 128,
     "metadata": {},
     "output_type": "execute_result"
    }
   ],
   "source": [
    "grouped = trips.groupby([trips[\"Start time\"].dt.weekday, trips[\"Start time\"].dt.day == trips[\"End time\"].dt.day])\n",
    "grouped.count()"
   ]
  },
  {
   "cell_type": "code",
   "execution_count": 129,
   "metadata": {},
   "outputs": [
    {
     "data": {
      "text/plain": [
       "Start time       \n",
       "0           False    0.003159\n",
       "            True     0.996841\n",
       "1           False    0.003387\n",
       "            True     0.996613\n",
       "2           False    0.002825\n",
       "            True     0.997175\n",
       "3           False    0.003352\n",
       "            True     0.996648\n",
       "4           False    0.003153\n",
       "            True     0.996847\n",
       "5           False    0.004701\n",
       "            True     0.995299\n",
       "6           False    0.005338\n",
       "            True     0.994662\n",
       "Name: Start station, dtype: float64"
      ]
     },
     "execution_count": 129,
     "metadata": {},
     "output_type": "execute_result"
    }
   ],
   "source": [
    "s = (grouped.count() / by_day.count())[\"Start station\"]\n",
    "s"
   ]
  },
  {
   "cell_type": "code",
   "execution_count": 130,
   "metadata": {},
   "outputs": [
    {
     "name": "stdout",
     "output_type": "stream",
     "text": [
      "Start time       \n",
      "0           False    0.32%\n",
      "            True    99.68%\n",
      "1           False    0.34%\n",
      "            True    99.66%\n",
      "2           False    0.28%\n",
      "            True    99.72%\n",
      "3           False    0.34%\n",
      "            True    99.66%\n",
      "4           False    0.32%\n",
      "            True    99.68%\n",
      "5           False    0.47%\n",
      "            True    99.53%\n",
      "6           False    0.53%\n",
      "            True    99.47%\n"
     ]
    }
   ],
   "source": [
    "print(s.to_string(float_format=\"{:,.2%}\".format))"
   ]
  },
  {
   "cell_type": "markdown",
   "metadata": {
    "slideshow": {
     "slide_type": "slide"
    }
   },
   "source": [
    "## Visualisation"
   ]
  },
  {
   "cell_type": "markdown",
   "metadata": {},
   "source": [
    "We can use the `plot` class method to plot our data table:"
   ]
  },
  {
   "cell_type": "code",
   "execution_count": 131,
   "metadata": {},
   "outputs": [
    {
     "data": {
      "image/png": "[encoded data removed]",
      "text/plain": [
       "<Figure size 640x480 with 1 Axes>"
      ]
     },
     "metadata": {},
     "output_type": "display_data"
    }
   ],
   "source": [
    "trips['Start time'].plot();\n"
   ]
  },
  {
   "cell_type": "markdown",
   "metadata": {},
   "source": [
    "By default, the DataFrame index is used to label the x-axis."
   ]
  }
 ],
 "metadata": {
  "kernelspec": {
   "display_name": "Python 3 (ipykernel)",
   "language": "python",
   "name": "python3"
  },
  "language_info": {
   "codemirror_mode": {
    "name": "ipython",
    "version": 3
   },
   "file_extension": ".py",
   "mimetype": "text/x-python",
   "name": "python",
   "nbconvert_exporter": "python",
   "pygments_lexer": "ipython3",
   "version": "3.10.8"
  }
 },
 "nbformat": 4,
 "nbformat_minor": 2
}
